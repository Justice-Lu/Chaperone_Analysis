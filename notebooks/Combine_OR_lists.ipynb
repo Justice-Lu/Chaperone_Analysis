{
 "cells": [
  {
   "cell_type": "markdown",
   "id": "bc8be05a",
   "metadata": {},
   "source": [
    "Goal of this notebook is to combine a sheet of ORs that has information of RTP1S expression and other information of uOR oOR "
   ]
  },
  {
   "cell_type": "code",
   "execution_count": 1,
   "id": "77efbd87",
   "metadata": {},
   "outputs": [],
   "source": [
    "import os \n",
    "import pandas as pd \n",
    "import numpy as np "
   ]
  },
  {
   "cell_type": "code",
   "execution_count": 82,
   "id": "eb1d22a8",
   "metadata": {},
   "outputs": [],
   "source": [
    "# Read in the datatables to join \n",
    "OR_data = pd.read_csv('../../FACS/OR_RTP1_all_data_JT.csv', index_col=0).iloc[:,0:7]\n",
    "oOR = pd.read_csv('../file/bk_rnaseq/oOR_Matsunami.csv')\n",
    "uOR = pd.read_csv('../file/bk_rnaseq/uOR_Matsunami.csv')"
   ]
  },
  {
   "cell_type": "code",
   "execution_count": 83,
   "id": "a102dcb6",
   "metadata": {
    "scrolled": true
   },
   "outputs": [],
   "source": [
    "# reformat OR_data to join \n",
    "OR_data.columns = OR_data.columns.str.replace('Sample', 'id')\n",
    "OR_data.id = OR_data.id.str.capitalize()\n",
    "OR_data = OR_data.set_index('id')\n",
    "\n",
    "uOR = uOR.set_index('id')\n",
    "uOR['Rtp_dependent'] = 'uOR'\n",
    "oOR = oOR.set_index('id')\n",
    "oOR['Rtp_dependent'] = 'oOR'\n",
    "OR_rtp_dependent = oOR.append(uOR)"
   ]
  },
  {
   "cell_type": "code",
   "execution_count": 90,
   "id": "1f20b577",
   "metadata": {
    "scrolled": true
   },
   "outputs": [],
   "source": [
    "OR_data = OR_data.join(OR_rtp_dependent, on='id')"
   ]
  },
  {
   "cell_type": "code",
   "execution_count": 92,
   "id": "3833ce75",
   "metadata": {},
   "outputs": [],
   "source": [
    "OR_data.to_csv('../output/OR_RTP_dependency.csv')"
   ]
  },
  {
   "cell_type": "code",
   "execution_count": null,
   "id": "33709788",
   "metadata": {},
   "outputs": [],
   "source": []
  }
 ],
 "metadata": {
  "kernelspec": {
   "display_name": "Python 3 (ipykernel)",
   "language": "python",
   "name": "python3"
  },
  "language_info": {
   "codemirror_mode": {
    "name": "ipython",
    "version": 3
   },
   "file_extension": ".py",
   "mimetype": "text/x-python",
   "name": "python",
   "nbconvert_exporter": "python",
   "pygments_lexer": "ipython3",
   "version": "3.8.8"
  }
 },
 "nbformat": 4,
 "nbformat_minor": 5
}
