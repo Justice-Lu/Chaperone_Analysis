{
 "cells": [
  {
   "cell_type": "markdown",
   "id": "bc8be05a",
   "metadata": {},
   "source": [
    "Goal of this notebook is to find top oORs with null expression and uORs that are RTP-dependent and rank by order of consisting most robust (High LogFC, low FDR) ligands from pS6 data."
   ]
  },
  {
   "cell_type": "code",
   "execution_count": 1,
   "id": "77efbd87",
   "metadata": {},
   "outputs": [],
   "source": [
    "import os \n",
    "import pandas as pd \n",
    "import numpy as np "
   ]
  },
  {
   "cell_type": "code",
   "execution_count": 56,
   "id": "eb1d22a8",
   "metadata": {},
   "outputs": [],
   "source": [
    "# Read in the datatables to join \n",
    "OR_data = pd.read_excel('../output/Facs_screening_PNAS2020.xlsx')\n",
    "pS6_data = pd.read_csv('../output/FACS_oOR/pS6IP_MASTER_HL_Annotated_2022.csv')[['id','logFC', \n",
    "                                                                                'FDR',\n",
    "                                                                                'odor_and_conc']]"
   ]
  },
  {
   "cell_type": "code",
   "execution_count": 124,
   "id": "ef3be53f",
   "metadata": {},
   "outputs": [],
   "source": [
    "# \n",
    "uOR = OR_data[OR_data['independent/dependent'] == 'RTP-dependent']\n",
    "oOR_null = OR_data[(pd.isnull(OR_data['independent/dependent'])) &\n",
    "                  (OR_data['oOR/uOR'] == 'oOR')]\n",
    "\n",
    "# OR_list consist of the list of ORs we're interested in testing \n",
    "OR_list = pd.concat([uOR,oOR_null])\n",
    "# Change the 'Olfr' column to 'id' so it's consistent to merge with pS6\n",
    "OR_list = OR_list.rename(columns={'Olfr': 'id'})\n",
    "# merge pS6 data and OR_list \n",
    "OR_list = pd.merge(pS6_data, OR_list, on='id', how='inner')"
   ]
  },
  {
   "cell_type": "code",
   "execution_count": 141,
   "id": "cf952e73",
   "metadata": {},
   "outputs": [],
   "source": [
    "# Filter by FDR and logFC cutoffs \n",
    "OR_list = OR_list[(OR_list['FDR'] < 0.05) & (OR_list['logFC'] > 2)]\n",
    "# Filter list by odor stimulated at NOT 100% \n",
    "OR_list = OR_list[~(OR_list['odor_and_conc'].str.contains('100%'))]"
   ]
  },
  {
   "cell_type": "code",
   "execution_count": 143,
   "id": "db619ba4",
   "metadata": {},
   "outputs": [
    {
     "data": {
      "text/plain": [
       "array(['Olfr749', 'Olfr1044', 'Olfr332', 'Olfr146', 'Olfr220', 'Olfr701',\n",
       "       'Olfr1107', 'Olfr124', 'Olfr1352', 'Olfr59', 'Olfr1110',\n",
       "       'Olfr1094', 'Olfr20', 'Olfr981', 'Olfr518', 'Olfr722', 'Olfr212',\n",
       "       'Olfr531', 'Olfr32', 'Olfr376', 'Olfr1160', 'Olfr545', 'Olfr646',\n",
       "       'Olfr447', 'Olfr1500', 'Olfr206', 'Olfr1047', 'Olfr1209',\n",
       "       'Olfr131', 'Olfr1467', 'Olfr6', 'Olfr1297', 'Olfr346', 'Olfr488',\n",
       "       'Olfr424', 'Olfr1243', 'Olfr432', 'Olfr618', 'Olfr728', 'Olfr824',\n",
       "       'Olfr198', 'Olfr1451', 'Olfr1135', 'Olfr145', 'Olfr177'],\n",
       "      dtype=object)"
      ]
     },
     "execution_count": 143,
     "metadata": {},
     "output_type": "execute_result"
    }
   ],
   "source": [
    "OR_list['id'].unique()"
   ]
  },
  {
   "cell_type": "code",
   "execution_count": 101,
   "id": "bcc9623a",
   "metadata": {},
   "outputs": [],
   "source": [
    "OR_list.to_csv('../output/FACS_oOR/pS6_ORtoTest.csv')"
   ]
  },
  {
   "cell_type": "code",
   "execution_count": null,
   "id": "34762eee",
   "metadata": {},
   "outputs": [],
   "source": []
  },
  {
   "cell_type": "code",
   "execution_count": null,
   "id": "a510ec45",
   "metadata": {},
   "outputs": [],
   "source": []
  }
 ],
 "metadata": {
  "kernelspec": {
   "display_name": "Python 3 (ipykernel)",
   "language": "python",
   "name": "python3"
  },
  "language_info": {
   "codemirror_mode": {
    "name": "ipython",
    "version": 3
   },
   "file_extension": ".py",
   "mimetype": "text/x-python",
   "name": "python",
   "nbconvert_exporter": "python",
   "pygments_lexer": "ipython3",
   "version": "3.8.8"
  }
 },
 "nbformat": 4,
 "nbformat_minor": 5
}
