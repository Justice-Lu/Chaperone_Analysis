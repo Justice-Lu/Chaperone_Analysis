{
 "cells": [
  {
   "cell_type": "code",
   "execution_count": 1,
   "id": "933bb2c4",
   "metadata": {},
   "outputs": [],
   "source": [
    "import os \n",
    "import numpy as np \n",
    "import pandas as pd \n",
    "import scanpy as sc\n",
    "import anndata\n",
    "import copy\n",
    "import desc\n",
    "import matplotlib.pyplot as pl\n",
    "# following line ensures the pl plots inline \n",
    "%matplotlib inline\n",
    "import plotly.express as px\n",
    "import plotly.graph_objects as go\n",
    "from sklearn.metrics import mean_squared_error\n",
    "from sklearn.decomposition import PCA"
   ]
  },
  {
   "cell_type": "code",
   "execution_count": 2,
   "id": "e7f257e0",
   "metadata": {},
   "outputs": [
    {
     "data": {
      "text/plain": [
       "<module 'GE_functions' from '/data/jlu/Chaperone_Analysis/notebooks/GE_functions.py'>"
      ]
     },
     "execution_count": 2,
     "metadata": {},
     "output_type": "execute_result"
    }
   ],
   "source": [
    "from importlib import reload\n",
    "import GE_functions\n",
    "reload(GE_functions)"
   ]
  },
  {
   "cell_type": "markdown",
   "id": "682dfa42",
   "metadata": {},
   "source": [
    "The goal of this noteobok is to make a rank table of genes associated with Rtp1 / Rtp2 expression trajectory across the lineage of cells from GBC_INP_iOSN_mOSN. Additionally, this Olfr is NOT excluded from gene analysis but rather concatenated as a single Olfr gene in a none discriminatory manner. \n",
    "Output should be a datatable containing the different processed counts column with ranks of the genes relatively associated to Rtp1 / Rtp2 calculated by mean square error. "
   ]
  },
  {
   "cell_type": "markdown",
   "id": "dbe59d38",
   "metadata": {},
   "source": [
    "#### Reading in raw count table. "
   ]
  },
  {
   "cell_type": "code",
   "execution_count": 4,
   "id": "2fc7a1b7",
   "metadata": {},
   "outputs": [],
   "source": [
    "adata = anndata.read_csv('../files/Brann/GSE151346_MOE_all_counts.csv')\n",
    "meta_data = pd.read_table('../files/Brann/GSE151346_MOE_metadata.tsv')\n",
    "meta_data = meta_data.set_index('index')\n",
    "# transpose used to flip obs and vars.\n",
    "adata_brann = adata.copy().transpose()"
   ]
  },
  {
   "cell_type": "code",
   "execution_count": 5,
   "id": "b73843d7",
   "metadata": {},
   "outputs": [],
   "source": [
    "# Subset the adata by only cells included in metadata. Attach meta info onto adata\n",
    "adata_brann = adata_brann[meta_data.index, :]\n",
    "adata_brann.obs = adata_brann.obs.join(meta_data).dropna(axis = 0)"
   ]
  },
  {
   "cell_type": "code",
   "execution_count": null,
   "id": "a245bfed",
   "metadata": {},
   "outputs": [],
   "source": [
    "# Plotting the provided UMAP coordinates on metafile to visualize \n",
    "fig = px.scatter(adata_brann.obs, x='UMAP_1', y= 'UMAP_2', color='leiden_name')\n",
    "fig.update_traces(marker = dict(size = 3, opacity = 0.5))\n",
    "fig.update_layout({\n",
    "    'plot_bgcolor': 'rgba(0, 0, 0, 0)',\n",
    "    })\n",
    "fig.show()"
   ]
  },
  {
   "cell_type": "code",
   "execution_count": 7,
   "id": "744c2b1c",
   "metadata": {},
   "outputs": [],
   "source": [
    "# Subset the adata by interested cells. \n",
    "interested_cells = ['mOSN', 'iOSN', 'GBC', 'INP']\n",
    "interested_cells_id = adata_brann.obs.leiden_name.isin(interested_cells)\n",
    "adata_brann = adata_brann[interested_cells_id,:]"
   ]
  },
  {
   "cell_type": "markdown",
   "id": "74416eb3",
   "metadata": {},
   "source": [
    "#### Pre-processing\n",
    "Now at this point, the anndata object we have only contains of GBC_INP_iOSN_mOSN"
   ]
  },
  {
   "cell_type": "code",
   "execution_count": null,
   "id": "adb15367",
   "metadata": {},
   "outputs": [],
   "source": [
    "# normalize to depth 10 000\n",
    "sc.pp.normalize_per_cell(adata_brann, counts_per_cell_after=1e4)\n",
    "# logaritmize\n",
    "sc.pp.log1p(adata_brann)"
   ]
  },
  {
   "cell_type": "code",
   "execution_count": null,
   "id": "2bcff3af",
   "metadata": {},
   "outputs": [],
   "source": [
    "adata_brann.var['mt'] = adata_brann.var_names.str.startswith('Mt') \n",
    "sc.pp.calculate_qc_metrics(adata_brann, qc_vars=['mt'], percent_top=None, log1p=False, inplace=True)"
   ]
  },
  {
   "cell_type": "code",
   "execution_count": null,
   "id": "002d4627",
   "metadata": {},
   "outputs": [],
   "source": [
    "# Define genes to be removed from the datasets prior to finding highly variable genes for clustering\n",
    "mito_genes = adata_brann.var_names.str.startswith('mt-')\n",
    "malat1 = adata_brann.var_names.str.startswith('Malat')\n",
    "\n",
    "# Adds the True positions together for a remove list \n",
    "remove = np.add(mito_genes, malat1)\n",
    "keep = np.invert(remove)\n",
    "\n",
    "adata_brann = adata_brann[:,keep]\n",
    "print(adata_brann.n_obs, adata_brann.n_vars)"
   ]
  },
  {
   "cell_type": "code",
   "execution_count": null,
   "id": "54cfa2c9",
   "metadata": {},
   "outputs": [],
   "source": [
    "sc.tl.pca(adata_brann, svd_solver='arpack')\n",
    "sc.pp.neighbors(adata_brann, n_neighbors=10, n_pcs=40)\n",
    "sc.tl.draw_graph(adata_brann)\n",
    "sc.tl.umap(adata_brann)"
   ]
  },
  {
   "cell_type": "code",
   "execution_count": null,
   "id": "8d45080b",
   "metadata": {},
   "outputs": [],
   "source": [
    "sc.set_figure_params(facecolor='white')\n",
    "sc.pl.umap(adata_brann, color=['Omp', 'Rtp1','leiden_name'])"
   ]
  },
  {
   "cell_type": "code",
   "execution_count": null,
   "id": "a8f2b4f8",
   "metadata": {},
   "outputs": [],
   "source": [
    "# Clustering PAGA via leiden clustering method\n",
    "sc.tl.leiden(adata_brann, resolution = 0.5)\n",
    "sc.tl.paga(adata_brann, groups='leiden')"
   ]
  },
  {
   "cell_type": "code",
   "execution_count": null,
   "id": "adcfe297",
   "metadata": {},
   "outputs": [],
   "source": [
    "sc.pl.draw_graph(adata_brann, color=['leiden'], legend_loc='on data')\n",
    "sc.pl.paga(adata_brann, color=['Omp'])"
   ]
  },
  {
   "cell_type": "code",
   "execution_count": null,
   "id": "c1508aab",
   "metadata": {},
   "outputs": [],
   "source": [
    "sc.tl.draw_graph(adata_brann, init_pos='umap')\n",
    "sc.pl.draw_graph(adata_brann, color=['leiden', 'leiden_name'], legend_loc='on data')"
   ]
  },
  {
   "cell_type": "code",
   "execution_count": null,
   "id": "85f55e0e",
   "metadata": {},
   "outputs": [],
   "source": [
    "# Save data with the raw counts\n",
    "adata = adata_brann.copy()\n",
    "# adata.write('./files/GSE151346_MOE_ALL_OlfrSeperated.h5ad') "
   ]
  },
  {
   "cell_type": "code",
   "execution_count": null,
   "id": "877df42f",
   "metadata": {},
   "outputs": [],
   "source": [
    "adata = desc.read_h5ad('../files/Brann/GSE151346_MOE_ALL_Olfr.h5ad')"
   ]
  },
  {
   "cell_type": "code",
   "execution_count": null,
   "id": "49bb925b",
   "metadata": {},
   "outputs": [],
   "source": [
    "sc.pp.neighbors(adata, n_neighbors=10, n_pcs=40)\n",
    "sc.tl.leiden(adata, resolution = 1)\n",
    "sc.tl.paga(adata, groups='leiden')"
   ]
  },
  {
   "cell_type": "code",
   "execution_count": null,
   "id": "32c1b4a0",
   "metadata": {},
   "outputs": [],
   "source": [
    "# Store raw counts in adata.raw so we don't lose the values when processing \n",
    "adata.raw = adata"
   ]
  },
  {
   "cell_type": "code",
   "execution_count": null,
   "id": "2750fea2",
   "metadata": {},
   "outputs": [],
   "source": [
    "sc.pp.normalize_total(adata, target_sum=1e4)\n",
    "# sc.pp.normalize_total(adata_log1p, target_sum=1e4)\n",
    "# sc.pp.log1p(adata_log1p)"
   ]
  },
  {
   "cell_type": "code",
   "execution_count": null,
   "id": "e6aec1f7",
   "metadata": {
    "scrolled": false
   },
   "outputs": [],
   "source": [
    "sc.set_figure_params(facecolor='white')\n",
    "sc.pl.draw_graph(adata, color=['Omp','Rtp1'], legend_loc='right margin', size=50, use_raw=False)"
   ]
  },
  {
   "cell_type": "code",
   "execution_count": null,
   "id": "f9434729",
   "metadata": {},
   "outputs": [],
   "source": [
    "sc.set_figure_params(facecolor='white')\n",
    "sc.pl.draw_graph(adata, color=['leiden','leiden_name'], \n",
    "                 legend_loc='right margin', size=50)"
   ]
  },
  {
   "cell_type": "code",
   "execution_count": null,
   "id": "bf978af8",
   "metadata": {},
   "outputs": [],
   "source": [
    "adata.uns['iroot'] = np.flatnonzero(adata.obs['leiden']  == '10')[0]\n",
    "sc.tl.dpt(adata)\n",
    "# adata_log1p.uns['iroot'] = np.flatnonzero(adata_log1p.obs['leiden']  == '10')[0]\n",
    "# sc.tl.dpt(adata_log1p)"
   ]
  },
  {
   "cell_type": "code",
   "execution_count": null,
   "id": "aa1db978",
   "metadata": {},
   "outputs": [],
   "source": [
    "sc.pl.draw_graph(adata, color=['leiden_name', 'dpt_pseudotime'], \n",
    "                 legend_loc='right margin', size=50)"
   ]
  },
  {
   "cell_type": "code",
   "execution_count": null,
   "id": "d9f6309b",
   "metadata": {},
   "outputs": [],
   "source": [
    "adata = GE_functions.add_selected_dpt(adata, dpt_cutoff=[0,0.3,0.6,0.7,0.8,0.9,0.95,1])\n",
    "# adata_log1p = GE_functions.add_selected_dpt(adata_log1p, dpt_cutoff=[0,0.3,0.6,0.7,0.8,0.9,0.95,1])\n",
    "sc.pl.draw_graph(adata, color=['selected_dpt'], \n",
    "                 legend_loc='right margin', size=50)"
   ]
  },
  {
   "cell_type": "code",
   "execution_count": null,
   "id": "d422463f",
   "metadata": {},
   "outputs": [],
   "source": [
    "# adata.write('./files/GSE151346_MOE_ALL_OlfrSeperated.h5ad')\n",
    "adata = sc.read_h5ad('./files/Brann//GSE151346_MOE_ALL_Olfr.h5ad')"
   ]
  },
  {
   "cell_type": "code",
   "execution_count": null,
   "id": "ac0040ac",
   "metadata": {},
   "outputs": [],
   "source": []
  },
  {
   "cell_type": "code",
   "execution_count": null,
   "id": "dfb1f04a",
   "metadata": {},
   "outputs": [],
   "source": [
    "\"\"\"\n",
    "Purpose of this cluster is independent of pseudotime tracing.\n",
    "The idea here is to simply find the mOSN markers that defines mOSN from the rest of the clusters. \n",
    "\"\"\"\n",
    "# # conduct rank gene groups to find markesr for each cluster \n",
    "# sc.tl.rank_genes_groups(adata, 'leiden_name', method='wilcoxon')\n",
    "# sc.pl.rank_genes_groups(adata, n_genes=25, sharey=False)\n",
    "# result = adata.uns['rank_genes_groups']\n",
    "# groups = result['names'].dtype.names\n",
    "# # Save rank_gene_result for mOSN to find mOSN markers \n",
    "# pd.DataFrame(\n",
    "#     {'mOSN' + '_' + key: result[key]['mOSN'] for key in ['names', \n",
    "#                                                          'pvals',\n",
    "#                                                          'pvals_adj',\n",
    "#                                                          'logfoldchanges',\n",
    "#                                                          'scores']}).sort_values('mOSN_pvals').to_csv('./output/mOSN_rankgenegroup.csv')"
   ]
  },
  {
   "cell_type": "code",
   "execution_count": null,
   "id": "b272de8b",
   "metadata": {},
   "outputs": [],
   "source": []
  },
  {
   "cell_type": "code",
   "execution_count": null,
   "id": "411f02d5",
   "metadata": {},
   "outputs": [],
   "source": []
  },
  {
   "cell_type": "code",
   "execution_count": null,
   "id": "1b669c95",
   "metadata": {},
   "outputs": [],
   "source": [
    "gene_names = GE_functions.get_gene_names(adata)\n",
    "excluded_genes = GE_functions.get_excluded_genes(gene_names)\n",
    "ORs_list = [ORs for ORs in gene_names if \"Olfr\" in ORs]\n",
    "# excluded_genes.append('Olfr_sum')"
   ]
  },
  {
   "cell_type": "code",
   "execution_count": null,
   "id": "73e94a46",
   "metadata": {},
   "outputs": [],
   "source": [
    "adata.var[adata.var.index.str.contains('Olfr')].sort_values('n_cells_by_counts')"
   ]
  },
  {
   "cell_type": "code",
   "execution_count": null,
   "id": "c28f9f0d",
   "metadata": {
    "scrolled": true
   },
   "outputs": [],
   "source": [
    "# construct ge_table\n",
    "ge_normalized = GE_functions.get_ge_table(adata, gene_names, ge_across='selected_dpt')\n",
    "# # convert average gene expression to relative gene expression. (Optional )\n",
    "ge_normalized = GE_functions.gene_to_relative_expression(ge_normalized)\n",
    "# Construct mse_table from the ge_table values relative to Rtp1(Default)\n",
    "mse_normalized_rtp1 = GE_functions.get_mse_table(ge_normalized, gene_names)\n",
    "\n",
    "# save csv \n",
    "# ge_normalized.to_csv('expression_csv/ge_normalized_GSE151346_MOE_ALL_OlfrSeperated.csv')\n",
    "# mse_normalized_rtp1.to_csv('expression_csv/mse_normalized_rtp1_GSE151346_MOE_ALL_OlfrSeperated_include_Rik_GMgenes.csv')"
   ]
  },
  {
   "cell_type": "code",
   "execution_count": null,
   "id": "3da859f2",
   "metadata": {},
   "outputs": [],
   "source": [
    "ge_normalized = pd.read_csv('expression_csv/ge_normalized_GSE151346_MOE_ALL_OlfrSeperated.csv', \n",
    "                            index_col=0)\n",
    "mse_normalized_rtp1 = pd.read_csv('expression_csv/mse_normalized_rtp1_GSE151346_MOE_ALL_OlfrSeperated.csv', \n",
    "                                 index_col = 0)"
   ]
  },
  {
   "cell_type": "code",
   "execution_count": null,
   "id": "9dbb1d61",
   "metadata": {},
   "outputs": [],
   "source": [
    "from importlib import reload\n",
    "import GE_functions\n",
    "reload(GE_functions)"
   ]
  },
  {
   "cell_type": "code",
   "execution_count": null,
   "id": "84a898a7",
   "metadata": {},
   "outputs": [],
   "source": [
    "mOSN_markers = ['Adcy3','Ano2', 'Cnga2', 'Cnga4', 'Cngb1', 'Gnal', 'Gng13', \n",
    "                  'Omp','Ric8b','Stom', 'Stoml3']\n",
    "UPR_markers = ['Atf5', 'Nrp1', 'Sema3a']\n",
    "cloned_genes = ['Rtbdn','Ebf4','Lingo2','Flrt1','Gpx6','Jph4','Efna3','Hspa12a','Sult1d1','Acsl6','Cfap206','Pde6d','Slc24a2','Ttc21a','Fam217a','Herpud1','Tmbim6','Manea','Clstn2','Ccdc184','Ebf2']\n",
    "neg_21minus = ['Hspa12a', 'Ccdc184', 'Efna3', 'Clstn2', 'Jph4','Rtbdn']\n",
    "pos_21minus = ['Cfap206','Lingo2','Acsl6','Sult1d1','Fam217a','Pde6d','Ebf2','Ebf4','Flrt1','Manea','Ttc21a']"
   ]
  },
  {
   "cell_type": "code",
   "execution_count": null,
   "id": "b6d63580",
   "metadata": {
    "scrolled": false
   },
   "outputs": [],
   "source": [
    "\"\"\"\n",
    "Visualize the how cloned genes if the affect of 21minus_gene correlates with RTP1 expression \n",
    "BOLD RTP1\n",
    "\"\"\"\n",
    "\n",
    "fig = go.Figure()\n",
    "\n",
    "# Plot genes that show negative in 21minus_gene mixture green and positive in red \n",
    "ge_data = GE_functions.get_ge_data(ge_normalized, mse_normalized_rtp1[neg_21minus])\n",
    "for g in ge_data['gene'].unique():\n",
    "    fig.add_trace(go.Scatter(x= ge_data[ge_data['gene'] == g]['index'], \n",
    "                             y= ge_data[ge_data['gene'] == g]['expression'],\n",
    "                            opacity = 0.3,\n",
    "                            mode ='lines',\n",
    "                            name = g,\n",
    "                            line=dict(\n",
    "                                color='green',\n",
    "                                width=5,\n",
    "                                dash = 'dot'\n",
    "                            )\n",
    "                        ))\n",
    "ge_data = GE_functions.get_ge_data(ge_normalized, mse_normalized_rtp1[pos_21minus])\n",
    "# Plot genes that show negative in 21minus_gene mixture green and positive in red \n",
    "for g in ge_data['gene'].unique():\n",
    "    fig.add_trace(go.Scatter(x= ge_data[ge_data['gene'] == g]['index'], \n",
    "                             y= ge_data[ge_data['gene'] == g]['expression'],\n",
    "                            opacity = 0.3,\n",
    "                            mode ='lines',\n",
    "                            name = g,\n",
    "                            line=dict(\n",
    "                                color='red',\n",
    "                                width=5,\n",
    "                                dash = 'dot'\n",
    "                            )\n",
    "                        ))\n",
    "\n",
    "# Add bolded lines for specific genes \n",
    "ge_data = GE_functions.get_ge_data(ge_normalized, \n",
    "                                   mse_normalized_rtp1[['Rtp1']])\n",
    "for g in ge_data['gene'].unique():\n",
    "    fig.add_trace(go.Scatter(x= ge_data[ge_data['gene'] == g]['index'], \n",
    "                             y= ge_data[ge_data['gene'] == g]['expression'],\n",
    "                             mode = 'lines',\n",
    "                             name = g, \n",
    "                             line=dict(\n",
    "                                color='pink',\n",
    "                                width=5)\n",
    "    ))\n",
    "    \n",
    "ge_data = GE_functions.get_ge_data(ge_normalized, \n",
    "                                   mse_normalized_rtp1[UPR_markers])\n",
    "for g in ge_data['gene'].unique():\n",
    "    fig.add_trace(go.Scatter(x= ge_data[ge_data['gene'] == g]['index'], \n",
    "                             y= ge_data[ge_data['gene'] == g]['expression'],\n",
    "                             mode = 'lines',\n",
    "                             opacity = 0.3,\n",
    "                             name = g, \n",
    "                             line=dict(\n",
    "                                color='purple',\n",
    "                                width=5)\n",
    "    ))    \n",
    "    \n",
    "fig.update_layout(xaxis_type = 'category',template='simple_white', # update x-axis to category so that it doesn't sort the numbers\n",
    "                 title=\"21minus_gene<br> \\\n",
    "                 Green = Negative PE when 21minus_gene<br> \\\n",
    "                 Red = Positive PE when 21minus_gene<br> \\\n",
    "                 Pink = RTP1 <br> \\\n",
    "                 Purple = UPR markers\",\n",
    "                 font=dict(\n",
    "        size=10,\n",
    "    ))\n",
    "fig.show()\n",
    "\n",
    "# fig.write_html(\"./output/brann/Chaperone_analysis/ge_line_selected_dpt_ALL_Rtp1_normalized_normExp_21minus_gene.html\")"
   ]
  },
  {
   "cell_type": "code",
   "execution_count": null,
   "id": "a1e7b454",
   "metadata": {},
   "outputs": [],
   "source": [
    "mse_df = pd.read_csv('./output/brann/mse_combined_normExp_ALL_Olfr_rtp1.csv', index_col=0)\n"
   ]
  },
  {
   "cell_type": "code",
   "execution_count": null,
   "id": "2f58192e",
   "metadata": {},
   "outputs": [],
   "source": [
    "Syt_list = [i for i in mse_normalized_rtp1.columns if i.startswith('Syt')]\n",
    "Syt_list.append('Rtp1')"
   ]
  },
  {
   "cell_type": "code",
   "execution_count": null,
   "id": "c89c9655",
   "metadata": {},
   "outputs": [],
   "source": [
    "Syt_list = ['Syt1', 'Syt5', 'Chga', 'Chgb', 'Stx1a', 'Stx1b', 'Rtp1', 'Snap25', 'Vamp1', 'Vamp2']"
   ]
  },
  {
   "cell_type": "code",
   "execution_count": null,
   "id": "55eff737",
   "metadata": {},
   "outputs": [],
   "source": [
    "\"\"\"\n",
    "Flexible Plot \n",
    "\"\"\"\n",
    "\n",
    "fig = go.Figure()\n",
    "\n",
    "ge_data = GE_functions.get_ge_data(ge_normalized, \n",
    "                                   mse_normalized_rtp1[Syt_list])\n",
    "for g in ge_data['gene'].unique():\n",
    "    if g == 'Rtp1':\n",
    "        fig.add_trace(go.Scatter(x= ge_data[ge_data['gene'] == g]['index'], \n",
    "                                 y= ge_data[ge_data['gene'] == g]['expression'],\n",
    "                                 mode = 'lines',\n",
    "                                 name = g, \n",
    "                                 line=dict(\n",
    "                                    color='pink',\n",
    "                                    width=5)\n",
    "        ))\n",
    "    else:\n",
    "        fig.add_trace(go.Scatter(x= ge_data[ge_data['gene'] == g]['index'], \n",
    "                                 y= ge_data[ge_data['gene'] == g]['expression'],\n",
    "                                 mode = 'lines',\n",
    "                                 name = g, \n",
    "                                 line=dict(\n",
    "#                                     color='pink',\n",
    "                                    dash='dot',\n",
    "                                    width=3)\n",
    "        ))\n",
    "    \n",
    "fig.update_layout(xaxis_type = 'category',template='simple_white', # update x-axis to category so that it doesn't sort the numbers\n",
    "                 title=\"Syt1 interacting proteins \",\n",
    "                 font=dict(\n",
    "        size=10,\n",
    "    ))\n",
    "fig.show()\n",
    "\n",
    "fig.write_html(\"./output/brann/Chaperone_analysis/ge_line_Syt1_interacting_proteins.html\")"
   ]
  },
  {
   "cell_type": "markdown",
   "id": "8ef1f875",
   "metadata": {},
   "source": [
    "Visualize OR expression across lineage "
   ]
  },
  {
   "cell_type": "code",
   "execution_count": null,
   "id": "50d1adee",
   "metadata": {},
   "outputs": [],
   "source": [
    "\n",
    "# ORs_list.append('Rtp1')\n",
    "or_expression = GE_functions.get_ge_table(adata, ORs_list, ge_across='selected_dpt', sort_by=None)\n",
    "or_mse_normalized_rtp1 = GE_functions.get_mse_table(or_expression, ORs_list)\n"
   ]
  },
  {
   "cell_type": "code",
   "execution_count": null,
   "id": "b768c894",
   "metadata": {},
   "outputs": [],
   "source": [
    "# %matplotlib notebook\n",
    "\n",
    "ge_data = pd.melt(or_expression, id_vars='index', var_name='gene', value_name='expression')\n",
    "\n",
    "fig = go.Figure()\n",
    "# Plot genes that show negative in 21minus_gene mixture green and positive in red \n",
    "for g in ge_data['gene'].unique():\n",
    "    fig.add_trace(go.Scatter(x= ge_data[ge_data['gene'] == g]['index'], \n",
    "                             y= ge_data[ge_data['gene'] == g]['expression'],\n",
    "                            opacity = 0.3,\n",
    "                            mode ='lines',\n",
    "                            name = g,\n",
    "                            line=dict(\n",
    "                                color='green',\n",
    "                                width=2,\n",
    "                                dash = 'dot'\n",
    "                            )\n",
    "                        ))\n",
    "    \n",
    "fig.update_layout(xaxis_type = 'category',template='simple_white')# update x-axis to category so that it doesn't sort the numbers\n",
    "\n",
    "fig.show()\n",
    "\n",
    "# fig.write_html(\"./output/brann/Chaperone_analysis/ge_line_selected_dpt_ALL_Rtp1_normalized_ORexpression.html\")"
   ]
  },
  {
   "cell_type": "code",
   "execution_count": null,
   "id": "23745f61",
   "metadata": {},
   "outputs": [],
   "source": [
    "ge_normalized = pd.read_csv('expression_csv/ge_normalized_GSE151346_MOE_ALL_OlfrSeperated.csv', \n",
    "                            index_col=0)\n",
    "mse_normalized_rtp1 = pd.read_csv('expression_csv/mse_normalized_rtp1_GSE151346_MOE_ALL_OlfrSeperated.csv', \n",
    "                                 index_col = 0)"
   ]
  },
  {
   "cell_type": "code",
   "execution_count": null,
   "id": "1299f75e",
   "metadata": {},
   "outputs": [],
   "source": [
    "Olfr_DL = pd.read_csv('./expression_csv/Olfr_DL.csv',index_col=0)\n",
    "# Convert Olfr names to DL names if possible \n",
    "converted_columns = copy.deepcopy(ge_normalized.columns)\n",
    "for i,gene in enumerate(converted_columns):\n",
    "    if \"Olfr\" in gene:\n",
    "        if Olfr_DL['id'].str.contains(gene).sum() > 0: #checks if Olfr is in Olfr_DL \n",
    "            converted_columns.values[i] = Olfr_DL[Olfr_DL.id == gene].DL_OR.item()\n",
    "ge_normalized.columns = converted_columns\n",
    "\n",
    "converted_columns = copy.deepcopy(mse_normalized_rtp1.columns)\n",
    "for i,gene in enumerate(converted_columns):\n",
    "    if \"Olfr\" in gene:\n",
    "        if Olfr_DL['id'].str.contains(gene).sum() > 0: \n",
    "            converted_columns.values[i] = Olfr_DL[Olfr_DL.id == gene].DL_OR.item()\n",
    "mse_normalized_rtp1.columns = converted_columns\n"
   ]
  },
  {
   "cell_type": "markdown",
   "id": "0fd3009b",
   "metadata": {},
   "source": [
    "Subset ORs to class I and class II. \n",
    "if ORX, X > 13 --> class I \n",
    "else class II \n",
    "\n",
    "Attempts to investigate ORs expression  across lineage with respect to RTP1 \n",
    "If ClassI and ClassII ORs expression patter differs "
   ]
  },
  {
   "cell_type": "code",
   "execution_count": null,
   "id": "9ded8267",
   "metadata": {},
   "outputs": [],
   "source": [
    "OR_list = ge_normalized.columns[ge_normalized.columns.str.contains('OR')]\n",
    "\n",
    "import re\n",
    "OR_ClassI = []\n",
    "OR_ClassII = []\n",
    "for OR in OR_list: \n",
    "#     matches character to letters or alphabet and split\n",
    "    match = re.match(r\"([a-z]+)([0-9]+)\", OR, re.I)\n",
    "    if int(match[2]) > 13 :\n",
    "        OR_ClassI.append(OR)\n",
    "    else:\n",
    "        OR_ClassII.append(OR)\n"
   ]
  },
  {
   "cell_type": "markdown",
   "id": "7493e535",
   "metadata": {},
   "source": [
    "Since there are a lot of receptors that ultimately don't end up expressing. \n",
    "\n",
    "Filter for ORs with highest expression at mOSN stage \n",
    "\n",
    "OR more than 90% total expression at mOSN stage "
   ]
  },
  {
   "cell_type": "code",
   "execution_count": null,
   "id": "cc9bdc9d",
   "metadata": {},
   "outputs": [],
   "source": [
    "\n",
    "mOR_list = []\n",
    "for OR in OR_list:\n",
    "    if ge_normalized[OR][6] > 0.9:\n",
    "        mOR_list.append(OR)\n",
    "        \n",
    "mOR_ClassI = []\n",
    "mOR_ClassII = []\n",
    "for OR in mOR_list: \n",
    "#     matches character to letters or alphabet and split\n",
    "    match = re.match(r\"([a-z]+)([0-9]+)\", OR, re.I)\n",
    "    if int(match[2]) > 13 :\n",
    "        mOR_ClassI.append(OR)\n",
    "    else:\n",
    "        mOR_ClassII.append(OR)"
   ]
  },
  {
   "cell_type": "code",
   "execution_count": null,
   "id": "08c91ccb",
   "metadata": {
    "scrolled": false
   },
   "outputs": [],
   "source": [
    "\"\"\"\n",
    "Visualize the how ORs expression across lineage \n",
    "BOLD RTP1\n",
    "\"\"\"\n",
    "\n",
    "# ORs_list = [ORs for ORs in ge_normalized if \"Olfr\" in ORs]\n",
    "\n",
    "\n",
    "\n",
    "fig = go.Figure()\n",
    "\n",
    "ge_data = GE_functions.get_ge_data(ge_normalized, mse_normalized_rtp1[mOR_ClassII])\n",
    "for g in ge_data['gene'].unique():\n",
    "    fig.add_trace(go.Scatter(x= ge_data[ge_data['gene'] == g]['index'], \n",
    "                             y= ge_data[ge_data['gene'] == g]['expression'],\n",
    "                            opacity = 0.3,\n",
    "                            mode ='lines',\n",
    "                            name = g,\n",
    "                            line=dict(\n",
    "                                color='green',\n",
    "                                width=2,\n",
    "                                dash = 'dot'\n",
    "                            )\n",
    "                        ))\n",
    "\n",
    "\n",
    "# Add bolded lines for specific genes \n",
    "ge_data = GE_functions.get_ge_data(ge_normalized, \n",
    "                                   mse_normalized_rtp1[['Rtp1']])\n",
    "for g in ge_data['gene'].unique():\n",
    "    assigned_color = 'black'\n",
    "    if g == 'Rtp1':\n",
    "        assigned_color = 'pink'\n",
    "    fig.add_trace(go.Scatter(x= ge_data[ge_data['gene'] == g]['index'], \n",
    "                             y= ge_data[ge_data['gene'] == g]['expression'],\n",
    "                             mode = 'lines',\n",
    "                             name = g, \n",
    "                             line=dict(\n",
    "                                color=assigned_color,\n",
    "                                width=5)\n",
    "    ))\n",
    "    \n",
    "    \n",
    "fig.update_layout(xaxis_type = 'category',template='simple_white', # update x-axis to category so that it doesn't sort the numbers\n",
    "                 title=\"Normalized Class II OR expression<br>filtered by final dpt_time OR expression > .9 of total expression\",\n",
    "                 font=dict(\n",
    "        size=10,\n",
    "    ))\n",
    "\n",
    "fig.show()\n",
    "\n",
    "fig.write_html(\"./output/brann/Chaperone_analysis/ge_line_selected_dpt_ALL_Rtp1_normalized_normExp_ORclassII.html\")"
   ]
  },
  {
   "cell_type": "code",
   "execution_count": null,
   "id": "acae8853",
   "metadata": {},
   "outputs": [],
   "source": [
    "# Makes a plot for the top 1000 genes associated with RTP1 in a line graph \n",
    "top_X_gene = mse_normalized_rtp1.transpose().sort_values('mse',ascending=True).iloc[:100].index\n",
    "# top1000_msetable = list(set(list(top1000_msetable.columns)+excluded_genes))\n",
    "fig = GE_functions.expression_line_plot(ge_normalized, \n",
    "                                        mse_normalized_rtp1[top_X_gene])\n",
    "fig = fig.update_layout(title = 'Relative gene expression change across normalized counts selected_dpt relative Rtp1 \\n Data from Brann GBC/INP/iOSN/mOSN')\n",
    "fig.update_layout(xaxis_type = 'category',template='simple_white')\n",
    "fig.show()\n",
    "\n",
    "# fig.write_html(\"./output/brann/ge_line_selected_dpt_ALL_Olfr_Rtp1_normalized_normExp_top100.html\")\n"
   ]
  },
  {
   "cell_type": "code",
   "execution_count": null,
   "id": "b9089065",
   "metadata": {},
   "outputs": [],
   "source": [
    "excluded_genes = excluded_genes + ['Clgn', 'Gfy']\n",
    "fig = GE_functions.expression_line_plot(ge_normalized, \n",
    "                                        GE_functions.filter_mse_table(mse_normalized_rtp1, excluded_genes))\n",
    "fig = fig.update_layout(title = 'Relative gene expression change across normalized counts selected_dpt relative Rtp1 \\n Data from Brann GBC/INP/iOSN/mOSN')\n",
    "# fig.write_html(\"./output/brann/ge_line_selected_dpt_ALL_Olfr_Rtp1_normalized_normExp.html\")\n",
    "fig.show()"
   ]
  },
  {
   "cell_type": "code",
   "execution_count": null,
   "id": "7b0ac85f",
   "metadata": {
    "scrolled": true
   },
   "outputs": [],
   "source": [
    "# plotting logmarthize \n",
    "fig = GE_functions.expression_line_plot(ge_log1p, \n",
    "                                        GE_functions.filter_mse_table(mse_log1p_rtp1, excluded_genes))\n",
    "fig = fig.update_layout(title = 'Relative gene expression change across log1p counts selected_dpt relative Rtp1 \\n Data from Brann GBC/INP/iOSN/mOSN')\n",
    "# fig.write_html(\"./output/brann/ge_line_selected_dpt_ALL_Olfr_Rtp1_log1p_normExp.html\")\n",
    "fig.show()"
   ]
  },
  {
   "cell_type": "code",
   "execution_count": null,
   "id": "b001d160",
   "metadata": {},
   "outputs": [],
   "source": [
    "# # saving ge_table files\n",
    "# ge_log1p.to_csv('./output/brann/ge_table_ALL_Olfr_Rtp1_log1p_normExp.csv')\n",
    "# ge_normalized.to_csv('./output/brann/ge_table_ALL_Olfr_Rtp1_normalized_normExp.csv')"
   ]
  },
  {
   "cell_type": "code",
   "execution_count": null,
   "id": "dfe66de3",
   "metadata": {},
   "outputs": [],
   "source": [
    "# # combining normalized and processed mse_table and save \n",
    "# mse_combined = mse_normalized_rtp1.transpose().rename(columns = {'mse': 'mse_normalized_ALL_Olfr_rtp1'}).join(\n",
    "#     mse_log1p_rtp1.transpose().rename(columns = {'mse': 'mse_log1p_ALL_Olfr_rtp1'}))\n",
    "# mse_combined.to_csv('./output/brann/mse_combined_ALL_Olfr_rtp1.csv')"
   ]
  },
  {
   "cell_type": "code",
   "execution_count": null,
   "id": "fee46808",
   "metadata": {},
   "outputs": [],
   "source": [
    "# combining normalized and processed mse_table and save \n",
    "mse_combined = mse_normalized_rtp1.transpose().rename(columns = {'mse': 'mse_normalized_normExp_ALL_Olfr_rtp1'}).join(\n",
    "    mse_log1p_rtp1.transpose().rename(columns = {'mse': 'mse_log1p_normExp_ALL_Olfr_rtp1'}))\n",
    "mse_combined.to_csv('./output/brann/mse_combined_normExp_ALL_Olfr_rtp1.csv')"
   ]
  },
  {
   "cell_type": "code",
   "execution_count": null,
   "id": "de711045",
   "metadata": {},
   "outputs": [],
   "source": [
    "# calculate mse_table relative to rtp2\n",
    "mse_normalized_rtp2 = GE_functions.get_mse_table(ge_normalized, gene_names, mse_gene='Rtp2')\n",
    "mse_log1p_rtp2 = GE_functions.get_mse_table(ge_log1p, gene_names, mse_gene='Rtp2')\n",
    "# combining normalized and processed mse_table and save \n",
    "mse_combined = mse_normalized_rtp2.transpose().rename(columns = {'mse': 'mse_normalized_normExp_ALL_Olfr_rtp2'}).join(\n",
    "    mse_log1p_rtp2.transpose().rename(columns = {'mse': 'mse_log1p_normExp_ALL_Olfr_rtp2'}))\n",
    "# mse_combined.to_csv('./output/brann/mse_combined_ALL_Olfr_rtp2.csv')\n",
    "mse_combined.to_csv('./output/brann/mse_combined_normExp_ALL_Olfr_rtp2.csv')"
   ]
  },
  {
   "cell_type": "code",
   "execution_count": null,
   "id": "286b5431",
   "metadata": {
    "scrolled": false
   },
   "outputs": [],
   "source": [
    "# plotting normalized\n",
    "fig = GE_functions.expression_line_plot(ge_normalized, \n",
    "                                        GE_functions.filter_mse_table(mse_normalized_rtp2, excluded_genes))\n",
    "fig = fig.update_layout(title = 'Relative gene expression change across normalized selected_dpt relative Rtp2 \\n Data from Brann GBC/INP/iOSN/mOSN')\n",
    "fig.write_html(\"./output/brann/ge_line_selected_dpt_ALL_Olfr_Rtp2_normalized_normExp.html\")\n",
    "fig.show()"
   ]
  },
  {
   "cell_type": "code",
   "execution_count": null,
   "id": "74e4a923",
   "metadata": {
    "scrolled": true
   },
   "outputs": [],
   "source": [
    "# plotting normalized\n",
    "fig = GE_functions.expression_line_plot(ge_log1p, \n",
    "                                        GE_functions.filter_mse_table(mse_log1p_rtp2, excluded_genes))\n",
    "fig = fig.update_layout(title = 'Average gene expression change across log1p selected_dpt relative Rtp2 \\n Data from Brann GBC/INP/iOSN/mOSN')\n",
    "fig.write_html(\"./output/brann/ge_line_selected_dpt_ALL_Olfr_Rtp2_processed_normExp.html\")\n",
    "fig.show()"
   ]
  },
  {
   "cell_type": "code",
   "execution_count": null,
   "id": "6c764d9a",
   "metadata": {},
   "outputs": [],
   "source": [
    "# End of saving plots and mse files "
   ]
  },
  {
   "cell_type": "code",
   "execution_count": null,
   "id": "be754a19",
   "metadata": {},
   "outputs": [],
   "source": [
    "mse_combined = pd.read_csv('./output/brann/mse_combined_normExp_ALL_Olfr_rtp1.csv', index_col=[0])"
   ]
  },
  {
   "cell_type": "code",
   "execution_count": null,
   "id": "5e04fd9c",
   "metadata": {},
   "outputs": [],
   "source": [
    "gene_names = list(mse_combined.index)\n",
    "excluded_genes = GE_functions.get_excluded_genes(gene_names)\n",
    "excluded_genes.append('Olfr_sum')"
   ]
  },
  {
   "cell_type": "code",
   "execution_count": null,
   "id": "45d0f42d",
   "metadata": {},
   "outputs": [],
   "source": [
    "reload(GE_functions)"
   ]
  },
  {
   "cell_type": "code",
   "execution_count": null,
   "id": "7d9f9229",
   "metadata": {},
   "outputs": [],
   "source": [
    "fig = GE_functions.rank_plot(mse_combined, \n",
    "            title = \"normalized vs log1p relExp counts relative to Rtp1 (GBC/INP/iOSN/mOSN)\",\n",
    "                              excluded_genes=['Rtp1', 'Gfy', 'Clgn'])\n",
    "fig.show()\n",
    "# fig.write_html(\"./output/brann/Scatter_combined_normExp_ALL_Olfr_rtp1.html\")\n"
   ]
  },
  {
   "cell_type": "markdown",
   "id": "84bc9ba8",
   "metadata": {},
   "source": [
    "Translate the mse_combined mse into numerical ranks. So that when plotted, it's a direct numerical comparison instead of the skewed mse values \n"
   ]
  },
  {
   "cell_type": "code",
   "execution_count": null,
   "id": "42b7159f",
   "metadata": {},
   "outputs": [],
   "source": [
    "# For the columns in mse_combined (before ranks are added), sort them by the value of the column and add ranks \n",
    "for col in mse_combined.columns.unique():\n",
    "    mse_combined.sort_values(by=col, inplace=True)\n",
    "    mse_combined[str(col+'_Rank')] = list(range(1,len(mse_combined)+1))\n",
    "\n",
    "mse_combined.to_csv('./output/brann/rank_mse_combined_normExp_ALL_Olfr_rtp1.csv')"
   ]
  },
  {
   "cell_type": "code",
   "execution_count": null,
   "id": "f181ade7",
   "metadata": {},
   "outputs": [],
   "source": [
    "mse_combined_rtp1 = pd.read_csv('./output/brann/mse_combined_normExp_ALL_Olfr_rtp1.csv', index_col=[0])\n",
    "rank_combined_rtp1 = GE_functions.mse_to_rank(mse_combined_rtp1, col_names=['mse_rank_normalized_normExp_ALL_Olfr_rtp1',\n",
    "                                                 'mse_rank_log1p_normExp_ALL_Olfr_rtp1'])\n",
    "mse_combined_rtp2 = pd.read_csv('./output/brann/mse_combined_normExp_ALL_Olfr_rtp2.csv', index_col=[0])\n",
    "rank_combined_rtp2 = GE_functions.mse_to_rank(mse_combined_rtp2, col_names=['mse_rank_normalized_normExp_ALL_Olfr_rtp2',\n",
    "                                                 'mse_rank_log1p_normExp_ALL_Olfr_rtp2'])\n",
    "# For reindexing if ever need to match index to master list \n",
    "index_order = pd.read_csv('./output/brann/Rank_gene_combined_ALL_Olfr_rtp1.csv', index_col=[0]).index\n",
    "rank_combined_rtp1.reindex(index_order).to_csv('./output/brann/Rank_gene_combined_normExp_ALL_Olfr_rtp1.csv')\n",
    "rank_combined_rtp2.reindex(index_order).to_csv('./output/brann/Rank_gene_combined_normExp_ALL_Olfr_rtp2.csv')"
   ]
  },
  {
   "cell_type": "code",
   "execution_count": null,
   "id": "3c268a6f",
   "metadata": {
    "scrolled": false
   },
   "outputs": [],
   "source": [
    "# subset the last two rows of ranks \n",
    "rank_combined_rtp1 = mse_combined.iloc[:,2:4]\n",
    "\n",
    "fig = GE_functions.rank_plot(rank_combined_rtp1, \n",
    "                             title = \"normalized vs log1p rank relative to Rtp1 (GBC/INP/iOSN/mOSN)\",\n",
    "                             excluded_genes=['Rtp1', 'Gfy', 'Clgn'])\n",
    "fig.show()\n",
    "# fig.write_html(\"./output/brann/Scatter_rank_combined_normExp_ALL_Olfr_rtp1.html\")"
   ]
  },
  {
   "cell_type": "code",
   "execution_count": null,
   "id": "415d0ebe",
   "metadata": {},
   "outputs": [],
   "source": [
    "fig = GE_functions.rank_plot(rank_combined_rtp2, \n",
    "                             title = \"normalized vs log1p rank relative to Rtp2 (GBC/INP/iOSN/mOSN)\",\n",
    "                             excluded_genes=excluded_genes)\n",
    "fig.show()\n",
    "# fig.write_html(\"./output/brann/Scatter_rank_combined_normExp_ALL_Olfr_rtp2.html\")"
   ]
  },
  {
   "cell_type": "code",
   "execution_count": null,
   "id": "cb753a42",
   "metadata": {},
   "outputs": [],
   "source": []
  },
  {
   "cell_type": "code",
   "execution_count": null,
   "id": "99d82027",
   "metadata": {
    "scrolled": true
   },
   "outputs": [],
   "source": [
    "combined = pd.read_csv('./output/brann/mse_combined_ALL_Olfr_rtp1.csv', index_col=[0])\n",
    "combined_normExp = pd.read_csv('./output/brann/mse_combined_normExp_ALL_Olfr_rtp1.csv', index_col=[0])"
   ]
  },
  {
   "cell_type": "code",
   "execution_count": null,
   "id": "1c5c54cd",
   "metadata": {},
   "outputs": [],
   "source": [
    "rank_normalized = pd.DataFrame(index = combined[combined.columns[0]].sort_values().index)\n",
    "rank_normalized['mse_rank_normalized_rtp1'] = rank_index\n",
    "rank_norm_normExp = pd.DataFrame(index = combined_normExp[combined_normExp.columns[0]].sort_values().index)\n",
    "rank_norm_normExp['mse_rank_normalized_normExp_rtp1'] = rank_index\n",
    "rank_combined = rank_normalized.join(rank_norm_normExp)\n",
    "# rank_combined.to_csv('./output/brann/Rank_gene_combined_normExp_ALL_rtp2.csv')\n"
   ]
  },
  {
   "cell_type": "code",
   "execution_count": null,
   "id": "8a0dde54",
   "metadata": {},
   "outputs": [],
   "source": [
    "index_order = pd.read_csv('./output/brann/Rank_gene_combined_ALL_Olfr_rtp1.csv', index_col=[0]).index\n"
   ]
  },
  {
   "cell_type": "code",
   "execution_count": null,
   "id": "5f223391",
   "metadata": {},
   "outputs": [],
   "source": [
    "temp = pd.read_csv('./output/brann/NEURON_genes_rank.csv', index_col=[0])\n",
    "temp.reindex(index_order).to_csv('./output/brann/NEURON_genes_rank.csv')\n",
    "temp = pd.read_csv('./output/brann/NEURON_genes_rank_reversed.csv', index_col=[0])\n",
    "temp.reindex(index_order).to_csv('./output/brann/NEURON_genes_rank_reversed.csv')\n",
    "temp = pd.read_csv('./output/brann/CELL_genes_rank.csv', index_col=[0])\n",
    "temp.reindex(index_order).to_csv('./output/brann/CELL_genes_rank.csv')\n",
    "temp = pd.read_csv('./output/brann/CELL_genes_rank_reversed.csv', index_col=[0])\n",
    "temp.reindex(index_order).to_csv('./output/brann/CELL_genes_rank_reversed.csv')"
   ]
  },
  {
   "cell_type": "code",
   "execution_count": null,
   "id": "4d9b7bf9",
   "metadata": {},
   "outputs": [],
   "source": [
    "pd.read_csv('./output/brann/CELL_genes_rank.csv', index_col=[0])"
   ]
  },
  {
   "cell_type": "code",
   "execution_count": null,
   "id": "70c4087b",
   "metadata": {},
   "outputs": [],
   "source": []
  }
 ],
 "metadata": {
  "kernelspec": {
   "display_name": "scanpy",
   "language": "python",
   "name": "python3"
  },
  "language_info": {
   "codemirror_mode": {
    "name": "ipython",
    "version": 3
   },
   "file_extension": ".py",
   "mimetype": "text/x-python",
   "name": "python",
   "nbconvert_exporter": "python",
   "pygments_lexer": "ipython3",
   "version": "3.8.12"
  }
 },
 "nbformat": 4,
 "nbformat_minor": 5
}
