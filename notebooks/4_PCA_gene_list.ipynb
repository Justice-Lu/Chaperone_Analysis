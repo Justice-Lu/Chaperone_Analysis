{
 "cells": [
  {
   "cell_type": "code",
   "execution_count": 7,
   "id": "87ff6096",
   "metadata": {},
   "outputs": [],
   "source": [
    "import os \n",
    "import numpy as np \n",
    "import pandas as pd \n",
    "import copy\n",
    "import plotly.express as px\n",
    "import plotly.graph_objects as go\n",
    "from sklearn.metrics import mean_squared_error\n",
    "from sklearn.decomposition import PCA"
   ]
  },
  {
   "cell_type": "code",
   "execution_count": 62,
   "id": "fab19a30",
   "metadata": {},
   "outputs": [
    {
     "data": {
      "text/plain": [
       "<module 'GE_functions' from '/data/jlu/scSeq_tsukahara/GE_functions.py'>"
      ]
     },
     "execution_count": 62,
     "metadata": {},
     "output_type": "execute_result"
    }
   ],
   "source": [
    "from importlib import reload\n",
    "import GE_functions\n",
    "reload(GE_functions)"
   ]
  },
  {
   "cell_type": "markdown",
   "id": "efac42a1",
   "metadata": {},
   "source": [
    "USE PCA analysis. combine ge expression and pca analysis to show the trajectory expression in cluster format "
   ]
  },
  {
   "cell_type": "code",
   "execution_count": 4,
   "id": "ffd87b92",
   "metadata": {},
   "outputs": [],
   "source": [
    "ge_normalized = pd.read_csv('./output/brann/ge_table_ALL_Olfr_Rtp1_normalized_normExp.csv', \n",
    "            index_col=[0]).set_index(\"index\").transpose()"
   ]
  },
  {
   "cell_type": "code",
   "execution_count": 13,
   "id": "40acd978",
   "metadata": {},
   "outputs": [],
   "source": [
    "gene_names = ge_normalized.index\n",
    "excluded_genes = GE_functions.get_excluded_genes()\n",
    "excluded_genes.append('Olfr_sum')"
   ]
  },
  {
   "cell_type": "code",
   "execution_count": null,
   "id": "99903337",
   "metadata": {
    "scrolled": true
   },
   "outputs": [],
   "source": [
    "PCA_ge_normalized = GE_functions.get_pca_df(ge_normalized)\n",
    "fig1 = GE_functions.x_y_scatter(PCA_ge_normalized, \n",
    "                                label_genes=excluded_genes,\n",
    "                                title=\"PCA relative gene expression\")\n",
    "fig1.show()\n",
    "# fig1.write_html(\"./output/brann/PCA_ge_log1p_normExp_ALL_Olfr_rtp1_scaled.html\")"
   ]
  },
  {
   "cell_type": "markdown",
   "id": "a8a42729",
   "metadata": {},
   "source": [
    "Try PCA on ranking instead. "
   ]
  },
  {
   "cell_type": "code",
   "execution_count": 19,
   "id": "cdbab404",
   "metadata": {},
   "outputs": [],
   "source": [
    "rank_rtp1 = pd.read_csv('./output/brann/Rank_gene_combined_normExp_ALL_Olfr_rtp1.csv', index_col=[0])\n",
    "rank_neurons = pd.read_csv('./output/brann/NEURON_genes_rank_reversed.csv', index_col=[0])\n",
    "rank_cells = pd.read_csv('./output/brann/CELL_genes_rank.csv', index_col=[0])"
   ]
  },
  {
   "cell_type": "code",
   "execution_count": null,
   "id": "3977a45e",
   "metadata": {
    "scrolled": true
   },
   "outputs": [],
   "source": [
    "PCA_rank_cells = GE_functions.get_pca_df(rank_cells)\n",
    "fig2 = GE_functions.x_y_scatter(PCA_rank_cells, \n",
    "                                label_genes=excluded_genes,\n",
    "                                title=\"PCA on Cell HVG marker ranks\")\n",
    "fig2.show()\n",
    "# fig2.write_html(\"./output/brann/PCA_CELL_genes_rank.html\")"
   ]
  },
  {
   "cell_type": "code",
   "execution_count": null,
   "id": "4e2c11ff",
   "metadata": {
    "scrolled": true
   },
   "outputs": [],
   "source": [
    "rank_rtp_cells = rank_rtp1.join(rank_cells)\n",
    "\n",
    "PCA_rank_neurons = GE_functions.get_pca_df(rank_rtp_cells.dropna())\n",
    "fig3 = GE_functions.x_y_scatter(PCA_rank_neurons, \n",
    "#                                 label_genes=rank_neurons.sort_values('Neurons').index[0:100],\n",
    "                                label_genes=excluded_genes,\n",
    "                                title=\"PCA on Rtp1 MSE rank join Cell HVG marker ranks\")\n",
    "fig3.show()\n",
    "# fig3.write_html(\"./output/brann/PCA_NEURONS_genes_rank.html\")"
   ]
  },
  {
   "cell_type": "code",
   "execution_count": null,
   "id": "e4116141",
   "metadata": {},
   "outputs": [],
   "source": []
  },
  {
   "cell_type": "code",
   "execution_count": null,
   "id": "ffeb4eea",
   "metadata": {},
   "outputs": [],
   "source": []
  }
 ],
 "metadata": {
  "kernelspec": {
   "display_name": "Python [conda env:scanpy] *",
   "language": "python",
   "name": "conda-env-scanpy-py"
  },
  "language_info": {
   "codemirror_mode": {
    "name": "ipython",
    "version": 3
   },
   "file_extension": ".py",
   "mimetype": "text/x-python",
   "name": "python",
   "nbconvert_exporter": "python",
   "pygments_lexer": "ipython3",
   "version": "3.8.12"
  }
 },
 "nbformat": 4,
 "nbformat_minor": 5
}
