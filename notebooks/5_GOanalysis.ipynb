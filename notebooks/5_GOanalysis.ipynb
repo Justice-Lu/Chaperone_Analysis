{
 "cells": [
  {
   "cell_type": "code",
   "execution_count": 1,
   "id": "d340c956",
   "metadata": {},
   "outputs": [
    {
     "name": "stdout",
     "output_type": "stream",
     "text": [
      "  EXISTS: go-basic.obo\n",
      "  EXISTS: gene2go\n",
      "go-basic.obo: fmt(1.2) rel(2023-01-01) 46,739 Terms\n",
      "HMS:0:00:03.971830 429,754 annotations, 29,773 genes, 19,208 GOs, 1 taxids READ: gene2go \n",
      "\n",
      "Load BP Ontology Enrichment Analysis ...\n",
      " 63% 17,638 of 28,212 population items found in association\n",
      "\n",
      "Load CC Ontology Enrichment Analysis ...\n",
      " 66% 18,670 of 28,212 population items found in association\n",
      "\n",
      "Load MF Ontology Enrichment Analysis ...\n",
      " 60% 17,045 of 28,212 population items found in association\n"
     ]
    }
   ],
   "source": [
    "\n",
    "from goatools.test_data.genes_NCBI_10090_ProteinCoding import GENEID2NT as GeneID2nt_mouse\n",
    "\n",
    "from goatools.base import download_go_basic_obo\n",
    "from goatools.base import download_ncbi_associations\n",
    "from goatools.obo_parser import GODag\n",
    "from goatools.anno.genetogo_reader import Gene2GoReader\n",
    "from goatools.goea.go_enrichment_ns import GOEnrichmentStudyNS\n",
    "\n",
    "\"\"\"\n",
    "This chunk initializes necessary variables for GO analysis below \n",
    "\"\"\"\n",
    "obo_fname = download_go_basic_obo()\n",
    "fin_gene2go = download_ncbi_associations()\n",
    "obodag = GODag(\"go-basic.obo\")\n",
    "#run one time to initialize\n",
    "mapper = {}\n",
    "\n",
    "for key in GeneID2nt_mouse:\n",
    "    mapper[GeneID2nt_mouse[key].Symbol] = GeneID2nt_mouse[key].GeneID\n",
    "    \n",
    "inv_map = {v: k for k, v in mapper.items()}\n",
    "#run one time to initialize\n",
    "\n",
    "# Read NCBI's gene2go. Store annotations in a list of namedtuples\n",
    "objanno = Gene2GoReader(fin_gene2go, taxids=[10090])\n",
    "# Get namespace2association where:\n",
    "#    namespace is:\n",
    "#        BP: biological_process               \n",
    "#        MF: molecular_function\n",
    "#        CC: cellular_component\n",
    "#    assocation is a dict:\n",
    "#        key: NCBI GeneID\n",
    "#        value: A set of GO IDs associated with that gene\n",
    "ns2assoc = objanno.get_ns2assc()\n",
    "#run one time to initialize\n",
    "goeaobj = GOEnrichmentStudyNS(\n",
    "        GeneID2nt_mouse.keys(), # List of mouse protein-coding genes\n",
    "        ns2assoc, # geneid/GO associations\n",
    "        obodag, # Ontologies\n",
    "        propagate_counts = False,\n",
    "        alpha = 0.05, # default significance cut-off\n",
    "        methods = ['fdr_bh']) # defult multipletest correction method\n",
    "#run one time to initialize\n",
    "GO_items = []\n",
    "\n",
    "temp = goeaobj.ns2objgoea['BP'].assoc\n",
    "for item in temp:\n",
    "    GO_items += temp[item]\n",
    "    \n",
    "\n",
    "temp = goeaobj.ns2objgoea['CC'].assoc\n",
    "for item in temp:\n",
    "    GO_items += temp[item]\n",
    "    \n",
    "\n",
    "temp = goeaobj.ns2objgoea['MF'].assoc\n",
    "for item in temp:\n",
    "    GO_items += temp[item]\n",
    "#pass list of gene symbols\n",
    "def go_it(test_genes):\n",
    "    print(f'input genes: {len(test_genes)}')\n",
    "    \n",
    "    mapped_genes = []\n",
    "    for gene in test_genes:\n",
    "        try:\n",
    "            mapped_genes.append(mapper[gene])\n",
    "        except:\n",
    "            pass\n",
    "    print(f'mapped genes: {len(mapped_genes)}')\n",
    "    \n",
    "    goea_results_all = goeaobj.run_study(mapped_genes)\n",
    "    goea_results_sig = [r for r in goea_results_all if r.p_fdr_bh < 0.05]\n",
    "    GO = pd.DataFrame(list(map(lambda x: [x.GO, x.goterm.name, x.goterm.namespace, x.p_uncorrected, x.p_fdr_bh,\\\n",
    "                   x.ratio_in_study[0], x.ratio_in_study[1], GO_items.count(x.GO), list(map(lambda y: inv_map[y], x.study_items)),\\\n",
    "                   ], goea_results_sig)), columns = ['GO', 'term', 'class', 'p', 'p_corr', 'n_genes',\\\n",
    "                                                    'n_study', 'n_go', 'study_genes'])\n",
    "\n",
    "    GO = GO[GO.n_genes > 1]\n",
    "    return GO"
   ]
  },
  {
   "cell_type": "code",
   "execution_count": 3,
   "id": "05954d1d",
   "metadata": {},
   "outputs": [],
   "source": [
    "import pandas as pd \n",
    "import numpy as np \n",
    "import os \n",
    "import sys "
   ]
  },
  {
   "cell_type": "code",
   "execution_count": 4,
   "id": "27c4f6b6",
   "metadata": {},
   "outputs": [],
   "source": [
    "GeneSets = pd.read_excel('../output/GO_analysis/GeneSet_Comparison.xlsx').iloc[:,1:]"
   ]
  },
  {
   "cell_type": "code",
   "execution_count": 5,
   "id": "f138d78f",
   "metadata": {
    "scrolled": true
   },
   "outputs": [
    {
     "name": "stdout",
     "output_type": "stream",
     "text": [
      "input genes: 99\n",
      "mapped genes: 96\n",
      "\n",
      "Runing BP Ontology Analysis: current study set of 96 IDs.\n",
      " 90%     86 of     96 study items found in association\n",
      "100%     96 of     96 study items found in population(28212)\n",
      "Calculating 12,766 uncorrected p-values using fisher_scipy_stats\n",
      "  12,766 terms are associated with 17,638 of 28,212 population items\n",
      "     718 terms are associated with     86 of     96 study items\n",
      "  METHOD fdr_bh:\n",
      "       1 GO terms found significant (< 0.05=alpha) (  1 enriched +   0 purified): statsmodels fdr_bh\n",
      "       3 study items associated with significant GO IDs (enriched)\n",
      "       0 study items associated with significant GO IDs (purified)\n",
      "\n",
      "Runing CC Ontology Analysis: current study set of 96 IDs.\n",
      " 95%     91 of     96 study items found in association\n",
      "100%     96 of     96 study items found in population(28212)\n",
      "Calculating 1,804 uncorrected p-values using fisher_scipy_stats\n",
      "   1,804 terms are associated with 18,670 of 28,212 population items\n",
      "     208 terms are associated with     91 of     96 study items\n",
      "  METHOD fdr_bh:\n",
      "      20 GO terms found significant (< 0.05=alpha) ( 20 enriched +   0 purified): statsmodels fdr_bh\n",
      "      77 study items associated with significant GO IDs (enriched)\n",
      "       0 study items associated with significant GO IDs (purified)\n",
      "\n",
      "Runing MF Ontology Analysis: current study set of 96 IDs.\n",
      " 84%     81 of     96 study items found in association\n",
      "100%     96 of     96 study items found in population(28212)\n",
      "Calculating 4,585 uncorrected p-values using fisher_scipy_stats\n",
      "   4,585 terms are associated with 17,045 of 28,212 population items\n",
      "     245 terms are associated with     81 of     96 study items\n",
      "  METHOD fdr_bh:\n",
      "       1 GO terms found significant (< 0.05=alpha) (  1 enriched +   0 purified): statsmodels fdr_bh\n",
      "      38 study items associated with significant GO IDs (enriched)\n",
      "       0 study items associated with significant GO IDs (purified)\n",
      "input genes: 99\n",
      "mapped genes: 97\n",
      "\n",
      "Runing BP Ontology Analysis: current study set of 97 IDs.\n",
      " 89%     86 of     97 study items found in association\n",
      "100%     97 of     97 study items found in population(28212)\n",
      "Calculating 12,766 uncorrected p-values using fisher_scipy_stats\n",
      "  12,766 terms are associated with 17,638 of 28,212 population items\n",
      "     692 terms are associated with     86 of     97 study items\n",
      "  METHOD fdr_bh:\n",
      "       1 GO terms found significant (< 0.05=alpha) (  1 enriched +   0 purified): statsmodels fdr_bh\n",
      "       3 study items associated with significant GO IDs (enriched)\n",
      "       0 study items associated with significant GO IDs (purified)\n",
      "\n",
      "Runing CC Ontology Analysis: current study set of 97 IDs.\n",
      " 95%     92 of     97 study items found in association\n",
      "100%     97 of     97 study items found in population(28212)\n",
      "Calculating 1,804 uncorrected p-values using fisher_scipy_stats\n",
      "   1,804 terms are associated with 18,670 of 28,212 population items\n",
      "     209 terms are associated with     92 of     97 study items\n",
      "  METHOD fdr_bh:\n",
      "      19 GO terms found significant (< 0.05=alpha) ( 19 enriched +   0 purified): statsmodels fdr_bh\n",
      "      80 study items associated with significant GO IDs (enriched)\n",
      "       0 study items associated with significant GO IDs (purified)\n",
      "\n",
      "Runing MF Ontology Analysis: current study set of 97 IDs.\n",
      " 86%     83 of     97 study items found in association\n",
      "100%     97 of     97 study items found in population(28212)\n",
      "Calculating 4,585 uncorrected p-values using fisher_scipy_stats\n",
      "   4,585 terms are associated with 17,045 of 28,212 population items\n",
      "     234 terms are associated with     83 of     97 study items\n",
      "  METHOD fdr_bh:\n",
      "       2 GO terms found significant (< 0.05=alpha) (  2 enriched +   0 purified): statsmodels fdr_bh\n",
      "      42 study items associated with significant GO IDs (enriched)\n",
      "       0 study items associated with significant GO IDs (purified)\n",
      "input genes: 99\n",
      "mapped genes: 95\n",
      "\n",
      "Runing BP Ontology Analysis: current study set of 95 IDs.\n",
      " 83%     79 of     95 study items found in association\n",
      "100%     95 of     95 study items found in population(28212)\n",
      "Calculating 12,766 uncorrected p-values using fisher_scipy_stats\n",
      "  12,766 terms are associated with 17,638 of 28,212 population items\n",
      "     582 terms are associated with     79 of     95 study items\n",
      "  METHOD fdr_bh:\n",
      "       0 GO terms found significant (< 0.05=alpha) (  0 enriched +   0 purified): statsmodels fdr_bh\n",
      "       0 study items associated with significant GO IDs (enriched)\n",
      "       0 study items associated with significant GO IDs (purified)\n",
      "\n",
      "Runing CC Ontology Analysis: current study set of 95 IDs.\n",
      " 92%     87 of     95 study items found in association\n",
      "100%     95 of     95 study items found in population(28212)\n",
      "Calculating 1,804 uncorrected p-values using fisher_scipy_stats\n",
      "   1,804 terms are associated with 18,670 of 28,212 population items\n",
      "     176 terms are associated with     87 of     95 study items\n",
      "  METHOD fdr_bh:\n",
      "      13 GO terms found significant (< 0.05=alpha) ( 13 enriched +   0 purified): statsmodels fdr_bh\n",
      "      76 study items associated with significant GO IDs (enriched)\n",
      "       0 study items associated with significant GO IDs (purified)\n",
      "\n",
      "Runing MF Ontology Analysis: current study set of 95 IDs.\n",
      " 84%     80 of     95 study items found in association\n",
      "100%     95 of     95 study items found in population(28212)\n",
      "Calculating 4,585 uncorrected p-values using fisher_scipy_stats\n",
      "   4,585 terms are associated with 17,045 of 28,212 population items\n",
      "     221 terms are associated with     80 of     95 study items\n",
      "  METHOD fdr_bh:\n",
      "       0 GO terms found significant (< 0.05=alpha) (  0 enriched +   0 purified): statsmodels fdr_bh\n",
      "       0 study items associated with significant GO IDs (enriched)\n",
      "       0 study items associated with significant GO IDs (purified)\n",
      "input genes: 99\n",
      "mapped genes: 97\n",
      "\n",
      "Runing BP Ontology Analysis: current study set of 97 IDs.\n",
      " 81%     79 of     97 study items found in association\n",
      "100%     97 of     97 study items found in population(28212)\n",
      "Calculating 12,766 uncorrected p-values using fisher_scipy_stats\n",
      "  12,766 terms are associated with 17,638 of 28,212 population items\n",
      "     582 terms are associated with     79 of     97 study items\n",
      "  METHOD fdr_bh:\n",
      "       4 GO terms found significant (< 0.05=alpha) (  4 enriched +   0 purified): statsmodels fdr_bh\n",
      "      14 study items associated with significant GO IDs (enriched)\n",
      "       0 study items associated with significant GO IDs (purified)\n",
      "\n",
      "Runing CC Ontology Analysis: current study set of 97 IDs.\n",
      " 89%     86 of     97 study items found in association\n",
      "100%     97 of     97 study items found in population(28212)\n",
      "Calculating 1,804 uncorrected p-values using fisher_scipy_stats\n",
      "   1,804 terms are associated with 18,670 of 28,212 population items\n",
      "     168 terms are associated with     86 of     97 study items\n",
      "  METHOD fdr_bh:\n",
      "      10 GO terms found significant (< 0.05=alpha) ( 10 enriched +   0 purified): statsmodels fdr_bh\n",
      "      52 study items associated with significant GO IDs (enriched)\n",
      "       0 study items associated with significant GO IDs (purified)\n",
      "\n",
      "Runing MF Ontology Analysis: current study set of 97 IDs.\n",
      " 80%     78 of     97 study items found in association\n",
      "100%     97 of     97 study items found in population(28212)\n",
      "Calculating 4,585 uncorrected p-values using fisher_scipy_stats\n",
      "   4,585 terms are associated with 17,045 of 28,212 population items\n",
      "     215 terms are associated with     78 of     97 study items\n",
      "  METHOD fdr_bh:\n",
      "       0 GO terms found significant (< 0.05=alpha) (  0 enriched +   0 purified): statsmodels fdr_bh\n",
      "       0 study items associated with significant GO IDs (enriched)\n",
      "       0 study items associated with significant GO IDs (purified)\n",
      "input genes: 99\n",
      "mapped genes: 50\n",
      "\n",
      "Runing BP Ontology Analysis: current study set of 50 IDs.\n",
      " 94%     47 of     50 study items found in association\n",
      "100%     50 of     50 study items found in population(28212)\n",
      "Calculating 12,766 uncorrected p-values using fisher_scipy_stats\n",
      "  12,766 terms are associated with 17,638 of 28,212 population items\n",
      "     241 terms are associated with     47 of     50 study items\n",
      "  METHOD fdr_bh:\n",
      "       1 GO terms found significant (< 0.05=alpha) (  1 enriched +   0 purified): statsmodels fdr_bh\n",
      "       4 study items associated with significant GO IDs (enriched)\n",
      "       0 study items associated with significant GO IDs (purified)\n",
      "\n",
      "Runing CC Ontology Analysis: current study set of 50 IDs.\n",
      " 98%     49 of     50 study items found in association\n",
      "100%     50 of     50 study items found in population(28212)\n",
      "Calculating 1,804 uncorrected p-values using fisher_scipy_stats\n"
     ]
    },
    {
     "name": "stdout",
     "output_type": "stream",
     "text": [
      "   1,804 terms are associated with 18,670 of 28,212 population items\n",
      "      94 terms are associated with     49 of     50 study items\n",
      "  METHOD fdr_bh:\n",
      "       3 GO terms found significant (< 0.05=alpha) (  3 enriched +   0 purified): statsmodels fdr_bh\n",
      "       5 study items associated with significant GO IDs (enriched)\n",
      "       0 study items associated with significant GO IDs (purified)\n",
      "\n",
      "Runing MF Ontology Analysis: current study set of 50 IDs.\n",
      " 84%     42 of     50 study items found in association\n",
      "100%     50 of     50 study items found in population(28212)\n",
      "Calculating 4,585 uncorrected p-values using fisher_scipy_stats\n",
      "   4,585 terms are associated with 17,045 of 28,212 population items\n",
      "     117 terms are associated with     42 of     50 study items\n",
      "  METHOD fdr_bh:\n",
      "       0 GO terms found significant (< 0.05=alpha) (  0 enriched +   0 purified): statsmodels fdr_bh\n",
      "       0 study items associated with significant GO IDs (enriched)\n",
      "       0 study items associated with significant GO IDs (purified)\n",
      "input genes: 99\n",
      "mapped genes: 50\n",
      "\n",
      "Runing BP Ontology Analysis: current study set of 50 IDs.\n",
      " 94%     47 of     50 study items found in association\n",
      "100%     50 of     50 study items found in population(28212)\n",
      "Calculating 12,766 uncorrected p-values using fisher_scipy_stats\n",
      "  12,766 terms are associated with 17,638 of 28,212 population items\n",
      "     241 terms are associated with     47 of     50 study items\n",
      "  METHOD fdr_bh:\n",
      "       1 GO terms found significant (< 0.05=alpha) (  1 enriched +   0 purified): statsmodels fdr_bh\n",
      "       4 study items associated with significant GO IDs (enriched)\n",
      "       0 study items associated with significant GO IDs (purified)\n",
      "\n",
      "Runing CC Ontology Analysis: current study set of 50 IDs.\n",
      " 98%     49 of     50 study items found in association\n",
      "100%     50 of     50 study items found in population(28212)\n",
      "Calculating 1,804 uncorrected p-values using fisher_scipy_stats\n",
      "   1,804 terms are associated with 18,670 of 28,212 population items\n",
      "      94 terms are associated with     49 of     50 study items\n",
      "  METHOD fdr_bh:\n",
      "       3 GO terms found significant (< 0.05=alpha) (  3 enriched +   0 purified): statsmodels fdr_bh\n",
      "       5 study items associated with significant GO IDs (enriched)\n",
      "       0 study items associated with significant GO IDs (purified)\n",
      "\n",
      "Runing MF Ontology Analysis: current study set of 50 IDs.\n",
      " 84%     42 of     50 study items found in association\n",
      "100%     50 of     50 study items found in population(28212)\n",
      "Calculating 4,585 uncorrected p-values using fisher_scipy_stats\n",
      "   4,585 terms are associated with 17,045 of 28,212 population items\n",
      "     117 terms are associated with     42 of     50 study items\n",
      "  METHOD fdr_bh:\n",
      "       0 GO terms found significant (< 0.05=alpha) (  0 enriched +   0 purified): statsmodels fdr_bh\n",
      "       0 study items associated with significant GO IDs (enriched)\n",
      "       0 study items associated with significant GO IDs (purified)\n",
      "input genes: 99\n",
      "mapped genes: 89\n",
      "\n",
      "Runing BP Ontology Analysis: current study set of 89 IDs.\n",
      " 74%     66 of     89 study items found in association\n",
      "100%     89 of     89 study items found in population(28212)\n",
      "Calculating 12,766 uncorrected p-values using fisher_scipy_stats\n",
      "  12,766 terms are associated with 17,638 of 28,212 population items\n",
      "     261 terms are associated with     66 of     89 study items\n",
      "  METHOD fdr_bh:\n",
      "       1 GO terms found significant (< 0.05=alpha) (  1 enriched +   0 purified): statsmodels fdr_bh\n",
      "      14 study items associated with significant GO IDs (enriched)\n",
      "       0 study items associated with significant GO IDs (purified)\n",
      "\n",
      "Runing CC Ontology Analysis: current study set of 89 IDs.\n",
      " 83%     74 of     89 study items found in association\n",
      "100%     89 of     89 study items found in population(28212)\n",
      "Calculating 1,804 uncorrected p-values using fisher_scipy_stats\n",
      "   1,804 terms are associated with 18,670 of 28,212 population items\n",
      "     132 terms are associated with     74 of     89 study items\n",
      "  METHOD fdr_bh:\n",
      "       1 GO terms found significant (< 0.05=alpha) (  1 enriched +   0 purified): statsmodels fdr_bh\n",
      "      40 study items associated with significant GO IDs (enriched)\n",
      "       0 study items associated with significant GO IDs (purified)\n",
      "\n",
      "Runing MF Ontology Analysis: current study set of 89 IDs.\n",
      " 74%     66 of     89 study items found in association\n",
      "100%     89 of     89 study items found in population(28212)\n",
      "Calculating 4,585 uncorrected p-values using fisher_scipy_stats\n",
      "   4,585 terms are associated with 17,045 of 28,212 population items\n",
      "     160 terms are associated with     66 of     89 study items\n",
      "  METHOD fdr_bh:\n",
      "       3 GO terms found significant (< 0.05=alpha) (  3 enriched +   0 purified): statsmodels fdr_bh\n",
      "      23 study items associated with significant GO IDs (enriched)\n",
      "       0 study items associated with significant GO IDs (purified)\n",
      "input genes: 99\n",
      "mapped genes: 99\n",
      "\n",
      "Runing BP Ontology Analysis: current study set of 99 IDs.\n",
      " 97%     96 of     99 study items found in association\n",
      "100%     99 of     99 study items found in population(28212)\n",
      "Calculating 12,766 uncorrected p-values using fisher_scipy_stats\n",
      "  12,766 terms are associated with 17,638 of 28,212 population items\n",
      "     943 terms are associated with     96 of     99 study items\n",
      "  METHOD fdr_bh:\n",
      "      50 GO terms found significant (< 0.05=alpha) ( 50 enriched +   0 purified): statsmodels fdr_bh\n",
      "      94 study items associated with significant GO IDs (enriched)\n",
      "       0 study items associated with significant GO IDs (purified)\n",
      "\n",
      "Runing CC Ontology Analysis: current study set of 99 IDs.\n",
      " 97%     96 of     99 study items found in association\n",
      "100%     99 of     99 study items found in population(28212)\n",
      "Calculating 1,804 uncorrected p-values using fisher_scipy_stats\n",
      "   1,804 terms are associated with 18,670 of 28,212 population items\n",
      "     172 terms are associated with     96 of     99 study items\n",
      "  METHOD fdr_bh:\n",
      "      19 GO terms found significant (< 0.05=alpha) ( 18 enriched +   1 purified): statsmodels fdr_bh\n",
      "      96 study items associated with significant GO IDs (enriched)\n",
      "       6 study items associated with significant GO IDs (purified)\n",
      "\n",
      "Runing MF Ontology Analysis: current study set of 99 IDs.\n",
      " 99%     98 of     99 study items found in association\n",
      "100%     99 of     99 study items found in population(28212)\n",
      "Calculating 4,585 uncorrected p-values using fisher_scipy_stats\n",
      "   4,585 terms are associated with 17,045 of 28,212 population items\n",
      "     198 terms are associated with     98 of     99 study items\n",
      "  METHOD fdr_bh:\n",
      "      37 GO terms found significant (< 0.05=alpha) ( 37 enriched +   0 purified): statsmodels fdr_bh\n",
      "      97 study items associated with significant GO IDs (enriched)\n",
      "       0 study items associated with significant GO IDs (purified)\n"
     ]
    }
   ],
   "source": [
    "\"\"\"\n",
    "Conduct GO analysis on all the columns in GeneSets from different anlaysis\n",
    "into the df dictionary \n",
    "\"\"\"\n",
    "df = {}\n",
    "for col in GeneSets.columns: \n",
    "    df[col] = go_it(GeneSets[col].values)\n",
    "    df[col]['n_genes/n_go'] = df[col].n_genes/df[col].n_go\n",
    "    df[col]['n_genes/n_study'] = df[col].n_genes/df[col].n_study"
   ]
  },
  {
   "cell_type": "code",
   "execution_count": 47,
   "id": "488ceba3",
   "metadata": {},
   "outputs": [
    {
     "data": {
      "application/vnd.plotly.v1+json": {
       "config": {
        "plotlyServerURL": "https://plot.ly"
       },
       "data": [
        {
         "alignmentgroup": "True",
         "customdata": [
          [
           [
            "Dzip1l",
            "Arl13b",
            "Traf3ip1"
           ]
          ],
          [
           [
            "Sdcbp",
            "Arhgef28",
            "Snap25",
            "Lrrc3b",
            "Epha5",
            "Lamp1",
            "Pde4a",
            "Kcnma1",
            "Fkbp2",
            "Rtp1",
            "Pde6d",
            "Atp1a1",
            "Clstn1",
            "Camk2d",
            "Aldoa",
            "Spcs1",
            "Arl3",
            "Nat14",
            "Scg3",
            "Macf1",
            "Acsl6",
            "Jakmip1",
            "Ghitm",
            "Ubl3",
            "Sgpl1",
            "Acbd5",
            "Sgtb",
            "Dner",
            "Arl13b",
            "Ormdl3",
            "Tmem59",
            "Rtp2",
            "Mcf2l",
            "Gramd1c",
            "Manea",
            "Bsg",
            "Atp6v1a",
            "Faim2",
            "Rnf128",
            "Nrn1l",
            "Aig1",
            "Abhd16a",
            "Mslnl",
            "Dnajb14",
            "Herpud1",
            "Spef1",
            "Slc24a2",
            "Psen2",
            "Tmem30a",
            "Oscp1",
            "Npdc1",
            "Ctsb",
            "Tspan3",
            "Syt1",
            "Ndufv3",
            "Cnga2",
            "Serinc1",
            "Syt7"
           ]
          ],
          [
           [
            "Ccdc39",
            "Kifap3",
            "Traf3ip1",
            "Ttll3",
            "Arl13b",
            "Spef1",
            "Dzip1l",
            "Arl3"
           ]
          ],
          [
           [
            "Epha5",
            "Pde6d",
            "Atp1a1",
            "Clstn1",
            "Arl3",
            "Macf1",
            "Traf3ip1",
            "Arl13b",
            "Bsg",
            "Dzip1l",
            "Enkur",
            "Cfap69",
            "Spef1",
            "Cplx2",
            "Ccdc39",
            "Ttll6",
            "Ttll3",
            "Ift74",
            "Syt7"
           ]
          ],
          [
           [
            "Sdcbp",
            "Arhgef28",
            "Snap25",
            "Epha5",
            "Lamp1",
            "Pde4a",
            "Kcnma1",
            "Rtp1",
            "Atp1a1",
            "Clstn1",
            "Camk2d",
            "Aldoa",
            "Macf1",
            "Ubl3",
            "Dner",
            "Arl13b",
            "Tmem59",
            "Rtp2",
            "Mcf2l",
            "Gramd1c",
            "Bsg",
            "Atp6v1a",
            "Faim2",
            "Nrn1l",
            "Aig1",
            "Spef1",
            "Hist2h2be",
            "Slc24a2",
            "Psen2",
            "Pcdh10",
            "Tmem30a",
            "Oscp1",
            "Ctsb",
            "Nfe2l2",
            "Tspan3",
            "Syt1",
            "Cnga2",
            "Serinc1",
            "Syt7"
           ]
          ],
          [
           [
            "Sdcbp",
            "Kcnma1",
            "Fkbp2",
            "Atp1a1",
            "Clstn1",
            "Spcs1",
            "Acsl6",
            "Sgpl1",
            "Ormdl3",
            "Gramd1c",
            "Bsg",
            "Kifap3",
            "Faim2",
            "Rnf128",
            "Dnajb14",
            "Herpud1",
            "Tmem30a",
            "Psen2",
            "Rap1gds1",
            "Serinc1"
           ]
          ],
          [
           [
            "Enkur",
            "Ccdc39",
            "Traf3ip1",
            "Cfap69",
            "Ttll6",
            "Ttll3",
            "Ift74",
            "Arl13b",
            "Spef1",
            "Dzip1l"
           ]
          ],
          [
           [
            "Snap25",
            "Epha5",
            "Lamp1",
            "Dner",
            "Kcnma1",
            "Cplx2",
            "Mapk8ip2",
            "Nqo1",
            "Syt7",
            "Camk2d",
            "Psen2"
           ]
          ],
          [
           [
            "Enkur",
            "Cfap69",
            "Ttll3",
            "Ift74",
            "Arl13b",
            "Spef1"
           ]
          ],
          [
           [
            "Traf3ip1",
            "Kifap3",
            "Ttll6",
            "Dzip1l",
            "Psen2",
            "Arl3"
           ]
          ],
          [
           [
            "Enkur",
            "Sdcbp",
            "Macf1",
            "Ccdc39",
            "Limch1",
            "Snap25",
            "Traf3ip1",
            "Jakmip1",
            "Rnf128",
            "Ttll6",
            "Ttll3",
            "Spef1",
            "Pde6d",
            "Dzip1l",
            "Arl3"
           ]
          ],
          [
           [
            "Enkur",
            "Ccdc39",
            "Spef1"
           ]
          ],
          [
           [
            "Cplx2",
            "Snap25"
           ]
          ],
          [
           [
            "Macf1",
            "Traf3ip1",
            "Kifap3",
            "Jakmip1",
            "Ttll3",
            "Arl3"
           ]
          ],
          [
           [
            "Dnajb14",
            "Herpud1",
            "Bsg",
            "Ormdl3",
            "Rtp1",
            "Rtp2",
            "Gramd1c",
            "Serinc1",
            "Spcs1"
           ]
          ],
          [
           [
            "Atp1a1",
            "Enkur",
            "Ttll3",
            "Ak1"
           ]
          ],
          [
           [
            "Traf3ip1",
            "Kifap3",
            "Arl3"
           ]
          ],
          [
           [
            "Macf1",
            "Kifap3",
            "Nfe2l2",
            "Faim2",
            "Rnf128",
            "Rabgap1l",
            "Syt1",
            "Tmem59",
            "Atp1a1",
            "Clstn1",
            "Manea",
            "Tmem30a",
            "Psen2",
            "Arl3"
           ]
          ],
          [
           [
            "Snap25",
            "Psen2",
            "Lamp1",
            "Syt1",
            "Syt7"
           ]
          ],
          [
           [
            "Snap25",
            "Ctsb",
            "Epha5",
            "Lamp1",
            "Pde4a",
            "Kcnma1",
            "Ak1",
            "Camk2d",
            "Psen2"
           ]
          ],
          [
           [
            "Sdcbp",
            "Snap25",
            "Faim2",
            "Bsg",
            "Atp1a1",
            "Psen2"
           ]
          ],
          [
           [
            "Cbx4",
            "Sdcbp",
            "Arhgef28",
            "Snap25",
            "Epha5",
            "Lamp1",
            "Kcnma1",
            "Pde6d",
            "Atp1a1",
            "Syt7",
            "Camk2d",
            "Clstn1",
            "Arl3",
            "Scg3",
            "Macf1",
            "Acsl6",
            "Traf3ip1",
            "Arl13b",
            "Mapk8ip2",
            "Mcf2l",
            "Nqo1",
            "Bsg",
            "Dzip1l",
            "Enkur",
            "Med21",
            "Kifap3",
            "Faim2",
            "Nrn1l",
            "Herpud1",
            "Psap",
            "Hist2h2be",
            "Purb",
            "Psen2",
            "Tmem30a",
            "Nfe2l2",
            "Ttll6",
            "Syt1",
            "Kat6a"
           ]
          ]
         ],
         "hovertemplate": "n_genes/n_go=%{x}<br>term=%{y}<br>study_genes=%{customdata[0]}<extra></extra>",
         "legendgroup": "",
         "marker": {
          "color": "#636efa",
          "pattern": {
           "shape": ""
          }
         },
         "name": "",
         "offsetgroup": "",
         "orientation": "h",
         "showlegend": false,
         "textposition": "auto",
         "type": "bar",
         "x": [
          0.375,
          0.007446398767492618,
          0.06779661016949153,
          0.015728476821192054,
          0.007836045810729355,
          0.012262415695892091,
          0.02557544757033248,
          0.016923076923076923,
          0.0335195530726257,
          0.03296703296703297,
          0.010932944606413994,
          0.13043478260869565,
          0.5,
          0.02843601895734597,
          0.0162748643761302,
          0.04597701149425287,
          0.07894736842105263,
          0.009852216748768473,
          0.029069767441860465,
          0.013215859030837005,
          0.02027027027027027,
          0.0070448646644419724
         ],
         "xaxis": "x",
         "y": [
          "neural tube patterning",
          "membrane",
          "axoneme",
          "cell projection",
          "plasma membrane",
          "endoplasmic reticulum",
          "cilium",
          "neuronal cell body",
          "motile cilium",
          "ciliary basal body",
          "cytoskeleton",
          "9+2 motile cilium",
          "synaptobrevin 2-SNAP-25-syntaxin-1a-complexin II complex",
          "microtubule cytoskeleton",
          "endoplasmic reticulum membrane",
          "sperm flagellum",
          "ciliary transition zone",
          "Golgi apparatus",
          "synaptic vesicle",
          "perinuclear region of cytoplasm",
          "membrane raft",
          "protein binding"
         ],
         "yaxis": "y"
        }
       ],
       "layout": {
        "barmode": "relative",
        "legend": {
         "tracegroupgap": 0
        },
        "plot_bgcolor": "rgba(0, 0, 0, 0)",
        "template": {
         "data": {
          "bar": [
           {
            "error_x": {
             "color": "#2a3f5f"
            },
            "error_y": {
             "color": "#2a3f5f"
            },
            "marker": {
             "line": {
              "color": "#E5ECF6",
              "width": 0.5
             },
             "pattern": {
              "fillmode": "overlay",
              "size": 10,
              "solidity": 0.2
             }
            },
            "type": "bar"
           }
          ],
          "barpolar": [
           {
            "marker": {
             "line": {
              "color": "#E5ECF6",
              "width": 0.5
             },
             "pattern": {
              "fillmode": "overlay",
              "size": 10,
              "solidity": 0.2
             }
            },
            "type": "barpolar"
           }
          ],
          "carpet": [
           {
            "aaxis": {
             "endlinecolor": "#2a3f5f",
             "gridcolor": "white",
             "linecolor": "white",
             "minorgridcolor": "white",
             "startlinecolor": "#2a3f5f"
            },
            "baxis": {
             "endlinecolor": "#2a3f5f",
             "gridcolor": "white",
             "linecolor": "white",
             "minorgridcolor": "white",
             "startlinecolor": "#2a3f5f"
            },
            "type": "carpet"
           }
          ],
          "choropleth": [
           {
            "colorbar": {
             "outlinewidth": 0,
             "ticks": ""
            },
            "type": "choropleth"
           }
          ],
          "contour": [
           {
            "colorbar": {
             "outlinewidth": 0,
             "ticks": ""
            },
            "colorscale": [
             [
              0,
              "#0d0887"
             ],
             [
              0.1111111111111111,
              "#46039f"
             ],
             [
              0.2222222222222222,
              "#7201a8"
             ],
             [
              0.3333333333333333,
              "#9c179e"
             ],
             [
              0.4444444444444444,
              "#bd3786"
             ],
             [
              0.5555555555555556,
              "#d8576b"
             ],
             [
              0.6666666666666666,
              "#ed7953"
             ],
             [
              0.7777777777777778,
              "#fb9f3a"
             ],
             [
              0.8888888888888888,
              "#fdca26"
             ],
             [
              1,
              "#f0f921"
             ]
            ],
            "type": "contour"
           }
          ],
          "contourcarpet": [
           {
            "colorbar": {
             "outlinewidth": 0,
             "ticks": ""
            },
            "type": "contourcarpet"
           }
          ],
          "heatmap": [
           {
            "colorbar": {
             "outlinewidth": 0,
             "ticks": ""
            },
            "colorscale": [
             [
              0,
              "#0d0887"
             ],
             [
              0.1111111111111111,
              "#46039f"
             ],
             [
              0.2222222222222222,
              "#7201a8"
             ],
             [
              0.3333333333333333,
              "#9c179e"
             ],
             [
              0.4444444444444444,
              "#bd3786"
             ],
             [
              0.5555555555555556,
              "#d8576b"
             ],
             [
              0.6666666666666666,
              "#ed7953"
             ],
             [
              0.7777777777777778,
              "#fb9f3a"
             ],
             [
              0.8888888888888888,
              "#fdca26"
             ],
             [
              1,
              "#f0f921"
             ]
            ],
            "type": "heatmap"
           }
          ],
          "heatmapgl": [
           {
            "colorbar": {
             "outlinewidth": 0,
             "ticks": ""
            },
            "colorscale": [
             [
              0,
              "#0d0887"
             ],
             [
              0.1111111111111111,
              "#46039f"
             ],
             [
              0.2222222222222222,
              "#7201a8"
             ],
             [
              0.3333333333333333,
              "#9c179e"
             ],
             [
              0.4444444444444444,
              "#bd3786"
             ],
             [
              0.5555555555555556,
              "#d8576b"
             ],
             [
              0.6666666666666666,
              "#ed7953"
             ],
             [
              0.7777777777777778,
              "#fb9f3a"
             ],
             [
              0.8888888888888888,
              "#fdca26"
             ],
             [
              1,
              "#f0f921"
             ]
            ],
            "type": "heatmapgl"
           }
          ],
          "histogram": [
           {
            "marker": {
             "pattern": {
              "fillmode": "overlay",
              "size": 10,
              "solidity": 0.2
             }
            },
            "type": "histogram"
           }
          ],
          "histogram2d": [
           {
            "colorbar": {
             "outlinewidth": 0,
             "ticks": ""
            },
            "colorscale": [
             [
              0,
              "#0d0887"
             ],
             [
              0.1111111111111111,
              "#46039f"
             ],
             [
              0.2222222222222222,
              "#7201a8"
             ],
             [
              0.3333333333333333,
              "#9c179e"
             ],
             [
              0.4444444444444444,
              "#bd3786"
             ],
             [
              0.5555555555555556,
              "#d8576b"
             ],
             [
              0.6666666666666666,
              "#ed7953"
             ],
             [
              0.7777777777777778,
              "#fb9f3a"
             ],
             [
              0.8888888888888888,
              "#fdca26"
             ],
             [
              1,
              "#f0f921"
             ]
            ],
            "type": "histogram2d"
           }
          ],
          "histogram2dcontour": [
           {
            "colorbar": {
             "outlinewidth": 0,
             "ticks": ""
            },
            "colorscale": [
             [
              0,
              "#0d0887"
             ],
             [
              0.1111111111111111,
              "#46039f"
             ],
             [
              0.2222222222222222,
              "#7201a8"
             ],
             [
              0.3333333333333333,
              "#9c179e"
             ],
             [
              0.4444444444444444,
              "#bd3786"
             ],
             [
              0.5555555555555556,
              "#d8576b"
             ],
             [
              0.6666666666666666,
              "#ed7953"
             ],
             [
              0.7777777777777778,
              "#fb9f3a"
             ],
             [
              0.8888888888888888,
              "#fdca26"
             ],
             [
              1,
              "#f0f921"
             ]
            ],
            "type": "histogram2dcontour"
           }
          ],
          "mesh3d": [
           {
            "colorbar": {
             "outlinewidth": 0,
             "ticks": ""
            },
            "type": "mesh3d"
           }
          ],
          "parcoords": [
           {
            "line": {
             "colorbar": {
              "outlinewidth": 0,
              "ticks": ""
             }
            },
            "type": "parcoords"
           }
          ],
          "pie": [
           {
            "automargin": true,
            "type": "pie"
           }
          ],
          "scatter": [
           {
            "marker": {
             "colorbar": {
              "outlinewidth": 0,
              "ticks": ""
             }
            },
            "type": "scatter"
           }
          ],
          "scatter3d": [
           {
            "line": {
             "colorbar": {
              "outlinewidth": 0,
              "ticks": ""
             }
            },
            "marker": {
             "colorbar": {
              "outlinewidth": 0,
              "ticks": ""
             }
            },
            "type": "scatter3d"
           }
          ],
          "scattercarpet": [
           {
            "marker": {
             "colorbar": {
              "outlinewidth": 0,
              "ticks": ""
             }
            },
            "type": "scattercarpet"
           }
          ],
          "scattergeo": [
           {
            "marker": {
             "colorbar": {
              "outlinewidth": 0,
              "ticks": ""
             }
            },
            "type": "scattergeo"
           }
          ],
          "scattergl": [
           {
            "marker": {
             "colorbar": {
              "outlinewidth": 0,
              "ticks": ""
             }
            },
            "type": "scattergl"
           }
          ],
          "scattermapbox": [
           {
            "marker": {
             "colorbar": {
              "outlinewidth": 0,
              "ticks": ""
             }
            },
            "type": "scattermapbox"
           }
          ],
          "scatterpolar": [
           {
            "marker": {
             "colorbar": {
              "outlinewidth": 0,
              "ticks": ""
             }
            },
            "type": "scatterpolar"
           }
          ],
          "scatterpolargl": [
           {
            "marker": {
             "colorbar": {
              "outlinewidth": 0,
              "ticks": ""
             }
            },
            "type": "scatterpolargl"
           }
          ],
          "scatterternary": [
           {
            "marker": {
             "colorbar": {
              "outlinewidth": 0,
              "ticks": ""
             }
            },
            "type": "scatterternary"
           }
          ],
          "surface": [
           {
            "colorbar": {
             "outlinewidth": 0,
             "ticks": ""
            },
            "colorscale": [
             [
              0,
              "#0d0887"
             ],
             [
              0.1111111111111111,
              "#46039f"
             ],
             [
              0.2222222222222222,
              "#7201a8"
             ],
             [
              0.3333333333333333,
              "#9c179e"
             ],
             [
              0.4444444444444444,
              "#bd3786"
             ],
             [
              0.5555555555555556,
              "#d8576b"
             ],
             [
              0.6666666666666666,
              "#ed7953"
             ],
             [
              0.7777777777777778,
              "#fb9f3a"
             ],
             [
              0.8888888888888888,
              "#fdca26"
             ],
             [
              1,
              "#f0f921"
             ]
            ],
            "type": "surface"
           }
          ],
          "table": [
           {
            "cells": {
             "fill": {
              "color": "#EBF0F8"
             },
             "line": {
              "color": "white"
             }
            },
            "header": {
             "fill": {
              "color": "#C8D4E3"
             },
             "line": {
              "color": "white"
             }
            },
            "type": "table"
           }
          ]
         },
         "layout": {
          "annotationdefaults": {
           "arrowcolor": "#2a3f5f",
           "arrowhead": 0,
           "arrowwidth": 1
          },
          "autotypenumbers": "strict",
          "coloraxis": {
           "colorbar": {
            "outlinewidth": 0,
            "ticks": ""
           }
          },
          "colorscale": {
           "diverging": [
            [
             0,
             "#8e0152"
            ],
            [
             0.1,
             "#c51b7d"
            ],
            [
             0.2,
             "#de77ae"
            ],
            [
             0.3,
             "#f1b6da"
            ],
            [
             0.4,
             "#fde0ef"
            ],
            [
             0.5,
             "#f7f7f7"
            ],
            [
             0.6,
             "#e6f5d0"
            ],
            [
             0.7,
             "#b8e186"
            ],
            [
             0.8,
             "#7fbc41"
            ],
            [
             0.9,
             "#4d9221"
            ],
            [
             1,
             "#276419"
            ]
           ],
           "sequential": [
            [
             0,
             "#0d0887"
            ],
            [
             0.1111111111111111,
             "#46039f"
            ],
            [
             0.2222222222222222,
             "#7201a8"
            ],
            [
             0.3333333333333333,
             "#9c179e"
            ],
            [
             0.4444444444444444,
             "#bd3786"
            ],
            [
             0.5555555555555556,
             "#d8576b"
            ],
            [
             0.6666666666666666,
             "#ed7953"
            ],
            [
             0.7777777777777778,
             "#fb9f3a"
            ],
            [
             0.8888888888888888,
             "#fdca26"
            ],
            [
             1,
             "#f0f921"
            ]
           ],
           "sequentialminus": [
            [
             0,
             "#0d0887"
            ],
            [
             0.1111111111111111,
             "#46039f"
            ],
            [
             0.2222222222222222,
             "#7201a8"
            ],
            [
             0.3333333333333333,
             "#9c179e"
            ],
            [
             0.4444444444444444,
             "#bd3786"
            ],
            [
             0.5555555555555556,
             "#d8576b"
            ],
            [
             0.6666666666666666,
             "#ed7953"
            ],
            [
             0.7777777777777778,
             "#fb9f3a"
            ],
            [
             0.8888888888888888,
             "#fdca26"
            ],
            [
             1,
             "#f0f921"
            ]
           ]
          },
          "colorway": [
           "#636efa",
           "#EF553B",
           "#00cc96",
           "#ab63fa",
           "#FFA15A",
           "#19d3f3",
           "#FF6692",
           "#B6E880",
           "#FF97FF",
           "#FECB52"
          ],
          "font": {
           "color": "#2a3f5f"
          },
          "geo": {
           "bgcolor": "white",
           "lakecolor": "white",
           "landcolor": "#E5ECF6",
           "showlakes": true,
           "showland": true,
           "subunitcolor": "white"
          },
          "hoverlabel": {
           "align": "left"
          },
          "hovermode": "closest",
          "mapbox": {
           "style": "light"
          },
          "paper_bgcolor": "white",
          "plot_bgcolor": "#E5ECF6",
          "polar": {
           "angularaxis": {
            "gridcolor": "white",
            "linecolor": "white",
            "ticks": ""
           },
           "bgcolor": "#E5ECF6",
           "radialaxis": {
            "gridcolor": "white",
            "linecolor": "white",
            "ticks": ""
           }
          },
          "scene": {
           "xaxis": {
            "backgroundcolor": "#E5ECF6",
            "gridcolor": "white",
            "gridwidth": 2,
            "linecolor": "white",
            "showbackground": true,
            "ticks": "",
            "zerolinecolor": "white"
           },
           "yaxis": {
            "backgroundcolor": "#E5ECF6",
            "gridcolor": "white",
            "gridwidth": 2,
            "linecolor": "white",
            "showbackground": true,
            "ticks": "",
            "zerolinecolor": "white"
           },
           "zaxis": {
            "backgroundcolor": "#E5ECF6",
            "gridcolor": "white",
            "gridwidth": 2,
            "linecolor": "white",
            "showbackground": true,
            "ticks": "",
            "zerolinecolor": "white"
           }
          },
          "shapedefaults": {
           "line": {
            "color": "#2a3f5f"
           }
          },
          "ternary": {
           "aaxis": {
            "gridcolor": "white",
            "linecolor": "white",
            "ticks": ""
           },
           "baxis": {
            "gridcolor": "white",
            "linecolor": "white",
            "ticks": ""
           },
           "bgcolor": "#E5ECF6",
           "caxis": {
            "gridcolor": "white",
            "linecolor": "white",
            "ticks": ""
           }
          },
          "title": {
           "x": 0.05
          },
          "xaxis": {
           "automargin": true,
           "gridcolor": "white",
           "linecolor": "white",
           "ticks": "",
           "title": {
            "standoff": 15
           },
           "zerolinecolor": "white",
           "zerolinewidth": 2
          },
          "yaxis": {
           "automargin": true,
           "gridcolor": "white",
           "linecolor": "white",
           "ticks": "",
           "title": {
            "standoff": 15
           },
           "zerolinecolor": "white",
           "zerolinewidth": 2
          }
         }
        },
        "title": {
         "text": "mse_rank_normalized_ALL_Olfr_rtp1"
        },
        "xaxis": {
         "anchor": "y",
         "domain": [
          0,
          1
         ],
         "title": {
          "text": "n_genes/n_go"
         }
        },
        "yaxis": {
         "anchor": "x",
         "domain": [
          0,
          1
         ],
         "title": {
          "text": "term"
         }
        }
       }
      },
      "text/html": [
       "<div>                            <div id=\"de6184d3-0fa5-43e0-b5d4-06615cd59c9a\" class=\"plotly-graph-div\" style=\"height:525px; width:100%;\"></div>            <script type=\"text/javascript\">                require([\"plotly\"], function(Plotly) {                    window.PLOTLYENV=window.PLOTLYENV || {};                                    if (document.getElementById(\"de6184d3-0fa5-43e0-b5d4-06615cd59c9a\")) {                    Plotly.newPlot(                        \"de6184d3-0fa5-43e0-b5d4-06615cd59c9a\",                        [{\"alignmentgroup\":\"True\",\"customdata\":[[[\"Dzip1l\",\"Arl13b\",\"Traf3ip1\"]],[[\"Sdcbp\",\"Arhgef28\",\"Snap25\",\"Lrrc3b\",\"Epha5\",\"Lamp1\",\"Pde4a\",\"Kcnma1\",\"Fkbp2\",\"Rtp1\",\"Pde6d\",\"Atp1a1\",\"Clstn1\",\"Camk2d\",\"Aldoa\",\"Spcs1\",\"Arl3\",\"Nat14\",\"Scg3\",\"Macf1\",\"Acsl6\",\"Jakmip1\",\"Ghitm\",\"Ubl3\",\"Sgpl1\",\"Acbd5\",\"Sgtb\",\"Dner\",\"Arl13b\",\"Ormdl3\",\"Tmem59\",\"Rtp2\",\"Mcf2l\",\"Gramd1c\",\"Manea\",\"Bsg\",\"Atp6v1a\",\"Faim2\",\"Rnf128\",\"Nrn1l\",\"Aig1\",\"Abhd16a\",\"Mslnl\",\"Dnajb14\",\"Herpud1\",\"Spef1\",\"Slc24a2\",\"Psen2\",\"Tmem30a\",\"Oscp1\",\"Npdc1\",\"Ctsb\",\"Tspan3\",\"Syt1\",\"Ndufv3\",\"Cnga2\",\"Serinc1\",\"Syt7\"]],[[\"Ccdc39\",\"Kifap3\",\"Traf3ip1\",\"Ttll3\",\"Arl13b\",\"Spef1\",\"Dzip1l\",\"Arl3\"]],[[\"Epha5\",\"Pde6d\",\"Atp1a1\",\"Clstn1\",\"Arl3\",\"Macf1\",\"Traf3ip1\",\"Arl13b\",\"Bsg\",\"Dzip1l\",\"Enkur\",\"Cfap69\",\"Spef1\",\"Cplx2\",\"Ccdc39\",\"Ttll6\",\"Ttll3\",\"Ift74\",\"Syt7\"]],[[\"Sdcbp\",\"Arhgef28\",\"Snap25\",\"Epha5\",\"Lamp1\",\"Pde4a\",\"Kcnma1\",\"Rtp1\",\"Atp1a1\",\"Clstn1\",\"Camk2d\",\"Aldoa\",\"Macf1\",\"Ubl3\",\"Dner\",\"Arl13b\",\"Tmem59\",\"Rtp2\",\"Mcf2l\",\"Gramd1c\",\"Bsg\",\"Atp6v1a\",\"Faim2\",\"Nrn1l\",\"Aig1\",\"Spef1\",\"Hist2h2be\",\"Slc24a2\",\"Psen2\",\"Pcdh10\",\"Tmem30a\",\"Oscp1\",\"Ctsb\",\"Nfe2l2\",\"Tspan3\",\"Syt1\",\"Cnga2\",\"Serinc1\",\"Syt7\"]],[[\"Sdcbp\",\"Kcnma1\",\"Fkbp2\",\"Atp1a1\",\"Clstn1\",\"Spcs1\",\"Acsl6\",\"Sgpl1\",\"Ormdl3\",\"Gramd1c\",\"Bsg\",\"Kifap3\",\"Faim2\",\"Rnf128\",\"Dnajb14\",\"Herpud1\",\"Tmem30a\",\"Psen2\",\"Rap1gds1\",\"Serinc1\"]],[[\"Enkur\",\"Ccdc39\",\"Traf3ip1\",\"Cfap69\",\"Ttll6\",\"Ttll3\",\"Ift74\",\"Arl13b\",\"Spef1\",\"Dzip1l\"]],[[\"Snap25\",\"Epha5\",\"Lamp1\",\"Dner\",\"Kcnma1\",\"Cplx2\",\"Mapk8ip2\",\"Nqo1\",\"Syt7\",\"Camk2d\",\"Psen2\"]],[[\"Enkur\",\"Cfap69\",\"Ttll3\",\"Ift74\",\"Arl13b\",\"Spef1\"]],[[\"Traf3ip1\",\"Kifap3\",\"Ttll6\",\"Dzip1l\",\"Psen2\",\"Arl3\"]],[[\"Enkur\",\"Sdcbp\",\"Macf1\",\"Ccdc39\",\"Limch1\",\"Snap25\",\"Traf3ip1\",\"Jakmip1\",\"Rnf128\",\"Ttll6\",\"Ttll3\",\"Spef1\",\"Pde6d\",\"Dzip1l\",\"Arl3\"]],[[\"Enkur\",\"Ccdc39\",\"Spef1\"]],[[\"Cplx2\",\"Snap25\"]],[[\"Macf1\",\"Traf3ip1\",\"Kifap3\",\"Jakmip1\",\"Ttll3\",\"Arl3\"]],[[\"Dnajb14\",\"Herpud1\",\"Bsg\",\"Ormdl3\",\"Rtp1\",\"Rtp2\",\"Gramd1c\",\"Serinc1\",\"Spcs1\"]],[[\"Atp1a1\",\"Enkur\",\"Ttll3\",\"Ak1\"]],[[\"Traf3ip1\",\"Kifap3\",\"Arl3\"]],[[\"Macf1\",\"Kifap3\",\"Nfe2l2\",\"Faim2\",\"Rnf128\",\"Rabgap1l\",\"Syt1\",\"Tmem59\",\"Atp1a1\",\"Clstn1\",\"Manea\",\"Tmem30a\",\"Psen2\",\"Arl3\"]],[[\"Snap25\",\"Psen2\",\"Lamp1\",\"Syt1\",\"Syt7\"]],[[\"Snap25\",\"Ctsb\",\"Epha5\",\"Lamp1\",\"Pde4a\",\"Kcnma1\",\"Ak1\",\"Camk2d\",\"Psen2\"]],[[\"Sdcbp\",\"Snap25\",\"Faim2\",\"Bsg\",\"Atp1a1\",\"Psen2\"]],[[\"Cbx4\",\"Sdcbp\",\"Arhgef28\",\"Snap25\",\"Epha5\",\"Lamp1\",\"Kcnma1\",\"Pde6d\",\"Atp1a1\",\"Syt7\",\"Camk2d\",\"Clstn1\",\"Arl3\",\"Scg3\",\"Macf1\",\"Acsl6\",\"Traf3ip1\",\"Arl13b\",\"Mapk8ip2\",\"Mcf2l\",\"Nqo1\",\"Bsg\",\"Dzip1l\",\"Enkur\",\"Med21\",\"Kifap3\",\"Faim2\",\"Nrn1l\",\"Herpud1\",\"Psap\",\"Hist2h2be\",\"Purb\",\"Psen2\",\"Tmem30a\",\"Nfe2l2\",\"Ttll6\",\"Syt1\",\"Kat6a\"]]],\"hovertemplate\":\"n_genes/n_go=%{x}<br>term=%{y}<br>study_genes=%{customdata[0]}<extra></extra>\",\"legendgroup\":\"\",\"marker\":{\"color\":\"#636efa\",\"pattern\":{\"shape\":\"\"}},\"name\":\"\",\"offsetgroup\":\"\",\"orientation\":\"h\",\"showlegend\":false,\"textposition\":\"auto\",\"x\":[0.375,0.007446398767492618,0.06779661016949153,0.015728476821192054,0.007836045810729355,0.012262415695892091,0.02557544757033248,0.016923076923076923,0.0335195530726257,0.03296703296703297,0.010932944606413994,0.13043478260869565,0.5,0.02843601895734597,0.0162748643761302,0.04597701149425287,0.07894736842105263,0.009852216748768473,0.029069767441860465,0.013215859030837005,0.02027027027027027,0.0070448646644419724],\"xaxis\":\"x\",\"y\":[\"neural tube patterning\",\"membrane\",\"axoneme\",\"cell projection\",\"plasma membrane\",\"endoplasmic reticulum\",\"cilium\",\"neuronal cell body\",\"motile cilium\",\"ciliary basal body\",\"cytoskeleton\",\"9+2 motile cilium\",\"synaptobrevin 2-SNAP-25-syntaxin-1a-complexin II complex\",\"microtubule cytoskeleton\",\"endoplasmic reticulum membrane\",\"sperm flagellum\",\"ciliary transition zone\",\"Golgi apparatus\",\"synaptic vesicle\",\"perinuclear region of cytoplasm\",\"membrane raft\",\"protein binding\"],\"yaxis\":\"y\",\"type\":\"bar\"}],                        {\"template\":{\"data\":{\"bar\":[{\"error_x\":{\"color\":\"#2a3f5f\"},\"error_y\":{\"color\":\"#2a3f5f\"},\"marker\":{\"line\":{\"color\":\"#E5ECF6\",\"width\":0.5},\"pattern\":{\"fillmode\":\"overlay\",\"size\":10,\"solidity\":0.2}},\"type\":\"bar\"}],\"barpolar\":[{\"marker\":{\"line\":{\"color\":\"#E5ECF6\",\"width\":0.5},\"pattern\":{\"fillmode\":\"overlay\",\"size\":10,\"solidity\":0.2}},\"type\":\"barpolar\"}],\"carpet\":[{\"aaxis\":{\"endlinecolor\":\"#2a3f5f\",\"gridcolor\":\"white\",\"linecolor\":\"white\",\"minorgridcolor\":\"white\",\"startlinecolor\":\"#2a3f5f\"},\"baxis\":{\"endlinecolor\":\"#2a3f5f\",\"gridcolor\":\"white\",\"linecolor\":\"white\",\"minorgridcolor\":\"white\",\"startlinecolor\":\"#2a3f5f\"},\"type\":\"carpet\"}],\"choropleth\":[{\"colorbar\":{\"outlinewidth\":0,\"ticks\":\"\"},\"type\":\"choropleth\"}],\"contour\":[{\"colorbar\":{\"outlinewidth\":0,\"ticks\":\"\"},\"colorscale\":[[0.0,\"#0d0887\"],[0.1111111111111111,\"#46039f\"],[0.2222222222222222,\"#7201a8\"],[0.3333333333333333,\"#9c179e\"],[0.4444444444444444,\"#bd3786\"],[0.5555555555555556,\"#d8576b\"],[0.6666666666666666,\"#ed7953\"],[0.7777777777777778,\"#fb9f3a\"],[0.8888888888888888,\"#fdca26\"],[1.0,\"#f0f921\"]],\"type\":\"contour\"}],\"contourcarpet\":[{\"colorbar\":{\"outlinewidth\":0,\"ticks\":\"\"},\"type\":\"contourcarpet\"}],\"heatmap\":[{\"colorbar\":{\"outlinewidth\":0,\"ticks\":\"\"},\"colorscale\":[[0.0,\"#0d0887\"],[0.1111111111111111,\"#46039f\"],[0.2222222222222222,\"#7201a8\"],[0.3333333333333333,\"#9c179e\"],[0.4444444444444444,\"#bd3786\"],[0.5555555555555556,\"#d8576b\"],[0.6666666666666666,\"#ed7953\"],[0.7777777777777778,\"#fb9f3a\"],[0.8888888888888888,\"#fdca26\"],[1.0,\"#f0f921\"]],\"type\":\"heatmap\"}],\"heatmapgl\":[{\"colorbar\":{\"outlinewidth\":0,\"ticks\":\"\"},\"colorscale\":[[0.0,\"#0d0887\"],[0.1111111111111111,\"#46039f\"],[0.2222222222222222,\"#7201a8\"],[0.3333333333333333,\"#9c179e\"],[0.4444444444444444,\"#bd3786\"],[0.5555555555555556,\"#d8576b\"],[0.6666666666666666,\"#ed7953\"],[0.7777777777777778,\"#fb9f3a\"],[0.8888888888888888,\"#fdca26\"],[1.0,\"#f0f921\"]],\"type\":\"heatmapgl\"}],\"histogram\":[{\"marker\":{\"pattern\":{\"fillmode\":\"overlay\",\"size\":10,\"solidity\":0.2}},\"type\":\"histogram\"}],\"histogram2d\":[{\"colorbar\":{\"outlinewidth\":0,\"ticks\":\"\"},\"colorscale\":[[0.0,\"#0d0887\"],[0.1111111111111111,\"#46039f\"],[0.2222222222222222,\"#7201a8\"],[0.3333333333333333,\"#9c179e\"],[0.4444444444444444,\"#bd3786\"],[0.5555555555555556,\"#d8576b\"],[0.6666666666666666,\"#ed7953\"],[0.7777777777777778,\"#fb9f3a\"],[0.8888888888888888,\"#fdca26\"],[1.0,\"#f0f921\"]],\"type\":\"histogram2d\"}],\"histogram2dcontour\":[{\"colorbar\":{\"outlinewidth\":0,\"ticks\":\"\"},\"colorscale\":[[0.0,\"#0d0887\"],[0.1111111111111111,\"#46039f\"],[0.2222222222222222,\"#7201a8\"],[0.3333333333333333,\"#9c179e\"],[0.4444444444444444,\"#bd3786\"],[0.5555555555555556,\"#d8576b\"],[0.6666666666666666,\"#ed7953\"],[0.7777777777777778,\"#fb9f3a\"],[0.8888888888888888,\"#fdca26\"],[1.0,\"#f0f921\"]],\"type\":\"histogram2dcontour\"}],\"mesh3d\":[{\"colorbar\":{\"outlinewidth\":0,\"ticks\":\"\"},\"type\":\"mesh3d\"}],\"parcoords\":[{\"line\":{\"colorbar\":{\"outlinewidth\":0,\"ticks\":\"\"}},\"type\":\"parcoords\"}],\"pie\":[{\"automargin\":true,\"type\":\"pie\"}],\"scatter\":[{\"marker\":{\"colorbar\":{\"outlinewidth\":0,\"ticks\":\"\"}},\"type\":\"scatter\"}],\"scatter3d\":[{\"line\":{\"colorbar\":{\"outlinewidth\":0,\"ticks\":\"\"}},\"marker\":{\"colorbar\":{\"outlinewidth\":0,\"ticks\":\"\"}},\"type\":\"scatter3d\"}],\"scattercarpet\":[{\"marker\":{\"colorbar\":{\"outlinewidth\":0,\"ticks\":\"\"}},\"type\":\"scattercarpet\"}],\"scattergeo\":[{\"marker\":{\"colorbar\":{\"outlinewidth\":0,\"ticks\":\"\"}},\"type\":\"scattergeo\"}],\"scattergl\":[{\"marker\":{\"colorbar\":{\"outlinewidth\":0,\"ticks\":\"\"}},\"type\":\"scattergl\"}],\"scattermapbox\":[{\"marker\":{\"colorbar\":{\"outlinewidth\":0,\"ticks\":\"\"}},\"type\":\"scattermapbox\"}],\"scatterpolar\":[{\"marker\":{\"colorbar\":{\"outlinewidth\":0,\"ticks\":\"\"}},\"type\":\"scatterpolar\"}],\"scatterpolargl\":[{\"marker\":{\"colorbar\":{\"outlinewidth\":0,\"ticks\":\"\"}},\"type\":\"scatterpolargl\"}],\"scatterternary\":[{\"marker\":{\"colorbar\":{\"outlinewidth\":0,\"ticks\":\"\"}},\"type\":\"scatterternary\"}],\"surface\":[{\"colorbar\":{\"outlinewidth\":0,\"ticks\":\"\"},\"colorscale\":[[0.0,\"#0d0887\"],[0.1111111111111111,\"#46039f\"],[0.2222222222222222,\"#7201a8\"],[0.3333333333333333,\"#9c179e\"],[0.4444444444444444,\"#bd3786\"],[0.5555555555555556,\"#d8576b\"],[0.6666666666666666,\"#ed7953\"],[0.7777777777777778,\"#fb9f3a\"],[0.8888888888888888,\"#fdca26\"],[1.0,\"#f0f921\"]],\"type\":\"surface\"}],\"table\":[{\"cells\":{\"fill\":{\"color\":\"#EBF0F8\"},\"line\":{\"color\":\"white\"}},\"header\":{\"fill\":{\"color\":\"#C8D4E3\"},\"line\":{\"color\":\"white\"}},\"type\":\"table\"}]},\"layout\":{\"annotationdefaults\":{\"arrowcolor\":\"#2a3f5f\",\"arrowhead\":0,\"arrowwidth\":1},\"autotypenumbers\":\"strict\",\"coloraxis\":{\"colorbar\":{\"outlinewidth\":0,\"ticks\":\"\"}},\"colorscale\":{\"diverging\":[[0,\"#8e0152\"],[0.1,\"#c51b7d\"],[0.2,\"#de77ae\"],[0.3,\"#f1b6da\"],[0.4,\"#fde0ef\"],[0.5,\"#f7f7f7\"],[0.6,\"#e6f5d0\"],[0.7,\"#b8e186\"],[0.8,\"#7fbc41\"],[0.9,\"#4d9221\"],[1,\"#276419\"]],\"sequential\":[[0.0,\"#0d0887\"],[0.1111111111111111,\"#46039f\"],[0.2222222222222222,\"#7201a8\"],[0.3333333333333333,\"#9c179e\"],[0.4444444444444444,\"#bd3786\"],[0.5555555555555556,\"#d8576b\"],[0.6666666666666666,\"#ed7953\"],[0.7777777777777778,\"#fb9f3a\"],[0.8888888888888888,\"#fdca26\"],[1.0,\"#f0f921\"]],\"sequentialminus\":[[0.0,\"#0d0887\"],[0.1111111111111111,\"#46039f\"],[0.2222222222222222,\"#7201a8\"],[0.3333333333333333,\"#9c179e\"],[0.4444444444444444,\"#bd3786\"],[0.5555555555555556,\"#d8576b\"],[0.6666666666666666,\"#ed7953\"],[0.7777777777777778,\"#fb9f3a\"],[0.8888888888888888,\"#fdca26\"],[1.0,\"#f0f921\"]]},\"colorway\":[\"#636efa\",\"#EF553B\",\"#00cc96\",\"#ab63fa\",\"#FFA15A\",\"#19d3f3\",\"#FF6692\",\"#B6E880\",\"#FF97FF\",\"#FECB52\"],\"font\":{\"color\":\"#2a3f5f\"},\"geo\":{\"bgcolor\":\"white\",\"lakecolor\":\"white\",\"landcolor\":\"#E5ECF6\",\"showlakes\":true,\"showland\":true,\"subunitcolor\":\"white\"},\"hoverlabel\":{\"align\":\"left\"},\"hovermode\":\"closest\",\"mapbox\":{\"style\":\"light\"},\"paper_bgcolor\":\"white\",\"plot_bgcolor\":\"#E5ECF6\",\"polar\":{\"angularaxis\":{\"gridcolor\":\"white\",\"linecolor\":\"white\",\"ticks\":\"\"},\"bgcolor\":\"#E5ECF6\",\"radialaxis\":{\"gridcolor\":\"white\",\"linecolor\":\"white\",\"ticks\":\"\"}},\"scene\":{\"xaxis\":{\"backgroundcolor\":\"#E5ECF6\",\"gridcolor\":\"white\",\"gridwidth\":2,\"linecolor\":\"white\",\"showbackground\":true,\"ticks\":\"\",\"zerolinecolor\":\"white\"},\"yaxis\":{\"backgroundcolor\":\"#E5ECF6\",\"gridcolor\":\"white\",\"gridwidth\":2,\"linecolor\":\"white\",\"showbackground\":true,\"ticks\":\"\",\"zerolinecolor\":\"white\"},\"zaxis\":{\"backgroundcolor\":\"#E5ECF6\",\"gridcolor\":\"white\",\"gridwidth\":2,\"linecolor\":\"white\",\"showbackground\":true,\"ticks\":\"\",\"zerolinecolor\":\"white\"}},\"shapedefaults\":{\"line\":{\"color\":\"#2a3f5f\"}},\"ternary\":{\"aaxis\":{\"gridcolor\":\"white\",\"linecolor\":\"white\",\"ticks\":\"\"},\"baxis\":{\"gridcolor\":\"white\",\"linecolor\":\"white\",\"ticks\":\"\"},\"bgcolor\":\"#E5ECF6\",\"caxis\":{\"gridcolor\":\"white\",\"linecolor\":\"white\",\"ticks\":\"\"}},\"title\":{\"x\":0.05},\"xaxis\":{\"automargin\":true,\"gridcolor\":\"white\",\"linecolor\":\"white\",\"ticks\":\"\",\"title\":{\"standoff\":15},\"zerolinecolor\":\"white\",\"zerolinewidth\":2},\"yaxis\":{\"automargin\":true,\"gridcolor\":\"white\",\"linecolor\":\"white\",\"ticks\":\"\",\"title\":{\"standoff\":15},\"zerolinecolor\":\"white\",\"zerolinewidth\":2}}},\"xaxis\":{\"anchor\":\"y\",\"domain\":[0.0,1.0],\"title\":{\"text\":\"n_genes/n_go\"}},\"yaxis\":{\"anchor\":\"x\",\"domain\":[0.0,1.0],\"title\":{\"text\":\"term\"}},\"legend\":{\"tracegroupgap\":0},\"title\":{\"text\":\"mse_rank_normalized_ALL_Olfr_rtp1\"},\"barmode\":\"relative\",\"plot_bgcolor\":\"rgba(0, 0, 0, 0)\"},                        {\"responsive\": true}                    ).then(function(){\n",
       "                            \n",
       "var gd = document.getElementById('de6184d3-0fa5-43e0-b5d4-06615cd59c9a');\n",
       "var x = new MutationObserver(function (mutations, observer) {{\n",
       "        var display = window.getComputedStyle(gd).display;\n",
       "        if (!display || display === 'none') {{\n",
       "            console.log([gd, 'removed!']);\n",
       "            Plotly.purge(gd);\n",
       "            observer.disconnect();\n",
       "        }}\n",
       "}});\n",
       "\n",
       "// Listen for the removal of the full notebook cells\n",
       "var notebookContainer = gd.closest('#notebook-container');\n",
       "if (notebookContainer) {{\n",
       "    x.observe(notebookContainer, {childList: true});\n",
       "}}\n",
       "\n",
       "// Listen for the clearing of the current output cell\n",
       "var outputEl = gd.closest('.output');\n",
       "if (outputEl) {{\n",
       "    x.observe(outputEl, {childList: true});\n",
       "}}\n",
       "\n",
       "                        })                };                });            </script>        </div>"
      ]
     },
     "metadata": {},
     "output_type": "display_data"
    },
    {
     "data": {
      "application/vnd.plotly.v1+json": {
       "config": {
        "plotlyServerURL": "https://plot.ly"
       },
       "data": [
        {
         "alignmentgroup": "True",
         "customdata": [
          [
           [
            "Dzip1l",
            "Arl13b",
            "Traf3ip1"
           ]
          ],
          [
           [
            "Slc12a2",
            "Spef2",
            "Pde6d",
            "Atp1a1",
            "Elmod3",
            "Clstn1",
            "Arl3",
            "Macf1",
            "Traf3ip1",
            "Rsph9",
            "Kif1a",
            "Arl13b",
            "Dzip1l",
            "Enkur",
            "Cfap69",
            "Clstn2",
            "Spef1",
            "Cplx2",
            "Ccdc39",
            "Ttll6",
            "Ttll3",
            "Syt7"
           ]
          ],
          [
           [
            "Ccdc39",
            "Kifap3",
            "Traf3ip1",
            "Ttll3",
            "Rsph9",
            "Arl13b",
            "Spef1",
            "Dzip1l",
            "Arl3"
           ]
          ],
          [
           [
            "Enkur",
            "Ccdc39",
            "Traf3ip1",
            "Cfap69",
            "Ttll6",
            "Ttll3",
            "Rsph9",
            "Arl13b",
            "Spef2",
            "Spef1",
            "Elmod3",
            "Dzip1l"
           ]
          ],
          [
           [
            "Limch1",
            "Sdcbp",
            "Snap25",
            "Spef2",
            "Pde6d",
            "Elmod3",
            "Arl3",
            "Macf1",
            "Traf3ip1",
            "Jakmip1",
            "Rsph9",
            "Dynlt3",
            "Kif1a",
            "Dzip1l",
            "Enkur",
            "Rnf128",
            "Spef1",
            "Ccdc39",
            "Ttll6",
            "Ttll3"
           ]
          ],
          [
           [
            "Sdcbp",
            "Arhgef28",
            "Snap25",
            "Lamp1",
            "Slc12a2",
            "Pde4a",
            "Fkbp2",
            "Rtp1",
            "Pde6d",
            "Atp1a1",
            "Clstn1",
            "Camk2d",
            "Aldoa",
            "Ctxn3",
            "Arl3",
            "Nat14",
            "Scg3",
            "Macf1",
            "Acsl6",
            "Jakmip1",
            "Ubl3",
            "Sgpl1",
            "Kif1a",
            "Sgtb",
            "Arl13b",
            "Dner",
            "Ormdl3",
            "Gramd1c",
            "Rtp2",
            "Mcf2l",
            "Manea",
            "Atp6v1a",
            "Kirrel2",
            "Faim2",
            "Rnf128",
            "Nrn1l",
            "Aig1",
            "Abhd16a",
            "Mslnl",
            "Dnajb14",
            "Clstn2",
            "Spef1",
            "Psen2",
            "Tmem30a",
            "Oscp1",
            "Npdc1",
            "Ctsb",
            "Rab6b",
            "Syt1",
            "Cnga2",
            "Ndufv3",
            "Syt7"
           ]
          ],
          [
           [
            "Enkur",
            "Ccdc39",
            "Rsph9",
            "Spef1"
           ]
          ],
          [
           [
            "Enkur",
            "Cfap69",
            "Ttll3",
            "Rsph9",
            "Arl13b",
            "Spef2",
            "Spef1"
           ]
          ],
          [
           [
            "Sdcbp",
            "Arhgef28",
            "Snap25",
            "Lamp1",
            "Slc12a2",
            "Pde4a",
            "Rtp1",
            "Atp1a1",
            "Clstn1",
            "Camk2d",
            "Aldoa",
            "Macf1",
            "Ubl3",
            "Dner",
            "Arl13b",
            "Gramd1c",
            "Rtp2",
            "Mcf2l",
            "Atp6v1a",
            "Kirrel2",
            "Faim2",
            "Nrn1l",
            "Aig1",
            "Clstn2",
            "Hist2h2be",
            "Spef1",
            "Psen2",
            "Pcdh10",
            "Tmem30a",
            "Oscp1",
            "Ctsb",
            "Nfe2l2",
            "Syt1",
            "Cnga2",
            "Syt7"
           ]
          ],
          [
           [
            "Enkur",
            "Ttll3",
            "Ak1",
            "Spef2",
            "Atp1a1"
           ]
          ],
          [
           [
            "Macf1",
            "Kifap3",
            "Nfe2l2",
            "Faim2",
            "Rnf128",
            "Rab6b",
            "Rabgap1l",
            "Syt1",
            "Clstn2",
            "Spef2",
            "Atp1a1",
            "Clstn1",
            "Manea",
            "Tmem30a",
            "Psen2",
            "Arl3"
           ]
          ],
          [
           [
            "Snap25",
            "Psen2",
            "Lamp1",
            "Kif1a",
            "Syt1",
            "Syt7"
           ]
          ],
          [
           [
            "Traf3ip1",
            "Kifap3",
            "Ttll6",
            "Dzip1l",
            "Psen2",
            "Arl3"
           ]
          ],
          [
           [
            "Limch1",
            "Sdcbp",
            "Arhgef28",
            "Snap25",
            "Lamp1",
            "Pde4a",
            "Spef2",
            "Pde6d",
            "Elmod3",
            "Camk2d",
            "Aldoa",
            "Arl3",
            "Macf1",
            "Traf3ip1",
            "Fam213a",
            "Jakmip1",
            "Rsph9",
            "Dynlt3",
            "Kif1a",
            "Mapk8ip2",
            "Rnf220",
            "Mcf2l",
            "Dzip1l",
            "Atp6v1a",
            "Enkur",
            "Cfap69",
            "Rnf128",
            "Psap",
            "Dusp14",
            "Spef1",
            "Cplx2",
            "Tstd1",
            "Oscp1",
            "Ccdc39",
            "Ctsb",
            "Nfe2l2",
            "Ttll6",
            "Ttll3",
            "Impdh1",
            "Syt1",
            "Ak1",
            "Rap1gds1",
            "Mycbp"
           ]
          ],
          [
           [
            "Cplx2",
            "Snap25"
           ]
          ],
          [
           [
            "Snap25",
            "Lamp1",
            "Slc12a2",
            "Kif1a",
            "Dner",
            "Cplx2",
            "Mapk8ip2",
            "Syt7",
            "Camk2d",
            "Psen2"
           ]
          ],
          [
           [
            "Macf1",
            "Traf3ip1",
            "Kifap3",
            "Jakmip1",
            "Ttll3",
            "Arl3"
           ]
          ],
          [
           [
            "Sdcbp",
            "Acsl6",
            "Kifap3",
            "Faim2",
            "Rnf128",
            "Dnajb14",
            "Sgpl1",
            "Fkbp2",
            "Ormdl3",
            "Clstn2",
            "Gramd1c",
            "Rap1gds1",
            "Atp1a1",
            "Clstn1",
            "Tmem30a",
            "Psen2"
           ]
          ],
          [
           [
            "Macf1",
            "Jakmip1",
            "Ttll6",
            "Ttll3",
            "Dynlt3",
            "Kif1a",
            "Spef1"
           ]
          ],
          [
           [
            "Traf3ip1",
            "Kifap3",
            "Arl3"
           ]
          ],
          [
           [
            "Cbx4",
            "Sdcbp",
            "Arhgef28",
            "Snap25",
            "Lamp1",
            "Slc12a2",
            "Spef2",
            "Pde6d",
            "Atp1a1",
            "Syt7",
            "Camk2d",
            "Clstn1",
            "Arl3",
            "Scg3",
            "Macf1",
            "Acsl6",
            "Traf3ip1",
            "Rsph9",
            "Dynlt3",
            "Kif1a",
            "Arl13b",
            "Mapk8ip2",
            "Rnf220",
            "Mcf2l",
            "Dzip1l",
            "Enkur",
            "Med21",
            "Kifap3",
            "Kirrel2",
            "Faim2",
            "Nrn1l",
            "Psap",
            "Hist2h2be",
            "Psen2",
            "Tmem30a",
            "Nfe2l2",
            "Ttll6",
            "Rab6b",
            "Syt1",
            "Kat6a"
           ]
          ],
          [
           [
            "Kifap3",
            "Jakmip1",
            "Clstn2",
            "Mapk8ip2",
            "Clstn1"
           ]
          ]
         ],
         "hovertemplate": "n_genes/n_go=%{x}<br>term=%{y}<br>study_genes=%{customdata[0]}<extra></extra>",
         "legendgroup": "",
         "marker": {
          "color": "#636efa",
          "pattern": {
           "shape": ""
          }
         },
         "name": "",
         "offsetgroup": "",
         "orientation": "h",
         "showlegend": false,
         "textposition": "auto",
         "type": "bar",
         "x": [
          0.375,
          0.018211920529801324,
          0.07627118644067797,
          0.030690537084398978,
          0.014577259475218658,
          0.006676081653614071,
          0.17391304347826086,
          0.03910614525139665,
          0.007032348804500703,
          0.05747126436781609,
          0.011259676284306826,
          0.03488372093023256,
          0.03296703296703297,
          0.00593430858404637,
          0.5,
          0.015384615384615385,
          0.02843601895734597,
          0.009809932556713672,
          0.020172910662824207,
          0.07894736842105263,
          0.007415647015202077,
          0.09259259259259259
         ],
         "xaxis": "x",
         "y": [
          "neural tube patterning",
          "cell projection",
          "axoneme",
          "cilium",
          "cytoskeleton",
          "membrane",
          "9+2 motile cilium",
          "motile cilium",
          "plasma membrane",
          "sperm flagellum",
          "Golgi apparatus",
          "synaptic vesicle",
          "ciliary basal body",
          "cytoplasm",
          "synaptobrevin 2-SNAP-25-syntaxin-1a-complexin II complex",
          "neuronal cell body",
          "microtubule cytoskeleton",
          "endoplasmic reticulum",
          "microtubule",
          "ciliary transition zone",
          "protein binding",
          "kinesin binding"
         ],
         "yaxis": "y"
        }
       ],
       "layout": {
        "barmode": "relative",
        "legend": {
         "tracegroupgap": 0
        },
        "plot_bgcolor": "rgba(0, 0, 0, 0)",
        "template": {
         "data": {
          "bar": [
           {
            "error_x": {
             "color": "#2a3f5f"
            },
            "error_y": {
             "color": "#2a3f5f"
            },
            "marker": {
             "line": {
              "color": "#E5ECF6",
              "width": 0.5
             },
             "pattern": {
              "fillmode": "overlay",
              "size": 10,
              "solidity": 0.2
             }
            },
            "type": "bar"
           }
          ],
          "barpolar": [
           {
            "marker": {
             "line": {
              "color": "#E5ECF6",
              "width": 0.5
             },
             "pattern": {
              "fillmode": "overlay",
              "size": 10,
              "solidity": 0.2
             }
            },
            "type": "barpolar"
           }
          ],
          "carpet": [
           {
            "aaxis": {
             "endlinecolor": "#2a3f5f",
             "gridcolor": "white",
             "linecolor": "white",
             "minorgridcolor": "white",
             "startlinecolor": "#2a3f5f"
            },
            "baxis": {
             "endlinecolor": "#2a3f5f",
             "gridcolor": "white",
             "linecolor": "white",
             "minorgridcolor": "white",
             "startlinecolor": "#2a3f5f"
            },
            "type": "carpet"
           }
          ],
          "choropleth": [
           {
            "colorbar": {
             "outlinewidth": 0,
             "ticks": ""
            },
            "type": "choropleth"
           }
          ],
          "contour": [
           {
            "colorbar": {
             "outlinewidth": 0,
             "ticks": ""
            },
            "colorscale": [
             [
              0,
              "#0d0887"
             ],
             [
              0.1111111111111111,
              "#46039f"
             ],
             [
              0.2222222222222222,
              "#7201a8"
             ],
             [
              0.3333333333333333,
              "#9c179e"
             ],
             [
              0.4444444444444444,
              "#bd3786"
             ],
             [
              0.5555555555555556,
              "#d8576b"
             ],
             [
              0.6666666666666666,
              "#ed7953"
             ],
             [
              0.7777777777777778,
              "#fb9f3a"
             ],
             [
              0.8888888888888888,
              "#fdca26"
             ],
             [
              1,
              "#f0f921"
             ]
            ],
            "type": "contour"
           }
          ],
          "contourcarpet": [
           {
            "colorbar": {
             "outlinewidth": 0,
             "ticks": ""
            },
            "type": "contourcarpet"
           }
          ],
          "heatmap": [
           {
            "colorbar": {
             "outlinewidth": 0,
             "ticks": ""
            },
            "colorscale": [
             [
              0,
              "#0d0887"
             ],
             [
              0.1111111111111111,
              "#46039f"
             ],
             [
              0.2222222222222222,
              "#7201a8"
             ],
             [
              0.3333333333333333,
              "#9c179e"
             ],
             [
              0.4444444444444444,
              "#bd3786"
             ],
             [
              0.5555555555555556,
              "#d8576b"
             ],
             [
              0.6666666666666666,
              "#ed7953"
             ],
             [
              0.7777777777777778,
              "#fb9f3a"
             ],
             [
              0.8888888888888888,
              "#fdca26"
             ],
             [
              1,
              "#f0f921"
             ]
            ],
            "type": "heatmap"
           }
          ],
          "heatmapgl": [
           {
            "colorbar": {
             "outlinewidth": 0,
             "ticks": ""
            },
            "colorscale": [
             [
              0,
              "#0d0887"
             ],
             [
              0.1111111111111111,
              "#46039f"
             ],
             [
              0.2222222222222222,
              "#7201a8"
             ],
             [
              0.3333333333333333,
              "#9c179e"
             ],
             [
              0.4444444444444444,
              "#bd3786"
             ],
             [
              0.5555555555555556,
              "#d8576b"
             ],
             [
              0.6666666666666666,
              "#ed7953"
             ],
             [
              0.7777777777777778,
              "#fb9f3a"
             ],
             [
              0.8888888888888888,
              "#fdca26"
             ],
             [
              1,
              "#f0f921"
             ]
            ],
            "type": "heatmapgl"
           }
          ],
          "histogram": [
           {
            "marker": {
             "pattern": {
              "fillmode": "overlay",
              "size": 10,
              "solidity": 0.2
             }
            },
            "type": "histogram"
           }
          ],
          "histogram2d": [
           {
            "colorbar": {
             "outlinewidth": 0,
             "ticks": ""
            },
            "colorscale": [
             [
              0,
              "#0d0887"
             ],
             [
              0.1111111111111111,
              "#46039f"
             ],
             [
              0.2222222222222222,
              "#7201a8"
             ],
             [
              0.3333333333333333,
              "#9c179e"
             ],
             [
              0.4444444444444444,
              "#bd3786"
             ],
             [
              0.5555555555555556,
              "#d8576b"
             ],
             [
              0.6666666666666666,
              "#ed7953"
             ],
             [
              0.7777777777777778,
              "#fb9f3a"
             ],
             [
              0.8888888888888888,
              "#fdca26"
             ],
             [
              1,
              "#f0f921"
             ]
            ],
            "type": "histogram2d"
           }
          ],
          "histogram2dcontour": [
           {
            "colorbar": {
             "outlinewidth": 0,
             "ticks": ""
            },
            "colorscale": [
             [
              0,
              "#0d0887"
             ],
             [
              0.1111111111111111,
              "#46039f"
             ],
             [
              0.2222222222222222,
              "#7201a8"
             ],
             [
              0.3333333333333333,
              "#9c179e"
             ],
             [
              0.4444444444444444,
              "#bd3786"
             ],
             [
              0.5555555555555556,
              "#d8576b"
             ],
             [
              0.6666666666666666,
              "#ed7953"
             ],
             [
              0.7777777777777778,
              "#fb9f3a"
             ],
             [
              0.8888888888888888,
              "#fdca26"
             ],
             [
              1,
              "#f0f921"
             ]
            ],
            "type": "histogram2dcontour"
           }
          ],
          "mesh3d": [
           {
            "colorbar": {
             "outlinewidth": 0,
             "ticks": ""
            },
            "type": "mesh3d"
           }
          ],
          "parcoords": [
           {
            "line": {
             "colorbar": {
              "outlinewidth": 0,
              "ticks": ""
             }
            },
            "type": "parcoords"
           }
          ],
          "pie": [
           {
            "automargin": true,
            "type": "pie"
           }
          ],
          "scatter": [
           {
            "marker": {
             "colorbar": {
              "outlinewidth": 0,
              "ticks": ""
             }
            },
            "type": "scatter"
           }
          ],
          "scatter3d": [
           {
            "line": {
             "colorbar": {
              "outlinewidth": 0,
              "ticks": ""
             }
            },
            "marker": {
             "colorbar": {
              "outlinewidth": 0,
              "ticks": ""
             }
            },
            "type": "scatter3d"
           }
          ],
          "scattercarpet": [
           {
            "marker": {
             "colorbar": {
              "outlinewidth": 0,
              "ticks": ""
             }
            },
            "type": "scattercarpet"
           }
          ],
          "scattergeo": [
           {
            "marker": {
             "colorbar": {
              "outlinewidth": 0,
              "ticks": ""
             }
            },
            "type": "scattergeo"
           }
          ],
          "scattergl": [
           {
            "marker": {
             "colorbar": {
              "outlinewidth": 0,
              "ticks": ""
             }
            },
            "type": "scattergl"
           }
          ],
          "scattermapbox": [
           {
            "marker": {
             "colorbar": {
              "outlinewidth": 0,
              "ticks": ""
             }
            },
            "type": "scattermapbox"
           }
          ],
          "scatterpolar": [
           {
            "marker": {
             "colorbar": {
              "outlinewidth": 0,
              "ticks": ""
             }
            },
            "type": "scatterpolar"
           }
          ],
          "scatterpolargl": [
           {
            "marker": {
             "colorbar": {
              "outlinewidth": 0,
              "ticks": ""
             }
            },
            "type": "scatterpolargl"
           }
          ],
          "scatterternary": [
           {
            "marker": {
             "colorbar": {
              "outlinewidth": 0,
              "ticks": ""
             }
            },
            "type": "scatterternary"
           }
          ],
          "surface": [
           {
            "colorbar": {
             "outlinewidth": 0,
             "ticks": ""
            },
            "colorscale": [
             [
              0,
              "#0d0887"
             ],
             [
              0.1111111111111111,
              "#46039f"
             ],
             [
              0.2222222222222222,
              "#7201a8"
             ],
             [
              0.3333333333333333,
              "#9c179e"
             ],
             [
              0.4444444444444444,
              "#bd3786"
             ],
             [
              0.5555555555555556,
              "#d8576b"
             ],
             [
              0.6666666666666666,
              "#ed7953"
             ],
             [
              0.7777777777777778,
              "#fb9f3a"
             ],
             [
              0.8888888888888888,
              "#fdca26"
             ],
             [
              1,
              "#f0f921"
             ]
            ],
            "type": "surface"
           }
          ],
          "table": [
           {
            "cells": {
             "fill": {
              "color": "#EBF0F8"
             },
             "line": {
              "color": "white"
             }
            },
            "header": {
             "fill": {
              "color": "#C8D4E3"
             },
             "line": {
              "color": "white"
             }
            },
            "type": "table"
           }
          ]
         },
         "layout": {
          "annotationdefaults": {
           "arrowcolor": "#2a3f5f",
           "arrowhead": 0,
           "arrowwidth": 1
          },
          "autotypenumbers": "strict",
          "coloraxis": {
           "colorbar": {
            "outlinewidth": 0,
            "ticks": ""
           }
          },
          "colorscale": {
           "diverging": [
            [
             0,
             "#8e0152"
            ],
            [
             0.1,
             "#c51b7d"
            ],
            [
             0.2,
             "#de77ae"
            ],
            [
             0.3,
             "#f1b6da"
            ],
            [
             0.4,
             "#fde0ef"
            ],
            [
             0.5,
             "#f7f7f7"
            ],
            [
             0.6,
             "#e6f5d0"
            ],
            [
             0.7,
             "#b8e186"
            ],
            [
             0.8,
             "#7fbc41"
            ],
            [
             0.9,
             "#4d9221"
            ],
            [
             1,
             "#276419"
            ]
           ],
           "sequential": [
            [
             0,
             "#0d0887"
            ],
            [
             0.1111111111111111,
             "#46039f"
            ],
            [
             0.2222222222222222,
             "#7201a8"
            ],
            [
             0.3333333333333333,
             "#9c179e"
            ],
            [
             0.4444444444444444,
             "#bd3786"
            ],
            [
             0.5555555555555556,
             "#d8576b"
            ],
            [
             0.6666666666666666,
             "#ed7953"
            ],
            [
             0.7777777777777778,
             "#fb9f3a"
            ],
            [
             0.8888888888888888,
             "#fdca26"
            ],
            [
             1,
             "#f0f921"
            ]
           ],
           "sequentialminus": [
            [
             0,
             "#0d0887"
            ],
            [
             0.1111111111111111,
             "#46039f"
            ],
            [
             0.2222222222222222,
             "#7201a8"
            ],
            [
             0.3333333333333333,
             "#9c179e"
            ],
            [
             0.4444444444444444,
             "#bd3786"
            ],
            [
             0.5555555555555556,
             "#d8576b"
            ],
            [
             0.6666666666666666,
             "#ed7953"
            ],
            [
             0.7777777777777778,
             "#fb9f3a"
            ],
            [
             0.8888888888888888,
             "#fdca26"
            ],
            [
             1,
             "#f0f921"
            ]
           ]
          },
          "colorway": [
           "#636efa",
           "#EF553B",
           "#00cc96",
           "#ab63fa",
           "#FFA15A",
           "#19d3f3",
           "#FF6692",
           "#B6E880",
           "#FF97FF",
           "#FECB52"
          ],
          "font": {
           "color": "#2a3f5f"
          },
          "geo": {
           "bgcolor": "white",
           "lakecolor": "white",
           "landcolor": "#E5ECF6",
           "showlakes": true,
           "showland": true,
           "subunitcolor": "white"
          },
          "hoverlabel": {
           "align": "left"
          },
          "hovermode": "closest",
          "mapbox": {
           "style": "light"
          },
          "paper_bgcolor": "white",
          "plot_bgcolor": "#E5ECF6",
          "polar": {
           "angularaxis": {
            "gridcolor": "white",
            "linecolor": "white",
            "ticks": ""
           },
           "bgcolor": "#E5ECF6",
           "radialaxis": {
            "gridcolor": "white",
            "linecolor": "white",
            "ticks": ""
           }
          },
          "scene": {
           "xaxis": {
            "backgroundcolor": "#E5ECF6",
            "gridcolor": "white",
            "gridwidth": 2,
            "linecolor": "white",
            "showbackground": true,
            "ticks": "",
            "zerolinecolor": "white"
           },
           "yaxis": {
            "backgroundcolor": "#E5ECF6",
            "gridcolor": "white",
            "gridwidth": 2,
            "linecolor": "white",
            "showbackground": true,
            "ticks": "",
            "zerolinecolor": "white"
           },
           "zaxis": {
            "backgroundcolor": "#E5ECF6",
            "gridcolor": "white",
            "gridwidth": 2,
            "linecolor": "white",
            "showbackground": true,
            "ticks": "",
            "zerolinecolor": "white"
           }
          },
          "shapedefaults": {
           "line": {
            "color": "#2a3f5f"
           }
          },
          "ternary": {
           "aaxis": {
            "gridcolor": "white",
            "linecolor": "white",
            "ticks": ""
           },
           "baxis": {
            "gridcolor": "white",
            "linecolor": "white",
            "ticks": ""
           },
           "bgcolor": "#E5ECF6",
           "caxis": {
            "gridcolor": "white",
            "linecolor": "white",
            "ticks": ""
           }
          },
          "title": {
           "x": 0.05
          },
          "xaxis": {
           "automargin": true,
           "gridcolor": "white",
           "linecolor": "white",
           "ticks": "",
           "title": {
            "standoff": 15
           },
           "zerolinecolor": "white",
           "zerolinewidth": 2
          },
          "yaxis": {
           "automargin": true,
           "gridcolor": "white",
           "linecolor": "white",
           "ticks": "",
           "title": {
            "standoff": 15
           },
           "zerolinecolor": "white",
           "zerolinewidth": 2
          }
         }
        },
        "title": {
         "text": "mse_rank_log1p_ALL_Olfr_rtp1"
        },
        "xaxis": {
         "anchor": "y",
         "domain": [
          0,
          1
         ],
         "title": {
          "text": "n_genes/n_go"
         }
        },
        "yaxis": {
         "anchor": "x",
         "domain": [
          0,
          1
         ],
         "title": {
          "text": "term"
         }
        }
       }
      },
      "text/html": [
       "<div>                            <div id=\"969382d0-7438-48aa-8fee-e57bdb9d1b7e\" class=\"plotly-graph-div\" style=\"height:525px; width:100%;\"></div>            <script type=\"text/javascript\">                require([\"plotly\"], function(Plotly) {                    window.PLOTLYENV=window.PLOTLYENV || {};                                    if (document.getElementById(\"969382d0-7438-48aa-8fee-e57bdb9d1b7e\")) {                    Plotly.newPlot(                        \"969382d0-7438-48aa-8fee-e57bdb9d1b7e\",                        [{\"alignmentgroup\":\"True\",\"customdata\":[[[\"Dzip1l\",\"Arl13b\",\"Traf3ip1\"]],[[\"Slc12a2\",\"Spef2\",\"Pde6d\",\"Atp1a1\",\"Elmod3\",\"Clstn1\",\"Arl3\",\"Macf1\",\"Traf3ip1\",\"Rsph9\",\"Kif1a\",\"Arl13b\",\"Dzip1l\",\"Enkur\",\"Cfap69\",\"Clstn2\",\"Spef1\",\"Cplx2\",\"Ccdc39\",\"Ttll6\",\"Ttll3\",\"Syt7\"]],[[\"Ccdc39\",\"Kifap3\",\"Traf3ip1\",\"Ttll3\",\"Rsph9\",\"Arl13b\",\"Spef1\",\"Dzip1l\",\"Arl3\"]],[[\"Enkur\",\"Ccdc39\",\"Traf3ip1\",\"Cfap69\",\"Ttll6\",\"Ttll3\",\"Rsph9\",\"Arl13b\",\"Spef2\",\"Spef1\",\"Elmod3\",\"Dzip1l\"]],[[\"Limch1\",\"Sdcbp\",\"Snap25\",\"Spef2\",\"Pde6d\",\"Elmod3\",\"Arl3\",\"Macf1\",\"Traf3ip1\",\"Jakmip1\",\"Rsph9\",\"Dynlt3\",\"Kif1a\",\"Dzip1l\",\"Enkur\",\"Rnf128\",\"Spef1\",\"Ccdc39\",\"Ttll6\",\"Ttll3\"]],[[\"Sdcbp\",\"Arhgef28\",\"Snap25\",\"Lamp1\",\"Slc12a2\",\"Pde4a\",\"Fkbp2\",\"Rtp1\",\"Pde6d\",\"Atp1a1\",\"Clstn1\",\"Camk2d\",\"Aldoa\",\"Ctxn3\",\"Arl3\",\"Nat14\",\"Scg3\",\"Macf1\",\"Acsl6\",\"Jakmip1\",\"Ubl3\",\"Sgpl1\",\"Kif1a\",\"Sgtb\",\"Arl13b\",\"Dner\",\"Ormdl3\",\"Gramd1c\",\"Rtp2\",\"Mcf2l\",\"Manea\",\"Atp6v1a\",\"Kirrel2\",\"Faim2\",\"Rnf128\",\"Nrn1l\",\"Aig1\",\"Abhd16a\",\"Mslnl\",\"Dnajb14\",\"Clstn2\",\"Spef1\",\"Psen2\",\"Tmem30a\",\"Oscp1\",\"Npdc1\",\"Ctsb\",\"Rab6b\",\"Syt1\",\"Cnga2\",\"Ndufv3\",\"Syt7\"]],[[\"Enkur\",\"Ccdc39\",\"Rsph9\",\"Spef1\"]],[[\"Enkur\",\"Cfap69\",\"Ttll3\",\"Rsph9\",\"Arl13b\",\"Spef2\",\"Spef1\"]],[[\"Sdcbp\",\"Arhgef28\",\"Snap25\",\"Lamp1\",\"Slc12a2\",\"Pde4a\",\"Rtp1\",\"Atp1a1\",\"Clstn1\",\"Camk2d\",\"Aldoa\",\"Macf1\",\"Ubl3\",\"Dner\",\"Arl13b\",\"Gramd1c\",\"Rtp2\",\"Mcf2l\",\"Atp6v1a\",\"Kirrel2\",\"Faim2\",\"Nrn1l\",\"Aig1\",\"Clstn2\",\"Hist2h2be\",\"Spef1\",\"Psen2\",\"Pcdh10\",\"Tmem30a\",\"Oscp1\",\"Ctsb\",\"Nfe2l2\",\"Syt1\",\"Cnga2\",\"Syt7\"]],[[\"Enkur\",\"Ttll3\",\"Ak1\",\"Spef2\",\"Atp1a1\"]],[[\"Macf1\",\"Kifap3\",\"Nfe2l2\",\"Faim2\",\"Rnf128\",\"Rab6b\",\"Rabgap1l\",\"Syt1\",\"Clstn2\",\"Spef2\",\"Atp1a1\",\"Clstn1\",\"Manea\",\"Tmem30a\",\"Psen2\",\"Arl3\"]],[[\"Snap25\",\"Psen2\",\"Lamp1\",\"Kif1a\",\"Syt1\",\"Syt7\"]],[[\"Traf3ip1\",\"Kifap3\",\"Ttll6\",\"Dzip1l\",\"Psen2\",\"Arl3\"]],[[\"Limch1\",\"Sdcbp\",\"Arhgef28\",\"Snap25\",\"Lamp1\",\"Pde4a\",\"Spef2\",\"Pde6d\",\"Elmod3\",\"Camk2d\",\"Aldoa\",\"Arl3\",\"Macf1\",\"Traf3ip1\",\"Fam213a\",\"Jakmip1\",\"Rsph9\",\"Dynlt3\",\"Kif1a\",\"Mapk8ip2\",\"Rnf220\",\"Mcf2l\",\"Dzip1l\",\"Atp6v1a\",\"Enkur\",\"Cfap69\",\"Rnf128\",\"Psap\",\"Dusp14\",\"Spef1\",\"Cplx2\",\"Tstd1\",\"Oscp1\",\"Ccdc39\",\"Ctsb\",\"Nfe2l2\",\"Ttll6\",\"Ttll3\",\"Impdh1\",\"Syt1\",\"Ak1\",\"Rap1gds1\",\"Mycbp\"]],[[\"Cplx2\",\"Snap25\"]],[[\"Snap25\",\"Lamp1\",\"Slc12a2\",\"Kif1a\",\"Dner\",\"Cplx2\",\"Mapk8ip2\",\"Syt7\",\"Camk2d\",\"Psen2\"]],[[\"Macf1\",\"Traf3ip1\",\"Kifap3\",\"Jakmip1\",\"Ttll3\",\"Arl3\"]],[[\"Sdcbp\",\"Acsl6\",\"Kifap3\",\"Faim2\",\"Rnf128\",\"Dnajb14\",\"Sgpl1\",\"Fkbp2\",\"Ormdl3\",\"Clstn2\",\"Gramd1c\",\"Rap1gds1\",\"Atp1a1\",\"Clstn1\",\"Tmem30a\",\"Psen2\"]],[[\"Macf1\",\"Jakmip1\",\"Ttll6\",\"Ttll3\",\"Dynlt3\",\"Kif1a\",\"Spef1\"]],[[\"Traf3ip1\",\"Kifap3\",\"Arl3\"]],[[\"Cbx4\",\"Sdcbp\",\"Arhgef28\",\"Snap25\",\"Lamp1\",\"Slc12a2\",\"Spef2\",\"Pde6d\",\"Atp1a1\",\"Syt7\",\"Camk2d\",\"Clstn1\",\"Arl3\",\"Scg3\",\"Macf1\",\"Acsl6\",\"Traf3ip1\",\"Rsph9\",\"Dynlt3\",\"Kif1a\",\"Arl13b\",\"Mapk8ip2\",\"Rnf220\",\"Mcf2l\",\"Dzip1l\",\"Enkur\",\"Med21\",\"Kifap3\",\"Kirrel2\",\"Faim2\",\"Nrn1l\",\"Psap\",\"Hist2h2be\",\"Psen2\",\"Tmem30a\",\"Nfe2l2\",\"Ttll6\",\"Rab6b\",\"Syt1\",\"Kat6a\"]],[[\"Kifap3\",\"Jakmip1\",\"Clstn2\",\"Mapk8ip2\",\"Clstn1\"]]],\"hovertemplate\":\"n_genes/n_go=%{x}<br>term=%{y}<br>study_genes=%{customdata[0]}<extra></extra>\",\"legendgroup\":\"\",\"marker\":{\"color\":\"#636efa\",\"pattern\":{\"shape\":\"\"}},\"name\":\"\",\"offsetgroup\":\"\",\"orientation\":\"h\",\"showlegend\":false,\"textposition\":\"auto\",\"x\":[0.375,0.018211920529801324,0.07627118644067797,0.030690537084398978,0.014577259475218658,0.006676081653614071,0.17391304347826086,0.03910614525139665,0.007032348804500703,0.05747126436781609,0.011259676284306826,0.03488372093023256,0.03296703296703297,0.00593430858404637,0.5,0.015384615384615385,0.02843601895734597,0.009809932556713672,0.020172910662824207,0.07894736842105263,0.007415647015202077,0.09259259259259259],\"xaxis\":\"x\",\"y\":[\"neural tube patterning\",\"cell projection\",\"axoneme\",\"cilium\",\"cytoskeleton\",\"membrane\",\"9+2 motile cilium\",\"motile cilium\",\"plasma membrane\",\"sperm flagellum\",\"Golgi apparatus\",\"synaptic vesicle\",\"ciliary basal body\",\"cytoplasm\",\"synaptobrevin 2-SNAP-25-syntaxin-1a-complexin II complex\",\"neuronal cell body\",\"microtubule cytoskeleton\",\"endoplasmic reticulum\",\"microtubule\",\"ciliary transition zone\",\"protein binding\",\"kinesin binding\"],\"yaxis\":\"y\",\"type\":\"bar\"}],                        {\"template\":{\"data\":{\"bar\":[{\"error_x\":{\"color\":\"#2a3f5f\"},\"error_y\":{\"color\":\"#2a3f5f\"},\"marker\":{\"line\":{\"color\":\"#E5ECF6\",\"width\":0.5},\"pattern\":{\"fillmode\":\"overlay\",\"size\":10,\"solidity\":0.2}},\"type\":\"bar\"}],\"barpolar\":[{\"marker\":{\"line\":{\"color\":\"#E5ECF6\",\"width\":0.5},\"pattern\":{\"fillmode\":\"overlay\",\"size\":10,\"solidity\":0.2}},\"type\":\"barpolar\"}],\"carpet\":[{\"aaxis\":{\"endlinecolor\":\"#2a3f5f\",\"gridcolor\":\"white\",\"linecolor\":\"white\",\"minorgridcolor\":\"white\",\"startlinecolor\":\"#2a3f5f\"},\"baxis\":{\"endlinecolor\":\"#2a3f5f\",\"gridcolor\":\"white\",\"linecolor\":\"white\",\"minorgridcolor\":\"white\",\"startlinecolor\":\"#2a3f5f\"},\"type\":\"carpet\"}],\"choropleth\":[{\"colorbar\":{\"outlinewidth\":0,\"ticks\":\"\"},\"type\":\"choropleth\"}],\"contour\":[{\"colorbar\":{\"outlinewidth\":0,\"ticks\":\"\"},\"colorscale\":[[0.0,\"#0d0887\"],[0.1111111111111111,\"#46039f\"],[0.2222222222222222,\"#7201a8\"],[0.3333333333333333,\"#9c179e\"],[0.4444444444444444,\"#bd3786\"],[0.5555555555555556,\"#d8576b\"],[0.6666666666666666,\"#ed7953\"],[0.7777777777777778,\"#fb9f3a\"],[0.8888888888888888,\"#fdca26\"],[1.0,\"#f0f921\"]],\"type\":\"contour\"}],\"contourcarpet\":[{\"colorbar\":{\"outlinewidth\":0,\"ticks\":\"\"},\"type\":\"contourcarpet\"}],\"heatmap\":[{\"colorbar\":{\"outlinewidth\":0,\"ticks\":\"\"},\"colorscale\":[[0.0,\"#0d0887\"],[0.1111111111111111,\"#46039f\"],[0.2222222222222222,\"#7201a8\"],[0.3333333333333333,\"#9c179e\"],[0.4444444444444444,\"#bd3786\"],[0.5555555555555556,\"#d8576b\"],[0.6666666666666666,\"#ed7953\"],[0.7777777777777778,\"#fb9f3a\"],[0.8888888888888888,\"#fdca26\"],[1.0,\"#f0f921\"]],\"type\":\"heatmap\"}],\"heatmapgl\":[{\"colorbar\":{\"outlinewidth\":0,\"ticks\":\"\"},\"colorscale\":[[0.0,\"#0d0887\"],[0.1111111111111111,\"#46039f\"],[0.2222222222222222,\"#7201a8\"],[0.3333333333333333,\"#9c179e\"],[0.4444444444444444,\"#bd3786\"],[0.5555555555555556,\"#d8576b\"],[0.6666666666666666,\"#ed7953\"],[0.7777777777777778,\"#fb9f3a\"],[0.8888888888888888,\"#fdca26\"],[1.0,\"#f0f921\"]],\"type\":\"heatmapgl\"}],\"histogram\":[{\"marker\":{\"pattern\":{\"fillmode\":\"overlay\",\"size\":10,\"solidity\":0.2}},\"type\":\"histogram\"}],\"histogram2d\":[{\"colorbar\":{\"outlinewidth\":0,\"ticks\":\"\"},\"colorscale\":[[0.0,\"#0d0887\"],[0.1111111111111111,\"#46039f\"],[0.2222222222222222,\"#7201a8\"],[0.3333333333333333,\"#9c179e\"],[0.4444444444444444,\"#bd3786\"],[0.5555555555555556,\"#d8576b\"],[0.6666666666666666,\"#ed7953\"],[0.7777777777777778,\"#fb9f3a\"],[0.8888888888888888,\"#fdca26\"],[1.0,\"#f0f921\"]],\"type\":\"histogram2d\"}],\"histogram2dcontour\":[{\"colorbar\":{\"outlinewidth\":0,\"ticks\":\"\"},\"colorscale\":[[0.0,\"#0d0887\"],[0.1111111111111111,\"#46039f\"],[0.2222222222222222,\"#7201a8\"],[0.3333333333333333,\"#9c179e\"],[0.4444444444444444,\"#bd3786\"],[0.5555555555555556,\"#d8576b\"],[0.6666666666666666,\"#ed7953\"],[0.7777777777777778,\"#fb9f3a\"],[0.8888888888888888,\"#fdca26\"],[1.0,\"#f0f921\"]],\"type\":\"histogram2dcontour\"}],\"mesh3d\":[{\"colorbar\":{\"outlinewidth\":0,\"ticks\":\"\"},\"type\":\"mesh3d\"}],\"parcoords\":[{\"line\":{\"colorbar\":{\"outlinewidth\":0,\"ticks\":\"\"}},\"type\":\"parcoords\"}],\"pie\":[{\"automargin\":true,\"type\":\"pie\"}],\"scatter\":[{\"marker\":{\"colorbar\":{\"outlinewidth\":0,\"ticks\":\"\"}},\"type\":\"scatter\"}],\"scatter3d\":[{\"line\":{\"colorbar\":{\"outlinewidth\":0,\"ticks\":\"\"}},\"marker\":{\"colorbar\":{\"outlinewidth\":0,\"ticks\":\"\"}},\"type\":\"scatter3d\"}],\"scattercarpet\":[{\"marker\":{\"colorbar\":{\"outlinewidth\":0,\"ticks\":\"\"}},\"type\":\"scattercarpet\"}],\"scattergeo\":[{\"marker\":{\"colorbar\":{\"outlinewidth\":0,\"ticks\":\"\"}},\"type\":\"scattergeo\"}],\"scattergl\":[{\"marker\":{\"colorbar\":{\"outlinewidth\":0,\"ticks\":\"\"}},\"type\":\"scattergl\"}],\"scattermapbox\":[{\"marker\":{\"colorbar\":{\"outlinewidth\":0,\"ticks\":\"\"}},\"type\":\"scattermapbox\"}],\"scatterpolar\":[{\"marker\":{\"colorbar\":{\"outlinewidth\":0,\"ticks\":\"\"}},\"type\":\"scatterpolar\"}],\"scatterpolargl\":[{\"marker\":{\"colorbar\":{\"outlinewidth\":0,\"ticks\":\"\"}},\"type\":\"scatterpolargl\"}],\"scatterternary\":[{\"marker\":{\"colorbar\":{\"outlinewidth\":0,\"ticks\":\"\"}},\"type\":\"scatterternary\"}],\"surface\":[{\"colorbar\":{\"outlinewidth\":0,\"ticks\":\"\"},\"colorscale\":[[0.0,\"#0d0887\"],[0.1111111111111111,\"#46039f\"],[0.2222222222222222,\"#7201a8\"],[0.3333333333333333,\"#9c179e\"],[0.4444444444444444,\"#bd3786\"],[0.5555555555555556,\"#d8576b\"],[0.6666666666666666,\"#ed7953\"],[0.7777777777777778,\"#fb9f3a\"],[0.8888888888888888,\"#fdca26\"],[1.0,\"#f0f921\"]],\"type\":\"surface\"}],\"table\":[{\"cells\":{\"fill\":{\"color\":\"#EBF0F8\"},\"line\":{\"color\":\"white\"}},\"header\":{\"fill\":{\"color\":\"#C8D4E3\"},\"line\":{\"color\":\"white\"}},\"type\":\"table\"}]},\"layout\":{\"annotationdefaults\":{\"arrowcolor\":\"#2a3f5f\",\"arrowhead\":0,\"arrowwidth\":1},\"autotypenumbers\":\"strict\",\"coloraxis\":{\"colorbar\":{\"outlinewidth\":0,\"ticks\":\"\"}},\"colorscale\":{\"diverging\":[[0,\"#8e0152\"],[0.1,\"#c51b7d\"],[0.2,\"#de77ae\"],[0.3,\"#f1b6da\"],[0.4,\"#fde0ef\"],[0.5,\"#f7f7f7\"],[0.6,\"#e6f5d0\"],[0.7,\"#b8e186\"],[0.8,\"#7fbc41\"],[0.9,\"#4d9221\"],[1,\"#276419\"]],\"sequential\":[[0.0,\"#0d0887\"],[0.1111111111111111,\"#46039f\"],[0.2222222222222222,\"#7201a8\"],[0.3333333333333333,\"#9c179e\"],[0.4444444444444444,\"#bd3786\"],[0.5555555555555556,\"#d8576b\"],[0.6666666666666666,\"#ed7953\"],[0.7777777777777778,\"#fb9f3a\"],[0.8888888888888888,\"#fdca26\"],[1.0,\"#f0f921\"]],\"sequentialminus\":[[0.0,\"#0d0887\"],[0.1111111111111111,\"#46039f\"],[0.2222222222222222,\"#7201a8\"],[0.3333333333333333,\"#9c179e\"],[0.4444444444444444,\"#bd3786\"],[0.5555555555555556,\"#d8576b\"],[0.6666666666666666,\"#ed7953\"],[0.7777777777777778,\"#fb9f3a\"],[0.8888888888888888,\"#fdca26\"],[1.0,\"#f0f921\"]]},\"colorway\":[\"#636efa\",\"#EF553B\",\"#00cc96\",\"#ab63fa\",\"#FFA15A\",\"#19d3f3\",\"#FF6692\",\"#B6E880\",\"#FF97FF\",\"#FECB52\"],\"font\":{\"color\":\"#2a3f5f\"},\"geo\":{\"bgcolor\":\"white\",\"lakecolor\":\"white\",\"landcolor\":\"#E5ECF6\",\"showlakes\":true,\"showland\":true,\"subunitcolor\":\"white\"},\"hoverlabel\":{\"align\":\"left\"},\"hovermode\":\"closest\",\"mapbox\":{\"style\":\"light\"},\"paper_bgcolor\":\"white\",\"plot_bgcolor\":\"#E5ECF6\",\"polar\":{\"angularaxis\":{\"gridcolor\":\"white\",\"linecolor\":\"white\",\"ticks\":\"\"},\"bgcolor\":\"#E5ECF6\",\"radialaxis\":{\"gridcolor\":\"white\",\"linecolor\":\"white\",\"ticks\":\"\"}},\"scene\":{\"xaxis\":{\"backgroundcolor\":\"#E5ECF6\",\"gridcolor\":\"white\",\"gridwidth\":2,\"linecolor\":\"white\",\"showbackground\":true,\"ticks\":\"\",\"zerolinecolor\":\"white\"},\"yaxis\":{\"backgroundcolor\":\"#E5ECF6\",\"gridcolor\":\"white\",\"gridwidth\":2,\"linecolor\":\"white\",\"showbackground\":true,\"ticks\":\"\",\"zerolinecolor\":\"white\"},\"zaxis\":{\"backgroundcolor\":\"#E5ECF6\",\"gridcolor\":\"white\",\"gridwidth\":2,\"linecolor\":\"white\",\"showbackground\":true,\"ticks\":\"\",\"zerolinecolor\":\"white\"}},\"shapedefaults\":{\"line\":{\"color\":\"#2a3f5f\"}},\"ternary\":{\"aaxis\":{\"gridcolor\":\"white\",\"linecolor\":\"white\",\"ticks\":\"\"},\"baxis\":{\"gridcolor\":\"white\",\"linecolor\":\"white\",\"ticks\":\"\"},\"bgcolor\":\"#E5ECF6\",\"caxis\":{\"gridcolor\":\"white\",\"linecolor\":\"white\",\"ticks\":\"\"}},\"title\":{\"x\":0.05},\"xaxis\":{\"automargin\":true,\"gridcolor\":\"white\",\"linecolor\":\"white\",\"ticks\":\"\",\"title\":{\"standoff\":15},\"zerolinecolor\":\"white\",\"zerolinewidth\":2},\"yaxis\":{\"automargin\":true,\"gridcolor\":\"white\",\"linecolor\":\"white\",\"ticks\":\"\",\"title\":{\"standoff\":15},\"zerolinecolor\":\"white\",\"zerolinewidth\":2}}},\"xaxis\":{\"anchor\":\"y\",\"domain\":[0.0,1.0],\"title\":{\"text\":\"n_genes/n_go\"}},\"yaxis\":{\"anchor\":\"x\",\"domain\":[0.0,1.0],\"title\":{\"text\":\"term\"}},\"legend\":{\"tracegroupgap\":0},\"title\":{\"text\":\"mse_rank_log1p_ALL_Olfr_rtp1\"},\"barmode\":\"relative\",\"plot_bgcolor\":\"rgba(0, 0, 0, 0)\"},                        {\"responsive\": true}                    ).then(function(){\n",
       "                            \n",
       "var gd = document.getElementById('969382d0-7438-48aa-8fee-e57bdb9d1b7e');\n",
       "var x = new MutationObserver(function (mutations, observer) {{\n",
       "        var display = window.getComputedStyle(gd).display;\n",
       "        if (!display || display === 'none') {{\n",
       "            console.log([gd, 'removed!']);\n",
       "            Plotly.purge(gd);\n",
       "            observer.disconnect();\n",
       "        }}\n",
       "}});\n",
       "\n",
       "// Listen for the removal of the full notebook cells\n",
       "var notebookContainer = gd.closest('#notebook-container');\n",
       "if (notebookContainer) {{\n",
       "    x.observe(notebookContainer, {childList: true});\n",
       "}}\n",
       "\n",
       "// Listen for the clearing of the current output cell\n",
       "var outputEl = gd.closest('.output');\n",
       "if (outputEl) {{\n",
       "    x.observe(outputEl, {childList: true});\n",
       "}}\n",
       "\n",
       "                        })                };                });            </script>        </div>"
      ]
     },
     "metadata": {},
     "output_type": "display_data"
    },
    {
     "data": {
      "application/vnd.plotly.v1+json": {
       "config": {
        "plotlyServerURL": "https://plot.ly"
       },
       "data": [
        {
         "alignmentgroup": "True",
         "customdata": [
          [
           [
            "Nsg1",
            "Pde6d",
            "Lrrc6",
            "Efhc2",
            "Drc1",
            "Cfap58",
            "Kif17",
            "Scn8a",
            "Kif9",
            "Iqcg",
            "Cfap126",
            "Cfap206",
            "Atcay",
            "Clstn2",
            "Spef1",
            "Ehd3",
            "Adam22",
            "Kcna2",
            "Ttll7",
            "Arhgap44"
           ]
          ],
          [
           [
            "Ehd3",
            "Kif9",
            "Lrrc6",
            "Drc1",
            "Iqcg",
            "Ttll7",
            "Cfap58",
            "Kif17",
            "Cfap126",
            "Cfap206",
            "Spef1"
           ]
          ],
          [
           [
            "Kif9",
            "Lrrc6",
            "Drc1",
            "Iqcg",
            "Cfap58",
            "Dnah9",
            "Spef1"
           ]
          ],
          [
           [
            "Ehd3",
            "Snap25",
            "Slc25a12",
            "Dnm1",
            "Calm1",
            "Atp1b1",
            "Eef1a2"
           ]
          ],
          [
           [
            "Kif9",
            "Iqcg",
            "Cfap58",
            "Saxo2",
            "Atp1b1"
           ]
          ],
          [
           [
            "Kif9",
            "Tppp3",
            "Efhc2",
            "Ttll7",
            "Kif17",
            "Dnm1",
            "Spef1",
            "Mt3"
           ]
          ],
          [
           [
            "Efhc2",
            "Ttll7",
            "Kif17",
            "Cfap126",
            "Cfap206",
            "Saxo2"
           ]
          ],
          [
           [
            "Snap25",
            "Sgip1",
            "Lingo1",
            "Tmem151a",
            "Zdhhc23",
            "Pde4a",
            "Gfy",
            "Nsg1",
            "Rtp1",
            "Pde6d",
            "H2-DMb2",
            "Cyp2s1",
            "Diras1",
            "Atp1b1",
            "Aplp2",
            "Plxna3",
            "Plxna4",
            "Scg3",
            "Slc37a1",
            "Acsl6",
            "Acp2",
            "Scn8a",
            "Triqk",
            "Gramd1c",
            "Rtp2",
            "Degs1",
            "Snph",
            "Clgn",
            "P4htm",
            "Aig1",
            "Atp9a",
            "Cfap126",
            "Slc45a1",
            "Clstn2",
            "Spef1",
            "Slc24a2",
            "Ehd3",
            "Fads6",
            "Cds1",
            "Adam22",
            "Kcna2",
            "Slc25a12",
            "Syt1",
            "Dnm1",
            "Stxbp5l"
           ]
          ],
          [
           [
            "Drc1",
            "Dnah9",
            "Kif17",
            "Cfap206",
            "Spef1"
           ]
          ],
          [
           [
            "Kif9",
            "Tppp3",
            "Efhc2",
            "Snap25",
            "Drc1",
            "Iqcg",
            "Ttll7",
            "Cfap58",
            "Kif17",
            "Cfap126",
            "Cfap206",
            "Saxo2",
            "Dnm1",
            "Pde6d",
            "Spef1"
           ]
          ],
          [
           [
            "Snap25",
            "Adam22",
            "Kcna2",
            "Pak3",
            "Scn8a",
            "Syt1",
            "Nsg1",
            "Clstn2",
            "Dnm1",
            "Arhgap44"
           ]
          ],
          [
           [
            "Adam22",
            "Scn8a",
            "Kcna2"
           ]
          ],
          [
           [
            "Tppp3",
            "Snap25",
            "Sgip1",
            "Pde4a",
            "Ipo13",
            "Pde6d",
            "Cyp2s1",
            "Calm1",
            "Lrrc6",
            "Efhc2",
            "Drc1",
            "Pou2f2",
            "Cfap58",
            "Kif17",
            "Pak3",
            "Scrn1",
            "Stxbp5l",
            "Eef1a2",
            "Snph",
            "Kif9",
            "Sult1d1",
            "Agtpbp1",
            "Iqcg",
            "Cfap126",
            "Cfap206",
            "Pkib",
            "Atcay",
            "Spef1",
            "Mt3",
            "Ehd3",
            "Nfatc1",
            "Hspa12a",
            "Ttll7",
            "Impdh1",
            "Celf4",
            "Syt1",
            "Dnm1",
            "Hdac9",
            "Rap1gds1",
            "Ak9",
            "Arhgap44"
           ]
          ]
         ],
         "hovertemplate": "n_genes/n_go=%{x}<br>term=%{y}<br>study_genes=%{customdata[0]}<extra></extra>",
         "legendgroup": "",
         "marker": {
          "color": "#636efa",
          "pattern": {
           "shape": ""
          }
         },
         "name": "",
         "offsetgroup": "",
         "orientation": "h",
         "showlegend": false,
         "textposition": "auto",
         "type": "bar",
         "x": [
          0.016556291390728478,
          0.028132992327365727,
          0.03910614525139665,
          0.03608247422680412,
          0.05747126436781609,
          0.023054755043227664,
          0.03296703296703297,
          0.0057773783540891,
          0.0423728813559322,
          0.010932944606413994,
          0.015360983102918587,
          0.10344827586206896,
          0.005658294231300027
         ],
         "xaxis": "x",
         "y": [
          "cell projection",
          "cilium",
          "motile cilium",
          "myelin sheath",
          "sperm flagellum",
          "microtubule",
          "ciliary basal body",
          "membrane",
          "axoneme",
          "cytoskeleton",
          "glutamatergic synapse",
          "axon initial segment",
          "cytoplasm"
         ],
         "yaxis": "y"
        }
       ],
       "layout": {
        "barmode": "relative",
        "legend": {
         "tracegroupgap": 0
        },
        "plot_bgcolor": "rgba(0, 0, 0, 0)",
        "template": {
         "data": {
          "bar": [
           {
            "error_x": {
             "color": "#2a3f5f"
            },
            "error_y": {
             "color": "#2a3f5f"
            },
            "marker": {
             "line": {
              "color": "#E5ECF6",
              "width": 0.5
             },
             "pattern": {
              "fillmode": "overlay",
              "size": 10,
              "solidity": 0.2
             }
            },
            "type": "bar"
           }
          ],
          "barpolar": [
           {
            "marker": {
             "line": {
              "color": "#E5ECF6",
              "width": 0.5
             },
             "pattern": {
              "fillmode": "overlay",
              "size": 10,
              "solidity": 0.2
             }
            },
            "type": "barpolar"
           }
          ],
          "carpet": [
           {
            "aaxis": {
             "endlinecolor": "#2a3f5f",
             "gridcolor": "white",
             "linecolor": "white",
             "minorgridcolor": "white",
             "startlinecolor": "#2a3f5f"
            },
            "baxis": {
             "endlinecolor": "#2a3f5f",
             "gridcolor": "white",
             "linecolor": "white",
             "minorgridcolor": "white",
             "startlinecolor": "#2a3f5f"
            },
            "type": "carpet"
           }
          ],
          "choropleth": [
           {
            "colorbar": {
             "outlinewidth": 0,
             "ticks": ""
            },
            "type": "choropleth"
           }
          ],
          "contour": [
           {
            "colorbar": {
             "outlinewidth": 0,
             "ticks": ""
            },
            "colorscale": [
             [
              0,
              "#0d0887"
             ],
             [
              0.1111111111111111,
              "#46039f"
             ],
             [
              0.2222222222222222,
              "#7201a8"
             ],
             [
              0.3333333333333333,
              "#9c179e"
             ],
             [
              0.4444444444444444,
              "#bd3786"
             ],
             [
              0.5555555555555556,
              "#d8576b"
             ],
             [
              0.6666666666666666,
              "#ed7953"
             ],
             [
              0.7777777777777778,
              "#fb9f3a"
             ],
             [
              0.8888888888888888,
              "#fdca26"
             ],
             [
              1,
              "#f0f921"
             ]
            ],
            "type": "contour"
           }
          ],
          "contourcarpet": [
           {
            "colorbar": {
             "outlinewidth": 0,
             "ticks": ""
            },
            "type": "contourcarpet"
           }
          ],
          "heatmap": [
           {
            "colorbar": {
             "outlinewidth": 0,
             "ticks": ""
            },
            "colorscale": [
             [
              0,
              "#0d0887"
             ],
             [
              0.1111111111111111,
              "#46039f"
             ],
             [
              0.2222222222222222,
              "#7201a8"
             ],
             [
              0.3333333333333333,
              "#9c179e"
             ],
             [
              0.4444444444444444,
              "#bd3786"
             ],
             [
              0.5555555555555556,
              "#d8576b"
             ],
             [
              0.6666666666666666,
              "#ed7953"
             ],
             [
              0.7777777777777778,
              "#fb9f3a"
             ],
             [
              0.8888888888888888,
              "#fdca26"
             ],
             [
              1,
              "#f0f921"
             ]
            ],
            "type": "heatmap"
           }
          ],
          "heatmapgl": [
           {
            "colorbar": {
             "outlinewidth": 0,
             "ticks": ""
            },
            "colorscale": [
             [
              0,
              "#0d0887"
             ],
             [
              0.1111111111111111,
              "#46039f"
             ],
             [
              0.2222222222222222,
              "#7201a8"
             ],
             [
              0.3333333333333333,
              "#9c179e"
             ],
             [
              0.4444444444444444,
              "#bd3786"
             ],
             [
              0.5555555555555556,
              "#d8576b"
             ],
             [
              0.6666666666666666,
              "#ed7953"
             ],
             [
              0.7777777777777778,
              "#fb9f3a"
             ],
             [
              0.8888888888888888,
              "#fdca26"
             ],
             [
              1,
              "#f0f921"
             ]
            ],
            "type": "heatmapgl"
           }
          ],
          "histogram": [
           {
            "marker": {
             "pattern": {
              "fillmode": "overlay",
              "size": 10,
              "solidity": 0.2
             }
            },
            "type": "histogram"
           }
          ],
          "histogram2d": [
           {
            "colorbar": {
             "outlinewidth": 0,
             "ticks": ""
            },
            "colorscale": [
             [
              0,
              "#0d0887"
             ],
             [
              0.1111111111111111,
              "#46039f"
             ],
             [
              0.2222222222222222,
              "#7201a8"
             ],
             [
              0.3333333333333333,
              "#9c179e"
             ],
             [
              0.4444444444444444,
              "#bd3786"
             ],
             [
              0.5555555555555556,
              "#d8576b"
             ],
             [
              0.6666666666666666,
              "#ed7953"
             ],
             [
              0.7777777777777778,
              "#fb9f3a"
             ],
             [
              0.8888888888888888,
              "#fdca26"
             ],
             [
              1,
              "#f0f921"
             ]
            ],
            "type": "histogram2d"
           }
          ],
          "histogram2dcontour": [
           {
            "colorbar": {
             "outlinewidth": 0,
             "ticks": ""
            },
            "colorscale": [
             [
              0,
              "#0d0887"
             ],
             [
              0.1111111111111111,
              "#46039f"
             ],
             [
              0.2222222222222222,
              "#7201a8"
             ],
             [
              0.3333333333333333,
              "#9c179e"
             ],
             [
              0.4444444444444444,
              "#bd3786"
             ],
             [
              0.5555555555555556,
              "#d8576b"
             ],
             [
              0.6666666666666666,
              "#ed7953"
             ],
             [
              0.7777777777777778,
              "#fb9f3a"
             ],
             [
              0.8888888888888888,
              "#fdca26"
             ],
             [
              1,
              "#f0f921"
             ]
            ],
            "type": "histogram2dcontour"
           }
          ],
          "mesh3d": [
           {
            "colorbar": {
             "outlinewidth": 0,
             "ticks": ""
            },
            "type": "mesh3d"
           }
          ],
          "parcoords": [
           {
            "line": {
             "colorbar": {
              "outlinewidth": 0,
              "ticks": ""
             }
            },
            "type": "parcoords"
           }
          ],
          "pie": [
           {
            "automargin": true,
            "type": "pie"
           }
          ],
          "scatter": [
           {
            "marker": {
             "colorbar": {
              "outlinewidth": 0,
              "ticks": ""
             }
            },
            "type": "scatter"
           }
          ],
          "scatter3d": [
           {
            "line": {
             "colorbar": {
              "outlinewidth": 0,
              "ticks": ""
             }
            },
            "marker": {
             "colorbar": {
              "outlinewidth": 0,
              "ticks": ""
             }
            },
            "type": "scatter3d"
           }
          ],
          "scattercarpet": [
           {
            "marker": {
             "colorbar": {
              "outlinewidth": 0,
              "ticks": ""
             }
            },
            "type": "scattercarpet"
           }
          ],
          "scattergeo": [
           {
            "marker": {
             "colorbar": {
              "outlinewidth": 0,
              "ticks": ""
             }
            },
            "type": "scattergeo"
           }
          ],
          "scattergl": [
           {
            "marker": {
             "colorbar": {
              "outlinewidth": 0,
              "ticks": ""
             }
            },
            "type": "scattergl"
           }
          ],
          "scattermapbox": [
           {
            "marker": {
             "colorbar": {
              "outlinewidth": 0,
              "ticks": ""
             }
            },
            "type": "scattermapbox"
           }
          ],
          "scatterpolar": [
           {
            "marker": {
             "colorbar": {
              "outlinewidth": 0,
              "ticks": ""
             }
            },
            "type": "scatterpolar"
           }
          ],
          "scatterpolargl": [
           {
            "marker": {
             "colorbar": {
              "outlinewidth": 0,
              "ticks": ""
             }
            },
            "type": "scatterpolargl"
           }
          ],
          "scatterternary": [
           {
            "marker": {
             "colorbar": {
              "outlinewidth": 0,
              "ticks": ""
             }
            },
            "type": "scatterternary"
           }
          ],
          "surface": [
           {
            "colorbar": {
             "outlinewidth": 0,
             "ticks": ""
            },
            "colorscale": [
             [
              0,
              "#0d0887"
             ],
             [
              0.1111111111111111,
              "#46039f"
             ],
             [
              0.2222222222222222,
              "#7201a8"
             ],
             [
              0.3333333333333333,
              "#9c179e"
             ],
             [
              0.4444444444444444,
              "#bd3786"
             ],
             [
              0.5555555555555556,
              "#d8576b"
             ],
             [
              0.6666666666666666,
              "#ed7953"
             ],
             [
              0.7777777777777778,
              "#fb9f3a"
             ],
             [
              0.8888888888888888,
              "#fdca26"
             ],
             [
              1,
              "#f0f921"
             ]
            ],
            "type": "surface"
           }
          ],
          "table": [
           {
            "cells": {
             "fill": {
              "color": "#EBF0F8"
             },
             "line": {
              "color": "white"
             }
            },
            "header": {
             "fill": {
              "color": "#C8D4E3"
             },
             "line": {
              "color": "white"
             }
            },
            "type": "table"
           }
          ]
         },
         "layout": {
          "annotationdefaults": {
           "arrowcolor": "#2a3f5f",
           "arrowhead": 0,
           "arrowwidth": 1
          },
          "autotypenumbers": "strict",
          "coloraxis": {
           "colorbar": {
            "outlinewidth": 0,
            "ticks": ""
           }
          },
          "colorscale": {
           "diverging": [
            [
             0,
             "#8e0152"
            ],
            [
             0.1,
             "#c51b7d"
            ],
            [
             0.2,
             "#de77ae"
            ],
            [
             0.3,
             "#f1b6da"
            ],
            [
             0.4,
             "#fde0ef"
            ],
            [
             0.5,
             "#f7f7f7"
            ],
            [
             0.6,
             "#e6f5d0"
            ],
            [
             0.7,
             "#b8e186"
            ],
            [
             0.8,
             "#7fbc41"
            ],
            [
             0.9,
             "#4d9221"
            ],
            [
             1,
             "#276419"
            ]
           ],
           "sequential": [
            [
             0,
             "#0d0887"
            ],
            [
             0.1111111111111111,
             "#46039f"
            ],
            [
             0.2222222222222222,
             "#7201a8"
            ],
            [
             0.3333333333333333,
             "#9c179e"
            ],
            [
             0.4444444444444444,
             "#bd3786"
            ],
            [
             0.5555555555555556,
             "#d8576b"
            ],
            [
             0.6666666666666666,
             "#ed7953"
            ],
            [
             0.7777777777777778,
             "#fb9f3a"
            ],
            [
             0.8888888888888888,
             "#fdca26"
            ],
            [
             1,
             "#f0f921"
            ]
           ],
           "sequentialminus": [
            [
             0,
             "#0d0887"
            ],
            [
             0.1111111111111111,
             "#46039f"
            ],
            [
             0.2222222222222222,
             "#7201a8"
            ],
            [
             0.3333333333333333,
             "#9c179e"
            ],
            [
             0.4444444444444444,
             "#bd3786"
            ],
            [
             0.5555555555555556,
             "#d8576b"
            ],
            [
             0.6666666666666666,
             "#ed7953"
            ],
            [
             0.7777777777777778,
             "#fb9f3a"
            ],
            [
             0.8888888888888888,
             "#fdca26"
            ],
            [
             1,
             "#f0f921"
            ]
           ]
          },
          "colorway": [
           "#636efa",
           "#EF553B",
           "#00cc96",
           "#ab63fa",
           "#FFA15A",
           "#19d3f3",
           "#FF6692",
           "#B6E880",
           "#FF97FF",
           "#FECB52"
          ],
          "font": {
           "color": "#2a3f5f"
          },
          "geo": {
           "bgcolor": "white",
           "lakecolor": "white",
           "landcolor": "#E5ECF6",
           "showlakes": true,
           "showland": true,
           "subunitcolor": "white"
          },
          "hoverlabel": {
           "align": "left"
          },
          "hovermode": "closest",
          "mapbox": {
           "style": "light"
          },
          "paper_bgcolor": "white",
          "plot_bgcolor": "#E5ECF6",
          "polar": {
           "angularaxis": {
            "gridcolor": "white",
            "linecolor": "white",
            "ticks": ""
           },
           "bgcolor": "#E5ECF6",
           "radialaxis": {
            "gridcolor": "white",
            "linecolor": "white",
            "ticks": ""
           }
          },
          "scene": {
           "xaxis": {
            "backgroundcolor": "#E5ECF6",
            "gridcolor": "white",
            "gridwidth": 2,
            "linecolor": "white",
            "showbackground": true,
            "ticks": "",
            "zerolinecolor": "white"
           },
           "yaxis": {
            "backgroundcolor": "#E5ECF6",
            "gridcolor": "white",
            "gridwidth": 2,
            "linecolor": "white",
            "showbackground": true,
            "ticks": "",
            "zerolinecolor": "white"
           },
           "zaxis": {
            "backgroundcolor": "#E5ECF6",
            "gridcolor": "white",
            "gridwidth": 2,
            "linecolor": "white",
            "showbackground": true,
            "ticks": "",
            "zerolinecolor": "white"
           }
          },
          "shapedefaults": {
           "line": {
            "color": "#2a3f5f"
           }
          },
          "ternary": {
           "aaxis": {
            "gridcolor": "white",
            "linecolor": "white",
            "ticks": ""
           },
           "baxis": {
            "gridcolor": "white",
            "linecolor": "white",
            "ticks": ""
           },
           "bgcolor": "#E5ECF6",
           "caxis": {
            "gridcolor": "white",
            "linecolor": "white",
            "ticks": ""
           }
          },
          "title": {
           "x": 0.05
          },
          "xaxis": {
           "automargin": true,
           "gridcolor": "white",
           "linecolor": "white",
           "ticks": "",
           "title": {
            "standoff": 15
           },
           "zerolinecolor": "white",
           "zerolinewidth": 2
          },
          "yaxis": {
           "automargin": true,
           "gridcolor": "white",
           "linecolor": "white",
           "ticks": "",
           "title": {
            "standoff": 15
           },
           "zerolinecolor": "white",
           "zerolinewidth": 2
          }
         }
        },
        "title": {
         "text": "mse_rank_normalized_normExp_ALL_Olfr_rtp1"
        },
        "xaxis": {
         "anchor": "y",
         "domain": [
          0,
          1
         ],
         "title": {
          "text": "n_genes/n_go"
         }
        },
        "yaxis": {
         "anchor": "x",
         "domain": [
          0,
          1
         ],
         "title": {
          "text": "term"
         }
        }
       }
      },
      "text/html": [
       "<div>                            <div id=\"d30ce26f-d99f-4b7a-ac02-382ab73af320\" class=\"plotly-graph-div\" style=\"height:525px; width:100%;\"></div>            <script type=\"text/javascript\">                require([\"plotly\"], function(Plotly) {                    window.PLOTLYENV=window.PLOTLYENV || {};                                    if (document.getElementById(\"d30ce26f-d99f-4b7a-ac02-382ab73af320\")) {                    Plotly.newPlot(                        \"d30ce26f-d99f-4b7a-ac02-382ab73af320\",                        [{\"alignmentgroup\":\"True\",\"customdata\":[[[\"Nsg1\",\"Pde6d\",\"Lrrc6\",\"Efhc2\",\"Drc1\",\"Cfap58\",\"Kif17\",\"Scn8a\",\"Kif9\",\"Iqcg\",\"Cfap126\",\"Cfap206\",\"Atcay\",\"Clstn2\",\"Spef1\",\"Ehd3\",\"Adam22\",\"Kcna2\",\"Ttll7\",\"Arhgap44\"]],[[\"Ehd3\",\"Kif9\",\"Lrrc6\",\"Drc1\",\"Iqcg\",\"Ttll7\",\"Cfap58\",\"Kif17\",\"Cfap126\",\"Cfap206\",\"Spef1\"]],[[\"Kif9\",\"Lrrc6\",\"Drc1\",\"Iqcg\",\"Cfap58\",\"Dnah9\",\"Spef1\"]],[[\"Ehd3\",\"Snap25\",\"Slc25a12\",\"Dnm1\",\"Calm1\",\"Atp1b1\",\"Eef1a2\"]],[[\"Kif9\",\"Iqcg\",\"Cfap58\",\"Saxo2\",\"Atp1b1\"]],[[\"Kif9\",\"Tppp3\",\"Efhc2\",\"Ttll7\",\"Kif17\",\"Dnm1\",\"Spef1\",\"Mt3\"]],[[\"Efhc2\",\"Ttll7\",\"Kif17\",\"Cfap126\",\"Cfap206\",\"Saxo2\"]],[[\"Snap25\",\"Sgip1\",\"Lingo1\",\"Tmem151a\",\"Zdhhc23\",\"Pde4a\",\"Gfy\",\"Nsg1\",\"Rtp1\",\"Pde6d\",\"H2-DMb2\",\"Cyp2s1\",\"Diras1\",\"Atp1b1\",\"Aplp2\",\"Plxna3\",\"Plxna4\",\"Scg3\",\"Slc37a1\",\"Acsl6\",\"Acp2\",\"Scn8a\",\"Triqk\",\"Gramd1c\",\"Rtp2\",\"Degs1\",\"Snph\",\"Clgn\",\"P4htm\",\"Aig1\",\"Atp9a\",\"Cfap126\",\"Slc45a1\",\"Clstn2\",\"Spef1\",\"Slc24a2\",\"Ehd3\",\"Fads6\",\"Cds1\",\"Adam22\",\"Kcna2\",\"Slc25a12\",\"Syt1\",\"Dnm1\",\"Stxbp5l\"]],[[\"Drc1\",\"Dnah9\",\"Kif17\",\"Cfap206\",\"Spef1\"]],[[\"Kif9\",\"Tppp3\",\"Efhc2\",\"Snap25\",\"Drc1\",\"Iqcg\",\"Ttll7\",\"Cfap58\",\"Kif17\",\"Cfap126\",\"Cfap206\",\"Saxo2\",\"Dnm1\",\"Pde6d\",\"Spef1\"]],[[\"Snap25\",\"Adam22\",\"Kcna2\",\"Pak3\",\"Scn8a\",\"Syt1\",\"Nsg1\",\"Clstn2\",\"Dnm1\",\"Arhgap44\"]],[[\"Adam22\",\"Scn8a\",\"Kcna2\"]],[[\"Tppp3\",\"Snap25\",\"Sgip1\",\"Pde4a\",\"Ipo13\",\"Pde6d\",\"Cyp2s1\",\"Calm1\",\"Lrrc6\",\"Efhc2\",\"Drc1\",\"Pou2f2\",\"Cfap58\",\"Kif17\",\"Pak3\",\"Scrn1\",\"Stxbp5l\",\"Eef1a2\",\"Snph\",\"Kif9\",\"Sult1d1\",\"Agtpbp1\",\"Iqcg\",\"Cfap126\",\"Cfap206\",\"Pkib\",\"Atcay\",\"Spef1\",\"Mt3\",\"Ehd3\",\"Nfatc1\",\"Hspa12a\",\"Ttll7\",\"Impdh1\",\"Celf4\",\"Syt1\",\"Dnm1\",\"Hdac9\",\"Rap1gds1\",\"Ak9\",\"Arhgap44\"]]],\"hovertemplate\":\"n_genes/n_go=%{x}<br>term=%{y}<br>study_genes=%{customdata[0]}<extra></extra>\",\"legendgroup\":\"\",\"marker\":{\"color\":\"#636efa\",\"pattern\":{\"shape\":\"\"}},\"name\":\"\",\"offsetgroup\":\"\",\"orientation\":\"h\",\"showlegend\":false,\"textposition\":\"auto\",\"x\":[0.016556291390728478,0.028132992327365727,0.03910614525139665,0.03608247422680412,0.05747126436781609,0.023054755043227664,0.03296703296703297,0.0057773783540891,0.0423728813559322,0.010932944606413994,0.015360983102918587,0.10344827586206896,0.005658294231300027],\"xaxis\":\"x\",\"y\":[\"cell projection\",\"cilium\",\"motile cilium\",\"myelin sheath\",\"sperm flagellum\",\"microtubule\",\"ciliary basal body\",\"membrane\",\"axoneme\",\"cytoskeleton\",\"glutamatergic synapse\",\"axon initial segment\",\"cytoplasm\"],\"yaxis\":\"y\",\"type\":\"bar\"}],                        {\"template\":{\"data\":{\"bar\":[{\"error_x\":{\"color\":\"#2a3f5f\"},\"error_y\":{\"color\":\"#2a3f5f\"},\"marker\":{\"line\":{\"color\":\"#E5ECF6\",\"width\":0.5},\"pattern\":{\"fillmode\":\"overlay\",\"size\":10,\"solidity\":0.2}},\"type\":\"bar\"}],\"barpolar\":[{\"marker\":{\"line\":{\"color\":\"#E5ECF6\",\"width\":0.5},\"pattern\":{\"fillmode\":\"overlay\",\"size\":10,\"solidity\":0.2}},\"type\":\"barpolar\"}],\"carpet\":[{\"aaxis\":{\"endlinecolor\":\"#2a3f5f\",\"gridcolor\":\"white\",\"linecolor\":\"white\",\"minorgridcolor\":\"white\",\"startlinecolor\":\"#2a3f5f\"},\"baxis\":{\"endlinecolor\":\"#2a3f5f\",\"gridcolor\":\"white\",\"linecolor\":\"white\",\"minorgridcolor\":\"white\",\"startlinecolor\":\"#2a3f5f\"},\"type\":\"carpet\"}],\"choropleth\":[{\"colorbar\":{\"outlinewidth\":0,\"ticks\":\"\"},\"type\":\"choropleth\"}],\"contour\":[{\"colorbar\":{\"outlinewidth\":0,\"ticks\":\"\"},\"colorscale\":[[0.0,\"#0d0887\"],[0.1111111111111111,\"#46039f\"],[0.2222222222222222,\"#7201a8\"],[0.3333333333333333,\"#9c179e\"],[0.4444444444444444,\"#bd3786\"],[0.5555555555555556,\"#d8576b\"],[0.6666666666666666,\"#ed7953\"],[0.7777777777777778,\"#fb9f3a\"],[0.8888888888888888,\"#fdca26\"],[1.0,\"#f0f921\"]],\"type\":\"contour\"}],\"contourcarpet\":[{\"colorbar\":{\"outlinewidth\":0,\"ticks\":\"\"},\"type\":\"contourcarpet\"}],\"heatmap\":[{\"colorbar\":{\"outlinewidth\":0,\"ticks\":\"\"},\"colorscale\":[[0.0,\"#0d0887\"],[0.1111111111111111,\"#46039f\"],[0.2222222222222222,\"#7201a8\"],[0.3333333333333333,\"#9c179e\"],[0.4444444444444444,\"#bd3786\"],[0.5555555555555556,\"#d8576b\"],[0.6666666666666666,\"#ed7953\"],[0.7777777777777778,\"#fb9f3a\"],[0.8888888888888888,\"#fdca26\"],[1.0,\"#f0f921\"]],\"type\":\"heatmap\"}],\"heatmapgl\":[{\"colorbar\":{\"outlinewidth\":0,\"ticks\":\"\"},\"colorscale\":[[0.0,\"#0d0887\"],[0.1111111111111111,\"#46039f\"],[0.2222222222222222,\"#7201a8\"],[0.3333333333333333,\"#9c179e\"],[0.4444444444444444,\"#bd3786\"],[0.5555555555555556,\"#d8576b\"],[0.6666666666666666,\"#ed7953\"],[0.7777777777777778,\"#fb9f3a\"],[0.8888888888888888,\"#fdca26\"],[1.0,\"#f0f921\"]],\"type\":\"heatmapgl\"}],\"histogram\":[{\"marker\":{\"pattern\":{\"fillmode\":\"overlay\",\"size\":10,\"solidity\":0.2}},\"type\":\"histogram\"}],\"histogram2d\":[{\"colorbar\":{\"outlinewidth\":0,\"ticks\":\"\"},\"colorscale\":[[0.0,\"#0d0887\"],[0.1111111111111111,\"#46039f\"],[0.2222222222222222,\"#7201a8\"],[0.3333333333333333,\"#9c179e\"],[0.4444444444444444,\"#bd3786\"],[0.5555555555555556,\"#d8576b\"],[0.6666666666666666,\"#ed7953\"],[0.7777777777777778,\"#fb9f3a\"],[0.8888888888888888,\"#fdca26\"],[1.0,\"#f0f921\"]],\"type\":\"histogram2d\"}],\"histogram2dcontour\":[{\"colorbar\":{\"outlinewidth\":0,\"ticks\":\"\"},\"colorscale\":[[0.0,\"#0d0887\"],[0.1111111111111111,\"#46039f\"],[0.2222222222222222,\"#7201a8\"],[0.3333333333333333,\"#9c179e\"],[0.4444444444444444,\"#bd3786\"],[0.5555555555555556,\"#d8576b\"],[0.6666666666666666,\"#ed7953\"],[0.7777777777777778,\"#fb9f3a\"],[0.8888888888888888,\"#fdca26\"],[1.0,\"#f0f921\"]],\"type\":\"histogram2dcontour\"}],\"mesh3d\":[{\"colorbar\":{\"outlinewidth\":0,\"ticks\":\"\"},\"type\":\"mesh3d\"}],\"parcoords\":[{\"line\":{\"colorbar\":{\"outlinewidth\":0,\"ticks\":\"\"}},\"type\":\"parcoords\"}],\"pie\":[{\"automargin\":true,\"type\":\"pie\"}],\"scatter\":[{\"marker\":{\"colorbar\":{\"outlinewidth\":0,\"ticks\":\"\"}},\"type\":\"scatter\"}],\"scatter3d\":[{\"line\":{\"colorbar\":{\"outlinewidth\":0,\"ticks\":\"\"}},\"marker\":{\"colorbar\":{\"outlinewidth\":0,\"ticks\":\"\"}},\"type\":\"scatter3d\"}],\"scattercarpet\":[{\"marker\":{\"colorbar\":{\"outlinewidth\":0,\"ticks\":\"\"}},\"type\":\"scattercarpet\"}],\"scattergeo\":[{\"marker\":{\"colorbar\":{\"outlinewidth\":0,\"ticks\":\"\"}},\"type\":\"scattergeo\"}],\"scattergl\":[{\"marker\":{\"colorbar\":{\"outlinewidth\":0,\"ticks\":\"\"}},\"type\":\"scattergl\"}],\"scattermapbox\":[{\"marker\":{\"colorbar\":{\"outlinewidth\":0,\"ticks\":\"\"}},\"type\":\"scattermapbox\"}],\"scatterpolar\":[{\"marker\":{\"colorbar\":{\"outlinewidth\":0,\"ticks\":\"\"}},\"type\":\"scatterpolar\"}],\"scatterpolargl\":[{\"marker\":{\"colorbar\":{\"outlinewidth\":0,\"ticks\":\"\"}},\"type\":\"scatterpolargl\"}],\"scatterternary\":[{\"marker\":{\"colorbar\":{\"outlinewidth\":0,\"ticks\":\"\"}},\"type\":\"scatterternary\"}],\"surface\":[{\"colorbar\":{\"outlinewidth\":0,\"ticks\":\"\"},\"colorscale\":[[0.0,\"#0d0887\"],[0.1111111111111111,\"#46039f\"],[0.2222222222222222,\"#7201a8\"],[0.3333333333333333,\"#9c179e\"],[0.4444444444444444,\"#bd3786\"],[0.5555555555555556,\"#d8576b\"],[0.6666666666666666,\"#ed7953\"],[0.7777777777777778,\"#fb9f3a\"],[0.8888888888888888,\"#fdca26\"],[1.0,\"#f0f921\"]],\"type\":\"surface\"}],\"table\":[{\"cells\":{\"fill\":{\"color\":\"#EBF0F8\"},\"line\":{\"color\":\"white\"}},\"header\":{\"fill\":{\"color\":\"#C8D4E3\"},\"line\":{\"color\":\"white\"}},\"type\":\"table\"}]},\"layout\":{\"annotationdefaults\":{\"arrowcolor\":\"#2a3f5f\",\"arrowhead\":0,\"arrowwidth\":1},\"autotypenumbers\":\"strict\",\"coloraxis\":{\"colorbar\":{\"outlinewidth\":0,\"ticks\":\"\"}},\"colorscale\":{\"diverging\":[[0,\"#8e0152\"],[0.1,\"#c51b7d\"],[0.2,\"#de77ae\"],[0.3,\"#f1b6da\"],[0.4,\"#fde0ef\"],[0.5,\"#f7f7f7\"],[0.6,\"#e6f5d0\"],[0.7,\"#b8e186\"],[0.8,\"#7fbc41\"],[0.9,\"#4d9221\"],[1,\"#276419\"]],\"sequential\":[[0.0,\"#0d0887\"],[0.1111111111111111,\"#46039f\"],[0.2222222222222222,\"#7201a8\"],[0.3333333333333333,\"#9c179e\"],[0.4444444444444444,\"#bd3786\"],[0.5555555555555556,\"#d8576b\"],[0.6666666666666666,\"#ed7953\"],[0.7777777777777778,\"#fb9f3a\"],[0.8888888888888888,\"#fdca26\"],[1.0,\"#f0f921\"]],\"sequentialminus\":[[0.0,\"#0d0887\"],[0.1111111111111111,\"#46039f\"],[0.2222222222222222,\"#7201a8\"],[0.3333333333333333,\"#9c179e\"],[0.4444444444444444,\"#bd3786\"],[0.5555555555555556,\"#d8576b\"],[0.6666666666666666,\"#ed7953\"],[0.7777777777777778,\"#fb9f3a\"],[0.8888888888888888,\"#fdca26\"],[1.0,\"#f0f921\"]]},\"colorway\":[\"#636efa\",\"#EF553B\",\"#00cc96\",\"#ab63fa\",\"#FFA15A\",\"#19d3f3\",\"#FF6692\",\"#B6E880\",\"#FF97FF\",\"#FECB52\"],\"font\":{\"color\":\"#2a3f5f\"},\"geo\":{\"bgcolor\":\"white\",\"lakecolor\":\"white\",\"landcolor\":\"#E5ECF6\",\"showlakes\":true,\"showland\":true,\"subunitcolor\":\"white\"},\"hoverlabel\":{\"align\":\"left\"},\"hovermode\":\"closest\",\"mapbox\":{\"style\":\"light\"},\"paper_bgcolor\":\"white\",\"plot_bgcolor\":\"#E5ECF6\",\"polar\":{\"angularaxis\":{\"gridcolor\":\"white\",\"linecolor\":\"white\",\"ticks\":\"\"},\"bgcolor\":\"#E5ECF6\",\"radialaxis\":{\"gridcolor\":\"white\",\"linecolor\":\"white\",\"ticks\":\"\"}},\"scene\":{\"xaxis\":{\"backgroundcolor\":\"#E5ECF6\",\"gridcolor\":\"white\",\"gridwidth\":2,\"linecolor\":\"white\",\"showbackground\":true,\"ticks\":\"\",\"zerolinecolor\":\"white\"},\"yaxis\":{\"backgroundcolor\":\"#E5ECF6\",\"gridcolor\":\"white\",\"gridwidth\":2,\"linecolor\":\"white\",\"showbackground\":true,\"ticks\":\"\",\"zerolinecolor\":\"white\"},\"zaxis\":{\"backgroundcolor\":\"#E5ECF6\",\"gridcolor\":\"white\",\"gridwidth\":2,\"linecolor\":\"white\",\"showbackground\":true,\"ticks\":\"\",\"zerolinecolor\":\"white\"}},\"shapedefaults\":{\"line\":{\"color\":\"#2a3f5f\"}},\"ternary\":{\"aaxis\":{\"gridcolor\":\"white\",\"linecolor\":\"white\",\"ticks\":\"\"},\"baxis\":{\"gridcolor\":\"white\",\"linecolor\":\"white\",\"ticks\":\"\"},\"bgcolor\":\"#E5ECF6\",\"caxis\":{\"gridcolor\":\"white\",\"linecolor\":\"white\",\"ticks\":\"\"}},\"title\":{\"x\":0.05},\"xaxis\":{\"automargin\":true,\"gridcolor\":\"white\",\"linecolor\":\"white\",\"ticks\":\"\",\"title\":{\"standoff\":15},\"zerolinecolor\":\"white\",\"zerolinewidth\":2},\"yaxis\":{\"automargin\":true,\"gridcolor\":\"white\",\"linecolor\":\"white\",\"ticks\":\"\",\"title\":{\"standoff\":15},\"zerolinecolor\":\"white\",\"zerolinewidth\":2}}},\"xaxis\":{\"anchor\":\"y\",\"domain\":[0.0,1.0],\"title\":{\"text\":\"n_genes/n_go\"}},\"yaxis\":{\"anchor\":\"x\",\"domain\":[0.0,1.0],\"title\":{\"text\":\"term\"}},\"legend\":{\"tracegroupgap\":0},\"title\":{\"text\":\"mse_rank_normalized_normExp_ALL_Olfr_rtp1\"},\"barmode\":\"relative\",\"plot_bgcolor\":\"rgba(0, 0, 0, 0)\"},                        {\"responsive\": true}                    ).then(function(){\n",
       "                            \n",
       "var gd = document.getElementById('d30ce26f-d99f-4b7a-ac02-382ab73af320');\n",
       "var x = new MutationObserver(function (mutations, observer) {{\n",
       "        var display = window.getComputedStyle(gd).display;\n",
       "        if (!display || display === 'none') {{\n",
       "            console.log([gd, 'removed!']);\n",
       "            Plotly.purge(gd);\n",
       "            observer.disconnect();\n",
       "        }}\n",
       "}});\n",
       "\n",
       "// Listen for the removal of the full notebook cells\n",
       "var notebookContainer = gd.closest('#notebook-container');\n",
       "if (notebookContainer) {{\n",
       "    x.observe(notebookContainer, {childList: true});\n",
       "}}\n",
       "\n",
       "// Listen for the clearing of the current output cell\n",
       "var outputEl = gd.closest('.output');\n",
       "if (outputEl) {{\n",
       "    x.observe(outputEl, {childList: true});\n",
       "}}\n",
       "\n",
       "                        })                };                });            </script>        </div>"
      ]
     },
     "metadata": {},
     "output_type": "display_data"
    },
    {
     "data": {
      "application/vnd.plotly.v1+json": {
       "config": {
        "plotlyServerURL": "https://plot.ly"
       },
       "data": [
        {
         "alignmentgroup": "True",
         "customdata": [
          [
           [
            "Lrrc6",
            "Zmynd10",
            "Ttll3",
            "Rsph9",
            "Spef1"
           ]
          ],
          [
           [
            "Lrrc6",
            "Ttc21a",
            "Cfap44",
            "Ttll3",
            "Cfap58",
            "Eno4"
           ]
          ],
          [
           [
            "Cfap206",
            "Iqcg",
            "Cfap58",
            "Cfap44"
           ]
          ],
          [
           [
            "Ehd3",
            "Ccdc113",
            "Bbs7",
            "Rsph9",
            "Cfap58",
            "Cfap206",
            "Spef1"
           ]
          ],
          [
           [
            "Dmtn",
            "Nsg1",
            "Pde6d",
            "Lrrc6",
            "Cfap44",
            "Efhc2",
            "Drc1",
            "Rsph9",
            "Cfap58",
            "Scn8a",
            "Pacrg",
            "Kif9",
            "Bbs7",
            "Iqcg",
            "Cfap206",
            "Atcay",
            "Clstn2",
            "Nmnat2",
            "Spef1",
            "Ehd3",
            "Adam22",
            "Kcna2",
            "Ttll3",
            "Ttll7"
           ]
          ],
          [
           [
            "Ehd3",
            "Kif9",
            "Lrrc6",
            "Bbs7",
            "Cfap44",
            "Drc1",
            "Iqcg",
            "Ttll3",
            "Ttll7",
            "Rsph9",
            "Cfap58",
            "Cfap206",
            "Spef1",
            "Pacrg"
           ]
          ],
          [
           [
            "Ccdc113",
            "Bbs7",
            "Drc1",
            "Wdr54",
            "Ttll3",
            "Rsph9",
            "Cfap206",
            "Spef1"
           ]
          ],
          [
           [
            "Lrrc6",
            "Kif9",
            "Cfap44",
            "Drc1",
            "Iqcg",
            "Ttll3",
            "Rsph9",
            "Cfap58",
            "Spef1"
           ]
          ],
          [
           [
            "Ccdc113",
            "Dmtn",
            "Snap25",
            "Pde6d",
            "Cfap44",
            "Efhc2",
            "Drc1",
            "Zmynd10",
            "Rsph9",
            "Cfap58",
            "Pacrg",
            "Kif9",
            "Bbs7",
            "Iqcg",
            "Cfap206",
            "Saxo2",
            "Spef1",
            "Ttll3",
            "Ttll7",
            "Dnm1"
           ]
          ],
          [
           [
            "Ccdc113",
            "Arhgef28",
            "Dmtn",
            "Snap25",
            "Sgip1",
            "Pde4a",
            "Pde6d",
            "Cyp2s1",
            "Dusp3",
            "Lrrc6",
            "Cfap44",
            "Efhc2",
            "Drc1",
            "Pou2f2",
            "Rsph9",
            "Cfap58",
            "Zmynd10",
            "Pak3",
            "Scrn1",
            "Cdkl4",
            "Eef1a2",
            "Pacrg",
            "Kif9",
            "Sult1d1",
            "Bbs7",
            "Agtpbp1",
            "Iqcg",
            "Cfap206",
            "Atcay",
            "Spef1",
            "Nmnat2",
            "Mt3",
            "Tstd1",
            "Ehd3",
            "Nfatc1",
            "Hspa12a",
            "Sgsm3",
            "Ttll3",
            "Ttll7",
            "Impdh1",
            "Celf4",
            "Syt1",
            "Dnm1",
            "Hdac9",
            "Rap1gds1"
           ]
          ],
          [
           [
            "Kif9",
            "Iqcg",
            "Ttll3",
            "Cfap58",
            "Saxo2"
           ]
          ],
          [
           [
            "Ccdc113",
            "Bbs7",
            "Efhc2",
            "Ttll7",
            "Saxo2",
            "Cfap206"
           ]
          ],
          [
           [
            "Adam22",
            "Scn8a",
            "Kcna2"
           ]
          ],
          [
           [
            "Kif9",
            "Efhc2",
            "Ttll7",
            "Ttll3",
            "Dnm1",
            "Spef1",
            "Mt3"
           ]
          ]
         ],
         "hovertemplate": "n_genes/n_go=%{x}<br>term=%{y}<br>study_genes=%{customdata[0]}<extra></extra>",
         "legendgroup": "",
         "marker": {
          "color": "#636efa",
          "pattern": {
           "shape": ""
          }
         },
         "name": "",
         "offsetgroup": "",
         "orientation": "h",
         "showlegend": false,
         "textposition": "auto",
         "type": "bar",
         "x": [
          0.09615384615384616,
          0.05263157894736842,
          0.12903225806451613,
          0.03431372549019608,
          0.019867549668874173,
          0.03580562659846547,
          0.06779661016949153,
          0.05027932960893855,
          0.014577259475218658,
          0.006210322936792714,
          0.05747126436781609,
          0.03296703296703297,
          0.10344827586206896,
          0.020172910662824207
         ],
         "xaxis": "x",
         "y": [
          "cilium movement",
          "flagellated sperm motility",
          "sperm axoneme assembly",
          "cell projection organization",
          "cell projection",
          "cilium",
          "axoneme",
          "motile cilium",
          "cytoskeleton",
          "cytoplasm",
          "sperm flagellum",
          "ciliary basal body",
          "axon initial segment",
          "microtubule"
         ],
         "yaxis": "y"
        }
       ],
       "layout": {
        "barmode": "relative",
        "legend": {
         "tracegroupgap": 0
        },
        "plot_bgcolor": "rgba(0, 0, 0, 0)",
        "template": {
         "data": {
          "bar": [
           {
            "error_x": {
             "color": "#2a3f5f"
            },
            "error_y": {
             "color": "#2a3f5f"
            },
            "marker": {
             "line": {
              "color": "#E5ECF6",
              "width": 0.5
             },
             "pattern": {
              "fillmode": "overlay",
              "size": 10,
              "solidity": 0.2
             }
            },
            "type": "bar"
           }
          ],
          "barpolar": [
           {
            "marker": {
             "line": {
              "color": "#E5ECF6",
              "width": 0.5
             },
             "pattern": {
              "fillmode": "overlay",
              "size": 10,
              "solidity": 0.2
             }
            },
            "type": "barpolar"
           }
          ],
          "carpet": [
           {
            "aaxis": {
             "endlinecolor": "#2a3f5f",
             "gridcolor": "white",
             "linecolor": "white",
             "minorgridcolor": "white",
             "startlinecolor": "#2a3f5f"
            },
            "baxis": {
             "endlinecolor": "#2a3f5f",
             "gridcolor": "white",
             "linecolor": "white",
             "minorgridcolor": "white",
             "startlinecolor": "#2a3f5f"
            },
            "type": "carpet"
           }
          ],
          "choropleth": [
           {
            "colorbar": {
             "outlinewidth": 0,
             "ticks": ""
            },
            "type": "choropleth"
           }
          ],
          "contour": [
           {
            "colorbar": {
             "outlinewidth": 0,
             "ticks": ""
            },
            "colorscale": [
             [
              0,
              "#0d0887"
             ],
             [
              0.1111111111111111,
              "#46039f"
             ],
             [
              0.2222222222222222,
              "#7201a8"
             ],
             [
              0.3333333333333333,
              "#9c179e"
             ],
             [
              0.4444444444444444,
              "#bd3786"
             ],
             [
              0.5555555555555556,
              "#d8576b"
             ],
             [
              0.6666666666666666,
              "#ed7953"
             ],
             [
              0.7777777777777778,
              "#fb9f3a"
             ],
             [
              0.8888888888888888,
              "#fdca26"
             ],
             [
              1,
              "#f0f921"
             ]
            ],
            "type": "contour"
           }
          ],
          "contourcarpet": [
           {
            "colorbar": {
             "outlinewidth": 0,
             "ticks": ""
            },
            "type": "contourcarpet"
           }
          ],
          "heatmap": [
           {
            "colorbar": {
             "outlinewidth": 0,
             "ticks": ""
            },
            "colorscale": [
             [
              0,
              "#0d0887"
             ],
             [
              0.1111111111111111,
              "#46039f"
             ],
             [
              0.2222222222222222,
              "#7201a8"
             ],
             [
              0.3333333333333333,
              "#9c179e"
             ],
             [
              0.4444444444444444,
              "#bd3786"
             ],
             [
              0.5555555555555556,
              "#d8576b"
             ],
             [
              0.6666666666666666,
              "#ed7953"
             ],
             [
              0.7777777777777778,
              "#fb9f3a"
             ],
             [
              0.8888888888888888,
              "#fdca26"
             ],
             [
              1,
              "#f0f921"
             ]
            ],
            "type": "heatmap"
           }
          ],
          "heatmapgl": [
           {
            "colorbar": {
             "outlinewidth": 0,
             "ticks": ""
            },
            "colorscale": [
             [
              0,
              "#0d0887"
             ],
             [
              0.1111111111111111,
              "#46039f"
             ],
             [
              0.2222222222222222,
              "#7201a8"
             ],
             [
              0.3333333333333333,
              "#9c179e"
             ],
             [
              0.4444444444444444,
              "#bd3786"
             ],
             [
              0.5555555555555556,
              "#d8576b"
             ],
             [
              0.6666666666666666,
              "#ed7953"
             ],
             [
              0.7777777777777778,
              "#fb9f3a"
             ],
             [
              0.8888888888888888,
              "#fdca26"
             ],
             [
              1,
              "#f0f921"
             ]
            ],
            "type": "heatmapgl"
           }
          ],
          "histogram": [
           {
            "marker": {
             "pattern": {
              "fillmode": "overlay",
              "size": 10,
              "solidity": 0.2
             }
            },
            "type": "histogram"
           }
          ],
          "histogram2d": [
           {
            "colorbar": {
             "outlinewidth": 0,
             "ticks": ""
            },
            "colorscale": [
             [
              0,
              "#0d0887"
             ],
             [
              0.1111111111111111,
              "#46039f"
             ],
             [
              0.2222222222222222,
              "#7201a8"
             ],
             [
              0.3333333333333333,
              "#9c179e"
             ],
             [
              0.4444444444444444,
              "#bd3786"
             ],
             [
              0.5555555555555556,
              "#d8576b"
             ],
             [
              0.6666666666666666,
              "#ed7953"
             ],
             [
              0.7777777777777778,
              "#fb9f3a"
             ],
             [
              0.8888888888888888,
              "#fdca26"
             ],
             [
              1,
              "#f0f921"
             ]
            ],
            "type": "histogram2d"
           }
          ],
          "histogram2dcontour": [
           {
            "colorbar": {
             "outlinewidth": 0,
             "ticks": ""
            },
            "colorscale": [
             [
              0,
              "#0d0887"
             ],
             [
              0.1111111111111111,
              "#46039f"
             ],
             [
              0.2222222222222222,
              "#7201a8"
             ],
             [
              0.3333333333333333,
              "#9c179e"
             ],
             [
              0.4444444444444444,
              "#bd3786"
             ],
             [
              0.5555555555555556,
              "#d8576b"
             ],
             [
              0.6666666666666666,
              "#ed7953"
             ],
             [
              0.7777777777777778,
              "#fb9f3a"
             ],
             [
              0.8888888888888888,
              "#fdca26"
             ],
             [
              1,
              "#f0f921"
             ]
            ],
            "type": "histogram2dcontour"
           }
          ],
          "mesh3d": [
           {
            "colorbar": {
             "outlinewidth": 0,
             "ticks": ""
            },
            "type": "mesh3d"
           }
          ],
          "parcoords": [
           {
            "line": {
             "colorbar": {
              "outlinewidth": 0,
              "ticks": ""
             }
            },
            "type": "parcoords"
           }
          ],
          "pie": [
           {
            "automargin": true,
            "type": "pie"
           }
          ],
          "scatter": [
           {
            "marker": {
             "colorbar": {
              "outlinewidth": 0,
              "ticks": ""
             }
            },
            "type": "scatter"
           }
          ],
          "scatter3d": [
           {
            "line": {
             "colorbar": {
              "outlinewidth": 0,
              "ticks": ""
             }
            },
            "marker": {
             "colorbar": {
              "outlinewidth": 0,
              "ticks": ""
             }
            },
            "type": "scatter3d"
           }
          ],
          "scattercarpet": [
           {
            "marker": {
             "colorbar": {
              "outlinewidth": 0,
              "ticks": ""
             }
            },
            "type": "scattercarpet"
           }
          ],
          "scattergeo": [
           {
            "marker": {
             "colorbar": {
              "outlinewidth": 0,
              "ticks": ""
             }
            },
            "type": "scattergeo"
           }
          ],
          "scattergl": [
           {
            "marker": {
             "colorbar": {
              "outlinewidth": 0,
              "ticks": ""
             }
            },
            "type": "scattergl"
           }
          ],
          "scattermapbox": [
           {
            "marker": {
             "colorbar": {
              "outlinewidth": 0,
              "ticks": ""
             }
            },
            "type": "scattermapbox"
           }
          ],
          "scatterpolar": [
           {
            "marker": {
             "colorbar": {
              "outlinewidth": 0,
              "ticks": ""
             }
            },
            "type": "scatterpolar"
           }
          ],
          "scatterpolargl": [
           {
            "marker": {
             "colorbar": {
              "outlinewidth": 0,
              "ticks": ""
             }
            },
            "type": "scatterpolargl"
           }
          ],
          "scatterternary": [
           {
            "marker": {
             "colorbar": {
              "outlinewidth": 0,
              "ticks": ""
             }
            },
            "type": "scatterternary"
           }
          ],
          "surface": [
           {
            "colorbar": {
             "outlinewidth": 0,
             "ticks": ""
            },
            "colorscale": [
             [
              0,
              "#0d0887"
             ],
             [
              0.1111111111111111,
              "#46039f"
             ],
             [
              0.2222222222222222,
              "#7201a8"
             ],
             [
              0.3333333333333333,
              "#9c179e"
             ],
             [
              0.4444444444444444,
              "#bd3786"
             ],
             [
              0.5555555555555556,
              "#d8576b"
             ],
             [
              0.6666666666666666,
              "#ed7953"
             ],
             [
              0.7777777777777778,
              "#fb9f3a"
             ],
             [
              0.8888888888888888,
              "#fdca26"
             ],
             [
              1,
              "#f0f921"
             ]
            ],
            "type": "surface"
           }
          ],
          "table": [
           {
            "cells": {
             "fill": {
              "color": "#EBF0F8"
             },
             "line": {
              "color": "white"
             }
            },
            "header": {
             "fill": {
              "color": "#C8D4E3"
             },
             "line": {
              "color": "white"
             }
            },
            "type": "table"
           }
          ]
         },
         "layout": {
          "annotationdefaults": {
           "arrowcolor": "#2a3f5f",
           "arrowhead": 0,
           "arrowwidth": 1
          },
          "autotypenumbers": "strict",
          "coloraxis": {
           "colorbar": {
            "outlinewidth": 0,
            "ticks": ""
           }
          },
          "colorscale": {
           "diverging": [
            [
             0,
             "#8e0152"
            ],
            [
             0.1,
             "#c51b7d"
            ],
            [
             0.2,
             "#de77ae"
            ],
            [
             0.3,
             "#f1b6da"
            ],
            [
             0.4,
             "#fde0ef"
            ],
            [
             0.5,
             "#f7f7f7"
            ],
            [
             0.6,
             "#e6f5d0"
            ],
            [
             0.7,
             "#b8e186"
            ],
            [
             0.8,
             "#7fbc41"
            ],
            [
             0.9,
             "#4d9221"
            ],
            [
             1,
             "#276419"
            ]
           ],
           "sequential": [
            [
             0,
             "#0d0887"
            ],
            [
             0.1111111111111111,
             "#46039f"
            ],
            [
             0.2222222222222222,
             "#7201a8"
            ],
            [
             0.3333333333333333,
             "#9c179e"
            ],
            [
             0.4444444444444444,
             "#bd3786"
            ],
            [
             0.5555555555555556,
             "#d8576b"
            ],
            [
             0.6666666666666666,
             "#ed7953"
            ],
            [
             0.7777777777777778,
             "#fb9f3a"
            ],
            [
             0.8888888888888888,
             "#fdca26"
            ],
            [
             1,
             "#f0f921"
            ]
           ],
           "sequentialminus": [
            [
             0,
             "#0d0887"
            ],
            [
             0.1111111111111111,
             "#46039f"
            ],
            [
             0.2222222222222222,
             "#7201a8"
            ],
            [
             0.3333333333333333,
             "#9c179e"
            ],
            [
             0.4444444444444444,
             "#bd3786"
            ],
            [
             0.5555555555555556,
             "#d8576b"
            ],
            [
             0.6666666666666666,
             "#ed7953"
            ],
            [
             0.7777777777777778,
             "#fb9f3a"
            ],
            [
             0.8888888888888888,
             "#fdca26"
            ],
            [
             1,
             "#f0f921"
            ]
           ]
          },
          "colorway": [
           "#636efa",
           "#EF553B",
           "#00cc96",
           "#ab63fa",
           "#FFA15A",
           "#19d3f3",
           "#FF6692",
           "#B6E880",
           "#FF97FF",
           "#FECB52"
          ],
          "font": {
           "color": "#2a3f5f"
          },
          "geo": {
           "bgcolor": "white",
           "lakecolor": "white",
           "landcolor": "#E5ECF6",
           "showlakes": true,
           "showland": true,
           "subunitcolor": "white"
          },
          "hoverlabel": {
           "align": "left"
          },
          "hovermode": "closest",
          "mapbox": {
           "style": "light"
          },
          "paper_bgcolor": "white",
          "plot_bgcolor": "#E5ECF6",
          "polar": {
           "angularaxis": {
            "gridcolor": "white",
            "linecolor": "white",
            "ticks": ""
           },
           "bgcolor": "#E5ECF6",
           "radialaxis": {
            "gridcolor": "white",
            "linecolor": "white",
            "ticks": ""
           }
          },
          "scene": {
           "xaxis": {
            "backgroundcolor": "#E5ECF6",
            "gridcolor": "white",
            "gridwidth": 2,
            "linecolor": "white",
            "showbackground": true,
            "ticks": "",
            "zerolinecolor": "white"
           },
           "yaxis": {
            "backgroundcolor": "#E5ECF6",
            "gridcolor": "white",
            "gridwidth": 2,
            "linecolor": "white",
            "showbackground": true,
            "ticks": "",
            "zerolinecolor": "white"
           },
           "zaxis": {
            "backgroundcolor": "#E5ECF6",
            "gridcolor": "white",
            "gridwidth": 2,
            "linecolor": "white",
            "showbackground": true,
            "ticks": "",
            "zerolinecolor": "white"
           }
          },
          "shapedefaults": {
           "line": {
            "color": "#2a3f5f"
           }
          },
          "ternary": {
           "aaxis": {
            "gridcolor": "white",
            "linecolor": "white",
            "ticks": ""
           },
           "baxis": {
            "gridcolor": "white",
            "linecolor": "white",
            "ticks": ""
           },
           "bgcolor": "#E5ECF6",
           "caxis": {
            "gridcolor": "white",
            "linecolor": "white",
            "ticks": ""
           }
          },
          "title": {
           "x": 0.05
          },
          "xaxis": {
           "automargin": true,
           "gridcolor": "white",
           "linecolor": "white",
           "ticks": "",
           "title": {
            "standoff": 15
           },
           "zerolinecolor": "white",
           "zerolinewidth": 2
          },
          "yaxis": {
           "automargin": true,
           "gridcolor": "white",
           "linecolor": "white",
           "ticks": "",
           "title": {
            "standoff": 15
           },
           "zerolinecolor": "white",
           "zerolinewidth": 2
          }
         }
        },
        "title": {
         "text": "mse_rank_log1p_normExp_ALL_Olfr_rtp1"
        },
        "xaxis": {
         "anchor": "y",
         "domain": [
          0,
          1
         ],
         "title": {
          "text": "n_genes/n_go"
         }
        },
        "yaxis": {
         "anchor": "x",
         "domain": [
          0,
          1
         ],
         "title": {
          "text": "term"
         }
        }
       }
      },
      "text/html": [
       "<div>                            <div id=\"17219211-6afc-4caf-b590-491cda3b3bf0\" class=\"plotly-graph-div\" style=\"height:525px; width:100%;\"></div>            <script type=\"text/javascript\">                require([\"plotly\"], function(Plotly) {                    window.PLOTLYENV=window.PLOTLYENV || {};                                    if (document.getElementById(\"17219211-6afc-4caf-b590-491cda3b3bf0\")) {                    Plotly.newPlot(                        \"17219211-6afc-4caf-b590-491cda3b3bf0\",                        [{\"alignmentgroup\":\"True\",\"customdata\":[[[\"Lrrc6\",\"Zmynd10\",\"Ttll3\",\"Rsph9\",\"Spef1\"]],[[\"Lrrc6\",\"Ttc21a\",\"Cfap44\",\"Ttll3\",\"Cfap58\",\"Eno4\"]],[[\"Cfap206\",\"Iqcg\",\"Cfap58\",\"Cfap44\"]],[[\"Ehd3\",\"Ccdc113\",\"Bbs7\",\"Rsph9\",\"Cfap58\",\"Cfap206\",\"Spef1\"]],[[\"Dmtn\",\"Nsg1\",\"Pde6d\",\"Lrrc6\",\"Cfap44\",\"Efhc2\",\"Drc1\",\"Rsph9\",\"Cfap58\",\"Scn8a\",\"Pacrg\",\"Kif9\",\"Bbs7\",\"Iqcg\",\"Cfap206\",\"Atcay\",\"Clstn2\",\"Nmnat2\",\"Spef1\",\"Ehd3\",\"Adam22\",\"Kcna2\",\"Ttll3\",\"Ttll7\"]],[[\"Ehd3\",\"Kif9\",\"Lrrc6\",\"Bbs7\",\"Cfap44\",\"Drc1\",\"Iqcg\",\"Ttll3\",\"Ttll7\",\"Rsph9\",\"Cfap58\",\"Cfap206\",\"Spef1\",\"Pacrg\"]],[[\"Ccdc113\",\"Bbs7\",\"Drc1\",\"Wdr54\",\"Ttll3\",\"Rsph9\",\"Cfap206\",\"Spef1\"]],[[\"Lrrc6\",\"Kif9\",\"Cfap44\",\"Drc1\",\"Iqcg\",\"Ttll3\",\"Rsph9\",\"Cfap58\",\"Spef1\"]],[[\"Ccdc113\",\"Dmtn\",\"Snap25\",\"Pde6d\",\"Cfap44\",\"Efhc2\",\"Drc1\",\"Zmynd10\",\"Rsph9\",\"Cfap58\",\"Pacrg\",\"Kif9\",\"Bbs7\",\"Iqcg\",\"Cfap206\",\"Saxo2\",\"Spef1\",\"Ttll3\",\"Ttll7\",\"Dnm1\"]],[[\"Ccdc113\",\"Arhgef28\",\"Dmtn\",\"Snap25\",\"Sgip1\",\"Pde4a\",\"Pde6d\",\"Cyp2s1\",\"Dusp3\",\"Lrrc6\",\"Cfap44\",\"Efhc2\",\"Drc1\",\"Pou2f2\",\"Rsph9\",\"Cfap58\",\"Zmynd10\",\"Pak3\",\"Scrn1\",\"Cdkl4\",\"Eef1a2\",\"Pacrg\",\"Kif9\",\"Sult1d1\",\"Bbs7\",\"Agtpbp1\",\"Iqcg\",\"Cfap206\",\"Atcay\",\"Spef1\",\"Nmnat2\",\"Mt3\",\"Tstd1\",\"Ehd3\",\"Nfatc1\",\"Hspa12a\",\"Sgsm3\",\"Ttll3\",\"Ttll7\",\"Impdh1\",\"Celf4\",\"Syt1\",\"Dnm1\",\"Hdac9\",\"Rap1gds1\"]],[[\"Kif9\",\"Iqcg\",\"Ttll3\",\"Cfap58\",\"Saxo2\"]],[[\"Ccdc113\",\"Bbs7\",\"Efhc2\",\"Ttll7\",\"Saxo2\",\"Cfap206\"]],[[\"Adam22\",\"Scn8a\",\"Kcna2\"]],[[\"Kif9\",\"Efhc2\",\"Ttll7\",\"Ttll3\",\"Dnm1\",\"Spef1\",\"Mt3\"]]],\"hovertemplate\":\"n_genes/n_go=%{x}<br>term=%{y}<br>study_genes=%{customdata[0]}<extra></extra>\",\"legendgroup\":\"\",\"marker\":{\"color\":\"#636efa\",\"pattern\":{\"shape\":\"\"}},\"name\":\"\",\"offsetgroup\":\"\",\"orientation\":\"h\",\"showlegend\":false,\"textposition\":\"auto\",\"x\":[0.09615384615384616,0.05263157894736842,0.12903225806451613,0.03431372549019608,0.019867549668874173,0.03580562659846547,0.06779661016949153,0.05027932960893855,0.014577259475218658,0.006210322936792714,0.05747126436781609,0.03296703296703297,0.10344827586206896,0.020172910662824207],\"xaxis\":\"x\",\"y\":[\"cilium movement\",\"flagellated sperm motility\",\"sperm axoneme assembly\",\"cell projection organization\",\"cell projection\",\"cilium\",\"axoneme\",\"motile cilium\",\"cytoskeleton\",\"cytoplasm\",\"sperm flagellum\",\"ciliary basal body\",\"axon initial segment\",\"microtubule\"],\"yaxis\":\"y\",\"type\":\"bar\"}],                        {\"template\":{\"data\":{\"bar\":[{\"error_x\":{\"color\":\"#2a3f5f\"},\"error_y\":{\"color\":\"#2a3f5f\"},\"marker\":{\"line\":{\"color\":\"#E5ECF6\",\"width\":0.5},\"pattern\":{\"fillmode\":\"overlay\",\"size\":10,\"solidity\":0.2}},\"type\":\"bar\"}],\"barpolar\":[{\"marker\":{\"line\":{\"color\":\"#E5ECF6\",\"width\":0.5},\"pattern\":{\"fillmode\":\"overlay\",\"size\":10,\"solidity\":0.2}},\"type\":\"barpolar\"}],\"carpet\":[{\"aaxis\":{\"endlinecolor\":\"#2a3f5f\",\"gridcolor\":\"white\",\"linecolor\":\"white\",\"minorgridcolor\":\"white\",\"startlinecolor\":\"#2a3f5f\"},\"baxis\":{\"endlinecolor\":\"#2a3f5f\",\"gridcolor\":\"white\",\"linecolor\":\"white\",\"minorgridcolor\":\"white\",\"startlinecolor\":\"#2a3f5f\"},\"type\":\"carpet\"}],\"choropleth\":[{\"colorbar\":{\"outlinewidth\":0,\"ticks\":\"\"},\"type\":\"choropleth\"}],\"contour\":[{\"colorbar\":{\"outlinewidth\":0,\"ticks\":\"\"},\"colorscale\":[[0.0,\"#0d0887\"],[0.1111111111111111,\"#46039f\"],[0.2222222222222222,\"#7201a8\"],[0.3333333333333333,\"#9c179e\"],[0.4444444444444444,\"#bd3786\"],[0.5555555555555556,\"#d8576b\"],[0.6666666666666666,\"#ed7953\"],[0.7777777777777778,\"#fb9f3a\"],[0.8888888888888888,\"#fdca26\"],[1.0,\"#f0f921\"]],\"type\":\"contour\"}],\"contourcarpet\":[{\"colorbar\":{\"outlinewidth\":0,\"ticks\":\"\"},\"type\":\"contourcarpet\"}],\"heatmap\":[{\"colorbar\":{\"outlinewidth\":0,\"ticks\":\"\"},\"colorscale\":[[0.0,\"#0d0887\"],[0.1111111111111111,\"#46039f\"],[0.2222222222222222,\"#7201a8\"],[0.3333333333333333,\"#9c179e\"],[0.4444444444444444,\"#bd3786\"],[0.5555555555555556,\"#d8576b\"],[0.6666666666666666,\"#ed7953\"],[0.7777777777777778,\"#fb9f3a\"],[0.8888888888888888,\"#fdca26\"],[1.0,\"#f0f921\"]],\"type\":\"heatmap\"}],\"heatmapgl\":[{\"colorbar\":{\"outlinewidth\":0,\"ticks\":\"\"},\"colorscale\":[[0.0,\"#0d0887\"],[0.1111111111111111,\"#46039f\"],[0.2222222222222222,\"#7201a8\"],[0.3333333333333333,\"#9c179e\"],[0.4444444444444444,\"#bd3786\"],[0.5555555555555556,\"#d8576b\"],[0.6666666666666666,\"#ed7953\"],[0.7777777777777778,\"#fb9f3a\"],[0.8888888888888888,\"#fdca26\"],[1.0,\"#f0f921\"]],\"type\":\"heatmapgl\"}],\"histogram\":[{\"marker\":{\"pattern\":{\"fillmode\":\"overlay\",\"size\":10,\"solidity\":0.2}},\"type\":\"histogram\"}],\"histogram2d\":[{\"colorbar\":{\"outlinewidth\":0,\"ticks\":\"\"},\"colorscale\":[[0.0,\"#0d0887\"],[0.1111111111111111,\"#46039f\"],[0.2222222222222222,\"#7201a8\"],[0.3333333333333333,\"#9c179e\"],[0.4444444444444444,\"#bd3786\"],[0.5555555555555556,\"#d8576b\"],[0.6666666666666666,\"#ed7953\"],[0.7777777777777778,\"#fb9f3a\"],[0.8888888888888888,\"#fdca26\"],[1.0,\"#f0f921\"]],\"type\":\"histogram2d\"}],\"histogram2dcontour\":[{\"colorbar\":{\"outlinewidth\":0,\"ticks\":\"\"},\"colorscale\":[[0.0,\"#0d0887\"],[0.1111111111111111,\"#46039f\"],[0.2222222222222222,\"#7201a8\"],[0.3333333333333333,\"#9c179e\"],[0.4444444444444444,\"#bd3786\"],[0.5555555555555556,\"#d8576b\"],[0.6666666666666666,\"#ed7953\"],[0.7777777777777778,\"#fb9f3a\"],[0.8888888888888888,\"#fdca26\"],[1.0,\"#f0f921\"]],\"type\":\"histogram2dcontour\"}],\"mesh3d\":[{\"colorbar\":{\"outlinewidth\":0,\"ticks\":\"\"},\"type\":\"mesh3d\"}],\"parcoords\":[{\"line\":{\"colorbar\":{\"outlinewidth\":0,\"ticks\":\"\"}},\"type\":\"parcoords\"}],\"pie\":[{\"automargin\":true,\"type\":\"pie\"}],\"scatter\":[{\"marker\":{\"colorbar\":{\"outlinewidth\":0,\"ticks\":\"\"}},\"type\":\"scatter\"}],\"scatter3d\":[{\"line\":{\"colorbar\":{\"outlinewidth\":0,\"ticks\":\"\"}},\"marker\":{\"colorbar\":{\"outlinewidth\":0,\"ticks\":\"\"}},\"type\":\"scatter3d\"}],\"scattercarpet\":[{\"marker\":{\"colorbar\":{\"outlinewidth\":0,\"ticks\":\"\"}},\"type\":\"scattercarpet\"}],\"scattergeo\":[{\"marker\":{\"colorbar\":{\"outlinewidth\":0,\"ticks\":\"\"}},\"type\":\"scattergeo\"}],\"scattergl\":[{\"marker\":{\"colorbar\":{\"outlinewidth\":0,\"ticks\":\"\"}},\"type\":\"scattergl\"}],\"scattermapbox\":[{\"marker\":{\"colorbar\":{\"outlinewidth\":0,\"ticks\":\"\"}},\"type\":\"scattermapbox\"}],\"scatterpolar\":[{\"marker\":{\"colorbar\":{\"outlinewidth\":0,\"ticks\":\"\"}},\"type\":\"scatterpolar\"}],\"scatterpolargl\":[{\"marker\":{\"colorbar\":{\"outlinewidth\":0,\"ticks\":\"\"}},\"type\":\"scatterpolargl\"}],\"scatterternary\":[{\"marker\":{\"colorbar\":{\"outlinewidth\":0,\"ticks\":\"\"}},\"type\":\"scatterternary\"}],\"surface\":[{\"colorbar\":{\"outlinewidth\":0,\"ticks\":\"\"},\"colorscale\":[[0.0,\"#0d0887\"],[0.1111111111111111,\"#46039f\"],[0.2222222222222222,\"#7201a8\"],[0.3333333333333333,\"#9c179e\"],[0.4444444444444444,\"#bd3786\"],[0.5555555555555556,\"#d8576b\"],[0.6666666666666666,\"#ed7953\"],[0.7777777777777778,\"#fb9f3a\"],[0.8888888888888888,\"#fdca26\"],[1.0,\"#f0f921\"]],\"type\":\"surface\"}],\"table\":[{\"cells\":{\"fill\":{\"color\":\"#EBF0F8\"},\"line\":{\"color\":\"white\"}},\"header\":{\"fill\":{\"color\":\"#C8D4E3\"},\"line\":{\"color\":\"white\"}},\"type\":\"table\"}]},\"layout\":{\"annotationdefaults\":{\"arrowcolor\":\"#2a3f5f\",\"arrowhead\":0,\"arrowwidth\":1},\"autotypenumbers\":\"strict\",\"coloraxis\":{\"colorbar\":{\"outlinewidth\":0,\"ticks\":\"\"}},\"colorscale\":{\"diverging\":[[0,\"#8e0152\"],[0.1,\"#c51b7d\"],[0.2,\"#de77ae\"],[0.3,\"#f1b6da\"],[0.4,\"#fde0ef\"],[0.5,\"#f7f7f7\"],[0.6,\"#e6f5d0\"],[0.7,\"#b8e186\"],[0.8,\"#7fbc41\"],[0.9,\"#4d9221\"],[1,\"#276419\"]],\"sequential\":[[0.0,\"#0d0887\"],[0.1111111111111111,\"#46039f\"],[0.2222222222222222,\"#7201a8\"],[0.3333333333333333,\"#9c179e\"],[0.4444444444444444,\"#bd3786\"],[0.5555555555555556,\"#d8576b\"],[0.6666666666666666,\"#ed7953\"],[0.7777777777777778,\"#fb9f3a\"],[0.8888888888888888,\"#fdca26\"],[1.0,\"#f0f921\"]],\"sequentialminus\":[[0.0,\"#0d0887\"],[0.1111111111111111,\"#46039f\"],[0.2222222222222222,\"#7201a8\"],[0.3333333333333333,\"#9c179e\"],[0.4444444444444444,\"#bd3786\"],[0.5555555555555556,\"#d8576b\"],[0.6666666666666666,\"#ed7953\"],[0.7777777777777778,\"#fb9f3a\"],[0.8888888888888888,\"#fdca26\"],[1.0,\"#f0f921\"]]},\"colorway\":[\"#636efa\",\"#EF553B\",\"#00cc96\",\"#ab63fa\",\"#FFA15A\",\"#19d3f3\",\"#FF6692\",\"#B6E880\",\"#FF97FF\",\"#FECB52\"],\"font\":{\"color\":\"#2a3f5f\"},\"geo\":{\"bgcolor\":\"white\",\"lakecolor\":\"white\",\"landcolor\":\"#E5ECF6\",\"showlakes\":true,\"showland\":true,\"subunitcolor\":\"white\"},\"hoverlabel\":{\"align\":\"left\"},\"hovermode\":\"closest\",\"mapbox\":{\"style\":\"light\"},\"paper_bgcolor\":\"white\",\"plot_bgcolor\":\"#E5ECF6\",\"polar\":{\"angularaxis\":{\"gridcolor\":\"white\",\"linecolor\":\"white\",\"ticks\":\"\"},\"bgcolor\":\"#E5ECF6\",\"radialaxis\":{\"gridcolor\":\"white\",\"linecolor\":\"white\",\"ticks\":\"\"}},\"scene\":{\"xaxis\":{\"backgroundcolor\":\"#E5ECF6\",\"gridcolor\":\"white\",\"gridwidth\":2,\"linecolor\":\"white\",\"showbackground\":true,\"ticks\":\"\",\"zerolinecolor\":\"white\"},\"yaxis\":{\"backgroundcolor\":\"#E5ECF6\",\"gridcolor\":\"white\",\"gridwidth\":2,\"linecolor\":\"white\",\"showbackground\":true,\"ticks\":\"\",\"zerolinecolor\":\"white\"},\"zaxis\":{\"backgroundcolor\":\"#E5ECF6\",\"gridcolor\":\"white\",\"gridwidth\":2,\"linecolor\":\"white\",\"showbackground\":true,\"ticks\":\"\",\"zerolinecolor\":\"white\"}},\"shapedefaults\":{\"line\":{\"color\":\"#2a3f5f\"}},\"ternary\":{\"aaxis\":{\"gridcolor\":\"white\",\"linecolor\":\"white\",\"ticks\":\"\"},\"baxis\":{\"gridcolor\":\"white\",\"linecolor\":\"white\",\"ticks\":\"\"},\"bgcolor\":\"#E5ECF6\",\"caxis\":{\"gridcolor\":\"white\",\"linecolor\":\"white\",\"ticks\":\"\"}},\"title\":{\"x\":0.05},\"xaxis\":{\"automargin\":true,\"gridcolor\":\"white\",\"linecolor\":\"white\",\"ticks\":\"\",\"title\":{\"standoff\":15},\"zerolinecolor\":\"white\",\"zerolinewidth\":2},\"yaxis\":{\"automargin\":true,\"gridcolor\":\"white\",\"linecolor\":\"white\",\"ticks\":\"\",\"title\":{\"standoff\":15},\"zerolinecolor\":\"white\",\"zerolinewidth\":2}}},\"xaxis\":{\"anchor\":\"y\",\"domain\":[0.0,1.0],\"title\":{\"text\":\"n_genes/n_go\"}},\"yaxis\":{\"anchor\":\"x\",\"domain\":[0.0,1.0],\"title\":{\"text\":\"term\"}},\"legend\":{\"tracegroupgap\":0},\"title\":{\"text\":\"mse_rank_log1p_normExp_ALL_Olfr_rtp1\"},\"barmode\":\"relative\",\"plot_bgcolor\":\"rgba(0, 0, 0, 0)\"},                        {\"responsive\": true}                    ).then(function(){\n",
       "                            \n",
       "var gd = document.getElementById('17219211-6afc-4caf-b590-491cda3b3bf0');\n",
       "var x = new MutationObserver(function (mutations, observer) {{\n",
       "        var display = window.getComputedStyle(gd).display;\n",
       "        if (!display || display === 'none') {{\n",
       "            console.log([gd, 'removed!']);\n",
       "            Plotly.purge(gd);\n",
       "            observer.disconnect();\n",
       "        }}\n",
       "}});\n",
       "\n",
       "// Listen for the removal of the full notebook cells\n",
       "var notebookContainer = gd.closest('#notebook-container');\n",
       "if (notebookContainer) {{\n",
       "    x.observe(notebookContainer, {childList: true});\n",
       "}}\n",
       "\n",
       "// Listen for the clearing of the current output cell\n",
       "var outputEl = gd.closest('.output');\n",
       "if (outputEl) {{\n",
       "    x.observe(outputEl, {childList: true});\n",
       "}}\n",
       "\n",
       "                        })                };                });            </script>        </div>"
      ]
     },
     "metadata": {},
     "output_type": "display_data"
    },
    {
     "data": {
      "application/vnd.plotly.v1+json": {
       "config": {
        "plotlyServerURL": "https://plot.ly"
       },
       "data": [
        {
         "alignmentgroup": "True",
         "customdata": [
          [
           [
            "Mybpc1",
            "Myh7",
            "Ttn",
            "Myh8"
           ]
          ],
          [
           [
            "Ttn",
            "Acta1",
            "Myh7"
           ]
          ],
          [
           [
            "Ttn",
            "Myh7"
           ]
          ],
          [
           [
            "Cngb1",
            "Cnga2"
           ]
          ]
         ],
         "hovertemplate": "n_genes/n_go=%{x}<br>term=%{y}<br>study_genes=%{customdata[0]}<extra></extra>",
         "legendgroup": "",
         "marker": {
          "color": "#636efa",
          "pattern": {
           "shape": ""
          }
         },
         "name": "",
         "offsetgroup": "",
         "orientation": "h",
         "showlegend": false,
         "textposition": "auto",
         "type": "bar",
         "x": [
          0.08163265306122448,
          0.08108108108108109,
          0.3333333333333333,
          0.2857142857142857
         ],
         "xaxis": "x",
         "y": [
          "muscle contraction",
          "sarcomere",
          "muscle myosin complex",
          "intracellular cyclic nucleotide activated cation channel complex"
         ],
         "yaxis": "y"
        }
       ],
       "layout": {
        "barmode": "relative",
        "legend": {
         "tracegroupgap": 0
        },
        "plot_bgcolor": "rgba(0, 0, 0, 0)",
        "template": {
         "data": {
          "bar": [
           {
            "error_x": {
             "color": "#2a3f5f"
            },
            "error_y": {
             "color": "#2a3f5f"
            },
            "marker": {
             "line": {
              "color": "#E5ECF6",
              "width": 0.5
             },
             "pattern": {
              "fillmode": "overlay",
              "size": 10,
              "solidity": 0.2
             }
            },
            "type": "bar"
           }
          ],
          "barpolar": [
           {
            "marker": {
             "line": {
              "color": "#E5ECF6",
              "width": 0.5
             },
             "pattern": {
              "fillmode": "overlay",
              "size": 10,
              "solidity": 0.2
             }
            },
            "type": "barpolar"
           }
          ],
          "carpet": [
           {
            "aaxis": {
             "endlinecolor": "#2a3f5f",
             "gridcolor": "white",
             "linecolor": "white",
             "minorgridcolor": "white",
             "startlinecolor": "#2a3f5f"
            },
            "baxis": {
             "endlinecolor": "#2a3f5f",
             "gridcolor": "white",
             "linecolor": "white",
             "minorgridcolor": "white",
             "startlinecolor": "#2a3f5f"
            },
            "type": "carpet"
           }
          ],
          "choropleth": [
           {
            "colorbar": {
             "outlinewidth": 0,
             "ticks": ""
            },
            "type": "choropleth"
           }
          ],
          "contour": [
           {
            "colorbar": {
             "outlinewidth": 0,
             "ticks": ""
            },
            "colorscale": [
             [
              0,
              "#0d0887"
             ],
             [
              0.1111111111111111,
              "#46039f"
             ],
             [
              0.2222222222222222,
              "#7201a8"
             ],
             [
              0.3333333333333333,
              "#9c179e"
             ],
             [
              0.4444444444444444,
              "#bd3786"
             ],
             [
              0.5555555555555556,
              "#d8576b"
             ],
             [
              0.6666666666666666,
              "#ed7953"
             ],
             [
              0.7777777777777778,
              "#fb9f3a"
             ],
             [
              0.8888888888888888,
              "#fdca26"
             ],
             [
              1,
              "#f0f921"
             ]
            ],
            "type": "contour"
           }
          ],
          "contourcarpet": [
           {
            "colorbar": {
             "outlinewidth": 0,
             "ticks": ""
            },
            "type": "contourcarpet"
           }
          ],
          "heatmap": [
           {
            "colorbar": {
             "outlinewidth": 0,
             "ticks": ""
            },
            "colorscale": [
             [
              0,
              "#0d0887"
             ],
             [
              0.1111111111111111,
              "#46039f"
             ],
             [
              0.2222222222222222,
              "#7201a8"
             ],
             [
              0.3333333333333333,
              "#9c179e"
             ],
             [
              0.4444444444444444,
              "#bd3786"
             ],
             [
              0.5555555555555556,
              "#d8576b"
             ],
             [
              0.6666666666666666,
              "#ed7953"
             ],
             [
              0.7777777777777778,
              "#fb9f3a"
             ],
             [
              0.8888888888888888,
              "#fdca26"
             ],
             [
              1,
              "#f0f921"
             ]
            ],
            "type": "heatmap"
           }
          ],
          "heatmapgl": [
           {
            "colorbar": {
             "outlinewidth": 0,
             "ticks": ""
            },
            "colorscale": [
             [
              0,
              "#0d0887"
             ],
             [
              0.1111111111111111,
              "#46039f"
             ],
             [
              0.2222222222222222,
              "#7201a8"
             ],
             [
              0.3333333333333333,
              "#9c179e"
             ],
             [
              0.4444444444444444,
              "#bd3786"
             ],
             [
              0.5555555555555556,
              "#d8576b"
             ],
             [
              0.6666666666666666,
              "#ed7953"
             ],
             [
              0.7777777777777778,
              "#fb9f3a"
             ],
             [
              0.8888888888888888,
              "#fdca26"
             ],
             [
              1,
              "#f0f921"
             ]
            ],
            "type": "heatmapgl"
           }
          ],
          "histogram": [
           {
            "marker": {
             "pattern": {
              "fillmode": "overlay",
              "size": 10,
              "solidity": 0.2
             }
            },
            "type": "histogram"
           }
          ],
          "histogram2d": [
           {
            "colorbar": {
             "outlinewidth": 0,
             "ticks": ""
            },
            "colorscale": [
             [
              0,
              "#0d0887"
             ],
             [
              0.1111111111111111,
              "#46039f"
             ],
             [
              0.2222222222222222,
              "#7201a8"
             ],
             [
              0.3333333333333333,
              "#9c179e"
             ],
             [
              0.4444444444444444,
              "#bd3786"
             ],
             [
              0.5555555555555556,
              "#d8576b"
             ],
             [
              0.6666666666666666,
              "#ed7953"
             ],
             [
              0.7777777777777778,
              "#fb9f3a"
             ],
             [
              0.8888888888888888,
              "#fdca26"
             ],
             [
              1,
              "#f0f921"
             ]
            ],
            "type": "histogram2d"
           }
          ],
          "histogram2dcontour": [
           {
            "colorbar": {
             "outlinewidth": 0,
             "ticks": ""
            },
            "colorscale": [
             [
              0,
              "#0d0887"
             ],
             [
              0.1111111111111111,
              "#46039f"
             ],
             [
              0.2222222222222222,
              "#7201a8"
             ],
             [
              0.3333333333333333,
              "#9c179e"
             ],
             [
              0.4444444444444444,
              "#bd3786"
             ],
             [
              0.5555555555555556,
              "#d8576b"
             ],
             [
              0.6666666666666666,
              "#ed7953"
             ],
             [
              0.7777777777777778,
              "#fb9f3a"
             ],
             [
              0.8888888888888888,
              "#fdca26"
             ],
             [
              1,
              "#f0f921"
             ]
            ],
            "type": "histogram2dcontour"
           }
          ],
          "mesh3d": [
           {
            "colorbar": {
             "outlinewidth": 0,
             "ticks": ""
            },
            "type": "mesh3d"
           }
          ],
          "parcoords": [
           {
            "line": {
             "colorbar": {
              "outlinewidth": 0,
              "ticks": ""
             }
            },
            "type": "parcoords"
           }
          ],
          "pie": [
           {
            "automargin": true,
            "type": "pie"
           }
          ],
          "scatter": [
           {
            "marker": {
             "colorbar": {
              "outlinewidth": 0,
              "ticks": ""
             }
            },
            "type": "scatter"
           }
          ],
          "scatter3d": [
           {
            "line": {
             "colorbar": {
              "outlinewidth": 0,
              "ticks": ""
             }
            },
            "marker": {
             "colorbar": {
              "outlinewidth": 0,
              "ticks": ""
             }
            },
            "type": "scatter3d"
           }
          ],
          "scattercarpet": [
           {
            "marker": {
             "colorbar": {
              "outlinewidth": 0,
              "ticks": ""
             }
            },
            "type": "scattercarpet"
           }
          ],
          "scattergeo": [
           {
            "marker": {
             "colorbar": {
              "outlinewidth": 0,
              "ticks": ""
             }
            },
            "type": "scattergeo"
           }
          ],
          "scattergl": [
           {
            "marker": {
             "colorbar": {
              "outlinewidth": 0,
              "ticks": ""
             }
            },
            "type": "scattergl"
           }
          ],
          "scattermapbox": [
           {
            "marker": {
             "colorbar": {
              "outlinewidth": 0,
              "ticks": ""
             }
            },
            "type": "scattermapbox"
           }
          ],
          "scatterpolar": [
           {
            "marker": {
             "colorbar": {
              "outlinewidth": 0,
              "ticks": ""
             }
            },
            "type": "scatterpolar"
           }
          ],
          "scatterpolargl": [
           {
            "marker": {
             "colorbar": {
              "outlinewidth": 0,
              "ticks": ""
             }
            },
            "type": "scatterpolargl"
           }
          ],
          "scatterternary": [
           {
            "marker": {
             "colorbar": {
              "outlinewidth": 0,
              "ticks": ""
             }
            },
            "type": "scatterternary"
           }
          ],
          "surface": [
           {
            "colorbar": {
             "outlinewidth": 0,
             "ticks": ""
            },
            "colorscale": [
             [
              0,
              "#0d0887"
             ],
             [
              0.1111111111111111,
              "#46039f"
             ],
             [
              0.2222222222222222,
              "#7201a8"
             ],
             [
              0.3333333333333333,
              "#9c179e"
             ],
             [
              0.4444444444444444,
              "#bd3786"
             ],
             [
              0.5555555555555556,
              "#d8576b"
             ],
             [
              0.6666666666666666,
              "#ed7953"
             ],
             [
              0.7777777777777778,
              "#fb9f3a"
             ],
             [
              0.8888888888888888,
              "#fdca26"
             ],
             [
              1,
              "#f0f921"
             ]
            ],
            "type": "surface"
           }
          ],
          "table": [
           {
            "cells": {
             "fill": {
              "color": "#EBF0F8"
             },
             "line": {
              "color": "white"
             }
            },
            "header": {
             "fill": {
              "color": "#C8D4E3"
             },
             "line": {
              "color": "white"
             }
            },
            "type": "table"
           }
          ]
         },
         "layout": {
          "annotationdefaults": {
           "arrowcolor": "#2a3f5f",
           "arrowhead": 0,
           "arrowwidth": 1
          },
          "autotypenumbers": "strict",
          "coloraxis": {
           "colorbar": {
            "outlinewidth": 0,
            "ticks": ""
           }
          },
          "colorscale": {
           "diverging": [
            [
             0,
             "#8e0152"
            ],
            [
             0.1,
             "#c51b7d"
            ],
            [
             0.2,
             "#de77ae"
            ],
            [
             0.3,
             "#f1b6da"
            ],
            [
             0.4,
             "#fde0ef"
            ],
            [
             0.5,
             "#f7f7f7"
            ],
            [
             0.6,
             "#e6f5d0"
            ],
            [
             0.7,
             "#b8e186"
            ],
            [
             0.8,
             "#7fbc41"
            ],
            [
             0.9,
             "#4d9221"
            ],
            [
             1,
             "#276419"
            ]
           ],
           "sequential": [
            [
             0,
             "#0d0887"
            ],
            [
             0.1111111111111111,
             "#46039f"
            ],
            [
             0.2222222222222222,
             "#7201a8"
            ],
            [
             0.3333333333333333,
             "#9c179e"
            ],
            [
             0.4444444444444444,
             "#bd3786"
            ],
            [
             0.5555555555555556,
             "#d8576b"
            ],
            [
             0.6666666666666666,
             "#ed7953"
            ],
            [
             0.7777777777777778,
             "#fb9f3a"
            ],
            [
             0.8888888888888888,
             "#fdca26"
            ],
            [
             1,
             "#f0f921"
            ]
           ],
           "sequentialminus": [
            [
             0,
             "#0d0887"
            ],
            [
             0.1111111111111111,
             "#46039f"
            ],
            [
             0.2222222222222222,
             "#7201a8"
            ],
            [
             0.3333333333333333,
             "#9c179e"
            ],
            [
             0.4444444444444444,
             "#bd3786"
            ],
            [
             0.5555555555555556,
             "#d8576b"
            ],
            [
             0.6666666666666666,
             "#ed7953"
            ],
            [
             0.7777777777777778,
             "#fb9f3a"
            ],
            [
             0.8888888888888888,
             "#fdca26"
            ],
            [
             1,
             "#f0f921"
            ]
           ]
          },
          "colorway": [
           "#636efa",
           "#EF553B",
           "#00cc96",
           "#ab63fa",
           "#FFA15A",
           "#19d3f3",
           "#FF6692",
           "#B6E880",
           "#FF97FF",
           "#FECB52"
          ],
          "font": {
           "color": "#2a3f5f"
          },
          "geo": {
           "bgcolor": "white",
           "lakecolor": "white",
           "landcolor": "#E5ECF6",
           "showlakes": true,
           "showland": true,
           "subunitcolor": "white"
          },
          "hoverlabel": {
           "align": "left"
          },
          "hovermode": "closest",
          "mapbox": {
           "style": "light"
          },
          "paper_bgcolor": "white",
          "plot_bgcolor": "#E5ECF6",
          "polar": {
           "angularaxis": {
            "gridcolor": "white",
            "linecolor": "white",
            "ticks": ""
           },
           "bgcolor": "#E5ECF6",
           "radialaxis": {
            "gridcolor": "white",
            "linecolor": "white",
            "ticks": ""
           }
          },
          "scene": {
           "xaxis": {
            "backgroundcolor": "#E5ECF6",
            "gridcolor": "white",
            "gridwidth": 2,
            "linecolor": "white",
            "showbackground": true,
            "ticks": "",
            "zerolinecolor": "white"
           },
           "yaxis": {
            "backgroundcolor": "#E5ECF6",
            "gridcolor": "white",
            "gridwidth": 2,
            "linecolor": "white",
            "showbackground": true,
            "ticks": "",
            "zerolinecolor": "white"
           },
           "zaxis": {
            "backgroundcolor": "#E5ECF6",
            "gridcolor": "white",
            "gridwidth": 2,
            "linecolor": "white",
            "showbackground": true,
            "ticks": "",
            "zerolinecolor": "white"
           }
          },
          "shapedefaults": {
           "line": {
            "color": "#2a3f5f"
           }
          },
          "ternary": {
           "aaxis": {
            "gridcolor": "white",
            "linecolor": "white",
            "ticks": ""
           },
           "baxis": {
            "gridcolor": "white",
            "linecolor": "white",
            "ticks": ""
           },
           "bgcolor": "#E5ECF6",
           "caxis": {
            "gridcolor": "white",
            "linecolor": "white",
            "ticks": ""
           }
          },
          "title": {
           "x": 0.05
          },
          "xaxis": {
           "automargin": true,
           "gridcolor": "white",
           "linecolor": "white",
           "ticks": "",
           "title": {
            "standoff": 15
           },
           "zerolinecolor": "white",
           "zerolinewidth": 2
          },
          "yaxis": {
           "automargin": true,
           "gridcolor": "white",
           "linecolor": "white",
           "ticks": "",
           "title": {
            "standoff": 15
           },
           "zerolinecolor": "white",
           "zerolinewidth": 2
          }
         }
        },
        "title": {
         "text": "human_cov_log2FC_rank"
        },
        "xaxis": {
         "anchor": "y",
         "domain": [
          0,
          1
         ],
         "title": {
          "text": "n_genes/n_go"
         }
        },
        "yaxis": {
         "anchor": "x",
         "domain": [
          0,
          1
         ],
         "title": {
          "text": "term"
         }
        }
       }
      },
      "text/html": [
       "<div>                            <div id=\"f30753f2-aff5-4944-a9b0-d06e42628bda\" class=\"plotly-graph-div\" style=\"height:525px; width:100%;\"></div>            <script type=\"text/javascript\">                require([\"plotly\"], function(Plotly) {                    window.PLOTLYENV=window.PLOTLYENV || {};                                    if (document.getElementById(\"f30753f2-aff5-4944-a9b0-d06e42628bda\")) {                    Plotly.newPlot(                        \"f30753f2-aff5-4944-a9b0-d06e42628bda\",                        [{\"alignmentgroup\":\"True\",\"customdata\":[[[\"Mybpc1\",\"Myh7\",\"Ttn\",\"Myh8\"]],[[\"Ttn\",\"Acta1\",\"Myh7\"]],[[\"Ttn\",\"Myh7\"]],[[\"Cngb1\",\"Cnga2\"]]],\"hovertemplate\":\"n_genes/n_go=%{x}<br>term=%{y}<br>study_genes=%{customdata[0]}<extra></extra>\",\"legendgroup\":\"\",\"marker\":{\"color\":\"#636efa\",\"pattern\":{\"shape\":\"\"}},\"name\":\"\",\"offsetgroup\":\"\",\"orientation\":\"h\",\"showlegend\":false,\"textposition\":\"auto\",\"x\":[0.08163265306122448,0.08108108108108109,0.3333333333333333,0.2857142857142857],\"xaxis\":\"x\",\"y\":[\"muscle contraction\",\"sarcomere\",\"muscle myosin complex\",\"intracellular cyclic nucleotide activated cation channel complex\"],\"yaxis\":\"y\",\"type\":\"bar\"}],                        {\"template\":{\"data\":{\"bar\":[{\"error_x\":{\"color\":\"#2a3f5f\"},\"error_y\":{\"color\":\"#2a3f5f\"},\"marker\":{\"line\":{\"color\":\"#E5ECF6\",\"width\":0.5},\"pattern\":{\"fillmode\":\"overlay\",\"size\":10,\"solidity\":0.2}},\"type\":\"bar\"}],\"barpolar\":[{\"marker\":{\"line\":{\"color\":\"#E5ECF6\",\"width\":0.5},\"pattern\":{\"fillmode\":\"overlay\",\"size\":10,\"solidity\":0.2}},\"type\":\"barpolar\"}],\"carpet\":[{\"aaxis\":{\"endlinecolor\":\"#2a3f5f\",\"gridcolor\":\"white\",\"linecolor\":\"white\",\"minorgridcolor\":\"white\",\"startlinecolor\":\"#2a3f5f\"},\"baxis\":{\"endlinecolor\":\"#2a3f5f\",\"gridcolor\":\"white\",\"linecolor\":\"white\",\"minorgridcolor\":\"white\",\"startlinecolor\":\"#2a3f5f\"},\"type\":\"carpet\"}],\"choropleth\":[{\"colorbar\":{\"outlinewidth\":0,\"ticks\":\"\"},\"type\":\"choropleth\"}],\"contour\":[{\"colorbar\":{\"outlinewidth\":0,\"ticks\":\"\"},\"colorscale\":[[0.0,\"#0d0887\"],[0.1111111111111111,\"#46039f\"],[0.2222222222222222,\"#7201a8\"],[0.3333333333333333,\"#9c179e\"],[0.4444444444444444,\"#bd3786\"],[0.5555555555555556,\"#d8576b\"],[0.6666666666666666,\"#ed7953\"],[0.7777777777777778,\"#fb9f3a\"],[0.8888888888888888,\"#fdca26\"],[1.0,\"#f0f921\"]],\"type\":\"contour\"}],\"contourcarpet\":[{\"colorbar\":{\"outlinewidth\":0,\"ticks\":\"\"},\"type\":\"contourcarpet\"}],\"heatmap\":[{\"colorbar\":{\"outlinewidth\":0,\"ticks\":\"\"},\"colorscale\":[[0.0,\"#0d0887\"],[0.1111111111111111,\"#46039f\"],[0.2222222222222222,\"#7201a8\"],[0.3333333333333333,\"#9c179e\"],[0.4444444444444444,\"#bd3786\"],[0.5555555555555556,\"#d8576b\"],[0.6666666666666666,\"#ed7953\"],[0.7777777777777778,\"#fb9f3a\"],[0.8888888888888888,\"#fdca26\"],[1.0,\"#f0f921\"]],\"type\":\"heatmap\"}],\"heatmapgl\":[{\"colorbar\":{\"outlinewidth\":0,\"ticks\":\"\"},\"colorscale\":[[0.0,\"#0d0887\"],[0.1111111111111111,\"#46039f\"],[0.2222222222222222,\"#7201a8\"],[0.3333333333333333,\"#9c179e\"],[0.4444444444444444,\"#bd3786\"],[0.5555555555555556,\"#d8576b\"],[0.6666666666666666,\"#ed7953\"],[0.7777777777777778,\"#fb9f3a\"],[0.8888888888888888,\"#fdca26\"],[1.0,\"#f0f921\"]],\"type\":\"heatmapgl\"}],\"histogram\":[{\"marker\":{\"pattern\":{\"fillmode\":\"overlay\",\"size\":10,\"solidity\":0.2}},\"type\":\"histogram\"}],\"histogram2d\":[{\"colorbar\":{\"outlinewidth\":0,\"ticks\":\"\"},\"colorscale\":[[0.0,\"#0d0887\"],[0.1111111111111111,\"#46039f\"],[0.2222222222222222,\"#7201a8\"],[0.3333333333333333,\"#9c179e\"],[0.4444444444444444,\"#bd3786\"],[0.5555555555555556,\"#d8576b\"],[0.6666666666666666,\"#ed7953\"],[0.7777777777777778,\"#fb9f3a\"],[0.8888888888888888,\"#fdca26\"],[1.0,\"#f0f921\"]],\"type\":\"histogram2d\"}],\"histogram2dcontour\":[{\"colorbar\":{\"outlinewidth\":0,\"ticks\":\"\"},\"colorscale\":[[0.0,\"#0d0887\"],[0.1111111111111111,\"#46039f\"],[0.2222222222222222,\"#7201a8\"],[0.3333333333333333,\"#9c179e\"],[0.4444444444444444,\"#bd3786\"],[0.5555555555555556,\"#d8576b\"],[0.6666666666666666,\"#ed7953\"],[0.7777777777777778,\"#fb9f3a\"],[0.8888888888888888,\"#fdca26\"],[1.0,\"#f0f921\"]],\"type\":\"histogram2dcontour\"}],\"mesh3d\":[{\"colorbar\":{\"outlinewidth\":0,\"ticks\":\"\"},\"type\":\"mesh3d\"}],\"parcoords\":[{\"line\":{\"colorbar\":{\"outlinewidth\":0,\"ticks\":\"\"}},\"type\":\"parcoords\"}],\"pie\":[{\"automargin\":true,\"type\":\"pie\"}],\"scatter\":[{\"marker\":{\"colorbar\":{\"outlinewidth\":0,\"ticks\":\"\"}},\"type\":\"scatter\"}],\"scatter3d\":[{\"line\":{\"colorbar\":{\"outlinewidth\":0,\"ticks\":\"\"}},\"marker\":{\"colorbar\":{\"outlinewidth\":0,\"ticks\":\"\"}},\"type\":\"scatter3d\"}],\"scattercarpet\":[{\"marker\":{\"colorbar\":{\"outlinewidth\":0,\"ticks\":\"\"}},\"type\":\"scattercarpet\"}],\"scattergeo\":[{\"marker\":{\"colorbar\":{\"outlinewidth\":0,\"ticks\":\"\"}},\"type\":\"scattergeo\"}],\"scattergl\":[{\"marker\":{\"colorbar\":{\"outlinewidth\":0,\"ticks\":\"\"}},\"type\":\"scattergl\"}],\"scattermapbox\":[{\"marker\":{\"colorbar\":{\"outlinewidth\":0,\"ticks\":\"\"}},\"type\":\"scattermapbox\"}],\"scatterpolar\":[{\"marker\":{\"colorbar\":{\"outlinewidth\":0,\"ticks\":\"\"}},\"type\":\"scatterpolar\"}],\"scatterpolargl\":[{\"marker\":{\"colorbar\":{\"outlinewidth\":0,\"ticks\":\"\"}},\"type\":\"scatterpolargl\"}],\"scatterternary\":[{\"marker\":{\"colorbar\":{\"outlinewidth\":0,\"ticks\":\"\"}},\"type\":\"scatterternary\"}],\"surface\":[{\"colorbar\":{\"outlinewidth\":0,\"ticks\":\"\"},\"colorscale\":[[0.0,\"#0d0887\"],[0.1111111111111111,\"#46039f\"],[0.2222222222222222,\"#7201a8\"],[0.3333333333333333,\"#9c179e\"],[0.4444444444444444,\"#bd3786\"],[0.5555555555555556,\"#d8576b\"],[0.6666666666666666,\"#ed7953\"],[0.7777777777777778,\"#fb9f3a\"],[0.8888888888888888,\"#fdca26\"],[1.0,\"#f0f921\"]],\"type\":\"surface\"}],\"table\":[{\"cells\":{\"fill\":{\"color\":\"#EBF0F8\"},\"line\":{\"color\":\"white\"}},\"header\":{\"fill\":{\"color\":\"#C8D4E3\"},\"line\":{\"color\":\"white\"}},\"type\":\"table\"}]},\"layout\":{\"annotationdefaults\":{\"arrowcolor\":\"#2a3f5f\",\"arrowhead\":0,\"arrowwidth\":1},\"autotypenumbers\":\"strict\",\"coloraxis\":{\"colorbar\":{\"outlinewidth\":0,\"ticks\":\"\"}},\"colorscale\":{\"diverging\":[[0,\"#8e0152\"],[0.1,\"#c51b7d\"],[0.2,\"#de77ae\"],[0.3,\"#f1b6da\"],[0.4,\"#fde0ef\"],[0.5,\"#f7f7f7\"],[0.6,\"#e6f5d0\"],[0.7,\"#b8e186\"],[0.8,\"#7fbc41\"],[0.9,\"#4d9221\"],[1,\"#276419\"]],\"sequential\":[[0.0,\"#0d0887\"],[0.1111111111111111,\"#46039f\"],[0.2222222222222222,\"#7201a8\"],[0.3333333333333333,\"#9c179e\"],[0.4444444444444444,\"#bd3786\"],[0.5555555555555556,\"#d8576b\"],[0.6666666666666666,\"#ed7953\"],[0.7777777777777778,\"#fb9f3a\"],[0.8888888888888888,\"#fdca26\"],[1.0,\"#f0f921\"]],\"sequentialminus\":[[0.0,\"#0d0887\"],[0.1111111111111111,\"#46039f\"],[0.2222222222222222,\"#7201a8\"],[0.3333333333333333,\"#9c179e\"],[0.4444444444444444,\"#bd3786\"],[0.5555555555555556,\"#d8576b\"],[0.6666666666666666,\"#ed7953\"],[0.7777777777777778,\"#fb9f3a\"],[0.8888888888888888,\"#fdca26\"],[1.0,\"#f0f921\"]]},\"colorway\":[\"#636efa\",\"#EF553B\",\"#00cc96\",\"#ab63fa\",\"#FFA15A\",\"#19d3f3\",\"#FF6692\",\"#B6E880\",\"#FF97FF\",\"#FECB52\"],\"font\":{\"color\":\"#2a3f5f\"},\"geo\":{\"bgcolor\":\"white\",\"lakecolor\":\"white\",\"landcolor\":\"#E5ECF6\",\"showlakes\":true,\"showland\":true,\"subunitcolor\":\"white\"},\"hoverlabel\":{\"align\":\"left\"},\"hovermode\":\"closest\",\"mapbox\":{\"style\":\"light\"},\"paper_bgcolor\":\"white\",\"plot_bgcolor\":\"#E5ECF6\",\"polar\":{\"angularaxis\":{\"gridcolor\":\"white\",\"linecolor\":\"white\",\"ticks\":\"\"},\"bgcolor\":\"#E5ECF6\",\"radialaxis\":{\"gridcolor\":\"white\",\"linecolor\":\"white\",\"ticks\":\"\"}},\"scene\":{\"xaxis\":{\"backgroundcolor\":\"#E5ECF6\",\"gridcolor\":\"white\",\"gridwidth\":2,\"linecolor\":\"white\",\"showbackground\":true,\"ticks\":\"\",\"zerolinecolor\":\"white\"},\"yaxis\":{\"backgroundcolor\":\"#E5ECF6\",\"gridcolor\":\"white\",\"gridwidth\":2,\"linecolor\":\"white\",\"showbackground\":true,\"ticks\":\"\",\"zerolinecolor\":\"white\"},\"zaxis\":{\"backgroundcolor\":\"#E5ECF6\",\"gridcolor\":\"white\",\"gridwidth\":2,\"linecolor\":\"white\",\"showbackground\":true,\"ticks\":\"\",\"zerolinecolor\":\"white\"}},\"shapedefaults\":{\"line\":{\"color\":\"#2a3f5f\"}},\"ternary\":{\"aaxis\":{\"gridcolor\":\"white\",\"linecolor\":\"white\",\"ticks\":\"\"},\"baxis\":{\"gridcolor\":\"white\",\"linecolor\":\"white\",\"ticks\":\"\"},\"bgcolor\":\"#E5ECF6\",\"caxis\":{\"gridcolor\":\"white\",\"linecolor\":\"white\",\"ticks\":\"\"}},\"title\":{\"x\":0.05},\"xaxis\":{\"automargin\":true,\"gridcolor\":\"white\",\"linecolor\":\"white\",\"ticks\":\"\",\"title\":{\"standoff\":15},\"zerolinecolor\":\"white\",\"zerolinewidth\":2},\"yaxis\":{\"automargin\":true,\"gridcolor\":\"white\",\"linecolor\":\"white\",\"ticks\":\"\",\"title\":{\"standoff\":15},\"zerolinecolor\":\"white\",\"zerolinewidth\":2}}},\"xaxis\":{\"anchor\":\"y\",\"domain\":[0.0,1.0],\"title\":{\"text\":\"n_genes/n_go\"}},\"yaxis\":{\"anchor\":\"x\",\"domain\":[0.0,1.0],\"title\":{\"text\":\"term\"}},\"legend\":{\"tracegroupgap\":0},\"title\":{\"text\":\"human_cov_log2FC_rank\"},\"barmode\":\"relative\",\"plot_bgcolor\":\"rgba(0, 0, 0, 0)\"},                        {\"responsive\": true}                    ).then(function(){\n",
       "                            \n",
       "var gd = document.getElementById('f30753f2-aff5-4944-a9b0-d06e42628bda');\n",
       "var x = new MutationObserver(function (mutations, observer) {{\n",
       "        var display = window.getComputedStyle(gd).display;\n",
       "        if (!display || display === 'none') {{\n",
       "            console.log([gd, 'removed!']);\n",
       "            Plotly.purge(gd);\n",
       "            observer.disconnect();\n",
       "        }}\n",
       "}});\n",
       "\n",
       "// Listen for the removal of the full notebook cells\n",
       "var notebookContainer = gd.closest('#notebook-container');\n",
       "if (notebookContainer) {{\n",
       "    x.observe(notebookContainer, {childList: true});\n",
       "}}\n",
       "\n",
       "// Listen for the clearing of the current output cell\n",
       "var outputEl = gd.closest('.output');\n",
       "if (outputEl) {{\n",
       "    x.observe(outputEl, {childList: true});\n",
       "}}\n",
       "\n",
       "                        })                };                });            </script>        </div>"
      ]
     },
     "metadata": {},
     "output_type": "display_data"
    },
    {
     "data": {
      "application/vnd.plotly.v1+json": {
       "config": {
        "plotlyServerURL": "https://plot.ly"
       },
       "data": [
        {
         "alignmentgroup": "True",
         "customdata": [
          [
           [
            "Mybpc1",
            "Myh7",
            "Ttn",
            "Myh8"
           ]
          ],
          [
           [
            "Ttn",
            "Acta1",
            "Myh7"
           ]
          ],
          [
           [
            "Ttn",
            "Myh7"
           ]
          ],
          [
           [
            "Cngb1",
            "Cnga2"
           ]
          ]
         ],
         "hovertemplate": "n_genes/n_go=%{x}<br>term=%{y}<br>study_genes=%{customdata[0]}<extra></extra>",
         "legendgroup": "",
         "marker": {
          "color": "#636efa",
          "pattern": {
           "shape": ""
          }
         },
         "name": "",
         "offsetgroup": "",
         "orientation": "h",
         "showlegend": false,
         "textposition": "auto",
         "type": "bar",
         "x": [
          0.08163265306122448,
          0.08108108108108109,
          0.3333333333333333,
          0.2857142857142857
         ],
         "xaxis": "x",
         "y": [
          "muscle contraction",
          "sarcomere",
          "muscle myosin complex",
          "intracellular cyclic nucleotide activated cation channel complex"
         ],
         "yaxis": "y"
        }
       ],
       "layout": {
        "barmode": "relative",
        "legend": {
         "tracegroupgap": 0
        },
        "plot_bgcolor": "rgba(0, 0, 0, 0)",
        "template": {
         "data": {
          "bar": [
           {
            "error_x": {
             "color": "#2a3f5f"
            },
            "error_y": {
             "color": "#2a3f5f"
            },
            "marker": {
             "line": {
              "color": "#E5ECF6",
              "width": 0.5
             },
             "pattern": {
              "fillmode": "overlay",
              "size": 10,
              "solidity": 0.2
             }
            },
            "type": "bar"
           }
          ],
          "barpolar": [
           {
            "marker": {
             "line": {
              "color": "#E5ECF6",
              "width": 0.5
             },
             "pattern": {
              "fillmode": "overlay",
              "size": 10,
              "solidity": 0.2
             }
            },
            "type": "barpolar"
           }
          ],
          "carpet": [
           {
            "aaxis": {
             "endlinecolor": "#2a3f5f",
             "gridcolor": "white",
             "linecolor": "white",
             "minorgridcolor": "white",
             "startlinecolor": "#2a3f5f"
            },
            "baxis": {
             "endlinecolor": "#2a3f5f",
             "gridcolor": "white",
             "linecolor": "white",
             "minorgridcolor": "white",
             "startlinecolor": "#2a3f5f"
            },
            "type": "carpet"
           }
          ],
          "choropleth": [
           {
            "colorbar": {
             "outlinewidth": 0,
             "ticks": ""
            },
            "type": "choropleth"
           }
          ],
          "contour": [
           {
            "colorbar": {
             "outlinewidth": 0,
             "ticks": ""
            },
            "colorscale": [
             [
              0,
              "#0d0887"
             ],
             [
              0.1111111111111111,
              "#46039f"
             ],
             [
              0.2222222222222222,
              "#7201a8"
             ],
             [
              0.3333333333333333,
              "#9c179e"
             ],
             [
              0.4444444444444444,
              "#bd3786"
             ],
             [
              0.5555555555555556,
              "#d8576b"
             ],
             [
              0.6666666666666666,
              "#ed7953"
             ],
             [
              0.7777777777777778,
              "#fb9f3a"
             ],
             [
              0.8888888888888888,
              "#fdca26"
             ],
             [
              1,
              "#f0f921"
             ]
            ],
            "type": "contour"
           }
          ],
          "contourcarpet": [
           {
            "colorbar": {
             "outlinewidth": 0,
             "ticks": ""
            },
            "type": "contourcarpet"
           }
          ],
          "heatmap": [
           {
            "colorbar": {
             "outlinewidth": 0,
             "ticks": ""
            },
            "colorscale": [
             [
              0,
              "#0d0887"
             ],
             [
              0.1111111111111111,
              "#46039f"
             ],
             [
              0.2222222222222222,
              "#7201a8"
             ],
             [
              0.3333333333333333,
              "#9c179e"
             ],
             [
              0.4444444444444444,
              "#bd3786"
             ],
             [
              0.5555555555555556,
              "#d8576b"
             ],
             [
              0.6666666666666666,
              "#ed7953"
             ],
             [
              0.7777777777777778,
              "#fb9f3a"
             ],
             [
              0.8888888888888888,
              "#fdca26"
             ],
             [
              1,
              "#f0f921"
             ]
            ],
            "type": "heatmap"
           }
          ],
          "heatmapgl": [
           {
            "colorbar": {
             "outlinewidth": 0,
             "ticks": ""
            },
            "colorscale": [
             [
              0,
              "#0d0887"
             ],
             [
              0.1111111111111111,
              "#46039f"
             ],
             [
              0.2222222222222222,
              "#7201a8"
             ],
             [
              0.3333333333333333,
              "#9c179e"
             ],
             [
              0.4444444444444444,
              "#bd3786"
             ],
             [
              0.5555555555555556,
              "#d8576b"
             ],
             [
              0.6666666666666666,
              "#ed7953"
             ],
             [
              0.7777777777777778,
              "#fb9f3a"
             ],
             [
              0.8888888888888888,
              "#fdca26"
             ],
             [
              1,
              "#f0f921"
             ]
            ],
            "type": "heatmapgl"
           }
          ],
          "histogram": [
           {
            "marker": {
             "pattern": {
              "fillmode": "overlay",
              "size": 10,
              "solidity": 0.2
             }
            },
            "type": "histogram"
           }
          ],
          "histogram2d": [
           {
            "colorbar": {
             "outlinewidth": 0,
             "ticks": ""
            },
            "colorscale": [
             [
              0,
              "#0d0887"
             ],
             [
              0.1111111111111111,
              "#46039f"
             ],
             [
              0.2222222222222222,
              "#7201a8"
             ],
             [
              0.3333333333333333,
              "#9c179e"
             ],
             [
              0.4444444444444444,
              "#bd3786"
             ],
             [
              0.5555555555555556,
              "#d8576b"
             ],
             [
              0.6666666666666666,
              "#ed7953"
             ],
             [
              0.7777777777777778,
              "#fb9f3a"
             ],
             [
              0.8888888888888888,
              "#fdca26"
             ],
             [
              1,
              "#f0f921"
             ]
            ],
            "type": "histogram2d"
           }
          ],
          "histogram2dcontour": [
           {
            "colorbar": {
             "outlinewidth": 0,
             "ticks": ""
            },
            "colorscale": [
             [
              0,
              "#0d0887"
             ],
             [
              0.1111111111111111,
              "#46039f"
             ],
             [
              0.2222222222222222,
              "#7201a8"
             ],
             [
              0.3333333333333333,
              "#9c179e"
             ],
             [
              0.4444444444444444,
              "#bd3786"
             ],
             [
              0.5555555555555556,
              "#d8576b"
             ],
             [
              0.6666666666666666,
              "#ed7953"
             ],
             [
              0.7777777777777778,
              "#fb9f3a"
             ],
             [
              0.8888888888888888,
              "#fdca26"
             ],
             [
              1,
              "#f0f921"
             ]
            ],
            "type": "histogram2dcontour"
           }
          ],
          "mesh3d": [
           {
            "colorbar": {
             "outlinewidth": 0,
             "ticks": ""
            },
            "type": "mesh3d"
           }
          ],
          "parcoords": [
           {
            "line": {
             "colorbar": {
              "outlinewidth": 0,
              "ticks": ""
             }
            },
            "type": "parcoords"
           }
          ],
          "pie": [
           {
            "automargin": true,
            "type": "pie"
           }
          ],
          "scatter": [
           {
            "marker": {
             "colorbar": {
              "outlinewidth": 0,
              "ticks": ""
             }
            },
            "type": "scatter"
           }
          ],
          "scatter3d": [
           {
            "line": {
             "colorbar": {
              "outlinewidth": 0,
              "ticks": ""
             }
            },
            "marker": {
             "colorbar": {
              "outlinewidth": 0,
              "ticks": ""
             }
            },
            "type": "scatter3d"
           }
          ],
          "scattercarpet": [
           {
            "marker": {
             "colorbar": {
              "outlinewidth": 0,
              "ticks": ""
             }
            },
            "type": "scattercarpet"
           }
          ],
          "scattergeo": [
           {
            "marker": {
             "colorbar": {
              "outlinewidth": 0,
              "ticks": ""
             }
            },
            "type": "scattergeo"
           }
          ],
          "scattergl": [
           {
            "marker": {
             "colorbar": {
              "outlinewidth": 0,
              "ticks": ""
             }
            },
            "type": "scattergl"
           }
          ],
          "scattermapbox": [
           {
            "marker": {
             "colorbar": {
              "outlinewidth": 0,
              "ticks": ""
             }
            },
            "type": "scattermapbox"
           }
          ],
          "scatterpolar": [
           {
            "marker": {
             "colorbar": {
              "outlinewidth": 0,
              "ticks": ""
             }
            },
            "type": "scatterpolar"
           }
          ],
          "scatterpolargl": [
           {
            "marker": {
             "colorbar": {
              "outlinewidth": 0,
              "ticks": ""
             }
            },
            "type": "scatterpolargl"
           }
          ],
          "scatterternary": [
           {
            "marker": {
             "colorbar": {
              "outlinewidth": 0,
              "ticks": ""
             }
            },
            "type": "scatterternary"
           }
          ],
          "surface": [
           {
            "colorbar": {
             "outlinewidth": 0,
             "ticks": ""
            },
            "colorscale": [
             [
              0,
              "#0d0887"
             ],
             [
              0.1111111111111111,
              "#46039f"
             ],
             [
              0.2222222222222222,
              "#7201a8"
             ],
             [
              0.3333333333333333,
              "#9c179e"
             ],
             [
              0.4444444444444444,
              "#bd3786"
             ],
             [
              0.5555555555555556,
              "#d8576b"
             ],
             [
              0.6666666666666666,
              "#ed7953"
             ],
             [
              0.7777777777777778,
              "#fb9f3a"
             ],
             [
              0.8888888888888888,
              "#fdca26"
             ],
             [
              1,
              "#f0f921"
             ]
            ],
            "type": "surface"
           }
          ],
          "table": [
           {
            "cells": {
             "fill": {
              "color": "#EBF0F8"
             },
             "line": {
              "color": "white"
             }
            },
            "header": {
             "fill": {
              "color": "#C8D4E3"
             },
             "line": {
              "color": "white"
             }
            },
            "type": "table"
           }
          ]
         },
         "layout": {
          "annotationdefaults": {
           "arrowcolor": "#2a3f5f",
           "arrowhead": 0,
           "arrowwidth": 1
          },
          "autotypenumbers": "strict",
          "coloraxis": {
           "colorbar": {
            "outlinewidth": 0,
            "ticks": ""
           }
          },
          "colorscale": {
           "diverging": [
            [
             0,
             "#8e0152"
            ],
            [
             0.1,
             "#c51b7d"
            ],
            [
             0.2,
             "#de77ae"
            ],
            [
             0.3,
             "#f1b6da"
            ],
            [
             0.4,
             "#fde0ef"
            ],
            [
             0.5,
             "#f7f7f7"
            ],
            [
             0.6,
             "#e6f5d0"
            ],
            [
             0.7,
             "#b8e186"
            ],
            [
             0.8,
             "#7fbc41"
            ],
            [
             0.9,
             "#4d9221"
            ],
            [
             1,
             "#276419"
            ]
           ],
           "sequential": [
            [
             0,
             "#0d0887"
            ],
            [
             0.1111111111111111,
             "#46039f"
            ],
            [
             0.2222222222222222,
             "#7201a8"
            ],
            [
             0.3333333333333333,
             "#9c179e"
            ],
            [
             0.4444444444444444,
             "#bd3786"
            ],
            [
             0.5555555555555556,
             "#d8576b"
            ],
            [
             0.6666666666666666,
             "#ed7953"
            ],
            [
             0.7777777777777778,
             "#fb9f3a"
            ],
            [
             0.8888888888888888,
             "#fdca26"
            ],
            [
             1,
             "#f0f921"
            ]
           ],
           "sequentialminus": [
            [
             0,
             "#0d0887"
            ],
            [
             0.1111111111111111,
             "#46039f"
            ],
            [
             0.2222222222222222,
             "#7201a8"
            ],
            [
             0.3333333333333333,
             "#9c179e"
            ],
            [
             0.4444444444444444,
             "#bd3786"
            ],
            [
             0.5555555555555556,
             "#d8576b"
            ],
            [
             0.6666666666666666,
             "#ed7953"
            ],
            [
             0.7777777777777778,
             "#fb9f3a"
            ],
            [
             0.8888888888888888,
             "#fdca26"
            ],
            [
             1,
             "#f0f921"
            ]
           ]
          },
          "colorway": [
           "#636efa",
           "#EF553B",
           "#00cc96",
           "#ab63fa",
           "#FFA15A",
           "#19d3f3",
           "#FF6692",
           "#B6E880",
           "#FF97FF",
           "#FECB52"
          ],
          "font": {
           "color": "#2a3f5f"
          },
          "geo": {
           "bgcolor": "white",
           "lakecolor": "white",
           "landcolor": "#E5ECF6",
           "showlakes": true,
           "showland": true,
           "subunitcolor": "white"
          },
          "hoverlabel": {
           "align": "left"
          },
          "hovermode": "closest",
          "mapbox": {
           "style": "light"
          },
          "paper_bgcolor": "white",
          "plot_bgcolor": "#E5ECF6",
          "polar": {
           "angularaxis": {
            "gridcolor": "white",
            "linecolor": "white",
            "ticks": ""
           },
           "bgcolor": "#E5ECF6",
           "radialaxis": {
            "gridcolor": "white",
            "linecolor": "white",
            "ticks": ""
           }
          },
          "scene": {
           "xaxis": {
            "backgroundcolor": "#E5ECF6",
            "gridcolor": "white",
            "gridwidth": 2,
            "linecolor": "white",
            "showbackground": true,
            "ticks": "",
            "zerolinecolor": "white"
           },
           "yaxis": {
            "backgroundcolor": "#E5ECF6",
            "gridcolor": "white",
            "gridwidth": 2,
            "linecolor": "white",
            "showbackground": true,
            "ticks": "",
            "zerolinecolor": "white"
           },
           "zaxis": {
            "backgroundcolor": "#E5ECF6",
            "gridcolor": "white",
            "gridwidth": 2,
            "linecolor": "white",
            "showbackground": true,
            "ticks": "",
            "zerolinecolor": "white"
           }
          },
          "shapedefaults": {
           "line": {
            "color": "#2a3f5f"
           }
          },
          "ternary": {
           "aaxis": {
            "gridcolor": "white",
            "linecolor": "white",
            "ticks": ""
           },
           "baxis": {
            "gridcolor": "white",
            "linecolor": "white",
            "ticks": ""
           },
           "bgcolor": "#E5ECF6",
           "caxis": {
            "gridcolor": "white",
            "linecolor": "white",
            "ticks": ""
           }
          },
          "title": {
           "x": 0.05
          },
          "xaxis": {
           "automargin": true,
           "gridcolor": "white",
           "linecolor": "white",
           "ticks": "",
           "title": {
            "standoff": 15
           },
           "zerolinecolor": "white",
           "zerolinewidth": 2
          },
          "yaxis": {
           "automargin": true,
           "gridcolor": "white",
           "linecolor": "white",
           "ticks": "",
           "title": {
            "standoff": 15
           },
           "zerolinecolor": "white",
           "zerolinewidth": 2
          }
         }
        },
        "title": {
         "text": "human_cov_padj_rank"
        },
        "xaxis": {
         "anchor": "y",
         "domain": [
          0,
          1
         ],
         "title": {
          "text": "n_genes/n_go"
         }
        },
        "yaxis": {
         "anchor": "x",
         "domain": [
          0,
          1
         ],
         "title": {
          "text": "term"
         }
        }
       }
      },
      "text/html": [
       "<div>                            <div id=\"73213bb4-7d64-4a4e-962a-d7bd8a4bce9d\" class=\"plotly-graph-div\" style=\"height:525px; width:100%;\"></div>            <script type=\"text/javascript\">                require([\"plotly\"], function(Plotly) {                    window.PLOTLYENV=window.PLOTLYENV || {};                                    if (document.getElementById(\"73213bb4-7d64-4a4e-962a-d7bd8a4bce9d\")) {                    Plotly.newPlot(                        \"73213bb4-7d64-4a4e-962a-d7bd8a4bce9d\",                        [{\"alignmentgroup\":\"True\",\"customdata\":[[[\"Mybpc1\",\"Myh7\",\"Ttn\",\"Myh8\"]],[[\"Ttn\",\"Acta1\",\"Myh7\"]],[[\"Ttn\",\"Myh7\"]],[[\"Cngb1\",\"Cnga2\"]]],\"hovertemplate\":\"n_genes/n_go=%{x}<br>term=%{y}<br>study_genes=%{customdata[0]}<extra></extra>\",\"legendgroup\":\"\",\"marker\":{\"color\":\"#636efa\",\"pattern\":{\"shape\":\"\"}},\"name\":\"\",\"offsetgroup\":\"\",\"orientation\":\"h\",\"showlegend\":false,\"textposition\":\"auto\",\"x\":[0.08163265306122448,0.08108108108108109,0.3333333333333333,0.2857142857142857],\"xaxis\":\"x\",\"y\":[\"muscle contraction\",\"sarcomere\",\"muscle myosin complex\",\"intracellular cyclic nucleotide activated cation channel complex\"],\"yaxis\":\"y\",\"type\":\"bar\"}],                        {\"template\":{\"data\":{\"bar\":[{\"error_x\":{\"color\":\"#2a3f5f\"},\"error_y\":{\"color\":\"#2a3f5f\"},\"marker\":{\"line\":{\"color\":\"#E5ECF6\",\"width\":0.5},\"pattern\":{\"fillmode\":\"overlay\",\"size\":10,\"solidity\":0.2}},\"type\":\"bar\"}],\"barpolar\":[{\"marker\":{\"line\":{\"color\":\"#E5ECF6\",\"width\":0.5},\"pattern\":{\"fillmode\":\"overlay\",\"size\":10,\"solidity\":0.2}},\"type\":\"barpolar\"}],\"carpet\":[{\"aaxis\":{\"endlinecolor\":\"#2a3f5f\",\"gridcolor\":\"white\",\"linecolor\":\"white\",\"minorgridcolor\":\"white\",\"startlinecolor\":\"#2a3f5f\"},\"baxis\":{\"endlinecolor\":\"#2a3f5f\",\"gridcolor\":\"white\",\"linecolor\":\"white\",\"minorgridcolor\":\"white\",\"startlinecolor\":\"#2a3f5f\"},\"type\":\"carpet\"}],\"choropleth\":[{\"colorbar\":{\"outlinewidth\":0,\"ticks\":\"\"},\"type\":\"choropleth\"}],\"contour\":[{\"colorbar\":{\"outlinewidth\":0,\"ticks\":\"\"},\"colorscale\":[[0.0,\"#0d0887\"],[0.1111111111111111,\"#46039f\"],[0.2222222222222222,\"#7201a8\"],[0.3333333333333333,\"#9c179e\"],[0.4444444444444444,\"#bd3786\"],[0.5555555555555556,\"#d8576b\"],[0.6666666666666666,\"#ed7953\"],[0.7777777777777778,\"#fb9f3a\"],[0.8888888888888888,\"#fdca26\"],[1.0,\"#f0f921\"]],\"type\":\"contour\"}],\"contourcarpet\":[{\"colorbar\":{\"outlinewidth\":0,\"ticks\":\"\"},\"type\":\"contourcarpet\"}],\"heatmap\":[{\"colorbar\":{\"outlinewidth\":0,\"ticks\":\"\"},\"colorscale\":[[0.0,\"#0d0887\"],[0.1111111111111111,\"#46039f\"],[0.2222222222222222,\"#7201a8\"],[0.3333333333333333,\"#9c179e\"],[0.4444444444444444,\"#bd3786\"],[0.5555555555555556,\"#d8576b\"],[0.6666666666666666,\"#ed7953\"],[0.7777777777777778,\"#fb9f3a\"],[0.8888888888888888,\"#fdca26\"],[1.0,\"#f0f921\"]],\"type\":\"heatmap\"}],\"heatmapgl\":[{\"colorbar\":{\"outlinewidth\":0,\"ticks\":\"\"},\"colorscale\":[[0.0,\"#0d0887\"],[0.1111111111111111,\"#46039f\"],[0.2222222222222222,\"#7201a8\"],[0.3333333333333333,\"#9c179e\"],[0.4444444444444444,\"#bd3786\"],[0.5555555555555556,\"#d8576b\"],[0.6666666666666666,\"#ed7953\"],[0.7777777777777778,\"#fb9f3a\"],[0.8888888888888888,\"#fdca26\"],[1.0,\"#f0f921\"]],\"type\":\"heatmapgl\"}],\"histogram\":[{\"marker\":{\"pattern\":{\"fillmode\":\"overlay\",\"size\":10,\"solidity\":0.2}},\"type\":\"histogram\"}],\"histogram2d\":[{\"colorbar\":{\"outlinewidth\":0,\"ticks\":\"\"},\"colorscale\":[[0.0,\"#0d0887\"],[0.1111111111111111,\"#46039f\"],[0.2222222222222222,\"#7201a8\"],[0.3333333333333333,\"#9c179e\"],[0.4444444444444444,\"#bd3786\"],[0.5555555555555556,\"#d8576b\"],[0.6666666666666666,\"#ed7953\"],[0.7777777777777778,\"#fb9f3a\"],[0.8888888888888888,\"#fdca26\"],[1.0,\"#f0f921\"]],\"type\":\"histogram2d\"}],\"histogram2dcontour\":[{\"colorbar\":{\"outlinewidth\":0,\"ticks\":\"\"},\"colorscale\":[[0.0,\"#0d0887\"],[0.1111111111111111,\"#46039f\"],[0.2222222222222222,\"#7201a8\"],[0.3333333333333333,\"#9c179e\"],[0.4444444444444444,\"#bd3786\"],[0.5555555555555556,\"#d8576b\"],[0.6666666666666666,\"#ed7953\"],[0.7777777777777778,\"#fb9f3a\"],[0.8888888888888888,\"#fdca26\"],[1.0,\"#f0f921\"]],\"type\":\"histogram2dcontour\"}],\"mesh3d\":[{\"colorbar\":{\"outlinewidth\":0,\"ticks\":\"\"},\"type\":\"mesh3d\"}],\"parcoords\":[{\"line\":{\"colorbar\":{\"outlinewidth\":0,\"ticks\":\"\"}},\"type\":\"parcoords\"}],\"pie\":[{\"automargin\":true,\"type\":\"pie\"}],\"scatter\":[{\"marker\":{\"colorbar\":{\"outlinewidth\":0,\"ticks\":\"\"}},\"type\":\"scatter\"}],\"scatter3d\":[{\"line\":{\"colorbar\":{\"outlinewidth\":0,\"ticks\":\"\"}},\"marker\":{\"colorbar\":{\"outlinewidth\":0,\"ticks\":\"\"}},\"type\":\"scatter3d\"}],\"scattercarpet\":[{\"marker\":{\"colorbar\":{\"outlinewidth\":0,\"ticks\":\"\"}},\"type\":\"scattercarpet\"}],\"scattergeo\":[{\"marker\":{\"colorbar\":{\"outlinewidth\":0,\"ticks\":\"\"}},\"type\":\"scattergeo\"}],\"scattergl\":[{\"marker\":{\"colorbar\":{\"outlinewidth\":0,\"ticks\":\"\"}},\"type\":\"scattergl\"}],\"scattermapbox\":[{\"marker\":{\"colorbar\":{\"outlinewidth\":0,\"ticks\":\"\"}},\"type\":\"scattermapbox\"}],\"scatterpolar\":[{\"marker\":{\"colorbar\":{\"outlinewidth\":0,\"ticks\":\"\"}},\"type\":\"scatterpolar\"}],\"scatterpolargl\":[{\"marker\":{\"colorbar\":{\"outlinewidth\":0,\"ticks\":\"\"}},\"type\":\"scatterpolargl\"}],\"scatterternary\":[{\"marker\":{\"colorbar\":{\"outlinewidth\":0,\"ticks\":\"\"}},\"type\":\"scatterternary\"}],\"surface\":[{\"colorbar\":{\"outlinewidth\":0,\"ticks\":\"\"},\"colorscale\":[[0.0,\"#0d0887\"],[0.1111111111111111,\"#46039f\"],[0.2222222222222222,\"#7201a8\"],[0.3333333333333333,\"#9c179e\"],[0.4444444444444444,\"#bd3786\"],[0.5555555555555556,\"#d8576b\"],[0.6666666666666666,\"#ed7953\"],[0.7777777777777778,\"#fb9f3a\"],[0.8888888888888888,\"#fdca26\"],[1.0,\"#f0f921\"]],\"type\":\"surface\"}],\"table\":[{\"cells\":{\"fill\":{\"color\":\"#EBF0F8\"},\"line\":{\"color\":\"white\"}},\"header\":{\"fill\":{\"color\":\"#C8D4E3\"},\"line\":{\"color\":\"white\"}},\"type\":\"table\"}]},\"layout\":{\"annotationdefaults\":{\"arrowcolor\":\"#2a3f5f\",\"arrowhead\":0,\"arrowwidth\":1},\"autotypenumbers\":\"strict\",\"coloraxis\":{\"colorbar\":{\"outlinewidth\":0,\"ticks\":\"\"}},\"colorscale\":{\"diverging\":[[0,\"#8e0152\"],[0.1,\"#c51b7d\"],[0.2,\"#de77ae\"],[0.3,\"#f1b6da\"],[0.4,\"#fde0ef\"],[0.5,\"#f7f7f7\"],[0.6,\"#e6f5d0\"],[0.7,\"#b8e186\"],[0.8,\"#7fbc41\"],[0.9,\"#4d9221\"],[1,\"#276419\"]],\"sequential\":[[0.0,\"#0d0887\"],[0.1111111111111111,\"#46039f\"],[0.2222222222222222,\"#7201a8\"],[0.3333333333333333,\"#9c179e\"],[0.4444444444444444,\"#bd3786\"],[0.5555555555555556,\"#d8576b\"],[0.6666666666666666,\"#ed7953\"],[0.7777777777777778,\"#fb9f3a\"],[0.8888888888888888,\"#fdca26\"],[1.0,\"#f0f921\"]],\"sequentialminus\":[[0.0,\"#0d0887\"],[0.1111111111111111,\"#46039f\"],[0.2222222222222222,\"#7201a8\"],[0.3333333333333333,\"#9c179e\"],[0.4444444444444444,\"#bd3786\"],[0.5555555555555556,\"#d8576b\"],[0.6666666666666666,\"#ed7953\"],[0.7777777777777778,\"#fb9f3a\"],[0.8888888888888888,\"#fdca26\"],[1.0,\"#f0f921\"]]},\"colorway\":[\"#636efa\",\"#EF553B\",\"#00cc96\",\"#ab63fa\",\"#FFA15A\",\"#19d3f3\",\"#FF6692\",\"#B6E880\",\"#FF97FF\",\"#FECB52\"],\"font\":{\"color\":\"#2a3f5f\"},\"geo\":{\"bgcolor\":\"white\",\"lakecolor\":\"white\",\"landcolor\":\"#E5ECF6\",\"showlakes\":true,\"showland\":true,\"subunitcolor\":\"white\"},\"hoverlabel\":{\"align\":\"left\"},\"hovermode\":\"closest\",\"mapbox\":{\"style\":\"light\"},\"paper_bgcolor\":\"white\",\"plot_bgcolor\":\"#E5ECF6\",\"polar\":{\"angularaxis\":{\"gridcolor\":\"white\",\"linecolor\":\"white\",\"ticks\":\"\"},\"bgcolor\":\"#E5ECF6\",\"radialaxis\":{\"gridcolor\":\"white\",\"linecolor\":\"white\",\"ticks\":\"\"}},\"scene\":{\"xaxis\":{\"backgroundcolor\":\"#E5ECF6\",\"gridcolor\":\"white\",\"gridwidth\":2,\"linecolor\":\"white\",\"showbackground\":true,\"ticks\":\"\",\"zerolinecolor\":\"white\"},\"yaxis\":{\"backgroundcolor\":\"#E5ECF6\",\"gridcolor\":\"white\",\"gridwidth\":2,\"linecolor\":\"white\",\"showbackground\":true,\"ticks\":\"\",\"zerolinecolor\":\"white\"},\"zaxis\":{\"backgroundcolor\":\"#E5ECF6\",\"gridcolor\":\"white\",\"gridwidth\":2,\"linecolor\":\"white\",\"showbackground\":true,\"ticks\":\"\",\"zerolinecolor\":\"white\"}},\"shapedefaults\":{\"line\":{\"color\":\"#2a3f5f\"}},\"ternary\":{\"aaxis\":{\"gridcolor\":\"white\",\"linecolor\":\"white\",\"ticks\":\"\"},\"baxis\":{\"gridcolor\":\"white\",\"linecolor\":\"white\",\"ticks\":\"\"},\"bgcolor\":\"#E5ECF6\",\"caxis\":{\"gridcolor\":\"white\",\"linecolor\":\"white\",\"ticks\":\"\"}},\"title\":{\"x\":0.05},\"xaxis\":{\"automargin\":true,\"gridcolor\":\"white\",\"linecolor\":\"white\",\"ticks\":\"\",\"title\":{\"standoff\":15},\"zerolinecolor\":\"white\",\"zerolinewidth\":2},\"yaxis\":{\"automargin\":true,\"gridcolor\":\"white\",\"linecolor\":\"white\",\"ticks\":\"\",\"title\":{\"standoff\":15},\"zerolinecolor\":\"white\",\"zerolinewidth\":2}}},\"xaxis\":{\"anchor\":\"y\",\"domain\":[0.0,1.0],\"title\":{\"text\":\"n_genes/n_go\"}},\"yaxis\":{\"anchor\":\"x\",\"domain\":[0.0,1.0],\"title\":{\"text\":\"term\"}},\"legend\":{\"tracegroupgap\":0},\"title\":{\"text\":\"human_cov_padj_rank\"},\"barmode\":\"relative\",\"plot_bgcolor\":\"rgba(0, 0, 0, 0)\"},                        {\"responsive\": true}                    ).then(function(){\n",
       "                            \n",
       "var gd = document.getElementById('73213bb4-7d64-4a4e-962a-d7bd8a4bce9d');\n",
       "var x = new MutationObserver(function (mutations, observer) {{\n",
       "        var display = window.getComputedStyle(gd).display;\n",
       "        if (!display || display === 'none') {{\n",
       "            console.log([gd, 'removed!']);\n",
       "            Plotly.purge(gd);\n",
       "            observer.disconnect();\n",
       "        }}\n",
       "}});\n",
       "\n",
       "// Listen for the removal of the full notebook cells\n",
       "var notebookContainer = gd.closest('#notebook-container');\n",
       "if (notebookContainer) {{\n",
       "    x.observe(notebookContainer, {childList: true});\n",
       "}}\n",
       "\n",
       "// Listen for the clearing of the current output cell\n",
       "var outputEl = gd.closest('.output');\n",
       "if (outputEl) {{\n",
       "    x.observe(outputEl, {childList: true});\n",
       "}}\n",
       "\n",
       "                        })                };                });            </script>        </div>"
      ]
     },
     "metadata": {},
     "output_type": "display_data"
    },
    {
     "data": {
      "application/vnd.plotly.v1+json": {
       "config": {
        "plotlyServerURL": "https://plot.ly"
       },
       "data": [
        {
         "alignmentgroup": "True",
         "customdata": [
          [
           [
            "Vmn1r41",
            "Vmn1r27",
            "Vmn1r200",
            "Vmn1r37",
            "Trpc2",
            "Vmn1r36",
            "Vmn1r199",
            "Vmn1r32",
            "Vmn1r198",
            "Vmn1r24",
            "Vmn1r51",
            "Vmn1r228",
            "Vmn1r30",
            "Vmn1r225"
           ]
          ],
          [
           [
            "Kcnj11",
            "Taar7d",
            "Vmn2r2",
            "H2-M10.2",
            "Vmn1r51",
            "Tenm2",
            "Vmn2r40",
            "Gjb5",
            "Il12rb1",
            "Vmn2r74",
            "Vmn2r20",
            "Vmn1r37",
            "Trpc2",
            "Vmn1r36",
            "Vmn1r32",
            "Vmn1r24",
            "Catsper3",
            "Chrne",
            "Vmn1r30",
            "Atp8b5",
            "H2-M10.6",
            "Vmn1r41",
            "Stac2",
            "Vmn1r27",
            "Cdh22",
            "Traf3ip3",
            "Vmn2r3",
            "Vil1",
            "Actn2",
            "Steap1",
            "Vmn1r228",
            "Stk32a",
            "Vmn1r225",
            "Art2b",
            "Mtnr1a",
            "Vmn1r200",
            "Vmn1r199",
            "Vmn1r198",
            "Esyt3",
            "Upk3a"
           ]
          ],
          [
           [
            "Vmn1r41",
            "Vmn1r27",
            "Vmn1r200",
            "Vmn1r37",
            "Vmn1r36",
            "Vmn1r199",
            "Vmn1r32",
            "Vmn1r198",
            "Vmn1r24",
            "Vmn1r51",
            "Vmn1r228",
            "Vmn1r30",
            "Vmn1r225"
           ]
          ],
          [
           [
            "Vmn1r27",
            "Vmn1r200",
            "Vmn1r37",
            "Vmn1r36",
            "Vmn1r199",
            "Vmn1r32",
            "Vmn1r198",
            "Vmn1r24",
            "Vmn1r228",
            "Vmn1r30",
            "Vmn1r225"
           ]
          ],
          [
           [
            "Calr4",
            "Fbln2",
            "Pla2g4b",
            "Cdh22",
            "Mbl2",
            "Vil1",
            "F12",
            "Actn2",
            "Esyt3",
            "Bglap3"
           ]
          ]
         ],
         "hovertemplate": "n_genes/n_go=%{x}<br>term=%{y}<br>study_genes=%{customdata[0]}<extra></extra>",
         "legendgroup": "",
         "marker": {
          "color": "#636efa",
          "pattern": {
           "shape": ""
          }
         },
         "name": "",
         "offsetgroup": "",
         "orientation": "h",
         "showlegend": false,
         "textposition": "auto",
         "type": "bar",
         "x": [
          0.1320754716981132,
          0.008036970062286517,
          0.12871287128712872,
          0.11827956989247312,
          0.015822784810126583
         ],
         "xaxis": "x",
         "y": [
          "response to pheromone",
          "plasma membrane",
          "pheromone receptor activity",
          "pheromone binding",
          "calcium ion binding"
         ],
         "yaxis": "y"
        }
       ],
       "layout": {
        "barmode": "relative",
        "legend": {
         "tracegroupgap": 0
        },
        "plot_bgcolor": "rgba(0, 0, 0, 0)",
        "template": {
         "data": {
          "bar": [
           {
            "error_x": {
             "color": "#2a3f5f"
            },
            "error_y": {
             "color": "#2a3f5f"
            },
            "marker": {
             "line": {
              "color": "#E5ECF6",
              "width": 0.5
             },
             "pattern": {
              "fillmode": "overlay",
              "size": 10,
              "solidity": 0.2
             }
            },
            "type": "bar"
           }
          ],
          "barpolar": [
           {
            "marker": {
             "line": {
              "color": "#E5ECF6",
              "width": 0.5
             },
             "pattern": {
              "fillmode": "overlay",
              "size": 10,
              "solidity": 0.2
             }
            },
            "type": "barpolar"
           }
          ],
          "carpet": [
           {
            "aaxis": {
             "endlinecolor": "#2a3f5f",
             "gridcolor": "white",
             "linecolor": "white",
             "minorgridcolor": "white",
             "startlinecolor": "#2a3f5f"
            },
            "baxis": {
             "endlinecolor": "#2a3f5f",
             "gridcolor": "white",
             "linecolor": "white",
             "minorgridcolor": "white",
             "startlinecolor": "#2a3f5f"
            },
            "type": "carpet"
           }
          ],
          "choropleth": [
           {
            "colorbar": {
             "outlinewidth": 0,
             "ticks": ""
            },
            "type": "choropleth"
           }
          ],
          "contour": [
           {
            "colorbar": {
             "outlinewidth": 0,
             "ticks": ""
            },
            "colorscale": [
             [
              0,
              "#0d0887"
             ],
             [
              0.1111111111111111,
              "#46039f"
             ],
             [
              0.2222222222222222,
              "#7201a8"
             ],
             [
              0.3333333333333333,
              "#9c179e"
             ],
             [
              0.4444444444444444,
              "#bd3786"
             ],
             [
              0.5555555555555556,
              "#d8576b"
             ],
             [
              0.6666666666666666,
              "#ed7953"
             ],
             [
              0.7777777777777778,
              "#fb9f3a"
             ],
             [
              0.8888888888888888,
              "#fdca26"
             ],
             [
              1,
              "#f0f921"
             ]
            ],
            "type": "contour"
           }
          ],
          "contourcarpet": [
           {
            "colorbar": {
             "outlinewidth": 0,
             "ticks": ""
            },
            "type": "contourcarpet"
           }
          ],
          "heatmap": [
           {
            "colorbar": {
             "outlinewidth": 0,
             "ticks": ""
            },
            "colorscale": [
             [
              0,
              "#0d0887"
             ],
             [
              0.1111111111111111,
              "#46039f"
             ],
             [
              0.2222222222222222,
              "#7201a8"
             ],
             [
              0.3333333333333333,
              "#9c179e"
             ],
             [
              0.4444444444444444,
              "#bd3786"
             ],
             [
              0.5555555555555556,
              "#d8576b"
             ],
             [
              0.6666666666666666,
              "#ed7953"
             ],
             [
              0.7777777777777778,
              "#fb9f3a"
             ],
             [
              0.8888888888888888,
              "#fdca26"
             ],
             [
              1,
              "#f0f921"
             ]
            ],
            "type": "heatmap"
           }
          ],
          "heatmapgl": [
           {
            "colorbar": {
             "outlinewidth": 0,
             "ticks": ""
            },
            "colorscale": [
             [
              0,
              "#0d0887"
             ],
             [
              0.1111111111111111,
              "#46039f"
             ],
             [
              0.2222222222222222,
              "#7201a8"
             ],
             [
              0.3333333333333333,
              "#9c179e"
             ],
             [
              0.4444444444444444,
              "#bd3786"
             ],
             [
              0.5555555555555556,
              "#d8576b"
             ],
             [
              0.6666666666666666,
              "#ed7953"
             ],
             [
              0.7777777777777778,
              "#fb9f3a"
             ],
             [
              0.8888888888888888,
              "#fdca26"
             ],
             [
              1,
              "#f0f921"
             ]
            ],
            "type": "heatmapgl"
           }
          ],
          "histogram": [
           {
            "marker": {
             "pattern": {
              "fillmode": "overlay",
              "size": 10,
              "solidity": 0.2
             }
            },
            "type": "histogram"
           }
          ],
          "histogram2d": [
           {
            "colorbar": {
             "outlinewidth": 0,
             "ticks": ""
            },
            "colorscale": [
             [
              0,
              "#0d0887"
             ],
             [
              0.1111111111111111,
              "#46039f"
             ],
             [
              0.2222222222222222,
              "#7201a8"
             ],
             [
              0.3333333333333333,
              "#9c179e"
             ],
             [
              0.4444444444444444,
              "#bd3786"
             ],
             [
              0.5555555555555556,
              "#d8576b"
             ],
             [
              0.6666666666666666,
              "#ed7953"
             ],
             [
              0.7777777777777778,
              "#fb9f3a"
             ],
             [
              0.8888888888888888,
              "#fdca26"
             ],
             [
              1,
              "#f0f921"
             ]
            ],
            "type": "histogram2d"
           }
          ],
          "histogram2dcontour": [
           {
            "colorbar": {
             "outlinewidth": 0,
             "ticks": ""
            },
            "colorscale": [
             [
              0,
              "#0d0887"
             ],
             [
              0.1111111111111111,
              "#46039f"
             ],
             [
              0.2222222222222222,
              "#7201a8"
             ],
             [
              0.3333333333333333,
              "#9c179e"
             ],
             [
              0.4444444444444444,
              "#bd3786"
             ],
             [
              0.5555555555555556,
              "#d8576b"
             ],
             [
              0.6666666666666666,
              "#ed7953"
             ],
             [
              0.7777777777777778,
              "#fb9f3a"
             ],
             [
              0.8888888888888888,
              "#fdca26"
             ],
             [
              1,
              "#f0f921"
             ]
            ],
            "type": "histogram2dcontour"
           }
          ],
          "mesh3d": [
           {
            "colorbar": {
             "outlinewidth": 0,
             "ticks": ""
            },
            "type": "mesh3d"
           }
          ],
          "parcoords": [
           {
            "line": {
             "colorbar": {
              "outlinewidth": 0,
              "ticks": ""
             }
            },
            "type": "parcoords"
           }
          ],
          "pie": [
           {
            "automargin": true,
            "type": "pie"
           }
          ],
          "scatter": [
           {
            "marker": {
             "colorbar": {
              "outlinewidth": 0,
              "ticks": ""
             }
            },
            "type": "scatter"
           }
          ],
          "scatter3d": [
           {
            "line": {
             "colorbar": {
              "outlinewidth": 0,
              "ticks": ""
             }
            },
            "marker": {
             "colorbar": {
              "outlinewidth": 0,
              "ticks": ""
             }
            },
            "type": "scatter3d"
           }
          ],
          "scattercarpet": [
           {
            "marker": {
             "colorbar": {
              "outlinewidth": 0,
              "ticks": ""
             }
            },
            "type": "scattercarpet"
           }
          ],
          "scattergeo": [
           {
            "marker": {
             "colorbar": {
              "outlinewidth": 0,
              "ticks": ""
             }
            },
            "type": "scattergeo"
           }
          ],
          "scattergl": [
           {
            "marker": {
             "colorbar": {
              "outlinewidth": 0,
              "ticks": ""
             }
            },
            "type": "scattergl"
           }
          ],
          "scattermapbox": [
           {
            "marker": {
             "colorbar": {
              "outlinewidth": 0,
              "ticks": ""
             }
            },
            "type": "scattermapbox"
           }
          ],
          "scatterpolar": [
           {
            "marker": {
             "colorbar": {
              "outlinewidth": 0,
              "ticks": ""
             }
            },
            "type": "scatterpolar"
           }
          ],
          "scatterpolargl": [
           {
            "marker": {
             "colorbar": {
              "outlinewidth": 0,
              "ticks": ""
             }
            },
            "type": "scatterpolargl"
           }
          ],
          "scatterternary": [
           {
            "marker": {
             "colorbar": {
              "outlinewidth": 0,
              "ticks": ""
             }
            },
            "type": "scatterternary"
           }
          ],
          "surface": [
           {
            "colorbar": {
             "outlinewidth": 0,
             "ticks": ""
            },
            "colorscale": [
             [
              0,
              "#0d0887"
             ],
             [
              0.1111111111111111,
              "#46039f"
             ],
             [
              0.2222222222222222,
              "#7201a8"
             ],
             [
              0.3333333333333333,
              "#9c179e"
             ],
             [
              0.4444444444444444,
              "#bd3786"
             ],
             [
              0.5555555555555556,
              "#d8576b"
             ],
             [
              0.6666666666666666,
              "#ed7953"
             ],
             [
              0.7777777777777778,
              "#fb9f3a"
             ],
             [
              0.8888888888888888,
              "#fdca26"
             ],
             [
              1,
              "#f0f921"
             ]
            ],
            "type": "surface"
           }
          ],
          "table": [
           {
            "cells": {
             "fill": {
              "color": "#EBF0F8"
             },
             "line": {
              "color": "white"
             }
            },
            "header": {
             "fill": {
              "color": "#C8D4E3"
             },
             "line": {
              "color": "white"
             }
            },
            "type": "table"
           }
          ]
         },
         "layout": {
          "annotationdefaults": {
           "arrowcolor": "#2a3f5f",
           "arrowhead": 0,
           "arrowwidth": 1
          },
          "autotypenumbers": "strict",
          "coloraxis": {
           "colorbar": {
            "outlinewidth": 0,
            "ticks": ""
           }
          },
          "colorscale": {
           "diverging": [
            [
             0,
             "#8e0152"
            ],
            [
             0.1,
             "#c51b7d"
            ],
            [
             0.2,
             "#de77ae"
            ],
            [
             0.3,
             "#f1b6da"
            ],
            [
             0.4,
             "#fde0ef"
            ],
            [
             0.5,
             "#f7f7f7"
            ],
            [
             0.6,
             "#e6f5d0"
            ],
            [
             0.7,
             "#b8e186"
            ],
            [
             0.8,
             "#7fbc41"
            ],
            [
             0.9,
             "#4d9221"
            ],
            [
             1,
             "#276419"
            ]
           ],
           "sequential": [
            [
             0,
             "#0d0887"
            ],
            [
             0.1111111111111111,
             "#46039f"
            ],
            [
             0.2222222222222222,
             "#7201a8"
            ],
            [
             0.3333333333333333,
             "#9c179e"
            ],
            [
             0.4444444444444444,
             "#bd3786"
            ],
            [
             0.5555555555555556,
             "#d8576b"
            ],
            [
             0.6666666666666666,
             "#ed7953"
            ],
            [
             0.7777777777777778,
             "#fb9f3a"
            ],
            [
             0.8888888888888888,
             "#fdca26"
            ],
            [
             1,
             "#f0f921"
            ]
           ],
           "sequentialminus": [
            [
             0,
             "#0d0887"
            ],
            [
             0.1111111111111111,
             "#46039f"
            ],
            [
             0.2222222222222222,
             "#7201a8"
            ],
            [
             0.3333333333333333,
             "#9c179e"
            ],
            [
             0.4444444444444444,
             "#bd3786"
            ],
            [
             0.5555555555555556,
             "#d8576b"
            ],
            [
             0.6666666666666666,
             "#ed7953"
            ],
            [
             0.7777777777777778,
             "#fb9f3a"
            ],
            [
             0.8888888888888888,
             "#fdca26"
            ],
            [
             1,
             "#f0f921"
            ]
           ]
          },
          "colorway": [
           "#636efa",
           "#EF553B",
           "#00cc96",
           "#ab63fa",
           "#FFA15A",
           "#19d3f3",
           "#FF6692",
           "#B6E880",
           "#FF97FF",
           "#FECB52"
          ],
          "font": {
           "color": "#2a3f5f"
          },
          "geo": {
           "bgcolor": "white",
           "lakecolor": "white",
           "landcolor": "#E5ECF6",
           "showlakes": true,
           "showland": true,
           "subunitcolor": "white"
          },
          "hoverlabel": {
           "align": "left"
          },
          "hovermode": "closest",
          "mapbox": {
           "style": "light"
          },
          "paper_bgcolor": "white",
          "plot_bgcolor": "#E5ECF6",
          "polar": {
           "angularaxis": {
            "gridcolor": "white",
            "linecolor": "white",
            "ticks": ""
           },
           "bgcolor": "#E5ECF6",
           "radialaxis": {
            "gridcolor": "white",
            "linecolor": "white",
            "ticks": ""
           }
          },
          "scene": {
           "xaxis": {
            "backgroundcolor": "#E5ECF6",
            "gridcolor": "white",
            "gridwidth": 2,
            "linecolor": "white",
            "showbackground": true,
            "ticks": "",
            "zerolinecolor": "white"
           },
           "yaxis": {
            "backgroundcolor": "#E5ECF6",
            "gridcolor": "white",
            "gridwidth": 2,
            "linecolor": "white",
            "showbackground": true,
            "ticks": "",
            "zerolinecolor": "white"
           },
           "zaxis": {
            "backgroundcolor": "#E5ECF6",
            "gridcolor": "white",
            "gridwidth": 2,
            "linecolor": "white",
            "showbackground": true,
            "ticks": "",
            "zerolinecolor": "white"
           }
          },
          "shapedefaults": {
           "line": {
            "color": "#2a3f5f"
           }
          },
          "ternary": {
           "aaxis": {
            "gridcolor": "white",
            "linecolor": "white",
            "ticks": ""
           },
           "baxis": {
            "gridcolor": "white",
            "linecolor": "white",
            "ticks": ""
           },
           "bgcolor": "#E5ECF6",
           "caxis": {
            "gridcolor": "white",
            "linecolor": "white",
            "ticks": ""
           }
          },
          "title": {
           "x": 0.05
          },
          "xaxis": {
           "automargin": true,
           "gridcolor": "white",
           "linecolor": "white",
           "ticks": "",
           "title": {
            "standoff": 15
           },
           "zerolinecolor": "white",
           "zerolinewidth": 2
          },
          "yaxis": {
           "automargin": true,
           "gridcolor": "white",
           "linecolor": "white",
           "ticks": "",
           "title": {
            "standoff": 15
           },
           "zerolinecolor": "white",
           "zerolinewidth": 2
          }
         }
        },
        "title": {
         "text": "bkRNA_Rank"
        },
        "xaxis": {
         "anchor": "y",
         "domain": [
          0,
          1
         ],
         "title": {
          "text": "n_genes/n_go"
         }
        },
        "yaxis": {
         "anchor": "x",
         "domain": [
          0,
          1
         ],
         "title": {
          "text": "term"
         }
        }
       }
      },
      "text/html": [
       "<div>                            <div id=\"9be53a07-63c8-4a44-8699-10dd5534d0a9\" class=\"plotly-graph-div\" style=\"height:525px; width:100%;\"></div>            <script type=\"text/javascript\">                require([\"plotly\"], function(Plotly) {                    window.PLOTLYENV=window.PLOTLYENV || {};                                    if (document.getElementById(\"9be53a07-63c8-4a44-8699-10dd5534d0a9\")) {                    Plotly.newPlot(                        \"9be53a07-63c8-4a44-8699-10dd5534d0a9\",                        [{\"alignmentgroup\":\"True\",\"customdata\":[[[\"Vmn1r41\",\"Vmn1r27\",\"Vmn1r200\",\"Vmn1r37\",\"Trpc2\",\"Vmn1r36\",\"Vmn1r199\",\"Vmn1r32\",\"Vmn1r198\",\"Vmn1r24\",\"Vmn1r51\",\"Vmn1r228\",\"Vmn1r30\",\"Vmn1r225\"]],[[\"Kcnj11\",\"Taar7d\",\"Vmn2r2\",\"H2-M10.2\",\"Vmn1r51\",\"Tenm2\",\"Vmn2r40\",\"Gjb5\",\"Il12rb1\",\"Vmn2r74\",\"Vmn2r20\",\"Vmn1r37\",\"Trpc2\",\"Vmn1r36\",\"Vmn1r32\",\"Vmn1r24\",\"Catsper3\",\"Chrne\",\"Vmn1r30\",\"Atp8b5\",\"H2-M10.6\",\"Vmn1r41\",\"Stac2\",\"Vmn1r27\",\"Cdh22\",\"Traf3ip3\",\"Vmn2r3\",\"Vil1\",\"Actn2\",\"Steap1\",\"Vmn1r228\",\"Stk32a\",\"Vmn1r225\",\"Art2b\",\"Mtnr1a\",\"Vmn1r200\",\"Vmn1r199\",\"Vmn1r198\",\"Esyt3\",\"Upk3a\"]],[[\"Vmn1r41\",\"Vmn1r27\",\"Vmn1r200\",\"Vmn1r37\",\"Vmn1r36\",\"Vmn1r199\",\"Vmn1r32\",\"Vmn1r198\",\"Vmn1r24\",\"Vmn1r51\",\"Vmn1r228\",\"Vmn1r30\",\"Vmn1r225\"]],[[\"Vmn1r27\",\"Vmn1r200\",\"Vmn1r37\",\"Vmn1r36\",\"Vmn1r199\",\"Vmn1r32\",\"Vmn1r198\",\"Vmn1r24\",\"Vmn1r228\",\"Vmn1r30\",\"Vmn1r225\"]],[[\"Calr4\",\"Fbln2\",\"Pla2g4b\",\"Cdh22\",\"Mbl2\",\"Vil1\",\"F12\",\"Actn2\",\"Esyt3\",\"Bglap3\"]]],\"hovertemplate\":\"n_genes/n_go=%{x}<br>term=%{y}<br>study_genes=%{customdata[0]}<extra></extra>\",\"legendgroup\":\"\",\"marker\":{\"color\":\"#636efa\",\"pattern\":{\"shape\":\"\"}},\"name\":\"\",\"offsetgroup\":\"\",\"orientation\":\"h\",\"showlegend\":false,\"textposition\":\"auto\",\"x\":[0.1320754716981132,0.008036970062286517,0.12871287128712872,0.11827956989247312,0.015822784810126583],\"xaxis\":\"x\",\"y\":[\"response to pheromone\",\"plasma membrane\",\"pheromone receptor activity\",\"pheromone binding\",\"calcium ion binding\"],\"yaxis\":\"y\",\"type\":\"bar\"}],                        {\"template\":{\"data\":{\"bar\":[{\"error_x\":{\"color\":\"#2a3f5f\"},\"error_y\":{\"color\":\"#2a3f5f\"},\"marker\":{\"line\":{\"color\":\"#E5ECF6\",\"width\":0.5},\"pattern\":{\"fillmode\":\"overlay\",\"size\":10,\"solidity\":0.2}},\"type\":\"bar\"}],\"barpolar\":[{\"marker\":{\"line\":{\"color\":\"#E5ECF6\",\"width\":0.5},\"pattern\":{\"fillmode\":\"overlay\",\"size\":10,\"solidity\":0.2}},\"type\":\"barpolar\"}],\"carpet\":[{\"aaxis\":{\"endlinecolor\":\"#2a3f5f\",\"gridcolor\":\"white\",\"linecolor\":\"white\",\"minorgridcolor\":\"white\",\"startlinecolor\":\"#2a3f5f\"},\"baxis\":{\"endlinecolor\":\"#2a3f5f\",\"gridcolor\":\"white\",\"linecolor\":\"white\",\"minorgridcolor\":\"white\",\"startlinecolor\":\"#2a3f5f\"},\"type\":\"carpet\"}],\"choropleth\":[{\"colorbar\":{\"outlinewidth\":0,\"ticks\":\"\"},\"type\":\"choropleth\"}],\"contour\":[{\"colorbar\":{\"outlinewidth\":0,\"ticks\":\"\"},\"colorscale\":[[0.0,\"#0d0887\"],[0.1111111111111111,\"#46039f\"],[0.2222222222222222,\"#7201a8\"],[0.3333333333333333,\"#9c179e\"],[0.4444444444444444,\"#bd3786\"],[0.5555555555555556,\"#d8576b\"],[0.6666666666666666,\"#ed7953\"],[0.7777777777777778,\"#fb9f3a\"],[0.8888888888888888,\"#fdca26\"],[1.0,\"#f0f921\"]],\"type\":\"contour\"}],\"contourcarpet\":[{\"colorbar\":{\"outlinewidth\":0,\"ticks\":\"\"},\"type\":\"contourcarpet\"}],\"heatmap\":[{\"colorbar\":{\"outlinewidth\":0,\"ticks\":\"\"},\"colorscale\":[[0.0,\"#0d0887\"],[0.1111111111111111,\"#46039f\"],[0.2222222222222222,\"#7201a8\"],[0.3333333333333333,\"#9c179e\"],[0.4444444444444444,\"#bd3786\"],[0.5555555555555556,\"#d8576b\"],[0.6666666666666666,\"#ed7953\"],[0.7777777777777778,\"#fb9f3a\"],[0.8888888888888888,\"#fdca26\"],[1.0,\"#f0f921\"]],\"type\":\"heatmap\"}],\"heatmapgl\":[{\"colorbar\":{\"outlinewidth\":0,\"ticks\":\"\"},\"colorscale\":[[0.0,\"#0d0887\"],[0.1111111111111111,\"#46039f\"],[0.2222222222222222,\"#7201a8\"],[0.3333333333333333,\"#9c179e\"],[0.4444444444444444,\"#bd3786\"],[0.5555555555555556,\"#d8576b\"],[0.6666666666666666,\"#ed7953\"],[0.7777777777777778,\"#fb9f3a\"],[0.8888888888888888,\"#fdca26\"],[1.0,\"#f0f921\"]],\"type\":\"heatmapgl\"}],\"histogram\":[{\"marker\":{\"pattern\":{\"fillmode\":\"overlay\",\"size\":10,\"solidity\":0.2}},\"type\":\"histogram\"}],\"histogram2d\":[{\"colorbar\":{\"outlinewidth\":0,\"ticks\":\"\"},\"colorscale\":[[0.0,\"#0d0887\"],[0.1111111111111111,\"#46039f\"],[0.2222222222222222,\"#7201a8\"],[0.3333333333333333,\"#9c179e\"],[0.4444444444444444,\"#bd3786\"],[0.5555555555555556,\"#d8576b\"],[0.6666666666666666,\"#ed7953\"],[0.7777777777777778,\"#fb9f3a\"],[0.8888888888888888,\"#fdca26\"],[1.0,\"#f0f921\"]],\"type\":\"histogram2d\"}],\"histogram2dcontour\":[{\"colorbar\":{\"outlinewidth\":0,\"ticks\":\"\"},\"colorscale\":[[0.0,\"#0d0887\"],[0.1111111111111111,\"#46039f\"],[0.2222222222222222,\"#7201a8\"],[0.3333333333333333,\"#9c179e\"],[0.4444444444444444,\"#bd3786\"],[0.5555555555555556,\"#d8576b\"],[0.6666666666666666,\"#ed7953\"],[0.7777777777777778,\"#fb9f3a\"],[0.8888888888888888,\"#fdca26\"],[1.0,\"#f0f921\"]],\"type\":\"histogram2dcontour\"}],\"mesh3d\":[{\"colorbar\":{\"outlinewidth\":0,\"ticks\":\"\"},\"type\":\"mesh3d\"}],\"parcoords\":[{\"line\":{\"colorbar\":{\"outlinewidth\":0,\"ticks\":\"\"}},\"type\":\"parcoords\"}],\"pie\":[{\"automargin\":true,\"type\":\"pie\"}],\"scatter\":[{\"marker\":{\"colorbar\":{\"outlinewidth\":0,\"ticks\":\"\"}},\"type\":\"scatter\"}],\"scatter3d\":[{\"line\":{\"colorbar\":{\"outlinewidth\":0,\"ticks\":\"\"}},\"marker\":{\"colorbar\":{\"outlinewidth\":0,\"ticks\":\"\"}},\"type\":\"scatter3d\"}],\"scattercarpet\":[{\"marker\":{\"colorbar\":{\"outlinewidth\":0,\"ticks\":\"\"}},\"type\":\"scattercarpet\"}],\"scattergeo\":[{\"marker\":{\"colorbar\":{\"outlinewidth\":0,\"ticks\":\"\"}},\"type\":\"scattergeo\"}],\"scattergl\":[{\"marker\":{\"colorbar\":{\"outlinewidth\":0,\"ticks\":\"\"}},\"type\":\"scattergl\"}],\"scattermapbox\":[{\"marker\":{\"colorbar\":{\"outlinewidth\":0,\"ticks\":\"\"}},\"type\":\"scattermapbox\"}],\"scatterpolar\":[{\"marker\":{\"colorbar\":{\"outlinewidth\":0,\"ticks\":\"\"}},\"type\":\"scatterpolar\"}],\"scatterpolargl\":[{\"marker\":{\"colorbar\":{\"outlinewidth\":0,\"ticks\":\"\"}},\"type\":\"scatterpolargl\"}],\"scatterternary\":[{\"marker\":{\"colorbar\":{\"outlinewidth\":0,\"ticks\":\"\"}},\"type\":\"scatterternary\"}],\"surface\":[{\"colorbar\":{\"outlinewidth\":0,\"ticks\":\"\"},\"colorscale\":[[0.0,\"#0d0887\"],[0.1111111111111111,\"#46039f\"],[0.2222222222222222,\"#7201a8\"],[0.3333333333333333,\"#9c179e\"],[0.4444444444444444,\"#bd3786\"],[0.5555555555555556,\"#d8576b\"],[0.6666666666666666,\"#ed7953\"],[0.7777777777777778,\"#fb9f3a\"],[0.8888888888888888,\"#fdca26\"],[1.0,\"#f0f921\"]],\"type\":\"surface\"}],\"table\":[{\"cells\":{\"fill\":{\"color\":\"#EBF0F8\"},\"line\":{\"color\":\"white\"}},\"header\":{\"fill\":{\"color\":\"#C8D4E3\"},\"line\":{\"color\":\"white\"}},\"type\":\"table\"}]},\"layout\":{\"annotationdefaults\":{\"arrowcolor\":\"#2a3f5f\",\"arrowhead\":0,\"arrowwidth\":1},\"autotypenumbers\":\"strict\",\"coloraxis\":{\"colorbar\":{\"outlinewidth\":0,\"ticks\":\"\"}},\"colorscale\":{\"diverging\":[[0,\"#8e0152\"],[0.1,\"#c51b7d\"],[0.2,\"#de77ae\"],[0.3,\"#f1b6da\"],[0.4,\"#fde0ef\"],[0.5,\"#f7f7f7\"],[0.6,\"#e6f5d0\"],[0.7,\"#b8e186\"],[0.8,\"#7fbc41\"],[0.9,\"#4d9221\"],[1,\"#276419\"]],\"sequential\":[[0.0,\"#0d0887\"],[0.1111111111111111,\"#46039f\"],[0.2222222222222222,\"#7201a8\"],[0.3333333333333333,\"#9c179e\"],[0.4444444444444444,\"#bd3786\"],[0.5555555555555556,\"#d8576b\"],[0.6666666666666666,\"#ed7953\"],[0.7777777777777778,\"#fb9f3a\"],[0.8888888888888888,\"#fdca26\"],[1.0,\"#f0f921\"]],\"sequentialminus\":[[0.0,\"#0d0887\"],[0.1111111111111111,\"#46039f\"],[0.2222222222222222,\"#7201a8\"],[0.3333333333333333,\"#9c179e\"],[0.4444444444444444,\"#bd3786\"],[0.5555555555555556,\"#d8576b\"],[0.6666666666666666,\"#ed7953\"],[0.7777777777777778,\"#fb9f3a\"],[0.8888888888888888,\"#fdca26\"],[1.0,\"#f0f921\"]]},\"colorway\":[\"#636efa\",\"#EF553B\",\"#00cc96\",\"#ab63fa\",\"#FFA15A\",\"#19d3f3\",\"#FF6692\",\"#B6E880\",\"#FF97FF\",\"#FECB52\"],\"font\":{\"color\":\"#2a3f5f\"},\"geo\":{\"bgcolor\":\"white\",\"lakecolor\":\"white\",\"landcolor\":\"#E5ECF6\",\"showlakes\":true,\"showland\":true,\"subunitcolor\":\"white\"},\"hoverlabel\":{\"align\":\"left\"},\"hovermode\":\"closest\",\"mapbox\":{\"style\":\"light\"},\"paper_bgcolor\":\"white\",\"plot_bgcolor\":\"#E5ECF6\",\"polar\":{\"angularaxis\":{\"gridcolor\":\"white\",\"linecolor\":\"white\",\"ticks\":\"\"},\"bgcolor\":\"#E5ECF6\",\"radialaxis\":{\"gridcolor\":\"white\",\"linecolor\":\"white\",\"ticks\":\"\"}},\"scene\":{\"xaxis\":{\"backgroundcolor\":\"#E5ECF6\",\"gridcolor\":\"white\",\"gridwidth\":2,\"linecolor\":\"white\",\"showbackground\":true,\"ticks\":\"\",\"zerolinecolor\":\"white\"},\"yaxis\":{\"backgroundcolor\":\"#E5ECF6\",\"gridcolor\":\"white\",\"gridwidth\":2,\"linecolor\":\"white\",\"showbackground\":true,\"ticks\":\"\",\"zerolinecolor\":\"white\"},\"zaxis\":{\"backgroundcolor\":\"#E5ECF6\",\"gridcolor\":\"white\",\"gridwidth\":2,\"linecolor\":\"white\",\"showbackground\":true,\"ticks\":\"\",\"zerolinecolor\":\"white\"}},\"shapedefaults\":{\"line\":{\"color\":\"#2a3f5f\"}},\"ternary\":{\"aaxis\":{\"gridcolor\":\"white\",\"linecolor\":\"white\",\"ticks\":\"\"},\"baxis\":{\"gridcolor\":\"white\",\"linecolor\":\"white\",\"ticks\":\"\"},\"bgcolor\":\"#E5ECF6\",\"caxis\":{\"gridcolor\":\"white\",\"linecolor\":\"white\",\"ticks\":\"\"}},\"title\":{\"x\":0.05},\"xaxis\":{\"automargin\":true,\"gridcolor\":\"white\",\"linecolor\":\"white\",\"ticks\":\"\",\"title\":{\"standoff\":15},\"zerolinecolor\":\"white\",\"zerolinewidth\":2},\"yaxis\":{\"automargin\":true,\"gridcolor\":\"white\",\"linecolor\":\"white\",\"ticks\":\"\",\"title\":{\"standoff\":15},\"zerolinecolor\":\"white\",\"zerolinewidth\":2}}},\"xaxis\":{\"anchor\":\"y\",\"domain\":[0.0,1.0],\"title\":{\"text\":\"n_genes/n_go\"}},\"yaxis\":{\"anchor\":\"x\",\"domain\":[0.0,1.0],\"title\":{\"text\":\"term\"}},\"legend\":{\"tracegroupgap\":0},\"title\":{\"text\":\"bkRNA_Rank\"},\"barmode\":\"relative\",\"plot_bgcolor\":\"rgba(0, 0, 0, 0)\"},                        {\"responsive\": true}                    ).then(function(){\n",
       "                            \n",
       "var gd = document.getElementById('9be53a07-63c8-4a44-8699-10dd5534d0a9');\n",
       "var x = new MutationObserver(function (mutations, observer) {{\n",
       "        var display = window.getComputedStyle(gd).display;\n",
       "        if (!display || display === 'none') {{\n",
       "            console.log([gd, 'removed!']);\n",
       "            Plotly.purge(gd);\n",
       "            observer.disconnect();\n",
       "        }}\n",
       "}});\n",
       "\n",
       "// Listen for the removal of the full notebook cells\n",
       "var notebookContainer = gd.closest('#notebook-container');\n",
       "if (notebookContainer) {{\n",
       "    x.observe(notebookContainer, {childList: true});\n",
       "}}\n",
       "\n",
       "// Listen for the clearing of the current output cell\n",
       "var outputEl = gd.closest('.output');\n",
       "if (outputEl) {{\n",
       "    x.observe(outputEl, {childList: true});\n",
       "}}\n",
       "\n",
       "                        })                };                });            </script>        </div>"
      ]
     },
     "metadata": {},
     "output_type": "display_data"
    },
    {
     "data": {
      "application/vnd.plotly.v1+json": {
       "config": {
        "plotlyServerURL": "https://plot.ly"
       },
       "data": [
        {
         "alignmentgroup": "True",
         "customdata": [
          [
           [
            "Mybbp1a",
            "Hmga1",
            "Satb1",
            "Atf4",
            "Kdm1a",
            "Ddit3",
            "Elk1",
            "Hif1a",
            "Tfdp1",
            "Thap1",
            "Hira",
            "Zscan21",
            "Tcf3",
            "Erf",
            "Etv4",
            "Srebf1",
            "Pitx1",
            "Srebf2",
            "Gpbp1",
            "Dmrta2",
            "Zfp786",
            "Cebpa",
            "Mitf",
            "Cebpb",
            "Asxl3",
            "Sox4",
            "Zfp341",
            "E2f7",
            "Fosb",
            "Zfp280d",
            "Foxo6",
            "Ybx1",
            "Pbx2",
            "Ss18l1",
            "Egr1",
            "Arnt2",
            "Zfp90",
            "Olig2",
            "Foxk2",
            "Smad2",
            "Nfe2l3",
            "Smarca4",
            "Pgr",
            "Tcfl5",
            "Bach1",
            "Nfil3",
            "Maff",
            "Stat2",
            "Zfp628",
            "Hes6",
            "Hmg20b",
            "E2f5",
            "Nfya",
            "Tbr1"
           ]
          ],
          [
           [
            "Zfp296",
            "Satb1",
            "Atf4",
            "Rcor1",
            "Tbl1x",
            "Kdm1a",
            "Ddit3",
            "Elk1",
            "Hif1a",
            "Tfdp1",
            "Thap1",
            "Zfp449",
            "Tcf20",
            "Zscan21",
            "Zfp644",
            "Tcf3",
            "Erf",
            "Etv4",
            "Srebf1",
            "Pitx1",
            "Srebf2",
            "Zfp668",
            "Sox11",
            "Dmrta2",
            "Cebpa",
            "Mitf",
            "Cebpb",
            "Zfp639",
            "Cebpg",
            "E2f7",
            "Fosb",
            "Foxo6",
            "Sall3",
            "Pbx2",
            "Pcgf3",
            "Egr1",
            "Arnt2",
            "Sox30",
            "Taf6",
            "Ctnnb1",
            "Foxk2",
            "Nfe2l3",
            "Smarca4",
            "Bach1",
            "Maff",
            "Elmsan1",
            "Stat2",
            "Zfp628",
            "Tsc22d4",
            "Hes6",
            "Hmgb3",
            "E2f5",
            "Nfya",
            "Tbr1"
           ]
          ],
          [
           [
            "Mybbp1a",
            "Hmga1",
            "Atf4",
            "Tbl1x",
            "Drap1",
            "Kdm1a",
            "Ddit3",
            "Elk1",
            "Hif1a",
            "Tfdp1",
            "Tcea1",
            "Tcea2",
            "Tcf20",
            "Zscan21",
            "Tcf3",
            "Srebf1",
            "Etv4",
            "Pitx1",
            "Srebf2",
            "Sox11",
            "Gpbp1",
            "Cebpa",
            "Mitf",
            "Cebpb",
            "Zfp639",
            "Cebpg",
            "Sox4",
            "E2f7",
            "Fosb",
            "Ybx1",
            "Pbx2",
            "Ss18l1",
            "Egr1",
            "Arnt2",
            "Sox30",
            "Ctnnb1",
            "Npm1",
            "Foxk2",
            "Smad2",
            "Smarca4",
            "Pgr",
            "Bach1",
            "Maff",
            "Rnf4",
            "Stat2",
            "Asxl3",
            "Nfya",
            "Tbr1"
           ]
          ],
          [
           [
            "Zfp296",
            "Satb1",
            "Atf4",
            "Kdm1a",
            "Ddit3",
            "Hif1a",
            "Insm2",
            "Hnrnpab",
            "Thap1",
            "Chd4",
            "Id1",
            "Id3",
            "Tdg",
            "Zfp41",
            "Tcf3",
            "Erf",
            "Srebf1",
            "Srebf2",
            "Zfp81",
            "Sox11",
            "Cebpa",
            "Mitf",
            "Cebpb",
            "2610008E11Rik",
            "E2f7",
            "Ybx1",
            "Jarid2",
            "Egr1",
            "Sox30",
            "Zfp90",
            "Olig2",
            "Ctnnb1",
            "Nfe2l3",
            "Smarca4",
            "Tcfl5",
            "Bach1",
            "Nfil3",
            "Cbfa2t3",
            "Tsc22d4",
            "Hes6",
            "Insm1",
            "Zfp668",
            "Drap1"
           ]
          ],
          [
           [
            "Hmga1",
            "Atf4",
            "Ddit3",
            "Elk1",
            "Hif1a",
            "Tfam",
            "Tfdp1",
            "Tcea1",
            "Hnrnpab",
            "Chd4",
            "Zscan21",
            "Tcf3",
            "Srebf1",
            "Etv4",
            "Srebf2",
            "Sox11",
            "Gpbp1",
            "Cebpa",
            "Mitf",
            "Cebpb",
            "Sox4",
            "Scand1",
            "Ss18l1",
            "Egr1",
            "Arnt2",
            "Zfp90",
            "Taf6",
            "Ctnnb1",
            "Npm1",
            "Foxk2",
            "Smad2",
            "Smarca4",
            "Pgr",
            "Nfil3",
            "Rnf4",
            "Nfya",
            "Tbr1"
           ]
          ],
          [
           [
            "Mybbp1a",
            "Hmga1",
            "Rcor1",
            "Kdm1a",
            "Ddit3",
            "Insm2",
            "Chd4",
            "Id1",
            "Id3",
            "Pitx1",
            "Cebpa",
            "Cebpb",
            "Zfp639",
            "Jarid2",
            "Zfp90",
            "Ctnnb1",
            "Foxk2",
            "Smad2",
            "Smarca4",
            "Elmsan1",
            "Nfil3",
            "Cbfa2t3",
            "Tbl1x",
            "Tbr1"
           ]
          ],
          [
           [
            "Hmga1",
            "Ctnnb1",
            "Sox11",
            "Hira",
            "Nfil3",
            "Cbfa2t3",
            "Gpbp1",
            "Tcea1",
            "Tcea2",
            "Thap1",
            "Nfya",
            "Mitf"
           ]
          ],
          [
           [
            "Cebpb",
            "Ctnnb1",
            "Atf4",
            "Smarca4",
            "Fosb",
            "Nfil3",
            "Kdm1a",
            "Tcf3",
            "Gtf2b",
            "Srebf1",
            "Etv4",
            "Drap1"
           ]
          ],
          [
           [
            "Kdm1a",
            "Elk1",
            "Hif1a",
            "Id1",
            "Id3",
            "Zscan21",
            "Zfp41",
            "Tcf3",
            "Erf",
            "Etv4",
            "Sox11",
            "Mitf",
            "Cebpb",
            "Sox4",
            "Jarid2",
            "Ctnnb1",
            "Smad2",
            "Cbfa2t3",
            "Hes6",
            "Insm1"
           ]
          ],
          [
           [
            "Cebpb",
            "Ctnnb1",
            "Smad2",
            "Atf4",
            "Rps3",
            "Nfil3",
            "Tcf3",
            "Hif1a",
            "Etv4",
            "Egr1",
            "Mitf",
            "Sox11",
            "Id1",
            "Cebpa",
            "Id3"
           ]
          ],
          [
           [
            "Mybbp1a",
            "Cebpg",
            "Npm1",
            "Satb1",
            "Smarca4",
            "Jarid2",
            "Hmg20b",
            "Chd4",
            "Tbr1"
           ]
          ],
          [
           [
            "Tdg",
            "Satb1",
            "Rcor1",
            "Hira",
            "Smarca4",
            "Kdm1a",
            "Jarid2",
            "Ss18l1",
            "Hmg20b",
            "Chd4"
           ]
          ],
          [
           [
            "Ctnnb1",
            "Sox4",
            "Smarca4",
            "Ddit3",
            "Tcf3",
            "Elk1",
            "Gtf2b",
            "Tbr1"
           ]
          ],
          [
           [
            "Cebpg",
            "Kdm1a",
            "Ddit3",
            "Hes6",
            "Id1",
            "Id3"
           ]
          ],
          [
           [
            "Rcor1",
            "Tbl1x",
            "Elmsan1",
            "Chd4",
            "Tbr1"
           ]
          ],
          [
           [
            "Mybbp1a",
            "Atf4",
            "Nfil3",
            "Egr1",
            "Nfya",
            "Id1",
            "Id3"
           ]
          ],
          [
           [
            "Hmga1",
            "Ctnnb1",
            "Npm1",
            "Sox4",
            "Smad2",
            "E2f7",
            "Cbfa2t3",
            "Insm1",
            "Cebpa",
            "Taf6"
           ]
          ],
          [
           [
            "Smarca4",
            "Hif1a",
            "Srebf1",
            "Srebf2",
            "Egr1"
           ]
          ],
          [
           [
            "Ctnnb1",
            "Npm1",
            "Smad2",
            "Rcor1",
            "Hif1a",
            "Sox11",
            "Chd4",
            "Id1",
            "Id3"
           ]
          ],
          [
           [
            "Maff",
            "Egr1",
            "Hmg20b",
            "Sox11",
            "Dmrta2"
           ]
          ],
          [
           [
            "Elk1",
            "Rnf4",
            "Egr1",
            "Kdm1a"
           ]
          ],
          [
           [
            "Mybbp1a",
            "Atf4",
            "Egr1",
            "Id1",
            "Id3"
           ]
          ],
          [
           [
            "Cebpb",
            "Ddit3",
            "Atf4"
           ]
          ],
          [
           [
            "Dmrta2",
            "Ctnnb1",
            "Hif1a",
            "Kdm1a"
           ]
          ],
          [
           [
            "Atf4",
            "Nfil3",
            "Srebf1",
            "Id1",
            "Id3"
           ]
          ],
          [
           [
            "Cebpb",
            "Olig2",
            "Ctnnb1",
            "Insm1",
            "Insm2",
            "Sox11",
            "Tbr1"
           ]
          ],
          [
           [
            "Ctnnb1",
            "Ybx1",
            "Hif1a",
            "Hnrnpab",
            "Hmg20b",
            "Insm1",
            "Mitf",
            "Tbr1"
           ]
          ],
          [
           [
            "Cebpb",
            "Ctnnb1",
            "Mitf"
           ]
          ],
          [
           [
            "Cebpa",
            "Kdm1a",
            "Cbfa2t3"
           ]
          ],
          [
           [
            "Cebpb",
            "Atf4"
           ]
          ],
          [
           [
            "Smarca4",
            "Ctnnb1"
           ]
          ],
          [
           [
            "Ctnnb1",
            "Stat2",
            "Hif1a",
            "Jarid2",
            "Mitf",
            "Cebpa"
           ]
          ],
          [
           [
            "Smarca4",
            "Ctnnb1",
            "Tbr1"
           ]
          ],
          [
           [
            "Hif1a",
            "Egr1"
           ]
          ],
          [
           [
            "Ctnnb1",
            "Smarca4",
            "Ddit3",
            "Kdm1a",
            "Tcf3"
           ]
          ],
          [
           [
            "Sox11",
            "Pitx1",
            "Sox4",
            "Smad2"
           ]
          ],
          [
           [
            "Ctnnb1",
            "Npm1",
            "Sox4",
            "Smarca4",
            "Pgr",
            "Insm1",
            "Hif1a",
            "Arnt2",
            "Sox11"
           ]
          ],
          [
           [
            "Tbpl1",
            "Gtf2b",
            "Taf6"
           ]
          ],
          [
           [
            "Sox11",
            "Sox4"
           ]
          ],
          [
           [
            "Cebpb",
            "Atf4"
           ]
          ],
          [
           [
            "Olig2",
            "Zscan21",
            "Zfp41",
            "Kdm1a",
            "Insm1",
            "Jarid2",
            "Pitx1",
            "Mitf",
            "Hes6",
            "Sox11",
            "Id1",
            "Cebpa",
            "Id3"
           ]
          ],
          [
           [
            "Cebpb",
            "Sox11",
            "Ctnnb1",
            "Cebpa"
           ]
          ],
          [
           [
            "Ctnnb1",
            "Smad2",
            "Smarca4",
            "Maff",
            "Ybx1",
            "Erf",
            "Arnt2"
           ]
          ],
          [
           [
            "Elk1",
            "Smarca4",
            "Jarid2",
            "Cebpa"
           ]
          ],
          [
           [
            "Insm1",
            "Ctnnb1",
            "Kdm1a"
           ]
          ],
          [
           [
            "Cebpb",
            "Hif1a",
            "Cebpa"
           ]
          ],
          [
           [
            "Gtf2b",
            "Ctnnb1"
           ]
          ],
          [
           [
            "Sox11",
            "Sox4"
           ]
          ],
          [
           [
            "Npm1",
            "Sox4"
           ]
          ],
          [
           [
            "Ctnnb1",
            "Egr1",
            "Ddit3",
            "Atf4"
           ]
          ],
          [
           [
            "Mybbp1a",
            "Hmga1",
            "Gtf2b",
            "Insm2",
            "Hnrnpab",
            "Thap1",
            "Id1",
            "Id3",
            "Gtf3a",
            "Erf",
            "Gpbp1",
            "Zfp786",
            "Scand1",
            "Ybx1",
            "Ak6",
            "Pbx2",
            "Jarid2",
            "Ss18l1",
            "Arnt2",
            "Sox30",
            "Ctnnb1",
            "Nfe2l3",
            "Smarca4",
            "Nfil3",
            "Cbfa2t3",
            "Hes6",
            "Gcfc2",
            "Nfya",
            "Atf4",
            "Kdm1a",
            "Zfp2",
            "Tdg",
            "Zscan21",
            "Zfp41",
            "Zfp644",
            "Etv4",
            "Sox11",
            "Zfp639",
            "Sox4",
            "Foxo6",
            "Sall3",
            "Zfp90",
            "Olig2",
            "Npm1",
            "Foxk2",
            "Smad2",
            "Pgr",
            "Bach1",
            "Maff",
            "E2f5",
            "Satb1",
            "Rcor1",
            "Tfam",
            "Tfdp1",
            "Tbpl1",
            "Srebf1",
            "Pitx1",
            "Srebf2",
            "Cebpa",
            "Cebpb",
            "Cebpg",
            "Egr1",
            "Taf6",
            "Tcfl5",
            "Rnf4",
            "Stat2",
            "Zfp628",
            "Insm1",
            "Tbl1x",
            "Tbr1",
            "Zfp296",
            "Zfp319",
            "Ddit3",
            "Elk1",
            "Hif1a",
            "Tcea1",
            "Tcea2",
            "Chd4",
            "Hira",
            "Tcf20",
            "Rps3",
            "Tcf3",
            "Dmrta2",
            "Asxl3",
            "Mitf",
            "Zfp341",
            "E2f7",
            "Fosb",
            "Zfp280d",
            "Pcgf3",
            "Tsc22d4",
            "Hmg20b",
            "Hmgb3",
            "Zfp668",
            "Drap1"
           ]
          ],
          [
           [
            "Hmga1",
            "Atf4",
            "Drap1",
            "Ddit3",
            "Gtf2b",
            "Hif1a",
            "Tfdp1",
            "Hnrnpab",
            "Chd4",
            "Tcf3",
            "Cebpa",
            "Cebpb",
            "Cebpg",
            "E2f7",
            "Ctnnb1",
            "Nfe2l3",
            "Bach1",
            "Nfil3",
            "Maff",
            "E2f5",
            "Nfya"
           ]
          ],
          [
           [
            "Satb1",
            "Atf4",
            "Rcor1",
            "Tbl1x",
            "Kdm1a",
            "Ddit3",
            "Elk1",
            "Gtf2b",
            "Hif1a",
            "Tfdp1",
            "Tcea1",
            "Hnrnpab",
            "Tcea2",
            "Thap1",
            "Chd4",
            "Id1",
            "Hira",
            "Tdg",
            "Tcf20",
            "Gtf3a",
            "Tcf3",
            "Erf",
            "Srebf1",
            "Srebf2",
            "Sox11",
            "Hmg20b",
            "Cebpa",
            "Cebpb",
            "Zfp639",
            "Cebpg",
            "Sox4",
            "Fosb",
            "Foxo6",
            "Ak6",
            "Pcgf3",
            "Jarid2",
            "Ss18l1",
            "Egr1",
            "Arnt2",
            "Sox30",
            "Taf6",
            "Ctnnb1",
            "Npm1",
            "Foxk2",
            "Smad2",
            "Smarca4",
            "Maff",
            "Cbfa2t3",
            "Elmsan1",
            "Rnf4",
            "E2f5",
            "Gcfc2",
            "Nfya"
           ]
          ],
          [
           [
            "Olig2",
            "Ctnnb1",
            "Sox4",
            "Smad2",
            "Atf4",
            "Rcor1",
            "E2f7",
            "Elmsan1",
            "Tcf3",
            "Pbx2",
            "Pitx1",
            "Tfdp1",
            "Hif1a",
            "Hes6",
            "Arnt2",
            "E2f5",
            "Tbl1x",
            "Cebpa"
           ]
          ],
          [
           [
            "Ctnnb1",
            "Npm1",
            "Ddit3",
            "Gtf2b",
            "Chd4",
            "Nfya"
           ]
          ],
          [
           [
            "Cebpb",
            "Ddit3",
            "Cebpa"
           ]
          ],
          [
           [
            "Cebpb",
            "Satb1",
            "Smad2",
            "Hira",
            "Smarca4",
            "Kdm1a",
            "Tcf3",
            "Hif1a",
            "Egr1",
            "Chd4"
           ]
          ],
          [
           [
            "Ctnnb1",
            "Npm1",
            "Smad2",
            "Atf4",
            "Hira",
            "Kdm1a",
            "Tcf3",
            "Srebf1",
            "Tfam",
            "Hif1a",
            "Mitf",
            "Chd4",
            "Cebpa",
            "Taf6"
           ]
          ],
          [
           [
            "Ddit3",
            "Atf4"
           ]
          ],
          [
           [
            "Cebpb",
            "Cebpa"
           ]
          ],
          [
           [
            "Cebpb",
            "Npm1",
            "Satb1",
            "Smarca4",
            "Cebpa"
           ]
          ],
          [
           [
            "Insm2",
            "Rcor1",
            "Insm1",
            "Tbl1x"
           ]
          ],
          [
           [
            "Tfdp1",
            "Cebpa"
           ]
          ],
          [
           [
            "Smarca4",
            "Ctnnb1",
            "Hif1a",
            "Tcf3"
           ]
          ],
          [
           [
            "Tcf20",
            "Satb1",
            "Rnf4",
            "Gtf2b",
            "Hif1a",
            "Ss18l1",
            "Hmg20b"
           ]
          ],
          [
           [
            "Tcea1",
            "Gtf2b",
            "Taf6"
           ]
          ],
          [
           [
            "Tbpl1",
            "Hmga1",
            "Smarca4",
            "Tcfl5"
           ]
          ],
          [
           [
            "Rcor1",
            "Tbl1x",
            "Elmsan1"
           ]
          ],
          [
           [
            "Ctnnb1",
            "Atf4",
            "Rps3",
            "Cbfa2t3",
            "Srebf1",
            "Srebf2"
           ]
          ],
          [
           [
            "Mybbp1a",
            "Hmga1",
            "Gtf2b",
            "Insm2",
            "Hnrnpab",
            "Thap1",
            "Gtf3a",
            "Erf",
            "Gpbp1",
            "Zfp786",
            "Ybx1",
            "Pbx2",
            "Jarid2",
            "Ss18l1",
            "Arnt2",
            "Sox30",
            "Nfe2l3",
            "Smarca4",
            "Nfil3",
            "Hes6",
            "Gcfc2",
            "Nfya",
            "Atf4",
            "Zfp2",
            "Tdg",
            "Zscan21",
            "Zfp41",
            "Etv4",
            "Sox11",
            "Zfp639",
            "Sox4",
            "Foxo6",
            "Sall3",
            "Zfp90",
            "Olig2",
            "Npm1",
            "Foxk2",
            "Smad2",
            "Pgr",
            "Bach1",
            "Maff",
            "E2f5",
            "Satb1",
            "Tfam",
            "Tfdp1",
            "Tbpl1",
            "Srebf1",
            "Pitx1",
            "Srebf2",
            "Cebpa",
            "Cebpb",
            "Cebpg",
            "Egr1",
            "Taf6",
            "Tcfl5",
            "Rnf4",
            "Stat2",
            "Zfp628",
            "Insm1",
            "Tbl1x",
            "Tbr1",
            "Zfp319",
            "Ddit3",
            "Elk1",
            "Hif1a",
            "Tcea1",
            "Tcea2",
            "Chd4",
            "Tcf20",
            "Rps3",
            "Tcf3",
            "Dmrta2",
            "Asxl3",
            "Mitf",
            "Zfp341",
            "E2f7",
            "Fosb",
            "Zfp280d",
            "Hmg20b",
            "Hmgb3",
            "Zfp668",
            "Drap1"
           ]
          ],
          [
           [
            "Zfp296",
            "Hmga1",
            "Zfp319",
            "Satb1",
            "Atf4",
            "Kdm1a",
            "Ddit3",
            "Elk1",
            "Hif1a",
            "Insm2",
            "Thap1",
            "Zfp449",
            "Zscan21",
            "Zfp644",
            "Tcf3",
            "Srebf1",
            "Etv4",
            "Pitx1",
            "Srebf2",
            "Zfp668",
            "Sox11",
            "Dmrta2",
            "Zfp786",
            "Cebpa",
            "Mitf",
            "Cebpb",
            "Zfp639",
            "Cebpg",
            "Sox4",
            "Zfp341",
            "E2f7",
            "Fosb",
            "Zfp280d",
            "Foxo6",
            "Sall3",
            "Pbx2",
            "Egr1",
            "Arnt2",
            "Sox30",
            "Foxk2",
            "Smad2",
            "Nfe2l3",
            "Smarca4",
            "Pgr",
            "Tcfl5",
            "Bach1",
            "Nfil3",
            "Maff",
            "Stat2",
            "Zfp628",
            "Hes6",
            "Insm1",
            "E2f5",
            "Nfya",
            "Tbr1"
           ]
          ],
          [
           [
            "Zfp296",
            "Satb1",
            "Atf4",
            "Ddit3",
            "Elk1",
            "Hif1a",
            "Tfdp1",
            "Insm2",
            "Thap1",
            "Tcf20",
            "Tcf3",
            "Erf",
            "Etv4",
            "Srebf1",
            "Pitx1",
            "Srebf2",
            "Sox11",
            "Gpbp1",
            "Cebpa",
            "Mitf",
            "Cebpb",
            "Zfp639",
            "Sox4",
            "E2f7",
            "Fosb",
            "Foxo6",
            "Pbx2",
            "Ss18l1",
            "Egr1",
            "Arnt2",
            "Sox30",
            "Olig2",
            "Foxk2",
            "Smad2",
            "Nfe2l3",
            "Pgr",
            "Bach1",
            "Nfil3",
            "Maff",
            "Stat2",
            "Zfp628",
            "Hes6",
            "Insm1",
            "E2f5",
            "Nfya",
            "Tbr1"
           ]
          ],
          [
           [
            "Satb1",
            "Atf4",
            "Elk1",
            "Hif1a",
            "Tfdp1",
            "Zfp449",
            "Zscan21",
            "Zfp644",
            "Tcf3",
            "Erf",
            "Etv4",
            "Srebf1",
            "Pitx1",
            "Srebf2",
            "Zfp668",
            "Sox11",
            "Dmrta2",
            "Cebpa",
            "Mitf",
            "Cebpb",
            "Cebpg",
            "Sox4",
            "Zfp341",
            "E2f7",
            "Fosb",
            "Zfp280d",
            "Foxo6",
            "Sall3",
            "Pbx2",
            "Egr1",
            "Arnt2",
            "Sox30",
            "Olig2",
            "Foxk2",
            "Smad2",
            "Nfe2l3",
            "Tcfl5",
            "Bach1",
            "Maff",
            "Stat2",
            "Hes6",
            "E2f5",
            "Nfya",
            "Tbr1"
           ]
          ],
          [
           [
            "Hmga1",
            "Zfp319",
            "Atf4",
            "Ddit3",
            "Elk1",
            "Hif1a",
            "Tfdp1",
            "Zscan21",
            "Tcf3",
            "Srebf1",
            "Etv4",
            "Pitx1",
            "Sox11",
            "Zfp786",
            "Cebpa",
            "Mitf",
            "Cebpb",
            "Zfp639",
            "Cebpg",
            "Sox4",
            "Fosb",
            "Pbx2",
            "Egr1",
            "Arnt2",
            "Sox30",
            "Foxk2",
            "Smad2",
            "Pgr",
            "Bach1",
            "Maff",
            "Zfp628",
            "Nfya"
           ]
          ],
          [
           [
            "Mybbp1a",
            "Satb1",
            "Atf4",
            "Ddit3",
            "Elk1",
            "Hif1a",
            "Tfam",
            "Thap1",
            "Tcf3",
            "Erf",
            "Etv4",
            "Srebf1",
            "Srebf2",
            "Dmrta2",
            "Cebpa",
            "Mitf",
            "Cebpb",
            "Cebpg",
            "Fosb",
            "Foxo6",
            "Ybx1",
            "Egr1",
            "Foxk2",
            "Pgr",
            "Maff",
            "E2f5",
            "Nfya"
           ]
          ],
          [
           [
            "Satb1",
            "Insm2",
            "Thap1",
            "Zfp41",
            "Tcf3",
            "Erf",
            "Srebf2",
            "Zfp81",
            "Cebpb",
            "2610008E11Rik",
            "E2f7",
            "Sox30",
            "Zfp90",
            "Foxk2",
            "Nfe2l3",
            "Tcfl5",
            "Bach1",
            "Nfil3",
            "Hes6",
            "Insm1",
            "Zfp668"
           ]
          ],
          [
           [
            "Zfp296",
            "Atf4",
            "Elk1",
            "Hnrnpab",
            "Zfp449",
            "Zfp41",
            "Srebf1",
            "Etv4",
            "Pitx1",
            "Srebf2",
            "Dmrta2",
            "Cebpb",
            "Cebpg",
            "Sox4",
            "E2f7",
            "Fosb",
            "Ybx1",
            "Egr1",
            "Arnt2",
            "Sox30",
            "Olig2",
            "Tcfl5",
            "Maff",
            "Hes6"
           ]
          ],
          [
           [
            "Cebpb",
            "Tdg",
            "Ctnnb1",
            "Npm1",
            "Cebpg",
            "Smad2",
            "Atf4",
            "Satb1",
            "Rps3",
            "Kdm1a",
            "Tcf3",
            "Gtf2b",
            "Pbx2",
            "Tfdp1",
            "Chd4",
            "Tbl1x",
            "Cebpa"
           ]
          ],
          [
           [
            "Hmga1",
            "Satb1",
            "Rcor1",
            "Kdm1a",
            "Elk1",
            "Tfam",
            "Chd4",
            "Tcf3",
            "Srebf1",
            "Srebf2",
            "Cebpa",
            "Mitf",
            "Cebpb",
            "Ybx1",
            "Pbx2",
            "Jarid2",
            "Ctnnb1",
            "Npm1",
            "Smad2",
            "Smarca4",
            "Cbfa2t3",
            "Asxl3",
            "Tbl1x"
           ]
          ],
          [
           [
            "Mybbp1a",
            "Zfp296",
            "Atf4",
            "Rcor1",
            "Tbl1x",
            "Drap1",
            "Kdm1a",
            "Ddit3",
            "Elk1",
            "Gtf2b",
            "Hif1a",
            "Tfdp1",
            "Tcea1",
            "Hnrnpab",
            "Tbpl1",
            "Chd4",
            "Id1",
            "Hira",
            "Id3",
            "Tdg",
            "Rps3",
            "Tcf3",
            "Srebf1",
            "Pitx1",
            "Srebf2",
            "Gpbp1",
            "Dmrta2",
            "Cebpa",
            "Mitf",
            "Cebpb",
            "Cebpg",
            "Sox4",
            "E2f7",
            "Ybx1",
            "Pbx2",
            "Jarid2",
            "Pcgf3",
            "Arnt2",
            "Zfp90",
            "Taf6",
            "Olig2",
            "Ctnnb1",
            "Npm1",
            "Foxk2",
            "Smad2",
            "Smarca4",
            "Pgr",
            "Bach1",
            "Nfil3",
            "Cbfa2t3",
            "Rnf4",
            "Stat2",
            "Zfp628",
            "Tsc22d4",
            "E2f5",
            "Hmg20b",
            "Insm1",
            "Nfya"
           ]
          ],
          [
           [
            "Cebpb",
            "Ctnnb1",
            "Smad2",
            "Atf4",
            "Hira",
            "Kdm1a",
            "Ddit3",
            "Elk1",
            "Tcf3",
            "Hif1a",
            "Pitx1",
            "Tfdp1",
            "Hes6",
            "Chd4",
            "Cebpa"
           ]
          ],
          [
           [
            "Cebpb",
            "Zfp639",
            "Tcf20",
            "Sox4",
            "Foxk2",
            "Atf4",
            "Tbl1x",
            "Ddit3",
            "Tcf3",
            "Elk1",
            "Tfam",
            "Srebf2",
            "Egr1",
            "Sox11",
            "Nfya",
            "Cebpa"
           ]
          ],
          [
           [
            "Mybbp1a",
            "Zfp296",
            "Ctnnb1",
            "Smarca4",
            "Drap1",
            "Kdm1a",
            "Rnf4",
            "Ddit3",
            "Jarid2",
            "Chd4",
            "Cebpa"
           ]
          ],
          [
           [
            "Olig2",
            "Tcf3",
            "Srebf1",
            "Srebf2",
            "Hif1a",
            "Hes6",
            "Arnt2",
            "E2f5",
            "Id1",
            "Mitf",
            "Id3"
           ]
          ],
          [
           [
            "Cebpb",
            "Satb1",
            "Atf4",
            "E2f7",
            "Smarca4",
            "Rps3",
            "Nfil3",
            "Pbx2",
            "Srebf1",
            "Tfdp1",
            "Egr1",
            "Hes6",
            "Hif1a"
           ]
          ],
          [
           [
            "Hmga1",
            "Ctnnb1",
            "Smarca4",
            "Srebf1",
            "Chd4",
            "Nfya"
           ]
          ],
          [
           [
            "Mybbp1a",
            "Rcor1",
            "Smarca4",
            "Drap1",
            "Elmsan1",
            "Kdm1a",
            "Cbfa2t3",
            "Insm2",
            "Tbl1x"
           ]
          ],
          [
           [
            "Cebpb",
            "Atf4",
            "Ddit3",
            "Tcf3",
            "Hif1a",
            "Hes6",
            "Arnt2",
            "Drap1",
            "Cebpa",
            "Taf6"
           ]
          ],
          [
           [
            "Zfp296",
            "Zfp319",
            "Gtf2b",
            "Zfp2",
            "Tcea1",
            "Insm2",
            "Tcea2",
            "Thap1",
            "Chd4",
            "Tcf20",
            "Gtf3a",
            "Zscan21",
            "Zfp41",
            "Dmrta2",
            "Zfp786",
            "Zfp639",
            "Zfp280d",
            "Sall3",
            "Pcgf3",
            "Egr1",
            "Zfp90",
            "Foxk2",
            "Smad2",
            "Pgr",
            "Cbfa2t3",
            "Rnf4",
            "Zfp628",
            "Asxl3",
            "Insm1",
            "Zfp668"
           ]
          ],
          [
           [
            "Mybbp1a",
            "Tcf3",
            "Hif1a",
            "Srebf2",
            "Mitf"
           ]
          ],
          [
           [
            "Tbpl1",
            "Gtf2b",
            "Cebpb",
            "Egr1"
           ]
          ],
          [
           [
            "Tfdp1",
            "Id1",
            "Ddit3",
            "Id3"
           ]
          ],
          [
           [
            "Hmga1",
            "Ctnnb1",
            "Npm1",
            "Tcf20",
            "Smarca4",
            "Ss18l1",
            "Drap1",
            "Taf6"
           ]
          ],
          [
           [
            "Tbpl1",
            "Gtf2b",
            "Drap1",
            "Taf6"
           ]
          ],
          [
           [
            "Npm1",
            "Smarca4",
            "Kdm1a",
            "Ybx1",
            "Hif1a"
           ]
          ],
          [
           [
            "Hmga1",
            "E2f7",
            "Tcf3",
            "Tfdp1",
            "Sox11"
           ]
          ],
          [
           [
            "Zfp341",
            "Hif1a",
            "E2f5"
           ]
          ],
          [
           [
            "Tdg",
            "Cebpg",
            "Smad2",
            "Fosb",
            "Elk1",
            "Egr1"
           ]
          ],
          [
           [
            "Gtf2b",
            "Drap1",
            "Rnf4"
           ]
          ],
          [
           [
            "Cebpb",
            "Olig2",
            "Npm1",
            "Smad2",
            "Atf4",
            "E2f7",
            "Dmrta2",
            "Pgr",
            "Drap1",
            "Nfil3",
            "Rnf4",
            "Stat2",
            "Ddit3",
            "Tcf3",
            "Thap1",
            "Tbl1x",
            "Id1",
            "Cebpa"
           ]
          ],
          [
           [
            "Cebpb",
            "Hif1a",
            "Insm1",
            "Chd4",
            "Cebpa"
           ]
          ],
          [
           [
            "Gtf2b",
            "Egr1",
            "Kdm1a",
            "Atf4"
           ]
          ],
          [
           [
            "Smarca4",
            "Kdm1a",
            "Rnf4"
           ]
          ],
          [
           [
            "Hmga1",
            "Ctnnb1",
            "Npm1",
            "Rcor1",
            "Rps3",
            "Pgr",
            "Kdm1a",
            "Hif1a"
           ]
          ],
          [
           [
            "Npm1",
            "Hira",
            "Smarca4",
            "Chd4",
            "Tbl1x"
           ]
          ],
          [
           [
            "Cebpb",
            "Insm1",
            "Cebpa",
            "Tbr1"
           ]
          ]
         ],
         "hovertemplate": "n_genes/n_go=%{x}<br>term=%{y}<br>study_genes=%{customdata[0]}<extra></extra>",
         "legendgroup": "",
         "marker": {
          "color": "#636efa",
          "pattern": {
           "shape": ""
          }
         },
         "name": "",
         "offsetgroup": "",
         "orientation": "h",
         "showlegend": false,
         "textposition": "auto",
         "type": "bar",
         "x": [
          0.050514499532273154,
          0.04591836734693878,
          0.04013377926421405,
          0.043,
          0.05196629213483146,
          0.042704626334519574,
          0.07792207792207792,
          0.05128205128205128,
          0.02047082906857728,
          0.02654867256637168,
          0.05357142857142857,
          0.029850746268656716,
          0.032,
          0.07058823529411765,
          0.10204081632653061,
          0.046052631578947366,
          0.025510204081632654,
          0.09433962264150944,
          0.02313624678663239,
          0.08928571428571429,
          0.14285714285714285,
          0.06756756756756757,
          0.2727272727272727,
          0.11428571428571428,
          0.06329113924050633,
          0.03153153153153153,
          0.0199501246882793,
          0.16666666666666666,
          0.15789473684210525,
          0.6666666666666666,
          0.6666666666666666,
          0.031746031746031744,
          0.13636363636363635,
          0.5,
          0.0390625,
          0.05970149253731343,
          0.017077798861480076,
          0.11538461538461539,
          0.4,
          0.4,
          0.011828935395814377,
          0.05194805194805195,
          0.020771513353115726,
          0.05128205128205128,
          0.1,
          0.0967741935483871,
          0.3333333333333333,
          0.3333333333333333,
          0.3333333333333333,
          0.04938271604938271,
          0.01566881081972621,
          0.16030534351145037,
          0.016262657256827247,
          0.06040268456375839,
          0.11764705882352941,
          1,
          0.02358490566037736,
          0.015267175572519083,
          1,
          1,
          0.04672897196261682,
          0.06349206349206349,
          0.5,
          0.057971014492753624,
          0.02046783625730994,
          0.09375,
          0.046511627906976744,
          0.07142857142857142,
          0.0007703171138785466,
          0.04726224783861672,
          0.05154639175257732,
          0.07467532467532467,
          0.052948255114320095,
          0.0625,
          0.05636743215031315,
          0.06666666666666667,
          0.04452690166975881,
          0.08900523560209424,
          0.04339622641509434,
          0.010752688172043012,
          0.07653061224489796,
          0.06060606060606061,
          0.08270676691729323,
          0.06432748538011696,
          0.0391566265060241,
          0.12244897959183673,
          0.046632124352331605,
          0.03194888178913738,
          0.009345794392523364,
          0.10869565217391304,
          0.18181818181818182,
          0.17391304347826086,
          0.03404255319148936,
          0.1111111111111111,
          0.06493506493506493,
          0.05813953488372093,
          0.2,
          0.03529411764705882,
          0.1111111111111111,
          0.009321595028482652,
          0.03546099290780142,
          0.05128205128205128,
          0.09090909090909091,
          0.017130620985010708,
          0.030864197530864196,
          0.04081632653061224
         ],
         "xaxis": "x",
         "y": [
          "regulation of DNA-templated transcription",
          "regulation of transcription by RNA polymerase II",
          "positive regulation of transcription by RNA polymerase II",
          "negative regulation of transcription by RNA polymerase II",
          "positive regulation of DNA-templated transcription",
          "negative regulation of DNA-templated transcription",
          "DNA-templated transcription",
          "transcription by RNA polymerase II",
          "cell differentiation",
          "positive regulation of gene expression",
          "chromatin remodeling",
          "chromatin organization",
          "gene expression",
          "negative regulation of DNA-binding transcription factor activity",
          "histone deacetylation",
          "rhythmic process",
          "negative regulation of cell population proliferation",
          "positive regulation of miRNA transcription",
          "negative regulation of gene expression",
          "skeletal muscle cell differentiation",
          "cellular response to gamma radiation",
          "circadian regulation of gene expression",
          "positive regulation of transcription from RNA polymerase II promoter in response to endoplasmic reticulum stress",
          "positive regulation of neuroblast proliferation",
          "circadian rhythm",
          "neuron differentiation",
          "regulation of gene expression",
          "regulation of osteoclast differentiation",
          "granulocyte differentiation",
          "positive regulation of sodium-dependent phosphate transport",
          "glial cell fate determination",
          "regulation of cell population proliferation",
          "hindbrain development",
          "positive regulation of hormone biosynthetic process",
          "positive regulation of DNA-binding transcription factor activity",
          "anatomical structure morphogenesis",
          "positive regulation of cell population proliferation",
          "DNA-templated transcription initiation",
          "cardiac ventricle formation",
          "positive regulation of biomineral tissue development",
          "multicellular organism development",
          "positive regulation of osteoblast differentiation",
          "in utero embryonic development",
          "liver development",
          "positive regulation of neural precursor cell proliferation",
          "embryonic placenta development",
          "positive regulation of core promoter binding",
          "noradrenergic neuron differentiation",
          "regulation of DNA damage response, signal transduction by p53 class mediator",
          "positive regulation of neuron apoptotic process",
          "nucleus",
          "RNA polymerase II transcription regulator complex",
          "nucleoplasm",
          "transcription regulator complex",
          "protein-DNA complex",
          "CHOP-C/EBP complex",
          "chromatin",
          "protein-containing complex",
          "CHOP-ATF4 complex",
          "C/EBP complex",
          "nuclear matrix",
          "transcription repressor complex",
          "Rb-E2F complex",
          "euchromatin",
          "nuclear body",
          "transcription factor TFIID complex",
          "male germ cell nucleus",
          "histone deacetylase complex",
          "membrane",
          "DNA binding",
          "RNA polymerase II cis-regulatory region sequence-specific DNA binding",
          "DNA-binding transcription factor activity",
          "DNA-binding transcription factor activity, RNA polymerase II-specific",
          "DNA-binding transcription activator activity, RNA polymerase II-specific",
          "sequence-specific DNA binding",
          "DNA-binding transcription repressor activity, RNA polymerase II-specific",
          "sequence-specific double-stranded DNA binding",
          "DNA-binding transcription factor binding",
          "chromatin binding",
          "protein binding",
          "RNA polymerase II-specific DNA-binding transcription factor binding",
          "transcription cis-regulatory region binding",
          "transcription factor binding",
          "protein dimerization activity",
          "RNA polymerase II transcription regulatory region sequence-specific DNA binding",
          "transcription coregulator binding",
          "transcription corepressor activity",
          "protein heterodimerization activity",
          "metal ion binding",
          "E-box binding",
          "RNA polymerase II core promoter sequence-specific DNA binding",
          "transcription regulator inhibitor activity",
          "transcription coactivator activity",
          "RNA polymerase II general transcription initiation factor activity",
          "p53 binding",
          "cis-regulatory region sequence-specific DNA binding",
          "DNA-binding transcription activator activity",
          "double-stranded DNA binding",
          "TBP-class protein binding",
          "identical protein binding",
          "histone deacetylase binding",
          "promoter-specific chromatin binding",
          "nuclear androgen receptor binding",
          "enzyme binding",
          "histone binding",
          "chromatin DNA binding"
         ],
         "yaxis": "y"
        }
       ],
       "layout": {
        "barmode": "relative",
        "legend": {
         "tracegroupgap": 0
        },
        "plot_bgcolor": "rgba(0, 0, 0, 0)",
        "template": {
         "data": {
          "bar": [
           {
            "error_x": {
             "color": "#2a3f5f"
            },
            "error_y": {
             "color": "#2a3f5f"
            },
            "marker": {
             "line": {
              "color": "#E5ECF6",
              "width": 0.5
             },
             "pattern": {
              "fillmode": "overlay",
              "size": 10,
              "solidity": 0.2
             }
            },
            "type": "bar"
           }
          ],
          "barpolar": [
           {
            "marker": {
             "line": {
              "color": "#E5ECF6",
              "width": 0.5
             },
             "pattern": {
              "fillmode": "overlay",
              "size": 10,
              "solidity": 0.2
             }
            },
            "type": "barpolar"
           }
          ],
          "carpet": [
           {
            "aaxis": {
             "endlinecolor": "#2a3f5f",
             "gridcolor": "white",
             "linecolor": "white",
             "minorgridcolor": "white",
             "startlinecolor": "#2a3f5f"
            },
            "baxis": {
             "endlinecolor": "#2a3f5f",
             "gridcolor": "white",
             "linecolor": "white",
             "minorgridcolor": "white",
             "startlinecolor": "#2a3f5f"
            },
            "type": "carpet"
           }
          ],
          "choropleth": [
           {
            "colorbar": {
             "outlinewidth": 0,
             "ticks": ""
            },
            "type": "choropleth"
           }
          ],
          "contour": [
           {
            "colorbar": {
             "outlinewidth": 0,
             "ticks": ""
            },
            "colorscale": [
             [
              0,
              "#0d0887"
             ],
             [
              0.1111111111111111,
              "#46039f"
             ],
             [
              0.2222222222222222,
              "#7201a8"
             ],
             [
              0.3333333333333333,
              "#9c179e"
             ],
             [
              0.4444444444444444,
              "#bd3786"
             ],
             [
              0.5555555555555556,
              "#d8576b"
             ],
             [
              0.6666666666666666,
              "#ed7953"
             ],
             [
              0.7777777777777778,
              "#fb9f3a"
             ],
             [
              0.8888888888888888,
              "#fdca26"
             ],
             [
              1,
              "#f0f921"
             ]
            ],
            "type": "contour"
           }
          ],
          "contourcarpet": [
           {
            "colorbar": {
             "outlinewidth": 0,
             "ticks": ""
            },
            "type": "contourcarpet"
           }
          ],
          "heatmap": [
           {
            "colorbar": {
             "outlinewidth": 0,
             "ticks": ""
            },
            "colorscale": [
             [
              0,
              "#0d0887"
             ],
             [
              0.1111111111111111,
              "#46039f"
             ],
             [
              0.2222222222222222,
              "#7201a8"
             ],
             [
              0.3333333333333333,
              "#9c179e"
             ],
             [
              0.4444444444444444,
              "#bd3786"
             ],
             [
              0.5555555555555556,
              "#d8576b"
             ],
             [
              0.6666666666666666,
              "#ed7953"
             ],
             [
              0.7777777777777778,
              "#fb9f3a"
             ],
             [
              0.8888888888888888,
              "#fdca26"
             ],
             [
              1,
              "#f0f921"
             ]
            ],
            "type": "heatmap"
           }
          ],
          "heatmapgl": [
           {
            "colorbar": {
             "outlinewidth": 0,
             "ticks": ""
            },
            "colorscale": [
             [
              0,
              "#0d0887"
             ],
             [
              0.1111111111111111,
              "#46039f"
             ],
             [
              0.2222222222222222,
              "#7201a8"
             ],
             [
              0.3333333333333333,
              "#9c179e"
             ],
             [
              0.4444444444444444,
              "#bd3786"
             ],
             [
              0.5555555555555556,
              "#d8576b"
             ],
             [
              0.6666666666666666,
              "#ed7953"
             ],
             [
              0.7777777777777778,
              "#fb9f3a"
             ],
             [
              0.8888888888888888,
              "#fdca26"
             ],
             [
              1,
              "#f0f921"
             ]
            ],
            "type": "heatmapgl"
           }
          ],
          "histogram": [
           {
            "marker": {
             "pattern": {
              "fillmode": "overlay",
              "size": 10,
              "solidity": 0.2
             }
            },
            "type": "histogram"
           }
          ],
          "histogram2d": [
           {
            "colorbar": {
             "outlinewidth": 0,
             "ticks": ""
            },
            "colorscale": [
             [
              0,
              "#0d0887"
             ],
             [
              0.1111111111111111,
              "#46039f"
             ],
             [
              0.2222222222222222,
              "#7201a8"
             ],
             [
              0.3333333333333333,
              "#9c179e"
             ],
             [
              0.4444444444444444,
              "#bd3786"
             ],
             [
              0.5555555555555556,
              "#d8576b"
             ],
             [
              0.6666666666666666,
              "#ed7953"
             ],
             [
              0.7777777777777778,
              "#fb9f3a"
             ],
             [
              0.8888888888888888,
              "#fdca26"
             ],
             [
              1,
              "#f0f921"
             ]
            ],
            "type": "histogram2d"
           }
          ],
          "histogram2dcontour": [
           {
            "colorbar": {
             "outlinewidth": 0,
             "ticks": ""
            },
            "colorscale": [
             [
              0,
              "#0d0887"
             ],
             [
              0.1111111111111111,
              "#46039f"
             ],
             [
              0.2222222222222222,
              "#7201a8"
             ],
             [
              0.3333333333333333,
              "#9c179e"
             ],
             [
              0.4444444444444444,
              "#bd3786"
             ],
             [
              0.5555555555555556,
              "#d8576b"
             ],
             [
              0.6666666666666666,
              "#ed7953"
             ],
             [
              0.7777777777777778,
              "#fb9f3a"
             ],
             [
              0.8888888888888888,
              "#fdca26"
             ],
             [
              1,
              "#f0f921"
             ]
            ],
            "type": "histogram2dcontour"
           }
          ],
          "mesh3d": [
           {
            "colorbar": {
             "outlinewidth": 0,
             "ticks": ""
            },
            "type": "mesh3d"
           }
          ],
          "parcoords": [
           {
            "line": {
             "colorbar": {
              "outlinewidth": 0,
              "ticks": ""
             }
            },
            "type": "parcoords"
           }
          ],
          "pie": [
           {
            "automargin": true,
            "type": "pie"
           }
          ],
          "scatter": [
           {
            "marker": {
             "colorbar": {
              "outlinewidth": 0,
              "ticks": ""
             }
            },
            "type": "scatter"
           }
          ],
          "scatter3d": [
           {
            "line": {
             "colorbar": {
              "outlinewidth": 0,
              "ticks": ""
             }
            },
            "marker": {
             "colorbar": {
              "outlinewidth": 0,
              "ticks": ""
             }
            },
            "type": "scatter3d"
           }
          ],
          "scattercarpet": [
           {
            "marker": {
             "colorbar": {
              "outlinewidth": 0,
              "ticks": ""
             }
            },
            "type": "scattercarpet"
           }
          ],
          "scattergeo": [
           {
            "marker": {
             "colorbar": {
              "outlinewidth": 0,
              "ticks": ""
             }
            },
            "type": "scattergeo"
           }
          ],
          "scattergl": [
           {
            "marker": {
             "colorbar": {
              "outlinewidth": 0,
              "ticks": ""
             }
            },
            "type": "scattergl"
           }
          ],
          "scattermapbox": [
           {
            "marker": {
             "colorbar": {
              "outlinewidth": 0,
              "ticks": ""
             }
            },
            "type": "scattermapbox"
           }
          ],
          "scatterpolar": [
           {
            "marker": {
             "colorbar": {
              "outlinewidth": 0,
              "ticks": ""
             }
            },
            "type": "scatterpolar"
           }
          ],
          "scatterpolargl": [
           {
            "marker": {
             "colorbar": {
              "outlinewidth": 0,
              "ticks": ""
             }
            },
            "type": "scatterpolargl"
           }
          ],
          "scatterternary": [
           {
            "marker": {
             "colorbar": {
              "outlinewidth": 0,
              "ticks": ""
             }
            },
            "type": "scatterternary"
           }
          ],
          "surface": [
           {
            "colorbar": {
             "outlinewidth": 0,
             "ticks": ""
            },
            "colorscale": [
             [
              0,
              "#0d0887"
             ],
             [
              0.1111111111111111,
              "#46039f"
             ],
             [
              0.2222222222222222,
              "#7201a8"
             ],
             [
              0.3333333333333333,
              "#9c179e"
             ],
             [
              0.4444444444444444,
              "#bd3786"
             ],
             [
              0.5555555555555556,
              "#d8576b"
             ],
             [
              0.6666666666666666,
              "#ed7953"
             ],
             [
              0.7777777777777778,
              "#fb9f3a"
             ],
             [
              0.8888888888888888,
              "#fdca26"
             ],
             [
              1,
              "#f0f921"
             ]
            ],
            "type": "surface"
           }
          ],
          "table": [
           {
            "cells": {
             "fill": {
              "color": "#EBF0F8"
             },
             "line": {
              "color": "white"
             }
            },
            "header": {
             "fill": {
              "color": "#C8D4E3"
             },
             "line": {
              "color": "white"
             }
            },
            "type": "table"
           }
          ]
         },
         "layout": {
          "annotationdefaults": {
           "arrowcolor": "#2a3f5f",
           "arrowhead": 0,
           "arrowwidth": 1
          },
          "autotypenumbers": "strict",
          "coloraxis": {
           "colorbar": {
            "outlinewidth": 0,
            "ticks": ""
           }
          },
          "colorscale": {
           "diverging": [
            [
             0,
             "#8e0152"
            ],
            [
             0.1,
             "#c51b7d"
            ],
            [
             0.2,
             "#de77ae"
            ],
            [
             0.3,
             "#f1b6da"
            ],
            [
             0.4,
             "#fde0ef"
            ],
            [
             0.5,
             "#f7f7f7"
            ],
            [
             0.6,
             "#e6f5d0"
            ],
            [
             0.7,
             "#b8e186"
            ],
            [
             0.8,
             "#7fbc41"
            ],
            [
             0.9,
             "#4d9221"
            ],
            [
             1,
             "#276419"
            ]
           ],
           "sequential": [
            [
             0,
             "#0d0887"
            ],
            [
             0.1111111111111111,
             "#46039f"
            ],
            [
             0.2222222222222222,
             "#7201a8"
            ],
            [
             0.3333333333333333,
             "#9c179e"
            ],
            [
             0.4444444444444444,
             "#bd3786"
            ],
            [
             0.5555555555555556,
             "#d8576b"
            ],
            [
             0.6666666666666666,
             "#ed7953"
            ],
            [
             0.7777777777777778,
             "#fb9f3a"
            ],
            [
             0.8888888888888888,
             "#fdca26"
            ],
            [
             1,
             "#f0f921"
            ]
           ],
           "sequentialminus": [
            [
             0,
             "#0d0887"
            ],
            [
             0.1111111111111111,
             "#46039f"
            ],
            [
             0.2222222222222222,
             "#7201a8"
            ],
            [
             0.3333333333333333,
             "#9c179e"
            ],
            [
             0.4444444444444444,
             "#bd3786"
            ],
            [
             0.5555555555555556,
             "#d8576b"
            ],
            [
             0.6666666666666666,
             "#ed7953"
            ],
            [
             0.7777777777777778,
             "#fb9f3a"
            ],
            [
             0.8888888888888888,
             "#fdca26"
            ],
            [
             1,
             "#f0f921"
            ]
           ]
          },
          "colorway": [
           "#636efa",
           "#EF553B",
           "#00cc96",
           "#ab63fa",
           "#FFA15A",
           "#19d3f3",
           "#FF6692",
           "#B6E880",
           "#FF97FF",
           "#FECB52"
          ],
          "font": {
           "color": "#2a3f5f"
          },
          "geo": {
           "bgcolor": "white",
           "lakecolor": "white",
           "landcolor": "#E5ECF6",
           "showlakes": true,
           "showland": true,
           "subunitcolor": "white"
          },
          "hoverlabel": {
           "align": "left"
          },
          "hovermode": "closest",
          "mapbox": {
           "style": "light"
          },
          "paper_bgcolor": "white",
          "plot_bgcolor": "#E5ECF6",
          "polar": {
           "angularaxis": {
            "gridcolor": "white",
            "linecolor": "white",
            "ticks": ""
           },
           "bgcolor": "#E5ECF6",
           "radialaxis": {
            "gridcolor": "white",
            "linecolor": "white",
            "ticks": ""
           }
          },
          "scene": {
           "xaxis": {
            "backgroundcolor": "#E5ECF6",
            "gridcolor": "white",
            "gridwidth": 2,
            "linecolor": "white",
            "showbackground": true,
            "ticks": "",
            "zerolinecolor": "white"
           },
           "yaxis": {
            "backgroundcolor": "#E5ECF6",
            "gridcolor": "white",
            "gridwidth": 2,
            "linecolor": "white",
            "showbackground": true,
            "ticks": "",
            "zerolinecolor": "white"
           },
           "zaxis": {
            "backgroundcolor": "#E5ECF6",
            "gridcolor": "white",
            "gridwidth": 2,
            "linecolor": "white",
            "showbackground": true,
            "ticks": "",
            "zerolinecolor": "white"
           }
          },
          "shapedefaults": {
           "line": {
            "color": "#2a3f5f"
           }
          },
          "ternary": {
           "aaxis": {
            "gridcolor": "white",
            "linecolor": "white",
            "ticks": ""
           },
           "baxis": {
            "gridcolor": "white",
            "linecolor": "white",
            "ticks": ""
           },
           "bgcolor": "#E5ECF6",
           "caxis": {
            "gridcolor": "white",
            "linecolor": "white",
            "ticks": ""
           }
          },
          "title": {
           "x": 0.05
          },
          "xaxis": {
           "automargin": true,
           "gridcolor": "white",
           "linecolor": "white",
           "ticks": "",
           "title": {
            "standoff": 15
           },
           "zerolinecolor": "white",
           "zerolinewidth": 2
          },
          "yaxis": {
           "automargin": true,
           "gridcolor": "white",
           "linecolor": "white",
           "ticks": "",
           "title": {
            "standoff": 15
           },
           "zerolinecolor": "white",
           "zerolinewidth": 2
          }
         }
        },
        "title": {
         "text": "msViper_Rank"
        },
        "xaxis": {
         "anchor": "y",
         "domain": [
          0,
          1
         ],
         "title": {
          "text": "n_genes/n_go"
         }
        },
        "yaxis": {
         "anchor": "x",
         "domain": [
          0,
          1
         ],
         "title": {
          "text": "term"
         }
        }
       }
      },
      "text/html": [
       "<div>                            <div id=\"1834c839-f157-4faa-b09d-34345a295d43\" class=\"plotly-graph-div\" style=\"height:525px; width:100%;\"></div>            <script type=\"text/javascript\">                require([\"plotly\"], function(Plotly) {                    window.PLOTLYENV=window.PLOTLYENV || {};                                    if (document.getElementById(\"1834c839-f157-4faa-b09d-34345a295d43\")) {                    Plotly.newPlot(                        \"1834c839-f157-4faa-b09d-34345a295d43\",                        [{\"alignmentgroup\":\"True\",\"customdata\":[[[\"Mybbp1a\",\"Hmga1\",\"Satb1\",\"Atf4\",\"Kdm1a\",\"Ddit3\",\"Elk1\",\"Hif1a\",\"Tfdp1\",\"Thap1\",\"Hira\",\"Zscan21\",\"Tcf3\",\"Erf\",\"Etv4\",\"Srebf1\",\"Pitx1\",\"Srebf2\",\"Gpbp1\",\"Dmrta2\",\"Zfp786\",\"Cebpa\",\"Mitf\",\"Cebpb\",\"Asxl3\",\"Sox4\",\"Zfp341\",\"E2f7\",\"Fosb\",\"Zfp280d\",\"Foxo6\",\"Ybx1\",\"Pbx2\",\"Ss18l1\",\"Egr1\",\"Arnt2\",\"Zfp90\",\"Olig2\",\"Foxk2\",\"Smad2\",\"Nfe2l3\",\"Smarca4\",\"Pgr\",\"Tcfl5\",\"Bach1\",\"Nfil3\",\"Maff\",\"Stat2\",\"Zfp628\",\"Hes6\",\"Hmg20b\",\"E2f5\",\"Nfya\",\"Tbr1\"]],[[\"Zfp296\",\"Satb1\",\"Atf4\",\"Rcor1\",\"Tbl1x\",\"Kdm1a\",\"Ddit3\",\"Elk1\",\"Hif1a\",\"Tfdp1\",\"Thap1\",\"Zfp449\",\"Tcf20\",\"Zscan21\",\"Zfp644\",\"Tcf3\",\"Erf\",\"Etv4\",\"Srebf1\",\"Pitx1\",\"Srebf2\",\"Zfp668\",\"Sox11\",\"Dmrta2\",\"Cebpa\",\"Mitf\",\"Cebpb\",\"Zfp639\",\"Cebpg\",\"E2f7\",\"Fosb\",\"Foxo6\",\"Sall3\",\"Pbx2\",\"Pcgf3\",\"Egr1\",\"Arnt2\",\"Sox30\",\"Taf6\",\"Ctnnb1\",\"Foxk2\",\"Nfe2l3\",\"Smarca4\",\"Bach1\",\"Maff\",\"Elmsan1\",\"Stat2\",\"Zfp628\",\"Tsc22d4\",\"Hes6\",\"Hmgb3\",\"E2f5\",\"Nfya\",\"Tbr1\"]],[[\"Mybbp1a\",\"Hmga1\",\"Atf4\",\"Tbl1x\",\"Drap1\",\"Kdm1a\",\"Ddit3\",\"Elk1\",\"Hif1a\",\"Tfdp1\",\"Tcea1\",\"Tcea2\",\"Tcf20\",\"Zscan21\",\"Tcf3\",\"Srebf1\",\"Etv4\",\"Pitx1\",\"Srebf2\",\"Sox11\",\"Gpbp1\",\"Cebpa\",\"Mitf\",\"Cebpb\",\"Zfp639\",\"Cebpg\",\"Sox4\",\"E2f7\",\"Fosb\",\"Ybx1\",\"Pbx2\",\"Ss18l1\",\"Egr1\",\"Arnt2\",\"Sox30\",\"Ctnnb1\",\"Npm1\",\"Foxk2\",\"Smad2\",\"Smarca4\",\"Pgr\",\"Bach1\",\"Maff\",\"Rnf4\",\"Stat2\",\"Asxl3\",\"Nfya\",\"Tbr1\"]],[[\"Zfp296\",\"Satb1\",\"Atf4\",\"Kdm1a\",\"Ddit3\",\"Hif1a\",\"Insm2\",\"Hnrnpab\",\"Thap1\",\"Chd4\",\"Id1\",\"Id3\",\"Tdg\",\"Zfp41\",\"Tcf3\",\"Erf\",\"Srebf1\",\"Srebf2\",\"Zfp81\",\"Sox11\",\"Cebpa\",\"Mitf\",\"Cebpb\",\"2610008E11Rik\",\"E2f7\",\"Ybx1\",\"Jarid2\",\"Egr1\",\"Sox30\",\"Zfp90\",\"Olig2\",\"Ctnnb1\",\"Nfe2l3\",\"Smarca4\",\"Tcfl5\",\"Bach1\",\"Nfil3\",\"Cbfa2t3\",\"Tsc22d4\",\"Hes6\",\"Insm1\",\"Zfp668\",\"Drap1\"]],[[\"Hmga1\",\"Atf4\",\"Ddit3\",\"Elk1\",\"Hif1a\",\"Tfam\",\"Tfdp1\",\"Tcea1\",\"Hnrnpab\",\"Chd4\",\"Zscan21\",\"Tcf3\",\"Srebf1\",\"Etv4\",\"Srebf2\",\"Sox11\",\"Gpbp1\",\"Cebpa\",\"Mitf\",\"Cebpb\",\"Sox4\",\"Scand1\",\"Ss18l1\",\"Egr1\",\"Arnt2\",\"Zfp90\",\"Taf6\",\"Ctnnb1\",\"Npm1\",\"Foxk2\",\"Smad2\",\"Smarca4\",\"Pgr\",\"Nfil3\",\"Rnf4\",\"Nfya\",\"Tbr1\"]],[[\"Mybbp1a\",\"Hmga1\",\"Rcor1\",\"Kdm1a\",\"Ddit3\",\"Insm2\",\"Chd4\",\"Id1\",\"Id3\",\"Pitx1\",\"Cebpa\",\"Cebpb\",\"Zfp639\",\"Jarid2\",\"Zfp90\",\"Ctnnb1\",\"Foxk2\",\"Smad2\",\"Smarca4\",\"Elmsan1\",\"Nfil3\",\"Cbfa2t3\",\"Tbl1x\",\"Tbr1\"]],[[\"Hmga1\",\"Ctnnb1\",\"Sox11\",\"Hira\",\"Nfil3\",\"Cbfa2t3\",\"Gpbp1\",\"Tcea1\",\"Tcea2\",\"Thap1\",\"Nfya\",\"Mitf\"]],[[\"Cebpb\",\"Ctnnb1\",\"Atf4\",\"Smarca4\",\"Fosb\",\"Nfil3\",\"Kdm1a\",\"Tcf3\",\"Gtf2b\",\"Srebf1\",\"Etv4\",\"Drap1\"]],[[\"Kdm1a\",\"Elk1\",\"Hif1a\",\"Id1\",\"Id3\",\"Zscan21\",\"Zfp41\",\"Tcf3\",\"Erf\",\"Etv4\",\"Sox11\",\"Mitf\",\"Cebpb\",\"Sox4\",\"Jarid2\",\"Ctnnb1\",\"Smad2\",\"Cbfa2t3\",\"Hes6\",\"Insm1\"]],[[\"Cebpb\",\"Ctnnb1\",\"Smad2\",\"Atf4\",\"Rps3\",\"Nfil3\",\"Tcf3\",\"Hif1a\",\"Etv4\",\"Egr1\",\"Mitf\",\"Sox11\",\"Id1\",\"Cebpa\",\"Id3\"]],[[\"Mybbp1a\",\"Cebpg\",\"Npm1\",\"Satb1\",\"Smarca4\",\"Jarid2\",\"Hmg20b\",\"Chd4\",\"Tbr1\"]],[[\"Tdg\",\"Satb1\",\"Rcor1\",\"Hira\",\"Smarca4\",\"Kdm1a\",\"Jarid2\",\"Ss18l1\",\"Hmg20b\",\"Chd4\"]],[[\"Ctnnb1\",\"Sox4\",\"Smarca4\",\"Ddit3\",\"Tcf3\",\"Elk1\",\"Gtf2b\",\"Tbr1\"]],[[\"Cebpg\",\"Kdm1a\",\"Ddit3\",\"Hes6\",\"Id1\",\"Id3\"]],[[\"Rcor1\",\"Tbl1x\",\"Elmsan1\",\"Chd4\",\"Tbr1\"]],[[\"Mybbp1a\",\"Atf4\",\"Nfil3\",\"Egr1\",\"Nfya\",\"Id1\",\"Id3\"]],[[\"Hmga1\",\"Ctnnb1\",\"Npm1\",\"Sox4\",\"Smad2\",\"E2f7\",\"Cbfa2t3\",\"Insm1\",\"Cebpa\",\"Taf6\"]],[[\"Smarca4\",\"Hif1a\",\"Srebf1\",\"Srebf2\",\"Egr1\"]],[[\"Ctnnb1\",\"Npm1\",\"Smad2\",\"Rcor1\",\"Hif1a\",\"Sox11\",\"Chd4\",\"Id1\",\"Id3\"]],[[\"Maff\",\"Egr1\",\"Hmg20b\",\"Sox11\",\"Dmrta2\"]],[[\"Elk1\",\"Rnf4\",\"Egr1\",\"Kdm1a\"]],[[\"Mybbp1a\",\"Atf4\",\"Egr1\",\"Id1\",\"Id3\"]],[[\"Cebpb\",\"Ddit3\",\"Atf4\"]],[[\"Dmrta2\",\"Ctnnb1\",\"Hif1a\",\"Kdm1a\"]],[[\"Atf4\",\"Nfil3\",\"Srebf1\",\"Id1\",\"Id3\"]],[[\"Cebpb\",\"Olig2\",\"Ctnnb1\",\"Insm1\",\"Insm2\",\"Sox11\",\"Tbr1\"]],[[\"Ctnnb1\",\"Ybx1\",\"Hif1a\",\"Hnrnpab\",\"Hmg20b\",\"Insm1\",\"Mitf\",\"Tbr1\"]],[[\"Cebpb\",\"Ctnnb1\",\"Mitf\"]],[[\"Cebpa\",\"Kdm1a\",\"Cbfa2t3\"]],[[\"Cebpb\",\"Atf4\"]],[[\"Smarca4\",\"Ctnnb1\"]],[[\"Ctnnb1\",\"Stat2\",\"Hif1a\",\"Jarid2\",\"Mitf\",\"Cebpa\"]],[[\"Smarca4\",\"Ctnnb1\",\"Tbr1\"]],[[\"Hif1a\",\"Egr1\"]],[[\"Ctnnb1\",\"Smarca4\",\"Ddit3\",\"Kdm1a\",\"Tcf3\"]],[[\"Sox11\",\"Pitx1\",\"Sox4\",\"Smad2\"]],[[\"Ctnnb1\",\"Npm1\",\"Sox4\",\"Smarca4\",\"Pgr\",\"Insm1\",\"Hif1a\",\"Arnt2\",\"Sox11\"]],[[\"Tbpl1\",\"Gtf2b\",\"Taf6\"]],[[\"Sox11\",\"Sox4\"]],[[\"Cebpb\",\"Atf4\"]],[[\"Olig2\",\"Zscan21\",\"Zfp41\",\"Kdm1a\",\"Insm1\",\"Jarid2\",\"Pitx1\",\"Mitf\",\"Hes6\",\"Sox11\",\"Id1\",\"Cebpa\",\"Id3\"]],[[\"Cebpb\",\"Sox11\",\"Ctnnb1\",\"Cebpa\"]],[[\"Ctnnb1\",\"Smad2\",\"Smarca4\",\"Maff\",\"Ybx1\",\"Erf\",\"Arnt2\"]],[[\"Elk1\",\"Smarca4\",\"Jarid2\",\"Cebpa\"]],[[\"Insm1\",\"Ctnnb1\",\"Kdm1a\"]],[[\"Cebpb\",\"Hif1a\",\"Cebpa\"]],[[\"Gtf2b\",\"Ctnnb1\"]],[[\"Sox11\",\"Sox4\"]],[[\"Npm1\",\"Sox4\"]],[[\"Ctnnb1\",\"Egr1\",\"Ddit3\",\"Atf4\"]],[[\"Mybbp1a\",\"Hmga1\",\"Gtf2b\",\"Insm2\",\"Hnrnpab\",\"Thap1\",\"Id1\",\"Id3\",\"Gtf3a\",\"Erf\",\"Gpbp1\",\"Zfp786\",\"Scand1\",\"Ybx1\",\"Ak6\",\"Pbx2\",\"Jarid2\",\"Ss18l1\",\"Arnt2\",\"Sox30\",\"Ctnnb1\",\"Nfe2l3\",\"Smarca4\",\"Nfil3\",\"Cbfa2t3\",\"Hes6\",\"Gcfc2\",\"Nfya\",\"Atf4\",\"Kdm1a\",\"Zfp2\",\"Tdg\",\"Zscan21\",\"Zfp41\",\"Zfp644\",\"Etv4\",\"Sox11\",\"Zfp639\",\"Sox4\",\"Foxo6\",\"Sall3\",\"Zfp90\",\"Olig2\",\"Npm1\",\"Foxk2\",\"Smad2\",\"Pgr\",\"Bach1\",\"Maff\",\"E2f5\",\"Satb1\",\"Rcor1\",\"Tfam\",\"Tfdp1\",\"Tbpl1\",\"Srebf1\",\"Pitx1\",\"Srebf2\",\"Cebpa\",\"Cebpb\",\"Cebpg\",\"Egr1\",\"Taf6\",\"Tcfl5\",\"Rnf4\",\"Stat2\",\"Zfp628\",\"Insm1\",\"Tbl1x\",\"Tbr1\",\"Zfp296\",\"Zfp319\",\"Ddit3\",\"Elk1\",\"Hif1a\",\"Tcea1\",\"Tcea2\",\"Chd4\",\"Hira\",\"Tcf20\",\"Rps3\",\"Tcf3\",\"Dmrta2\",\"Asxl3\",\"Mitf\",\"Zfp341\",\"E2f7\",\"Fosb\",\"Zfp280d\",\"Pcgf3\",\"Tsc22d4\",\"Hmg20b\",\"Hmgb3\",\"Zfp668\",\"Drap1\"]],[[\"Hmga1\",\"Atf4\",\"Drap1\",\"Ddit3\",\"Gtf2b\",\"Hif1a\",\"Tfdp1\",\"Hnrnpab\",\"Chd4\",\"Tcf3\",\"Cebpa\",\"Cebpb\",\"Cebpg\",\"E2f7\",\"Ctnnb1\",\"Nfe2l3\",\"Bach1\",\"Nfil3\",\"Maff\",\"E2f5\",\"Nfya\"]],[[\"Satb1\",\"Atf4\",\"Rcor1\",\"Tbl1x\",\"Kdm1a\",\"Ddit3\",\"Elk1\",\"Gtf2b\",\"Hif1a\",\"Tfdp1\",\"Tcea1\",\"Hnrnpab\",\"Tcea2\",\"Thap1\",\"Chd4\",\"Id1\",\"Hira\",\"Tdg\",\"Tcf20\",\"Gtf3a\",\"Tcf3\",\"Erf\",\"Srebf1\",\"Srebf2\",\"Sox11\",\"Hmg20b\",\"Cebpa\",\"Cebpb\",\"Zfp639\",\"Cebpg\",\"Sox4\",\"Fosb\",\"Foxo6\",\"Ak6\",\"Pcgf3\",\"Jarid2\",\"Ss18l1\",\"Egr1\",\"Arnt2\",\"Sox30\",\"Taf6\",\"Ctnnb1\",\"Npm1\",\"Foxk2\",\"Smad2\",\"Smarca4\",\"Maff\",\"Cbfa2t3\",\"Elmsan1\",\"Rnf4\",\"E2f5\",\"Gcfc2\",\"Nfya\"]],[[\"Olig2\",\"Ctnnb1\",\"Sox4\",\"Smad2\",\"Atf4\",\"Rcor1\",\"E2f7\",\"Elmsan1\",\"Tcf3\",\"Pbx2\",\"Pitx1\",\"Tfdp1\",\"Hif1a\",\"Hes6\",\"Arnt2\",\"E2f5\",\"Tbl1x\",\"Cebpa\"]],[[\"Ctnnb1\",\"Npm1\",\"Ddit3\",\"Gtf2b\",\"Chd4\",\"Nfya\"]],[[\"Cebpb\",\"Ddit3\",\"Cebpa\"]],[[\"Cebpb\",\"Satb1\",\"Smad2\",\"Hira\",\"Smarca4\",\"Kdm1a\",\"Tcf3\",\"Hif1a\",\"Egr1\",\"Chd4\"]],[[\"Ctnnb1\",\"Npm1\",\"Smad2\",\"Atf4\",\"Hira\",\"Kdm1a\",\"Tcf3\",\"Srebf1\",\"Tfam\",\"Hif1a\",\"Mitf\",\"Chd4\",\"Cebpa\",\"Taf6\"]],[[\"Ddit3\",\"Atf4\"]],[[\"Cebpb\",\"Cebpa\"]],[[\"Cebpb\",\"Npm1\",\"Satb1\",\"Smarca4\",\"Cebpa\"]],[[\"Insm2\",\"Rcor1\",\"Insm1\",\"Tbl1x\"]],[[\"Tfdp1\",\"Cebpa\"]],[[\"Smarca4\",\"Ctnnb1\",\"Hif1a\",\"Tcf3\"]],[[\"Tcf20\",\"Satb1\",\"Rnf4\",\"Gtf2b\",\"Hif1a\",\"Ss18l1\",\"Hmg20b\"]],[[\"Tcea1\",\"Gtf2b\",\"Taf6\"]],[[\"Tbpl1\",\"Hmga1\",\"Smarca4\",\"Tcfl5\"]],[[\"Rcor1\",\"Tbl1x\",\"Elmsan1\"]],[[\"Ctnnb1\",\"Atf4\",\"Rps3\",\"Cbfa2t3\",\"Srebf1\",\"Srebf2\"]],[[\"Mybbp1a\",\"Hmga1\",\"Gtf2b\",\"Insm2\",\"Hnrnpab\",\"Thap1\",\"Gtf3a\",\"Erf\",\"Gpbp1\",\"Zfp786\",\"Ybx1\",\"Pbx2\",\"Jarid2\",\"Ss18l1\",\"Arnt2\",\"Sox30\",\"Nfe2l3\",\"Smarca4\",\"Nfil3\",\"Hes6\",\"Gcfc2\",\"Nfya\",\"Atf4\",\"Zfp2\",\"Tdg\",\"Zscan21\",\"Zfp41\",\"Etv4\",\"Sox11\",\"Zfp639\",\"Sox4\",\"Foxo6\",\"Sall3\",\"Zfp90\",\"Olig2\",\"Npm1\",\"Foxk2\",\"Smad2\",\"Pgr\",\"Bach1\",\"Maff\",\"E2f5\",\"Satb1\",\"Tfam\",\"Tfdp1\",\"Tbpl1\",\"Srebf1\",\"Pitx1\",\"Srebf2\",\"Cebpa\",\"Cebpb\",\"Cebpg\",\"Egr1\",\"Taf6\",\"Tcfl5\",\"Rnf4\",\"Stat2\",\"Zfp628\",\"Insm1\",\"Tbl1x\",\"Tbr1\",\"Zfp319\",\"Ddit3\",\"Elk1\",\"Hif1a\",\"Tcea1\",\"Tcea2\",\"Chd4\",\"Tcf20\",\"Rps3\",\"Tcf3\",\"Dmrta2\",\"Asxl3\",\"Mitf\",\"Zfp341\",\"E2f7\",\"Fosb\",\"Zfp280d\",\"Hmg20b\",\"Hmgb3\",\"Zfp668\",\"Drap1\"]],[[\"Zfp296\",\"Hmga1\",\"Zfp319\",\"Satb1\",\"Atf4\",\"Kdm1a\",\"Ddit3\",\"Elk1\",\"Hif1a\",\"Insm2\",\"Thap1\",\"Zfp449\",\"Zscan21\",\"Zfp644\",\"Tcf3\",\"Srebf1\",\"Etv4\",\"Pitx1\",\"Srebf2\",\"Zfp668\",\"Sox11\",\"Dmrta2\",\"Zfp786\",\"Cebpa\",\"Mitf\",\"Cebpb\",\"Zfp639\",\"Cebpg\",\"Sox4\",\"Zfp341\",\"E2f7\",\"Fosb\",\"Zfp280d\",\"Foxo6\",\"Sall3\",\"Pbx2\",\"Egr1\",\"Arnt2\",\"Sox30\",\"Foxk2\",\"Smad2\",\"Nfe2l3\",\"Smarca4\",\"Pgr\",\"Tcfl5\",\"Bach1\",\"Nfil3\",\"Maff\",\"Stat2\",\"Zfp628\",\"Hes6\",\"Insm1\",\"E2f5\",\"Nfya\",\"Tbr1\"]],[[\"Zfp296\",\"Satb1\",\"Atf4\",\"Ddit3\",\"Elk1\",\"Hif1a\",\"Tfdp1\",\"Insm2\",\"Thap1\",\"Tcf20\",\"Tcf3\",\"Erf\",\"Etv4\",\"Srebf1\",\"Pitx1\",\"Srebf2\",\"Sox11\",\"Gpbp1\",\"Cebpa\",\"Mitf\",\"Cebpb\",\"Zfp639\",\"Sox4\",\"E2f7\",\"Fosb\",\"Foxo6\",\"Pbx2\",\"Ss18l1\",\"Egr1\",\"Arnt2\",\"Sox30\",\"Olig2\",\"Foxk2\",\"Smad2\",\"Nfe2l3\",\"Pgr\",\"Bach1\",\"Nfil3\",\"Maff\",\"Stat2\",\"Zfp628\",\"Hes6\",\"Insm1\",\"E2f5\",\"Nfya\",\"Tbr1\"]],[[\"Satb1\",\"Atf4\",\"Elk1\",\"Hif1a\",\"Tfdp1\",\"Zfp449\",\"Zscan21\",\"Zfp644\",\"Tcf3\",\"Erf\",\"Etv4\",\"Srebf1\",\"Pitx1\",\"Srebf2\",\"Zfp668\",\"Sox11\",\"Dmrta2\",\"Cebpa\",\"Mitf\",\"Cebpb\",\"Cebpg\",\"Sox4\",\"Zfp341\",\"E2f7\",\"Fosb\",\"Zfp280d\",\"Foxo6\",\"Sall3\",\"Pbx2\",\"Egr1\",\"Arnt2\",\"Sox30\",\"Olig2\",\"Foxk2\",\"Smad2\",\"Nfe2l3\",\"Tcfl5\",\"Bach1\",\"Maff\",\"Stat2\",\"Hes6\",\"E2f5\",\"Nfya\",\"Tbr1\"]],[[\"Hmga1\",\"Zfp319\",\"Atf4\",\"Ddit3\",\"Elk1\",\"Hif1a\",\"Tfdp1\",\"Zscan21\",\"Tcf3\",\"Srebf1\",\"Etv4\",\"Pitx1\",\"Sox11\",\"Zfp786\",\"Cebpa\",\"Mitf\",\"Cebpb\",\"Zfp639\",\"Cebpg\",\"Sox4\",\"Fosb\",\"Pbx2\",\"Egr1\",\"Arnt2\",\"Sox30\",\"Foxk2\",\"Smad2\",\"Pgr\",\"Bach1\",\"Maff\",\"Zfp628\",\"Nfya\"]],[[\"Mybbp1a\",\"Satb1\",\"Atf4\",\"Ddit3\",\"Elk1\",\"Hif1a\",\"Tfam\",\"Thap1\",\"Tcf3\",\"Erf\",\"Etv4\",\"Srebf1\",\"Srebf2\",\"Dmrta2\",\"Cebpa\",\"Mitf\",\"Cebpb\",\"Cebpg\",\"Fosb\",\"Foxo6\",\"Ybx1\",\"Egr1\",\"Foxk2\",\"Pgr\",\"Maff\",\"E2f5\",\"Nfya\"]],[[\"Satb1\",\"Insm2\",\"Thap1\",\"Zfp41\",\"Tcf3\",\"Erf\",\"Srebf2\",\"Zfp81\",\"Cebpb\",\"2610008E11Rik\",\"E2f7\",\"Sox30\",\"Zfp90\",\"Foxk2\",\"Nfe2l3\",\"Tcfl5\",\"Bach1\",\"Nfil3\",\"Hes6\",\"Insm1\",\"Zfp668\"]],[[\"Zfp296\",\"Atf4\",\"Elk1\",\"Hnrnpab\",\"Zfp449\",\"Zfp41\",\"Srebf1\",\"Etv4\",\"Pitx1\",\"Srebf2\",\"Dmrta2\",\"Cebpb\",\"Cebpg\",\"Sox4\",\"E2f7\",\"Fosb\",\"Ybx1\",\"Egr1\",\"Arnt2\",\"Sox30\",\"Olig2\",\"Tcfl5\",\"Maff\",\"Hes6\"]],[[\"Cebpb\",\"Tdg\",\"Ctnnb1\",\"Npm1\",\"Cebpg\",\"Smad2\",\"Atf4\",\"Satb1\",\"Rps3\",\"Kdm1a\",\"Tcf3\",\"Gtf2b\",\"Pbx2\",\"Tfdp1\",\"Chd4\",\"Tbl1x\",\"Cebpa\"]],[[\"Hmga1\",\"Satb1\",\"Rcor1\",\"Kdm1a\",\"Elk1\",\"Tfam\",\"Chd4\",\"Tcf3\",\"Srebf1\",\"Srebf2\",\"Cebpa\",\"Mitf\",\"Cebpb\",\"Ybx1\",\"Pbx2\",\"Jarid2\",\"Ctnnb1\",\"Npm1\",\"Smad2\",\"Smarca4\",\"Cbfa2t3\",\"Asxl3\",\"Tbl1x\"]],[[\"Mybbp1a\",\"Zfp296\",\"Atf4\",\"Rcor1\",\"Tbl1x\",\"Drap1\",\"Kdm1a\",\"Ddit3\",\"Elk1\",\"Gtf2b\",\"Hif1a\",\"Tfdp1\",\"Tcea1\",\"Hnrnpab\",\"Tbpl1\",\"Chd4\",\"Id1\",\"Hira\",\"Id3\",\"Tdg\",\"Rps3\",\"Tcf3\",\"Srebf1\",\"Pitx1\",\"Srebf2\",\"Gpbp1\",\"Dmrta2\",\"Cebpa\",\"Mitf\",\"Cebpb\",\"Cebpg\",\"Sox4\",\"E2f7\",\"Ybx1\",\"Pbx2\",\"Jarid2\",\"Pcgf3\",\"Arnt2\",\"Zfp90\",\"Taf6\",\"Olig2\",\"Ctnnb1\",\"Npm1\",\"Foxk2\",\"Smad2\",\"Smarca4\",\"Pgr\",\"Bach1\",\"Nfil3\",\"Cbfa2t3\",\"Rnf4\",\"Stat2\",\"Zfp628\",\"Tsc22d4\",\"E2f5\",\"Hmg20b\",\"Insm1\",\"Nfya\"]],[[\"Cebpb\",\"Ctnnb1\",\"Smad2\",\"Atf4\",\"Hira\",\"Kdm1a\",\"Ddit3\",\"Elk1\",\"Tcf3\",\"Hif1a\",\"Pitx1\",\"Tfdp1\",\"Hes6\",\"Chd4\",\"Cebpa\"]],[[\"Cebpb\",\"Zfp639\",\"Tcf20\",\"Sox4\",\"Foxk2\",\"Atf4\",\"Tbl1x\",\"Ddit3\",\"Tcf3\",\"Elk1\",\"Tfam\",\"Srebf2\",\"Egr1\",\"Sox11\",\"Nfya\",\"Cebpa\"]],[[\"Mybbp1a\",\"Zfp296\",\"Ctnnb1\",\"Smarca4\",\"Drap1\",\"Kdm1a\",\"Rnf4\",\"Ddit3\",\"Jarid2\",\"Chd4\",\"Cebpa\"]],[[\"Olig2\",\"Tcf3\",\"Srebf1\",\"Srebf2\",\"Hif1a\",\"Hes6\",\"Arnt2\",\"E2f5\",\"Id1\",\"Mitf\",\"Id3\"]],[[\"Cebpb\",\"Satb1\",\"Atf4\",\"E2f7\",\"Smarca4\",\"Rps3\",\"Nfil3\",\"Pbx2\",\"Srebf1\",\"Tfdp1\",\"Egr1\",\"Hes6\",\"Hif1a\"]],[[\"Hmga1\",\"Ctnnb1\",\"Smarca4\",\"Srebf1\",\"Chd4\",\"Nfya\"]],[[\"Mybbp1a\",\"Rcor1\",\"Smarca4\",\"Drap1\",\"Elmsan1\",\"Kdm1a\",\"Cbfa2t3\",\"Insm2\",\"Tbl1x\"]],[[\"Cebpb\",\"Atf4\",\"Ddit3\",\"Tcf3\",\"Hif1a\",\"Hes6\",\"Arnt2\",\"Drap1\",\"Cebpa\",\"Taf6\"]],[[\"Zfp296\",\"Zfp319\",\"Gtf2b\",\"Zfp2\",\"Tcea1\",\"Insm2\",\"Tcea2\",\"Thap1\",\"Chd4\",\"Tcf20\",\"Gtf3a\",\"Zscan21\",\"Zfp41\",\"Dmrta2\",\"Zfp786\",\"Zfp639\",\"Zfp280d\",\"Sall3\",\"Pcgf3\",\"Egr1\",\"Zfp90\",\"Foxk2\",\"Smad2\",\"Pgr\",\"Cbfa2t3\",\"Rnf4\",\"Zfp628\",\"Asxl3\",\"Insm1\",\"Zfp668\"]],[[\"Mybbp1a\",\"Tcf3\",\"Hif1a\",\"Srebf2\",\"Mitf\"]],[[\"Tbpl1\",\"Gtf2b\",\"Cebpb\",\"Egr1\"]],[[\"Tfdp1\",\"Id1\",\"Ddit3\",\"Id3\"]],[[\"Hmga1\",\"Ctnnb1\",\"Npm1\",\"Tcf20\",\"Smarca4\",\"Ss18l1\",\"Drap1\",\"Taf6\"]],[[\"Tbpl1\",\"Gtf2b\",\"Drap1\",\"Taf6\"]],[[\"Npm1\",\"Smarca4\",\"Kdm1a\",\"Ybx1\",\"Hif1a\"]],[[\"Hmga1\",\"E2f7\",\"Tcf3\",\"Tfdp1\",\"Sox11\"]],[[\"Zfp341\",\"Hif1a\",\"E2f5\"]],[[\"Tdg\",\"Cebpg\",\"Smad2\",\"Fosb\",\"Elk1\",\"Egr1\"]],[[\"Gtf2b\",\"Drap1\",\"Rnf4\"]],[[\"Cebpb\",\"Olig2\",\"Npm1\",\"Smad2\",\"Atf4\",\"E2f7\",\"Dmrta2\",\"Pgr\",\"Drap1\",\"Nfil3\",\"Rnf4\",\"Stat2\",\"Ddit3\",\"Tcf3\",\"Thap1\",\"Tbl1x\",\"Id1\",\"Cebpa\"]],[[\"Cebpb\",\"Hif1a\",\"Insm1\",\"Chd4\",\"Cebpa\"]],[[\"Gtf2b\",\"Egr1\",\"Kdm1a\",\"Atf4\"]],[[\"Smarca4\",\"Kdm1a\",\"Rnf4\"]],[[\"Hmga1\",\"Ctnnb1\",\"Npm1\",\"Rcor1\",\"Rps3\",\"Pgr\",\"Kdm1a\",\"Hif1a\"]],[[\"Npm1\",\"Hira\",\"Smarca4\",\"Chd4\",\"Tbl1x\"]],[[\"Cebpb\",\"Insm1\",\"Cebpa\",\"Tbr1\"]]],\"hovertemplate\":\"n_genes/n_go=%{x}<br>term=%{y}<br>study_genes=%{customdata[0]}<extra></extra>\",\"legendgroup\":\"\",\"marker\":{\"color\":\"#636efa\",\"pattern\":{\"shape\":\"\"}},\"name\":\"\",\"offsetgroup\":\"\",\"orientation\":\"h\",\"showlegend\":false,\"textposition\":\"auto\",\"x\":[0.050514499532273154,0.04591836734693878,0.04013377926421405,0.043,0.05196629213483146,0.042704626334519574,0.07792207792207792,0.05128205128205128,0.02047082906857728,0.02654867256637168,0.05357142857142857,0.029850746268656716,0.032,0.07058823529411765,0.10204081632653061,0.046052631578947366,0.025510204081632654,0.09433962264150944,0.02313624678663239,0.08928571428571429,0.14285714285714285,0.06756756756756757,0.2727272727272727,0.11428571428571428,0.06329113924050633,0.03153153153153153,0.0199501246882793,0.16666666666666666,0.15789473684210525,0.6666666666666666,0.6666666666666666,0.031746031746031744,0.13636363636363635,0.5,0.0390625,0.05970149253731343,0.017077798861480076,0.11538461538461539,0.4,0.4,0.011828935395814377,0.05194805194805195,0.020771513353115726,0.05128205128205128,0.1,0.0967741935483871,0.3333333333333333,0.3333333333333333,0.3333333333333333,0.04938271604938271,0.01566881081972621,0.16030534351145037,0.016262657256827247,0.06040268456375839,0.11764705882352941,1.0,0.02358490566037736,0.015267175572519083,1.0,1.0,0.04672897196261682,0.06349206349206349,0.5,0.057971014492753624,0.02046783625730994,0.09375,0.046511627906976744,0.07142857142857142,0.0007703171138785466,0.04726224783861672,0.05154639175257732,0.07467532467532467,0.052948255114320095,0.0625,0.05636743215031315,0.06666666666666667,0.04452690166975881,0.08900523560209424,0.04339622641509434,0.010752688172043012,0.07653061224489796,0.06060606060606061,0.08270676691729323,0.06432748538011696,0.0391566265060241,0.12244897959183673,0.046632124352331605,0.03194888178913738,0.009345794392523364,0.10869565217391304,0.18181818181818182,0.17391304347826086,0.03404255319148936,0.1111111111111111,0.06493506493506493,0.05813953488372093,0.2,0.03529411764705882,0.1111111111111111,0.009321595028482652,0.03546099290780142,0.05128205128205128,0.09090909090909091,0.017130620985010708,0.030864197530864196,0.04081632653061224],\"xaxis\":\"x\",\"y\":[\"regulation of DNA-templated transcription\",\"regulation of transcription by RNA polymerase II\",\"positive regulation of transcription by RNA polymerase II\",\"negative regulation of transcription by RNA polymerase II\",\"positive regulation of DNA-templated transcription\",\"negative regulation of DNA-templated transcription\",\"DNA-templated transcription\",\"transcription by RNA polymerase II\",\"cell differentiation\",\"positive regulation of gene expression\",\"chromatin remodeling\",\"chromatin organization\",\"gene expression\",\"negative regulation of DNA-binding transcription factor activity\",\"histone deacetylation\",\"rhythmic process\",\"negative regulation of cell population proliferation\",\"positive regulation of miRNA transcription\",\"negative regulation of gene expression\",\"skeletal muscle cell differentiation\",\"cellular response to gamma radiation\",\"circadian regulation of gene expression\",\"positive regulation of transcription from RNA polymerase II promoter in response to endoplasmic reticulum stress\",\"positive regulation of neuroblast proliferation\",\"circadian rhythm\",\"neuron differentiation\",\"regulation of gene expression\",\"regulation of osteoclast differentiation\",\"granulocyte differentiation\",\"positive regulation of sodium-dependent phosphate transport\",\"glial cell fate determination\",\"regulation of cell population proliferation\",\"hindbrain development\",\"positive regulation of hormone biosynthetic process\",\"positive regulation of DNA-binding transcription factor activity\",\"anatomical structure morphogenesis\",\"positive regulation of cell population proliferation\",\"DNA-templated transcription initiation\",\"cardiac ventricle formation\",\"positive regulation of biomineral tissue development\",\"multicellular organism development\",\"positive regulation of osteoblast differentiation\",\"in utero embryonic development\",\"liver development\",\"positive regulation of neural precursor cell proliferation\",\"embryonic placenta development\",\"positive regulation of core promoter binding\",\"noradrenergic neuron differentiation\",\"regulation of DNA damage response, signal transduction by p53 class mediator\",\"positive regulation of neuron apoptotic process\",\"nucleus\",\"RNA polymerase II transcription regulator complex\",\"nucleoplasm\",\"transcription regulator complex\",\"protein-DNA complex\",\"CHOP-C/EBP complex\",\"chromatin\",\"protein-containing complex\",\"CHOP-ATF4 complex\",\"C/EBP complex\",\"nuclear matrix\",\"transcription repressor complex\",\"Rb-E2F complex\",\"euchromatin\",\"nuclear body\",\"transcription factor TFIID complex\",\"male germ cell nucleus\",\"histone deacetylase complex\",\"membrane\",\"DNA binding\",\"RNA polymerase II cis-regulatory region sequence-specific DNA binding\",\"DNA-binding transcription factor activity\",\"DNA-binding transcription factor activity, RNA polymerase II-specific\",\"DNA-binding transcription activator activity, RNA polymerase II-specific\",\"sequence-specific DNA binding\",\"DNA-binding transcription repressor activity, RNA polymerase II-specific\",\"sequence-specific double-stranded DNA binding\",\"DNA-binding transcription factor binding\",\"chromatin binding\",\"protein binding\",\"RNA polymerase II-specific DNA-binding transcription factor binding\",\"transcription cis-regulatory region binding\",\"transcription factor binding\",\"protein dimerization activity\",\"RNA polymerase II transcription regulatory region sequence-specific DNA binding\",\"transcription coregulator binding\",\"transcription corepressor activity\",\"protein heterodimerization activity\",\"metal ion binding\",\"E-box binding\",\"RNA polymerase II core promoter sequence-specific DNA binding\",\"transcription regulator inhibitor activity\",\"transcription coactivator activity\",\"RNA polymerase II general transcription initiation factor activity\",\"p53 binding\",\"cis-regulatory region sequence-specific DNA binding\",\"DNA-binding transcription activator activity\",\"double-stranded DNA binding\",\"TBP-class protein binding\",\"identical protein binding\",\"histone deacetylase binding\",\"promoter-specific chromatin binding\",\"nuclear androgen receptor binding\",\"enzyme binding\",\"histone binding\",\"chromatin DNA binding\"],\"yaxis\":\"y\",\"type\":\"bar\"}],                        {\"template\":{\"data\":{\"bar\":[{\"error_x\":{\"color\":\"#2a3f5f\"},\"error_y\":{\"color\":\"#2a3f5f\"},\"marker\":{\"line\":{\"color\":\"#E5ECF6\",\"width\":0.5},\"pattern\":{\"fillmode\":\"overlay\",\"size\":10,\"solidity\":0.2}},\"type\":\"bar\"}],\"barpolar\":[{\"marker\":{\"line\":{\"color\":\"#E5ECF6\",\"width\":0.5},\"pattern\":{\"fillmode\":\"overlay\",\"size\":10,\"solidity\":0.2}},\"type\":\"barpolar\"}],\"carpet\":[{\"aaxis\":{\"endlinecolor\":\"#2a3f5f\",\"gridcolor\":\"white\",\"linecolor\":\"white\",\"minorgridcolor\":\"white\",\"startlinecolor\":\"#2a3f5f\"},\"baxis\":{\"endlinecolor\":\"#2a3f5f\",\"gridcolor\":\"white\",\"linecolor\":\"white\",\"minorgridcolor\":\"white\",\"startlinecolor\":\"#2a3f5f\"},\"type\":\"carpet\"}],\"choropleth\":[{\"colorbar\":{\"outlinewidth\":0,\"ticks\":\"\"},\"type\":\"choropleth\"}],\"contour\":[{\"colorbar\":{\"outlinewidth\":0,\"ticks\":\"\"},\"colorscale\":[[0.0,\"#0d0887\"],[0.1111111111111111,\"#46039f\"],[0.2222222222222222,\"#7201a8\"],[0.3333333333333333,\"#9c179e\"],[0.4444444444444444,\"#bd3786\"],[0.5555555555555556,\"#d8576b\"],[0.6666666666666666,\"#ed7953\"],[0.7777777777777778,\"#fb9f3a\"],[0.8888888888888888,\"#fdca26\"],[1.0,\"#f0f921\"]],\"type\":\"contour\"}],\"contourcarpet\":[{\"colorbar\":{\"outlinewidth\":0,\"ticks\":\"\"},\"type\":\"contourcarpet\"}],\"heatmap\":[{\"colorbar\":{\"outlinewidth\":0,\"ticks\":\"\"},\"colorscale\":[[0.0,\"#0d0887\"],[0.1111111111111111,\"#46039f\"],[0.2222222222222222,\"#7201a8\"],[0.3333333333333333,\"#9c179e\"],[0.4444444444444444,\"#bd3786\"],[0.5555555555555556,\"#d8576b\"],[0.6666666666666666,\"#ed7953\"],[0.7777777777777778,\"#fb9f3a\"],[0.8888888888888888,\"#fdca26\"],[1.0,\"#f0f921\"]],\"type\":\"heatmap\"}],\"heatmapgl\":[{\"colorbar\":{\"outlinewidth\":0,\"ticks\":\"\"},\"colorscale\":[[0.0,\"#0d0887\"],[0.1111111111111111,\"#46039f\"],[0.2222222222222222,\"#7201a8\"],[0.3333333333333333,\"#9c179e\"],[0.4444444444444444,\"#bd3786\"],[0.5555555555555556,\"#d8576b\"],[0.6666666666666666,\"#ed7953\"],[0.7777777777777778,\"#fb9f3a\"],[0.8888888888888888,\"#fdca26\"],[1.0,\"#f0f921\"]],\"type\":\"heatmapgl\"}],\"histogram\":[{\"marker\":{\"pattern\":{\"fillmode\":\"overlay\",\"size\":10,\"solidity\":0.2}},\"type\":\"histogram\"}],\"histogram2d\":[{\"colorbar\":{\"outlinewidth\":0,\"ticks\":\"\"},\"colorscale\":[[0.0,\"#0d0887\"],[0.1111111111111111,\"#46039f\"],[0.2222222222222222,\"#7201a8\"],[0.3333333333333333,\"#9c179e\"],[0.4444444444444444,\"#bd3786\"],[0.5555555555555556,\"#d8576b\"],[0.6666666666666666,\"#ed7953\"],[0.7777777777777778,\"#fb9f3a\"],[0.8888888888888888,\"#fdca26\"],[1.0,\"#f0f921\"]],\"type\":\"histogram2d\"}],\"histogram2dcontour\":[{\"colorbar\":{\"outlinewidth\":0,\"ticks\":\"\"},\"colorscale\":[[0.0,\"#0d0887\"],[0.1111111111111111,\"#46039f\"],[0.2222222222222222,\"#7201a8\"],[0.3333333333333333,\"#9c179e\"],[0.4444444444444444,\"#bd3786\"],[0.5555555555555556,\"#d8576b\"],[0.6666666666666666,\"#ed7953\"],[0.7777777777777778,\"#fb9f3a\"],[0.8888888888888888,\"#fdca26\"],[1.0,\"#f0f921\"]],\"type\":\"histogram2dcontour\"}],\"mesh3d\":[{\"colorbar\":{\"outlinewidth\":0,\"ticks\":\"\"},\"type\":\"mesh3d\"}],\"parcoords\":[{\"line\":{\"colorbar\":{\"outlinewidth\":0,\"ticks\":\"\"}},\"type\":\"parcoords\"}],\"pie\":[{\"automargin\":true,\"type\":\"pie\"}],\"scatter\":[{\"marker\":{\"colorbar\":{\"outlinewidth\":0,\"ticks\":\"\"}},\"type\":\"scatter\"}],\"scatter3d\":[{\"line\":{\"colorbar\":{\"outlinewidth\":0,\"ticks\":\"\"}},\"marker\":{\"colorbar\":{\"outlinewidth\":0,\"ticks\":\"\"}},\"type\":\"scatter3d\"}],\"scattercarpet\":[{\"marker\":{\"colorbar\":{\"outlinewidth\":0,\"ticks\":\"\"}},\"type\":\"scattercarpet\"}],\"scattergeo\":[{\"marker\":{\"colorbar\":{\"outlinewidth\":0,\"ticks\":\"\"}},\"type\":\"scattergeo\"}],\"scattergl\":[{\"marker\":{\"colorbar\":{\"outlinewidth\":0,\"ticks\":\"\"}},\"type\":\"scattergl\"}],\"scattermapbox\":[{\"marker\":{\"colorbar\":{\"outlinewidth\":0,\"ticks\":\"\"}},\"type\":\"scattermapbox\"}],\"scatterpolar\":[{\"marker\":{\"colorbar\":{\"outlinewidth\":0,\"ticks\":\"\"}},\"type\":\"scatterpolar\"}],\"scatterpolargl\":[{\"marker\":{\"colorbar\":{\"outlinewidth\":0,\"ticks\":\"\"}},\"type\":\"scatterpolargl\"}],\"scatterternary\":[{\"marker\":{\"colorbar\":{\"outlinewidth\":0,\"ticks\":\"\"}},\"type\":\"scatterternary\"}],\"surface\":[{\"colorbar\":{\"outlinewidth\":0,\"ticks\":\"\"},\"colorscale\":[[0.0,\"#0d0887\"],[0.1111111111111111,\"#46039f\"],[0.2222222222222222,\"#7201a8\"],[0.3333333333333333,\"#9c179e\"],[0.4444444444444444,\"#bd3786\"],[0.5555555555555556,\"#d8576b\"],[0.6666666666666666,\"#ed7953\"],[0.7777777777777778,\"#fb9f3a\"],[0.8888888888888888,\"#fdca26\"],[1.0,\"#f0f921\"]],\"type\":\"surface\"}],\"table\":[{\"cells\":{\"fill\":{\"color\":\"#EBF0F8\"},\"line\":{\"color\":\"white\"}},\"header\":{\"fill\":{\"color\":\"#C8D4E3\"},\"line\":{\"color\":\"white\"}},\"type\":\"table\"}]},\"layout\":{\"annotationdefaults\":{\"arrowcolor\":\"#2a3f5f\",\"arrowhead\":0,\"arrowwidth\":1},\"autotypenumbers\":\"strict\",\"coloraxis\":{\"colorbar\":{\"outlinewidth\":0,\"ticks\":\"\"}},\"colorscale\":{\"diverging\":[[0,\"#8e0152\"],[0.1,\"#c51b7d\"],[0.2,\"#de77ae\"],[0.3,\"#f1b6da\"],[0.4,\"#fde0ef\"],[0.5,\"#f7f7f7\"],[0.6,\"#e6f5d0\"],[0.7,\"#b8e186\"],[0.8,\"#7fbc41\"],[0.9,\"#4d9221\"],[1,\"#276419\"]],\"sequential\":[[0.0,\"#0d0887\"],[0.1111111111111111,\"#46039f\"],[0.2222222222222222,\"#7201a8\"],[0.3333333333333333,\"#9c179e\"],[0.4444444444444444,\"#bd3786\"],[0.5555555555555556,\"#d8576b\"],[0.6666666666666666,\"#ed7953\"],[0.7777777777777778,\"#fb9f3a\"],[0.8888888888888888,\"#fdca26\"],[1.0,\"#f0f921\"]],\"sequentialminus\":[[0.0,\"#0d0887\"],[0.1111111111111111,\"#46039f\"],[0.2222222222222222,\"#7201a8\"],[0.3333333333333333,\"#9c179e\"],[0.4444444444444444,\"#bd3786\"],[0.5555555555555556,\"#d8576b\"],[0.6666666666666666,\"#ed7953\"],[0.7777777777777778,\"#fb9f3a\"],[0.8888888888888888,\"#fdca26\"],[1.0,\"#f0f921\"]]},\"colorway\":[\"#636efa\",\"#EF553B\",\"#00cc96\",\"#ab63fa\",\"#FFA15A\",\"#19d3f3\",\"#FF6692\",\"#B6E880\",\"#FF97FF\",\"#FECB52\"],\"font\":{\"color\":\"#2a3f5f\"},\"geo\":{\"bgcolor\":\"white\",\"lakecolor\":\"white\",\"landcolor\":\"#E5ECF6\",\"showlakes\":true,\"showland\":true,\"subunitcolor\":\"white\"},\"hoverlabel\":{\"align\":\"left\"},\"hovermode\":\"closest\",\"mapbox\":{\"style\":\"light\"},\"paper_bgcolor\":\"white\",\"plot_bgcolor\":\"#E5ECF6\",\"polar\":{\"angularaxis\":{\"gridcolor\":\"white\",\"linecolor\":\"white\",\"ticks\":\"\"},\"bgcolor\":\"#E5ECF6\",\"radialaxis\":{\"gridcolor\":\"white\",\"linecolor\":\"white\",\"ticks\":\"\"}},\"scene\":{\"xaxis\":{\"backgroundcolor\":\"#E5ECF6\",\"gridcolor\":\"white\",\"gridwidth\":2,\"linecolor\":\"white\",\"showbackground\":true,\"ticks\":\"\",\"zerolinecolor\":\"white\"},\"yaxis\":{\"backgroundcolor\":\"#E5ECF6\",\"gridcolor\":\"white\",\"gridwidth\":2,\"linecolor\":\"white\",\"showbackground\":true,\"ticks\":\"\",\"zerolinecolor\":\"white\"},\"zaxis\":{\"backgroundcolor\":\"#E5ECF6\",\"gridcolor\":\"white\",\"gridwidth\":2,\"linecolor\":\"white\",\"showbackground\":true,\"ticks\":\"\",\"zerolinecolor\":\"white\"}},\"shapedefaults\":{\"line\":{\"color\":\"#2a3f5f\"}},\"ternary\":{\"aaxis\":{\"gridcolor\":\"white\",\"linecolor\":\"white\",\"ticks\":\"\"},\"baxis\":{\"gridcolor\":\"white\",\"linecolor\":\"white\",\"ticks\":\"\"},\"bgcolor\":\"#E5ECF6\",\"caxis\":{\"gridcolor\":\"white\",\"linecolor\":\"white\",\"ticks\":\"\"}},\"title\":{\"x\":0.05},\"xaxis\":{\"automargin\":true,\"gridcolor\":\"white\",\"linecolor\":\"white\",\"ticks\":\"\",\"title\":{\"standoff\":15},\"zerolinecolor\":\"white\",\"zerolinewidth\":2},\"yaxis\":{\"automargin\":true,\"gridcolor\":\"white\",\"linecolor\":\"white\",\"ticks\":\"\",\"title\":{\"standoff\":15},\"zerolinecolor\":\"white\",\"zerolinewidth\":2}}},\"xaxis\":{\"anchor\":\"y\",\"domain\":[0.0,1.0],\"title\":{\"text\":\"n_genes/n_go\"}},\"yaxis\":{\"anchor\":\"x\",\"domain\":[0.0,1.0],\"title\":{\"text\":\"term\"}},\"legend\":{\"tracegroupgap\":0},\"title\":{\"text\":\"msViper_Rank\"},\"barmode\":\"relative\",\"plot_bgcolor\":\"rgba(0, 0, 0, 0)\"},                        {\"responsive\": true}                    ).then(function(){\n",
       "                            \n",
       "var gd = document.getElementById('1834c839-f157-4faa-b09d-34345a295d43');\n",
       "var x = new MutationObserver(function (mutations, observer) {{\n",
       "        var display = window.getComputedStyle(gd).display;\n",
       "        if (!display || display === 'none') {{\n",
       "            console.log([gd, 'removed!']);\n",
       "            Plotly.purge(gd);\n",
       "            observer.disconnect();\n",
       "        }}\n",
       "}});\n",
       "\n",
       "// Listen for the removal of the full notebook cells\n",
       "var notebookContainer = gd.closest('#notebook-container');\n",
       "if (notebookContainer) {{\n",
       "    x.observe(notebookContainer, {childList: true});\n",
       "}}\n",
       "\n",
       "// Listen for the clearing of the current output cell\n",
       "var outputEl = gd.closest('.output');\n",
       "if (outputEl) {{\n",
       "    x.observe(outputEl, {childList: true});\n",
       "}}\n",
       "\n",
       "                        })                };                });            </script>        </div>"
      ]
     },
     "metadata": {},
     "output_type": "display_data"
    }
   ],
   "source": [
    "\n",
    "import plotly.express as px\n",
    "\n",
    "for i in df.keys():\n",
    "    fig = px.bar(df[i], x='n_genes/n_go', y='term', orientation='h',\n",
    "                hover_data=['study_genes'],\n",
    "                title = i).update_layout(\n",
    "#                                 template='plotly_dark',\n",
    "                                plot_bgcolor='rgba(0, 0, 0, 0)',\n",
    "#                                 paper_bgcolor='rgba(0, 0, 0, 0)',\n",
    "                            )\n",
    "    fig.show()\n",
    "    fig.write_html(\"../output/GO_analysis/GO_\"+i+\"_.html\")"
   ]
  },
  {
   "cell_type": "code",
   "execution_count": 49,
   "id": "5851699d",
   "metadata": {},
   "outputs": [
    {
     "data": {
      "application/vnd.plotly.v1+json": {
       "config": {
        "plotlyServerURL": "https://plot.ly"
       },
       "data": [
        {
         "alignmentgroup": "True",
         "customdata": [
          [
           [
            "Dzip1l",
            "Arl13b",
            "Traf3ip1"
           ]
          ],
          [
           [
            "Sdcbp",
            "Arhgef28",
            "Snap25",
            "Lrrc3b",
            "Epha5",
            "Lamp1",
            "Pde4a",
            "Kcnma1",
            "Fkbp2",
            "Rtp1",
            "Pde6d",
            "Atp1a1",
            "Clstn1",
            "Camk2d",
            "Aldoa",
            "Spcs1",
            "Arl3",
            "Nat14",
            "Scg3",
            "Macf1",
            "Acsl6",
            "Jakmip1",
            "Ghitm",
            "Ubl3",
            "Sgpl1",
            "Acbd5",
            "Sgtb",
            "Dner",
            "Arl13b",
            "Ormdl3",
            "Tmem59",
            "Rtp2",
            "Mcf2l",
            "Gramd1c",
            "Manea",
            "Bsg",
            "Atp6v1a",
            "Faim2",
            "Rnf128",
            "Nrn1l",
            "Aig1",
            "Abhd16a",
            "Mslnl",
            "Dnajb14",
            "Herpud1",
            "Spef1",
            "Slc24a2",
            "Psen2",
            "Tmem30a",
            "Oscp1",
            "Npdc1",
            "Ctsb",
            "Tspan3",
            "Syt1",
            "Ndufv3",
            "Cnga2",
            "Serinc1",
            "Syt7"
           ]
          ],
          [
           [
            "Ccdc39",
            "Kifap3",
            "Traf3ip1",
            "Ttll3",
            "Arl13b",
            "Spef1",
            "Dzip1l",
            "Arl3"
           ]
          ],
          [
           [
            "Epha5",
            "Pde6d",
            "Atp1a1",
            "Clstn1",
            "Arl3",
            "Macf1",
            "Traf3ip1",
            "Arl13b",
            "Bsg",
            "Dzip1l",
            "Enkur",
            "Cfap69",
            "Spef1",
            "Cplx2",
            "Ccdc39",
            "Ttll6",
            "Ttll3",
            "Ift74",
            "Syt7"
           ]
          ],
          [
           [
            "Sdcbp",
            "Arhgef28",
            "Snap25",
            "Epha5",
            "Lamp1",
            "Pde4a",
            "Kcnma1",
            "Rtp1",
            "Atp1a1",
            "Clstn1",
            "Camk2d",
            "Aldoa",
            "Macf1",
            "Ubl3",
            "Dner",
            "Arl13b",
            "Tmem59",
            "Rtp2",
            "Mcf2l",
            "Gramd1c",
            "Bsg",
            "Atp6v1a",
            "Faim2",
            "Nrn1l",
            "Aig1",
            "Spef1",
            "Hist2h2be",
            "Slc24a2",
            "Psen2",
            "Pcdh10",
            "Tmem30a",
            "Oscp1",
            "Ctsb",
            "Nfe2l2",
            "Tspan3",
            "Syt1",
            "Cnga2",
            "Serinc1",
            "Syt7"
           ]
          ],
          [
           [
            "Sdcbp",
            "Kcnma1",
            "Fkbp2",
            "Atp1a1",
            "Clstn1",
            "Spcs1",
            "Acsl6",
            "Sgpl1",
            "Ormdl3",
            "Gramd1c",
            "Bsg",
            "Kifap3",
            "Faim2",
            "Rnf128",
            "Dnajb14",
            "Herpud1",
            "Tmem30a",
            "Psen2",
            "Rap1gds1",
            "Serinc1"
           ]
          ],
          [
           [
            "Enkur",
            "Ccdc39",
            "Traf3ip1",
            "Cfap69",
            "Ttll6",
            "Ttll3",
            "Ift74",
            "Arl13b",
            "Spef1",
            "Dzip1l"
           ]
          ],
          [
           [
            "Snap25",
            "Epha5",
            "Lamp1",
            "Dner",
            "Kcnma1",
            "Cplx2",
            "Mapk8ip2",
            "Nqo1",
            "Syt7",
            "Camk2d",
            "Psen2"
           ]
          ],
          [
           [
            "Enkur",
            "Cfap69",
            "Ttll3",
            "Ift74",
            "Arl13b",
            "Spef1"
           ]
          ],
          [
           [
            "Traf3ip1",
            "Kifap3",
            "Ttll6",
            "Dzip1l",
            "Psen2",
            "Arl3"
           ]
          ],
          [
           [
            "Enkur",
            "Sdcbp",
            "Macf1",
            "Ccdc39",
            "Limch1",
            "Snap25",
            "Traf3ip1",
            "Jakmip1",
            "Rnf128",
            "Ttll6",
            "Ttll3",
            "Spef1",
            "Pde6d",
            "Dzip1l",
            "Arl3"
           ]
          ],
          [
           [
            "Enkur",
            "Ccdc39",
            "Spef1"
           ]
          ],
          [
           [
            "Cplx2",
            "Snap25"
           ]
          ],
          [
           [
            "Macf1",
            "Traf3ip1",
            "Kifap3",
            "Jakmip1",
            "Ttll3",
            "Arl3"
           ]
          ],
          [
           [
            "Dnajb14",
            "Herpud1",
            "Bsg",
            "Ormdl3",
            "Rtp1",
            "Rtp2",
            "Gramd1c",
            "Serinc1",
            "Spcs1"
           ]
          ],
          [
           [
            "Atp1a1",
            "Enkur",
            "Ttll3",
            "Ak1"
           ]
          ],
          [
           [
            "Traf3ip1",
            "Kifap3",
            "Arl3"
           ]
          ],
          [
           [
            "Macf1",
            "Kifap3",
            "Nfe2l2",
            "Faim2",
            "Rnf128",
            "Rabgap1l",
            "Syt1",
            "Tmem59",
            "Atp1a1",
            "Clstn1",
            "Manea",
            "Tmem30a",
            "Psen2",
            "Arl3"
           ]
          ],
          [
           [
            "Snap25",
            "Psen2",
            "Lamp1",
            "Syt1",
            "Syt7"
           ]
          ],
          [
           [
            "Snap25",
            "Ctsb",
            "Epha5",
            "Lamp1",
            "Pde4a",
            "Kcnma1",
            "Ak1",
            "Camk2d",
            "Psen2"
           ]
          ],
          [
           [
            "Sdcbp",
            "Snap25",
            "Faim2",
            "Bsg",
            "Atp1a1",
            "Psen2"
           ]
          ],
          [
           [
            "Cbx4",
            "Sdcbp",
            "Arhgef28",
            "Snap25",
            "Epha5",
            "Lamp1",
            "Kcnma1",
            "Pde6d",
            "Atp1a1",
            "Syt7",
            "Camk2d",
            "Clstn1",
            "Arl3",
            "Scg3",
            "Macf1",
            "Acsl6",
            "Traf3ip1",
            "Arl13b",
            "Mapk8ip2",
            "Mcf2l",
            "Nqo1",
            "Bsg",
            "Dzip1l",
            "Enkur",
            "Med21",
            "Kifap3",
            "Faim2",
            "Nrn1l",
            "Herpud1",
            "Psap",
            "Hist2h2be",
            "Purb",
            "Psen2",
            "Tmem30a",
            "Nfe2l2",
            "Ttll6",
            "Syt1",
            "Kat6a"
           ]
          ]
         ],
         "hovertemplate": "n_genes=%{x}<br>term=%{y}<br>study_genes=%{customdata[0]}<extra></extra>",
         "legendgroup": "",
         "marker": {
          "color": "#636efa",
          "pattern": {
           "shape": ""
          }
         },
         "name": "",
         "offsetgroup": "",
         "orientation": "h",
         "showlegend": false,
         "textposition": "auto",
         "type": "bar",
         "x": [
          3,
          58,
          8,
          19,
          39,
          20,
          10,
          11,
          6,
          6,
          15,
          3,
          2,
          6,
          9,
          4,
          3,
          14,
          5,
          9,
          6,
          38
         ],
         "xaxis": "x",
         "y": [
          "neural tube patterning",
          "membrane",
          "axoneme",
          "cell projection",
          "plasma membrane",
          "endoplasmic reticulum",
          "cilium",
          "neuronal cell body",
          "motile cilium",
          "ciliary basal body",
          "cytoskeleton",
          "9+2 motile cilium",
          "synaptobrevin 2-SNAP-25-syntaxin-1a-complexin II complex",
          "microtubule cytoskeleton",
          "endoplasmic reticulum membrane",
          "sperm flagellum",
          "ciliary transition zone",
          "Golgi apparatus",
          "synaptic vesicle",
          "perinuclear region of cytoplasm",
          "membrane raft",
          "protein binding"
         ],
         "yaxis": "y"
        }
       ],
       "layout": {
        "barmode": "relative",
        "legend": {
         "tracegroupgap": 0
        },
        "plot_bgcolor": "rgba(0, 0, 0, 0)",
        "template": {
         "data": {
          "bar": [
           {
            "error_x": {
             "color": "#2a3f5f"
            },
            "error_y": {
             "color": "#2a3f5f"
            },
            "marker": {
             "line": {
              "color": "#E5ECF6",
              "width": 0.5
             },
             "pattern": {
              "fillmode": "overlay",
              "size": 10,
              "solidity": 0.2
             }
            },
            "type": "bar"
           }
          ],
          "barpolar": [
           {
            "marker": {
             "line": {
              "color": "#E5ECF6",
              "width": 0.5
             },
             "pattern": {
              "fillmode": "overlay",
              "size": 10,
              "solidity": 0.2
             }
            },
            "type": "barpolar"
           }
          ],
          "carpet": [
           {
            "aaxis": {
             "endlinecolor": "#2a3f5f",
             "gridcolor": "white",
             "linecolor": "white",
             "minorgridcolor": "white",
             "startlinecolor": "#2a3f5f"
            },
            "baxis": {
             "endlinecolor": "#2a3f5f",
             "gridcolor": "white",
             "linecolor": "white",
             "minorgridcolor": "white",
             "startlinecolor": "#2a3f5f"
            },
            "type": "carpet"
           }
          ],
          "choropleth": [
           {
            "colorbar": {
             "outlinewidth": 0,
             "ticks": ""
            },
            "type": "choropleth"
           }
          ],
          "contour": [
           {
            "colorbar": {
             "outlinewidth": 0,
             "ticks": ""
            },
            "colorscale": [
             [
              0,
              "#0d0887"
             ],
             [
              0.1111111111111111,
              "#46039f"
             ],
             [
              0.2222222222222222,
              "#7201a8"
             ],
             [
              0.3333333333333333,
              "#9c179e"
             ],
             [
              0.4444444444444444,
              "#bd3786"
             ],
             [
              0.5555555555555556,
              "#d8576b"
             ],
             [
              0.6666666666666666,
              "#ed7953"
             ],
             [
              0.7777777777777778,
              "#fb9f3a"
             ],
             [
              0.8888888888888888,
              "#fdca26"
             ],
             [
              1,
              "#f0f921"
             ]
            ],
            "type": "contour"
           }
          ],
          "contourcarpet": [
           {
            "colorbar": {
             "outlinewidth": 0,
             "ticks": ""
            },
            "type": "contourcarpet"
           }
          ],
          "heatmap": [
           {
            "colorbar": {
             "outlinewidth": 0,
             "ticks": ""
            },
            "colorscale": [
             [
              0,
              "#0d0887"
             ],
             [
              0.1111111111111111,
              "#46039f"
             ],
             [
              0.2222222222222222,
              "#7201a8"
             ],
             [
              0.3333333333333333,
              "#9c179e"
             ],
             [
              0.4444444444444444,
              "#bd3786"
             ],
             [
              0.5555555555555556,
              "#d8576b"
             ],
             [
              0.6666666666666666,
              "#ed7953"
             ],
             [
              0.7777777777777778,
              "#fb9f3a"
             ],
             [
              0.8888888888888888,
              "#fdca26"
             ],
             [
              1,
              "#f0f921"
             ]
            ],
            "type": "heatmap"
           }
          ],
          "heatmapgl": [
           {
            "colorbar": {
             "outlinewidth": 0,
             "ticks": ""
            },
            "colorscale": [
             [
              0,
              "#0d0887"
             ],
             [
              0.1111111111111111,
              "#46039f"
             ],
             [
              0.2222222222222222,
              "#7201a8"
             ],
             [
              0.3333333333333333,
              "#9c179e"
             ],
             [
              0.4444444444444444,
              "#bd3786"
             ],
             [
              0.5555555555555556,
              "#d8576b"
             ],
             [
              0.6666666666666666,
              "#ed7953"
             ],
             [
              0.7777777777777778,
              "#fb9f3a"
             ],
             [
              0.8888888888888888,
              "#fdca26"
             ],
             [
              1,
              "#f0f921"
             ]
            ],
            "type": "heatmapgl"
           }
          ],
          "histogram": [
           {
            "marker": {
             "pattern": {
              "fillmode": "overlay",
              "size": 10,
              "solidity": 0.2
             }
            },
            "type": "histogram"
           }
          ],
          "histogram2d": [
           {
            "colorbar": {
             "outlinewidth": 0,
             "ticks": ""
            },
            "colorscale": [
             [
              0,
              "#0d0887"
             ],
             [
              0.1111111111111111,
              "#46039f"
             ],
             [
              0.2222222222222222,
              "#7201a8"
             ],
             [
              0.3333333333333333,
              "#9c179e"
             ],
             [
              0.4444444444444444,
              "#bd3786"
             ],
             [
              0.5555555555555556,
              "#d8576b"
             ],
             [
              0.6666666666666666,
              "#ed7953"
             ],
             [
              0.7777777777777778,
              "#fb9f3a"
             ],
             [
              0.8888888888888888,
              "#fdca26"
             ],
             [
              1,
              "#f0f921"
             ]
            ],
            "type": "histogram2d"
           }
          ],
          "histogram2dcontour": [
           {
            "colorbar": {
             "outlinewidth": 0,
             "ticks": ""
            },
            "colorscale": [
             [
              0,
              "#0d0887"
             ],
             [
              0.1111111111111111,
              "#46039f"
             ],
             [
              0.2222222222222222,
              "#7201a8"
             ],
             [
              0.3333333333333333,
              "#9c179e"
             ],
             [
              0.4444444444444444,
              "#bd3786"
             ],
             [
              0.5555555555555556,
              "#d8576b"
             ],
             [
              0.6666666666666666,
              "#ed7953"
             ],
             [
              0.7777777777777778,
              "#fb9f3a"
             ],
             [
              0.8888888888888888,
              "#fdca26"
             ],
             [
              1,
              "#f0f921"
             ]
            ],
            "type": "histogram2dcontour"
           }
          ],
          "mesh3d": [
           {
            "colorbar": {
             "outlinewidth": 0,
             "ticks": ""
            },
            "type": "mesh3d"
           }
          ],
          "parcoords": [
           {
            "line": {
             "colorbar": {
              "outlinewidth": 0,
              "ticks": ""
             }
            },
            "type": "parcoords"
           }
          ],
          "pie": [
           {
            "automargin": true,
            "type": "pie"
           }
          ],
          "scatter": [
           {
            "marker": {
             "colorbar": {
              "outlinewidth": 0,
              "ticks": ""
             }
            },
            "type": "scatter"
           }
          ],
          "scatter3d": [
           {
            "line": {
             "colorbar": {
              "outlinewidth": 0,
              "ticks": ""
             }
            },
            "marker": {
             "colorbar": {
              "outlinewidth": 0,
              "ticks": ""
             }
            },
            "type": "scatter3d"
           }
          ],
          "scattercarpet": [
           {
            "marker": {
             "colorbar": {
              "outlinewidth": 0,
              "ticks": ""
             }
            },
            "type": "scattercarpet"
           }
          ],
          "scattergeo": [
           {
            "marker": {
             "colorbar": {
              "outlinewidth": 0,
              "ticks": ""
             }
            },
            "type": "scattergeo"
           }
          ],
          "scattergl": [
           {
            "marker": {
             "colorbar": {
              "outlinewidth": 0,
              "ticks": ""
             }
            },
            "type": "scattergl"
           }
          ],
          "scattermapbox": [
           {
            "marker": {
             "colorbar": {
              "outlinewidth": 0,
              "ticks": ""
             }
            },
            "type": "scattermapbox"
           }
          ],
          "scatterpolar": [
           {
            "marker": {
             "colorbar": {
              "outlinewidth": 0,
              "ticks": ""
             }
            },
            "type": "scatterpolar"
           }
          ],
          "scatterpolargl": [
           {
            "marker": {
             "colorbar": {
              "outlinewidth": 0,
              "ticks": ""
             }
            },
            "type": "scatterpolargl"
           }
          ],
          "scatterternary": [
           {
            "marker": {
             "colorbar": {
              "outlinewidth": 0,
              "ticks": ""
             }
            },
            "type": "scatterternary"
           }
          ],
          "surface": [
           {
            "colorbar": {
             "outlinewidth": 0,
             "ticks": ""
            },
            "colorscale": [
             [
              0,
              "#0d0887"
             ],
             [
              0.1111111111111111,
              "#46039f"
             ],
             [
              0.2222222222222222,
              "#7201a8"
             ],
             [
              0.3333333333333333,
              "#9c179e"
             ],
             [
              0.4444444444444444,
              "#bd3786"
             ],
             [
              0.5555555555555556,
              "#d8576b"
             ],
             [
              0.6666666666666666,
              "#ed7953"
             ],
             [
              0.7777777777777778,
              "#fb9f3a"
             ],
             [
              0.8888888888888888,
              "#fdca26"
             ],
             [
              1,
              "#f0f921"
             ]
            ],
            "type": "surface"
           }
          ],
          "table": [
           {
            "cells": {
             "fill": {
              "color": "#EBF0F8"
             },
             "line": {
              "color": "white"
             }
            },
            "header": {
             "fill": {
              "color": "#C8D4E3"
             },
             "line": {
              "color": "white"
             }
            },
            "type": "table"
           }
          ]
         },
         "layout": {
          "annotationdefaults": {
           "arrowcolor": "#2a3f5f",
           "arrowhead": 0,
           "arrowwidth": 1
          },
          "autotypenumbers": "strict",
          "coloraxis": {
           "colorbar": {
            "outlinewidth": 0,
            "ticks": ""
           }
          },
          "colorscale": {
           "diverging": [
            [
             0,
             "#8e0152"
            ],
            [
             0.1,
             "#c51b7d"
            ],
            [
             0.2,
             "#de77ae"
            ],
            [
             0.3,
             "#f1b6da"
            ],
            [
             0.4,
             "#fde0ef"
            ],
            [
             0.5,
             "#f7f7f7"
            ],
            [
             0.6,
             "#e6f5d0"
            ],
            [
             0.7,
             "#b8e186"
            ],
            [
             0.8,
             "#7fbc41"
            ],
            [
             0.9,
             "#4d9221"
            ],
            [
             1,
             "#276419"
            ]
           ],
           "sequential": [
            [
             0,
             "#0d0887"
            ],
            [
             0.1111111111111111,
             "#46039f"
            ],
            [
             0.2222222222222222,
             "#7201a8"
            ],
            [
             0.3333333333333333,
             "#9c179e"
            ],
            [
             0.4444444444444444,
             "#bd3786"
            ],
            [
             0.5555555555555556,
             "#d8576b"
            ],
            [
             0.6666666666666666,
             "#ed7953"
            ],
            [
             0.7777777777777778,
             "#fb9f3a"
            ],
            [
             0.8888888888888888,
             "#fdca26"
            ],
            [
             1,
             "#f0f921"
            ]
           ],
           "sequentialminus": [
            [
             0,
             "#0d0887"
            ],
            [
             0.1111111111111111,
             "#46039f"
            ],
            [
             0.2222222222222222,
             "#7201a8"
            ],
            [
             0.3333333333333333,
             "#9c179e"
            ],
            [
             0.4444444444444444,
             "#bd3786"
            ],
            [
             0.5555555555555556,
             "#d8576b"
            ],
            [
             0.6666666666666666,
             "#ed7953"
            ],
            [
             0.7777777777777778,
             "#fb9f3a"
            ],
            [
             0.8888888888888888,
             "#fdca26"
            ],
            [
             1,
             "#f0f921"
            ]
           ]
          },
          "colorway": [
           "#636efa",
           "#EF553B",
           "#00cc96",
           "#ab63fa",
           "#FFA15A",
           "#19d3f3",
           "#FF6692",
           "#B6E880",
           "#FF97FF",
           "#FECB52"
          ],
          "font": {
           "color": "#2a3f5f"
          },
          "geo": {
           "bgcolor": "white",
           "lakecolor": "white",
           "landcolor": "#E5ECF6",
           "showlakes": true,
           "showland": true,
           "subunitcolor": "white"
          },
          "hoverlabel": {
           "align": "left"
          },
          "hovermode": "closest",
          "mapbox": {
           "style": "light"
          },
          "paper_bgcolor": "white",
          "plot_bgcolor": "#E5ECF6",
          "polar": {
           "angularaxis": {
            "gridcolor": "white",
            "linecolor": "white",
            "ticks": ""
           },
           "bgcolor": "#E5ECF6",
           "radialaxis": {
            "gridcolor": "white",
            "linecolor": "white",
            "ticks": ""
           }
          },
          "scene": {
           "xaxis": {
            "backgroundcolor": "#E5ECF6",
            "gridcolor": "white",
            "gridwidth": 2,
            "linecolor": "white",
            "showbackground": true,
            "ticks": "",
            "zerolinecolor": "white"
           },
           "yaxis": {
            "backgroundcolor": "#E5ECF6",
            "gridcolor": "white",
            "gridwidth": 2,
            "linecolor": "white",
            "showbackground": true,
            "ticks": "",
            "zerolinecolor": "white"
           },
           "zaxis": {
            "backgroundcolor": "#E5ECF6",
            "gridcolor": "white",
            "gridwidth": 2,
            "linecolor": "white",
            "showbackground": true,
            "ticks": "",
            "zerolinecolor": "white"
           }
          },
          "shapedefaults": {
           "line": {
            "color": "#2a3f5f"
           }
          },
          "ternary": {
           "aaxis": {
            "gridcolor": "white",
            "linecolor": "white",
            "ticks": ""
           },
           "baxis": {
            "gridcolor": "white",
            "linecolor": "white",
            "ticks": ""
           },
           "bgcolor": "#E5ECF6",
           "caxis": {
            "gridcolor": "white",
            "linecolor": "white",
            "ticks": ""
           }
          },
          "title": {
           "x": 0.05
          },
          "xaxis": {
           "automargin": true,
           "gridcolor": "white",
           "linecolor": "white",
           "ticks": "",
           "title": {
            "standoff": 15
           },
           "zerolinecolor": "white",
           "zerolinewidth": 2
          },
          "yaxis": {
           "automargin": true,
           "gridcolor": "white",
           "linecolor": "white",
           "ticks": "",
           "title": {
            "standoff": 15
           },
           "zerolinecolor": "white",
           "zerolinewidth": 2
          }
         }
        },
        "title": {
         "text": "mse_rank_normalized_ALL_Olfr_rtp1"
        },
        "xaxis": {
         "anchor": "y",
         "domain": [
          0,
          1
         ],
         "title": {
          "text": "n_genes"
         }
        },
        "yaxis": {
         "anchor": "x",
         "domain": [
          0,
          1
         ],
         "title": {
          "text": "term"
         }
        }
       }
      },
      "text/html": [
       "<div>                            <div id=\"9861ba18-46ce-46c1-87ac-d45c1c7633fe\" class=\"plotly-graph-div\" style=\"height:525px; width:100%;\"></div>            <script type=\"text/javascript\">                require([\"plotly\"], function(Plotly) {                    window.PLOTLYENV=window.PLOTLYENV || {};                                    if (document.getElementById(\"9861ba18-46ce-46c1-87ac-d45c1c7633fe\")) {                    Plotly.newPlot(                        \"9861ba18-46ce-46c1-87ac-d45c1c7633fe\",                        [{\"alignmentgroup\":\"True\",\"customdata\":[[[\"Dzip1l\",\"Arl13b\",\"Traf3ip1\"]],[[\"Sdcbp\",\"Arhgef28\",\"Snap25\",\"Lrrc3b\",\"Epha5\",\"Lamp1\",\"Pde4a\",\"Kcnma1\",\"Fkbp2\",\"Rtp1\",\"Pde6d\",\"Atp1a1\",\"Clstn1\",\"Camk2d\",\"Aldoa\",\"Spcs1\",\"Arl3\",\"Nat14\",\"Scg3\",\"Macf1\",\"Acsl6\",\"Jakmip1\",\"Ghitm\",\"Ubl3\",\"Sgpl1\",\"Acbd5\",\"Sgtb\",\"Dner\",\"Arl13b\",\"Ormdl3\",\"Tmem59\",\"Rtp2\",\"Mcf2l\",\"Gramd1c\",\"Manea\",\"Bsg\",\"Atp6v1a\",\"Faim2\",\"Rnf128\",\"Nrn1l\",\"Aig1\",\"Abhd16a\",\"Mslnl\",\"Dnajb14\",\"Herpud1\",\"Spef1\",\"Slc24a2\",\"Psen2\",\"Tmem30a\",\"Oscp1\",\"Npdc1\",\"Ctsb\",\"Tspan3\",\"Syt1\",\"Ndufv3\",\"Cnga2\",\"Serinc1\",\"Syt7\"]],[[\"Ccdc39\",\"Kifap3\",\"Traf3ip1\",\"Ttll3\",\"Arl13b\",\"Spef1\",\"Dzip1l\",\"Arl3\"]],[[\"Epha5\",\"Pde6d\",\"Atp1a1\",\"Clstn1\",\"Arl3\",\"Macf1\",\"Traf3ip1\",\"Arl13b\",\"Bsg\",\"Dzip1l\",\"Enkur\",\"Cfap69\",\"Spef1\",\"Cplx2\",\"Ccdc39\",\"Ttll6\",\"Ttll3\",\"Ift74\",\"Syt7\"]],[[\"Sdcbp\",\"Arhgef28\",\"Snap25\",\"Epha5\",\"Lamp1\",\"Pde4a\",\"Kcnma1\",\"Rtp1\",\"Atp1a1\",\"Clstn1\",\"Camk2d\",\"Aldoa\",\"Macf1\",\"Ubl3\",\"Dner\",\"Arl13b\",\"Tmem59\",\"Rtp2\",\"Mcf2l\",\"Gramd1c\",\"Bsg\",\"Atp6v1a\",\"Faim2\",\"Nrn1l\",\"Aig1\",\"Spef1\",\"Hist2h2be\",\"Slc24a2\",\"Psen2\",\"Pcdh10\",\"Tmem30a\",\"Oscp1\",\"Ctsb\",\"Nfe2l2\",\"Tspan3\",\"Syt1\",\"Cnga2\",\"Serinc1\",\"Syt7\"]],[[\"Sdcbp\",\"Kcnma1\",\"Fkbp2\",\"Atp1a1\",\"Clstn1\",\"Spcs1\",\"Acsl6\",\"Sgpl1\",\"Ormdl3\",\"Gramd1c\",\"Bsg\",\"Kifap3\",\"Faim2\",\"Rnf128\",\"Dnajb14\",\"Herpud1\",\"Tmem30a\",\"Psen2\",\"Rap1gds1\",\"Serinc1\"]],[[\"Enkur\",\"Ccdc39\",\"Traf3ip1\",\"Cfap69\",\"Ttll6\",\"Ttll3\",\"Ift74\",\"Arl13b\",\"Spef1\",\"Dzip1l\"]],[[\"Snap25\",\"Epha5\",\"Lamp1\",\"Dner\",\"Kcnma1\",\"Cplx2\",\"Mapk8ip2\",\"Nqo1\",\"Syt7\",\"Camk2d\",\"Psen2\"]],[[\"Enkur\",\"Cfap69\",\"Ttll3\",\"Ift74\",\"Arl13b\",\"Spef1\"]],[[\"Traf3ip1\",\"Kifap3\",\"Ttll6\",\"Dzip1l\",\"Psen2\",\"Arl3\"]],[[\"Enkur\",\"Sdcbp\",\"Macf1\",\"Ccdc39\",\"Limch1\",\"Snap25\",\"Traf3ip1\",\"Jakmip1\",\"Rnf128\",\"Ttll6\",\"Ttll3\",\"Spef1\",\"Pde6d\",\"Dzip1l\",\"Arl3\"]],[[\"Enkur\",\"Ccdc39\",\"Spef1\"]],[[\"Cplx2\",\"Snap25\"]],[[\"Macf1\",\"Traf3ip1\",\"Kifap3\",\"Jakmip1\",\"Ttll3\",\"Arl3\"]],[[\"Dnajb14\",\"Herpud1\",\"Bsg\",\"Ormdl3\",\"Rtp1\",\"Rtp2\",\"Gramd1c\",\"Serinc1\",\"Spcs1\"]],[[\"Atp1a1\",\"Enkur\",\"Ttll3\",\"Ak1\"]],[[\"Traf3ip1\",\"Kifap3\",\"Arl3\"]],[[\"Macf1\",\"Kifap3\",\"Nfe2l2\",\"Faim2\",\"Rnf128\",\"Rabgap1l\",\"Syt1\",\"Tmem59\",\"Atp1a1\",\"Clstn1\",\"Manea\",\"Tmem30a\",\"Psen2\",\"Arl3\"]],[[\"Snap25\",\"Psen2\",\"Lamp1\",\"Syt1\",\"Syt7\"]],[[\"Snap25\",\"Ctsb\",\"Epha5\",\"Lamp1\",\"Pde4a\",\"Kcnma1\",\"Ak1\",\"Camk2d\",\"Psen2\"]],[[\"Sdcbp\",\"Snap25\",\"Faim2\",\"Bsg\",\"Atp1a1\",\"Psen2\"]],[[\"Cbx4\",\"Sdcbp\",\"Arhgef28\",\"Snap25\",\"Epha5\",\"Lamp1\",\"Kcnma1\",\"Pde6d\",\"Atp1a1\",\"Syt7\",\"Camk2d\",\"Clstn1\",\"Arl3\",\"Scg3\",\"Macf1\",\"Acsl6\",\"Traf3ip1\",\"Arl13b\",\"Mapk8ip2\",\"Mcf2l\",\"Nqo1\",\"Bsg\",\"Dzip1l\",\"Enkur\",\"Med21\",\"Kifap3\",\"Faim2\",\"Nrn1l\",\"Herpud1\",\"Psap\",\"Hist2h2be\",\"Purb\",\"Psen2\",\"Tmem30a\",\"Nfe2l2\",\"Ttll6\",\"Syt1\",\"Kat6a\"]]],\"hovertemplate\":\"n_genes=%{x}<br>term=%{y}<br>study_genes=%{customdata[0]}<extra></extra>\",\"legendgroup\":\"\",\"marker\":{\"color\":\"#636efa\",\"pattern\":{\"shape\":\"\"}},\"name\":\"\",\"offsetgroup\":\"\",\"orientation\":\"h\",\"showlegend\":false,\"textposition\":\"auto\",\"x\":[3,58,8,19,39,20,10,11,6,6,15,3,2,6,9,4,3,14,5,9,6,38],\"xaxis\":\"x\",\"y\":[\"neural tube patterning\",\"membrane\",\"axoneme\",\"cell projection\",\"plasma membrane\",\"endoplasmic reticulum\",\"cilium\",\"neuronal cell body\",\"motile cilium\",\"ciliary basal body\",\"cytoskeleton\",\"9+2 motile cilium\",\"synaptobrevin 2-SNAP-25-syntaxin-1a-complexin II complex\",\"microtubule cytoskeleton\",\"endoplasmic reticulum membrane\",\"sperm flagellum\",\"ciliary transition zone\",\"Golgi apparatus\",\"synaptic vesicle\",\"perinuclear region of cytoplasm\",\"membrane raft\",\"protein binding\"],\"yaxis\":\"y\",\"type\":\"bar\"}],                        {\"template\":{\"data\":{\"bar\":[{\"error_x\":{\"color\":\"#2a3f5f\"},\"error_y\":{\"color\":\"#2a3f5f\"},\"marker\":{\"line\":{\"color\":\"#E5ECF6\",\"width\":0.5},\"pattern\":{\"fillmode\":\"overlay\",\"size\":10,\"solidity\":0.2}},\"type\":\"bar\"}],\"barpolar\":[{\"marker\":{\"line\":{\"color\":\"#E5ECF6\",\"width\":0.5},\"pattern\":{\"fillmode\":\"overlay\",\"size\":10,\"solidity\":0.2}},\"type\":\"barpolar\"}],\"carpet\":[{\"aaxis\":{\"endlinecolor\":\"#2a3f5f\",\"gridcolor\":\"white\",\"linecolor\":\"white\",\"minorgridcolor\":\"white\",\"startlinecolor\":\"#2a3f5f\"},\"baxis\":{\"endlinecolor\":\"#2a3f5f\",\"gridcolor\":\"white\",\"linecolor\":\"white\",\"minorgridcolor\":\"white\",\"startlinecolor\":\"#2a3f5f\"},\"type\":\"carpet\"}],\"choropleth\":[{\"colorbar\":{\"outlinewidth\":0,\"ticks\":\"\"},\"type\":\"choropleth\"}],\"contour\":[{\"colorbar\":{\"outlinewidth\":0,\"ticks\":\"\"},\"colorscale\":[[0.0,\"#0d0887\"],[0.1111111111111111,\"#46039f\"],[0.2222222222222222,\"#7201a8\"],[0.3333333333333333,\"#9c179e\"],[0.4444444444444444,\"#bd3786\"],[0.5555555555555556,\"#d8576b\"],[0.6666666666666666,\"#ed7953\"],[0.7777777777777778,\"#fb9f3a\"],[0.8888888888888888,\"#fdca26\"],[1.0,\"#f0f921\"]],\"type\":\"contour\"}],\"contourcarpet\":[{\"colorbar\":{\"outlinewidth\":0,\"ticks\":\"\"},\"type\":\"contourcarpet\"}],\"heatmap\":[{\"colorbar\":{\"outlinewidth\":0,\"ticks\":\"\"},\"colorscale\":[[0.0,\"#0d0887\"],[0.1111111111111111,\"#46039f\"],[0.2222222222222222,\"#7201a8\"],[0.3333333333333333,\"#9c179e\"],[0.4444444444444444,\"#bd3786\"],[0.5555555555555556,\"#d8576b\"],[0.6666666666666666,\"#ed7953\"],[0.7777777777777778,\"#fb9f3a\"],[0.8888888888888888,\"#fdca26\"],[1.0,\"#f0f921\"]],\"type\":\"heatmap\"}],\"heatmapgl\":[{\"colorbar\":{\"outlinewidth\":0,\"ticks\":\"\"},\"colorscale\":[[0.0,\"#0d0887\"],[0.1111111111111111,\"#46039f\"],[0.2222222222222222,\"#7201a8\"],[0.3333333333333333,\"#9c179e\"],[0.4444444444444444,\"#bd3786\"],[0.5555555555555556,\"#d8576b\"],[0.6666666666666666,\"#ed7953\"],[0.7777777777777778,\"#fb9f3a\"],[0.8888888888888888,\"#fdca26\"],[1.0,\"#f0f921\"]],\"type\":\"heatmapgl\"}],\"histogram\":[{\"marker\":{\"pattern\":{\"fillmode\":\"overlay\",\"size\":10,\"solidity\":0.2}},\"type\":\"histogram\"}],\"histogram2d\":[{\"colorbar\":{\"outlinewidth\":0,\"ticks\":\"\"},\"colorscale\":[[0.0,\"#0d0887\"],[0.1111111111111111,\"#46039f\"],[0.2222222222222222,\"#7201a8\"],[0.3333333333333333,\"#9c179e\"],[0.4444444444444444,\"#bd3786\"],[0.5555555555555556,\"#d8576b\"],[0.6666666666666666,\"#ed7953\"],[0.7777777777777778,\"#fb9f3a\"],[0.8888888888888888,\"#fdca26\"],[1.0,\"#f0f921\"]],\"type\":\"histogram2d\"}],\"histogram2dcontour\":[{\"colorbar\":{\"outlinewidth\":0,\"ticks\":\"\"},\"colorscale\":[[0.0,\"#0d0887\"],[0.1111111111111111,\"#46039f\"],[0.2222222222222222,\"#7201a8\"],[0.3333333333333333,\"#9c179e\"],[0.4444444444444444,\"#bd3786\"],[0.5555555555555556,\"#d8576b\"],[0.6666666666666666,\"#ed7953\"],[0.7777777777777778,\"#fb9f3a\"],[0.8888888888888888,\"#fdca26\"],[1.0,\"#f0f921\"]],\"type\":\"histogram2dcontour\"}],\"mesh3d\":[{\"colorbar\":{\"outlinewidth\":0,\"ticks\":\"\"},\"type\":\"mesh3d\"}],\"parcoords\":[{\"line\":{\"colorbar\":{\"outlinewidth\":0,\"ticks\":\"\"}},\"type\":\"parcoords\"}],\"pie\":[{\"automargin\":true,\"type\":\"pie\"}],\"scatter\":[{\"marker\":{\"colorbar\":{\"outlinewidth\":0,\"ticks\":\"\"}},\"type\":\"scatter\"}],\"scatter3d\":[{\"line\":{\"colorbar\":{\"outlinewidth\":0,\"ticks\":\"\"}},\"marker\":{\"colorbar\":{\"outlinewidth\":0,\"ticks\":\"\"}},\"type\":\"scatter3d\"}],\"scattercarpet\":[{\"marker\":{\"colorbar\":{\"outlinewidth\":0,\"ticks\":\"\"}},\"type\":\"scattercarpet\"}],\"scattergeo\":[{\"marker\":{\"colorbar\":{\"outlinewidth\":0,\"ticks\":\"\"}},\"type\":\"scattergeo\"}],\"scattergl\":[{\"marker\":{\"colorbar\":{\"outlinewidth\":0,\"ticks\":\"\"}},\"type\":\"scattergl\"}],\"scattermapbox\":[{\"marker\":{\"colorbar\":{\"outlinewidth\":0,\"ticks\":\"\"}},\"type\":\"scattermapbox\"}],\"scatterpolar\":[{\"marker\":{\"colorbar\":{\"outlinewidth\":0,\"ticks\":\"\"}},\"type\":\"scatterpolar\"}],\"scatterpolargl\":[{\"marker\":{\"colorbar\":{\"outlinewidth\":0,\"ticks\":\"\"}},\"type\":\"scatterpolargl\"}],\"scatterternary\":[{\"marker\":{\"colorbar\":{\"outlinewidth\":0,\"ticks\":\"\"}},\"type\":\"scatterternary\"}],\"surface\":[{\"colorbar\":{\"outlinewidth\":0,\"ticks\":\"\"},\"colorscale\":[[0.0,\"#0d0887\"],[0.1111111111111111,\"#46039f\"],[0.2222222222222222,\"#7201a8\"],[0.3333333333333333,\"#9c179e\"],[0.4444444444444444,\"#bd3786\"],[0.5555555555555556,\"#d8576b\"],[0.6666666666666666,\"#ed7953\"],[0.7777777777777778,\"#fb9f3a\"],[0.8888888888888888,\"#fdca26\"],[1.0,\"#f0f921\"]],\"type\":\"surface\"}],\"table\":[{\"cells\":{\"fill\":{\"color\":\"#EBF0F8\"},\"line\":{\"color\":\"white\"}},\"header\":{\"fill\":{\"color\":\"#C8D4E3\"},\"line\":{\"color\":\"white\"}},\"type\":\"table\"}]},\"layout\":{\"annotationdefaults\":{\"arrowcolor\":\"#2a3f5f\",\"arrowhead\":0,\"arrowwidth\":1},\"autotypenumbers\":\"strict\",\"coloraxis\":{\"colorbar\":{\"outlinewidth\":0,\"ticks\":\"\"}},\"colorscale\":{\"diverging\":[[0,\"#8e0152\"],[0.1,\"#c51b7d\"],[0.2,\"#de77ae\"],[0.3,\"#f1b6da\"],[0.4,\"#fde0ef\"],[0.5,\"#f7f7f7\"],[0.6,\"#e6f5d0\"],[0.7,\"#b8e186\"],[0.8,\"#7fbc41\"],[0.9,\"#4d9221\"],[1,\"#276419\"]],\"sequential\":[[0.0,\"#0d0887\"],[0.1111111111111111,\"#46039f\"],[0.2222222222222222,\"#7201a8\"],[0.3333333333333333,\"#9c179e\"],[0.4444444444444444,\"#bd3786\"],[0.5555555555555556,\"#d8576b\"],[0.6666666666666666,\"#ed7953\"],[0.7777777777777778,\"#fb9f3a\"],[0.8888888888888888,\"#fdca26\"],[1.0,\"#f0f921\"]],\"sequentialminus\":[[0.0,\"#0d0887\"],[0.1111111111111111,\"#46039f\"],[0.2222222222222222,\"#7201a8\"],[0.3333333333333333,\"#9c179e\"],[0.4444444444444444,\"#bd3786\"],[0.5555555555555556,\"#d8576b\"],[0.6666666666666666,\"#ed7953\"],[0.7777777777777778,\"#fb9f3a\"],[0.8888888888888888,\"#fdca26\"],[1.0,\"#f0f921\"]]},\"colorway\":[\"#636efa\",\"#EF553B\",\"#00cc96\",\"#ab63fa\",\"#FFA15A\",\"#19d3f3\",\"#FF6692\",\"#B6E880\",\"#FF97FF\",\"#FECB52\"],\"font\":{\"color\":\"#2a3f5f\"},\"geo\":{\"bgcolor\":\"white\",\"lakecolor\":\"white\",\"landcolor\":\"#E5ECF6\",\"showlakes\":true,\"showland\":true,\"subunitcolor\":\"white\"},\"hoverlabel\":{\"align\":\"left\"},\"hovermode\":\"closest\",\"mapbox\":{\"style\":\"light\"},\"paper_bgcolor\":\"white\",\"plot_bgcolor\":\"#E5ECF6\",\"polar\":{\"angularaxis\":{\"gridcolor\":\"white\",\"linecolor\":\"white\",\"ticks\":\"\"},\"bgcolor\":\"#E5ECF6\",\"radialaxis\":{\"gridcolor\":\"white\",\"linecolor\":\"white\",\"ticks\":\"\"}},\"scene\":{\"xaxis\":{\"backgroundcolor\":\"#E5ECF6\",\"gridcolor\":\"white\",\"gridwidth\":2,\"linecolor\":\"white\",\"showbackground\":true,\"ticks\":\"\",\"zerolinecolor\":\"white\"},\"yaxis\":{\"backgroundcolor\":\"#E5ECF6\",\"gridcolor\":\"white\",\"gridwidth\":2,\"linecolor\":\"white\",\"showbackground\":true,\"ticks\":\"\",\"zerolinecolor\":\"white\"},\"zaxis\":{\"backgroundcolor\":\"#E5ECF6\",\"gridcolor\":\"white\",\"gridwidth\":2,\"linecolor\":\"white\",\"showbackground\":true,\"ticks\":\"\",\"zerolinecolor\":\"white\"}},\"shapedefaults\":{\"line\":{\"color\":\"#2a3f5f\"}},\"ternary\":{\"aaxis\":{\"gridcolor\":\"white\",\"linecolor\":\"white\",\"ticks\":\"\"},\"baxis\":{\"gridcolor\":\"white\",\"linecolor\":\"white\",\"ticks\":\"\"},\"bgcolor\":\"#E5ECF6\",\"caxis\":{\"gridcolor\":\"white\",\"linecolor\":\"white\",\"ticks\":\"\"}},\"title\":{\"x\":0.05},\"xaxis\":{\"automargin\":true,\"gridcolor\":\"white\",\"linecolor\":\"white\",\"ticks\":\"\",\"title\":{\"standoff\":15},\"zerolinecolor\":\"white\",\"zerolinewidth\":2},\"yaxis\":{\"automargin\":true,\"gridcolor\":\"white\",\"linecolor\":\"white\",\"ticks\":\"\",\"title\":{\"standoff\":15},\"zerolinecolor\":\"white\",\"zerolinewidth\":2}}},\"xaxis\":{\"anchor\":\"y\",\"domain\":[0.0,1.0],\"title\":{\"text\":\"n_genes\"}},\"yaxis\":{\"anchor\":\"x\",\"domain\":[0.0,1.0],\"title\":{\"text\":\"term\"}},\"legend\":{\"tracegroupgap\":0},\"title\":{\"text\":\"mse_rank_normalized_ALL_Olfr_rtp1\"},\"barmode\":\"relative\",\"plot_bgcolor\":\"rgba(0, 0, 0, 0)\"},                        {\"responsive\": true}                    ).then(function(){\n",
       "                            \n",
       "var gd = document.getElementById('9861ba18-46ce-46c1-87ac-d45c1c7633fe');\n",
       "var x = new MutationObserver(function (mutations, observer) {{\n",
       "        var display = window.getComputedStyle(gd).display;\n",
       "        if (!display || display === 'none') {{\n",
       "            console.log([gd, 'removed!']);\n",
       "            Plotly.purge(gd);\n",
       "            observer.disconnect();\n",
       "        }}\n",
       "}});\n",
       "\n",
       "// Listen for the removal of the full notebook cells\n",
       "var notebookContainer = gd.closest('#notebook-container');\n",
       "if (notebookContainer) {{\n",
       "    x.observe(notebookContainer, {childList: true});\n",
       "}}\n",
       "\n",
       "// Listen for the clearing of the current output cell\n",
       "var outputEl = gd.closest('.output');\n",
       "if (outputEl) {{\n",
       "    x.observe(outputEl, {childList: true});\n",
       "}}\n",
       "\n",
       "                        })                };                });            </script>        </div>"
      ]
     },
     "metadata": {},
     "output_type": "display_data"
    },
    {
     "data": {
      "application/vnd.plotly.v1+json": {
       "config": {
        "plotlyServerURL": "https://plot.ly"
       },
       "data": [
        {
         "alignmentgroup": "True",
         "customdata": [
          [
           [
            "Dzip1l",
            "Arl13b",
            "Traf3ip1"
           ]
          ],
          [
           [
            "Slc12a2",
            "Spef2",
            "Pde6d",
            "Atp1a1",
            "Elmod3",
            "Clstn1",
            "Arl3",
            "Macf1",
            "Traf3ip1",
            "Rsph9",
            "Kif1a",
            "Arl13b",
            "Dzip1l",
            "Enkur",
            "Cfap69",
            "Clstn2",
            "Spef1",
            "Cplx2",
            "Ccdc39",
            "Ttll6",
            "Ttll3",
            "Syt7"
           ]
          ],
          [
           [
            "Ccdc39",
            "Kifap3",
            "Traf3ip1",
            "Ttll3",
            "Rsph9",
            "Arl13b",
            "Spef1",
            "Dzip1l",
            "Arl3"
           ]
          ],
          [
           [
            "Enkur",
            "Ccdc39",
            "Traf3ip1",
            "Cfap69",
            "Ttll6",
            "Ttll3",
            "Rsph9",
            "Arl13b",
            "Spef2",
            "Spef1",
            "Elmod3",
            "Dzip1l"
           ]
          ],
          [
           [
            "Limch1",
            "Sdcbp",
            "Snap25",
            "Spef2",
            "Pde6d",
            "Elmod3",
            "Arl3",
            "Macf1",
            "Traf3ip1",
            "Jakmip1",
            "Rsph9",
            "Dynlt3",
            "Kif1a",
            "Dzip1l",
            "Enkur",
            "Rnf128",
            "Spef1",
            "Ccdc39",
            "Ttll6",
            "Ttll3"
           ]
          ],
          [
           [
            "Sdcbp",
            "Arhgef28",
            "Snap25",
            "Lamp1",
            "Slc12a2",
            "Pde4a",
            "Fkbp2",
            "Rtp1",
            "Pde6d",
            "Atp1a1",
            "Clstn1",
            "Camk2d",
            "Aldoa",
            "Ctxn3",
            "Arl3",
            "Nat14",
            "Scg3",
            "Macf1",
            "Acsl6",
            "Jakmip1",
            "Ubl3",
            "Sgpl1",
            "Kif1a",
            "Sgtb",
            "Arl13b",
            "Dner",
            "Ormdl3",
            "Gramd1c",
            "Rtp2",
            "Mcf2l",
            "Manea",
            "Atp6v1a",
            "Kirrel2",
            "Faim2",
            "Rnf128",
            "Nrn1l",
            "Aig1",
            "Abhd16a",
            "Mslnl",
            "Dnajb14",
            "Clstn2",
            "Spef1",
            "Psen2",
            "Tmem30a",
            "Oscp1",
            "Npdc1",
            "Ctsb",
            "Rab6b",
            "Syt1",
            "Cnga2",
            "Ndufv3",
            "Syt7"
           ]
          ],
          [
           [
            "Enkur",
            "Ccdc39",
            "Rsph9",
            "Spef1"
           ]
          ],
          [
           [
            "Enkur",
            "Cfap69",
            "Ttll3",
            "Rsph9",
            "Arl13b",
            "Spef2",
            "Spef1"
           ]
          ],
          [
           [
            "Sdcbp",
            "Arhgef28",
            "Snap25",
            "Lamp1",
            "Slc12a2",
            "Pde4a",
            "Rtp1",
            "Atp1a1",
            "Clstn1",
            "Camk2d",
            "Aldoa",
            "Macf1",
            "Ubl3",
            "Dner",
            "Arl13b",
            "Gramd1c",
            "Rtp2",
            "Mcf2l",
            "Atp6v1a",
            "Kirrel2",
            "Faim2",
            "Nrn1l",
            "Aig1",
            "Clstn2",
            "Hist2h2be",
            "Spef1",
            "Psen2",
            "Pcdh10",
            "Tmem30a",
            "Oscp1",
            "Ctsb",
            "Nfe2l2",
            "Syt1",
            "Cnga2",
            "Syt7"
           ]
          ],
          [
           [
            "Enkur",
            "Ttll3",
            "Ak1",
            "Spef2",
            "Atp1a1"
           ]
          ],
          [
           [
            "Macf1",
            "Kifap3",
            "Nfe2l2",
            "Faim2",
            "Rnf128",
            "Rab6b",
            "Rabgap1l",
            "Syt1",
            "Clstn2",
            "Spef2",
            "Atp1a1",
            "Clstn1",
            "Manea",
            "Tmem30a",
            "Psen2",
            "Arl3"
           ]
          ],
          [
           [
            "Snap25",
            "Psen2",
            "Lamp1",
            "Kif1a",
            "Syt1",
            "Syt7"
           ]
          ],
          [
           [
            "Traf3ip1",
            "Kifap3",
            "Ttll6",
            "Dzip1l",
            "Psen2",
            "Arl3"
           ]
          ],
          [
           [
            "Limch1",
            "Sdcbp",
            "Arhgef28",
            "Snap25",
            "Lamp1",
            "Pde4a",
            "Spef2",
            "Pde6d",
            "Elmod3",
            "Camk2d",
            "Aldoa",
            "Arl3",
            "Macf1",
            "Traf3ip1",
            "Fam213a",
            "Jakmip1",
            "Rsph9",
            "Dynlt3",
            "Kif1a",
            "Mapk8ip2",
            "Rnf220",
            "Mcf2l",
            "Dzip1l",
            "Atp6v1a",
            "Enkur",
            "Cfap69",
            "Rnf128",
            "Psap",
            "Dusp14",
            "Spef1",
            "Cplx2",
            "Tstd1",
            "Oscp1",
            "Ccdc39",
            "Ctsb",
            "Nfe2l2",
            "Ttll6",
            "Ttll3",
            "Impdh1",
            "Syt1",
            "Ak1",
            "Rap1gds1",
            "Mycbp"
           ]
          ],
          [
           [
            "Cplx2",
            "Snap25"
           ]
          ],
          [
           [
            "Snap25",
            "Lamp1",
            "Slc12a2",
            "Kif1a",
            "Dner",
            "Cplx2",
            "Mapk8ip2",
            "Syt7",
            "Camk2d",
            "Psen2"
           ]
          ],
          [
           [
            "Macf1",
            "Traf3ip1",
            "Kifap3",
            "Jakmip1",
            "Ttll3",
            "Arl3"
           ]
          ],
          [
           [
            "Sdcbp",
            "Acsl6",
            "Kifap3",
            "Faim2",
            "Rnf128",
            "Dnajb14",
            "Sgpl1",
            "Fkbp2",
            "Ormdl3",
            "Clstn2",
            "Gramd1c",
            "Rap1gds1",
            "Atp1a1",
            "Clstn1",
            "Tmem30a",
            "Psen2"
           ]
          ],
          [
           [
            "Macf1",
            "Jakmip1",
            "Ttll6",
            "Ttll3",
            "Dynlt3",
            "Kif1a",
            "Spef1"
           ]
          ],
          [
           [
            "Traf3ip1",
            "Kifap3",
            "Arl3"
           ]
          ],
          [
           [
            "Cbx4",
            "Sdcbp",
            "Arhgef28",
            "Snap25",
            "Lamp1",
            "Slc12a2",
            "Spef2",
            "Pde6d",
            "Atp1a1",
            "Syt7",
            "Camk2d",
            "Clstn1",
            "Arl3",
            "Scg3",
            "Macf1",
            "Acsl6",
            "Traf3ip1",
            "Rsph9",
            "Dynlt3",
            "Kif1a",
            "Arl13b",
            "Mapk8ip2",
            "Rnf220",
            "Mcf2l",
            "Dzip1l",
            "Enkur",
            "Med21",
            "Kifap3",
            "Kirrel2",
            "Faim2",
            "Nrn1l",
            "Psap",
            "Hist2h2be",
            "Psen2",
            "Tmem30a",
            "Nfe2l2",
            "Ttll6",
            "Rab6b",
            "Syt1",
            "Kat6a"
           ]
          ],
          [
           [
            "Kifap3",
            "Jakmip1",
            "Clstn2",
            "Mapk8ip2",
            "Clstn1"
           ]
          ]
         ],
         "hovertemplate": "n_genes=%{x}<br>term=%{y}<br>study_genes=%{customdata[0]}<extra></extra>",
         "legendgroup": "",
         "marker": {
          "color": "#636efa",
          "pattern": {
           "shape": ""
          }
         },
         "name": "",
         "offsetgroup": "",
         "orientation": "h",
         "showlegend": false,
         "textposition": "auto",
         "type": "bar",
         "x": [
          3,
          22,
          9,
          12,
          20,
          52,
          4,
          7,
          35,
          5,
          16,
          6,
          6,
          43,
          2,
          10,
          6,
          16,
          7,
          3,
          40,
          5
         ],
         "xaxis": "x",
         "y": [
          "neural tube patterning",
          "cell projection",
          "axoneme",
          "cilium",
          "cytoskeleton",
          "membrane",
          "9+2 motile cilium",
          "motile cilium",
          "plasma membrane",
          "sperm flagellum",
          "Golgi apparatus",
          "synaptic vesicle",
          "ciliary basal body",
          "cytoplasm",
          "synaptobrevin 2-SNAP-25-syntaxin-1a-complexin II complex",
          "neuronal cell body",
          "microtubule cytoskeleton",
          "endoplasmic reticulum",
          "microtubule",
          "ciliary transition zone",
          "protein binding",
          "kinesin binding"
         ],
         "yaxis": "y"
        }
       ],
       "layout": {
        "barmode": "relative",
        "legend": {
         "tracegroupgap": 0
        },
        "plot_bgcolor": "rgba(0, 0, 0, 0)",
        "template": {
         "data": {
          "bar": [
           {
            "error_x": {
             "color": "#2a3f5f"
            },
            "error_y": {
             "color": "#2a3f5f"
            },
            "marker": {
             "line": {
              "color": "#E5ECF6",
              "width": 0.5
             },
             "pattern": {
              "fillmode": "overlay",
              "size": 10,
              "solidity": 0.2
             }
            },
            "type": "bar"
           }
          ],
          "barpolar": [
           {
            "marker": {
             "line": {
              "color": "#E5ECF6",
              "width": 0.5
             },
             "pattern": {
              "fillmode": "overlay",
              "size": 10,
              "solidity": 0.2
             }
            },
            "type": "barpolar"
           }
          ],
          "carpet": [
           {
            "aaxis": {
             "endlinecolor": "#2a3f5f",
             "gridcolor": "white",
             "linecolor": "white",
             "minorgridcolor": "white",
             "startlinecolor": "#2a3f5f"
            },
            "baxis": {
             "endlinecolor": "#2a3f5f",
             "gridcolor": "white",
             "linecolor": "white",
             "minorgridcolor": "white",
             "startlinecolor": "#2a3f5f"
            },
            "type": "carpet"
           }
          ],
          "choropleth": [
           {
            "colorbar": {
             "outlinewidth": 0,
             "ticks": ""
            },
            "type": "choropleth"
           }
          ],
          "contour": [
           {
            "colorbar": {
             "outlinewidth": 0,
             "ticks": ""
            },
            "colorscale": [
             [
              0,
              "#0d0887"
             ],
             [
              0.1111111111111111,
              "#46039f"
             ],
             [
              0.2222222222222222,
              "#7201a8"
             ],
             [
              0.3333333333333333,
              "#9c179e"
             ],
             [
              0.4444444444444444,
              "#bd3786"
             ],
             [
              0.5555555555555556,
              "#d8576b"
             ],
             [
              0.6666666666666666,
              "#ed7953"
             ],
             [
              0.7777777777777778,
              "#fb9f3a"
             ],
             [
              0.8888888888888888,
              "#fdca26"
             ],
             [
              1,
              "#f0f921"
             ]
            ],
            "type": "contour"
           }
          ],
          "contourcarpet": [
           {
            "colorbar": {
             "outlinewidth": 0,
             "ticks": ""
            },
            "type": "contourcarpet"
           }
          ],
          "heatmap": [
           {
            "colorbar": {
             "outlinewidth": 0,
             "ticks": ""
            },
            "colorscale": [
             [
              0,
              "#0d0887"
             ],
             [
              0.1111111111111111,
              "#46039f"
             ],
             [
              0.2222222222222222,
              "#7201a8"
             ],
             [
              0.3333333333333333,
              "#9c179e"
             ],
             [
              0.4444444444444444,
              "#bd3786"
             ],
             [
              0.5555555555555556,
              "#d8576b"
             ],
             [
              0.6666666666666666,
              "#ed7953"
             ],
             [
              0.7777777777777778,
              "#fb9f3a"
             ],
             [
              0.8888888888888888,
              "#fdca26"
             ],
             [
              1,
              "#f0f921"
             ]
            ],
            "type": "heatmap"
           }
          ],
          "heatmapgl": [
           {
            "colorbar": {
             "outlinewidth": 0,
             "ticks": ""
            },
            "colorscale": [
             [
              0,
              "#0d0887"
             ],
             [
              0.1111111111111111,
              "#46039f"
             ],
             [
              0.2222222222222222,
              "#7201a8"
             ],
             [
              0.3333333333333333,
              "#9c179e"
             ],
             [
              0.4444444444444444,
              "#bd3786"
             ],
             [
              0.5555555555555556,
              "#d8576b"
             ],
             [
              0.6666666666666666,
              "#ed7953"
             ],
             [
              0.7777777777777778,
              "#fb9f3a"
             ],
             [
              0.8888888888888888,
              "#fdca26"
             ],
             [
              1,
              "#f0f921"
             ]
            ],
            "type": "heatmapgl"
           }
          ],
          "histogram": [
           {
            "marker": {
             "pattern": {
              "fillmode": "overlay",
              "size": 10,
              "solidity": 0.2
             }
            },
            "type": "histogram"
           }
          ],
          "histogram2d": [
           {
            "colorbar": {
             "outlinewidth": 0,
             "ticks": ""
            },
            "colorscale": [
             [
              0,
              "#0d0887"
             ],
             [
              0.1111111111111111,
              "#46039f"
             ],
             [
              0.2222222222222222,
              "#7201a8"
             ],
             [
              0.3333333333333333,
              "#9c179e"
             ],
             [
              0.4444444444444444,
              "#bd3786"
             ],
             [
              0.5555555555555556,
              "#d8576b"
             ],
             [
              0.6666666666666666,
              "#ed7953"
             ],
             [
              0.7777777777777778,
              "#fb9f3a"
             ],
             [
              0.8888888888888888,
              "#fdca26"
             ],
             [
              1,
              "#f0f921"
             ]
            ],
            "type": "histogram2d"
           }
          ],
          "histogram2dcontour": [
           {
            "colorbar": {
             "outlinewidth": 0,
             "ticks": ""
            },
            "colorscale": [
             [
              0,
              "#0d0887"
             ],
             [
              0.1111111111111111,
              "#46039f"
             ],
             [
              0.2222222222222222,
              "#7201a8"
             ],
             [
              0.3333333333333333,
              "#9c179e"
             ],
             [
              0.4444444444444444,
              "#bd3786"
             ],
             [
              0.5555555555555556,
              "#d8576b"
             ],
             [
              0.6666666666666666,
              "#ed7953"
             ],
             [
              0.7777777777777778,
              "#fb9f3a"
             ],
             [
              0.8888888888888888,
              "#fdca26"
             ],
             [
              1,
              "#f0f921"
             ]
            ],
            "type": "histogram2dcontour"
           }
          ],
          "mesh3d": [
           {
            "colorbar": {
             "outlinewidth": 0,
             "ticks": ""
            },
            "type": "mesh3d"
           }
          ],
          "parcoords": [
           {
            "line": {
             "colorbar": {
              "outlinewidth": 0,
              "ticks": ""
             }
            },
            "type": "parcoords"
           }
          ],
          "pie": [
           {
            "automargin": true,
            "type": "pie"
           }
          ],
          "scatter": [
           {
            "marker": {
             "colorbar": {
              "outlinewidth": 0,
              "ticks": ""
             }
            },
            "type": "scatter"
           }
          ],
          "scatter3d": [
           {
            "line": {
             "colorbar": {
              "outlinewidth": 0,
              "ticks": ""
             }
            },
            "marker": {
             "colorbar": {
              "outlinewidth": 0,
              "ticks": ""
             }
            },
            "type": "scatter3d"
           }
          ],
          "scattercarpet": [
           {
            "marker": {
             "colorbar": {
              "outlinewidth": 0,
              "ticks": ""
             }
            },
            "type": "scattercarpet"
           }
          ],
          "scattergeo": [
           {
            "marker": {
             "colorbar": {
              "outlinewidth": 0,
              "ticks": ""
             }
            },
            "type": "scattergeo"
           }
          ],
          "scattergl": [
           {
            "marker": {
             "colorbar": {
              "outlinewidth": 0,
              "ticks": ""
             }
            },
            "type": "scattergl"
           }
          ],
          "scattermapbox": [
           {
            "marker": {
             "colorbar": {
              "outlinewidth": 0,
              "ticks": ""
             }
            },
            "type": "scattermapbox"
           }
          ],
          "scatterpolar": [
           {
            "marker": {
             "colorbar": {
              "outlinewidth": 0,
              "ticks": ""
             }
            },
            "type": "scatterpolar"
           }
          ],
          "scatterpolargl": [
           {
            "marker": {
             "colorbar": {
              "outlinewidth": 0,
              "ticks": ""
             }
            },
            "type": "scatterpolargl"
           }
          ],
          "scatterternary": [
           {
            "marker": {
             "colorbar": {
              "outlinewidth": 0,
              "ticks": ""
             }
            },
            "type": "scatterternary"
           }
          ],
          "surface": [
           {
            "colorbar": {
             "outlinewidth": 0,
             "ticks": ""
            },
            "colorscale": [
             [
              0,
              "#0d0887"
             ],
             [
              0.1111111111111111,
              "#46039f"
             ],
             [
              0.2222222222222222,
              "#7201a8"
             ],
             [
              0.3333333333333333,
              "#9c179e"
             ],
             [
              0.4444444444444444,
              "#bd3786"
             ],
             [
              0.5555555555555556,
              "#d8576b"
             ],
             [
              0.6666666666666666,
              "#ed7953"
             ],
             [
              0.7777777777777778,
              "#fb9f3a"
             ],
             [
              0.8888888888888888,
              "#fdca26"
             ],
             [
              1,
              "#f0f921"
             ]
            ],
            "type": "surface"
           }
          ],
          "table": [
           {
            "cells": {
             "fill": {
              "color": "#EBF0F8"
             },
             "line": {
              "color": "white"
             }
            },
            "header": {
             "fill": {
              "color": "#C8D4E3"
             },
             "line": {
              "color": "white"
             }
            },
            "type": "table"
           }
          ]
         },
         "layout": {
          "annotationdefaults": {
           "arrowcolor": "#2a3f5f",
           "arrowhead": 0,
           "arrowwidth": 1
          },
          "autotypenumbers": "strict",
          "coloraxis": {
           "colorbar": {
            "outlinewidth": 0,
            "ticks": ""
           }
          },
          "colorscale": {
           "diverging": [
            [
             0,
             "#8e0152"
            ],
            [
             0.1,
             "#c51b7d"
            ],
            [
             0.2,
             "#de77ae"
            ],
            [
             0.3,
             "#f1b6da"
            ],
            [
             0.4,
             "#fde0ef"
            ],
            [
             0.5,
             "#f7f7f7"
            ],
            [
             0.6,
             "#e6f5d0"
            ],
            [
             0.7,
             "#b8e186"
            ],
            [
             0.8,
             "#7fbc41"
            ],
            [
             0.9,
             "#4d9221"
            ],
            [
             1,
             "#276419"
            ]
           ],
           "sequential": [
            [
             0,
             "#0d0887"
            ],
            [
             0.1111111111111111,
             "#46039f"
            ],
            [
             0.2222222222222222,
             "#7201a8"
            ],
            [
             0.3333333333333333,
             "#9c179e"
            ],
            [
             0.4444444444444444,
             "#bd3786"
            ],
            [
             0.5555555555555556,
             "#d8576b"
            ],
            [
             0.6666666666666666,
             "#ed7953"
            ],
            [
             0.7777777777777778,
             "#fb9f3a"
            ],
            [
             0.8888888888888888,
             "#fdca26"
            ],
            [
             1,
             "#f0f921"
            ]
           ],
           "sequentialminus": [
            [
             0,
             "#0d0887"
            ],
            [
             0.1111111111111111,
             "#46039f"
            ],
            [
             0.2222222222222222,
             "#7201a8"
            ],
            [
             0.3333333333333333,
             "#9c179e"
            ],
            [
             0.4444444444444444,
             "#bd3786"
            ],
            [
             0.5555555555555556,
             "#d8576b"
            ],
            [
             0.6666666666666666,
             "#ed7953"
            ],
            [
             0.7777777777777778,
             "#fb9f3a"
            ],
            [
             0.8888888888888888,
             "#fdca26"
            ],
            [
             1,
             "#f0f921"
            ]
           ]
          },
          "colorway": [
           "#636efa",
           "#EF553B",
           "#00cc96",
           "#ab63fa",
           "#FFA15A",
           "#19d3f3",
           "#FF6692",
           "#B6E880",
           "#FF97FF",
           "#FECB52"
          ],
          "font": {
           "color": "#2a3f5f"
          },
          "geo": {
           "bgcolor": "white",
           "lakecolor": "white",
           "landcolor": "#E5ECF6",
           "showlakes": true,
           "showland": true,
           "subunitcolor": "white"
          },
          "hoverlabel": {
           "align": "left"
          },
          "hovermode": "closest",
          "mapbox": {
           "style": "light"
          },
          "paper_bgcolor": "white",
          "plot_bgcolor": "#E5ECF6",
          "polar": {
           "angularaxis": {
            "gridcolor": "white",
            "linecolor": "white",
            "ticks": ""
           },
           "bgcolor": "#E5ECF6",
           "radialaxis": {
            "gridcolor": "white",
            "linecolor": "white",
            "ticks": ""
           }
          },
          "scene": {
           "xaxis": {
            "backgroundcolor": "#E5ECF6",
            "gridcolor": "white",
            "gridwidth": 2,
            "linecolor": "white",
            "showbackground": true,
            "ticks": "",
            "zerolinecolor": "white"
           },
           "yaxis": {
            "backgroundcolor": "#E5ECF6",
            "gridcolor": "white",
            "gridwidth": 2,
            "linecolor": "white",
            "showbackground": true,
            "ticks": "",
            "zerolinecolor": "white"
           },
           "zaxis": {
            "backgroundcolor": "#E5ECF6",
            "gridcolor": "white",
            "gridwidth": 2,
            "linecolor": "white",
            "showbackground": true,
            "ticks": "",
            "zerolinecolor": "white"
           }
          },
          "shapedefaults": {
           "line": {
            "color": "#2a3f5f"
           }
          },
          "ternary": {
           "aaxis": {
            "gridcolor": "white",
            "linecolor": "white",
            "ticks": ""
           },
           "baxis": {
            "gridcolor": "white",
            "linecolor": "white",
            "ticks": ""
           },
           "bgcolor": "#E5ECF6",
           "caxis": {
            "gridcolor": "white",
            "linecolor": "white",
            "ticks": ""
           }
          },
          "title": {
           "x": 0.05
          },
          "xaxis": {
           "automargin": true,
           "gridcolor": "white",
           "linecolor": "white",
           "ticks": "",
           "title": {
            "standoff": 15
           },
           "zerolinecolor": "white",
           "zerolinewidth": 2
          },
          "yaxis": {
           "automargin": true,
           "gridcolor": "white",
           "linecolor": "white",
           "ticks": "",
           "title": {
            "standoff": 15
           },
           "zerolinecolor": "white",
           "zerolinewidth": 2
          }
         }
        },
        "title": {
         "text": "mse_rank_log1p_ALL_Olfr_rtp1"
        },
        "xaxis": {
         "anchor": "y",
         "domain": [
          0,
          1
         ],
         "title": {
          "text": "n_genes"
         }
        },
        "yaxis": {
         "anchor": "x",
         "domain": [
          0,
          1
         ],
         "title": {
          "text": "term"
         }
        }
       }
      },
      "text/html": [
       "<div>                            <div id=\"fa4d15ef-50c8-46cc-8588-350031f9e9d7\" class=\"plotly-graph-div\" style=\"height:525px; width:100%;\"></div>            <script type=\"text/javascript\">                require([\"plotly\"], function(Plotly) {                    window.PLOTLYENV=window.PLOTLYENV || {};                                    if (document.getElementById(\"fa4d15ef-50c8-46cc-8588-350031f9e9d7\")) {                    Plotly.newPlot(                        \"fa4d15ef-50c8-46cc-8588-350031f9e9d7\",                        [{\"alignmentgroup\":\"True\",\"customdata\":[[[\"Dzip1l\",\"Arl13b\",\"Traf3ip1\"]],[[\"Slc12a2\",\"Spef2\",\"Pde6d\",\"Atp1a1\",\"Elmod3\",\"Clstn1\",\"Arl3\",\"Macf1\",\"Traf3ip1\",\"Rsph9\",\"Kif1a\",\"Arl13b\",\"Dzip1l\",\"Enkur\",\"Cfap69\",\"Clstn2\",\"Spef1\",\"Cplx2\",\"Ccdc39\",\"Ttll6\",\"Ttll3\",\"Syt7\"]],[[\"Ccdc39\",\"Kifap3\",\"Traf3ip1\",\"Ttll3\",\"Rsph9\",\"Arl13b\",\"Spef1\",\"Dzip1l\",\"Arl3\"]],[[\"Enkur\",\"Ccdc39\",\"Traf3ip1\",\"Cfap69\",\"Ttll6\",\"Ttll3\",\"Rsph9\",\"Arl13b\",\"Spef2\",\"Spef1\",\"Elmod3\",\"Dzip1l\"]],[[\"Limch1\",\"Sdcbp\",\"Snap25\",\"Spef2\",\"Pde6d\",\"Elmod3\",\"Arl3\",\"Macf1\",\"Traf3ip1\",\"Jakmip1\",\"Rsph9\",\"Dynlt3\",\"Kif1a\",\"Dzip1l\",\"Enkur\",\"Rnf128\",\"Spef1\",\"Ccdc39\",\"Ttll6\",\"Ttll3\"]],[[\"Sdcbp\",\"Arhgef28\",\"Snap25\",\"Lamp1\",\"Slc12a2\",\"Pde4a\",\"Fkbp2\",\"Rtp1\",\"Pde6d\",\"Atp1a1\",\"Clstn1\",\"Camk2d\",\"Aldoa\",\"Ctxn3\",\"Arl3\",\"Nat14\",\"Scg3\",\"Macf1\",\"Acsl6\",\"Jakmip1\",\"Ubl3\",\"Sgpl1\",\"Kif1a\",\"Sgtb\",\"Arl13b\",\"Dner\",\"Ormdl3\",\"Gramd1c\",\"Rtp2\",\"Mcf2l\",\"Manea\",\"Atp6v1a\",\"Kirrel2\",\"Faim2\",\"Rnf128\",\"Nrn1l\",\"Aig1\",\"Abhd16a\",\"Mslnl\",\"Dnajb14\",\"Clstn2\",\"Spef1\",\"Psen2\",\"Tmem30a\",\"Oscp1\",\"Npdc1\",\"Ctsb\",\"Rab6b\",\"Syt1\",\"Cnga2\",\"Ndufv3\",\"Syt7\"]],[[\"Enkur\",\"Ccdc39\",\"Rsph9\",\"Spef1\"]],[[\"Enkur\",\"Cfap69\",\"Ttll3\",\"Rsph9\",\"Arl13b\",\"Spef2\",\"Spef1\"]],[[\"Sdcbp\",\"Arhgef28\",\"Snap25\",\"Lamp1\",\"Slc12a2\",\"Pde4a\",\"Rtp1\",\"Atp1a1\",\"Clstn1\",\"Camk2d\",\"Aldoa\",\"Macf1\",\"Ubl3\",\"Dner\",\"Arl13b\",\"Gramd1c\",\"Rtp2\",\"Mcf2l\",\"Atp6v1a\",\"Kirrel2\",\"Faim2\",\"Nrn1l\",\"Aig1\",\"Clstn2\",\"Hist2h2be\",\"Spef1\",\"Psen2\",\"Pcdh10\",\"Tmem30a\",\"Oscp1\",\"Ctsb\",\"Nfe2l2\",\"Syt1\",\"Cnga2\",\"Syt7\"]],[[\"Enkur\",\"Ttll3\",\"Ak1\",\"Spef2\",\"Atp1a1\"]],[[\"Macf1\",\"Kifap3\",\"Nfe2l2\",\"Faim2\",\"Rnf128\",\"Rab6b\",\"Rabgap1l\",\"Syt1\",\"Clstn2\",\"Spef2\",\"Atp1a1\",\"Clstn1\",\"Manea\",\"Tmem30a\",\"Psen2\",\"Arl3\"]],[[\"Snap25\",\"Psen2\",\"Lamp1\",\"Kif1a\",\"Syt1\",\"Syt7\"]],[[\"Traf3ip1\",\"Kifap3\",\"Ttll6\",\"Dzip1l\",\"Psen2\",\"Arl3\"]],[[\"Limch1\",\"Sdcbp\",\"Arhgef28\",\"Snap25\",\"Lamp1\",\"Pde4a\",\"Spef2\",\"Pde6d\",\"Elmod3\",\"Camk2d\",\"Aldoa\",\"Arl3\",\"Macf1\",\"Traf3ip1\",\"Fam213a\",\"Jakmip1\",\"Rsph9\",\"Dynlt3\",\"Kif1a\",\"Mapk8ip2\",\"Rnf220\",\"Mcf2l\",\"Dzip1l\",\"Atp6v1a\",\"Enkur\",\"Cfap69\",\"Rnf128\",\"Psap\",\"Dusp14\",\"Spef1\",\"Cplx2\",\"Tstd1\",\"Oscp1\",\"Ccdc39\",\"Ctsb\",\"Nfe2l2\",\"Ttll6\",\"Ttll3\",\"Impdh1\",\"Syt1\",\"Ak1\",\"Rap1gds1\",\"Mycbp\"]],[[\"Cplx2\",\"Snap25\"]],[[\"Snap25\",\"Lamp1\",\"Slc12a2\",\"Kif1a\",\"Dner\",\"Cplx2\",\"Mapk8ip2\",\"Syt7\",\"Camk2d\",\"Psen2\"]],[[\"Macf1\",\"Traf3ip1\",\"Kifap3\",\"Jakmip1\",\"Ttll3\",\"Arl3\"]],[[\"Sdcbp\",\"Acsl6\",\"Kifap3\",\"Faim2\",\"Rnf128\",\"Dnajb14\",\"Sgpl1\",\"Fkbp2\",\"Ormdl3\",\"Clstn2\",\"Gramd1c\",\"Rap1gds1\",\"Atp1a1\",\"Clstn1\",\"Tmem30a\",\"Psen2\"]],[[\"Macf1\",\"Jakmip1\",\"Ttll6\",\"Ttll3\",\"Dynlt3\",\"Kif1a\",\"Spef1\"]],[[\"Traf3ip1\",\"Kifap3\",\"Arl3\"]],[[\"Cbx4\",\"Sdcbp\",\"Arhgef28\",\"Snap25\",\"Lamp1\",\"Slc12a2\",\"Spef2\",\"Pde6d\",\"Atp1a1\",\"Syt7\",\"Camk2d\",\"Clstn1\",\"Arl3\",\"Scg3\",\"Macf1\",\"Acsl6\",\"Traf3ip1\",\"Rsph9\",\"Dynlt3\",\"Kif1a\",\"Arl13b\",\"Mapk8ip2\",\"Rnf220\",\"Mcf2l\",\"Dzip1l\",\"Enkur\",\"Med21\",\"Kifap3\",\"Kirrel2\",\"Faim2\",\"Nrn1l\",\"Psap\",\"Hist2h2be\",\"Psen2\",\"Tmem30a\",\"Nfe2l2\",\"Ttll6\",\"Rab6b\",\"Syt1\",\"Kat6a\"]],[[\"Kifap3\",\"Jakmip1\",\"Clstn2\",\"Mapk8ip2\",\"Clstn1\"]]],\"hovertemplate\":\"n_genes=%{x}<br>term=%{y}<br>study_genes=%{customdata[0]}<extra></extra>\",\"legendgroup\":\"\",\"marker\":{\"color\":\"#636efa\",\"pattern\":{\"shape\":\"\"}},\"name\":\"\",\"offsetgroup\":\"\",\"orientation\":\"h\",\"showlegend\":false,\"textposition\":\"auto\",\"x\":[3,22,9,12,20,52,4,7,35,5,16,6,6,43,2,10,6,16,7,3,40,5],\"xaxis\":\"x\",\"y\":[\"neural tube patterning\",\"cell projection\",\"axoneme\",\"cilium\",\"cytoskeleton\",\"membrane\",\"9+2 motile cilium\",\"motile cilium\",\"plasma membrane\",\"sperm flagellum\",\"Golgi apparatus\",\"synaptic vesicle\",\"ciliary basal body\",\"cytoplasm\",\"synaptobrevin 2-SNAP-25-syntaxin-1a-complexin II complex\",\"neuronal cell body\",\"microtubule cytoskeleton\",\"endoplasmic reticulum\",\"microtubule\",\"ciliary transition zone\",\"protein binding\",\"kinesin binding\"],\"yaxis\":\"y\",\"type\":\"bar\"}],                        {\"template\":{\"data\":{\"bar\":[{\"error_x\":{\"color\":\"#2a3f5f\"},\"error_y\":{\"color\":\"#2a3f5f\"},\"marker\":{\"line\":{\"color\":\"#E5ECF6\",\"width\":0.5},\"pattern\":{\"fillmode\":\"overlay\",\"size\":10,\"solidity\":0.2}},\"type\":\"bar\"}],\"barpolar\":[{\"marker\":{\"line\":{\"color\":\"#E5ECF6\",\"width\":0.5},\"pattern\":{\"fillmode\":\"overlay\",\"size\":10,\"solidity\":0.2}},\"type\":\"barpolar\"}],\"carpet\":[{\"aaxis\":{\"endlinecolor\":\"#2a3f5f\",\"gridcolor\":\"white\",\"linecolor\":\"white\",\"minorgridcolor\":\"white\",\"startlinecolor\":\"#2a3f5f\"},\"baxis\":{\"endlinecolor\":\"#2a3f5f\",\"gridcolor\":\"white\",\"linecolor\":\"white\",\"minorgridcolor\":\"white\",\"startlinecolor\":\"#2a3f5f\"},\"type\":\"carpet\"}],\"choropleth\":[{\"colorbar\":{\"outlinewidth\":0,\"ticks\":\"\"},\"type\":\"choropleth\"}],\"contour\":[{\"colorbar\":{\"outlinewidth\":0,\"ticks\":\"\"},\"colorscale\":[[0.0,\"#0d0887\"],[0.1111111111111111,\"#46039f\"],[0.2222222222222222,\"#7201a8\"],[0.3333333333333333,\"#9c179e\"],[0.4444444444444444,\"#bd3786\"],[0.5555555555555556,\"#d8576b\"],[0.6666666666666666,\"#ed7953\"],[0.7777777777777778,\"#fb9f3a\"],[0.8888888888888888,\"#fdca26\"],[1.0,\"#f0f921\"]],\"type\":\"contour\"}],\"contourcarpet\":[{\"colorbar\":{\"outlinewidth\":0,\"ticks\":\"\"},\"type\":\"contourcarpet\"}],\"heatmap\":[{\"colorbar\":{\"outlinewidth\":0,\"ticks\":\"\"},\"colorscale\":[[0.0,\"#0d0887\"],[0.1111111111111111,\"#46039f\"],[0.2222222222222222,\"#7201a8\"],[0.3333333333333333,\"#9c179e\"],[0.4444444444444444,\"#bd3786\"],[0.5555555555555556,\"#d8576b\"],[0.6666666666666666,\"#ed7953\"],[0.7777777777777778,\"#fb9f3a\"],[0.8888888888888888,\"#fdca26\"],[1.0,\"#f0f921\"]],\"type\":\"heatmap\"}],\"heatmapgl\":[{\"colorbar\":{\"outlinewidth\":0,\"ticks\":\"\"},\"colorscale\":[[0.0,\"#0d0887\"],[0.1111111111111111,\"#46039f\"],[0.2222222222222222,\"#7201a8\"],[0.3333333333333333,\"#9c179e\"],[0.4444444444444444,\"#bd3786\"],[0.5555555555555556,\"#d8576b\"],[0.6666666666666666,\"#ed7953\"],[0.7777777777777778,\"#fb9f3a\"],[0.8888888888888888,\"#fdca26\"],[1.0,\"#f0f921\"]],\"type\":\"heatmapgl\"}],\"histogram\":[{\"marker\":{\"pattern\":{\"fillmode\":\"overlay\",\"size\":10,\"solidity\":0.2}},\"type\":\"histogram\"}],\"histogram2d\":[{\"colorbar\":{\"outlinewidth\":0,\"ticks\":\"\"},\"colorscale\":[[0.0,\"#0d0887\"],[0.1111111111111111,\"#46039f\"],[0.2222222222222222,\"#7201a8\"],[0.3333333333333333,\"#9c179e\"],[0.4444444444444444,\"#bd3786\"],[0.5555555555555556,\"#d8576b\"],[0.6666666666666666,\"#ed7953\"],[0.7777777777777778,\"#fb9f3a\"],[0.8888888888888888,\"#fdca26\"],[1.0,\"#f0f921\"]],\"type\":\"histogram2d\"}],\"histogram2dcontour\":[{\"colorbar\":{\"outlinewidth\":0,\"ticks\":\"\"},\"colorscale\":[[0.0,\"#0d0887\"],[0.1111111111111111,\"#46039f\"],[0.2222222222222222,\"#7201a8\"],[0.3333333333333333,\"#9c179e\"],[0.4444444444444444,\"#bd3786\"],[0.5555555555555556,\"#d8576b\"],[0.6666666666666666,\"#ed7953\"],[0.7777777777777778,\"#fb9f3a\"],[0.8888888888888888,\"#fdca26\"],[1.0,\"#f0f921\"]],\"type\":\"histogram2dcontour\"}],\"mesh3d\":[{\"colorbar\":{\"outlinewidth\":0,\"ticks\":\"\"},\"type\":\"mesh3d\"}],\"parcoords\":[{\"line\":{\"colorbar\":{\"outlinewidth\":0,\"ticks\":\"\"}},\"type\":\"parcoords\"}],\"pie\":[{\"automargin\":true,\"type\":\"pie\"}],\"scatter\":[{\"marker\":{\"colorbar\":{\"outlinewidth\":0,\"ticks\":\"\"}},\"type\":\"scatter\"}],\"scatter3d\":[{\"line\":{\"colorbar\":{\"outlinewidth\":0,\"ticks\":\"\"}},\"marker\":{\"colorbar\":{\"outlinewidth\":0,\"ticks\":\"\"}},\"type\":\"scatter3d\"}],\"scattercarpet\":[{\"marker\":{\"colorbar\":{\"outlinewidth\":0,\"ticks\":\"\"}},\"type\":\"scattercarpet\"}],\"scattergeo\":[{\"marker\":{\"colorbar\":{\"outlinewidth\":0,\"ticks\":\"\"}},\"type\":\"scattergeo\"}],\"scattergl\":[{\"marker\":{\"colorbar\":{\"outlinewidth\":0,\"ticks\":\"\"}},\"type\":\"scattergl\"}],\"scattermapbox\":[{\"marker\":{\"colorbar\":{\"outlinewidth\":0,\"ticks\":\"\"}},\"type\":\"scattermapbox\"}],\"scatterpolar\":[{\"marker\":{\"colorbar\":{\"outlinewidth\":0,\"ticks\":\"\"}},\"type\":\"scatterpolar\"}],\"scatterpolargl\":[{\"marker\":{\"colorbar\":{\"outlinewidth\":0,\"ticks\":\"\"}},\"type\":\"scatterpolargl\"}],\"scatterternary\":[{\"marker\":{\"colorbar\":{\"outlinewidth\":0,\"ticks\":\"\"}},\"type\":\"scatterternary\"}],\"surface\":[{\"colorbar\":{\"outlinewidth\":0,\"ticks\":\"\"},\"colorscale\":[[0.0,\"#0d0887\"],[0.1111111111111111,\"#46039f\"],[0.2222222222222222,\"#7201a8\"],[0.3333333333333333,\"#9c179e\"],[0.4444444444444444,\"#bd3786\"],[0.5555555555555556,\"#d8576b\"],[0.6666666666666666,\"#ed7953\"],[0.7777777777777778,\"#fb9f3a\"],[0.8888888888888888,\"#fdca26\"],[1.0,\"#f0f921\"]],\"type\":\"surface\"}],\"table\":[{\"cells\":{\"fill\":{\"color\":\"#EBF0F8\"},\"line\":{\"color\":\"white\"}},\"header\":{\"fill\":{\"color\":\"#C8D4E3\"},\"line\":{\"color\":\"white\"}},\"type\":\"table\"}]},\"layout\":{\"annotationdefaults\":{\"arrowcolor\":\"#2a3f5f\",\"arrowhead\":0,\"arrowwidth\":1},\"autotypenumbers\":\"strict\",\"coloraxis\":{\"colorbar\":{\"outlinewidth\":0,\"ticks\":\"\"}},\"colorscale\":{\"diverging\":[[0,\"#8e0152\"],[0.1,\"#c51b7d\"],[0.2,\"#de77ae\"],[0.3,\"#f1b6da\"],[0.4,\"#fde0ef\"],[0.5,\"#f7f7f7\"],[0.6,\"#e6f5d0\"],[0.7,\"#b8e186\"],[0.8,\"#7fbc41\"],[0.9,\"#4d9221\"],[1,\"#276419\"]],\"sequential\":[[0.0,\"#0d0887\"],[0.1111111111111111,\"#46039f\"],[0.2222222222222222,\"#7201a8\"],[0.3333333333333333,\"#9c179e\"],[0.4444444444444444,\"#bd3786\"],[0.5555555555555556,\"#d8576b\"],[0.6666666666666666,\"#ed7953\"],[0.7777777777777778,\"#fb9f3a\"],[0.8888888888888888,\"#fdca26\"],[1.0,\"#f0f921\"]],\"sequentialminus\":[[0.0,\"#0d0887\"],[0.1111111111111111,\"#46039f\"],[0.2222222222222222,\"#7201a8\"],[0.3333333333333333,\"#9c179e\"],[0.4444444444444444,\"#bd3786\"],[0.5555555555555556,\"#d8576b\"],[0.6666666666666666,\"#ed7953\"],[0.7777777777777778,\"#fb9f3a\"],[0.8888888888888888,\"#fdca26\"],[1.0,\"#f0f921\"]]},\"colorway\":[\"#636efa\",\"#EF553B\",\"#00cc96\",\"#ab63fa\",\"#FFA15A\",\"#19d3f3\",\"#FF6692\",\"#B6E880\",\"#FF97FF\",\"#FECB52\"],\"font\":{\"color\":\"#2a3f5f\"},\"geo\":{\"bgcolor\":\"white\",\"lakecolor\":\"white\",\"landcolor\":\"#E5ECF6\",\"showlakes\":true,\"showland\":true,\"subunitcolor\":\"white\"},\"hoverlabel\":{\"align\":\"left\"},\"hovermode\":\"closest\",\"mapbox\":{\"style\":\"light\"},\"paper_bgcolor\":\"white\",\"plot_bgcolor\":\"#E5ECF6\",\"polar\":{\"angularaxis\":{\"gridcolor\":\"white\",\"linecolor\":\"white\",\"ticks\":\"\"},\"bgcolor\":\"#E5ECF6\",\"radialaxis\":{\"gridcolor\":\"white\",\"linecolor\":\"white\",\"ticks\":\"\"}},\"scene\":{\"xaxis\":{\"backgroundcolor\":\"#E5ECF6\",\"gridcolor\":\"white\",\"gridwidth\":2,\"linecolor\":\"white\",\"showbackground\":true,\"ticks\":\"\",\"zerolinecolor\":\"white\"},\"yaxis\":{\"backgroundcolor\":\"#E5ECF6\",\"gridcolor\":\"white\",\"gridwidth\":2,\"linecolor\":\"white\",\"showbackground\":true,\"ticks\":\"\",\"zerolinecolor\":\"white\"},\"zaxis\":{\"backgroundcolor\":\"#E5ECF6\",\"gridcolor\":\"white\",\"gridwidth\":2,\"linecolor\":\"white\",\"showbackground\":true,\"ticks\":\"\",\"zerolinecolor\":\"white\"}},\"shapedefaults\":{\"line\":{\"color\":\"#2a3f5f\"}},\"ternary\":{\"aaxis\":{\"gridcolor\":\"white\",\"linecolor\":\"white\",\"ticks\":\"\"},\"baxis\":{\"gridcolor\":\"white\",\"linecolor\":\"white\",\"ticks\":\"\"},\"bgcolor\":\"#E5ECF6\",\"caxis\":{\"gridcolor\":\"white\",\"linecolor\":\"white\",\"ticks\":\"\"}},\"title\":{\"x\":0.05},\"xaxis\":{\"automargin\":true,\"gridcolor\":\"white\",\"linecolor\":\"white\",\"ticks\":\"\",\"title\":{\"standoff\":15},\"zerolinecolor\":\"white\",\"zerolinewidth\":2},\"yaxis\":{\"automargin\":true,\"gridcolor\":\"white\",\"linecolor\":\"white\",\"ticks\":\"\",\"title\":{\"standoff\":15},\"zerolinecolor\":\"white\",\"zerolinewidth\":2}}},\"xaxis\":{\"anchor\":\"y\",\"domain\":[0.0,1.0],\"title\":{\"text\":\"n_genes\"}},\"yaxis\":{\"anchor\":\"x\",\"domain\":[0.0,1.0],\"title\":{\"text\":\"term\"}},\"legend\":{\"tracegroupgap\":0},\"title\":{\"text\":\"mse_rank_log1p_ALL_Olfr_rtp1\"},\"barmode\":\"relative\",\"plot_bgcolor\":\"rgba(0, 0, 0, 0)\"},                        {\"responsive\": true}                    ).then(function(){\n",
       "                            \n",
       "var gd = document.getElementById('fa4d15ef-50c8-46cc-8588-350031f9e9d7');\n",
       "var x = new MutationObserver(function (mutations, observer) {{\n",
       "        var display = window.getComputedStyle(gd).display;\n",
       "        if (!display || display === 'none') {{\n",
       "            console.log([gd, 'removed!']);\n",
       "            Plotly.purge(gd);\n",
       "            observer.disconnect();\n",
       "        }}\n",
       "}});\n",
       "\n",
       "// Listen for the removal of the full notebook cells\n",
       "var notebookContainer = gd.closest('#notebook-container');\n",
       "if (notebookContainer) {{\n",
       "    x.observe(notebookContainer, {childList: true});\n",
       "}}\n",
       "\n",
       "// Listen for the clearing of the current output cell\n",
       "var outputEl = gd.closest('.output');\n",
       "if (outputEl) {{\n",
       "    x.observe(outputEl, {childList: true});\n",
       "}}\n",
       "\n",
       "                        })                };                });            </script>        </div>"
      ]
     },
     "metadata": {},
     "output_type": "display_data"
    },
    {
     "data": {
      "application/vnd.plotly.v1+json": {
       "config": {
        "plotlyServerURL": "https://plot.ly"
       },
       "data": [
        {
         "alignmentgroup": "True",
         "customdata": [
          [
           [
            "Nsg1",
            "Pde6d",
            "Lrrc6",
            "Efhc2",
            "Drc1",
            "Cfap58",
            "Kif17",
            "Scn8a",
            "Kif9",
            "Iqcg",
            "Cfap126",
            "Cfap206",
            "Atcay",
            "Clstn2",
            "Spef1",
            "Ehd3",
            "Adam22",
            "Kcna2",
            "Ttll7",
            "Arhgap44"
           ]
          ],
          [
           [
            "Ehd3",
            "Kif9",
            "Lrrc6",
            "Drc1",
            "Iqcg",
            "Ttll7",
            "Cfap58",
            "Kif17",
            "Cfap126",
            "Cfap206",
            "Spef1"
           ]
          ],
          [
           [
            "Kif9",
            "Lrrc6",
            "Drc1",
            "Iqcg",
            "Cfap58",
            "Dnah9",
            "Spef1"
           ]
          ],
          [
           [
            "Ehd3",
            "Snap25",
            "Slc25a12",
            "Dnm1",
            "Calm1",
            "Atp1b1",
            "Eef1a2"
           ]
          ],
          [
           [
            "Kif9",
            "Iqcg",
            "Cfap58",
            "Saxo2",
            "Atp1b1"
           ]
          ],
          [
           [
            "Kif9",
            "Tppp3",
            "Efhc2",
            "Ttll7",
            "Kif17",
            "Dnm1",
            "Spef1",
            "Mt3"
           ]
          ],
          [
           [
            "Efhc2",
            "Ttll7",
            "Kif17",
            "Cfap126",
            "Cfap206",
            "Saxo2"
           ]
          ],
          [
           [
            "Snap25",
            "Sgip1",
            "Lingo1",
            "Tmem151a",
            "Zdhhc23",
            "Pde4a",
            "Gfy",
            "Nsg1",
            "Rtp1",
            "Pde6d",
            "H2-DMb2",
            "Cyp2s1",
            "Diras1",
            "Atp1b1",
            "Aplp2",
            "Plxna3",
            "Plxna4",
            "Scg3",
            "Slc37a1",
            "Acsl6",
            "Acp2",
            "Scn8a",
            "Triqk",
            "Gramd1c",
            "Rtp2",
            "Degs1",
            "Snph",
            "Clgn",
            "P4htm",
            "Aig1",
            "Atp9a",
            "Cfap126",
            "Slc45a1",
            "Clstn2",
            "Spef1",
            "Slc24a2",
            "Ehd3",
            "Fads6",
            "Cds1",
            "Adam22",
            "Kcna2",
            "Slc25a12",
            "Syt1",
            "Dnm1",
            "Stxbp5l"
           ]
          ],
          [
           [
            "Drc1",
            "Dnah9",
            "Kif17",
            "Cfap206",
            "Spef1"
           ]
          ],
          [
           [
            "Kif9",
            "Tppp3",
            "Efhc2",
            "Snap25",
            "Drc1",
            "Iqcg",
            "Ttll7",
            "Cfap58",
            "Kif17",
            "Cfap126",
            "Cfap206",
            "Saxo2",
            "Dnm1",
            "Pde6d",
            "Spef1"
           ]
          ],
          [
           [
            "Snap25",
            "Adam22",
            "Kcna2",
            "Pak3",
            "Scn8a",
            "Syt1",
            "Nsg1",
            "Clstn2",
            "Dnm1",
            "Arhgap44"
           ]
          ],
          [
           [
            "Adam22",
            "Scn8a",
            "Kcna2"
           ]
          ],
          [
           [
            "Tppp3",
            "Snap25",
            "Sgip1",
            "Pde4a",
            "Ipo13",
            "Pde6d",
            "Cyp2s1",
            "Calm1",
            "Lrrc6",
            "Efhc2",
            "Drc1",
            "Pou2f2",
            "Cfap58",
            "Kif17",
            "Pak3",
            "Scrn1",
            "Stxbp5l",
            "Eef1a2",
            "Snph",
            "Kif9",
            "Sult1d1",
            "Agtpbp1",
            "Iqcg",
            "Cfap126",
            "Cfap206",
            "Pkib",
            "Atcay",
            "Spef1",
            "Mt3",
            "Ehd3",
            "Nfatc1",
            "Hspa12a",
            "Ttll7",
            "Impdh1",
            "Celf4",
            "Syt1",
            "Dnm1",
            "Hdac9",
            "Rap1gds1",
            "Ak9",
            "Arhgap44"
           ]
          ]
         ],
         "hovertemplate": "n_genes=%{x}<br>term=%{y}<br>study_genes=%{customdata[0]}<extra></extra>",
         "legendgroup": "",
         "marker": {
          "color": "#636efa",
          "pattern": {
           "shape": ""
          }
         },
         "name": "",
         "offsetgroup": "",
         "orientation": "h",
         "showlegend": false,
         "textposition": "auto",
         "type": "bar",
         "x": [
          20,
          11,
          7,
          7,
          5,
          8,
          6,
          45,
          5,
          15,
          10,
          3,
          41
         ],
         "xaxis": "x",
         "y": [
          "cell projection",
          "cilium",
          "motile cilium",
          "myelin sheath",
          "sperm flagellum",
          "microtubule",
          "ciliary basal body",
          "membrane",
          "axoneme",
          "cytoskeleton",
          "glutamatergic synapse",
          "axon initial segment",
          "cytoplasm"
         ],
         "yaxis": "y"
        }
       ],
       "layout": {
        "barmode": "relative",
        "legend": {
         "tracegroupgap": 0
        },
        "plot_bgcolor": "rgba(0, 0, 0, 0)",
        "template": {
         "data": {
          "bar": [
           {
            "error_x": {
             "color": "#2a3f5f"
            },
            "error_y": {
             "color": "#2a3f5f"
            },
            "marker": {
             "line": {
              "color": "#E5ECF6",
              "width": 0.5
             },
             "pattern": {
              "fillmode": "overlay",
              "size": 10,
              "solidity": 0.2
             }
            },
            "type": "bar"
           }
          ],
          "barpolar": [
           {
            "marker": {
             "line": {
              "color": "#E5ECF6",
              "width": 0.5
             },
             "pattern": {
              "fillmode": "overlay",
              "size": 10,
              "solidity": 0.2
             }
            },
            "type": "barpolar"
           }
          ],
          "carpet": [
           {
            "aaxis": {
             "endlinecolor": "#2a3f5f",
             "gridcolor": "white",
             "linecolor": "white",
             "minorgridcolor": "white",
             "startlinecolor": "#2a3f5f"
            },
            "baxis": {
             "endlinecolor": "#2a3f5f",
             "gridcolor": "white",
             "linecolor": "white",
             "minorgridcolor": "white",
             "startlinecolor": "#2a3f5f"
            },
            "type": "carpet"
           }
          ],
          "choropleth": [
           {
            "colorbar": {
             "outlinewidth": 0,
             "ticks": ""
            },
            "type": "choropleth"
           }
          ],
          "contour": [
           {
            "colorbar": {
             "outlinewidth": 0,
             "ticks": ""
            },
            "colorscale": [
             [
              0,
              "#0d0887"
             ],
             [
              0.1111111111111111,
              "#46039f"
             ],
             [
              0.2222222222222222,
              "#7201a8"
             ],
             [
              0.3333333333333333,
              "#9c179e"
             ],
             [
              0.4444444444444444,
              "#bd3786"
             ],
             [
              0.5555555555555556,
              "#d8576b"
             ],
             [
              0.6666666666666666,
              "#ed7953"
             ],
             [
              0.7777777777777778,
              "#fb9f3a"
             ],
             [
              0.8888888888888888,
              "#fdca26"
             ],
             [
              1,
              "#f0f921"
             ]
            ],
            "type": "contour"
           }
          ],
          "contourcarpet": [
           {
            "colorbar": {
             "outlinewidth": 0,
             "ticks": ""
            },
            "type": "contourcarpet"
           }
          ],
          "heatmap": [
           {
            "colorbar": {
             "outlinewidth": 0,
             "ticks": ""
            },
            "colorscale": [
             [
              0,
              "#0d0887"
             ],
             [
              0.1111111111111111,
              "#46039f"
             ],
             [
              0.2222222222222222,
              "#7201a8"
             ],
             [
              0.3333333333333333,
              "#9c179e"
             ],
             [
              0.4444444444444444,
              "#bd3786"
             ],
             [
              0.5555555555555556,
              "#d8576b"
             ],
             [
              0.6666666666666666,
              "#ed7953"
             ],
             [
              0.7777777777777778,
              "#fb9f3a"
             ],
             [
              0.8888888888888888,
              "#fdca26"
             ],
             [
              1,
              "#f0f921"
             ]
            ],
            "type": "heatmap"
           }
          ],
          "heatmapgl": [
           {
            "colorbar": {
             "outlinewidth": 0,
             "ticks": ""
            },
            "colorscale": [
             [
              0,
              "#0d0887"
             ],
             [
              0.1111111111111111,
              "#46039f"
             ],
             [
              0.2222222222222222,
              "#7201a8"
             ],
             [
              0.3333333333333333,
              "#9c179e"
             ],
             [
              0.4444444444444444,
              "#bd3786"
             ],
             [
              0.5555555555555556,
              "#d8576b"
             ],
             [
              0.6666666666666666,
              "#ed7953"
             ],
             [
              0.7777777777777778,
              "#fb9f3a"
             ],
             [
              0.8888888888888888,
              "#fdca26"
             ],
             [
              1,
              "#f0f921"
             ]
            ],
            "type": "heatmapgl"
           }
          ],
          "histogram": [
           {
            "marker": {
             "pattern": {
              "fillmode": "overlay",
              "size": 10,
              "solidity": 0.2
             }
            },
            "type": "histogram"
           }
          ],
          "histogram2d": [
           {
            "colorbar": {
             "outlinewidth": 0,
             "ticks": ""
            },
            "colorscale": [
             [
              0,
              "#0d0887"
             ],
             [
              0.1111111111111111,
              "#46039f"
             ],
             [
              0.2222222222222222,
              "#7201a8"
             ],
             [
              0.3333333333333333,
              "#9c179e"
             ],
             [
              0.4444444444444444,
              "#bd3786"
             ],
             [
              0.5555555555555556,
              "#d8576b"
             ],
             [
              0.6666666666666666,
              "#ed7953"
             ],
             [
              0.7777777777777778,
              "#fb9f3a"
             ],
             [
              0.8888888888888888,
              "#fdca26"
             ],
             [
              1,
              "#f0f921"
             ]
            ],
            "type": "histogram2d"
           }
          ],
          "histogram2dcontour": [
           {
            "colorbar": {
             "outlinewidth": 0,
             "ticks": ""
            },
            "colorscale": [
             [
              0,
              "#0d0887"
             ],
             [
              0.1111111111111111,
              "#46039f"
             ],
             [
              0.2222222222222222,
              "#7201a8"
             ],
             [
              0.3333333333333333,
              "#9c179e"
             ],
             [
              0.4444444444444444,
              "#bd3786"
             ],
             [
              0.5555555555555556,
              "#d8576b"
             ],
             [
              0.6666666666666666,
              "#ed7953"
             ],
             [
              0.7777777777777778,
              "#fb9f3a"
             ],
             [
              0.8888888888888888,
              "#fdca26"
             ],
             [
              1,
              "#f0f921"
             ]
            ],
            "type": "histogram2dcontour"
           }
          ],
          "mesh3d": [
           {
            "colorbar": {
             "outlinewidth": 0,
             "ticks": ""
            },
            "type": "mesh3d"
           }
          ],
          "parcoords": [
           {
            "line": {
             "colorbar": {
              "outlinewidth": 0,
              "ticks": ""
             }
            },
            "type": "parcoords"
           }
          ],
          "pie": [
           {
            "automargin": true,
            "type": "pie"
           }
          ],
          "scatter": [
           {
            "marker": {
             "colorbar": {
              "outlinewidth": 0,
              "ticks": ""
             }
            },
            "type": "scatter"
           }
          ],
          "scatter3d": [
           {
            "line": {
             "colorbar": {
              "outlinewidth": 0,
              "ticks": ""
             }
            },
            "marker": {
             "colorbar": {
              "outlinewidth": 0,
              "ticks": ""
             }
            },
            "type": "scatter3d"
           }
          ],
          "scattercarpet": [
           {
            "marker": {
             "colorbar": {
              "outlinewidth": 0,
              "ticks": ""
             }
            },
            "type": "scattercarpet"
           }
          ],
          "scattergeo": [
           {
            "marker": {
             "colorbar": {
              "outlinewidth": 0,
              "ticks": ""
             }
            },
            "type": "scattergeo"
           }
          ],
          "scattergl": [
           {
            "marker": {
             "colorbar": {
              "outlinewidth": 0,
              "ticks": ""
             }
            },
            "type": "scattergl"
           }
          ],
          "scattermapbox": [
           {
            "marker": {
             "colorbar": {
              "outlinewidth": 0,
              "ticks": ""
             }
            },
            "type": "scattermapbox"
           }
          ],
          "scatterpolar": [
           {
            "marker": {
             "colorbar": {
              "outlinewidth": 0,
              "ticks": ""
             }
            },
            "type": "scatterpolar"
           }
          ],
          "scatterpolargl": [
           {
            "marker": {
             "colorbar": {
              "outlinewidth": 0,
              "ticks": ""
             }
            },
            "type": "scatterpolargl"
           }
          ],
          "scatterternary": [
           {
            "marker": {
             "colorbar": {
              "outlinewidth": 0,
              "ticks": ""
             }
            },
            "type": "scatterternary"
           }
          ],
          "surface": [
           {
            "colorbar": {
             "outlinewidth": 0,
             "ticks": ""
            },
            "colorscale": [
             [
              0,
              "#0d0887"
             ],
             [
              0.1111111111111111,
              "#46039f"
             ],
             [
              0.2222222222222222,
              "#7201a8"
             ],
             [
              0.3333333333333333,
              "#9c179e"
             ],
             [
              0.4444444444444444,
              "#bd3786"
             ],
             [
              0.5555555555555556,
              "#d8576b"
             ],
             [
              0.6666666666666666,
              "#ed7953"
             ],
             [
              0.7777777777777778,
              "#fb9f3a"
             ],
             [
              0.8888888888888888,
              "#fdca26"
             ],
             [
              1,
              "#f0f921"
             ]
            ],
            "type": "surface"
           }
          ],
          "table": [
           {
            "cells": {
             "fill": {
              "color": "#EBF0F8"
             },
             "line": {
              "color": "white"
             }
            },
            "header": {
             "fill": {
              "color": "#C8D4E3"
             },
             "line": {
              "color": "white"
             }
            },
            "type": "table"
           }
          ]
         },
         "layout": {
          "annotationdefaults": {
           "arrowcolor": "#2a3f5f",
           "arrowhead": 0,
           "arrowwidth": 1
          },
          "autotypenumbers": "strict",
          "coloraxis": {
           "colorbar": {
            "outlinewidth": 0,
            "ticks": ""
           }
          },
          "colorscale": {
           "diverging": [
            [
             0,
             "#8e0152"
            ],
            [
             0.1,
             "#c51b7d"
            ],
            [
             0.2,
             "#de77ae"
            ],
            [
             0.3,
             "#f1b6da"
            ],
            [
             0.4,
             "#fde0ef"
            ],
            [
             0.5,
             "#f7f7f7"
            ],
            [
             0.6,
             "#e6f5d0"
            ],
            [
             0.7,
             "#b8e186"
            ],
            [
             0.8,
             "#7fbc41"
            ],
            [
             0.9,
             "#4d9221"
            ],
            [
             1,
             "#276419"
            ]
           ],
           "sequential": [
            [
             0,
             "#0d0887"
            ],
            [
             0.1111111111111111,
             "#46039f"
            ],
            [
             0.2222222222222222,
             "#7201a8"
            ],
            [
             0.3333333333333333,
             "#9c179e"
            ],
            [
             0.4444444444444444,
             "#bd3786"
            ],
            [
             0.5555555555555556,
             "#d8576b"
            ],
            [
             0.6666666666666666,
             "#ed7953"
            ],
            [
             0.7777777777777778,
             "#fb9f3a"
            ],
            [
             0.8888888888888888,
             "#fdca26"
            ],
            [
             1,
             "#f0f921"
            ]
           ],
           "sequentialminus": [
            [
             0,
             "#0d0887"
            ],
            [
             0.1111111111111111,
             "#46039f"
            ],
            [
             0.2222222222222222,
             "#7201a8"
            ],
            [
             0.3333333333333333,
             "#9c179e"
            ],
            [
             0.4444444444444444,
             "#bd3786"
            ],
            [
             0.5555555555555556,
             "#d8576b"
            ],
            [
             0.6666666666666666,
             "#ed7953"
            ],
            [
             0.7777777777777778,
             "#fb9f3a"
            ],
            [
             0.8888888888888888,
             "#fdca26"
            ],
            [
             1,
             "#f0f921"
            ]
           ]
          },
          "colorway": [
           "#636efa",
           "#EF553B",
           "#00cc96",
           "#ab63fa",
           "#FFA15A",
           "#19d3f3",
           "#FF6692",
           "#B6E880",
           "#FF97FF",
           "#FECB52"
          ],
          "font": {
           "color": "#2a3f5f"
          },
          "geo": {
           "bgcolor": "white",
           "lakecolor": "white",
           "landcolor": "#E5ECF6",
           "showlakes": true,
           "showland": true,
           "subunitcolor": "white"
          },
          "hoverlabel": {
           "align": "left"
          },
          "hovermode": "closest",
          "mapbox": {
           "style": "light"
          },
          "paper_bgcolor": "white",
          "plot_bgcolor": "#E5ECF6",
          "polar": {
           "angularaxis": {
            "gridcolor": "white",
            "linecolor": "white",
            "ticks": ""
           },
           "bgcolor": "#E5ECF6",
           "radialaxis": {
            "gridcolor": "white",
            "linecolor": "white",
            "ticks": ""
           }
          },
          "scene": {
           "xaxis": {
            "backgroundcolor": "#E5ECF6",
            "gridcolor": "white",
            "gridwidth": 2,
            "linecolor": "white",
            "showbackground": true,
            "ticks": "",
            "zerolinecolor": "white"
           },
           "yaxis": {
            "backgroundcolor": "#E5ECF6",
            "gridcolor": "white",
            "gridwidth": 2,
            "linecolor": "white",
            "showbackground": true,
            "ticks": "",
            "zerolinecolor": "white"
           },
           "zaxis": {
            "backgroundcolor": "#E5ECF6",
            "gridcolor": "white",
            "gridwidth": 2,
            "linecolor": "white",
            "showbackground": true,
            "ticks": "",
            "zerolinecolor": "white"
           }
          },
          "shapedefaults": {
           "line": {
            "color": "#2a3f5f"
           }
          },
          "ternary": {
           "aaxis": {
            "gridcolor": "white",
            "linecolor": "white",
            "ticks": ""
           },
           "baxis": {
            "gridcolor": "white",
            "linecolor": "white",
            "ticks": ""
           },
           "bgcolor": "#E5ECF6",
           "caxis": {
            "gridcolor": "white",
            "linecolor": "white",
            "ticks": ""
           }
          },
          "title": {
           "x": 0.05
          },
          "xaxis": {
           "automargin": true,
           "gridcolor": "white",
           "linecolor": "white",
           "ticks": "",
           "title": {
            "standoff": 15
           },
           "zerolinecolor": "white",
           "zerolinewidth": 2
          },
          "yaxis": {
           "automargin": true,
           "gridcolor": "white",
           "linecolor": "white",
           "ticks": "",
           "title": {
            "standoff": 15
           },
           "zerolinecolor": "white",
           "zerolinewidth": 2
          }
         }
        },
        "title": {
         "text": "mse_rank_normalized_normExp_ALL_Olfr_rtp1"
        },
        "xaxis": {
         "anchor": "y",
         "domain": [
          0,
          1
         ],
         "title": {
          "text": "n_genes"
         }
        },
        "yaxis": {
         "anchor": "x",
         "domain": [
          0,
          1
         ],
         "title": {
          "text": "term"
         }
        }
       }
      },
      "text/html": [
       "<div>                            <div id=\"239e7e80-3f79-45a5-9f67-1e0081ae93cf\" class=\"plotly-graph-div\" style=\"height:525px; width:100%;\"></div>            <script type=\"text/javascript\">                require([\"plotly\"], function(Plotly) {                    window.PLOTLYENV=window.PLOTLYENV || {};                                    if (document.getElementById(\"239e7e80-3f79-45a5-9f67-1e0081ae93cf\")) {                    Plotly.newPlot(                        \"239e7e80-3f79-45a5-9f67-1e0081ae93cf\",                        [{\"alignmentgroup\":\"True\",\"customdata\":[[[\"Nsg1\",\"Pde6d\",\"Lrrc6\",\"Efhc2\",\"Drc1\",\"Cfap58\",\"Kif17\",\"Scn8a\",\"Kif9\",\"Iqcg\",\"Cfap126\",\"Cfap206\",\"Atcay\",\"Clstn2\",\"Spef1\",\"Ehd3\",\"Adam22\",\"Kcna2\",\"Ttll7\",\"Arhgap44\"]],[[\"Ehd3\",\"Kif9\",\"Lrrc6\",\"Drc1\",\"Iqcg\",\"Ttll7\",\"Cfap58\",\"Kif17\",\"Cfap126\",\"Cfap206\",\"Spef1\"]],[[\"Kif9\",\"Lrrc6\",\"Drc1\",\"Iqcg\",\"Cfap58\",\"Dnah9\",\"Spef1\"]],[[\"Ehd3\",\"Snap25\",\"Slc25a12\",\"Dnm1\",\"Calm1\",\"Atp1b1\",\"Eef1a2\"]],[[\"Kif9\",\"Iqcg\",\"Cfap58\",\"Saxo2\",\"Atp1b1\"]],[[\"Kif9\",\"Tppp3\",\"Efhc2\",\"Ttll7\",\"Kif17\",\"Dnm1\",\"Spef1\",\"Mt3\"]],[[\"Efhc2\",\"Ttll7\",\"Kif17\",\"Cfap126\",\"Cfap206\",\"Saxo2\"]],[[\"Snap25\",\"Sgip1\",\"Lingo1\",\"Tmem151a\",\"Zdhhc23\",\"Pde4a\",\"Gfy\",\"Nsg1\",\"Rtp1\",\"Pde6d\",\"H2-DMb2\",\"Cyp2s1\",\"Diras1\",\"Atp1b1\",\"Aplp2\",\"Plxna3\",\"Plxna4\",\"Scg3\",\"Slc37a1\",\"Acsl6\",\"Acp2\",\"Scn8a\",\"Triqk\",\"Gramd1c\",\"Rtp2\",\"Degs1\",\"Snph\",\"Clgn\",\"P4htm\",\"Aig1\",\"Atp9a\",\"Cfap126\",\"Slc45a1\",\"Clstn2\",\"Spef1\",\"Slc24a2\",\"Ehd3\",\"Fads6\",\"Cds1\",\"Adam22\",\"Kcna2\",\"Slc25a12\",\"Syt1\",\"Dnm1\",\"Stxbp5l\"]],[[\"Drc1\",\"Dnah9\",\"Kif17\",\"Cfap206\",\"Spef1\"]],[[\"Kif9\",\"Tppp3\",\"Efhc2\",\"Snap25\",\"Drc1\",\"Iqcg\",\"Ttll7\",\"Cfap58\",\"Kif17\",\"Cfap126\",\"Cfap206\",\"Saxo2\",\"Dnm1\",\"Pde6d\",\"Spef1\"]],[[\"Snap25\",\"Adam22\",\"Kcna2\",\"Pak3\",\"Scn8a\",\"Syt1\",\"Nsg1\",\"Clstn2\",\"Dnm1\",\"Arhgap44\"]],[[\"Adam22\",\"Scn8a\",\"Kcna2\"]],[[\"Tppp3\",\"Snap25\",\"Sgip1\",\"Pde4a\",\"Ipo13\",\"Pde6d\",\"Cyp2s1\",\"Calm1\",\"Lrrc6\",\"Efhc2\",\"Drc1\",\"Pou2f2\",\"Cfap58\",\"Kif17\",\"Pak3\",\"Scrn1\",\"Stxbp5l\",\"Eef1a2\",\"Snph\",\"Kif9\",\"Sult1d1\",\"Agtpbp1\",\"Iqcg\",\"Cfap126\",\"Cfap206\",\"Pkib\",\"Atcay\",\"Spef1\",\"Mt3\",\"Ehd3\",\"Nfatc1\",\"Hspa12a\",\"Ttll7\",\"Impdh1\",\"Celf4\",\"Syt1\",\"Dnm1\",\"Hdac9\",\"Rap1gds1\",\"Ak9\",\"Arhgap44\"]]],\"hovertemplate\":\"n_genes=%{x}<br>term=%{y}<br>study_genes=%{customdata[0]}<extra></extra>\",\"legendgroup\":\"\",\"marker\":{\"color\":\"#636efa\",\"pattern\":{\"shape\":\"\"}},\"name\":\"\",\"offsetgroup\":\"\",\"orientation\":\"h\",\"showlegend\":false,\"textposition\":\"auto\",\"x\":[20,11,7,7,5,8,6,45,5,15,10,3,41],\"xaxis\":\"x\",\"y\":[\"cell projection\",\"cilium\",\"motile cilium\",\"myelin sheath\",\"sperm flagellum\",\"microtubule\",\"ciliary basal body\",\"membrane\",\"axoneme\",\"cytoskeleton\",\"glutamatergic synapse\",\"axon initial segment\",\"cytoplasm\"],\"yaxis\":\"y\",\"type\":\"bar\"}],                        {\"template\":{\"data\":{\"bar\":[{\"error_x\":{\"color\":\"#2a3f5f\"},\"error_y\":{\"color\":\"#2a3f5f\"},\"marker\":{\"line\":{\"color\":\"#E5ECF6\",\"width\":0.5},\"pattern\":{\"fillmode\":\"overlay\",\"size\":10,\"solidity\":0.2}},\"type\":\"bar\"}],\"barpolar\":[{\"marker\":{\"line\":{\"color\":\"#E5ECF6\",\"width\":0.5},\"pattern\":{\"fillmode\":\"overlay\",\"size\":10,\"solidity\":0.2}},\"type\":\"barpolar\"}],\"carpet\":[{\"aaxis\":{\"endlinecolor\":\"#2a3f5f\",\"gridcolor\":\"white\",\"linecolor\":\"white\",\"minorgridcolor\":\"white\",\"startlinecolor\":\"#2a3f5f\"},\"baxis\":{\"endlinecolor\":\"#2a3f5f\",\"gridcolor\":\"white\",\"linecolor\":\"white\",\"minorgridcolor\":\"white\",\"startlinecolor\":\"#2a3f5f\"},\"type\":\"carpet\"}],\"choropleth\":[{\"colorbar\":{\"outlinewidth\":0,\"ticks\":\"\"},\"type\":\"choropleth\"}],\"contour\":[{\"colorbar\":{\"outlinewidth\":0,\"ticks\":\"\"},\"colorscale\":[[0.0,\"#0d0887\"],[0.1111111111111111,\"#46039f\"],[0.2222222222222222,\"#7201a8\"],[0.3333333333333333,\"#9c179e\"],[0.4444444444444444,\"#bd3786\"],[0.5555555555555556,\"#d8576b\"],[0.6666666666666666,\"#ed7953\"],[0.7777777777777778,\"#fb9f3a\"],[0.8888888888888888,\"#fdca26\"],[1.0,\"#f0f921\"]],\"type\":\"contour\"}],\"contourcarpet\":[{\"colorbar\":{\"outlinewidth\":0,\"ticks\":\"\"},\"type\":\"contourcarpet\"}],\"heatmap\":[{\"colorbar\":{\"outlinewidth\":0,\"ticks\":\"\"},\"colorscale\":[[0.0,\"#0d0887\"],[0.1111111111111111,\"#46039f\"],[0.2222222222222222,\"#7201a8\"],[0.3333333333333333,\"#9c179e\"],[0.4444444444444444,\"#bd3786\"],[0.5555555555555556,\"#d8576b\"],[0.6666666666666666,\"#ed7953\"],[0.7777777777777778,\"#fb9f3a\"],[0.8888888888888888,\"#fdca26\"],[1.0,\"#f0f921\"]],\"type\":\"heatmap\"}],\"heatmapgl\":[{\"colorbar\":{\"outlinewidth\":0,\"ticks\":\"\"},\"colorscale\":[[0.0,\"#0d0887\"],[0.1111111111111111,\"#46039f\"],[0.2222222222222222,\"#7201a8\"],[0.3333333333333333,\"#9c179e\"],[0.4444444444444444,\"#bd3786\"],[0.5555555555555556,\"#d8576b\"],[0.6666666666666666,\"#ed7953\"],[0.7777777777777778,\"#fb9f3a\"],[0.8888888888888888,\"#fdca26\"],[1.0,\"#f0f921\"]],\"type\":\"heatmapgl\"}],\"histogram\":[{\"marker\":{\"pattern\":{\"fillmode\":\"overlay\",\"size\":10,\"solidity\":0.2}},\"type\":\"histogram\"}],\"histogram2d\":[{\"colorbar\":{\"outlinewidth\":0,\"ticks\":\"\"},\"colorscale\":[[0.0,\"#0d0887\"],[0.1111111111111111,\"#46039f\"],[0.2222222222222222,\"#7201a8\"],[0.3333333333333333,\"#9c179e\"],[0.4444444444444444,\"#bd3786\"],[0.5555555555555556,\"#d8576b\"],[0.6666666666666666,\"#ed7953\"],[0.7777777777777778,\"#fb9f3a\"],[0.8888888888888888,\"#fdca26\"],[1.0,\"#f0f921\"]],\"type\":\"histogram2d\"}],\"histogram2dcontour\":[{\"colorbar\":{\"outlinewidth\":0,\"ticks\":\"\"},\"colorscale\":[[0.0,\"#0d0887\"],[0.1111111111111111,\"#46039f\"],[0.2222222222222222,\"#7201a8\"],[0.3333333333333333,\"#9c179e\"],[0.4444444444444444,\"#bd3786\"],[0.5555555555555556,\"#d8576b\"],[0.6666666666666666,\"#ed7953\"],[0.7777777777777778,\"#fb9f3a\"],[0.8888888888888888,\"#fdca26\"],[1.0,\"#f0f921\"]],\"type\":\"histogram2dcontour\"}],\"mesh3d\":[{\"colorbar\":{\"outlinewidth\":0,\"ticks\":\"\"},\"type\":\"mesh3d\"}],\"parcoords\":[{\"line\":{\"colorbar\":{\"outlinewidth\":0,\"ticks\":\"\"}},\"type\":\"parcoords\"}],\"pie\":[{\"automargin\":true,\"type\":\"pie\"}],\"scatter\":[{\"marker\":{\"colorbar\":{\"outlinewidth\":0,\"ticks\":\"\"}},\"type\":\"scatter\"}],\"scatter3d\":[{\"line\":{\"colorbar\":{\"outlinewidth\":0,\"ticks\":\"\"}},\"marker\":{\"colorbar\":{\"outlinewidth\":0,\"ticks\":\"\"}},\"type\":\"scatter3d\"}],\"scattercarpet\":[{\"marker\":{\"colorbar\":{\"outlinewidth\":0,\"ticks\":\"\"}},\"type\":\"scattercarpet\"}],\"scattergeo\":[{\"marker\":{\"colorbar\":{\"outlinewidth\":0,\"ticks\":\"\"}},\"type\":\"scattergeo\"}],\"scattergl\":[{\"marker\":{\"colorbar\":{\"outlinewidth\":0,\"ticks\":\"\"}},\"type\":\"scattergl\"}],\"scattermapbox\":[{\"marker\":{\"colorbar\":{\"outlinewidth\":0,\"ticks\":\"\"}},\"type\":\"scattermapbox\"}],\"scatterpolar\":[{\"marker\":{\"colorbar\":{\"outlinewidth\":0,\"ticks\":\"\"}},\"type\":\"scatterpolar\"}],\"scatterpolargl\":[{\"marker\":{\"colorbar\":{\"outlinewidth\":0,\"ticks\":\"\"}},\"type\":\"scatterpolargl\"}],\"scatterternary\":[{\"marker\":{\"colorbar\":{\"outlinewidth\":0,\"ticks\":\"\"}},\"type\":\"scatterternary\"}],\"surface\":[{\"colorbar\":{\"outlinewidth\":0,\"ticks\":\"\"},\"colorscale\":[[0.0,\"#0d0887\"],[0.1111111111111111,\"#46039f\"],[0.2222222222222222,\"#7201a8\"],[0.3333333333333333,\"#9c179e\"],[0.4444444444444444,\"#bd3786\"],[0.5555555555555556,\"#d8576b\"],[0.6666666666666666,\"#ed7953\"],[0.7777777777777778,\"#fb9f3a\"],[0.8888888888888888,\"#fdca26\"],[1.0,\"#f0f921\"]],\"type\":\"surface\"}],\"table\":[{\"cells\":{\"fill\":{\"color\":\"#EBF0F8\"},\"line\":{\"color\":\"white\"}},\"header\":{\"fill\":{\"color\":\"#C8D4E3\"},\"line\":{\"color\":\"white\"}},\"type\":\"table\"}]},\"layout\":{\"annotationdefaults\":{\"arrowcolor\":\"#2a3f5f\",\"arrowhead\":0,\"arrowwidth\":1},\"autotypenumbers\":\"strict\",\"coloraxis\":{\"colorbar\":{\"outlinewidth\":0,\"ticks\":\"\"}},\"colorscale\":{\"diverging\":[[0,\"#8e0152\"],[0.1,\"#c51b7d\"],[0.2,\"#de77ae\"],[0.3,\"#f1b6da\"],[0.4,\"#fde0ef\"],[0.5,\"#f7f7f7\"],[0.6,\"#e6f5d0\"],[0.7,\"#b8e186\"],[0.8,\"#7fbc41\"],[0.9,\"#4d9221\"],[1,\"#276419\"]],\"sequential\":[[0.0,\"#0d0887\"],[0.1111111111111111,\"#46039f\"],[0.2222222222222222,\"#7201a8\"],[0.3333333333333333,\"#9c179e\"],[0.4444444444444444,\"#bd3786\"],[0.5555555555555556,\"#d8576b\"],[0.6666666666666666,\"#ed7953\"],[0.7777777777777778,\"#fb9f3a\"],[0.8888888888888888,\"#fdca26\"],[1.0,\"#f0f921\"]],\"sequentialminus\":[[0.0,\"#0d0887\"],[0.1111111111111111,\"#46039f\"],[0.2222222222222222,\"#7201a8\"],[0.3333333333333333,\"#9c179e\"],[0.4444444444444444,\"#bd3786\"],[0.5555555555555556,\"#d8576b\"],[0.6666666666666666,\"#ed7953\"],[0.7777777777777778,\"#fb9f3a\"],[0.8888888888888888,\"#fdca26\"],[1.0,\"#f0f921\"]]},\"colorway\":[\"#636efa\",\"#EF553B\",\"#00cc96\",\"#ab63fa\",\"#FFA15A\",\"#19d3f3\",\"#FF6692\",\"#B6E880\",\"#FF97FF\",\"#FECB52\"],\"font\":{\"color\":\"#2a3f5f\"},\"geo\":{\"bgcolor\":\"white\",\"lakecolor\":\"white\",\"landcolor\":\"#E5ECF6\",\"showlakes\":true,\"showland\":true,\"subunitcolor\":\"white\"},\"hoverlabel\":{\"align\":\"left\"},\"hovermode\":\"closest\",\"mapbox\":{\"style\":\"light\"},\"paper_bgcolor\":\"white\",\"plot_bgcolor\":\"#E5ECF6\",\"polar\":{\"angularaxis\":{\"gridcolor\":\"white\",\"linecolor\":\"white\",\"ticks\":\"\"},\"bgcolor\":\"#E5ECF6\",\"radialaxis\":{\"gridcolor\":\"white\",\"linecolor\":\"white\",\"ticks\":\"\"}},\"scene\":{\"xaxis\":{\"backgroundcolor\":\"#E5ECF6\",\"gridcolor\":\"white\",\"gridwidth\":2,\"linecolor\":\"white\",\"showbackground\":true,\"ticks\":\"\",\"zerolinecolor\":\"white\"},\"yaxis\":{\"backgroundcolor\":\"#E5ECF6\",\"gridcolor\":\"white\",\"gridwidth\":2,\"linecolor\":\"white\",\"showbackground\":true,\"ticks\":\"\",\"zerolinecolor\":\"white\"},\"zaxis\":{\"backgroundcolor\":\"#E5ECF6\",\"gridcolor\":\"white\",\"gridwidth\":2,\"linecolor\":\"white\",\"showbackground\":true,\"ticks\":\"\",\"zerolinecolor\":\"white\"}},\"shapedefaults\":{\"line\":{\"color\":\"#2a3f5f\"}},\"ternary\":{\"aaxis\":{\"gridcolor\":\"white\",\"linecolor\":\"white\",\"ticks\":\"\"},\"baxis\":{\"gridcolor\":\"white\",\"linecolor\":\"white\",\"ticks\":\"\"},\"bgcolor\":\"#E5ECF6\",\"caxis\":{\"gridcolor\":\"white\",\"linecolor\":\"white\",\"ticks\":\"\"}},\"title\":{\"x\":0.05},\"xaxis\":{\"automargin\":true,\"gridcolor\":\"white\",\"linecolor\":\"white\",\"ticks\":\"\",\"title\":{\"standoff\":15},\"zerolinecolor\":\"white\",\"zerolinewidth\":2},\"yaxis\":{\"automargin\":true,\"gridcolor\":\"white\",\"linecolor\":\"white\",\"ticks\":\"\",\"title\":{\"standoff\":15},\"zerolinecolor\":\"white\",\"zerolinewidth\":2}}},\"xaxis\":{\"anchor\":\"y\",\"domain\":[0.0,1.0],\"title\":{\"text\":\"n_genes\"}},\"yaxis\":{\"anchor\":\"x\",\"domain\":[0.0,1.0],\"title\":{\"text\":\"term\"}},\"legend\":{\"tracegroupgap\":0},\"title\":{\"text\":\"mse_rank_normalized_normExp_ALL_Olfr_rtp1\"},\"barmode\":\"relative\",\"plot_bgcolor\":\"rgba(0, 0, 0, 0)\"},                        {\"responsive\": true}                    ).then(function(){\n",
       "                            \n",
       "var gd = document.getElementById('239e7e80-3f79-45a5-9f67-1e0081ae93cf');\n",
       "var x = new MutationObserver(function (mutations, observer) {{\n",
       "        var display = window.getComputedStyle(gd).display;\n",
       "        if (!display || display === 'none') {{\n",
       "            console.log([gd, 'removed!']);\n",
       "            Plotly.purge(gd);\n",
       "            observer.disconnect();\n",
       "        }}\n",
       "}});\n",
       "\n",
       "// Listen for the removal of the full notebook cells\n",
       "var notebookContainer = gd.closest('#notebook-container');\n",
       "if (notebookContainer) {{\n",
       "    x.observe(notebookContainer, {childList: true});\n",
       "}}\n",
       "\n",
       "// Listen for the clearing of the current output cell\n",
       "var outputEl = gd.closest('.output');\n",
       "if (outputEl) {{\n",
       "    x.observe(outputEl, {childList: true});\n",
       "}}\n",
       "\n",
       "                        })                };                });            </script>        </div>"
      ]
     },
     "metadata": {},
     "output_type": "display_data"
    },
    {
     "data": {
      "application/vnd.plotly.v1+json": {
       "config": {
        "plotlyServerURL": "https://plot.ly"
       },
       "data": [
        {
         "alignmentgroup": "True",
         "customdata": [
          [
           [
            "Lrrc6",
            "Zmynd10",
            "Ttll3",
            "Rsph9",
            "Spef1"
           ]
          ],
          [
           [
            "Lrrc6",
            "Ttc21a",
            "Cfap44",
            "Ttll3",
            "Cfap58",
            "Eno4"
           ]
          ],
          [
           [
            "Cfap206",
            "Iqcg",
            "Cfap58",
            "Cfap44"
           ]
          ],
          [
           [
            "Ehd3",
            "Ccdc113",
            "Bbs7",
            "Rsph9",
            "Cfap58",
            "Cfap206",
            "Spef1"
           ]
          ],
          [
           [
            "Dmtn",
            "Nsg1",
            "Pde6d",
            "Lrrc6",
            "Cfap44",
            "Efhc2",
            "Drc1",
            "Rsph9",
            "Cfap58",
            "Scn8a",
            "Pacrg",
            "Kif9",
            "Bbs7",
            "Iqcg",
            "Cfap206",
            "Atcay",
            "Clstn2",
            "Nmnat2",
            "Spef1",
            "Ehd3",
            "Adam22",
            "Kcna2",
            "Ttll3",
            "Ttll7"
           ]
          ],
          [
           [
            "Ehd3",
            "Kif9",
            "Lrrc6",
            "Bbs7",
            "Cfap44",
            "Drc1",
            "Iqcg",
            "Ttll3",
            "Ttll7",
            "Rsph9",
            "Cfap58",
            "Cfap206",
            "Spef1",
            "Pacrg"
           ]
          ],
          [
           [
            "Ccdc113",
            "Bbs7",
            "Drc1",
            "Wdr54",
            "Ttll3",
            "Rsph9",
            "Cfap206",
            "Spef1"
           ]
          ],
          [
           [
            "Lrrc6",
            "Kif9",
            "Cfap44",
            "Drc1",
            "Iqcg",
            "Ttll3",
            "Rsph9",
            "Cfap58",
            "Spef1"
           ]
          ],
          [
           [
            "Ccdc113",
            "Dmtn",
            "Snap25",
            "Pde6d",
            "Cfap44",
            "Efhc2",
            "Drc1",
            "Zmynd10",
            "Rsph9",
            "Cfap58",
            "Pacrg",
            "Kif9",
            "Bbs7",
            "Iqcg",
            "Cfap206",
            "Saxo2",
            "Spef1",
            "Ttll3",
            "Ttll7",
            "Dnm1"
           ]
          ],
          [
           [
            "Ccdc113",
            "Arhgef28",
            "Dmtn",
            "Snap25",
            "Sgip1",
            "Pde4a",
            "Pde6d",
            "Cyp2s1",
            "Dusp3",
            "Lrrc6",
            "Cfap44",
            "Efhc2",
            "Drc1",
            "Pou2f2",
            "Rsph9",
            "Cfap58",
            "Zmynd10",
            "Pak3",
            "Scrn1",
            "Cdkl4",
            "Eef1a2",
            "Pacrg",
            "Kif9",
            "Sult1d1",
            "Bbs7",
            "Agtpbp1",
            "Iqcg",
            "Cfap206",
            "Atcay",
            "Spef1",
            "Nmnat2",
            "Mt3",
            "Tstd1",
            "Ehd3",
            "Nfatc1",
            "Hspa12a",
            "Sgsm3",
            "Ttll3",
            "Ttll7",
            "Impdh1",
            "Celf4",
            "Syt1",
            "Dnm1",
            "Hdac9",
            "Rap1gds1"
           ]
          ],
          [
           [
            "Kif9",
            "Iqcg",
            "Ttll3",
            "Cfap58",
            "Saxo2"
           ]
          ],
          [
           [
            "Ccdc113",
            "Bbs7",
            "Efhc2",
            "Ttll7",
            "Saxo2",
            "Cfap206"
           ]
          ],
          [
           [
            "Adam22",
            "Scn8a",
            "Kcna2"
           ]
          ],
          [
           [
            "Kif9",
            "Efhc2",
            "Ttll7",
            "Ttll3",
            "Dnm1",
            "Spef1",
            "Mt3"
           ]
          ]
         ],
         "hovertemplate": "n_genes=%{x}<br>term=%{y}<br>study_genes=%{customdata[0]}<extra></extra>",
         "legendgroup": "",
         "marker": {
          "color": "#636efa",
          "pattern": {
           "shape": ""
          }
         },
         "name": "",
         "offsetgroup": "",
         "orientation": "h",
         "showlegend": false,
         "textposition": "auto",
         "type": "bar",
         "x": [
          5,
          6,
          4,
          7,
          24,
          14,
          8,
          9,
          20,
          45,
          5,
          6,
          3,
          7
         ],
         "xaxis": "x",
         "y": [
          "cilium movement",
          "flagellated sperm motility",
          "sperm axoneme assembly",
          "cell projection organization",
          "cell projection",
          "cilium",
          "axoneme",
          "motile cilium",
          "cytoskeleton",
          "cytoplasm",
          "sperm flagellum",
          "ciliary basal body",
          "axon initial segment",
          "microtubule"
         ],
         "yaxis": "y"
        }
       ],
       "layout": {
        "barmode": "relative",
        "legend": {
         "tracegroupgap": 0
        },
        "plot_bgcolor": "rgba(0, 0, 0, 0)",
        "template": {
         "data": {
          "bar": [
           {
            "error_x": {
             "color": "#2a3f5f"
            },
            "error_y": {
             "color": "#2a3f5f"
            },
            "marker": {
             "line": {
              "color": "#E5ECF6",
              "width": 0.5
             },
             "pattern": {
              "fillmode": "overlay",
              "size": 10,
              "solidity": 0.2
             }
            },
            "type": "bar"
           }
          ],
          "barpolar": [
           {
            "marker": {
             "line": {
              "color": "#E5ECF6",
              "width": 0.5
             },
             "pattern": {
              "fillmode": "overlay",
              "size": 10,
              "solidity": 0.2
             }
            },
            "type": "barpolar"
           }
          ],
          "carpet": [
           {
            "aaxis": {
             "endlinecolor": "#2a3f5f",
             "gridcolor": "white",
             "linecolor": "white",
             "minorgridcolor": "white",
             "startlinecolor": "#2a3f5f"
            },
            "baxis": {
             "endlinecolor": "#2a3f5f",
             "gridcolor": "white",
             "linecolor": "white",
             "minorgridcolor": "white",
             "startlinecolor": "#2a3f5f"
            },
            "type": "carpet"
           }
          ],
          "choropleth": [
           {
            "colorbar": {
             "outlinewidth": 0,
             "ticks": ""
            },
            "type": "choropleth"
           }
          ],
          "contour": [
           {
            "colorbar": {
             "outlinewidth": 0,
             "ticks": ""
            },
            "colorscale": [
             [
              0,
              "#0d0887"
             ],
             [
              0.1111111111111111,
              "#46039f"
             ],
             [
              0.2222222222222222,
              "#7201a8"
             ],
             [
              0.3333333333333333,
              "#9c179e"
             ],
             [
              0.4444444444444444,
              "#bd3786"
             ],
             [
              0.5555555555555556,
              "#d8576b"
             ],
             [
              0.6666666666666666,
              "#ed7953"
             ],
             [
              0.7777777777777778,
              "#fb9f3a"
             ],
             [
              0.8888888888888888,
              "#fdca26"
             ],
             [
              1,
              "#f0f921"
             ]
            ],
            "type": "contour"
           }
          ],
          "contourcarpet": [
           {
            "colorbar": {
             "outlinewidth": 0,
             "ticks": ""
            },
            "type": "contourcarpet"
           }
          ],
          "heatmap": [
           {
            "colorbar": {
             "outlinewidth": 0,
             "ticks": ""
            },
            "colorscale": [
             [
              0,
              "#0d0887"
             ],
             [
              0.1111111111111111,
              "#46039f"
             ],
             [
              0.2222222222222222,
              "#7201a8"
             ],
             [
              0.3333333333333333,
              "#9c179e"
             ],
             [
              0.4444444444444444,
              "#bd3786"
             ],
             [
              0.5555555555555556,
              "#d8576b"
             ],
             [
              0.6666666666666666,
              "#ed7953"
             ],
             [
              0.7777777777777778,
              "#fb9f3a"
             ],
             [
              0.8888888888888888,
              "#fdca26"
             ],
             [
              1,
              "#f0f921"
             ]
            ],
            "type": "heatmap"
           }
          ],
          "heatmapgl": [
           {
            "colorbar": {
             "outlinewidth": 0,
             "ticks": ""
            },
            "colorscale": [
             [
              0,
              "#0d0887"
             ],
             [
              0.1111111111111111,
              "#46039f"
             ],
             [
              0.2222222222222222,
              "#7201a8"
             ],
             [
              0.3333333333333333,
              "#9c179e"
             ],
             [
              0.4444444444444444,
              "#bd3786"
             ],
             [
              0.5555555555555556,
              "#d8576b"
             ],
             [
              0.6666666666666666,
              "#ed7953"
             ],
             [
              0.7777777777777778,
              "#fb9f3a"
             ],
             [
              0.8888888888888888,
              "#fdca26"
             ],
             [
              1,
              "#f0f921"
             ]
            ],
            "type": "heatmapgl"
           }
          ],
          "histogram": [
           {
            "marker": {
             "pattern": {
              "fillmode": "overlay",
              "size": 10,
              "solidity": 0.2
             }
            },
            "type": "histogram"
           }
          ],
          "histogram2d": [
           {
            "colorbar": {
             "outlinewidth": 0,
             "ticks": ""
            },
            "colorscale": [
             [
              0,
              "#0d0887"
             ],
             [
              0.1111111111111111,
              "#46039f"
             ],
             [
              0.2222222222222222,
              "#7201a8"
             ],
             [
              0.3333333333333333,
              "#9c179e"
             ],
             [
              0.4444444444444444,
              "#bd3786"
             ],
             [
              0.5555555555555556,
              "#d8576b"
             ],
             [
              0.6666666666666666,
              "#ed7953"
             ],
             [
              0.7777777777777778,
              "#fb9f3a"
             ],
             [
              0.8888888888888888,
              "#fdca26"
             ],
             [
              1,
              "#f0f921"
             ]
            ],
            "type": "histogram2d"
           }
          ],
          "histogram2dcontour": [
           {
            "colorbar": {
             "outlinewidth": 0,
             "ticks": ""
            },
            "colorscale": [
             [
              0,
              "#0d0887"
             ],
             [
              0.1111111111111111,
              "#46039f"
             ],
             [
              0.2222222222222222,
              "#7201a8"
             ],
             [
              0.3333333333333333,
              "#9c179e"
             ],
             [
              0.4444444444444444,
              "#bd3786"
             ],
             [
              0.5555555555555556,
              "#d8576b"
             ],
             [
              0.6666666666666666,
              "#ed7953"
             ],
             [
              0.7777777777777778,
              "#fb9f3a"
             ],
             [
              0.8888888888888888,
              "#fdca26"
             ],
             [
              1,
              "#f0f921"
             ]
            ],
            "type": "histogram2dcontour"
           }
          ],
          "mesh3d": [
           {
            "colorbar": {
             "outlinewidth": 0,
             "ticks": ""
            },
            "type": "mesh3d"
           }
          ],
          "parcoords": [
           {
            "line": {
             "colorbar": {
              "outlinewidth": 0,
              "ticks": ""
             }
            },
            "type": "parcoords"
           }
          ],
          "pie": [
           {
            "automargin": true,
            "type": "pie"
           }
          ],
          "scatter": [
           {
            "marker": {
             "colorbar": {
              "outlinewidth": 0,
              "ticks": ""
             }
            },
            "type": "scatter"
           }
          ],
          "scatter3d": [
           {
            "line": {
             "colorbar": {
              "outlinewidth": 0,
              "ticks": ""
             }
            },
            "marker": {
             "colorbar": {
              "outlinewidth": 0,
              "ticks": ""
             }
            },
            "type": "scatter3d"
           }
          ],
          "scattercarpet": [
           {
            "marker": {
             "colorbar": {
              "outlinewidth": 0,
              "ticks": ""
             }
            },
            "type": "scattercarpet"
           }
          ],
          "scattergeo": [
           {
            "marker": {
             "colorbar": {
              "outlinewidth": 0,
              "ticks": ""
             }
            },
            "type": "scattergeo"
           }
          ],
          "scattergl": [
           {
            "marker": {
             "colorbar": {
              "outlinewidth": 0,
              "ticks": ""
             }
            },
            "type": "scattergl"
           }
          ],
          "scattermapbox": [
           {
            "marker": {
             "colorbar": {
              "outlinewidth": 0,
              "ticks": ""
             }
            },
            "type": "scattermapbox"
           }
          ],
          "scatterpolar": [
           {
            "marker": {
             "colorbar": {
              "outlinewidth": 0,
              "ticks": ""
             }
            },
            "type": "scatterpolar"
           }
          ],
          "scatterpolargl": [
           {
            "marker": {
             "colorbar": {
              "outlinewidth": 0,
              "ticks": ""
             }
            },
            "type": "scatterpolargl"
           }
          ],
          "scatterternary": [
           {
            "marker": {
             "colorbar": {
              "outlinewidth": 0,
              "ticks": ""
             }
            },
            "type": "scatterternary"
           }
          ],
          "surface": [
           {
            "colorbar": {
             "outlinewidth": 0,
             "ticks": ""
            },
            "colorscale": [
             [
              0,
              "#0d0887"
             ],
             [
              0.1111111111111111,
              "#46039f"
             ],
             [
              0.2222222222222222,
              "#7201a8"
             ],
             [
              0.3333333333333333,
              "#9c179e"
             ],
             [
              0.4444444444444444,
              "#bd3786"
             ],
             [
              0.5555555555555556,
              "#d8576b"
             ],
             [
              0.6666666666666666,
              "#ed7953"
             ],
             [
              0.7777777777777778,
              "#fb9f3a"
             ],
             [
              0.8888888888888888,
              "#fdca26"
             ],
             [
              1,
              "#f0f921"
             ]
            ],
            "type": "surface"
           }
          ],
          "table": [
           {
            "cells": {
             "fill": {
              "color": "#EBF0F8"
             },
             "line": {
              "color": "white"
             }
            },
            "header": {
             "fill": {
              "color": "#C8D4E3"
             },
             "line": {
              "color": "white"
             }
            },
            "type": "table"
           }
          ]
         },
         "layout": {
          "annotationdefaults": {
           "arrowcolor": "#2a3f5f",
           "arrowhead": 0,
           "arrowwidth": 1
          },
          "autotypenumbers": "strict",
          "coloraxis": {
           "colorbar": {
            "outlinewidth": 0,
            "ticks": ""
           }
          },
          "colorscale": {
           "diverging": [
            [
             0,
             "#8e0152"
            ],
            [
             0.1,
             "#c51b7d"
            ],
            [
             0.2,
             "#de77ae"
            ],
            [
             0.3,
             "#f1b6da"
            ],
            [
             0.4,
             "#fde0ef"
            ],
            [
             0.5,
             "#f7f7f7"
            ],
            [
             0.6,
             "#e6f5d0"
            ],
            [
             0.7,
             "#b8e186"
            ],
            [
             0.8,
             "#7fbc41"
            ],
            [
             0.9,
             "#4d9221"
            ],
            [
             1,
             "#276419"
            ]
           ],
           "sequential": [
            [
             0,
             "#0d0887"
            ],
            [
             0.1111111111111111,
             "#46039f"
            ],
            [
             0.2222222222222222,
             "#7201a8"
            ],
            [
             0.3333333333333333,
             "#9c179e"
            ],
            [
             0.4444444444444444,
             "#bd3786"
            ],
            [
             0.5555555555555556,
             "#d8576b"
            ],
            [
             0.6666666666666666,
             "#ed7953"
            ],
            [
             0.7777777777777778,
             "#fb9f3a"
            ],
            [
             0.8888888888888888,
             "#fdca26"
            ],
            [
             1,
             "#f0f921"
            ]
           ],
           "sequentialminus": [
            [
             0,
             "#0d0887"
            ],
            [
             0.1111111111111111,
             "#46039f"
            ],
            [
             0.2222222222222222,
             "#7201a8"
            ],
            [
             0.3333333333333333,
             "#9c179e"
            ],
            [
             0.4444444444444444,
             "#bd3786"
            ],
            [
             0.5555555555555556,
             "#d8576b"
            ],
            [
             0.6666666666666666,
             "#ed7953"
            ],
            [
             0.7777777777777778,
             "#fb9f3a"
            ],
            [
             0.8888888888888888,
             "#fdca26"
            ],
            [
             1,
             "#f0f921"
            ]
           ]
          },
          "colorway": [
           "#636efa",
           "#EF553B",
           "#00cc96",
           "#ab63fa",
           "#FFA15A",
           "#19d3f3",
           "#FF6692",
           "#B6E880",
           "#FF97FF",
           "#FECB52"
          ],
          "font": {
           "color": "#2a3f5f"
          },
          "geo": {
           "bgcolor": "white",
           "lakecolor": "white",
           "landcolor": "#E5ECF6",
           "showlakes": true,
           "showland": true,
           "subunitcolor": "white"
          },
          "hoverlabel": {
           "align": "left"
          },
          "hovermode": "closest",
          "mapbox": {
           "style": "light"
          },
          "paper_bgcolor": "white",
          "plot_bgcolor": "#E5ECF6",
          "polar": {
           "angularaxis": {
            "gridcolor": "white",
            "linecolor": "white",
            "ticks": ""
           },
           "bgcolor": "#E5ECF6",
           "radialaxis": {
            "gridcolor": "white",
            "linecolor": "white",
            "ticks": ""
           }
          },
          "scene": {
           "xaxis": {
            "backgroundcolor": "#E5ECF6",
            "gridcolor": "white",
            "gridwidth": 2,
            "linecolor": "white",
            "showbackground": true,
            "ticks": "",
            "zerolinecolor": "white"
           },
           "yaxis": {
            "backgroundcolor": "#E5ECF6",
            "gridcolor": "white",
            "gridwidth": 2,
            "linecolor": "white",
            "showbackground": true,
            "ticks": "",
            "zerolinecolor": "white"
           },
           "zaxis": {
            "backgroundcolor": "#E5ECF6",
            "gridcolor": "white",
            "gridwidth": 2,
            "linecolor": "white",
            "showbackground": true,
            "ticks": "",
            "zerolinecolor": "white"
           }
          },
          "shapedefaults": {
           "line": {
            "color": "#2a3f5f"
           }
          },
          "ternary": {
           "aaxis": {
            "gridcolor": "white",
            "linecolor": "white",
            "ticks": ""
           },
           "baxis": {
            "gridcolor": "white",
            "linecolor": "white",
            "ticks": ""
           },
           "bgcolor": "#E5ECF6",
           "caxis": {
            "gridcolor": "white",
            "linecolor": "white",
            "ticks": ""
           }
          },
          "title": {
           "x": 0.05
          },
          "xaxis": {
           "automargin": true,
           "gridcolor": "white",
           "linecolor": "white",
           "ticks": "",
           "title": {
            "standoff": 15
           },
           "zerolinecolor": "white",
           "zerolinewidth": 2
          },
          "yaxis": {
           "automargin": true,
           "gridcolor": "white",
           "linecolor": "white",
           "ticks": "",
           "title": {
            "standoff": 15
           },
           "zerolinecolor": "white",
           "zerolinewidth": 2
          }
         }
        },
        "title": {
         "text": "mse_rank_log1p_normExp_ALL_Olfr_rtp1"
        },
        "xaxis": {
         "anchor": "y",
         "domain": [
          0,
          1
         ],
         "title": {
          "text": "n_genes"
         }
        },
        "yaxis": {
         "anchor": "x",
         "domain": [
          0,
          1
         ],
         "title": {
          "text": "term"
         }
        }
       }
      },
      "text/html": [
       "<div>                            <div id=\"a0a1691a-54ae-4602-844e-0b5f2aa30675\" class=\"plotly-graph-div\" style=\"height:525px; width:100%;\"></div>            <script type=\"text/javascript\">                require([\"plotly\"], function(Plotly) {                    window.PLOTLYENV=window.PLOTLYENV || {};                                    if (document.getElementById(\"a0a1691a-54ae-4602-844e-0b5f2aa30675\")) {                    Plotly.newPlot(                        \"a0a1691a-54ae-4602-844e-0b5f2aa30675\",                        [{\"alignmentgroup\":\"True\",\"customdata\":[[[\"Lrrc6\",\"Zmynd10\",\"Ttll3\",\"Rsph9\",\"Spef1\"]],[[\"Lrrc6\",\"Ttc21a\",\"Cfap44\",\"Ttll3\",\"Cfap58\",\"Eno4\"]],[[\"Cfap206\",\"Iqcg\",\"Cfap58\",\"Cfap44\"]],[[\"Ehd3\",\"Ccdc113\",\"Bbs7\",\"Rsph9\",\"Cfap58\",\"Cfap206\",\"Spef1\"]],[[\"Dmtn\",\"Nsg1\",\"Pde6d\",\"Lrrc6\",\"Cfap44\",\"Efhc2\",\"Drc1\",\"Rsph9\",\"Cfap58\",\"Scn8a\",\"Pacrg\",\"Kif9\",\"Bbs7\",\"Iqcg\",\"Cfap206\",\"Atcay\",\"Clstn2\",\"Nmnat2\",\"Spef1\",\"Ehd3\",\"Adam22\",\"Kcna2\",\"Ttll3\",\"Ttll7\"]],[[\"Ehd3\",\"Kif9\",\"Lrrc6\",\"Bbs7\",\"Cfap44\",\"Drc1\",\"Iqcg\",\"Ttll3\",\"Ttll7\",\"Rsph9\",\"Cfap58\",\"Cfap206\",\"Spef1\",\"Pacrg\"]],[[\"Ccdc113\",\"Bbs7\",\"Drc1\",\"Wdr54\",\"Ttll3\",\"Rsph9\",\"Cfap206\",\"Spef1\"]],[[\"Lrrc6\",\"Kif9\",\"Cfap44\",\"Drc1\",\"Iqcg\",\"Ttll3\",\"Rsph9\",\"Cfap58\",\"Spef1\"]],[[\"Ccdc113\",\"Dmtn\",\"Snap25\",\"Pde6d\",\"Cfap44\",\"Efhc2\",\"Drc1\",\"Zmynd10\",\"Rsph9\",\"Cfap58\",\"Pacrg\",\"Kif9\",\"Bbs7\",\"Iqcg\",\"Cfap206\",\"Saxo2\",\"Spef1\",\"Ttll3\",\"Ttll7\",\"Dnm1\"]],[[\"Ccdc113\",\"Arhgef28\",\"Dmtn\",\"Snap25\",\"Sgip1\",\"Pde4a\",\"Pde6d\",\"Cyp2s1\",\"Dusp3\",\"Lrrc6\",\"Cfap44\",\"Efhc2\",\"Drc1\",\"Pou2f2\",\"Rsph9\",\"Cfap58\",\"Zmynd10\",\"Pak3\",\"Scrn1\",\"Cdkl4\",\"Eef1a2\",\"Pacrg\",\"Kif9\",\"Sult1d1\",\"Bbs7\",\"Agtpbp1\",\"Iqcg\",\"Cfap206\",\"Atcay\",\"Spef1\",\"Nmnat2\",\"Mt3\",\"Tstd1\",\"Ehd3\",\"Nfatc1\",\"Hspa12a\",\"Sgsm3\",\"Ttll3\",\"Ttll7\",\"Impdh1\",\"Celf4\",\"Syt1\",\"Dnm1\",\"Hdac9\",\"Rap1gds1\"]],[[\"Kif9\",\"Iqcg\",\"Ttll3\",\"Cfap58\",\"Saxo2\"]],[[\"Ccdc113\",\"Bbs7\",\"Efhc2\",\"Ttll7\",\"Saxo2\",\"Cfap206\"]],[[\"Adam22\",\"Scn8a\",\"Kcna2\"]],[[\"Kif9\",\"Efhc2\",\"Ttll7\",\"Ttll3\",\"Dnm1\",\"Spef1\",\"Mt3\"]]],\"hovertemplate\":\"n_genes=%{x}<br>term=%{y}<br>study_genes=%{customdata[0]}<extra></extra>\",\"legendgroup\":\"\",\"marker\":{\"color\":\"#636efa\",\"pattern\":{\"shape\":\"\"}},\"name\":\"\",\"offsetgroup\":\"\",\"orientation\":\"h\",\"showlegend\":false,\"textposition\":\"auto\",\"x\":[5,6,4,7,24,14,8,9,20,45,5,6,3,7],\"xaxis\":\"x\",\"y\":[\"cilium movement\",\"flagellated sperm motility\",\"sperm axoneme assembly\",\"cell projection organization\",\"cell projection\",\"cilium\",\"axoneme\",\"motile cilium\",\"cytoskeleton\",\"cytoplasm\",\"sperm flagellum\",\"ciliary basal body\",\"axon initial segment\",\"microtubule\"],\"yaxis\":\"y\",\"type\":\"bar\"}],                        {\"template\":{\"data\":{\"bar\":[{\"error_x\":{\"color\":\"#2a3f5f\"},\"error_y\":{\"color\":\"#2a3f5f\"},\"marker\":{\"line\":{\"color\":\"#E5ECF6\",\"width\":0.5},\"pattern\":{\"fillmode\":\"overlay\",\"size\":10,\"solidity\":0.2}},\"type\":\"bar\"}],\"barpolar\":[{\"marker\":{\"line\":{\"color\":\"#E5ECF6\",\"width\":0.5},\"pattern\":{\"fillmode\":\"overlay\",\"size\":10,\"solidity\":0.2}},\"type\":\"barpolar\"}],\"carpet\":[{\"aaxis\":{\"endlinecolor\":\"#2a3f5f\",\"gridcolor\":\"white\",\"linecolor\":\"white\",\"minorgridcolor\":\"white\",\"startlinecolor\":\"#2a3f5f\"},\"baxis\":{\"endlinecolor\":\"#2a3f5f\",\"gridcolor\":\"white\",\"linecolor\":\"white\",\"minorgridcolor\":\"white\",\"startlinecolor\":\"#2a3f5f\"},\"type\":\"carpet\"}],\"choropleth\":[{\"colorbar\":{\"outlinewidth\":0,\"ticks\":\"\"},\"type\":\"choropleth\"}],\"contour\":[{\"colorbar\":{\"outlinewidth\":0,\"ticks\":\"\"},\"colorscale\":[[0.0,\"#0d0887\"],[0.1111111111111111,\"#46039f\"],[0.2222222222222222,\"#7201a8\"],[0.3333333333333333,\"#9c179e\"],[0.4444444444444444,\"#bd3786\"],[0.5555555555555556,\"#d8576b\"],[0.6666666666666666,\"#ed7953\"],[0.7777777777777778,\"#fb9f3a\"],[0.8888888888888888,\"#fdca26\"],[1.0,\"#f0f921\"]],\"type\":\"contour\"}],\"contourcarpet\":[{\"colorbar\":{\"outlinewidth\":0,\"ticks\":\"\"},\"type\":\"contourcarpet\"}],\"heatmap\":[{\"colorbar\":{\"outlinewidth\":0,\"ticks\":\"\"},\"colorscale\":[[0.0,\"#0d0887\"],[0.1111111111111111,\"#46039f\"],[0.2222222222222222,\"#7201a8\"],[0.3333333333333333,\"#9c179e\"],[0.4444444444444444,\"#bd3786\"],[0.5555555555555556,\"#d8576b\"],[0.6666666666666666,\"#ed7953\"],[0.7777777777777778,\"#fb9f3a\"],[0.8888888888888888,\"#fdca26\"],[1.0,\"#f0f921\"]],\"type\":\"heatmap\"}],\"heatmapgl\":[{\"colorbar\":{\"outlinewidth\":0,\"ticks\":\"\"},\"colorscale\":[[0.0,\"#0d0887\"],[0.1111111111111111,\"#46039f\"],[0.2222222222222222,\"#7201a8\"],[0.3333333333333333,\"#9c179e\"],[0.4444444444444444,\"#bd3786\"],[0.5555555555555556,\"#d8576b\"],[0.6666666666666666,\"#ed7953\"],[0.7777777777777778,\"#fb9f3a\"],[0.8888888888888888,\"#fdca26\"],[1.0,\"#f0f921\"]],\"type\":\"heatmapgl\"}],\"histogram\":[{\"marker\":{\"pattern\":{\"fillmode\":\"overlay\",\"size\":10,\"solidity\":0.2}},\"type\":\"histogram\"}],\"histogram2d\":[{\"colorbar\":{\"outlinewidth\":0,\"ticks\":\"\"},\"colorscale\":[[0.0,\"#0d0887\"],[0.1111111111111111,\"#46039f\"],[0.2222222222222222,\"#7201a8\"],[0.3333333333333333,\"#9c179e\"],[0.4444444444444444,\"#bd3786\"],[0.5555555555555556,\"#d8576b\"],[0.6666666666666666,\"#ed7953\"],[0.7777777777777778,\"#fb9f3a\"],[0.8888888888888888,\"#fdca26\"],[1.0,\"#f0f921\"]],\"type\":\"histogram2d\"}],\"histogram2dcontour\":[{\"colorbar\":{\"outlinewidth\":0,\"ticks\":\"\"},\"colorscale\":[[0.0,\"#0d0887\"],[0.1111111111111111,\"#46039f\"],[0.2222222222222222,\"#7201a8\"],[0.3333333333333333,\"#9c179e\"],[0.4444444444444444,\"#bd3786\"],[0.5555555555555556,\"#d8576b\"],[0.6666666666666666,\"#ed7953\"],[0.7777777777777778,\"#fb9f3a\"],[0.8888888888888888,\"#fdca26\"],[1.0,\"#f0f921\"]],\"type\":\"histogram2dcontour\"}],\"mesh3d\":[{\"colorbar\":{\"outlinewidth\":0,\"ticks\":\"\"},\"type\":\"mesh3d\"}],\"parcoords\":[{\"line\":{\"colorbar\":{\"outlinewidth\":0,\"ticks\":\"\"}},\"type\":\"parcoords\"}],\"pie\":[{\"automargin\":true,\"type\":\"pie\"}],\"scatter\":[{\"marker\":{\"colorbar\":{\"outlinewidth\":0,\"ticks\":\"\"}},\"type\":\"scatter\"}],\"scatter3d\":[{\"line\":{\"colorbar\":{\"outlinewidth\":0,\"ticks\":\"\"}},\"marker\":{\"colorbar\":{\"outlinewidth\":0,\"ticks\":\"\"}},\"type\":\"scatter3d\"}],\"scattercarpet\":[{\"marker\":{\"colorbar\":{\"outlinewidth\":0,\"ticks\":\"\"}},\"type\":\"scattercarpet\"}],\"scattergeo\":[{\"marker\":{\"colorbar\":{\"outlinewidth\":0,\"ticks\":\"\"}},\"type\":\"scattergeo\"}],\"scattergl\":[{\"marker\":{\"colorbar\":{\"outlinewidth\":0,\"ticks\":\"\"}},\"type\":\"scattergl\"}],\"scattermapbox\":[{\"marker\":{\"colorbar\":{\"outlinewidth\":0,\"ticks\":\"\"}},\"type\":\"scattermapbox\"}],\"scatterpolar\":[{\"marker\":{\"colorbar\":{\"outlinewidth\":0,\"ticks\":\"\"}},\"type\":\"scatterpolar\"}],\"scatterpolargl\":[{\"marker\":{\"colorbar\":{\"outlinewidth\":0,\"ticks\":\"\"}},\"type\":\"scatterpolargl\"}],\"scatterternary\":[{\"marker\":{\"colorbar\":{\"outlinewidth\":0,\"ticks\":\"\"}},\"type\":\"scatterternary\"}],\"surface\":[{\"colorbar\":{\"outlinewidth\":0,\"ticks\":\"\"},\"colorscale\":[[0.0,\"#0d0887\"],[0.1111111111111111,\"#46039f\"],[0.2222222222222222,\"#7201a8\"],[0.3333333333333333,\"#9c179e\"],[0.4444444444444444,\"#bd3786\"],[0.5555555555555556,\"#d8576b\"],[0.6666666666666666,\"#ed7953\"],[0.7777777777777778,\"#fb9f3a\"],[0.8888888888888888,\"#fdca26\"],[1.0,\"#f0f921\"]],\"type\":\"surface\"}],\"table\":[{\"cells\":{\"fill\":{\"color\":\"#EBF0F8\"},\"line\":{\"color\":\"white\"}},\"header\":{\"fill\":{\"color\":\"#C8D4E3\"},\"line\":{\"color\":\"white\"}},\"type\":\"table\"}]},\"layout\":{\"annotationdefaults\":{\"arrowcolor\":\"#2a3f5f\",\"arrowhead\":0,\"arrowwidth\":1},\"autotypenumbers\":\"strict\",\"coloraxis\":{\"colorbar\":{\"outlinewidth\":0,\"ticks\":\"\"}},\"colorscale\":{\"diverging\":[[0,\"#8e0152\"],[0.1,\"#c51b7d\"],[0.2,\"#de77ae\"],[0.3,\"#f1b6da\"],[0.4,\"#fde0ef\"],[0.5,\"#f7f7f7\"],[0.6,\"#e6f5d0\"],[0.7,\"#b8e186\"],[0.8,\"#7fbc41\"],[0.9,\"#4d9221\"],[1,\"#276419\"]],\"sequential\":[[0.0,\"#0d0887\"],[0.1111111111111111,\"#46039f\"],[0.2222222222222222,\"#7201a8\"],[0.3333333333333333,\"#9c179e\"],[0.4444444444444444,\"#bd3786\"],[0.5555555555555556,\"#d8576b\"],[0.6666666666666666,\"#ed7953\"],[0.7777777777777778,\"#fb9f3a\"],[0.8888888888888888,\"#fdca26\"],[1.0,\"#f0f921\"]],\"sequentialminus\":[[0.0,\"#0d0887\"],[0.1111111111111111,\"#46039f\"],[0.2222222222222222,\"#7201a8\"],[0.3333333333333333,\"#9c179e\"],[0.4444444444444444,\"#bd3786\"],[0.5555555555555556,\"#d8576b\"],[0.6666666666666666,\"#ed7953\"],[0.7777777777777778,\"#fb9f3a\"],[0.8888888888888888,\"#fdca26\"],[1.0,\"#f0f921\"]]},\"colorway\":[\"#636efa\",\"#EF553B\",\"#00cc96\",\"#ab63fa\",\"#FFA15A\",\"#19d3f3\",\"#FF6692\",\"#B6E880\",\"#FF97FF\",\"#FECB52\"],\"font\":{\"color\":\"#2a3f5f\"},\"geo\":{\"bgcolor\":\"white\",\"lakecolor\":\"white\",\"landcolor\":\"#E5ECF6\",\"showlakes\":true,\"showland\":true,\"subunitcolor\":\"white\"},\"hoverlabel\":{\"align\":\"left\"},\"hovermode\":\"closest\",\"mapbox\":{\"style\":\"light\"},\"paper_bgcolor\":\"white\",\"plot_bgcolor\":\"#E5ECF6\",\"polar\":{\"angularaxis\":{\"gridcolor\":\"white\",\"linecolor\":\"white\",\"ticks\":\"\"},\"bgcolor\":\"#E5ECF6\",\"radialaxis\":{\"gridcolor\":\"white\",\"linecolor\":\"white\",\"ticks\":\"\"}},\"scene\":{\"xaxis\":{\"backgroundcolor\":\"#E5ECF6\",\"gridcolor\":\"white\",\"gridwidth\":2,\"linecolor\":\"white\",\"showbackground\":true,\"ticks\":\"\",\"zerolinecolor\":\"white\"},\"yaxis\":{\"backgroundcolor\":\"#E5ECF6\",\"gridcolor\":\"white\",\"gridwidth\":2,\"linecolor\":\"white\",\"showbackground\":true,\"ticks\":\"\",\"zerolinecolor\":\"white\"},\"zaxis\":{\"backgroundcolor\":\"#E5ECF6\",\"gridcolor\":\"white\",\"gridwidth\":2,\"linecolor\":\"white\",\"showbackground\":true,\"ticks\":\"\",\"zerolinecolor\":\"white\"}},\"shapedefaults\":{\"line\":{\"color\":\"#2a3f5f\"}},\"ternary\":{\"aaxis\":{\"gridcolor\":\"white\",\"linecolor\":\"white\",\"ticks\":\"\"},\"baxis\":{\"gridcolor\":\"white\",\"linecolor\":\"white\",\"ticks\":\"\"},\"bgcolor\":\"#E5ECF6\",\"caxis\":{\"gridcolor\":\"white\",\"linecolor\":\"white\",\"ticks\":\"\"}},\"title\":{\"x\":0.05},\"xaxis\":{\"automargin\":true,\"gridcolor\":\"white\",\"linecolor\":\"white\",\"ticks\":\"\",\"title\":{\"standoff\":15},\"zerolinecolor\":\"white\",\"zerolinewidth\":2},\"yaxis\":{\"automargin\":true,\"gridcolor\":\"white\",\"linecolor\":\"white\",\"ticks\":\"\",\"title\":{\"standoff\":15},\"zerolinecolor\":\"white\",\"zerolinewidth\":2}}},\"xaxis\":{\"anchor\":\"y\",\"domain\":[0.0,1.0],\"title\":{\"text\":\"n_genes\"}},\"yaxis\":{\"anchor\":\"x\",\"domain\":[0.0,1.0],\"title\":{\"text\":\"term\"}},\"legend\":{\"tracegroupgap\":0},\"title\":{\"text\":\"mse_rank_log1p_normExp_ALL_Olfr_rtp1\"},\"barmode\":\"relative\",\"plot_bgcolor\":\"rgba(0, 0, 0, 0)\"},                        {\"responsive\": true}                    ).then(function(){\n",
       "                            \n",
       "var gd = document.getElementById('a0a1691a-54ae-4602-844e-0b5f2aa30675');\n",
       "var x = new MutationObserver(function (mutations, observer) {{\n",
       "        var display = window.getComputedStyle(gd).display;\n",
       "        if (!display || display === 'none') {{\n",
       "            console.log([gd, 'removed!']);\n",
       "            Plotly.purge(gd);\n",
       "            observer.disconnect();\n",
       "        }}\n",
       "}});\n",
       "\n",
       "// Listen for the removal of the full notebook cells\n",
       "var notebookContainer = gd.closest('#notebook-container');\n",
       "if (notebookContainer) {{\n",
       "    x.observe(notebookContainer, {childList: true});\n",
       "}}\n",
       "\n",
       "// Listen for the clearing of the current output cell\n",
       "var outputEl = gd.closest('.output');\n",
       "if (outputEl) {{\n",
       "    x.observe(outputEl, {childList: true});\n",
       "}}\n",
       "\n",
       "                        })                };                });            </script>        </div>"
      ]
     },
     "metadata": {},
     "output_type": "display_data"
    },
    {
     "data": {
      "application/vnd.plotly.v1+json": {
       "config": {
        "plotlyServerURL": "https://plot.ly"
       },
       "data": [
        {
         "alignmentgroup": "True",
         "customdata": [
          [
           [
            "Mybpc1",
            "Myh7",
            "Ttn",
            "Myh8"
           ]
          ],
          [
           [
            "Ttn",
            "Acta1",
            "Myh7"
           ]
          ],
          [
           [
            "Ttn",
            "Myh7"
           ]
          ],
          [
           [
            "Cngb1",
            "Cnga2"
           ]
          ]
         ],
         "hovertemplate": "n_genes=%{x}<br>term=%{y}<br>study_genes=%{customdata[0]}<extra></extra>",
         "legendgroup": "",
         "marker": {
          "color": "#636efa",
          "pattern": {
           "shape": ""
          }
         },
         "name": "",
         "offsetgroup": "",
         "orientation": "h",
         "showlegend": false,
         "textposition": "auto",
         "type": "bar",
         "x": [
          4,
          3,
          2,
          2
         ],
         "xaxis": "x",
         "y": [
          "muscle contraction",
          "sarcomere",
          "muscle myosin complex",
          "intracellular cyclic nucleotide activated cation channel complex"
         ],
         "yaxis": "y"
        }
       ],
       "layout": {
        "barmode": "relative",
        "legend": {
         "tracegroupgap": 0
        },
        "plot_bgcolor": "rgba(0, 0, 0, 0)",
        "template": {
         "data": {
          "bar": [
           {
            "error_x": {
             "color": "#2a3f5f"
            },
            "error_y": {
             "color": "#2a3f5f"
            },
            "marker": {
             "line": {
              "color": "#E5ECF6",
              "width": 0.5
             },
             "pattern": {
              "fillmode": "overlay",
              "size": 10,
              "solidity": 0.2
             }
            },
            "type": "bar"
           }
          ],
          "barpolar": [
           {
            "marker": {
             "line": {
              "color": "#E5ECF6",
              "width": 0.5
             },
             "pattern": {
              "fillmode": "overlay",
              "size": 10,
              "solidity": 0.2
             }
            },
            "type": "barpolar"
           }
          ],
          "carpet": [
           {
            "aaxis": {
             "endlinecolor": "#2a3f5f",
             "gridcolor": "white",
             "linecolor": "white",
             "minorgridcolor": "white",
             "startlinecolor": "#2a3f5f"
            },
            "baxis": {
             "endlinecolor": "#2a3f5f",
             "gridcolor": "white",
             "linecolor": "white",
             "minorgridcolor": "white",
             "startlinecolor": "#2a3f5f"
            },
            "type": "carpet"
           }
          ],
          "choropleth": [
           {
            "colorbar": {
             "outlinewidth": 0,
             "ticks": ""
            },
            "type": "choropleth"
           }
          ],
          "contour": [
           {
            "colorbar": {
             "outlinewidth": 0,
             "ticks": ""
            },
            "colorscale": [
             [
              0,
              "#0d0887"
             ],
             [
              0.1111111111111111,
              "#46039f"
             ],
             [
              0.2222222222222222,
              "#7201a8"
             ],
             [
              0.3333333333333333,
              "#9c179e"
             ],
             [
              0.4444444444444444,
              "#bd3786"
             ],
             [
              0.5555555555555556,
              "#d8576b"
             ],
             [
              0.6666666666666666,
              "#ed7953"
             ],
             [
              0.7777777777777778,
              "#fb9f3a"
             ],
             [
              0.8888888888888888,
              "#fdca26"
             ],
             [
              1,
              "#f0f921"
             ]
            ],
            "type": "contour"
           }
          ],
          "contourcarpet": [
           {
            "colorbar": {
             "outlinewidth": 0,
             "ticks": ""
            },
            "type": "contourcarpet"
           }
          ],
          "heatmap": [
           {
            "colorbar": {
             "outlinewidth": 0,
             "ticks": ""
            },
            "colorscale": [
             [
              0,
              "#0d0887"
             ],
             [
              0.1111111111111111,
              "#46039f"
             ],
             [
              0.2222222222222222,
              "#7201a8"
             ],
             [
              0.3333333333333333,
              "#9c179e"
             ],
             [
              0.4444444444444444,
              "#bd3786"
             ],
             [
              0.5555555555555556,
              "#d8576b"
             ],
             [
              0.6666666666666666,
              "#ed7953"
             ],
             [
              0.7777777777777778,
              "#fb9f3a"
             ],
             [
              0.8888888888888888,
              "#fdca26"
             ],
             [
              1,
              "#f0f921"
             ]
            ],
            "type": "heatmap"
           }
          ],
          "heatmapgl": [
           {
            "colorbar": {
             "outlinewidth": 0,
             "ticks": ""
            },
            "colorscale": [
             [
              0,
              "#0d0887"
             ],
             [
              0.1111111111111111,
              "#46039f"
             ],
             [
              0.2222222222222222,
              "#7201a8"
             ],
             [
              0.3333333333333333,
              "#9c179e"
             ],
             [
              0.4444444444444444,
              "#bd3786"
             ],
             [
              0.5555555555555556,
              "#d8576b"
             ],
             [
              0.6666666666666666,
              "#ed7953"
             ],
             [
              0.7777777777777778,
              "#fb9f3a"
             ],
             [
              0.8888888888888888,
              "#fdca26"
             ],
             [
              1,
              "#f0f921"
             ]
            ],
            "type": "heatmapgl"
           }
          ],
          "histogram": [
           {
            "marker": {
             "pattern": {
              "fillmode": "overlay",
              "size": 10,
              "solidity": 0.2
             }
            },
            "type": "histogram"
           }
          ],
          "histogram2d": [
           {
            "colorbar": {
             "outlinewidth": 0,
             "ticks": ""
            },
            "colorscale": [
             [
              0,
              "#0d0887"
             ],
             [
              0.1111111111111111,
              "#46039f"
             ],
             [
              0.2222222222222222,
              "#7201a8"
             ],
             [
              0.3333333333333333,
              "#9c179e"
             ],
             [
              0.4444444444444444,
              "#bd3786"
             ],
             [
              0.5555555555555556,
              "#d8576b"
             ],
             [
              0.6666666666666666,
              "#ed7953"
             ],
             [
              0.7777777777777778,
              "#fb9f3a"
             ],
             [
              0.8888888888888888,
              "#fdca26"
             ],
             [
              1,
              "#f0f921"
             ]
            ],
            "type": "histogram2d"
           }
          ],
          "histogram2dcontour": [
           {
            "colorbar": {
             "outlinewidth": 0,
             "ticks": ""
            },
            "colorscale": [
             [
              0,
              "#0d0887"
             ],
             [
              0.1111111111111111,
              "#46039f"
             ],
             [
              0.2222222222222222,
              "#7201a8"
             ],
             [
              0.3333333333333333,
              "#9c179e"
             ],
             [
              0.4444444444444444,
              "#bd3786"
             ],
             [
              0.5555555555555556,
              "#d8576b"
             ],
             [
              0.6666666666666666,
              "#ed7953"
             ],
             [
              0.7777777777777778,
              "#fb9f3a"
             ],
             [
              0.8888888888888888,
              "#fdca26"
             ],
             [
              1,
              "#f0f921"
             ]
            ],
            "type": "histogram2dcontour"
           }
          ],
          "mesh3d": [
           {
            "colorbar": {
             "outlinewidth": 0,
             "ticks": ""
            },
            "type": "mesh3d"
           }
          ],
          "parcoords": [
           {
            "line": {
             "colorbar": {
              "outlinewidth": 0,
              "ticks": ""
             }
            },
            "type": "parcoords"
           }
          ],
          "pie": [
           {
            "automargin": true,
            "type": "pie"
           }
          ],
          "scatter": [
           {
            "marker": {
             "colorbar": {
              "outlinewidth": 0,
              "ticks": ""
             }
            },
            "type": "scatter"
           }
          ],
          "scatter3d": [
           {
            "line": {
             "colorbar": {
              "outlinewidth": 0,
              "ticks": ""
             }
            },
            "marker": {
             "colorbar": {
              "outlinewidth": 0,
              "ticks": ""
             }
            },
            "type": "scatter3d"
           }
          ],
          "scattercarpet": [
           {
            "marker": {
             "colorbar": {
              "outlinewidth": 0,
              "ticks": ""
             }
            },
            "type": "scattercarpet"
           }
          ],
          "scattergeo": [
           {
            "marker": {
             "colorbar": {
              "outlinewidth": 0,
              "ticks": ""
             }
            },
            "type": "scattergeo"
           }
          ],
          "scattergl": [
           {
            "marker": {
             "colorbar": {
              "outlinewidth": 0,
              "ticks": ""
             }
            },
            "type": "scattergl"
           }
          ],
          "scattermapbox": [
           {
            "marker": {
             "colorbar": {
              "outlinewidth": 0,
              "ticks": ""
             }
            },
            "type": "scattermapbox"
           }
          ],
          "scatterpolar": [
           {
            "marker": {
             "colorbar": {
              "outlinewidth": 0,
              "ticks": ""
             }
            },
            "type": "scatterpolar"
           }
          ],
          "scatterpolargl": [
           {
            "marker": {
             "colorbar": {
              "outlinewidth": 0,
              "ticks": ""
             }
            },
            "type": "scatterpolargl"
           }
          ],
          "scatterternary": [
           {
            "marker": {
             "colorbar": {
              "outlinewidth": 0,
              "ticks": ""
             }
            },
            "type": "scatterternary"
           }
          ],
          "surface": [
           {
            "colorbar": {
             "outlinewidth": 0,
             "ticks": ""
            },
            "colorscale": [
             [
              0,
              "#0d0887"
             ],
             [
              0.1111111111111111,
              "#46039f"
             ],
             [
              0.2222222222222222,
              "#7201a8"
             ],
             [
              0.3333333333333333,
              "#9c179e"
             ],
             [
              0.4444444444444444,
              "#bd3786"
             ],
             [
              0.5555555555555556,
              "#d8576b"
             ],
             [
              0.6666666666666666,
              "#ed7953"
             ],
             [
              0.7777777777777778,
              "#fb9f3a"
             ],
             [
              0.8888888888888888,
              "#fdca26"
             ],
             [
              1,
              "#f0f921"
             ]
            ],
            "type": "surface"
           }
          ],
          "table": [
           {
            "cells": {
             "fill": {
              "color": "#EBF0F8"
             },
             "line": {
              "color": "white"
             }
            },
            "header": {
             "fill": {
              "color": "#C8D4E3"
             },
             "line": {
              "color": "white"
             }
            },
            "type": "table"
           }
          ]
         },
         "layout": {
          "annotationdefaults": {
           "arrowcolor": "#2a3f5f",
           "arrowhead": 0,
           "arrowwidth": 1
          },
          "autotypenumbers": "strict",
          "coloraxis": {
           "colorbar": {
            "outlinewidth": 0,
            "ticks": ""
           }
          },
          "colorscale": {
           "diverging": [
            [
             0,
             "#8e0152"
            ],
            [
             0.1,
             "#c51b7d"
            ],
            [
             0.2,
             "#de77ae"
            ],
            [
             0.3,
             "#f1b6da"
            ],
            [
             0.4,
             "#fde0ef"
            ],
            [
             0.5,
             "#f7f7f7"
            ],
            [
             0.6,
             "#e6f5d0"
            ],
            [
             0.7,
             "#b8e186"
            ],
            [
             0.8,
             "#7fbc41"
            ],
            [
             0.9,
             "#4d9221"
            ],
            [
             1,
             "#276419"
            ]
           ],
           "sequential": [
            [
             0,
             "#0d0887"
            ],
            [
             0.1111111111111111,
             "#46039f"
            ],
            [
             0.2222222222222222,
             "#7201a8"
            ],
            [
             0.3333333333333333,
             "#9c179e"
            ],
            [
             0.4444444444444444,
             "#bd3786"
            ],
            [
             0.5555555555555556,
             "#d8576b"
            ],
            [
             0.6666666666666666,
             "#ed7953"
            ],
            [
             0.7777777777777778,
             "#fb9f3a"
            ],
            [
             0.8888888888888888,
             "#fdca26"
            ],
            [
             1,
             "#f0f921"
            ]
           ],
           "sequentialminus": [
            [
             0,
             "#0d0887"
            ],
            [
             0.1111111111111111,
             "#46039f"
            ],
            [
             0.2222222222222222,
             "#7201a8"
            ],
            [
             0.3333333333333333,
             "#9c179e"
            ],
            [
             0.4444444444444444,
             "#bd3786"
            ],
            [
             0.5555555555555556,
             "#d8576b"
            ],
            [
             0.6666666666666666,
             "#ed7953"
            ],
            [
             0.7777777777777778,
             "#fb9f3a"
            ],
            [
             0.8888888888888888,
             "#fdca26"
            ],
            [
             1,
             "#f0f921"
            ]
           ]
          },
          "colorway": [
           "#636efa",
           "#EF553B",
           "#00cc96",
           "#ab63fa",
           "#FFA15A",
           "#19d3f3",
           "#FF6692",
           "#B6E880",
           "#FF97FF",
           "#FECB52"
          ],
          "font": {
           "color": "#2a3f5f"
          },
          "geo": {
           "bgcolor": "white",
           "lakecolor": "white",
           "landcolor": "#E5ECF6",
           "showlakes": true,
           "showland": true,
           "subunitcolor": "white"
          },
          "hoverlabel": {
           "align": "left"
          },
          "hovermode": "closest",
          "mapbox": {
           "style": "light"
          },
          "paper_bgcolor": "white",
          "plot_bgcolor": "#E5ECF6",
          "polar": {
           "angularaxis": {
            "gridcolor": "white",
            "linecolor": "white",
            "ticks": ""
           },
           "bgcolor": "#E5ECF6",
           "radialaxis": {
            "gridcolor": "white",
            "linecolor": "white",
            "ticks": ""
           }
          },
          "scene": {
           "xaxis": {
            "backgroundcolor": "#E5ECF6",
            "gridcolor": "white",
            "gridwidth": 2,
            "linecolor": "white",
            "showbackground": true,
            "ticks": "",
            "zerolinecolor": "white"
           },
           "yaxis": {
            "backgroundcolor": "#E5ECF6",
            "gridcolor": "white",
            "gridwidth": 2,
            "linecolor": "white",
            "showbackground": true,
            "ticks": "",
            "zerolinecolor": "white"
           },
           "zaxis": {
            "backgroundcolor": "#E5ECF6",
            "gridcolor": "white",
            "gridwidth": 2,
            "linecolor": "white",
            "showbackground": true,
            "ticks": "",
            "zerolinecolor": "white"
           }
          },
          "shapedefaults": {
           "line": {
            "color": "#2a3f5f"
           }
          },
          "ternary": {
           "aaxis": {
            "gridcolor": "white",
            "linecolor": "white",
            "ticks": ""
           },
           "baxis": {
            "gridcolor": "white",
            "linecolor": "white",
            "ticks": ""
           },
           "bgcolor": "#E5ECF6",
           "caxis": {
            "gridcolor": "white",
            "linecolor": "white",
            "ticks": ""
           }
          },
          "title": {
           "x": 0.05
          },
          "xaxis": {
           "automargin": true,
           "gridcolor": "white",
           "linecolor": "white",
           "ticks": "",
           "title": {
            "standoff": 15
           },
           "zerolinecolor": "white",
           "zerolinewidth": 2
          },
          "yaxis": {
           "automargin": true,
           "gridcolor": "white",
           "linecolor": "white",
           "ticks": "",
           "title": {
            "standoff": 15
           },
           "zerolinecolor": "white",
           "zerolinewidth": 2
          }
         }
        },
        "title": {
         "text": "human_cov_log2FC_rank"
        },
        "xaxis": {
         "anchor": "y",
         "domain": [
          0,
          1
         ],
         "title": {
          "text": "n_genes"
         }
        },
        "yaxis": {
         "anchor": "x",
         "domain": [
          0,
          1
         ],
         "title": {
          "text": "term"
         }
        }
       }
      },
      "text/html": [
       "<div>                            <div id=\"181c6d9d-a59f-493f-8a1a-ddf41bd68964\" class=\"plotly-graph-div\" style=\"height:525px; width:100%;\"></div>            <script type=\"text/javascript\">                require([\"plotly\"], function(Plotly) {                    window.PLOTLYENV=window.PLOTLYENV || {};                                    if (document.getElementById(\"181c6d9d-a59f-493f-8a1a-ddf41bd68964\")) {                    Plotly.newPlot(                        \"181c6d9d-a59f-493f-8a1a-ddf41bd68964\",                        [{\"alignmentgroup\":\"True\",\"customdata\":[[[\"Mybpc1\",\"Myh7\",\"Ttn\",\"Myh8\"]],[[\"Ttn\",\"Acta1\",\"Myh7\"]],[[\"Ttn\",\"Myh7\"]],[[\"Cngb1\",\"Cnga2\"]]],\"hovertemplate\":\"n_genes=%{x}<br>term=%{y}<br>study_genes=%{customdata[0]}<extra></extra>\",\"legendgroup\":\"\",\"marker\":{\"color\":\"#636efa\",\"pattern\":{\"shape\":\"\"}},\"name\":\"\",\"offsetgroup\":\"\",\"orientation\":\"h\",\"showlegend\":false,\"textposition\":\"auto\",\"x\":[4,3,2,2],\"xaxis\":\"x\",\"y\":[\"muscle contraction\",\"sarcomere\",\"muscle myosin complex\",\"intracellular cyclic nucleotide activated cation channel complex\"],\"yaxis\":\"y\",\"type\":\"bar\"}],                        {\"template\":{\"data\":{\"bar\":[{\"error_x\":{\"color\":\"#2a3f5f\"},\"error_y\":{\"color\":\"#2a3f5f\"},\"marker\":{\"line\":{\"color\":\"#E5ECF6\",\"width\":0.5},\"pattern\":{\"fillmode\":\"overlay\",\"size\":10,\"solidity\":0.2}},\"type\":\"bar\"}],\"barpolar\":[{\"marker\":{\"line\":{\"color\":\"#E5ECF6\",\"width\":0.5},\"pattern\":{\"fillmode\":\"overlay\",\"size\":10,\"solidity\":0.2}},\"type\":\"barpolar\"}],\"carpet\":[{\"aaxis\":{\"endlinecolor\":\"#2a3f5f\",\"gridcolor\":\"white\",\"linecolor\":\"white\",\"minorgridcolor\":\"white\",\"startlinecolor\":\"#2a3f5f\"},\"baxis\":{\"endlinecolor\":\"#2a3f5f\",\"gridcolor\":\"white\",\"linecolor\":\"white\",\"minorgridcolor\":\"white\",\"startlinecolor\":\"#2a3f5f\"},\"type\":\"carpet\"}],\"choropleth\":[{\"colorbar\":{\"outlinewidth\":0,\"ticks\":\"\"},\"type\":\"choropleth\"}],\"contour\":[{\"colorbar\":{\"outlinewidth\":0,\"ticks\":\"\"},\"colorscale\":[[0.0,\"#0d0887\"],[0.1111111111111111,\"#46039f\"],[0.2222222222222222,\"#7201a8\"],[0.3333333333333333,\"#9c179e\"],[0.4444444444444444,\"#bd3786\"],[0.5555555555555556,\"#d8576b\"],[0.6666666666666666,\"#ed7953\"],[0.7777777777777778,\"#fb9f3a\"],[0.8888888888888888,\"#fdca26\"],[1.0,\"#f0f921\"]],\"type\":\"contour\"}],\"contourcarpet\":[{\"colorbar\":{\"outlinewidth\":0,\"ticks\":\"\"},\"type\":\"contourcarpet\"}],\"heatmap\":[{\"colorbar\":{\"outlinewidth\":0,\"ticks\":\"\"},\"colorscale\":[[0.0,\"#0d0887\"],[0.1111111111111111,\"#46039f\"],[0.2222222222222222,\"#7201a8\"],[0.3333333333333333,\"#9c179e\"],[0.4444444444444444,\"#bd3786\"],[0.5555555555555556,\"#d8576b\"],[0.6666666666666666,\"#ed7953\"],[0.7777777777777778,\"#fb9f3a\"],[0.8888888888888888,\"#fdca26\"],[1.0,\"#f0f921\"]],\"type\":\"heatmap\"}],\"heatmapgl\":[{\"colorbar\":{\"outlinewidth\":0,\"ticks\":\"\"},\"colorscale\":[[0.0,\"#0d0887\"],[0.1111111111111111,\"#46039f\"],[0.2222222222222222,\"#7201a8\"],[0.3333333333333333,\"#9c179e\"],[0.4444444444444444,\"#bd3786\"],[0.5555555555555556,\"#d8576b\"],[0.6666666666666666,\"#ed7953\"],[0.7777777777777778,\"#fb9f3a\"],[0.8888888888888888,\"#fdca26\"],[1.0,\"#f0f921\"]],\"type\":\"heatmapgl\"}],\"histogram\":[{\"marker\":{\"pattern\":{\"fillmode\":\"overlay\",\"size\":10,\"solidity\":0.2}},\"type\":\"histogram\"}],\"histogram2d\":[{\"colorbar\":{\"outlinewidth\":0,\"ticks\":\"\"},\"colorscale\":[[0.0,\"#0d0887\"],[0.1111111111111111,\"#46039f\"],[0.2222222222222222,\"#7201a8\"],[0.3333333333333333,\"#9c179e\"],[0.4444444444444444,\"#bd3786\"],[0.5555555555555556,\"#d8576b\"],[0.6666666666666666,\"#ed7953\"],[0.7777777777777778,\"#fb9f3a\"],[0.8888888888888888,\"#fdca26\"],[1.0,\"#f0f921\"]],\"type\":\"histogram2d\"}],\"histogram2dcontour\":[{\"colorbar\":{\"outlinewidth\":0,\"ticks\":\"\"},\"colorscale\":[[0.0,\"#0d0887\"],[0.1111111111111111,\"#46039f\"],[0.2222222222222222,\"#7201a8\"],[0.3333333333333333,\"#9c179e\"],[0.4444444444444444,\"#bd3786\"],[0.5555555555555556,\"#d8576b\"],[0.6666666666666666,\"#ed7953\"],[0.7777777777777778,\"#fb9f3a\"],[0.8888888888888888,\"#fdca26\"],[1.0,\"#f0f921\"]],\"type\":\"histogram2dcontour\"}],\"mesh3d\":[{\"colorbar\":{\"outlinewidth\":0,\"ticks\":\"\"},\"type\":\"mesh3d\"}],\"parcoords\":[{\"line\":{\"colorbar\":{\"outlinewidth\":0,\"ticks\":\"\"}},\"type\":\"parcoords\"}],\"pie\":[{\"automargin\":true,\"type\":\"pie\"}],\"scatter\":[{\"marker\":{\"colorbar\":{\"outlinewidth\":0,\"ticks\":\"\"}},\"type\":\"scatter\"}],\"scatter3d\":[{\"line\":{\"colorbar\":{\"outlinewidth\":0,\"ticks\":\"\"}},\"marker\":{\"colorbar\":{\"outlinewidth\":0,\"ticks\":\"\"}},\"type\":\"scatter3d\"}],\"scattercarpet\":[{\"marker\":{\"colorbar\":{\"outlinewidth\":0,\"ticks\":\"\"}},\"type\":\"scattercarpet\"}],\"scattergeo\":[{\"marker\":{\"colorbar\":{\"outlinewidth\":0,\"ticks\":\"\"}},\"type\":\"scattergeo\"}],\"scattergl\":[{\"marker\":{\"colorbar\":{\"outlinewidth\":0,\"ticks\":\"\"}},\"type\":\"scattergl\"}],\"scattermapbox\":[{\"marker\":{\"colorbar\":{\"outlinewidth\":0,\"ticks\":\"\"}},\"type\":\"scattermapbox\"}],\"scatterpolar\":[{\"marker\":{\"colorbar\":{\"outlinewidth\":0,\"ticks\":\"\"}},\"type\":\"scatterpolar\"}],\"scatterpolargl\":[{\"marker\":{\"colorbar\":{\"outlinewidth\":0,\"ticks\":\"\"}},\"type\":\"scatterpolargl\"}],\"scatterternary\":[{\"marker\":{\"colorbar\":{\"outlinewidth\":0,\"ticks\":\"\"}},\"type\":\"scatterternary\"}],\"surface\":[{\"colorbar\":{\"outlinewidth\":0,\"ticks\":\"\"},\"colorscale\":[[0.0,\"#0d0887\"],[0.1111111111111111,\"#46039f\"],[0.2222222222222222,\"#7201a8\"],[0.3333333333333333,\"#9c179e\"],[0.4444444444444444,\"#bd3786\"],[0.5555555555555556,\"#d8576b\"],[0.6666666666666666,\"#ed7953\"],[0.7777777777777778,\"#fb9f3a\"],[0.8888888888888888,\"#fdca26\"],[1.0,\"#f0f921\"]],\"type\":\"surface\"}],\"table\":[{\"cells\":{\"fill\":{\"color\":\"#EBF0F8\"},\"line\":{\"color\":\"white\"}},\"header\":{\"fill\":{\"color\":\"#C8D4E3\"},\"line\":{\"color\":\"white\"}},\"type\":\"table\"}]},\"layout\":{\"annotationdefaults\":{\"arrowcolor\":\"#2a3f5f\",\"arrowhead\":0,\"arrowwidth\":1},\"autotypenumbers\":\"strict\",\"coloraxis\":{\"colorbar\":{\"outlinewidth\":0,\"ticks\":\"\"}},\"colorscale\":{\"diverging\":[[0,\"#8e0152\"],[0.1,\"#c51b7d\"],[0.2,\"#de77ae\"],[0.3,\"#f1b6da\"],[0.4,\"#fde0ef\"],[0.5,\"#f7f7f7\"],[0.6,\"#e6f5d0\"],[0.7,\"#b8e186\"],[0.8,\"#7fbc41\"],[0.9,\"#4d9221\"],[1,\"#276419\"]],\"sequential\":[[0.0,\"#0d0887\"],[0.1111111111111111,\"#46039f\"],[0.2222222222222222,\"#7201a8\"],[0.3333333333333333,\"#9c179e\"],[0.4444444444444444,\"#bd3786\"],[0.5555555555555556,\"#d8576b\"],[0.6666666666666666,\"#ed7953\"],[0.7777777777777778,\"#fb9f3a\"],[0.8888888888888888,\"#fdca26\"],[1.0,\"#f0f921\"]],\"sequentialminus\":[[0.0,\"#0d0887\"],[0.1111111111111111,\"#46039f\"],[0.2222222222222222,\"#7201a8\"],[0.3333333333333333,\"#9c179e\"],[0.4444444444444444,\"#bd3786\"],[0.5555555555555556,\"#d8576b\"],[0.6666666666666666,\"#ed7953\"],[0.7777777777777778,\"#fb9f3a\"],[0.8888888888888888,\"#fdca26\"],[1.0,\"#f0f921\"]]},\"colorway\":[\"#636efa\",\"#EF553B\",\"#00cc96\",\"#ab63fa\",\"#FFA15A\",\"#19d3f3\",\"#FF6692\",\"#B6E880\",\"#FF97FF\",\"#FECB52\"],\"font\":{\"color\":\"#2a3f5f\"},\"geo\":{\"bgcolor\":\"white\",\"lakecolor\":\"white\",\"landcolor\":\"#E5ECF6\",\"showlakes\":true,\"showland\":true,\"subunitcolor\":\"white\"},\"hoverlabel\":{\"align\":\"left\"},\"hovermode\":\"closest\",\"mapbox\":{\"style\":\"light\"},\"paper_bgcolor\":\"white\",\"plot_bgcolor\":\"#E5ECF6\",\"polar\":{\"angularaxis\":{\"gridcolor\":\"white\",\"linecolor\":\"white\",\"ticks\":\"\"},\"bgcolor\":\"#E5ECF6\",\"radialaxis\":{\"gridcolor\":\"white\",\"linecolor\":\"white\",\"ticks\":\"\"}},\"scene\":{\"xaxis\":{\"backgroundcolor\":\"#E5ECF6\",\"gridcolor\":\"white\",\"gridwidth\":2,\"linecolor\":\"white\",\"showbackground\":true,\"ticks\":\"\",\"zerolinecolor\":\"white\"},\"yaxis\":{\"backgroundcolor\":\"#E5ECF6\",\"gridcolor\":\"white\",\"gridwidth\":2,\"linecolor\":\"white\",\"showbackground\":true,\"ticks\":\"\",\"zerolinecolor\":\"white\"},\"zaxis\":{\"backgroundcolor\":\"#E5ECF6\",\"gridcolor\":\"white\",\"gridwidth\":2,\"linecolor\":\"white\",\"showbackground\":true,\"ticks\":\"\",\"zerolinecolor\":\"white\"}},\"shapedefaults\":{\"line\":{\"color\":\"#2a3f5f\"}},\"ternary\":{\"aaxis\":{\"gridcolor\":\"white\",\"linecolor\":\"white\",\"ticks\":\"\"},\"baxis\":{\"gridcolor\":\"white\",\"linecolor\":\"white\",\"ticks\":\"\"},\"bgcolor\":\"#E5ECF6\",\"caxis\":{\"gridcolor\":\"white\",\"linecolor\":\"white\",\"ticks\":\"\"}},\"title\":{\"x\":0.05},\"xaxis\":{\"automargin\":true,\"gridcolor\":\"white\",\"linecolor\":\"white\",\"ticks\":\"\",\"title\":{\"standoff\":15},\"zerolinecolor\":\"white\",\"zerolinewidth\":2},\"yaxis\":{\"automargin\":true,\"gridcolor\":\"white\",\"linecolor\":\"white\",\"ticks\":\"\",\"title\":{\"standoff\":15},\"zerolinecolor\":\"white\",\"zerolinewidth\":2}}},\"xaxis\":{\"anchor\":\"y\",\"domain\":[0.0,1.0],\"title\":{\"text\":\"n_genes\"}},\"yaxis\":{\"anchor\":\"x\",\"domain\":[0.0,1.0],\"title\":{\"text\":\"term\"}},\"legend\":{\"tracegroupgap\":0},\"title\":{\"text\":\"human_cov_log2FC_rank\"},\"barmode\":\"relative\",\"plot_bgcolor\":\"rgba(0, 0, 0, 0)\"},                        {\"responsive\": true}                    ).then(function(){\n",
       "                            \n",
       "var gd = document.getElementById('181c6d9d-a59f-493f-8a1a-ddf41bd68964');\n",
       "var x = new MutationObserver(function (mutations, observer) {{\n",
       "        var display = window.getComputedStyle(gd).display;\n",
       "        if (!display || display === 'none') {{\n",
       "            console.log([gd, 'removed!']);\n",
       "            Plotly.purge(gd);\n",
       "            observer.disconnect();\n",
       "        }}\n",
       "}});\n",
       "\n",
       "// Listen for the removal of the full notebook cells\n",
       "var notebookContainer = gd.closest('#notebook-container');\n",
       "if (notebookContainer) {{\n",
       "    x.observe(notebookContainer, {childList: true});\n",
       "}}\n",
       "\n",
       "// Listen for the clearing of the current output cell\n",
       "var outputEl = gd.closest('.output');\n",
       "if (outputEl) {{\n",
       "    x.observe(outputEl, {childList: true});\n",
       "}}\n",
       "\n",
       "                        })                };                });            </script>        </div>"
      ]
     },
     "metadata": {},
     "output_type": "display_data"
    },
    {
     "data": {
      "application/vnd.plotly.v1+json": {
       "config": {
        "plotlyServerURL": "https://plot.ly"
       },
       "data": [
        {
         "alignmentgroup": "True",
         "customdata": [
          [
           [
            "Mybpc1",
            "Myh7",
            "Ttn",
            "Myh8"
           ]
          ],
          [
           [
            "Ttn",
            "Acta1",
            "Myh7"
           ]
          ],
          [
           [
            "Ttn",
            "Myh7"
           ]
          ],
          [
           [
            "Cngb1",
            "Cnga2"
           ]
          ]
         ],
         "hovertemplate": "n_genes=%{x}<br>term=%{y}<br>study_genes=%{customdata[0]}<extra></extra>",
         "legendgroup": "",
         "marker": {
          "color": "#636efa",
          "pattern": {
           "shape": ""
          }
         },
         "name": "",
         "offsetgroup": "",
         "orientation": "h",
         "showlegend": false,
         "textposition": "auto",
         "type": "bar",
         "x": [
          4,
          3,
          2,
          2
         ],
         "xaxis": "x",
         "y": [
          "muscle contraction",
          "sarcomere",
          "muscle myosin complex",
          "intracellular cyclic nucleotide activated cation channel complex"
         ],
         "yaxis": "y"
        }
       ],
       "layout": {
        "barmode": "relative",
        "legend": {
         "tracegroupgap": 0
        },
        "plot_bgcolor": "rgba(0, 0, 0, 0)",
        "template": {
         "data": {
          "bar": [
           {
            "error_x": {
             "color": "#2a3f5f"
            },
            "error_y": {
             "color": "#2a3f5f"
            },
            "marker": {
             "line": {
              "color": "#E5ECF6",
              "width": 0.5
             },
             "pattern": {
              "fillmode": "overlay",
              "size": 10,
              "solidity": 0.2
             }
            },
            "type": "bar"
           }
          ],
          "barpolar": [
           {
            "marker": {
             "line": {
              "color": "#E5ECF6",
              "width": 0.5
             },
             "pattern": {
              "fillmode": "overlay",
              "size": 10,
              "solidity": 0.2
             }
            },
            "type": "barpolar"
           }
          ],
          "carpet": [
           {
            "aaxis": {
             "endlinecolor": "#2a3f5f",
             "gridcolor": "white",
             "linecolor": "white",
             "minorgridcolor": "white",
             "startlinecolor": "#2a3f5f"
            },
            "baxis": {
             "endlinecolor": "#2a3f5f",
             "gridcolor": "white",
             "linecolor": "white",
             "minorgridcolor": "white",
             "startlinecolor": "#2a3f5f"
            },
            "type": "carpet"
           }
          ],
          "choropleth": [
           {
            "colorbar": {
             "outlinewidth": 0,
             "ticks": ""
            },
            "type": "choropleth"
           }
          ],
          "contour": [
           {
            "colorbar": {
             "outlinewidth": 0,
             "ticks": ""
            },
            "colorscale": [
             [
              0,
              "#0d0887"
             ],
             [
              0.1111111111111111,
              "#46039f"
             ],
             [
              0.2222222222222222,
              "#7201a8"
             ],
             [
              0.3333333333333333,
              "#9c179e"
             ],
             [
              0.4444444444444444,
              "#bd3786"
             ],
             [
              0.5555555555555556,
              "#d8576b"
             ],
             [
              0.6666666666666666,
              "#ed7953"
             ],
             [
              0.7777777777777778,
              "#fb9f3a"
             ],
             [
              0.8888888888888888,
              "#fdca26"
             ],
             [
              1,
              "#f0f921"
             ]
            ],
            "type": "contour"
           }
          ],
          "contourcarpet": [
           {
            "colorbar": {
             "outlinewidth": 0,
             "ticks": ""
            },
            "type": "contourcarpet"
           }
          ],
          "heatmap": [
           {
            "colorbar": {
             "outlinewidth": 0,
             "ticks": ""
            },
            "colorscale": [
             [
              0,
              "#0d0887"
             ],
             [
              0.1111111111111111,
              "#46039f"
             ],
             [
              0.2222222222222222,
              "#7201a8"
             ],
             [
              0.3333333333333333,
              "#9c179e"
             ],
             [
              0.4444444444444444,
              "#bd3786"
             ],
             [
              0.5555555555555556,
              "#d8576b"
             ],
             [
              0.6666666666666666,
              "#ed7953"
             ],
             [
              0.7777777777777778,
              "#fb9f3a"
             ],
             [
              0.8888888888888888,
              "#fdca26"
             ],
             [
              1,
              "#f0f921"
             ]
            ],
            "type": "heatmap"
           }
          ],
          "heatmapgl": [
           {
            "colorbar": {
             "outlinewidth": 0,
             "ticks": ""
            },
            "colorscale": [
             [
              0,
              "#0d0887"
             ],
             [
              0.1111111111111111,
              "#46039f"
             ],
             [
              0.2222222222222222,
              "#7201a8"
             ],
             [
              0.3333333333333333,
              "#9c179e"
             ],
             [
              0.4444444444444444,
              "#bd3786"
             ],
             [
              0.5555555555555556,
              "#d8576b"
             ],
             [
              0.6666666666666666,
              "#ed7953"
             ],
             [
              0.7777777777777778,
              "#fb9f3a"
             ],
             [
              0.8888888888888888,
              "#fdca26"
             ],
             [
              1,
              "#f0f921"
             ]
            ],
            "type": "heatmapgl"
           }
          ],
          "histogram": [
           {
            "marker": {
             "pattern": {
              "fillmode": "overlay",
              "size": 10,
              "solidity": 0.2
             }
            },
            "type": "histogram"
           }
          ],
          "histogram2d": [
           {
            "colorbar": {
             "outlinewidth": 0,
             "ticks": ""
            },
            "colorscale": [
             [
              0,
              "#0d0887"
             ],
             [
              0.1111111111111111,
              "#46039f"
             ],
             [
              0.2222222222222222,
              "#7201a8"
             ],
             [
              0.3333333333333333,
              "#9c179e"
             ],
             [
              0.4444444444444444,
              "#bd3786"
             ],
             [
              0.5555555555555556,
              "#d8576b"
             ],
             [
              0.6666666666666666,
              "#ed7953"
             ],
             [
              0.7777777777777778,
              "#fb9f3a"
             ],
             [
              0.8888888888888888,
              "#fdca26"
             ],
             [
              1,
              "#f0f921"
             ]
            ],
            "type": "histogram2d"
           }
          ],
          "histogram2dcontour": [
           {
            "colorbar": {
             "outlinewidth": 0,
             "ticks": ""
            },
            "colorscale": [
             [
              0,
              "#0d0887"
             ],
             [
              0.1111111111111111,
              "#46039f"
             ],
             [
              0.2222222222222222,
              "#7201a8"
             ],
             [
              0.3333333333333333,
              "#9c179e"
             ],
             [
              0.4444444444444444,
              "#bd3786"
             ],
             [
              0.5555555555555556,
              "#d8576b"
             ],
             [
              0.6666666666666666,
              "#ed7953"
             ],
             [
              0.7777777777777778,
              "#fb9f3a"
             ],
             [
              0.8888888888888888,
              "#fdca26"
             ],
             [
              1,
              "#f0f921"
             ]
            ],
            "type": "histogram2dcontour"
           }
          ],
          "mesh3d": [
           {
            "colorbar": {
             "outlinewidth": 0,
             "ticks": ""
            },
            "type": "mesh3d"
           }
          ],
          "parcoords": [
           {
            "line": {
             "colorbar": {
              "outlinewidth": 0,
              "ticks": ""
             }
            },
            "type": "parcoords"
           }
          ],
          "pie": [
           {
            "automargin": true,
            "type": "pie"
           }
          ],
          "scatter": [
           {
            "marker": {
             "colorbar": {
              "outlinewidth": 0,
              "ticks": ""
             }
            },
            "type": "scatter"
           }
          ],
          "scatter3d": [
           {
            "line": {
             "colorbar": {
              "outlinewidth": 0,
              "ticks": ""
             }
            },
            "marker": {
             "colorbar": {
              "outlinewidth": 0,
              "ticks": ""
             }
            },
            "type": "scatter3d"
           }
          ],
          "scattercarpet": [
           {
            "marker": {
             "colorbar": {
              "outlinewidth": 0,
              "ticks": ""
             }
            },
            "type": "scattercarpet"
           }
          ],
          "scattergeo": [
           {
            "marker": {
             "colorbar": {
              "outlinewidth": 0,
              "ticks": ""
             }
            },
            "type": "scattergeo"
           }
          ],
          "scattergl": [
           {
            "marker": {
             "colorbar": {
              "outlinewidth": 0,
              "ticks": ""
             }
            },
            "type": "scattergl"
           }
          ],
          "scattermapbox": [
           {
            "marker": {
             "colorbar": {
              "outlinewidth": 0,
              "ticks": ""
             }
            },
            "type": "scattermapbox"
           }
          ],
          "scatterpolar": [
           {
            "marker": {
             "colorbar": {
              "outlinewidth": 0,
              "ticks": ""
             }
            },
            "type": "scatterpolar"
           }
          ],
          "scatterpolargl": [
           {
            "marker": {
             "colorbar": {
              "outlinewidth": 0,
              "ticks": ""
             }
            },
            "type": "scatterpolargl"
           }
          ],
          "scatterternary": [
           {
            "marker": {
             "colorbar": {
              "outlinewidth": 0,
              "ticks": ""
             }
            },
            "type": "scatterternary"
           }
          ],
          "surface": [
           {
            "colorbar": {
             "outlinewidth": 0,
             "ticks": ""
            },
            "colorscale": [
             [
              0,
              "#0d0887"
             ],
             [
              0.1111111111111111,
              "#46039f"
             ],
             [
              0.2222222222222222,
              "#7201a8"
             ],
             [
              0.3333333333333333,
              "#9c179e"
             ],
             [
              0.4444444444444444,
              "#bd3786"
             ],
             [
              0.5555555555555556,
              "#d8576b"
             ],
             [
              0.6666666666666666,
              "#ed7953"
             ],
             [
              0.7777777777777778,
              "#fb9f3a"
             ],
             [
              0.8888888888888888,
              "#fdca26"
             ],
             [
              1,
              "#f0f921"
             ]
            ],
            "type": "surface"
           }
          ],
          "table": [
           {
            "cells": {
             "fill": {
              "color": "#EBF0F8"
             },
             "line": {
              "color": "white"
             }
            },
            "header": {
             "fill": {
              "color": "#C8D4E3"
             },
             "line": {
              "color": "white"
             }
            },
            "type": "table"
           }
          ]
         },
         "layout": {
          "annotationdefaults": {
           "arrowcolor": "#2a3f5f",
           "arrowhead": 0,
           "arrowwidth": 1
          },
          "autotypenumbers": "strict",
          "coloraxis": {
           "colorbar": {
            "outlinewidth": 0,
            "ticks": ""
           }
          },
          "colorscale": {
           "diverging": [
            [
             0,
             "#8e0152"
            ],
            [
             0.1,
             "#c51b7d"
            ],
            [
             0.2,
             "#de77ae"
            ],
            [
             0.3,
             "#f1b6da"
            ],
            [
             0.4,
             "#fde0ef"
            ],
            [
             0.5,
             "#f7f7f7"
            ],
            [
             0.6,
             "#e6f5d0"
            ],
            [
             0.7,
             "#b8e186"
            ],
            [
             0.8,
             "#7fbc41"
            ],
            [
             0.9,
             "#4d9221"
            ],
            [
             1,
             "#276419"
            ]
           ],
           "sequential": [
            [
             0,
             "#0d0887"
            ],
            [
             0.1111111111111111,
             "#46039f"
            ],
            [
             0.2222222222222222,
             "#7201a8"
            ],
            [
             0.3333333333333333,
             "#9c179e"
            ],
            [
             0.4444444444444444,
             "#bd3786"
            ],
            [
             0.5555555555555556,
             "#d8576b"
            ],
            [
             0.6666666666666666,
             "#ed7953"
            ],
            [
             0.7777777777777778,
             "#fb9f3a"
            ],
            [
             0.8888888888888888,
             "#fdca26"
            ],
            [
             1,
             "#f0f921"
            ]
           ],
           "sequentialminus": [
            [
             0,
             "#0d0887"
            ],
            [
             0.1111111111111111,
             "#46039f"
            ],
            [
             0.2222222222222222,
             "#7201a8"
            ],
            [
             0.3333333333333333,
             "#9c179e"
            ],
            [
             0.4444444444444444,
             "#bd3786"
            ],
            [
             0.5555555555555556,
             "#d8576b"
            ],
            [
             0.6666666666666666,
             "#ed7953"
            ],
            [
             0.7777777777777778,
             "#fb9f3a"
            ],
            [
             0.8888888888888888,
             "#fdca26"
            ],
            [
             1,
             "#f0f921"
            ]
           ]
          },
          "colorway": [
           "#636efa",
           "#EF553B",
           "#00cc96",
           "#ab63fa",
           "#FFA15A",
           "#19d3f3",
           "#FF6692",
           "#B6E880",
           "#FF97FF",
           "#FECB52"
          ],
          "font": {
           "color": "#2a3f5f"
          },
          "geo": {
           "bgcolor": "white",
           "lakecolor": "white",
           "landcolor": "#E5ECF6",
           "showlakes": true,
           "showland": true,
           "subunitcolor": "white"
          },
          "hoverlabel": {
           "align": "left"
          },
          "hovermode": "closest",
          "mapbox": {
           "style": "light"
          },
          "paper_bgcolor": "white",
          "plot_bgcolor": "#E5ECF6",
          "polar": {
           "angularaxis": {
            "gridcolor": "white",
            "linecolor": "white",
            "ticks": ""
           },
           "bgcolor": "#E5ECF6",
           "radialaxis": {
            "gridcolor": "white",
            "linecolor": "white",
            "ticks": ""
           }
          },
          "scene": {
           "xaxis": {
            "backgroundcolor": "#E5ECF6",
            "gridcolor": "white",
            "gridwidth": 2,
            "linecolor": "white",
            "showbackground": true,
            "ticks": "",
            "zerolinecolor": "white"
           },
           "yaxis": {
            "backgroundcolor": "#E5ECF6",
            "gridcolor": "white",
            "gridwidth": 2,
            "linecolor": "white",
            "showbackground": true,
            "ticks": "",
            "zerolinecolor": "white"
           },
           "zaxis": {
            "backgroundcolor": "#E5ECF6",
            "gridcolor": "white",
            "gridwidth": 2,
            "linecolor": "white",
            "showbackground": true,
            "ticks": "",
            "zerolinecolor": "white"
           }
          },
          "shapedefaults": {
           "line": {
            "color": "#2a3f5f"
           }
          },
          "ternary": {
           "aaxis": {
            "gridcolor": "white",
            "linecolor": "white",
            "ticks": ""
           },
           "baxis": {
            "gridcolor": "white",
            "linecolor": "white",
            "ticks": ""
           },
           "bgcolor": "#E5ECF6",
           "caxis": {
            "gridcolor": "white",
            "linecolor": "white",
            "ticks": ""
           }
          },
          "title": {
           "x": 0.05
          },
          "xaxis": {
           "automargin": true,
           "gridcolor": "white",
           "linecolor": "white",
           "ticks": "",
           "title": {
            "standoff": 15
           },
           "zerolinecolor": "white",
           "zerolinewidth": 2
          },
          "yaxis": {
           "automargin": true,
           "gridcolor": "white",
           "linecolor": "white",
           "ticks": "",
           "title": {
            "standoff": 15
           },
           "zerolinecolor": "white",
           "zerolinewidth": 2
          }
         }
        },
        "title": {
         "text": "human_cov_padj_rank"
        },
        "xaxis": {
         "anchor": "y",
         "domain": [
          0,
          1
         ],
         "title": {
          "text": "n_genes"
         }
        },
        "yaxis": {
         "anchor": "x",
         "domain": [
          0,
          1
         ],
         "title": {
          "text": "term"
         }
        }
       }
      },
      "text/html": [
       "<div>                            <div id=\"3856acb5-862d-4dcd-a607-5a2c2e838cf2\" class=\"plotly-graph-div\" style=\"height:525px; width:100%;\"></div>            <script type=\"text/javascript\">                require([\"plotly\"], function(Plotly) {                    window.PLOTLYENV=window.PLOTLYENV || {};                                    if (document.getElementById(\"3856acb5-862d-4dcd-a607-5a2c2e838cf2\")) {                    Plotly.newPlot(                        \"3856acb5-862d-4dcd-a607-5a2c2e838cf2\",                        [{\"alignmentgroup\":\"True\",\"customdata\":[[[\"Mybpc1\",\"Myh7\",\"Ttn\",\"Myh8\"]],[[\"Ttn\",\"Acta1\",\"Myh7\"]],[[\"Ttn\",\"Myh7\"]],[[\"Cngb1\",\"Cnga2\"]]],\"hovertemplate\":\"n_genes=%{x}<br>term=%{y}<br>study_genes=%{customdata[0]}<extra></extra>\",\"legendgroup\":\"\",\"marker\":{\"color\":\"#636efa\",\"pattern\":{\"shape\":\"\"}},\"name\":\"\",\"offsetgroup\":\"\",\"orientation\":\"h\",\"showlegend\":false,\"textposition\":\"auto\",\"x\":[4,3,2,2],\"xaxis\":\"x\",\"y\":[\"muscle contraction\",\"sarcomere\",\"muscle myosin complex\",\"intracellular cyclic nucleotide activated cation channel complex\"],\"yaxis\":\"y\",\"type\":\"bar\"}],                        {\"template\":{\"data\":{\"bar\":[{\"error_x\":{\"color\":\"#2a3f5f\"},\"error_y\":{\"color\":\"#2a3f5f\"},\"marker\":{\"line\":{\"color\":\"#E5ECF6\",\"width\":0.5},\"pattern\":{\"fillmode\":\"overlay\",\"size\":10,\"solidity\":0.2}},\"type\":\"bar\"}],\"barpolar\":[{\"marker\":{\"line\":{\"color\":\"#E5ECF6\",\"width\":0.5},\"pattern\":{\"fillmode\":\"overlay\",\"size\":10,\"solidity\":0.2}},\"type\":\"barpolar\"}],\"carpet\":[{\"aaxis\":{\"endlinecolor\":\"#2a3f5f\",\"gridcolor\":\"white\",\"linecolor\":\"white\",\"minorgridcolor\":\"white\",\"startlinecolor\":\"#2a3f5f\"},\"baxis\":{\"endlinecolor\":\"#2a3f5f\",\"gridcolor\":\"white\",\"linecolor\":\"white\",\"minorgridcolor\":\"white\",\"startlinecolor\":\"#2a3f5f\"},\"type\":\"carpet\"}],\"choropleth\":[{\"colorbar\":{\"outlinewidth\":0,\"ticks\":\"\"},\"type\":\"choropleth\"}],\"contour\":[{\"colorbar\":{\"outlinewidth\":0,\"ticks\":\"\"},\"colorscale\":[[0.0,\"#0d0887\"],[0.1111111111111111,\"#46039f\"],[0.2222222222222222,\"#7201a8\"],[0.3333333333333333,\"#9c179e\"],[0.4444444444444444,\"#bd3786\"],[0.5555555555555556,\"#d8576b\"],[0.6666666666666666,\"#ed7953\"],[0.7777777777777778,\"#fb9f3a\"],[0.8888888888888888,\"#fdca26\"],[1.0,\"#f0f921\"]],\"type\":\"contour\"}],\"contourcarpet\":[{\"colorbar\":{\"outlinewidth\":0,\"ticks\":\"\"},\"type\":\"contourcarpet\"}],\"heatmap\":[{\"colorbar\":{\"outlinewidth\":0,\"ticks\":\"\"},\"colorscale\":[[0.0,\"#0d0887\"],[0.1111111111111111,\"#46039f\"],[0.2222222222222222,\"#7201a8\"],[0.3333333333333333,\"#9c179e\"],[0.4444444444444444,\"#bd3786\"],[0.5555555555555556,\"#d8576b\"],[0.6666666666666666,\"#ed7953\"],[0.7777777777777778,\"#fb9f3a\"],[0.8888888888888888,\"#fdca26\"],[1.0,\"#f0f921\"]],\"type\":\"heatmap\"}],\"heatmapgl\":[{\"colorbar\":{\"outlinewidth\":0,\"ticks\":\"\"},\"colorscale\":[[0.0,\"#0d0887\"],[0.1111111111111111,\"#46039f\"],[0.2222222222222222,\"#7201a8\"],[0.3333333333333333,\"#9c179e\"],[0.4444444444444444,\"#bd3786\"],[0.5555555555555556,\"#d8576b\"],[0.6666666666666666,\"#ed7953\"],[0.7777777777777778,\"#fb9f3a\"],[0.8888888888888888,\"#fdca26\"],[1.0,\"#f0f921\"]],\"type\":\"heatmapgl\"}],\"histogram\":[{\"marker\":{\"pattern\":{\"fillmode\":\"overlay\",\"size\":10,\"solidity\":0.2}},\"type\":\"histogram\"}],\"histogram2d\":[{\"colorbar\":{\"outlinewidth\":0,\"ticks\":\"\"},\"colorscale\":[[0.0,\"#0d0887\"],[0.1111111111111111,\"#46039f\"],[0.2222222222222222,\"#7201a8\"],[0.3333333333333333,\"#9c179e\"],[0.4444444444444444,\"#bd3786\"],[0.5555555555555556,\"#d8576b\"],[0.6666666666666666,\"#ed7953\"],[0.7777777777777778,\"#fb9f3a\"],[0.8888888888888888,\"#fdca26\"],[1.0,\"#f0f921\"]],\"type\":\"histogram2d\"}],\"histogram2dcontour\":[{\"colorbar\":{\"outlinewidth\":0,\"ticks\":\"\"},\"colorscale\":[[0.0,\"#0d0887\"],[0.1111111111111111,\"#46039f\"],[0.2222222222222222,\"#7201a8\"],[0.3333333333333333,\"#9c179e\"],[0.4444444444444444,\"#bd3786\"],[0.5555555555555556,\"#d8576b\"],[0.6666666666666666,\"#ed7953\"],[0.7777777777777778,\"#fb9f3a\"],[0.8888888888888888,\"#fdca26\"],[1.0,\"#f0f921\"]],\"type\":\"histogram2dcontour\"}],\"mesh3d\":[{\"colorbar\":{\"outlinewidth\":0,\"ticks\":\"\"},\"type\":\"mesh3d\"}],\"parcoords\":[{\"line\":{\"colorbar\":{\"outlinewidth\":0,\"ticks\":\"\"}},\"type\":\"parcoords\"}],\"pie\":[{\"automargin\":true,\"type\":\"pie\"}],\"scatter\":[{\"marker\":{\"colorbar\":{\"outlinewidth\":0,\"ticks\":\"\"}},\"type\":\"scatter\"}],\"scatter3d\":[{\"line\":{\"colorbar\":{\"outlinewidth\":0,\"ticks\":\"\"}},\"marker\":{\"colorbar\":{\"outlinewidth\":0,\"ticks\":\"\"}},\"type\":\"scatter3d\"}],\"scattercarpet\":[{\"marker\":{\"colorbar\":{\"outlinewidth\":0,\"ticks\":\"\"}},\"type\":\"scattercarpet\"}],\"scattergeo\":[{\"marker\":{\"colorbar\":{\"outlinewidth\":0,\"ticks\":\"\"}},\"type\":\"scattergeo\"}],\"scattergl\":[{\"marker\":{\"colorbar\":{\"outlinewidth\":0,\"ticks\":\"\"}},\"type\":\"scattergl\"}],\"scattermapbox\":[{\"marker\":{\"colorbar\":{\"outlinewidth\":0,\"ticks\":\"\"}},\"type\":\"scattermapbox\"}],\"scatterpolar\":[{\"marker\":{\"colorbar\":{\"outlinewidth\":0,\"ticks\":\"\"}},\"type\":\"scatterpolar\"}],\"scatterpolargl\":[{\"marker\":{\"colorbar\":{\"outlinewidth\":0,\"ticks\":\"\"}},\"type\":\"scatterpolargl\"}],\"scatterternary\":[{\"marker\":{\"colorbar\":{\"outlinewidth\":0,\"ticks\":\"\"}},\"type\":\"scatterternary\"}],\"surface\":[{\"colorbar\":{\"outlinewidth\":0,\"ticks\":\"\"},\"colorscale\":[[0.0,\"#0d0887\"],[0.1111111111111111,\"#46039f\"],[0.2222222222222222,\"#7201a8\"],[0.3333333333333333,\"#9c179e\"],[0.4444444444444444,\"#bd3786\"],[0.5555555555555556,\"#d8576b\"],[0.6666666666666666,\"#ed7953\"],[0.7777777777777778,\"#fb9f3a\"],[0.8888888888888888,\"#fdca26\"],[1.0,\"#f0f921\"]],\"type\":\"surface\"}],\"table\":[{\"cells\":{\"fill\":{\"color\":\"#EBF0F8\"},\"line\":{\"color\":\"white\"}},\"header\":{\"fill\":{\"color\":\"#C8D4E3\"},\"line\":{\"color\":\"white\"}},\"type\":\"table\"}]},\"layout\":{\"annotationdefaults\":{\"arrowcolor\":\"#2a3f5f\",\"arrowhead\":0,\"arrowwidth\":1},\"autotypenumbers\":\"strict\",\"coloraxis\":{\"colorbar\":{\"outlinewidth\":0,\"ticks\":\"\"}},\"colorscale\":{\"diverging\":[[0,\"#8e0152\"],[0.1,\"#c51b7d\"],[0.2,\"#de77ae\"],[0.3,\"#f1b6da\"],[0.4,\"#fde0ef\"],[0.5,\"#f7f7f7\"],[0.6,\"#e6f5d0\"],[0.7,\"#b8e186\"],[0.8,\"#7fbc41\"],[0.9,\"#4d9221\"],[1,\"#276419\"]],\"sequential\":[[0.0,\"#0d0887\"],[0.1111111111111111,\"#46039f\"],[0.2222222222222222,\"#7201a8\"],[0.3333333333333333,\"#9c179e\"],[0.4444444444444444,\"#bd3786\"],[0.5555555555555556,\"#d8576b\"],[0.6666666666666666,\"#ed7953\"],[0.7777777777777778,\"#fb9f3a\"],[0.8888888888888888,\"#fdca26\"],[1.0,\"#f0f921\"]],\"sequentialminus\":[[0.0,\"#0d0887\"],[0.1111111111111111,\"#46039f\"],[0.2222222222222222,\"#7201a8\"],[0.3333333333333333,\"#9c179e\"],[0.4444444444444444,\"#bd3786\"],[0.5555555555555556,\"#d8576b\"],[0.6666666666666666,\"#ed7953\"],[0.7777777777777778,\"#fb9f3a\"],[0.8888888888888888,\"#fdca26\"],[1.0,\"#f0f921\"]]},\"colorway\":[\"#636efa\",\"#EF553B\",\"#00cc96\",\"#ab63fa\",\"#FFA15A\",\"#19d3f3\",\"#FF6692\",\"#B6E880\",\"#FF97FF\",\"#FECB52\"],\"font\":{\"color\":\"#2a3f5f\"},\"geo\":{\"bgcolor\":\"white\",\"lakecolor\":\"white\",\"landcolor\":\"#E5ECF6\",\"showlakes\":true,\"showland\":true,\"subunitcolor\":\"white\"},\"hoverlabel\":{\"align\":\"left\"},\"hovermode\":\"closest\",\"mapbox\":{\"style\":\"light\"},\"paper_bgcolor\":\"white\",\"plot_bgcolor\":\"#E5ECF6\",\"polar\":{\"angularaxis\":{\"gridcolor\":\"white\",\"linecolor\":\"white\",\"ticks\":\"\"},\"bgcolor\":\"#E5ECF6\",\"radialaxis\":{\"gridcolor\":\"white\",\"linecolor\":\"white\",\"ticks\":\"\"}},\"scene\":{\"xaxis\":{\"backgroundcolor\":\"#E5ECF6\",\"gridcolor\":\"white\",\"gridwidth\":2,\"linecolor\":\"white\",\"showbackground\":true,\"ticks\":\"\",\"zerolinecolor\":\"white\"},\"yaxis\":{\"backgroundcolor\":\"#E5ECF6\",\"gridcolor\":\"white\",\"gridwidth\":2,\"linecolor\":\"white\",\"showbackground\":true,\"ticks\":\"\",\"zerolinecolor\":\"white\"},\"zaxis\":{\"backgroundcolor\":\"#E5ECF6\",\"gridcolor\":\"white\",\"gridwidth\":2,\"linecolor\":\"white\",\"showbackground\":true,\"ticks\":\"\",\"zerolinecolor\":\"white\"}},\"shapedefaults\":{\"line\":{\"color\":\"#2a3f5f\"}},\"ternary\":{\"aaxis\":{\"gridcolor\":\"white\",\"linecolor\":\"white\",\"ticks\":\"\"},\"baxis\":{\"gridcolor\":\"white\",\"linecolor\":\"white\",\"ticks\":\"\"},\"bgcolor\":\"#E5ECF6\",\"caxis\":{\"gridcolor\":\"white\",\"linecolor\":\"white\",\"ticks\":\"\"}},\"title\":{\"x\":0.05},\"xaxis\":{\"automargin\":true,\"gridcolor\":\"white\",\"linecolor\":\"white\",\"ticks\":\"\",\"title\":{\"standoff\":15},\"zerolinecolor\":\"white\",\"zerolinewidth\":2},\"yaxis\":{\"automargin\":true,\"gridcolor\":\"white\",\"linecolor\":\"white\",\"ticks\":\"\",\"title\":{\"standoff\":15},\"zerolinecolor\":\"white\",\"zerolinewidth\":2}}},\"xaxis\":{\"anchor\":\"y\",\"domain\":[0.0,1.0],\"title\":{\"text\":\"n_genes\"}},\"yaxis\":{\"anchor\":\"x\",\"domain\":[0.0,1.0],\"title\":{\"text\":\"term\"}},\"legend\":{\"tracegroupgap\":0},\"title\":{\"text\":\"human_cov_padj_rank\"},\"barmode\":\"relative\",\"plot_bgcolor\":\"rgba(0, 0, 0, 0)\"},                        {\"responsive\": true}                    ).then(function(){\n",
       "                            \n",
       "var gd = document.getElementById('3856acb5-862d-4dcd-a607-5a2c2e838cf2');\n",
       "var x = new MutationObserver(function (mutations, observer) {{\n",
       "        var display = window.getComputedStyle(gd).display;\n",
       "        if (!display || display === 'none') {{\n",
       "            console.log([gd, 'removed!']);\n",
       "            Plotly.purge(gd);\n",
       "            observer.disconnect();\n",
       "        }}\n",
       "}});\n",
       "\n",
       "// Listen for the removal of the full notebook cells\n",
       "var notebookContainer = gd.closest('#notebook-container');\n",
       "if (notebookContainer) {{\n",
       "    x.observe(notebookContainer, {childList: true});\n",
       "}}\n",
       "\n",
       "// Listen for the clearing of the current output cell\n",
       "var outputEl = gd.closest('.output');\n",
       "if (outputEl) {{\n",
       "    x.observe(outputEl, {childList: true});\n",
       "}}\n",
       "\n",
       "                        })                };                });            </script>        </div>"
      ]
     },
     "metadata": {},
     "output_type": "display_data"
    },
    {
     "data": {
      "application/vnd.plotly.v1+json": {
       "config": {
        "plotlyServerURL": "https://plot.ly"
       },
       "data": [
        {
         "alignmentgroup": "True",
         "customdata": [
          [
           [
            "Vmn1r41",
            "Vmn1r27",
            "Vmn1r200",
            "Vmn1r37",
            "Trpc2",
            "Vmn1r36",
            "Vmn1r199",
            "Vmn1r32",
            "Vmn1r198",
            "Vmn1r24",
            "Vmn1r51",
            "Vmn1r228",
            "Vmn1r30",
            "Vmn1r225"
           ]
          ],
          [
           [
            "Kcnj11",
            "Taar7d",
            "Vmn2r2",
            "H2-M10.2",
            "Vmn1r51",
            "Tenm2",
            "Vmn2r40",
            "Gjb5",
            "Il12rb1",
            "Vmn2r74",
            "Vmn2r20",
            "Vmn1r37",
            "Trpc2",
            "Vmn1r36",
            "Vmn1r32",
            "Vmn1r24",
            "Catsper3",
            "Chrne",
            "Vmn1r30",
            "Atp8b5",
            "H2-M10.6",
            "Vmn1r41",
            "Stac2",
            "Vmn1r27",
            "Cdh22",
            "Traf3ip3",
            "Vmn2r3",
            "Vil1",
            "Actn2",
            "Steap1",
            "Vmn1r228",
            "Stk32a",
            "Vmn1r225",
            "Art2b",
            "Mtnr1a",
            "Vmn1r200",
            "Vmn1r199",
            "Vmn1r198",
            "Esyt3",
            "Upk3a"
           ]
          ],
          [
           [
            "Vmn1r41",
            "Vmn1r27",
            "Vmn1r200",
            "Vmn1r37",
            "Vmn1r36",
            "Vmn1r199",
            "Vmn1r32",
            "Vmn1r198",
            "Vmn1r24",
            "Vmn1r51",
            "Vmn1r228",
            "Vmn1r30",
            "Vmn1r225"
           ]
          ],
          [
           [
            "Vmn1r27",
            "Vmn1r200",
            "Vmn1r37",
            "Vmn1r36",
            "Vmn1r199",
            "Vmn1r32",
            "Vmn1r198",
            "Vmn1r24",
            "Vmn1r228",
            "Vmn1r30",
            "Vmn1r225"
           ]
          ],
          [
           [
            "Calr4",
            "Fbln2",
            "Pla2g4b",
            "Cdh22",
            "Mbl2",
            "Vil1",
            "F12",
            "Actn2",
            "Esyt3",
            "Bglap3"
           ]
          ]
         ],
         "hovertemplate": "n_genes=%{x}<br>term=%{y}<br>study_genes=%{customdata[0]}<extra></extra>",
         "legendgroup": "",
         "marker": {
          "color": "#636efa",
          "pattern": {
           "shape": ""
          }
         },
         "name": "",
         "offsetgroup": "",
         "orientation": "h",
         "showlegend": false,
         "textposition": "auto",
         "type": "bar",
         "x": [
          14,
          40,
          13,
          11,
          10
         ],
         "xaxis": "x",
         "y": [
          "response to pheromone",
          "plasma membrane",
          "pheromone receptor activity",
          "pheromone binding",
          "calcium ion binding"
         ],
         "yaxis": "y"
        }
       ],
       "layout": {
        "barmode": "relative",
        "legend": {
         "tracegroupgap": 0
        },
        "plot_bgcolor": "rgba(0, 0, 0, 0)",
        "template": {
         "data": {
          "bar": [
           {
            "error_x": {
             "color": "#2a3f5f"
            },
            "error_y": {
             "color": "#2a3f5f"
            },
            "marker": {
             "line": {
              "color": "#E5ECF6",
              "width": 0.5
             },
             "pattern": {
              "fillmode": "overlay",
              "size": 10,
              "solidity": 0.2
             }
            },
            "type": "bar"
           }
          ],
          "barpolar": [
           {
            "marker": {
             "line": {
              "color": "#E5ECF6",
              "width": 0.5
             },
             "pattern": {
              "fillmode": "overlay",
              "size": 10,
              "solidity": 0.2
             }
            },
            "type": "barpolar"
           }
          ],
          "carpet": [
           {
            "aaxis": {
             "endlinecolor": "#2a3f5f",
             "gridcolor": "white",
             "linecolor": "white",
             "minorgridcolor": "white",
             "startlinecolor": "#2a3f5f"
            },
            "baxis": {
             "endlinecolor": "#2a3f5f",
             "gridcolor": "white",
             "linecolor": "white",
             "minorgridcolor": "white",
             "startlinecolor": "#2a3f5f"
            },
            "type": "carpet"
           }
          ],
          "choropleth": [
           {
            "colorbar": {
             "outlinewidth": 0,
             "ticks": ""
            },
            "type": "choropleth"
           }
          ],
          "contour": [
           {
            "colorbar": {
             "outlinewidth": 0,
             "ticks": ""
            },
            "colorscale": [
             [
              0,
              "#0d0887"
             ],
             [
              0.1111111111111111,
              "#46039f"
             ],
             [
              0.2222222222222222,
              "#7201a8"
             ],
             [
              0.3333333333333333,
              "#9c179e"
             ],
             [
              0.4444444444444444,
              "#bd3786"
             ],
             [
              0.5555555555555556,
              "#d8576b"
             ],
             [
              0.6666666666666666,
              "#ed7953"
             ],
             [
              0.7777777777777778,
              "#fb9f3a"
             ],
             [
              0.8888888888888888,
              "#fdca26"
             ],
             [
              1,
              "#f0f921"
             ]
            ],
            "type": "contour"
           }
          ],
          "contourcarpet": [
           {
            "colorbar": {
             "outlinewidth": 0,
             "ticks": ""
            },
            "type": "contourcarpet"
           }
          ],
          "heatmap": [
           {
            "colorbar": {
             "outlinewidth": 0,
             "ticks": ""
            },
            "colorscale": [
             [
              0,
              "#0d0887"
             ],
             [
              0.1111111111111111,
              "#46039f"
             ],
             [
              0.2222222222222222,
              "#7201a8"
             ],
             [
              0.3333333333333333,
              "#9c179e"
             ],
             [
              0.4444444444444444,
              "#bd3786"
             ],
             [
              0.5555555555555556,
              "#d8576b"
             ],
             [
              0.6666666666666666,
              "#ed7953"
             ],
             [
              0.7777777777777778,
              "#fb9f3a"
             ],
             [
              0.8888888888888888,
              "#fdca26"
             ],
             [
              1,
              "#f0f921"
             ]
            ],
            "type": "heatmap"
           }
          ],
          "heatmapgl": [
           {
            "colorbar": {
             "outlinewidth": 0,
             "ticks": ""
            },
            "colorscale": [
             [
              0,
              "#0d0887"
             ],
             [
              0.1111111111111111,
              "#46039f"
             ],
             [
              0.2222222222222222,
              "#7201a8"
             ],
             [
              0.3333333333333333,
              "#9c179e"
             ],
             [
              0.4444444444444444,
              "#bd3786"
             ],
             [
              0.5555555555555556,
              "#d8576b"
             ],
             [
              0.6666666666666666,
              "#ed7953"
             ],
             [
              0.7777777777777778,
              "#fb9f3a"
             ],
             [
              0.8888888888888888,
              "#fdca26"
             ],
             [
              1,
              "#f0f921"
             ]
            ],
            "type": "heatmapgl"
           }
          ],
          "histogram": [
           {
            "marker": {
             "pattern": {
              "fillmode": "overlay",
              "size": 10,
              "solidity": 0.2
             }
            },
            "type": "histogram"
           }
          ],
          "histogram2d": [
           {
            "colorbar": {
             "outlinewidth": 0,
             "ticks": ""
            },
            "colorscale": [
             [
              0,
              "#0d0887"
             ],
             [
              0.1111111111111111,
              "#46039f"
             ],
             [
              0.2222222222222222,
              "#7201a8"
             ],
             [
              0.3333333333333333,
              "#9c179e"
             ],
             [
              0.4444444444444444,
              "#bd3786"
             ],
             [
              0.5555555555555556,
              "#d8576b"
             ],
             [
              0.6666666666666666,
              "#ed7953"
             ],
             [
              0.7777777777777778,
              "#fb9f3a"
             ],
             [
              0.8888888888888888,
              "#fdca26"
             ],
             [
              1,
              "#f0f921"
             ]
            ],
            "type": "histogram2d"
           }
          ],
          "histogram2dcontour": [
           {
            "colorbar": {
             "outlinewidth": 0,
             "ticks": ""
            },
            "colorscale": [
             [
              0,
              "#0d0887"
             ],
             [
              0.1111111111111111,
              "#46039f"
             ],
             [
              0.2222222222222222,
              "#7201a8"
             ],
             [
              0.3333333333333333,
              "#9c179e"
             ],
             [
              0.4444444444444444,
              "#bd3786"
             ],
             [
              0.5555555555555556,
              "#d8576b"
             ],
             [
              0.6666666666666666,
              "#ed7953"
             ],
             [
              0.7777777777777778,
              "#fb9f3a"
             ],
             [
              0.8888888888888888,
              "#fdca26"
             ],
             [
              1,
              "#f0f921"
             ]
            ],
            "type": "histogram2dcontour"
           }
          ],
          "mesh3d": [
           {
            "colorbar": {
             "outlinewidth": 0,
             "ticks": ""
            },
            "type": "mesh3d"
           }
          ],
          "parcoords": [
           {
            "line": {
             "colorbar": {
              "outlinewidth": 0,
              "ticks": ""
             }
            },
            "type": "parcoords"
           }
          ],
          "pie": [
           {
            "automargin": true,
            "type": "pie"
           }
          ],
          "scatter": [
           {
            "marker": {
             "colorbar": {
              "outlinewidth": 0,
              "ticks": ""
             }
            },
            "type": "scatter"
           }
          ],
          "scatter3d": [
           {
            "line": {
             "colorbar": {
              "outlinewidth": 0,
              "ticks": ""
             }
            },
            "marker": {
             "colorbar": {
              "outlinewidth": 0,
              "ticks": ""
             }
            },
            "type": "scatter3d"
           }
          ],
          "scattercarpet": [
           {
            "marker": {
             "colorbar": {
              "outlinewidth": 0,
              "ticks": ""
             }
            },
            "type": "scattercarpet"
           }
          ],
          "scattergeo": [
           {
            "marker": {
             "colorbar": {
              "outlinewidth": 0,
              "ticks": ""
             }
            },
            "type": "scattergeo"
           }
          ],
          "scattergl": [
           {
            "marker": {
             "colorbar": {
              "outlinewidth": 0,
              "ticks": ""
             }
            },
            "type": "scattergl"
           }
          ],
          "scattermapbox": [
           {
            "marker": {
             "colorbar": {
              "outlinewidth": 0,
              "ticks": ""
             }
            },
            "type": "scattermapbox"
           }
          ],
          "scatterpolar": [
           {
            "marker": {
             "colorbar": {
              "outlinewidth": 0,
              "ticks": ""
             }
            },
            "type": "scatterpolar"
           }
          ],
          "scatterpolargl": [
           {
            "marker": {
             "colorbar": {
              "outlinewidth": 0,
              "ticks": ""
             }
            },
            "type": "scatterpolargl"
           }
          ],
          "scatterternary": [
           {
            "marker": {
             "colorbar": {
              "outlinewidth": 0,
              "ticks": ""
             }
            },
            "type": "scatterternary"
           }
          ],
          "surface": [
           {
            "colorbar": {
             "outlinewidth": 0,
             "ticks": ""
            },
            "colorscale": [
             [
              0,
              "#0d0887"
             ],
             [
              0.1111111111111111,
              "#46039f"
             ],
             [
              0.2222222222222222,
              "#7201a8"
             ],
             [
              0.3333333333333333,
              "#9c179e"
             ],
             [
              0.4444444444444444,
              "#bd3786"
             ],
             [
              0.5555555555555556,
              "#d8576b"
             ],
             [
              0.6666666666666666,
              "#ed7953"
             ],
             [
              0.7777777777777778,
              "#fb9f3a"
             ],
             [
              0.8888888888888888,
              "#fdca26"
             ],
             [
              1,
              "#f0f921"
             ]
            ],
            "type": "surface"
           }
          ],
          "table": [
           {
            "cells": {
             "fill": {
              "color": "#EBF0F8"
             },
             "line": {
              "color": "white"
             }
            },
            "header": {
             "fill": {
              "color": "#C8D4E3"
             },
             "line": {
              "color": "white"
             }
            },
            "type": "table"
           }
          ]
         },
         "layout": {
          "annotationdefaults": {
           "arrowcolor": "#2a3f5f",
           "arrowhead": 0,
           "arrowwidth": 1
          },
          "autotypenumbers": "strict",
          "coloraxis": {
           "colorbar": {
            "outlinewidth": 0,
            "ticks": ""
           }
          },
          "colorscale": {
           "diverging": [
            [
             0,
             "#8e0152"
            ],
            [
             0.1,
             "#c51b7d"
            ],
            [
             0.2,
             "#de77ae"
            ],
            [
             0.3,
             "#f1b6da"
            ],
            [
             0.4,
             "#fde0ef"
            ],
            [
             0.5,
             "#f7f7f7"
            ],
            [
             0.6,
             "#e6f5d0"
            ],
            [
             0.7,
             "#b8e186"
            ],
            [
             0.8,
             "#7fbc41"
            ],
            [
             0.9,
             "#4d9221"
            ],
            [
             1,
             "#276419"
            ]
           ],
           "sequential": [
            [
             0,
             "#0d0887"
            ],
            [
             0.1111111111111111,
             "#46039f"
            ],
            [
             0.2222222222222222,
             "#7201a8"
            ],
            [
             0.3333333333333333,
             "#9c179e"
            ],
            [
             0.4444444444444444,
             "#bd3786"
            ],
            [
             0.5555555555555556,
             "#d8576b"
            ],
            [
             0.6666666666666666,
             "#ed7953"
            ],
            [
             0.7777777777777778,
             "#fb9f3a"
            ],
            [
             0.8888888888888888,
             "#fdca26"
            ],
            [
             1,
             "#f0f921"
            ]
           ],
           "sequentialminus": [
            [
             0,
             "#0d0887"
            ],
            [
             0.1111111111111111,
             "#46039f"
            ],
            [
             0.2222222222222222,
             "#7201a8"
            ],
            [
             0.3333333333333333,
             "#9c179e"
            ],
            [
             0.4444444444444444,
             "#bd3786"
            ],
            [
             0.5555555555555556,
             "#d8576b"
            ],
            [
             0.6666666666666666,
             "#ed7953"
            ],
            [
             0.7777777777777778,
             "#fb9f3a"
            ],
            [
             0.8888888888888888,
             "#fdca26"
            ],
            [
             1,
             "#f0f921"
            ]
           ]
          },
          "colorway": [
           "#636efa",
           "#EF553B",
           "#00cc96",
           "#ab63fa",
           "#FFA15A",
           "#19d3f3",
           "#FF6692",
           "#B6E880",
           "#FF97FF",
           "#FECB52"
          ],
          "font": {
           "color": "#2a3f5f"
          },
          "geo": {
           "bgcolor": "white",
           "lakecolor": "white",
           "landcolor": "#E5ECF6",
           "showlakes": true,
           "showland": true,
           "subunitcolor": "white"
          },
          "hoverlabel": {
           "align": "left"
          },
          "hovermode": "closest",
          "mapbox": {
           "style": "light"
          },
          "paper_bgcolor": "white",
          "plot_bgcolor": "#E5ECF6",
          "polar": {
           "angularaxis": {
            "gridcolor": "white",
            "linecolor": "white",
            "ticks": ""
           },
           "bgcolor": "#E5ECF6",
           "radialaxis": {
            "gridcolor": "white",
            "linecolor": "white",
            "ticks": ""
           }
          },
          "scene": {
           "xaxis": {
            "backgroundcolor": "#E5ECF6",
            "gridcolor": "white",
            "gridwidth": 2,
            "linecolor": "white",
            "showbackground": true,
            "ticks": "",
            "zerolinecolor": "white"
           },
           "yaxis": {
            "backgroundcolor": "#E5ECF6",
            "gridcolor": "white",
            "gridwidth": 2,
            "linecolor": "white",
            "showbackground": true,
            "ticks": "",
            "zerolinecolor": "white"
           },
           "zaxis": {
            "backgroundcolor": "#E5ECF6",
            "gridcolor": "white",
            "gridwidth": 2,
            "linecolor": "white",
            "showbackground": true,
            "ticks": "",
            "zerolinecolor": "white"
           }
          },
          "shapedefaults": {
           "line": {
            "color": "#2a3f5f"
           }
          },
          "ternary": {
           "aaxis": {
            "gridcolor": "white",
            "linecolor": "white",
            "ticks": ""
           },
           "baxis": {
            "gridcolor": "white",
            "linecolor": "white",
            "ticks": ""
           },
           "bgcolor": "#E5ECF6",
           "caxis": {
            "gridcolor": "white",
            "linecolor": "white",
            "ticks": ""
           }
          },
          "title": {
           "x": 0.05
          },
          "xaxis": {
           "automargin": true,
           "gridcolor": "white",
           "linecolor": "white",
           "ticks": "",
           "title": {
            "standoff": 15
           },
           "zerolinecolor": "white",
           "zerolinewidth": 2
          },
          "yaxis": {
           "automargin": true,
           "gridcolor": "white",
           "linecolor": "white",
           "ticks": "",
           "title": {
            "standoff": 15
           },
           "zerolinecolor": "white",
           "zerolinewidth": 2
          }
         }
        },
        "title": {
         "text": "bkRNA_Rank"
        },
        "xaxis": {
         "anchor": "y",
         "domain": [
          0,
          1
         ],
         "title": {
          "text": "n_genes"
         }
        },
        "yaxis": {
         "anchor": "x",
         "domain": [
          0,
          1
         ],
         "title": {
          "text": "term"
         }
        }
       }
      },
      "text/html": [
       "<div>                            <div id=\"8723b3dc-f5a5-443f-b5d8-872e4f227f06\" class=\"plotly-graph-div\" style=\"height:525px; width:100%;\"></div>            <script type=\"text/javascript\">                require([\"plotly\"], function(Plotly) {                    window.PLOTLYENV=window.PLOTLYENV || {};                                    if (document.getElementById(\"8723b3dc-f5a5-443f-b5d8-872e4f227f06\")) {                    Plotly.newPlot(                        \"8723b3dc-f5a5-443f-b5d8-872e4f227f06\",                        [{\"alignmentgroup\":\"True\",\"customdata\":[[[\"Vmn1r41\",\"Vmn1r27\",\"Vmn1r200\",\"Vmn1r37\",\"Trpc2\",\"Vmn1r36\",\"Vmn1r199\",\"Vmn1r32\",\"Vmn1r198\",\"Vmn1r24\",\"Vmn1r51\",\"Vmn1r228\",\"Vmn1r30\",\"Vmn1r225\"]],[[\"Kcnj11\",\"Taar7d\",\"Vmn2r2\",\"H2-M10.2\",\"Vmn1r51\",\"Tenm2\",\"Vmn2r40\",\"Gjb5\",\"Il12rb1\",\"Vmn2r74\",\"Vmn2r20\",\"Vmn1r37\",\"Trpc2\",\"Vmn1r36\",\"Vmn1r32\",\"Vmn1r24\",\"Catsper3\",\"Chrne\",\"Vmn1r30\",\"Atp8b5\",\"H2-M10.6\",\"Vmn1r41\",\"Stac2\",\"Vmn1r27\",\"Cdh22\",\"Traf3ip3\",\"Vmn2r3\",\"Vil1\",\"Actn2\",\"Steap1\",\"Vmn1r228\",\"Stk32a\",\"Vmn1r225\",\"Art2b\",\"Mtnr1a\",\"Vmn1r200\",\"Vmn1r199\",\"Vmn1r198\",\"Esyt3\",\"Upk3a\"]],[[\"Vmn1r41\",\"Vmn1r27\",\"Vmn1r200\",\"Vmn1r37\",\"Vmn1r36\",\"Vmn1r199\",\"Vmn1r32\",\"Vmn1r198\",\"Vmn1r24\",\"Vmn1r51\",\"Vmn1r228\",\"Vmn1r30\",\"Vmn1r225\"]],[[\"Vmn1r27\",\"Vmn1r200\",\"Vmn1r37\",\"Vmn1r36\",\"Vmn1r199\",\"Vmn1r32\",\"Vmn1r198\",\"Vmn1r24\",\"Vmn1r228\",\"Vmn1r30\",\"Vmn1r225\"]],[[\"Calr4\",\"Fbln2\",\"Pla2g4b\",\"Cdh22\",\"Mbl2\",\"Vil1\",\"F12\",\"Actn2\",\"Esyt3\",\"Bglap3\"]]],\"hovertemplate\":\"n_genes=%{x}<br>term=%{y}<br>study_genes=%{customdata[0]}<extra></extra>\",\"legendgroup\":\"\",\"marker\":{\"color\":\"#636efa\",\"pattern\":{\"shape\":\"\"}},\"name\":\"\",\"offsetgroup\":\"\",\"orientation\":\"h\",\"showlegend\":false,\"textposition\":\"auto\",\"x\":[14,40,13,11,10],\"xaxis\":\"x\",\"y\":[\"response to pheromone\",\"plasma membrane\",\"pheromone receptor activity\",\"pheromone binding\",\"calcium ion binding\"],\"yaxis\":\"y\",\"type\":\"bar\"}],                        {\"template\":{\"data\":{\"bar\":[{\"error_x\":{\"color\":\"#2a3f5f\"},\"error_y\":{\"color\":\"#2a3f5f\"},\"marker\":{\"line\":{\"color\":\"#E5ECF6\",\"width\":0.5},\"pattern\":{\"fillmode\":\"overlay\",\"size\":10,\"solidity\":0.2}},\"type\":\"bar\"}],\"barpolar\":[{\"marker\":{\"line\":{\"color\":\"#E5ECF6\",\"width\":0.5},\"pattern\":{\"fillmode\":\"overlay\",\"size\":10,\"solidity\":0.2}},\"type\":\"barpolar\"}],\"carpet\":[{\"aaxis\":{\"endlinecolor\":\"#2a3f5f\",\"gridcolor\":\"white\",\"linecolor\":\"white\",\"minorgridcolor\":\"white\",\"startlinecolor\":\"#2a3f5f\"},\"baxis\":{\"endlinecolor\":\"#2a3f5f\",\"gridcolor\":\"white\",\"linecolor\":\"white\",\"minorgridcolor\":\"white\",\"startlinecolor\":\"#2a3f5f\"},\"type\":\"carpet\"}],\"choropleth\":[{\"colorbar\":{\"outlinewidth\":0,\"ticks\":\"\"},\"type\":\"choropleth\"}],\"contour\":[{\"colorbar\":{\"outlinewidth\":0,\"ticks\":\"\"},\"colorscale\":[[0.0,\"#0d0887\"],[0.1111111111111111,\"#46039f\"],[0.2222222222222222,\"#7201a8\"],[0.3333333333333333,\"#9c179e\"],[0.4444444444444444,\"#bd3786\"],[0.5555555555555556,\"#d8576b\"],[0.6666666666666666,\"#ed7953\"],[0.7777777777777778,\"#fb9f3a\"],[0.8888888888888888,\"#fdca26\"],[1.0,\"#f0f921\"]],\"type\":\"contour\"}],\"contourcarpet\":[{\"colorbar\":{\"outlinewidth\":0,\"ticks\":\"\"},\"type\":\"contourcarpet\"}],\"heatmap\":[{\"colorbar\":{\"outlinewidth\":0,\"ticks\":\"\"},\"colorscale\":[[0.0,\"#0d0887\"],[0.1111111111111111,\"#46039f\"],[0.2222222222222222,\"#7201a8\"],[0.3333333333333333,\"#9c179e\"],[0.4444444444444444,\"#bd3786\"],[0.5555555555555556,\"#d8576b\"],[0.6666666666666666,\"#ed7953\"],[0.7777777777777778,\"#fb9f3a\"],[0.8888888888888888,\"#fdca26\"],[1.0,\"#f0f921\"]],\"type\":\"heatmap\"}],\"heatmapgl\":[{\"colorbar\":{\"outlinewidth\":0,\"ticks\":\"\"},\"colorscale\":[[0.0,\"#0d0887\"],[0.1111111111111111,\"#46039f\"],[0.2222222222222222,\"#7201a8\"],[0.3333333333333333,\"#9c179e\"],[0.4444444444444444,\"#bd3786\"],[0.5555555555555556,\"#d8576b\"],[0.6666666666666666,\"#ed7953\"],[0.7777777777777778,\"#fb9f3a\"],[0.8888888888888888,\"#fdca26\"],[1.0,\"#f0f921\"]],\"type\":\"heatmapgl\"}],\"histogram\":[{\"marker\":{\"pattern\":{\"fillmode\":\"overlay\",\"size\":10,\"solidity\":0.2}},\"type\":\"histogram\"}],\"histogram2d\":[{\"colorbar\":{\"outlinewidth\":0,\"ticks\":\"\"},\"colorscale\":[[0.0,\"#0d0887\"],[0.1111111111111111,\"#46039f\"],[0.2222222222222222,\"#7201a8\"],[0.3333333333333333,\"#9c179e\"],[0.4444444444444444,\"#bd3786\"],[0.5555555555555556,\"#d8576b\"],[0.6666666666666666,\"#ed7953\"],[0.7777777777777778,\"#fb9f3a\"],[0.8888888888888888,\"#fdca26\"],[1.0,\"#f0f921\"]],\"type\":\"histogram2d\"}],\"histogram2dcontour\":[{\"colorbar\":{\"outlinewidth\":0,\"ticks\":\"\"},\"colorscale\":[[0.0,\"#0d0887\"],[0.1111111111111111,\"#46039f\"],[0.2222222222222222,\"#7201a8\"],[0.3333333333333333,\"#9c179e\"],[0.4444444444444444,\"#bd3786\"],[0.5555555555555556,\"#d8576b\"],[0.6666666666666666,\"#ed7953\"],[0.7777777777777778,\"#fb9f3a\"],[0.8888888888888888,\"#fdca26\"],[1.0,\"#f0f921\"]],\"type\":\"histogram2dcontour\"}],\"mesh3d\":[{\"colorbar\":{\"outlinewidth\":0,\"ticks\":\"\"},\"type\":\"mesh3d\"}],\"parcoords\":[{\"line\":{\"colorbar\":{\"outlinewidth\":0,\"ticks\":\"\"}},\"type\":\"parcoords\"}],\"pie\":[{\"automargin\":true,\"type\":\"pie\"}],\"scatter\":[{\"marker\":{\"colorbar\":{\"outlinewidth\":0,\"ticks\":\"\"}},\"type\":\"scatter\"}],\"scatter3d\":[{\"line\":{\"colorbar\":{\"outlinewidth\":0,\"ticks\":\"\"}},\"marker\":{\"colorbar\":{\"outlinewidth\":0,\"ticks\":\"\"}},\"type\":\"scatter3d\"}],\"scattercarpet\":[{\"marker\":{\"colorbar\":{\"outlinewidth\":0,\"ticks\":\"\"}},\"type\":\"scattercarpet\"}],\"scattergeo\":[{\"marker\":{\"colorbar\":{\"outlinewidth\":0,\"ticks\":\"\"}},\"type\":\"scattergeo\"}],\"scattergl\":[{\"marker\":{\"colorbar\":{\"outlinewidth\":0,\"ticks\":\"\"}},\"type\":\"scattergl\"}],\"scattermapbox\":[{\"marker\":{\"colorbar\":{\"outlinewidth\":0,\"ticks\":\"\"}},\"type\":\"scattermapbox\"}],\"scatterpolar\":[{\"marker\":{\"colorbar\":{\"outlinewidth\":0,\"ticks\":\"\"}},\"type\":\"scatterpolar\"}],\"scatterpolargl\":[{\"marker\":{\"colorbar\":{\"outlinewidth\":0,\"ticks\":\"\"}},\"type\":\"scatterpolargl\"}],\"scatterternary\":[{\"marker\":{\"colorbar\":{\"outlinewidth\":0,\"ticks\":\"\"}},\"type\":\"scatterternary\"}],\"surface\":[{\"colorbar\":{\"outlinewidth\":0,\"ticks\":\"\"},\"colorscale\":[[0.0,\"#0d0887\"],[0.1111111111111111,\"#46039f\"],[0.2222222222222222,\"#7201a8\"],[0.3333333333333333,\"#9c179e\"],[0.4444444444444444,\"#bd3786\"],[0.5555555555555556,\"#d8576b\"],[0.6666666666666666,\"#ed7953\"],[0.7777777777777778,\"#fb9f3a\"],[0.8888888888888888,\"#fdca26\"],[1.0,\"#f0f921\"]],\"type\":\"surface\"}],\"table\":[{\"cells\":{\"fill\":{\"color\":\"#EBF0F8\"},\"line\":{\"color\":\"white\"}},\"header\":{\"fill\":{\"color\":\"#C8D4E3\"},\"line\":{\"color\":\"white\"}},\"type\":\"table\"}]},\"layout\":{\"annotationdefaults\":{\"arrowcolor\":\"#2a3f5f\",\"arrowhead\":0,\"arrowwidth\":1},\"autotypenumbers\":\"strict\",\"coloraxis\":{\"colorbar\":{\"outlinewidth\":0,\"ticks\":\"\"}},\"colorscale\":{\"diverging\":[[0,\"#8e0152\"],[0.1,\"#c51b7d\"],[0.2,\"#de77ae\"],[0.3,\"#f1b6da\"],[0.4,\"#fde0ef\"],[0.5,\"#f7f7f7\"],[0.6,\"#e6f5d0\"],[0.7,\"#b8e186\"],[0.8,\"#7fbc41\"],[0.9,\"#4d9221\"],[1,\"#276419\"]],\"sequential\":[[0.0,\"#0d0887\"],[0.1111111111111111,\"#46039f\"],[0.2222222222222222,\"#7201a8\"],[0.3333333333333333,\"#9c179e\"],[0.4444444444444444,\"#bd3786\"],[0.5555555555555556,\"#d8576b\"],[0.6666666666666666,\"#ed7953\"],[0.7777777777777778,\"#fb9f3a\"],[0.8888888888888888,\"#fdca26\"],[1.0,\"#f0f921\"]],\"sequentialminus\":[[0.0,\"#0d0887\"],[0.1111111111111111,\"#46039f\"],[0.2222222222222222,\"#7201a8\"],[0.3333333333333333,\"#9c179e\"],[0.4444444444444444,\"#bd3786\"],[0.5555555555555556,\"#d8576b\"],[0.6666666666666666,\"#ed7953\"],[0.7777777777777778,\"#fb9f3a\"],[0.8888888888888888,\"#fdca26\"],[1.0,\"#f0f921\"]]},\"colorway\":[\"#636efa\",\"#EF553B\",\"#00cc96\",\"#ab63fa\",\"#FFA15A\",\"#19d3f3\",\"#FF6692\",\"#B6E880\",\"#FF97FF\",\"#FECB52\"],\"font\":{\"color\":\"#2a3f5f\"},\"geo\":{\"bgcolor\":\"white\",\"lakecolor\":\"white\",\"landcolor\":\"#E5ECF6\",\"showlakes\":true,\"showland\":true,\"subunitcolor\":\"white\"},\"hoverlabel\":{\"align\":\"left\"},\"hovermode\":\"closest\",\"mapbox\":{\"style\":\"light\"},\"paper_bgcolor\":\"white\",\"plot_bgcolor\":\"#E5ECF6\",\"polar\":{\"angularaxis\":{\"gridcolor\":\"white\",\"linecolor\":\"white\",\"ticks\":\"\"},\"bgcolor\":\"#E5ECF6\",\"radialaxis\":{\"gridcolor\":\"white\",\"linecolor\":\"white\",\"ticks\":\"\"}},\"scene\":{\"xaxis\":{\"backgroundcolor\":\"#E5ECF6\",\"gridcolor\":\"white\",\"gridwidth\":2,\"linecolor\":\"white\",\"showbackground\":true,\"ticks\":\"\",\"zerolinecolor\":\"white\"},\"yaxis\":{\"backgroundcolor\":\"#E5ECF6\",\"gridcolor\":\"white\",\"gridwidth\":2,\"linecolor\":\"white\",\"showbackground\":true,\"ticks\":\"\",\"zerolinecolor\":\"white\"},\"zaxis\":{\"backgroundcolor\":\"#E5ECF6\",\"gridcolor\":\"white\",\"gridwidth\":2,\"linecolor\":\"white\",\"showbackground\":true,\"ticks\":\"\",\"zerolinecolor\":\"white\"}},\"shapedefaults\":{\"line\":{\"color\":\"#2a3f5f\"}},\"ternary\":{\"aaxis\":{\"gridcolor\":\"white\",\"linecolor\":\"white\",\"ticks\":\"\"},\"baxis\":{\"gridcolor\":\"white\",\"linecolor\":\"white\",\"ticks\":\"\"},\"bgcolor\":\"#E5ECF6\",\"caxis\":{\"gridcolor\":\"white\",\"linecolor\":\"white\",\"ticks\":\"\"}},\"title\":{\"x\":0.05},\"xaxis\":{\"automargin\":true,\"gridcolor\":\"white\",\"linecolor\":\"white\",\"ticks\":\"\",\"title\":{\"standoff\":15},\"zerolinecolor\":\"white\",\"zerolinewidth\":2},\"yaxis\":{\"automargin\":true,\"gridcolor\":\"white\",\"linecolor\":\"white\",\"ticks\":\"\",\"title\":{\"standoff\":15},\"zerolinecolor\":\"white\",\"zerolinewidth\":2}}},\"xaxis\":{\"anchor\":\"y\",\"domain\":[0.0,1.0],\"title\":{\"text\":\"n_genes\"}},\"yaxis\":{\"anchor\":\"x\",\"domain\":[0.0,1.0],\"title\":{\"text\":\"term\"}},\"legend\":{\"tracegroupgap\":0},\"title\":{\"text\":\"bkRNA_Rank\"},\"barmode\":\"relative\",\"plot_bgcolor\":\"rgba(0, 0, 0, 0)\"},                        {\"responsive\": true}                    ).then(function(){\n",
       "                            \n",
       "var gd = document.getElementById('8723b3dc-f5a5-443f-b5d8-872e4f227f06');\n",
       "var x = new MutationObserver(function (mutations, observer) {{\n",
       "        var display = window.getComputedStyle(gd).display;\n",
       "        if (!display || display === 'none') {{\n",
       "            console.log([gd, 'removed!']);\n",
       "            Plotly.purge(gd);\n",
       "            observer.disconnect();\n",
       "        }}\n",
       "}});\n",
       "\n",
       "// Listen for the removal of the full notebook cells\n",
       "var notebookContainer = gd.closest('#notebook-container');\n",
       "if (notebookContainer) {{\n",
       "    x.observe(notebookContainer, {childList: true});\n",
       "}}\n",
       "\n",
       "// Listen for the clearing of the current output cell\n",
       "var outputEl = gd.closest('.output');\n",
       "if (outputEl) {{\n",
       "    x.observe(outputEl, {childList: true});\n",
       "}}\n",
       "\n",
       "                        })                };                });            </script>        </div>"
      ]
     },
     "metadata": {},
     "output_type": "display_data"
    },
    {
     "data": {
      "application/vnd.plotly.v1+json": {
       "config": {
        "plotlyServerURL": "https://plot.ly"
       },
       "data": [
        {
         "alignmentgroup": "True",
         "customdata": [
          [
           [
            "Mybbp1a",
            "Hmga1",
            "Satb1",
            "Atf4",
            "Kdm1a",
            "Ddit3",
            "Elk1",
            "Hif1a",
            "Tfdp1",
            "Thap1",
            "Hira",
            "Zscan21",
            "Tcf3",
            "Erf",
            "Etv4",
            "Srebf1",
            "Pitx1",
            "Srebf2",
            "Gpbp1",
            "Dmrta2",
            "Zfp786",
            "Cebpa",
            "Mitf",
            "Cebpb",
            "Asxl3",
            "Sox4",
            "Zfp341",
            "E2f7",
            "Fosb",
            "Zfp280d",
            "Foxo6",
            "Ybx1",
            "Pbx2",
            "Ss18l1",
            "Egr1",
            "Arnt2",
            "Zfp90",
            "Olig2",
            "Foxk2",
            "Smad2",
            "Nfe2l3",
            "Smarca4",
            "Pgr",
            "Tcfl5",
            "Bach1",
            "Nfil3",
            "Maff",
            "Stat2",
            "Zfp628",
            "Hes6",
            "Hmg20b",
            "E2f5",
            "Nfya",
            "Tbr1"
           ]
          ],
          [
           [
            "Zfp296",
            "Satb1",
            "Atf4",
            "Rcor1",
            "Tbl1x",
            "Kdm1a",
            "Ddit3",
            "Elk1",
            "Hif1a",
            "Tfdp1",
            "Thap1",
            "Zfp449",
            "Tcf20",
            "Zscan21",
            "Zfp644",
            "Tcf3",
            "Erf",
            "Etv4",
            "Srebf1",
            "Pitx1",
            "Srebf2",
            "Zfp668",
            "Sox11",
            "Dmrta2",
            "Cebpa",
            "Mitf",
            "Cebpb",
            "Zfp639",
            "Cebpg",
            "E2f7",
            "Fosb",
            "Foxo6",
            "Sall3",
            "Pbx2",
            "Pcgf3",
            "Egr1",
            "Arnt2",
            "Sox30",
            "Taf6",
            "Ctnnb1",
            "Foxk2",
            "Nfe2l3",
            "Smarca4",
            "Bach1",
            "Maff",
            "Elmsan1",
            "Stat2",
            "Zfp628",
            "Tsc22d4",
            "Hes6",
            "Hmgb3",
            "E2f5",
            "Nfya",
            "Tbr1"
           ]
          ],
          [
           [
            "Mybbp1a",
            "Hmga1",
            "Atf4",
            "Tbl1x",
            "Drap1",
            "Kdm1a",
            "Ddit3",
            "Elk1",
            "Hif1a",
            "Tfdp1",
            "Tcea1",
            "Tcea2",
            "Tcf20",
            "Zscan21",
            "Tcf3",
            "Srebf1",
            "Etv4",
            "Pitx1",
            "Srebf2",
            "Sox11",
            "Gpbp1",
            "Cebpa",
            "Mitf",
            "Cebpb",
            "Zfp639",
            "Cebpg",
            "Sox4",
            "E2f7",
            "Fosb",
            "Ybx1",
            "Pbx2",
            "Ss18l1",
            "Egr1",
            "Arnt2",
            "Sox30",
            "Ctnnb1",
            "Npm1",
            "Foxk2",
            "Smad2",
            "Smarca4",
            "Pgr",
            "Bach1",
            "Maff",
            "Rnf4",
            "Stat2",
            "Asxl3",
            "Nfya",
            "Tbr1"
           ]
          ],
          [
           [
            "Zfp296",
            "Satb1",
            "Atf4",
            "Kdm1a",
            "Ddit3",
            "Hif1a",
            "Insm2",
            "Hnrnpab",
            "Thap1",
            "Chd4",
            "Id1",
            "Id3",
            "Tdg",
            "Zfp41",
            "Tcf3",
            "Erf",
            "Srebf1",
            "Srebf2",
            "Zfp81",
            "Sox11",
            "Cebpa",
            "Mitf",
            "Cebpb",
            "2610008E11Rik",
            "E2f7",
            "Ybx1",
            "Jarid2",
            "Egr1",
            "Sox30",
            "Zfp90",
            "Olig2",
            "Ctnnb1",
            "Nfe2l3",
            "Smarca4",
            "Tcfl5",
            "Bach1",
            "Nfil3",
            "Cbfa2t3",
            "Tsc22d4",
            "Hes6",
            "Insm1",
            "Zfp668",
            "Drap1"
           ]
          ],
          [
           [
            "Hmga1",
            "Atf4",
            "Ddit3",
            "Elk1",
            "Hif1a",
            "Tfam",
            "Tfdp1",
            "Tcea1",
            "Hnrnpab",
            "Chd4",
            "Zscan21",
            "Tcf3",
            "Srebf1",
            "Etv4",
            "Srebf2",
            "Sox11",
            "Gpbp1",
            "Cebpa",
            "Mitf",
            "Cebpb",
            "Sox4",
            "Scand1",
            "Ss18l1",
            "Egr1",
            "Arnt2",
            "Zfp90",
            "Taf6",
            "Ctnnb1",
            "Npm1",
            "Foxk2",
            "Smad2",
            "Smarca4",
            "Pgr",
            "Nfil3",
            "Rnf4",
            "Nfya",
            "Tbr1"
           ]
          ],
          [
           [
            "Mybbp1a",
            "Hmga1",
            "Rcor1",
            "Kdm1a",
            "Ddit3",
            "Insm2",
            "Chd4",
            "Id1",
            "Id3",
            "Pitx1",
            "Cebpa",
            "Cebpb",
            "Zfp639",
            "Jarid2",
            "Zfp90",
            "Ctnnb1",
            "Foxk2",
            "Smad2",
            "Smarca4",
            "Elmsan1",
            "Nfil3",
            "Cbfa2t3",
            "Tbl1x",
            "Tbr1"
           ]
          ],
          [
           [
            "Hmga1",
            "Ctnnb1",
            "Sox11",
            "Hira",
            "Nfil3",
            "Cbfa2t3",
            "Gpbp1",
            "Tcea1",
            "Tcea2",
            "Thap1",
            "Nfya",
            "Mitf"
           ]
          ],
          [
           [
            "Cebpb",
            "Ctnnb1",
            "Atf4",
            "Smarca4",
            "Fosb",
            "Nfil3",
            "Kdm1a",
            "Tcf3",
            "Gtf2b",
            "Srebf1",
            "Etv4",
            "Drap1"
           ]
          ],
          [
           [
            "Kdm1a",
            "Elk1",
            "Hif1a",
            "Id1",
            "Id3",
            "Zscan21",
            "Zfp41",
            "Tcf3",
            "Erf",
            "Etv4",
            "Sox11",
            "Mitf",
            "Cebpb",
            "Sox4",
            "Jarid2",
            "Ctnnb1",
            "Smad2",
            "Cbfa2t3",
            "Hes6",
            "Insm1"
           ]
          ],
          [
           [
            "Cebpb",
            "Ctnnb1",
            "Smad2",
            "Atf4",
            "Rps3",
            "Nfil3",
            "Tcf3",
            "Hif1a",
            "Etv4",
            "Egr1",
            "Mitf",
            "Sox11",
            "Id1",
            "Cebpa",
            "Id3"
           ]
          ],
          [
           [
            "Mybbp1a",
            "Cebpg",
            "Npm1",
            "Satb1",
            "Smarca4",
            "Jarid2",
            "Hmg20b",
            "Chd4",
            "Tbr1"
           ]
          ],
          [
           [
            "Tdg",
            "Satb1",
            "Rcor1",
            "Hira",
            "Smarca4",
            "Kdm1a",
            "Jarid2",
            "Ss18l1",
            "Hmg20b",
            "Chd4"
           ]
          ],
          [
           [
            "Ctnnb1",
            "Sox4",
            "Smarca4",
            "Ddit3",
            "Tcf3",
            "Elk1",
            "Gtf2b",
            "Tbr1"
           ]
          ],
          [
           [
            "Cebpg",
            "Kdm1a",
            "Ddit3",
            "Hes6",
            "Id1",
            "Id3"
           ]
          ],
          [
           [
            "Rcor1",
            "Tbl1x",
            "Elmsan1",
            "Chd4",
            "Tbr1"
           ]
          ],
          [
           [
            "Mybbp1a",
            "Atf4",
            "Nfil3",
            "Egr1",
            "Nfya",
            "Id1",
            "Id3"
           ]
          ],
          [
           [
            "Hmga1",
            "Ctnnb1",
            "Npm1",
            "Sox4",
            "Smad2",
            "E2f7",
            "Cbfa2t3",
            "Insm1",
            "Cebpa",
            "Taf6"
           ]
          ],
          [
           [
            "Smarca4",
            "Hif1a",
            "Srebf1",
            "Srebf2",
            "Egr1"
           ]
          ],
          [
           [
            "Ctnnb1",
            "Npm1",
            "Smad2",
            "Rcor1",
            "Hif1a",
            "Sox11",
            "Chd4",
            "Id1",
            "Id3"
           ]
          ],
          [
           [
            "Maff",
            "Egr1",
            "Hmg20b",
            "Sox11",
            "Dmrta2"
           ]
          ],
          [
           [
            "Elk1",
            "Rnf4",
            "Egr1",
            "Kdm1a"
           ]
          ],
          [
           [
            "Mybbp1a",
            "Atf4",
            "Egr1",
            "Id1",
            "Id3"
           ]
          ],
          [
           [
            "Cebpb",
            "Ddit3",
            "Atf4"
           ]
          ],
          [
           [
            "Dmrta2",
            "Ctnnb1",
            "Hif1a",
            "Kdm1a"
           ]
          ],
          [
           [
            "Atf4",
            "Nfil3",
            "Srebf1",
            "Id1",
            "Id3"
           ]
          ],
          [
           [
            "Cebpb",
            "Olig2",
            "Ctnnb1",
            "Insm1",
            "Insm2",
            "Sox11",
            "Tbr1"
           ]
          ],
          [
           [
            "Ctnnb1",
            "Ybx1",
            "Hif1a",
            "Hnrnpab",
            "Hmg20b",
            "Insm1",
            "Mitf",
            "Tbr1"
           ]
          ],
          [
           [
            "Cebpb",
            "Ctnnb1",
            "Mitf"
           ]
          ],
          [
           [
            "Cebpa",
            "Kdm1a",
            "Cbfa2t3"
           ]
          ],
          [
           [
            "Cebpb",
            "Atf4"
           ]
          ],
          [
           [
            "Smarca4",
            "Ctnnb1"
           ]
          ],
          [
           [
            "Ctnnb1",
            "Stat2",
            "Hif1a",
            "Jarid2",
            "Mitf",
            "Cebpa"
           ]
          ],
          [
           [
            "Smarca4",
            "Ctnnb1",
            "Tbr1"
           ]
          ],
          [
           [
            "Hif1a",
            "Egr1"
           ]
          ],
          [
           [
            "Ctnnb1",
            "Smarca4",
            "Ddit3",
            "Kdm1a",
            "Tcf3"
           ]
          ],
          [
           [
            "Sox11",
            "Pitx1",
            "Sox4",
            "Smad2"
           ]
          ],
          [
           [
            "Ctnnb1",
            "Npm1",
            "Sox4",
            "Smarca4",
            "Pgr",
            "Insm1",
            "Hif1a",
            "Arnt2",
            "Sox11"
           ]
          ],
          [
           [
            "Tbpl1",
            "Gtf2b",
            "Taf6"
           ]
          ],
          [
           [
            "Sox11",
            "Sox4"
           ]
          ],
          [
           [
            "Cebpb",
            "Atf4"
           ]
          ],
          [
           [
            "Olig2",
            "Zscan21",
            "Zfp41",
            "Kdm1a",
            "Insm1",
            "Jarid2",
            "Pitx1",
            "Mitf",
            "Hes6",
            "Sox11",
            "Id1",
            "Cebpa",
            "Id3"
           ]
          ],
          [
           [
            "Cebpb",
            "Sox11",
            "Ctnnb1",
            "Cebpa"
           ]
          ],
          [
           [
            "Ctnnb1",
            "Smad2",
            "Smarca4",
            "Maff",
            "Ybx1",
            "Erf",
            "Arnt2"
           ]
          ],
          [
           [
            "Elk1",
            "Smarca4",
            "Jarid2",
            "Cebpa"
           ]
          ],
          [
           [
            "Insm1",
            "Ctnnb1",
            "Kdm1a"
           ]
          ],
          [
           [
            "Cebpb",
            "Hif1a",
            "Cebpa"
           ]
          ],
          [
           [
            "Gtf2b",
            "Ctnnb1"
           ]
          ],
          [
           [
            "Sox11",
            "Sox4"
           ]
          ],
          [
           [
            "Npm1",
            "Sox4"
           ]
          ],
          [
           [
            "Ctnnb1",
            "Egr1",
            "Ddit3",
            "Atf4"
           ]
          ],
          [
           [
            "Mybbp1a",
            "Hmga1",
            "Gtf2b",
            "Insm2",
            "Hnrnpab",
            "Thap1",
            "Id1",
            "Id3",
            "Gtf3a",
            "Erf",
            "Gpbp1",
            "Zfp786",
            "Scand1",
            "Ybx1",
            "Ak6",
            "Pbx2",
            "Jarid2",
            "Ss18l1",
            "Arnt2",
            "Sox30",
            "Ctnnb1",
            "Nfe2l3",
            "Smarca4",
            "Nfil3",
            "Cbfa2t3",
            "Hes6",
            "Gcfc2",
            "Nfya",
            "Atf4",
            "Kdm1a",
            "Zfp2",
            "Tdg",
            "Zscan21",
            "Zfp41",
            "Zfp644",
            "Etv4",
            "Sox11",
            "Zfp639",
            "Sox4",
            "Foxo6",
            "Sall3",
            "Zfp90",
            "Olig2",
            "Npm1",
            "Foxk2",
            "Smad2",
            "Pgr",
            "Bach1",
            "Maff",
            "E2f5",
            "Satb1",
            "Rcor1",
            "Tfam",
            "Tfdp1",
            "Tbpl1",
            "Srebf1",
            "Pitx1",
            "Srebf2",
            "Cebpa",
            "Cebpb",
            "Cebpg",
            "Egr1",
            "Taf6",
            "Tcfl5",
            "Rnf4",
            "Stat2",
            "Zfp628",
            "Insm1",
            "Tbl1x",
            "Tbr1",
            "Zfp296",
            "Zfp319",
            "Ddit3",
            "Elk1",
            "Hif1a",
            "Tcea1",
            "Tcea2",
            "Chd4",
            "Hira",
            "Tcf20",
            "Rps3",
            "Tcf3",
            "Dmrta2",
            "Asxl3",
            "Mitf",
            "Zfp341",
            "E2f7",
            "Fosb",
            "Zfp280d",
            "Pcgf3",
            "Tsc22d4",
            "Hmg20b",
            "Hmgb3",
            "Zfp668",
            "Drap1"
           ]
          ],
          [
           [
            "Hmga1",
            "Atf4",
            "Drap1",
            "Ddit3",
            "Gtf2b",
            "Hif1a",
            "Tfdp1",
            "Hnrnpab",
            "Chd4",
            "Tcf3",
            "Cebpa",
            "Cebpb",
            "Cebpg",
            "E2f7",
            "Ctnnb1",
            "Nfe2l3",
            "Bach1",
            "Nfil3",
            "Maff",
            "E2f5",
            "Nfya"
           ]
          ],
          [
           [
            "Satb1",
            "Atf4",
            "Rcor1",
            "Tbl1x",
            "Kdm1a",
            "Ddit3",
            "Elk1",
            "Gtf2b",
            "Hif1a",
            "Tfdp1",
            "Tcea1",
            "Hnrnpab",
            "Tcea2",
            "Thap1",
            "Chd4",
            "Id1",
            "Hira",
            "Tdg",
            "Tcf20",
            "Gtf3a",
            "Tcf3",
            "Erf",
            "Srebf1",
            "Srebf2",
            "Sox11",
            "Hmg20b",
            "Cebpa",
            "Cebpb",
            "Zfp639",
            "Cebpg",
            "Sox4",
            "Fosb",
            "Foxo6",
            "Ak6",
            "Pcgf3",
            "Jarid2",
            "Ss18l1",
            "Egr1",
            "Arnt2",
            "Sox30",
            "Taf6",
            "Ctnnb1",
            "Npm1",
            "Foxk2",
            "Smad2",
            "Smarca4",
            "Maff",
            "Cbfa2t3",
            "Elmsan1",
            "Rnf4",
            "E2f5",
            "Gcfc2",
            "Nfya"
           ]
          ],
          [
           [
            "Olig2",
            "Ctnnb1",
            "Sox4",
            "Smad2",
            "Atf4",
            "Rcor1",
            "E2f7",
            "Elmsan1",
            "Tcf3",
            "Pbx2",
            "Pitx1",
            "Tfdp1",
            "Hif1a",
            "Hes6",
            "Arnt2",
            "E2f5",
            "Tbl1x",
            "Cebpa"
           ]
          ],
          [
           [
            "Ctnnb1",
            "Npm1",
            "Ddit3",
            "Gtf2b",
            "Chd4",
            "Nfya"
           ]
          ],
          [
           [
            "Cebpb",
            "Ddit3",
            "Cebpa"
           ]
          ],
          [
           [
            "Cebpb",
            "Satb1",
            "Smad2",
            "Hira",
            "Smarca4",
            "Kdm1a",
            "Tcf3",
            "Hif1a",
            "Egr1",
            "Chd4"
           ]
          ],
          [
           [
            "Ctnnb1",
            "Npm1",
            "Smad2",
            "Atf4",
            "Hira",
            "Kdm1a",
            "Tcf3",
            "Srebf1",
            "Tfam",
            "Hif1a",
            "Mitf",
            "Chd4",
            "Cebpa",
            "Taf6"
           ]
          ],
          [
           [
            "Ddit3",
            "Atf4"
           ]
          ],
          [
           [
            "Cebpb",
            "Cebpa"
           ]
          ],
          [
           [
            "Cebpb",
            "Npm1",
            "Satb1",
            "Smarca4",
            "Cebpa"
           ]
          ],
          [
           [
            "Insm2",
            "Rcor1",
            "Insm1",
            "Tbl1x"
           ]
          ],
          [
           [
            "Tfdp1",
            "Cebpa"
           ]
          ],
          [
           [
            "Smarca4",
            "Ctnnb1",
            "Hif1a",
            "Tcf3"
           ]
          ],
          [
           [
            "Tcf20",
            "Satb1",
            "Rnf4",
            "Gtf2b",
            "Hif1a",
            "Ss18l1",
            "Hmg20b"
           ]
          ],
          [
           [
            "Tcea1",
            "Gtf2b",
            "Taf6"
           ]
          ],
          [
           [
            "Tbpl1",
            "Hmga1",
            "Smarca4",
            "Tcfl5"
           ]
          ],
          [
           [
            "Rcor1",
            "Tbl1x",
            "Elmsan1"
           ]
          ],
          [
           [
            "Ctnnb1",
            "Atf4",
            "Rps3",
            "Cbfa2t3",
            "Srebf1",
            "Srebf2"
           ]
          ],
          [
           [
            "Mybbp1a",
            "Hmga1",
            "Gtf2b",
            "Insm2",
            "Hnrnpab",
            "Thap1",
            "Gtf3a",
            "Erf",
            "Gpbp1",
            "Zfp786",
            "Ybx1",
            "Pbx2",
            "Jarid2",
            "Ss18l1",
            "Arnt2",
            "Sox30",
            "Nfe2l3",
            "Smarca4",
            "Nfil3",
            "Hes6",
            "Gcfc2",
            "Nfya",
            "Atf4",
            "Zfp2",
            "Tdg",
            "Zscan21",
            "Zfp41",
            "Etv4",
            "Sox11",
            "Zfp639",
            "Sox4",
            "Foxo6",
            "Sall3",
            "Zfp90",
            "Olig2",
            "Npm1",
            "Foxk2",
            "Smad2",
            "Pgr",
            "Bach1",
            "Maff",
            "E2f5",
            "Satb1",
            "Tfam",
            "Tfdp1",
            "Tbpl1",
            "Srebf1",
            "Pitx1",
            "Srebf2",
            "Cebpa",
            "Cebpb",
            "Cebpg",
            "Egr1",
            "Taf6",
            "Tcfl5",
            "Rnf4",
            "Stat2",
            "Zfp628",
            "Insm1",
            "Tbl1x",
            "Tbr1",
            "Zfp319",
            "Ddit3",
            "Elk1",
            "Hif1a",
            "Tcea1",
            "Tcea2",
            "Chd4",
            "Tcf20",
            "Rps3",
            "Tcf3",
            "Dmrta2",
            "Asxl3",
            "Mitf",
            "Zfp341",
            "E2f7",
            "Fosb",
            "Zfp280d",
            "Hmg20b",
            "Hmgb3",
            "Zfp668",
            "Drap1"
           ]
          ],
          [
           [
            "Zfp296",
            "Hmga1",
            "Zfp319",
            "Satb1",
            "Atf4",
            "Kdm1a",
            "Ddit3",
            "Elk1",
            "Hif1a",
            "Insm2",
            "Thap1",
            "Zfp449",
            "Zscan21",
            "Zfp644",
            "Tcf3",
            "Srebf1",
            "Etv4",
            "Pitx1",
            "Srebf2",
            "Zfp668",
            "Sox11",
            "Dmrta2",
            "Zfp786",
            "Cebpa",
            "Mitf",
            "Cebpb",
            "Zfp639",
            "Cebpg",
            "Sox4",
            "Zfp341",
            "E2f7",
            "Fosb",
            "Zfp280d",
            "Foxo6",
            "Sall3",
            "Pbx2",
            "Egr1",
            "Arnt2",
            "Sox30",
            "Foxk2",
            "Smad2",
            "Nfe2l3",
            "Smarca4",
            "Pgr",
            "Tcfl5",
            "Bach1",
            "Nfil3",
            "Maff",
            "Stat2",
            "Zfp628",
            "Hes6",
            "Insm1",
            "E2f5",
            "Nfya",
            "Tbr1"
           ]
          ],
          [
           [
            "Zfp296",
            "Satb1",
            "Atf4",
            "Ddit3",
            "Elk1",
            "Hif1a",
            "Tfdp1",
            "Insm2",
            "Thap1",
            "Tcf20",
            "Tcf3",
            "Erf",
            "Etv4",
            "Srebf1",
            "Pitx1",
            "Srebf2",
            "Sox11",
            "Gpbp1",
            "Cebpa",
            "Mitf",
            "Cebpb",
            "Zfp639",
            "Sox4",
            "E2f7",
            "Fosb",
            "Foxo6",
            "Pbx2",
            "Ss18l1",
            "Egr1",
            "Arnt2",
            "Sox30",
            "Olig2",
            "Foxk2",
            "Smad2",
            "Nfe2l3",
            "Pgr",
            "Bach1",
            "Nfil3",
            "Maff",
            "Stat2",
            "Zfp628",
            "Hes6",
            "Insm1",
            "E2f5",
            "Nfya",
            "Tbr1"
           ]
          ],
          [
           [
            "Satb1",
            "Atf4",
            "Elk1",
            "Hif1a",
            "Tfdp1",
            "Zfp449",
            "Zscan21",
            "Zfp644",
            "Tcf3",
            "Erf",
            "Etv4",
            "Srebf1",
            "Pitx1",
            "Srebf2",
            "Zfp668",
            "Sox11",
            "Dmrta2",
            "Cebpa",
            "Mitf",
            "Cebpb",
            "Cebpg",
            "Sox4",
            "Zfp341",
            "E2f7",
            "Fosb",
            "Zfp280d",
            "Foxo6",
            "Sall3",
            "Pbx2",
            "Egr1",
            "Arnt2",
            "Sox30",
            "Olig2",
            "Foxk2",
            "Smad2",
            "Nfe2l3",
            "Tcfl5",
            "Bach1",
            "Maff",
            "Stat2",
            "Hes6",
            "E2f5",
            "Nfya",
            "Tbr1"
           ]
          ],
          [
           [
            "Hmga1",
            "Zfp319",
            "Atf4",
            "Ddit3",
            "Elk1",
            "Hif1a",
            "Tfdp1",
            "Zscan21",
            "Tcf3",
            "Srebf1",
            "Etv4",
            "Pitx1",
            "Sox11",
            "Zfp786",
            "Cebpa",
            "Mitf",
            "Cebpb",
            "Zfp639",
            "Cebpg",
            "Sox4",
            "Fosb",
            "Pbx2",
            "Egr1",
            "Arnt2",
            "Sox30",
            "Foxk2",
            "Smad2",
            "Pgr",
            "Bach1",
            "Maff",
            "Zfp628",
            "Nfya"
           ]
          ],
          [
           [
            "Mybbp1a",
            "Satb1",
            "Atf4",
            "Ddit3",
            "Elk1",
            "Hif1a",
            "Tfam",
            "Thap1",
            "Tcf3",
            "Erf",
            "Etv4",
            "Srebf1",
            "Srebf2",
            "Dmrta2",
            "Cebpa",
            "Mitf",
            "Cebpb",
            "Cebpg",
            "Fosb",
            "Foxo6",
            "Ybx1",
            "Egr1",
            "Foxk2",
            "Pgr",
            "Maff",
            "E2f5",
            "Nfya"
           ]
          ],
          [
           [
            "Satb1",
            "Insm2",
            "Thap1",
            "Zfp41",
            "Tcf3",
            "Erf",
            "Srebf2",
            "Zfp81",
            "Cebpb",
            "2610008E11Rik",
            "E2f7",
            "Sox30",
            "Zfp90",
            "Foxk2",
            "Nfe2l3",
            "Tcfl5",
            "Bach1",
            "Nfil3",
            "Hes6",
            "Insm1",
            "Zfp668"
           ]
          ],
          [
           [
            "Zfp296",
            "Atf4",
            "Elk1",
            "Hnrnpab",
            "Zfp449",
            "Zfp41",
            "Srebf1",
            "Etv4",
            "Pitx1",
            "Srebf2",
            "Dmrta2",
            "Cebpb",
            "Cebpg",
            "Sox4",
            "E2f7",
            "Fosb",
            "Ybx1",
            "Egr1",
            "Arnt2",
            "Sox30",
            "Olig2",
            "Tcfl5",
            "Maff",
            "Hes6"
           ]
          ],
          [
           [
            "Cebpb",
            "Tdg",
            "Ctnnb1",
            "Npm1",
            "Cebpg",
            "Smad2",
            "Atf4",
            "Satb1",
            "Rps3",
            "Kdm1a",
            "Tcf3",
            "Gtf2b",
            "Pbx2",
            "Tfdp1",
            "Chd4",
            "Tbl1x",
            "Cebpa"
           ]
          ],
          [
           [
            "Hmga1",
            "Satb1",
            "Rcor1",
            "Kdm1a",
            "Elk1",
            "Tfam",
            "Chd4",
            "Tcf3",
            "Srebf1",
            "Srebf2",
            "Cebpa",
            "Mitf",
            "Cebpb",
            "Ybx1",
            "Pbx2",
            "Jarid2",
            "Ctnnb1",
            "Npm1",
            "Smad2",
            "Smarca4",
            "Cbfa2t3",
            "Asxl3",
            "Tbl1x"
           ]
          ],
          [
           [
            "Mybbp1a",
            "Zfp296",
            "Atf4",
            "Rcor1",
            "Tbl1x",
            "Drap1",
            "Kdm1a",
            "Ddit3",
            "Elk1",
            "Gtf2b",
            "Hif1a",
            "Tfdp1",
            "Tcea1",
            "Hnrnpab",
            "Tbpl1",
            "Chd4",
            "Id1",
            "Hira",
            "Id3",
            "Tdg",
            "Rps3",
            "Tcf3",
            "Srebf1",
            "Pitx1",
            "Srebf2",
            "Gpbp1",
            "Dmrta2",
            "Cebpa",
            "Mitf",
            "Cebpb",
            "Cebpg",
            "Sox4",
            "E2f7",
            "Ybx1",
            "Pbx2",
            "Jarid2",
            "Pcgf3",
            "Arnt2",
            "Zfp90",
            "Taf6",
            "Olig2",
            "Ctnnb1",
            "Npm1",
            "Foxk2",
            "Smad2",
            "Smarca4",
            "Pgr",
            "Bach1",
            "Nfil3",
            "Cbfa2t3",
            "Rnf4",
            "Stat2",
            "Zfp628",
            "Tsc22d4",
            "E2f5",
            "Hmg20b",
            "Insm1",
            "Nfya"
           ]
          ],
          [
           [
            "Cebpb",
            "Ctnnb1",
            "Smad2",
            "Atf4",
            "Hira",
            "Kdm1a",
            "Ddit3",
            "Elk1",
            "Tcf3",
            "Hif1a",
            "Pitx1",
            "Tfdp1",
            "Hes6",
            "Chd4",
            "Cebpa"
           ]
          ],
          [
           [
            "Cebpb",
            "Zfp639",
            "Tcf20",
            "Sox4",
            "Foxk2",
            "Atf4",
            "Tbl1x",
            "Ddit3",
            "Tcf3",
            "Elk1",
            "Tfam",
            "Srebf2",
            "Egr1",
            "Sox11",
            "Nfya",
            "Cebpa"
           ]
          ],
          [
           [
            "Mybbp1a",
            "Zfp296",
            "Ctnnb1",
            "Smarca4",
            "Drap1",
            "Kdm1a",
            "Rnf4",
            "Ddit3",
            "Jarid2",
            "Chd4",
            "Cebpa"
           ]
          ],
          [
           [
            "Olig2",
            "Tcf3",
            "Srebf1",
            "Srebf2",
            "Hif1a",
            "Hes6",
            "Arnt2",
            "E2f5",
            "Id1",
            "Mitf",
            "Id3"
           ]
          ],
          [
           [
            "Cebpb",
            "Satb1",
            "Atf4",
            "E2f7",
            "Smarca4",
            "Rps3",
            "Nfil3",
            "Pbx2",
            "Srebf1",
            "Tfdp1",
            "Egr1",
            "Hes6",
            "Hif1a"
           ]
          ],
          [
           [
            "Hmga1",
            "Ctnnb1",
            "Smarca4",
            "Srebf1",
            "Chd4",
            "Nfya"
           ]
          ],
          [
           [
            "Mybbp1a",
            "Rcor1",
            "Smarca4",
            "Drap1",
            "Elmsan1",
            "Kdm1a",
            "Cbfa2t3",
            "Insm2",
            "Tbl1x"
           ]
          ],
          [
           [
            "Cebpb",
            "Atf4",
            "Ddit3",
            "Tcf3",
            "Hif1a",
            "Hes6",
            "Arnt2",
            "Drap1",
            "Cebpa",
            "Taf6"
           ]
          ],
          [
           [
            "Zfp296",
            "Zfp319",
            "Gtf2b",
            "Zfp2",
            "Tcea1",
            "Insm2",
            "Tcea2",
            "Thap1",
            "Chd4",
            "Tcf20",
            "Gtf3a",
            "Zscan21",
            "Zfp41",
            "Dmrta2",
            "Zfp786",
            "Zfp639",
            "Zfp280d",
            "Sall3",
            "Pcgf3",
            "Egr1",
            "Zfp90",
            "Foxk2",
            "Smad2",
            "Pgr",
            "Cbfa2t3",
            "Rnf4",
            "Zfp628",
            "Asxl3",
            "Insm1",
            "Zfp668"
           ]
          ],
          [
           [
            "Mybbp1a",
            "Tcf3",
            "Hif1a",
            "Srebf2",
            "Mitf"
           ]
          ],
          [
           [
            "Tbpl1",
            "Gtf2b",
            "Cebpb",
            "Egr1"
           ]
          ],
          [
           [
            "Tfdp1",
            "Id1",
            "Ddit3",
            "Id3"
           ]
          ],
          [
           [
            "Hmga1",
            "Ctnnb1",
            "Npm1",
            "Tcf20",
            "Smarca4",
            "Ss18l1",
            "Drap1",
            "Taf6"
           ]
          ],
          [
           [
            "Tbpl1",
            "Gtf2b",
            "Drap1",
            "Taf6"
           ]
          ],
          [
           [
            "Npm1",
            "Smarca4",
            "Kdm1a",
            "Ybx1",
            "Hif1a"
           ]
          ],
          [
           [
            "Hmga1",
            "E2f7",
            "Tcf3",
            "Tfdp1",
            "Sox11"
           ]
          ],
          [
           [
            "Zfp341",
            "Hif1a",
            "E2f5"
           ]
          ],
          [
           [
            "Tdg",
            "Cebpg",
            "Smad2",
            "Fosb",
            "Elk1",
            "Egr1"
           ]
          ],
          [
           [
            "Gtf2b",
            "Drap1",
            "Rnf4"
           ]
          ],
          [
           [
            "Cebpb",
            "Olig2",
            "Npm1",
            "Smad2",
            "Atf4",
            "E2f7",
            "Dmrta2",
            "Pgr",
            "Drap1",
            "Nfil3",
            "Rnf4",
            "Stat2",
            "Ddit3",
            "Tcf3",
            "Thap1",
            "Tbl1x",
            "Id1",
            "Cebpa"
           ]
          ],
          [
           [
            "Cebpb",
            "Hif1a",
            "Insm1",
            "Chd4",
            "Cebpa"
           ]
          ],
          [
           [
            "Gtf2b",
            "Egr1",
            "Kdm1a",
            "Atf4"
           ]
          ],
          [
           [
            "Smarca4",
            "Kdm1a",
            "Rnf4"
           ]
          ],
          [
           [
            "Hmga1",
            "Ctnnb1",
            "Npm1",
            "Rcor1",
            "Rps3",
            "Pgr",
            "Kdm1a",
            "Hif1a"
           ]
          ],
          [
           [
            "Npm1",
            "Hira",
            "Smarca4",
            "Chd4",
            "Tbl1x"
           ]
          ],
          [
           [
            "Cebpb",
            "Insm1",
            "Cebpa",
            "Tbr1"
           ]
          ]
         ],
         "hovertemplate": "n_genes=%{x}<br>term=%{y}<br>study_genes=%{customdata[0]}<extra></extra>",
         "legendgroup": "",
         "marker": {
          "color": "#636efa",
          "pattern": {
           "shape": ""
          }
         },
         "name": "",
         "offsetgroup": "",
         "orientation": "h",
         "showlegend": false,
         "textposition": "auto",
         "type": "bar",
         "x": [
          54,
          54,
          48,
          43,
          37,
          24,
          12,
          12,
          20,
          15,
          9,
          10,
          8,
          6,
          5,
          7,
          10,
          5,
          9,
          5,
          4,
          5,
          3,
          4,
          5,
          7,
          8,
          3,
          3,
          2,
          2,
          6,
          3,
          2,
          5,
          4,
          9,
          3,
          2,
          2,
          13,
          4,
          7,
          4,
          3,
          3,
          2,
          2,
          2,
          4,
          95,
          21,
          53,
          18,
          6,
          3,
          10,
          14,
          2,
          2,
          5,
          4,
          2,
          4,
          7,
          3,
          4,
          3,
          6,
          82,
          55,
          46,
          44,
          32,
          27,
          21,
          24,
          17,
          23,
          58,
          15,
          16,
          11,
          11,
          13,
          6,
          9,
          10,
          30,
          5,
          4,
          4,
          8,
          4,
          5,
          5,
          3,
          6,
          3,
          18,
          5,
          4,
          3,
          8,
          5,
          4
         ],
         "xaxis": "x",
         "y": [
          "regulation of DNA-templated transcription",
          "regulation of transcription by RNA polymerase II",
          "positive regulation of transcription by RNA polymerase II",
          "negative regulation of transcription by RNA polymerase II",
          "positive regulation of DNA-templated transcription",
          "negative regulation of DNA-templated transcription",
          "DNA-templated transcription",
          "transcription by RNA polymerase II",
          "cell differentiation",
          "positive regulation of gene expression",
          "chromatin remodeling",
          "chromatin organization",
          "gene expression",
          "negative regulation of DNA-binding transcription factor activity",
          "histone deacetylation",
          "rhythmic process",
          "negative regulation of cell population proliferation",
          "positive regulation of miRNA transcription",
          "negative regulation of gene expression",
          "skeletal muscle cell differentiation",
          "cellular response to gamma radiation",
          "circadian regulation of gene expression",
          "positive regulation of transcription from RNA polymerase II promoter in response to endoplasmic reticulum stress",
          "positive regulation of neuroblast proliferation",
          "circadian rhythm",
          "neuron differentiation",
          "regulation of gene expression",
          "regulation of osteoclast differentiation",
          "granulocyte differentiation",
          "positive regulation of sodium-dependent phosphate transport",
          "glial cell fate determination",
          "regulation of cell population proliferation",
          "hindbrain development",
          "positive regulation of hormone biosynthetic process",
          "positive regulation of DNA-binding transcription factor activity",
          "anatomical structure morphogenesis",
          "positive regulation of cell population proliferation",
          "DNA-templated transcription initiation",
          "cardiac ventricle formation",
          "positive regulation of biomineral tissue development",
          "multicellular organism development",
          "positive regulation of osteoblast differentiation",
          "in utero embryonic development",
          "liver development",
          "positive regulation of neural precursor cell proliferation",
          "embryonic placenta development",
          "positive regulation of core promoter binding",
          "noradrenergic neuron differentiation",
          "regulation of DNA damage response, signal transduction by p53 class mediator",
          "positive regulation of neuron apoptotic process",
          "nucleus",
          "RNA polymerase II transcription regulator complex",
          "nucleoplasm",
          "transcription regulator complex",
          "protein-DNA complex",
          "CHOP-C/EBP complex",
          "chromatin",
          "protein-containing complex",
          "CHOP-ATF4 complex",
          "C/EBP complex",
          "nuclear matrix",
          "transcription repressor complex",
          "Rb-E2F complex",
          "euchromatin",
          "nuclear body",
          "transcription factor TFIID complex",
          "male germ cell nucleus",
          "histone deacetylase complex",
          "membrane",
          "DNA binding",
          "RNA polymerase II cis-regulatory region sequence-specific DNA binding",
          "DNA-binding transcription factor activity",
          "DNA-binding transcription factor activity, RNA polymerase II-specific",
          "DNA-binding transcription activator activity, RNA polymerase II-specific",
          "sequence-specific DNA binding",
          "DNA-binding transcription repressor activity, RNA polymerase II-specific",
          "sequence-specific double-stranded DNA binding",
          "DNA-binding transcription factor binding",
          "chromatin binding",
          "protein binding",
          "RNA polymerase II-specific DNA-binding transcription factor binding",
          "transcription cis-regulatory region binding",
          "transcription factor binding",
          "protein dimerization activity",
          "RNA polymerase II transcription regulatory region sequence-specific DNA binding",
          "transcription coregulator binding",
          "transcription corepressor activity",
          "protein heterodimerization activity",
          "metal ion binding",
          "E-box binding",
          "RNA polymerase II core promoter sequence-specific DNA binding",
          "transcription regulator inhibitor activity",
          "transcription coactivator activity",
          "RNA polymerase II general transcription initiation factor activity",
          "p53 binding",
          "cis-regulatory region sequence-specific DNA binding",
          "DNA-binding transcription activator activity",
          "double-stranded DNA binding",
          "TBP-class protein binding",
          "identical protein binding",
          "histone deacetylase binding",
          "promoter-specific chromatin binding",
          "nuclear androgen receptor binding",
          "enzyme binding",
          "histone binding",
          "chromatin DNA binding"
         ],
         "yaxis": "y"
        }
       ],
       "layout": {
        "barmode": "relative",
        "legend": {
         "tracegroupgap": 0
        },
        "plot_bgcolor": "rgba(0, 0, 0, 0)",
        "template": {
         "data": {
          "bar": [
           {
            "error_x": {
             "color": "#2a3f5f"
            },
            "error_y": {
             "color": "#2a3f5f"
            },
            "marker": {
             "line": {
              "color": "#E5ECF6",
              "width": 0.5
             },
             "pattern": {
              "fillmode": "overlay",
              "size": 10,
              "solidity": 0.2
             }
            },
            "type": "bar"
           }
          ],
          "barpolar": [
           {
            "marker": {
             "line": {
              "color": "#E5ECF6",
              "width": 0.5
             },
             "pattern": {
              "fillmode": "overlay",
              "size": 10,
              "solidity": 0.2
             }
            },
            "type": "barpolar"
           }
          ],
          "carpet": [
           {
            "aaxis": {
             "endlinecolor": "#2a3f5f",
             "gridcolor": "white",
             "linecolor": "white",
             "minorgridcolor": "white",
             "startlinecolor": "#2a3f5f"
            },
            "baxis": {
             "endlinecolor": "#2a3f5f",
             "gridcolor": "white",
             "linecolor": "white",
             "minorgridcolor": "white",
             "startlinecolor": "#2a3f5f"
            },
            "type": "carpet"
           }
          ],
          "choropleth": [
           {
            "colorbar": {
             "outlinewidth": 0,
             "ticks": ""
            },
            "type": "choropleth"
           }
          ],
          "contour": [
           {
            "colorbar": {
             "outlinewidth": 0,
             "ticks": ""
            },
            "colorscale": [
             [
              0,
              "#0d0887"
             ],
             [
              0.1111111111111111,
              "#46039f"
             ],
             [
              0.2222222222222222,
              "#7201a8"
             ],
             [
              0.3333333333333333,
              "#9c179e"
             ],
             [
              0.4444444444444444,
              "#bd3786"
             ],
             [
              0.5555555555555556,
              "#d8576b"
             ],
             [
              0.6666666666666666,
              "#ed7953"
             ],
             [
              0.7777777777777778,
              "#fb9f3a"
             ],
             [
              0.8888888888888888,
              "#fdca26"
             ],
             [
              1,
              "#f0f921"
             ]
            ],
            "type": "contour"
           }
          ],
          "contourcarpet": [
           {
            "colorbar": {
             "outlinewidth": 0,
             "ticks": ""
            },
            "type": "contourcarpet"
           }
          ],
          "heatmap": [
           {
            "colorbar": {
             "outlinewidth": 0,
             "ticks": ""
            },
            "colorscale": [
             [
              0,
              "#0d0887"
             ],
             [
              0.1111111111111111,
              "#46039f"
             ],
             [
              0.2222222222222222,
              "#7201a8"
             ],
             [
              0.3333333333333333,
              "#9c179e"
             ],
             [
              0.4444444444444444,
              "#bd3786"
             ],
             [
              0.5555555555555556,
              "#d8576b"
             ],
             [
              0.6666666666666666,
              "#ed7953"
             ],
             [
              0.7777777777777778,
              "#fb9f3a"
             ],
             [
              0.8888888888888888,
              "#fdca26"
             ],
             [
              1,
              "#f0f921"
             ]
            ],
            "type": "heatmap"
           }
          ],
          "heatmapgl": [
           {
            "colorbar": {
             "outlinewidth": 0,
             "ticks": ""
            },
            "colorscale": [
             [
              0,
              "#0d0887"
             ],
             [
              0.1111111111111111,
              "#46039f"
             ],
             [
              0.2222222222222222,
              "#7201a8"
             ],
             [
              0.3333333333333333,
              "#9c179e"
             ],
             [
              0.4444444444444444,
              "#bd3786"
             ],
             [
              0.5555555555555556,
              "#d8576b"
             ],
             [
              0.6666666666666666,
              "#ed7953"
             ],
             [
              0.7777777777777778,
              "#fb9f3a"
             ],
             [
              0.8888888888888888,
              "#fdca26"
             ],
             [
              1,
              "#f0f921"
             ]
            ],
            "type": "heatmapgl"
           }
          ],
          "histogram": [
           {
            "marker": {
             "pattern": {
              "fillmode": "overlay",
              "size": 10,
              "solidity": 0.2
             }
            },
            "type": "histogram"
           }
          ],
          "histogram2d": [
           {
            "colorbar": {
             "outlinewidth": 0,
             "ticks": ""
            },
            "colorscale": [
             [
              0,
              "#0d0887"
             ],
             [
              0.1111111111111111,
              "#46039f"
             ],
             [
              0.2222222222222222,
              "#7201a8"
             ],
             [
              0.3333333333333333,
              "#9c179e"
             ],
             [
              0.4444444444444444,
              "#bd3786"
             ],
             [
              0.5555555555555556,
              "#d8576b"
             ],
             [
              0.6666666666666666,
              "#ed7953"
             ],
             [
              0.7777777777777778,
              "#fb9f3a"
             ],
             [
              0.8888888888888888,
              "#fdca26"
             ],
             [
              1,
              "#f0f921"
             ]
            ],
            "type": "histogram2d"
           }
          ],
          "histogram2dcontour": [
           {
            "colorbar": {
             "outlinewidth": 0,
             "ticks": ""
            },
            "colorscale": [
             [
              0,
              "#0d0887"
             ],
             [
              0.1111111111111111,
              "#46039f"
             ],
             [
              0.2222222222222222,
              "#7201a8"
             ],
             [
              0.3333333333333333,
              "#9c179e"
             ],
             [
              0.4444444444444444,
              "#bd3786"
             ],
             [
              0.5555555555555556,
              "#d8576b"
             ],
             [
              0.6666666666666666,
              "#ed7953"
             ],
             [
              0.7777777777777778,
              "#fb9f3a"
             ],
             [
              0.8888888888888888,
              "#fdca26"
             ],
             [
              1,
              "#f0f921"
             ]
            ],
            "type": "histogram2dcontour"
           }
          ],
          "mesh3d": [
           {
            "colorbar": {
             "outlinewidth": 0,
             "ticks": ""
            },
            "type": "mesh3d"
           }
          ],
          "parcoords": [
           {
            "line": {
             "colorbar": {
              "outlinewidth": 0,
              "ticks": ""
             }
            },
            "type": "parcoords"
           }
          ],
          "pie": [
           {
            "automargin": true,
            "type": "pie"
           }
          ],
          "scatter": [
           {
            "marker": {
             "colorbar": {
              "outlinewidth": 0,
              "ticks": ""
             }
            },
            "type": "scatter"
           }
          ],
          "scatter3d": [
           {
            "line": {
             "colorbar": {
              "outlinewidth": 0,
              "ticks": ""
             }
            },
            "marker": {
             "colorbar": {
              "outlinewidth": 0,
              "ticks": ""
             }
            },
            "type": "scatter3d"
           }
          ],
          "scattercarpet": [
           {
            "marker": {
             "colorbar": {
              "outlinewidth": 0,
              "ticks": ""
             }
            },
            "type": "scattercarpet"
           }
          ],
          "scattergeo": [
           {
            "marker": {
             "colorbar": {
              "outlinewidth": 0,
              "ticks": ""
             }
            },
            "type": "scattergeo"
           }
          ],
          "scattergl": [
           {
            "marker": {
             "colorbar": {
              "outlinewidth": 0,
              "ticks": ""
             }
            },
            "type": "scattergl"
           }
          ],
          "scattermapbox": [
           {
            "marker": {
             "colorbar": {
              "outlinewidth": 0,
              "ticks": ""
             }
            },
            "type": "scattermapbox"
           }
          ],
          "scatterpolar": [
           {
            "marker": {
             "colorbar": {
              "outlinewidth": 0,
              "ticks": ""
             }
            },
            "type": "scatterpolar"
           }
          ],
          "scatterpolargl": [
           {
            "marker": {
             "colorbar": {
              "outlinewidth": 0,
              "ticks": ""
             }
            },
            "type": "scatterpolargl"
           }
          ],
          "scatterternary": [
           {
            "marker": {
             "colorbar": {
              "outlinewidth": 0,
              "ticks": ""
             }
            },
            "type": "scatterternary"
           }
          ],
          "surface": [
           {
            "colorbar": {
             "outlinewidth": 0,
             "ticks": ""
            },
            "colorscale": [
             [
              0,
              "#0d0887"
             ],
             [
              0.1111111111111111,
              "#46039f"
             ],
             [
              0.2222222222222222,
              "#7201a8"
             ],
             [
              0.3333333333333333,
              "#9c179e"
             ],
             [
              0.4444444444444444,
              "#bd3786"
             ],
             [
              0.5555555555555556,
              "#d8576b"
             ],
             [
              0.6666666666666666,
              "#ed7953"
             ],
             [
              0.7777777777777778,
              "#fb9f3a"
             ],
             [
              0.8888888888888888,
              "#fdca26"
             ],
             [
              1,
              "#f0f921"
             ]
            ],
            "type": "surface"
           }
          ],
          "table": [
           {
            "cells": {
             "fill": {
              "color": "#EBF0F8"
             },
             "line": {
              "color": "white"
             }
            },
            "header": {
             "fill": {
              "color": "#C8D4E3"
             },
             "line": {
              "color": "white"
             }
            },
            "type": "table"
           }
          ]
         },
         "layout": {
          "annotationdefaults": {
           "arrowcolor": "#2a3f5f",
           "arrowhead": 0,
           "arrowwidth": 1
          },
          "autotypenumbers": "strict",
          "coloraxis": {
           "colorbar": {
            "outlinewidth": 0,
            "ticks": ""
           }
          },
          "colorscale": {
           "diverging": [
            [
             0,
             "#8e0152"
            ],
            [
             0.1,
             "#c51b7d"
            ],
            [
             0.2,
             "#de77ae"
            ],
            [
             0.3,
             "#f1b6da"
            ],
            [
             0.4,
             "#fde0ef"
            ],
            [
             0.5,
             "#f7f7f7"
            ],
            [
             0.6,
             "#e6f5d0"
            ],
            [
             0.7,
             "#b8e186"
            ],
            [
             0.8,
             "#7fbc41"
            ],
            [
             0.9,
             "#4d9221"
            ],
            [
             1,
             "#276419"
            ]
           ],
           "sequential": [
            [
             0,
             "#0d0887"
            ],
            [
             0.1111111111111111,
             "#46039f"
            ],
            [
             0.2222222222222222,
             "#7201a8"
            ],
            [
             0.3333333333333333,
             "#9c179e"
            ],
            [
             0.4444444444444444,
             "#bd3786"
            ],
            [
             0.5555555555555556,
             "#d8576b"
            ],
            [
             0.6666666666666666,
             "#ed7953"
            ],
            [
             0.7777777777777778,
             "#fb9f3a"
            ],
            [
             0.8888888888888888,
             "#fdca26"
            ],
            [
             1,
             "#f0f921"
            ]
           ],
           "sequentialminus": [
            [
             0,
             "#0d0887"
            ],
            [
             0.1111111111111111,
             "#46039f"
            ],
            [
             0.2222222222222222,
             "#7201a8"
            ],
            [
             0.3333333333333333,
             "#9c179e"
            ],
            [
             0.4444444444444444,
             "#bd3786"
            ],
            [
             0.5555555555555556,
             "#d8576b"
            ],
            [
             0.6666666666666666,
             "#ed7953"
            ],
            [
             0.7777777777777778,
             "#fb9f3a"
            ],
            [
             0.8888888888888888,
             "#fdca26"
            ],
            [
             1,
             "#f0f921"
            ]
           ]
          },
          "colorway": [
           "#636efa",
           "#EF553B",
           "#00cc96",
           "#ab63fa",
           "#FFA15A",
           "#19d3f3",
           "#FF6692",
           "#B6E880",
           "#FF97FF",
           "#FECB52"
          ],
          "font": {
           "color": "#2a3f5f"
          },
          "geo": {
           "bgcolor": "white",
           "lakecolor": "white",
           "landcolor": "#E5ECF6",
           "showlakes": true,
           "showland": true,
           "subunitcolor": "white"
          },
          "hoverlabel": {
           "align": "left"
          },
          "hovermode": "closest",
          "mapbox": {
           "style": "light"
          },
          "paper_bgcolor": "white",
          "plot_bgcolor": "#E5ECF6",
          "polar": {
           "angularaxis": {
            "gridcolor": "white",
            "linecolor": "white",
            "ticks": ""
           },
           "bgcolor": "#E5ECF6",
           "radialaxis": {
            "gridcolor": "white",
            "linecolor": "white",
            "ticks": ""
           }
          },
          "scene": {
           "xaxis": {
            "backgroundcolor": "#E5ECF6",
            "gridcolor": "white",
            "gridwidth": 2,
            "linecolor": "white",
            "showbackground": true,
            "ticks": "",
            "zerolinecolor": "white"
           },
           "yaxis": {
            "backgroundcolor": "#E5ECF6",
            "gridcolor": "white",
            "gridwidth": 2,
            "linecolor": "white",
            "showbackground": true,
            "ticks": "",
            "zerolinecolor": "white"
           },
           "zaxis": {
            "backgroundcolor": "#E5ECF6",
            "gridcolor": "white",
            "gridwidth": 2,
            "linecolor": "white",
            "showbackground": true,
            "ticks": "",
            "zerolinecolor": "white"
           }
          },
          "shapedefaults": {
           "line": {
            "color": "#2a3f5f"
           }
          },
          "ternary": {
           "aaxis": {
            "gridcolor": "white",
            "linecolor": "white",
            "ticks": ""
           },
           "baxis": {
            "gridcolor": "white",
            "linecolor": "white",
            "ticks": ""
           },
           "bgcolor": "#E5ECF6",
           "caxis": {
            "gridcolor": "white",
            "linecolor": "white",
            "ticks": ""
           }
          },
          "title": {
           "x": 0.05
          },
          "xaxis": {
           "automargin": true,
           "gridcolor": "white",
           "linecolor": "white",
           "ticks": "",
           "title": {
            "standoff": 15
           },
           "zerolinecolor": "white",
           "zerolinewidth": 2
          },
          "yaxis": {
           "automargin": true,
           "gridcolor": "white",
           "linecolor": "white",
           "ticks": "",
           "title": {
            "standoff": 15
           },
           "zerolinecolor": "white",
           "zerolinewidth": 2
          }
         }
        },
        "title": {
         "text": "msViper_Rank"
        },
        "xaxis": {
         "anchor": "y",
         "domain": [
          0,
          1
         ],
         "title": {
          "text": "n_genes"
         }
        },
        "yaxis": {
         "anchor": "x",
         "domain": [
          0,
          1
         ],
         "title": {
          "text": "term"
         }
        }
       }
      },
      "text/html": [
       "<div>                            <div id=\"c22583ef-1d55-4bda-841a-c6f5faccafcf\" class=\"plotly-graph-div\" style=\"height:525px; width:100%;\"></div>            <script type=\"text/javascript\">                require([\"plotly\"], function(Plotly) {                    window.PLOTLYENV=window.PLOTLYENV || {};                                    if (document.getElementById(\"c22583ef-1d55-4bda-841a-c6f5faccafcf\")) {                    Plotly.newPlot(                        \"c22583ef-1d55-4bda-841a-c6f5faccafcf\",                        [{\"alignmentgroup\":\"True\",\"customdata\":[[[\"Mybbp1a\",\"Hmga1\",\"Satb1\",\"Atf4\",\"Kdm1a\",\"Ddit3\",\"Elk1\",\"Hif1a\",\"Tfdp1\",\"Thap1\",\"Hira\",\"Zscan21\",\"Tcf3\",\"Erf\",\"Etv4\",\"Srebf1\",\"Pitx1\",\"Srebf2\",\"Gpbp1\",\"Dmrta2\",\"Zfp786\",\"Cebpa\",\"Mitf\",\"Cebpb\",\"Asxl3\",\"Sox4\",\"Zfp341\",\"E2f7\",\"Fosb\",\"Zfp280d\",\"Foxo6\",\"Ybx1\",\"Pbx2\",\"Ss18l1\",\"Egr1\",\"Arnt2\",\"Zfp90\",\"Olig2\",\"Foxk2\",\"Smad2\",\"Nfe2l3\",\"Smarca4\",\"Pgr\",\"Tcfl5\",\"Bach1\",\"Nfil3\",\"Maff\",\"Stat2\",\"Zfp628\",\"Hes6\",\"Hmg20b\",\"E2f5\",\"Nfya\",\"Tbr1\"]],[[\"Zfp296\",\"Satb1\",\"Atf4\",\"Rcor1\",\"Tbl1x\",\"Kdm1a\",\"Ddit3\",\"Elk1\",\"Hif1a\",\"Tfdp1\",\"Thap1\",\"Zfp449\",\"Tcf20\",\"Zscan21\",\"Zfp644\",\"Tcf3\",\"Erf\",\"Etv4\",\"Srebf1\",\"Pitx1\",\"Srebf2\",\"Zfp668\",\"Sox11\",\"Dmrta2\",\"Cebpa\",\"Mitf\",\"Cebpb\",\"Zfp639\",\"Cebpg\",\"E2f7\",\"Fosb\",\"Foxo6\",\"Sall3\",\"Pbx2\",\"Pcgf3\",\"Egr1\",\"Arnt2\",\"Sox30\",\"Taf6\",\"Ctnnb1\",\"Foxk2\",\"Nfe2l3\",\"Smarca4\",\"Bach1\",\"Maff\",\"Elmsan1\",\"Stat2\",\"Zfp628\",\"Tsc22d4\",\"Hes6\",\"Hmgb3\",\"E2f5\",\"Nfya\",\"Tbr1\"]],[[\"Mybbp1a\",\"Hmga1\",\"Atf4\",\"Tbl1x\",\"Drap1\",\"Kdm1a\",\"Ddit3\",\"Elk1\",\"Hif1a\",\"Tfdp1\",\"Tcea1\",\"Tcea2\",\"Tcf20\",\"Zscan21\",\"Tcf3\",\"Srebf1\",\"Etv4\",\"Pitx1\",\"Srebf2\",\"Sox11\",\"Gpbp1\",\"Cebpa\",\"Mitf\",\"Cebpb\",\"Zfp639\",\"Cebpg\",\"Sox4\",\"E2f7\",\"Fosb\",\"Ybx1\",\"Pbx2\",\"Ss18l1\",\"Egr1\",\"Arnt2\",\"Sox30\",\"Ctnnb1\",\"Npm1\",\"Foxk2\",\"Smad2\",\"Smarca4\",\"Pgr\",\"Bach1\",\"Maff\",\"Rnf4\",\"Stat2\",\"Asxl3\",\"Nfya\",\"Tbr1\"]],[[\"Zfp296\",\"Satb1\",\"Atf4\",\"Kdm1a\",\"Ddit3\",\"Hif1a\",\"Insm2\",\"Hnrnpab\",\"Thap1\",\"Chd4\",\"Id1\",\"Id3\",\"Tdg\",\"Zfp41\",\"Tcf3\",\"Erf\",\"Srebf1\",\"Srebf2\",\"Zfp81\",\"Sox11\",\"Cebpa\",\"Mitf\",\"Cebpb\",\"2610008E11Rik\",\"E2f7\",\"Ybx1\",\"Jarid2\",\"Egr1\",\"Sox30\",\"Zfp90\",\"Olig2\",\"Ctnnb1\",\"Nfe2l3\",\"Smarca4\",\"Tcfl5\",\"Bach1\",\"Nfil3\",\"Cbfa2t3\",\"Tsc22d4\",\"Hes6\",\"Insm1\",\"Zfp668\",\"Drap1\"]],[[\"Hmga1\",\"Atf4\",\"Ddit3\",\"Elk1\",\"Hif1a\",\"Tfam\",\"Tfdp1\",\"Tcea1\",\"Hnrnpab\",\"Chd4\",\"Zscan21\",\"Tcf3\",\"Srebf1\",\"Etv4\",\"Srebf2\",\"Sox11\",\"Gpbp1\",\"Cebpa\",\"Mitf\",\"Cebpb\",\"Sox4\",\"Scand1\",\"Ss18l1\",\"Egr1\",\"Arnt2\",\"Zfp90\",\"Taf6\",\"Ctnnb1\",\"Npm1\",\"Foxk2\",\"Smad2\",\"Smarca4\",\"Pgr\",\"Nfil3\",\"Rnf4\",\"Nfya\",\"Tbr1\"]],[[\"Mybbp1a\",\"Hmga1\",\"Rcor1\",\"Kdm1a\",\"Ddit3\",\"Insm2\",\"Chd4\",\"Id1\",\"Id3\",\"Pitx1\",\"Cebpa\",\"Cebpb\",\"Zfp639\",\"Jarid2\",\"Zfp90\",\"Ctnnb1\",\"Foxk2\",\"Smad2\",\"Smarca4\",\"Elmsan1\",\"Nfil3\",\"Cbfa2t3\",\"Tbl1x\",\"Tbr1\"]],[[\"Hmga1\",\"Ctnnb1\",\"Sox11\",\"Hira\",\"Nfil3\",\"Cbfa2t3\",\"Gpbp1\",\"Tcea1\",\"Tcea2\",\"Thap1\",\"Nfya\",\"Mitf\"]],[[\"Cebpb\",\"Ctnnb1\",\"Atf4\",\"Smarca4\",\"Fosb\",\"Nfil3\",\"Kdm1a\",\"Tcf3\",\"Gtf2b\",\"Srebf1\",\"Etv4\",\"Drap1\"]],[[\"Kdm1a\",\"Elk1\",\"Hif1a\",\"Id1\",\"Id3\",\"Zscan21\",\"Zfp41\",\"Tcf3\",\"Erf\",\"Etv4\",\"Sox11\",\"Mitf\",\"Cebpb\",\"Sox4\",\"Jarid2\",\"Ctnnb1\",\"Smad2\",\"Cbfa2t3\",\"Hes6\",\"Insm1\"]],[[\"Cebpb\",\"Ctnnb1\",\"Smad2\",\"Atf4\",\"Rps3\",\"Nfil3\",\"Tcf3\",\"Hif1a\",\"Etv4\",\"Egr1\",\"Mitf\",\"Sox11\",\"Id1\",\"Cebpa\",\"Id3\"]],[[\"Mybbp1a\",\"Cebpg\",\"Npm1\",\"Satb1\",\"Smarca4\",\"Jarid2\",\"Hmg20b\",\"Chd4\",\"Tbr1\"]],[[\"Tdg\",\"Satb1\",\"Rcor1\",\"Hira\",\"Smarca4\",\"Kdm1a\",\"Jarid2\",\"Ss18l1\",\"Hmg20b\",\"Chd4\"]],[[\"Ctnnb1\",\"Sox4\",\"Smarca4\",\"Ddit3\",\"Tcf3\",\"Elk1\",\"Gtf2b\",\"Tbr1\"]],[[\"Cebpg\",\"Kdm1a\",\"Ddit3\",\"Hes6\",\"Id1\",\"Id3\"]],[[\"Rcor1\",\"Tbl1x\",\"Elmsan1\",\"Chd4\",\"Tbr1\"]],[[\"Mybbp1a\",\"Atf4\",\"Nfil3\",\"Egr1\",\"Nfya\",\"Id1\",\"Id3\"]],[[\"Hmga1\",\"Ctnnb1\",\"Npm1\",\"Sox4\",\"Smad2\",\"E2f7\",\"Cbfa2t3\",\"Insm1\",\"Cebpa\",\"Taf6\"]],[[\"Smarca4\",\"Hif1a\",\"Srebf1\",\"Srebf2\",\"Egr1\"]],[[\"Ctnnb1\",\"Npm1\",\"Smad2\",\"Rcor1\",\"Hif1a\",\"Sox11\",\"Chd4\",\"Id1\",\"Id3\"]],[[\"Maff\",\"Egr1\",\"Hmg20b\",\"Sox11\",\"Dmrta2\"]],[[\"Elk1\",\"Rnf4\",\"Egr1\",\"Kdm1a\"]],[[\"Mybbp1a\",\"Atf4\",\"Egr1\",\"Id1\",\"Id3\"]],[[\"Cebpb\",\"Ddit3\",\"Atf4\"]],[[\"Dmrta2\",\"Ctnnb1\",\"Hif1a\",\"Kdm1a\"]],[[\"Atf4\",\"Nfil3\",\"Srebf1\",\"Id1\",\"Id3\"]],[[\"Cebpb\",\"Olig2\",\"Ctnnb1\",\"Insm1\",\"Insm2\",\"Sox11\",\"Tbr1\"]],[[\"Ctnnb1\",\"Ybx1\",\"Hif1a\",\"Hnrnpab\",\"Hmg20b\",\"Insm1\",\"Mitf\",\"Tbr1\"]],[[\"Cebpb\",\"Ctnnb1\",\"Mitf\"]],[[\"Cebpa\",\"Kdm1a\",\"Cbfa2t3\"]],[[\"Cebpb\",\"Atf4\"]],[[\"Smarca4\",\"Ctnnb1\"]],[[\"Ctnnb1\",\"Stat2\",\"Hif1a\",\"Jarid2\",\"Mitf\",\"Cebpa\"]],[[\"Smarca4\",\"Ctnnb1\",\"Tbr1\"]],[[\"Hif1a\",\"Egr1\"]],[[\"Ctnnb1\",\"Smarca4\",\"Ddit3\",\"Kdm1a\",\"Tcf3\"]],[[\"Sox11\",\"Pitx1\",\"Sox4\",\"Smad2\"]],[[\"Ctnnb1\",\"Npm1\",\"Sox4\",\"Smarca4\",\"Pgr\",\"Insm1\",\"Hif1a\",\"Arnt2\",\"Sox11\"]],[[\"Tbpl1\",\"Gtf2b\",\"Taf6\"]],[[\"Sox11\",\"Sox4\"]],[[\"Cebpb\",\"Atf4\"]],[[\"Olig2\",\"Zscan21\",\"Zfp41\",\"Kdm1a\",\"Insm1\",\"Jarid2\",\"Pitx1\",\"Mitf\",\"Hes6\",\"Sox11\",\"Id1\",\"Cebpa\",\"Id3\"]],[[\"Cebpb\",\"Sox11\",\"Ctnnb1\",\"Cebpa\"]],[[\"Ctnnb1\",\"Smad2\",\"Smarca4\",\"Maff\",\"Ybx1\",\"Erf\",\"Arnt2\"]],[[\"Elk1\",\"Smarca4\",\"Jarid2\",\"Cebpa\"]],[[\"Insm1\",\"Ctnnb1\",\"Kdm1a\"]],[[\"Cebpb\",\"Hif1a\",\"Cebpa\"]],[[\"Gtf2b\",\"Ctnnb1\"]],[[\"Sox11\",\"Sox4\"]],[[\"Npm1\",\"Sox4\"]],[[\"Ctnnb1\",\"Egr1\",\"Ddit3\",\"Atf4\"]],[[\"Mybbp1a\",\"Hmga1\",\"Gtf2b\",\"Insm2\",\"Hnrnpab\",\"Thap1\",\"Id1\",\"Id3\",\"Gtf3a\",\"Erf\",\"Gpbp1\",\"Zfp786\",\"Scand1\",\"Ybx1\",\"Ak6\",\"Pbx2\",\"Jarid2\",\"Ss18l1\",\"Arnt2\",\"Sox30\",\"Ctnnb1\",\"Nfe2l3\",\"Smarca4\",\"Nfil3\",\"Cbfa2t3\",\"Hes6\",\"Gcfc2\",\"Nfya\",\"Atf4\",\"Kdm1a\",\"Zfp2\",\"Tdg\",\"Zscan21\",\"Zfp41\",\"Zfp644\",\"Etv4\",\"Sox11\",\"Zfp639\",\"Sox4\",\"Foxo6\",\"Sall3\",\"Zfp90\",\"Olig2\",\"Npm1\",\"Foxk2\",\"Smad2\",\"Pgr\",\"Bach1\",\"Maff\",\"E2f5\",\"Satb1\",\"Rcor1\",\"Tfam\",\"Tfdp1\",\"Tbpl1\",\"Srebf1\",\"Pitx1\",\"Srebf2\",\"Cebpa\",\"Cebpb\",\"Cebpg\",\"Egr1\",\"Taf6\",\"Tcfl5\",\"Rnf4\",\"Stat2\",\"Zfp628\",\"Insm1\",\"Tbl1x\",\"Tbr1\",\"Zfp296\",\"Zfp319\",\"Ddit3\",\"Elk1\",\"Hif1a\",\"Tcea1\",\"Tcea2\",\"Chd4\",\"Hira\",\"Tcf20\",\"Rps3\",\"Tcf3\",\"Dmrta2\",\"Asxl3\",\"Mitf\",\"Zfp341\",\"E2f7\",\"Fosb\",\"Zfp280d\",\"Pcgf3\",\"Tsc22d4\",\"Hmg20b\",\"Hmgb3\",\"Zfp668\",\"Drap1\"]],[[\"Hmga1\",\"Atf4\",\"Drap1\",\"Ddit3\",\"Gtf2b\",\"Hif1a\",\"Tfdp1\",\"Hnrnpab\",\"Chd4\",\"Tcf3\",\"Cebpa\",\"Cebpb\",\"Cebpg\",\"E2f7\",\"Ctnnb1\",\"Nfe2l3\",\"Bach1\",\"Nfil3\",\"Maff\",\"E2f5\",\"Nfya\"]],[[\"Satb1\",\"Atf4\",\"Rcor1\",\"Tbl1x\",\"Kdm1a\",\"Ddit3\",\"Elk1\",\"Gtf2b\",\"Hif1a\",\"Tfdp1\",\"Tcea1\",\"Hnrnpab\",\"Tcea2\",\"Thap1\",\"Chd4\",\"Id1\",\"Hira\",\"Tdg\",\"Tcf20\",\"Gtf3a\",\"Tcf3\",\"Erf\",\"Srebf1\",\"Srebf2\",\"Sox11\",\"Hmg20b\",\"Cebpa\",\"Cebpb\",\"Zfp639\",\"Cebpg\",\"Sox4\",\"Fosb\",\"Foxo6\",\"Ak6\",\"Pcgf3\",\"Jarid2\",\"Ss18l1\",\"Egr1\",\"Arnt2\",\"Sox30\",\"Taf6\",\"Ctnnb1\",\"Npm1\",\"Foxk2\",\"Smad2\",\"Smarca4\",\"Maff\",\"Cbfa2t3\",\"Elmsan1\",\"Rnf4\",\"E2f5\",\"Gcfc2\",\"Nfya\"]],[[\"Olig2\",\"Ctnnb1\",\"Sox4\",\"Smad2\",\"Atf4\",\"Rcor1\",\"E2f7\",\"Elmsan1\",\"Tcf3\",\"Pbx2\",\"Pitx1\",\"Tfdp1\",\"Hif1a\",\"Hes6\",\"Arnt2\",\"E2f5\",\"Tbl1x\",\"Cebpa\"]],[[\"Ctnnb1\",\"Npm1\",\"Ddit3\",\"Gtf2b\",\"Chd4\",\"Nfya\"]],[[\"Cebpb\",\"Ddit3\",\"Cebpa\"]],[[\"Cebpb\",\"Satb1\",\"Smad2\",\"Hira\",\"Smarca4\",\"Kdm1a\",\"Tcf3\",\"Hif1a\",\"Egr1\",\"Chd4\"]],[[\"Ctnnb1\",\"Npm1\",\"Smad2\",\"Atf4\",\"Hira\",\"Kdm1a\",\"Tcf3\",\"Srebf1\",\"Tfam\",\"Hif1a\",\"Mitf\",\"Chd4\",\"Cebpa\",\"Taf6\"]],[[\"Ddit3\",\"Atf4\"]],[[\"Cebpb\",\"Cebpa\"]],[[\"Cebpb\",\"Npm1\",\"Satb1\",\"Smarca4\",\"Cebpa\"]],[[\"Insm2\",\"Rcor1\",\"Insm1\",\"Tbl1x\"]],[[\"Tfdp1\",\"Cebpa\"]],[[\"Smarca4\",\"Ctnnb1\",\"Hif1a\",\"Tcf3\"]],[[\"Tcf20\",\"Satb1\",\"Rnf4\",\"Gtf2b\",\"Hif1a\",\"Ss18l1\",\"Hmg20b\"]],[[\"Tcea1\",\"Gtf2b\",\"Taf6\"]],[[\"Tbpl1\",\"Hmga1\",\"Smarca4\",\"Tcfl5\"]],[[\"Rcor1\",\"Tbl1x\",\"Elmsan1\"]],[[\"Ctnnb1\",\"Atf4\",\"Rps3\",\"Cbfa2t3\",\"Srebf1\",\"Srebf2\"]],[[\"Mybbp1a\",\"Hmga1\",\"Gtf2b\",\"Insm2\",\"Hnrnpab\",\"Thap1\",\"Gtf3a\",\"Erf\",\"Gpbp1\",\"Zfp786\",\"Ybx1\",\"Pbx2\",\"Jarid2\",\"Ss18l1\",\"Arnt2\",\"Sox30\",\"Nfe2l3\",\"Smarca4\",\"Nfil3\",\"Hes6\",\"Gcfc2\",\"Nfya\",\"Atf4\",\"Zfp2\",\"Tdg\",\"Zscan21\",\"Zfp41\",\"Etv4\",\"Sox11\",\"Zfp639\",\"Sox4\",\"Foxo6\",\"Sall3\",\"Zfp90\",\"Olig2\",\"Npm1\",\"Foxk2\",\"Smad2\",\"Pgr\",\"Bach1\",\"Maff\",\"E2f5\",\"Satb1\",\"Tfam\",\"Tfdp1\",\"Tbpl1\",\"Srebf1\",\"Pitx1\",\"Srebf2\",\"Cebpa\",\"Cebpb\",\"Cebpg\",\"Egr1\",\"Taf6\",\"Tcfl5\",\"Rnf4\",\"Stat2\",\"Zfp628\",\"Insm1\",\"Tbl1x\",\"Tbr1\",\"Zfp319\",\"Ddit3\",\"Elk1\",\"Hif1a\",\"Tcea1\",\"Tcea2\",\"Chd4\",\"Tcf20\",\"Rps3\",\"Tcf3\",\"Dmrta2\",\"Asxl3\",\"Mitf\",\"Zfp341\",\"E2f7\",\"Fosb\",\"Zfp280d\",\"Hmg20b\",\"Hmgb3\",\"Zfp668\",\"Drap1\"]],[[\"Zfp296\",\"Hmga1\",\"Zfp319\",\"Satb1\",\"Atf4\",\"Kdm1a\",\"Ddit3\",\"Elk1\",\"Hif1a\",\"Insm2\",\"Thap1\",\"Zfp449\",\"Zscan21\",\"Zfp644\",\"Tcf3\",\"Srebf1\",\"Etv4\",\"Pitx1\",\"Srebf2\",\"Zfp668\",\"Sox11\",\"Dmrta2\",\"Zfp786\",\"Cebpa\",\"Mitf\",\"Cebpb\",\"Zfp639\",\"Cebpg\",\"Sox4\",\"Zfp341\",\"E2f7\",\"Fosb\",\"Zfp280d\",\"Foxo6\",\"Sall3\",\"Pbx2\",\"Egr1\",\"Arnt2\",\"Sox30\",\"Foxk2\",\"Smad2\",\"Nfe2l3\",\"Smarca4\",\"Pgr\",\"Tcfl5\",\"Bach1\",\"Nfil3\",\"Maff\",\"Stat2\",\"Zfp628\",\"Hes6\",\"Insm1\",\"E2f5\",\"Nfya\",\"Tbr1\"]],[[\"Zfp296\",\"Satb1\",\"Atf4\",\"Ddit3\",\"Elk1\",\"Hif1a\",\"Tfdp1\",\"Insm2\",\"Thap1\",\"Tcf20\",\"Tcf3\",\"Erf\",\"Etv4\",\"Srebf1\",\"Pitx1\",\"Srebf2\",\"Sox11\",\"Gpbp1\",\"Cebpa\",\"Mitf\",\"Cebpb\",\"Zfp639\",\"Sox4\",\"E2f7\",\"Fosb\",\"Foxo6\",\"Pbx2\",\"Ss18l1\",\"Egr1\",\"Arnt2\",\"Sox30\",\"Olig2\",\"Foxk2\",\"Smad2\",\"Nfe2l3\",\"Pgr\",\"Bach1\",\"Nfil3\",\"Maff\",\"Stat2\",\"Zfp628\",\"Hes6\",\"Insm1\",\"E2f5\",\"Nfya\",\"Tbr1\"]],[[\"Satb1\",\"Atf4\",\"Elk1\",\"Hif1a\",\"Tfdp1\",\"Zfp449\",\"Zscan21\",\"Zfp644\",\"Tcf3\",\"Erf\",\"Etv4\",\"Srebf1\",\"Pitx1\",\"Srebf2\",\"Zfp668\",\"Sox11\",\"Dmrta2\",\"Cebpa\",\"Mitf\",\"Cebpb\",\"Cebpg\",\"Sox4\",\"Zfp341\",\"E2f7\",\"Fosb\",\"Zfp280d\",\"Foxo6\",\"Sall3\",\"Pbx2\",\"Egr1\",\"Arnt2\",\"Sox30\",\"Olig2\",\"Foxk2\",\"Smad2\",\"Nfe2l3\",\"Tcfl5\",\"Bach1\",\"Maff\",\"Stat2\",\"Hes6\",\"E2f5\",\"Nfya\",\"Tbr1\"]],[[\"Hmga1\",\"Zfp319\",\"Atf4\",\"Ddit3\",\"Elk1\",\"Hif1a\",\"Tfdp1\",\"Zscan21\",\"Tcf3\",\"Srebf1\",\"Etv4\",\"Pitx1\",\"Sox11\",\"Zfp786\",\"Cebpa\",\"Mitf\",\"Cebpb\",\"Zfp639\",\"Cebpg\",\"Sox4\",\"Fosb\",\"Pbx2\",\"Egr1\",\"Arnt2\",\"Sox30\",\"Foxk2\",\"Smad2\",\"Pgr\",\"Bach1\",\"Maff\",\"Zfp628\",\"Nfya\"]],[[\"Mybbp1a\",\"Satb1\",\"Atf4\",\"Ddit3\",\"Elk1\",\"Hif1a\",\"Tfam\",\"Thap1\",\"Tcf3\",\"Erf\",\"Etv4\",\"Srebf1\",\"Srebf2\",\"Dmrta2\",\"Cebpa\",\"Mitf\",\"Cebpb\",\"Cebpg\",\"Fosb\",\"Foxo6\",\"Ybx1\",\"Egr1\",\"Foxk2\",\"Pgr\",\"Maff\",\"E2f5\",\"Nfya\"]],[[\"Satb1\",\"Insm2\",\"Thap1\",\"Zfp41\",\"Tcf3\",\"Erf\",\"Srebf2\",\"Zfp81\",\"Cebpb\",\"2610008E11Rik\",\"E2f7\",\"Sox30\",\"Zfp90\",\"Foxk2\",\"Nfe2l3\",\"Tcfl5\",\"Bach1\",\"Nfil3\",\"Hes6\",\"Insm1\",\"Zfp668\"]],[[\"Zfp296\",\"Atf4\",\"Elk1\",\"Hnrnpab\",\"Zfp449\",\"Zfp41\",\"Srebf1\",\"Etv4\",\"Pitx1\",\"Srebf2\",\"Dmrta2\",\"Cebpb\",\"Cebpg\",\"Sox4\",\"E2f7\",\"Fosb\",\"Ybx1\",\"Egr1\",\"Arnt2\",\"Sox30\",\"Olig2\",\"Tcfl5\",\"Maff\",\"Hes6\"]],[[\"Cebpb\",\"Tdg\",\"Ctnnb1\",\"Npm1\",\"Cebpg\",\"Smad2\",\"Atf4\",\"Satb1\",\"Rps3\",\"Kdm1a\",\"Tcf3\",\"Gtf2b\",\"Pbx2\",\"Tfdp1\",\"Chd4\",\"Tbl1x\",\"Cebpa\"]],[[\"Hmga1\",\"Satb1\",\"Rcor1\",\"Kdm1a\",\"Elk1\",\"Tfam\",\"Chd4\",\"Tcf3\",\"Srebf1\",\"Srebf2\",\"Cebpa\",\"Mitf\",\"Cebpb\",\"Ybx1\",\"Pbx2\",\"Jarid2\",\"Ctnnb1\",\"Npm1\",\"Smad2\",\"Smarca4\",\"Cbfa2t3\",\"Asxl3\",\"Tbl1x\"]],[[\"Mybbp1a\",\"Zfp296\",\"Atf4\",\"Rcor1\",\"Tbl1x\",\"Drap1\",\"Kdm1a\",\"Ddit3\",\"Elk1\",\"Gtf2b\",\"Hif1a\",\"Tfdp1\",\"Tcea1\",\"Hnrnpab\",\"Tbpl1\",\"Chd4\",\"Id1\",\"Hira\",\"Id3\",\"Tdg\",\"Rps3\",\"Tcf3\",\"Srebf1\",\"Pitx1\",\"Srebf2\",\"Gpbp1\",\"Dmrta2\",\"Cebpa\",\"Mitf\",\"Cebpb\",\"Cebpg\",\"Sox4\",\"E2f7\",\"Ybx1\",\"Pbx2\",\"Jarid2\",\"Pcgf3\",\"Arnt2\",\"Zfp90\",\"Taf6\",\"Olig2\",\"Ctnnb1\",\"Npm1\",\"Foxk2\",\"Smad2\",\"Smarca4\",\"Pgr\",\"Bach1\",\"Nfil3\",\"Cbfa2t3\",\"Rnf4\",\"Stat2\",\"Zfp628\",\"Tsc22d4\",\"E2f5\",\"Hmg20b\",\"Insm1\",\"Nfya\"]],[[\"Cebpb\",\"Ctnnb1\",\"Smad2\",\"Atf4\",\"Hira\",\"Kdm1a\",\"Ddit3\",\"Elk1\",\"Tcf3\",\"Hif1a\",\"Pitx1\",\"Tfdp1\",\"Hes6\",\"Chd4\",\"Cebpa\"]],[[\"Cebpb\",\"Zfp639\",\"Tcf20\",\"Sox4\",\"Foxk2\",\"Atf4\",\"Tbl1x\",\"Ddit3\",\"Tcf3\",\"Elk1\",\"Tfam\",\"Srebf2\",\"Egr1\",\"Sox11\",\"Nfya\",\"Cebpa\"]],[[\"Mybbp1a\",\"Zfp296\",\"Ctnnb1\",\"Smarca4\",\"Drap1\",\"Kdm1a\",\"Rnf4\",\"Ddit3\",\"Jarid2\",\"Chd4\",\"Cebpa\"]],[[\"Olig2\",\"Tcf3\",\"Srebf1\",\"Srebf2\",\"Hif1a\",\"Hes6\",\"Arnt2\",\"E2f5\",\"Id1\",\"Mitf\",\"Id3\"]],[[\"Cebpb\",\"Satb1\",\"Atf4\",\"E2f7\",\"Smarca4\",\"Rps3\",\"Nfil3\",\"Pbx2\",\"Srebf1\",\"Tfdp1\",\"Egr1\",\"Hes6\",\"Hif1a\"]],[[\"Hmga1\",\"Ctnnb1\",\"Smarca4\",\"Srebf1\",\"Chd4\",\"Nfya\"]],[[\"Mybbp1a\",\"Rcor1\",\"Smarca4\",\"Drap1\",\"Elmsan1\",\"Kdm1a\",\"Cbfa2t3\",\"Insm2\",\"Tbl1x\"]],[[\"Cebpb\",\"Atf4\",\"Ddit3\",\"Tcf3\",\"Hif1a\",\"Hes6\",\"Arnt2\",\"Drap1\",\"Cebpa\",\"Taf6\"]],[[\"Zfp296\",\"Zfp319\",\"Gtf2b\",\"Zfp2\",\"Tcea1\",\"Insm2\",\"Tcea2\",\"Thap1\",\"Chd4\",\"Tcf20\",\"Gtf3a\",\"Zscan21\",\"Zfp41\",\"Dmrta2\",\"Zfp786\",\"Zfp639\",\"Zfp280d\",\"Sall3\",\"Pcgf3\",\"Egr1\",\"Zfp90\",\"Foxk2\",\"Smad2\",\"Pgr\",\"Cbfa2t3\",\"Rnf4\",\"Zfp628\",\"Asxl3\",\"Insm1\",\"Zfp668\"]],[[\"Mybbp1a\",\"Tcf3\",\"Hif1a\",\"Srebf2\",\"Mitf\"]],[[\"Tbpl1\",\"Gtf2b\",\"Cebpb\",\"Egr1\"]],[[\"Tfdp1\",\"Id1\",\"Ddit3\",\"Id3\"]],[[\"Hmga1\",\"Ctnnb1\",\"Npm1\",\"Tcf20\",\"Smarca4\",\"Ss18l1\",\"Drap1\",\"Taf6\"]],[[\"Tbpl1\",\"Gtf2b\",\"Drap1\",\"Taf6\"]],[[\"Npm1\",\"Smarca4\",\"Kdm1a\",\"Ybx1\",\"Hif1a\"]],[[\"Hmga1\",\"E2f7\",\"Tcf3\",\"Tfdp1\",\"Sox11\"]],[[\"Zfp341\",\"Hif1a\",\"E2f5\"]],[[\"Tdg\",\"Cebpg\",\"Smad2\",\"Fosb\",\"Elk1\",\"Egr1\"]],[[\"Gtf2b\",\"Drap1\",\"Rnf4\"]],[[\"Cebpb\",\"Olig2\",\"Npm1\",\"Smad2\",\"Atf4\",\"E2f7\",\"Dmrta2\",\"Pgr\",\"Drap1\",\"Nfil3\",\"Rnf4\",\"Stat2\",\"Ddit3\",\"Tcf3\",\"Thap1\",\"Tbl1x\",\"Id1\",\"Cebpa\"]],[[\"Cebpb\",\"Hif1a\",\"Insm1\",\"Chd4\",\"Cebpa\"]],[[\"Gtf2b\",\"Egr1\",\"Kdm1a\",\"Atf4\"]],[[\"Smarca4\",\"Kdm1a\",\"Rnf4\"]],[[\"Hmga1\",\"Ctnnb1\",\"Npm1\",\"Rcor1\",\"Rps3\",\"Pgr\",\"Kdm1a\",\"Hif1a\"]],[[\"Npm1\",\"Hira\",\"Smarca4\",\"Chd4\",\"Tbl1x\"]],[[\"Cebpb\",\"Insm1\",\"Cebpa\",\"Tbr1\"]]],\"hovertemplate\":\"n_genes=%{x}<br>term=%{y}<br>study_genes=%{customdata[0]}<extra></extra>\",\"legendgroup\":\"\",\"marker\":{\"color\":\"#636efa\",\"pattern\":{\"shape\":\"\"}},\"name\":\"\",\"offsetgroup\":\"\",\"orientation\":\"h\",\"showlegend\":false,\"textposition\":\"auto\",\"x\":[54,54,48,43,37,24,12,12,20,15,9,10,8,6,5,7,10,5,9,5,4,5,3,4,5,7,8,3,3,2,2,6,3,2,5,4,9,3,2,2,13,4,7,4,3,3,2,2,2,4,95,21,53,18,6,3,10,14,2,2,5,4,2,4,7,3,4,3,6,82,55,46,44,32,27,21,24,17,23,58,15,16,11,11,13,6,9,10,30,5,4,4,8,4,5,5,3,6,3,18,5,4,3,8,5,4],\"xaxis\":\"x\",\"y\":[\"regulation of DNA-templated transcription\",\"regulation of transcription by RNA polymerase II\",\"positive regulation of transcription by RNA polymerase II\",\"negative regulation of transcription by RNA polymerase II\",\"positive regulation of DNA-templated transcription\",\"negative regulation of DNA-templated transcription\",\"DNA-templated transcription\",\"transcription by RNA polymerase II\",\"cell differentiation\",\"positive regulation of gene expression\",\"chromatin remodeling\",\"chromatin organization\",\"gene expression\",\"negative regulation of DNA-binding transcription factor activity\",\"histone deacetylation\",\"rhythmic process\",\"negative regulation of cell population proliferation\",\"positive regulation of miRNA transcription\",\"negative regulation of gene expression\",\"skeletal muscle cell differentiation\",\"cellular response to gamma radiation\",\"circadian regulation of gene expression\",\"positive regulation of transcription from RNA polymerase II promoter in response to endoplasmic reticulum stress\",\"positive regulation of neuroblast proliferation\",\"circadian rhythm\",\"neuron differentiation\",\"regulation of gene expression\",\"regulation of osteoclast differentiation\",\"granulocyte differentiation\",\"positive regulation of sodium-dependent phosphate transport\",\"glial cell fate determination\",\"regulation of cell population proliferation\",\"hindbrain development\",\"positive regulation of hormone biosynthetic process\",\"positive regulation of DNA-binding transcription factor activity\",\"anatomical structure morphogenesis\",\"positive regulation of cell population proliferation\",\"DNA-templated transcription initiation\",\"cardiac ventricle formation\",\"positive regulation of biomineral tissue development\",\"multicellular organism development\",\"positive regulation of osteoblast differentiation\",\"in utero embryonic development\",\"liver development\",\"positive regulation of neural precursor cell proliferation\",\"embryonic placenta development\",\"positive regulation of core promoter binding\",\"noradrenergic neuron differentiation\",\"regulation of DNA damage response, signal transduction by p53 class mediator\",\"positive regulation of neuron apoptotic process\",\"nucleus\",\"RNA polymerase II transcription regulator complex\",\"nucleoplasm\",\"transcription regulator complex\",\"protein-DNA complex\",\"CHOP-C/EBP complex\",\"chromatin\",\"protein-containing complex\",\"CHOP-ATF4 complex\",\"C/EBP complex\",\"nuclear matrix\",\"transcription repressor complex\",\"Rb-E2F complex\",\"euchromatin\",\"nuclear body\",\"transcription factor TFIID complex\",\"male germ cell nucleus\",\"histone deacetylase complex\",\"membrane\",\"DNA binding\",\"RNA polymerase II cis-regulatory region sequence-specific DNA binding\",\"DNA-binding transcription factor activity\",\"DNA-binding transcription factor activity, RNA polymerase II-specific\",\"DNA-binding transcription activator activity, RNA polymerase II-specific\",\"sequence-specific DNA binding\",\"DNA-binding transcription repressor activity, RNA polymerase II-specific\",\"sequence-specific double-stranded DNA binding\",\"DNA-binding transcription factor binding\",\"chromatin binding\",\"protein binding\",\"RNA polymerase II-specific DNA-binding transcription factor binding\",\"transcription cis-regulatory region binding\",\"transcription factor binding\",\"protein dimerization activity\",\"RNA polymerase II transcription regulatory region sequence-specific DNA binding\",\"transcription coregulator binding\",\"transcription corepressor activity\",\"protein heterodimerization activity\",\"metal ion binding\",\"E-box binding\",\"RNA polymerase II core promoter sequence-specific DNA binding\",\"transcription regulator inhibitor activity\",\"transcription coactivator activity\",\"RNA polymerase II general transcription initiation factor activity\",\"p53 binding\",\"cis-regulatory region sequence-specific DNA binding\",\"DNA-binding transcription activator activity\",\"double-stranded DNA binding\",\"TBP-class protein binding\",\"identical protein binding\",\"histone deacetylase binding\",\"promoter-specific chromatin binding\",\"nuclear androgen receptor binding\",\"enzyme binding\",\"histone binding\",\"chromatin DNA binding\"],\"yaxis\":\"y\",\"type\":\"bar\"}],                        {\"template\":{\"data\":{\"bar\":[{\"error_x\":{\"color\":\"#2a3f5f\"},\"error_y\":{\"color\":\"#2a3f5f\"},\"marker\":{\"line\":{\"color\":\"#E5ECF6\",\"width\":0.5},\"pattern\":{\"fillmode\":\"overlay\",\"size\":10,\"solidity\":0.2}},\"type\":\"bar\"}],\"barpolar\":[{\"marker\":{\"line\":{\"color\":\"#E5ECF6\",\"width\":0.5},\"pattern\":{\"fillmode\":\"overlay\",\"size\":10,\"solidity\":0.2}},\"type\":\"barpolar\"}],\"carpet\":[{\"aaxis\":{\"endlinecolor\":\"#2a3f5f\",\"gridcolor\":\"white\",\"linecolor\":\"white\",\"minorgridcolor\":\"white\",\"startlinecolor\":\"#2a3f5f\"},\"baxis\":{\"endlinecolor\":\"#2a3f5f\",\"gridcolor\":\"white\",\"linecolor\":\"white\",\"minorgridcolor\":\"white\",\"startlinecolor\":\"#2a3f5f\"},\"type\":\"carpet\"}],\"choropleth\":[{\"colorbar\":{\"outlinewidth\":0,\"ticks\":\"\"},\"type\":\"choropleth\"}],\"contour\":[{\"colorbar\":{\"outlinewidth\":0,\"ticks\":\"\"},\"colorscale\":[[0.0,\"#0d0887\"],[0.1111111111111111,\"#46039f\"],[0.2222222222222222,\"#7201a8\"],[0.3333333333333333,\"#9c179e\"],[0.4444444444444444,\"#bd3786\"],[0.5555555555555556,\"#d8576b\"],[0.6666666666666666,\"#ed7953\"],[0.7777777777777778,\"#fb9f3a\"],[0.8888888888888888,\"#fdca26\"],[1.0,\"#f0f921\"]],\"type\":\"contour\"}],\"contourcarpet\":[{\"colorbar\":{\"outlinewidth\":0,\"ticks\":\"\"},\"type\":\"contourcarpet\"}],\"heatmap\":[{\"colorbar\":{\"outlinewidth\":0,\"ticks\":\"\"},\"colorscale\":[[0.0,\"#0d0887\"],[0.1111111111111111,\"#46039f\"],[0.2222222222222222,\"#7201a8\"],[0.3333333333333333,\"#9c179e\"],[0.4444444444444444,\"#bd3786\"],[0.5555555555555556,\"#d8576b\"],[0.6666666666666666,\"#ed7953\"],[0.7777777777777778,\"#fb9f3a\"],[0.8888888888888888,\"#fdca26\"],[1.0,\"#f0f921\"]],\"type\":\"heatmap\"}],\"heatmapgl\":[{\"colorbar\":{\"outlinewidth\":0,\"ticks\":\"\"},\"colorscale\":[[0.0,\"#0d0887\"],[0.1111111111111111,\"#46039f\"],[0.2222222222222222,\"#7201a8\"],[0.3333333333333333,\"#9c179e\"],[0.4444444444444444,\"#bd3786\"],[0.5555555555555556,\"#d8576b\"],[0.6666666666666666,\"#ed7953\"],[0.7777777777777778,\"#fb9f3a\"],[0.8888888888888888,\"#fdca26\"],[1.0,\"#f0f921\"]],\"type\":\"heatmapgl\"}],\"histogram\":[{\"marker\":{\"pattern\":{\"fillmode\":\"overlay\",\"size\":10,\"solidity\":0.2}},\"type\":\"histogram\"}],\"histogram2d\":[{\"colorbar\":{\"outlinewidth\":0,\"ticks\":\"\"},\"colorscale\":[[0.0,\"#0d0887\"],[0.1111111111111111,\"#46039f\"],[0.2222222222222222,\"#7201a8\"],[0.3333333333333333,\"#9c179e\"],[0.4444444444444444,\"#bd3786\"],[0.5555555555555556,\"#d8576b\"],[0.6666666666666666,\"#ed7953\"],[0.7777777777777778,\"#fb9f3a\"],[0.8888888888888888,\"#fdca26\"],[1.0,\"#f0f921\"]],\"type\":\"histogram2d\"}],\"histogram2dcontour\":[{\"colorbar\":{\"outlinewidth\":0,\"ticks\":\"\"},\"colorscale\":[[0.0,\"#0d0887\"],[0.1111111111111111,\"#46039f\"],[0.2222222222222222,\"#7201a8\"],[0.3333333333333333,\"#9c179e\"],[0.4444444444444444,\"#bd3786\"],[0.5555555555555556,\"#d8576b\"],[0.6666666666666666,\"#ed7953\"],[0.7777777777777778,\"#fb9f3a\"],[0.8888888888888888,\"#fdca26\"],[1.0,\"#f0f921\"]],\"type\":\"histogram2dcontour\"}],\"mesh3d\":[{\"colorbar\":{\"outlinewidth\":0,\"ticks\":\"\"},\"type\":\"mesh3d\"}],\"parcoords\":[{\"line\":{\"colorbar\":{\"outlinewidth\":0,\"ticks\":\"\"}},\"type\":\"parcoords\"}],\"pie\":[{\"automargin\":true,\"type\":\"pie\"}],\"scatter\":[{\"marker\":{\"colorbar\":{\"outlinewidth\":0,\"ticks\":\"\"}},\"type\":\"scatter\"}],\"scatter3d\":[{\"line\":{\"colorbar\":{\"outlinewidth\":0,\"ticks\":\"\"}},\"marker\":{\"colorbar\":{\"outlinewidth\":0,\"ticks\":\"\"}},\"type\":\"scatter3d\"}],\"scattercarpet\":[{\"marker\":{\"colorbar\":{\"outlinewidth\":0,\"ticks\":\"\"}},\"type\":\"scattercarpet\"}],\"scattergeo\":[{\"marker\":{\"colorbar\":{\"outlinewidth\":0,\"ticks\":\"\"}},\"type\":\"scattergeo\"}],\"scattergl\":[{\"marker\":{\"colorbar\":{\"outlinewidth\":0,\"ticks\":\"\"}},\"type\":\"scattergl\"}],\"scattermapbox\":[{\"marker\":{\"colorbar\":{\"outlinewidth\":0,\"ticks\":\"\"}},\"type\":\"scattermapbox\"}],\"scatterpolar\":[{\"marker\":{\"colorbar\":{\"outlinewidth\":0,\"ticks\":\"\"}},\"type\":\"scatterpolar\"}],\"scatterpolargl\":[{\"marker\":{\"colorbar\":{\"outlinewidth\":0,\"ticks\":\"\"}},\"type\":\"scatterpolargl\"}],\"scatterternary\":[{\"marker\":{\"colorbar\":{\"outlinewidth\":0,\"ticks\":\"\"}},\"type\":\"scatterternary\"}],\"surface\":[{\"colorbar\":{\"outlinewidth\":0,\"ticks\":\"\"},\"colorscale\":[[0.0,\"#0d0887\"],[0.1111111111111111,\"#46039f\"],[0.2222222222222222,\"#7201a8\"],[0.3333333333333333,\"#9c179e\"],[0.4444444444444444,\"#bd3786\"],[0.5555555555555556,\"#d8576b\"],[0.6666666666666666,\"#ed7953\"],[0.7777777777777778,\"#fb9f3a\"],[0.8888888888888888,\"#fdca26\"],[1.0,\"#f0f921\"]],\"type\":\"surface\"}],\"table\":[{\"cells\":{\"fill\":{\"color\":\"#EBF0F8\"},\"line\":{\"color\":\"white\"}},\"header\":{\"fill\":{\"color\":\"#C8D4E3\"},\"line\":{\"color\":\"white\"}},\"type\":\"table\"}]},\"layout\":{\"annotationdefaults\":{\"arrowcolor\":\"#2a3f5f\",\"arrowhead\":0,\"arrowwidth\":1},\"autotypenumbers\":\"strict\",\"coloraxis\":{\"colorbar\":{\"outlinewidth\":0,\"ticks\":\"\"}},\"colorscale\":{\"diverging\":[[0,\"#8e0152\"],[0.1,\"#c51b7d\"],[0.2,\"#de77ae\"],[0.3,\"#f1b6da\"],[0.4,\"#fde0ef\"],[0.5,\"#f7f7f7\"],[0.6,\"#e6f5d0\"],[0.7,\"#b8e186\"],[0.8,\"#7fbc41\"],[0.9,\"#4d9221\"],[1,\"#276419\"]],\"sequential\":[[0.0,\"#0d0887\"],[0.1111111111111111,\"#46039f\"],[0.2222222222222222,\"#7201a8\"],[0.3333333333333333,\"#9c179e\"],[0.4444444444444444,\"#bd3786\"],[0.5555555555555556,\"#d8576b\"],[0.6666666666666666,\"#ed7953\"],[0.7777777777777778,\"#fb9f3a\"],[0.8888888888888888,\"#fdca26\"],[1.0,\"#f0f921\"]],\"sequentialminus\":[[0.0,\"#0d0887\"],[0.1111111111111111,\"#46039f\"],[0.2222222222222222,\"#7201a8\"],[0.3333333333333333,\"#9c179e\"],[0.4444444444444444,\"#bd3786\"],[0.5555555555555556,\"#d8576b\"],[0.6666666666666666,\"#ed7953\"],[0.7777777777777778,\"#fb9f3a\"],[0.8888888888888888,\"#fdca26\"],[1.0,\"#f0f921\"]]},\"colorway\":[\"#636efa\",\"#EF553B\",\"#00cc96\",\"#ab63fa\",\"#FFA15A\",\"#19d3f3\",\"#FF6692\",\"#B6E880\",\"#FF97FF\",\"#FECB52\"],\"font\":{\"color\":\"#2a3f5f\"},\"geo\":{\"bgcolor\":\"white\",\"lakecolor\":\"white\",\"landcolor\":\"#E5ECF6\",\"showlakes\":true,\"showland\":true,\"subunitcolor\":\"white\"},\"hoverlabel\":{\"align\":\"left\"},\"hovermode\":\"closest\",\"mapbox\":{\"style\":\"light\"},\"paper_bgcolor\":\"white\",\"plot_bgcolor\":\"#E5ECF6\",\"polar\":{\"angularaxis\":{\"gridcolor\":\"white\",\"linecolor\":\"white\",\"ticks\":\"\"},\"bgcolor\":\"#E5ECF6\",\"radialaxis\":{\"gridcolor\":\"white\",\"linecolor\":\"white\",\"ticks\":\"\"}},\"scene\":{\"xaxis\":{\"backgroundcolor\":\"#E5ECF6\",\"gridcolor\":\"white\",\"gridwidth\":2,\"linecolor\":\"white\",\"showbackground\":true,\"ticks\":\"\",\"zerolinecolor\":\"white\"},\"yaxis\":{\"backgroundcolor\":\"#E5ECF6\",\"gridcolor\":\"white\",\"gridwidth\":2,\"linecolor\":\"white\",\"showbackground\":true,\"ticks\":\"\",\"zerolinecolor\":\"white\"},\"zaxis\":{\"backgroundcolor\":\"#E5ECF6\",\"gridcolor\":\"white\",\"gridwidth\":2,\"linecolor\":\"white\",\"showbackground\":true,\"ticks\":\"\",\"zerolinecolor\":\"white\"}},\"shapedefaults\":{\"line\":{\"color\":\"#2a3f5f\"}},\"ternary\":{\"aaxis\":{\"gridcolor\":\"white\",\"linecolor\":\"white\",\"ticks\":\"\"},\"baxis\":{\"gridcolor\":\"white\",\"linecolor\":\"white\",\"ticks\":\"\"},\"bgcolor\":\"#E5ECF6\",\"caxis\":{\"gridcolor\":\"white\",\"linecolor\":\"white\",\"ticks\":\"\"}},\"title\":{\"x\":0.05},\"xaxis\":{\"automargin\":true,\"gridcolor\":\"white\",\"linecolor\":\"white\",\"ticks\":\"\",\"title\":{\"standoff\":15},\"zerolinecolor\":\"white\",\"zerolinewidth\":2},\"yaxis\":{\"automargin\":true,\"gridcolor\":\"white\",\"linecolor\":\"white\",\"ticks\":\"\",\"title\":{\"standoff\":15},\"zerolinecolor\":\"white\",\"zerolinewidth\":2}}},\"xaxis\":{\"anchor\":\"y\",\"domain\":[0.0,1.0],\"title\":{\"text\":\"n_genes\"}},\"yaxis\":{\"anchor\":\"x\",\"domain\":[0.0,1.0],\"title\":{\"text\":\"term\"}},\"legend\":{\"tracegroupgap\":0},\"title\":{\"text\":\"msViper_Rank\"},\"barmode\":\"relative\",\"plot_bgcolor\":\"rgba(0, 0, 0, 0)\"},                        {\"responsive\": true}                    ).then(function(){\n",
       "                            \n",
       "var gd = document.getElementById('c22583ef-1d55-4bda-841a-c6f5faccafcf');\n",
       "var x = new MutationObserver(function (mutations, observer) {{\n",
       "        var display = window.getComputedStyle(gd).display;\n",
       "        if (!display || display === 'none') {{\n",
       "            console.log([gd, 'removed!']);\n",
       "            Plotly.purge(gd);\n",
       "            observer.disconnect();\n",
       "        }}\n",
       "}});\n",
       "\n",
       "// Listen for the removal of the full notebook cells\n",
       "var notebookContainer = gd.closest('#notebook-container');\n",
       "if (notebookContainer) {{\n",
       "    x.observe(notebookContainer, {childList: true});\n",
       "}}\n",
       "\n",
       "// Listen for the clearing of the current output cell\n",
       "var outputEl = gd.closest('.output');\n",
       "if (outputEl) {{\n",
       "    x.observe(outputEl, {childList: true});\n",
       "}}\n",
       "\n",
       "                        })                };                });            </script>        </div>"
      ]
     },
     "metadata": {},
     "output_type": "display_data"
    }
   ],
   "source": [
    "\n",
    "import plotly.express as px\n",
    "\n",
    "for i in df.keys():\n",
    "    fig = px.bar(df[i], x='n_genes', y='term', orientation='h',\n",
    "                hover_data=['study_genes'],\n",
    "                title = i).update_layout(\n",
    "#                                 template='plotly_dark',\n",
    "                                plot_bgcolor='rgba(0, 0, 0, 0)',\n",
    "#                                 paper_bgcolor='rgba(0, 0, 0, 0)',\n",
    "                            )\n",
    "    fig.show()\n",
    "    fig.write_html(\"../output/GO_analysis/GO_ngenes_\"+i+\"_.html\")"
   ]
  },
  {
   "cell_type": "code",
   "execution_count": 111,
   "id": "f88784eb",
   "metadata": {},
   "outputs": [],
   "source": [
    "import GE_functions"
   ]
  },
  {
   "cell_type": "code",
   "execution_count": 116,
   "id": "82cb5edf",
   "metadata": {},
   "outputs": [],
   "source": [
    "\"\"\"\n",
    "PCA based on the 'term' from GO analysis \n",
    "\"\"\""
   ]
  },
  {
   "cell_type": "code",
   "execution_count": 271,
   "id": "51fe19bc",
   "metadata": {},
   "outputs": [],
   "source": [
    "for i in df.keys():\n",
    "    df[i]['data'] = i \n",
    "new_df = pd.concat([df['mse_rank_log1p_ALL_Olfr_rtp1'],\n",
    "           df['mse_rank_log1p_normExp_ALL_Olfr_rtp1'], \n",
    "           df['mse_rank_normalized_ALL_Olfr_rtp1'], \n",
    "           df['mse_rank_normalized_normExp_ALL_Olfr_rtp1'], \n",
    "           df['human_cov_log2FC_rank'], \n",
    "           df['human_cov_padj_rank'], \n",
    "           df['bkRNA_Rank'], \n",
    "           df['msViper_Rank']])"
   ]
  },
  {
   "cell_type": "code",
   "execution_count": 272,
   "id": "49402778",
   "metadata": {},
   "outputs": [],
   "source": [
    "temp = new_df[['term','n_genes', 'data']].groupby(['term', 'data'], as_index=False).sum()\n",
    "temp = temp.pivot(index='term', columns='data', values='n_genes').fillna(0).transpose()\n",
    "temp = temp.drop('msViper_Rank')"
   ]
  },
  {
   "cell_type": "code",
   "execution_count": 273,
   "id": "7a252039",
   "metadata": {},
   "outputs": [],
   "source": [
    "from sklearn.decomposition import PCA\n",
    "\n",
    "pca = PCA(n_components=2)\n",
    "principal_components = pca.fit_transform(temp) \n",
    "\n",
    "variance_ratio = pca.explained_variance_ratio_\n",
    "pc_label = []\n",
    "for i, var in enumerate(variance_ratio):\n",
    "    pc_label.append(\"PC{}_({}%)\".format(i, round(var*100, 2)))\n",
    "    \n",
    "pca_df = pd.DataFrame(\n",
    "    data=principal_components,\n",
    "    columns=pc_label,\n",
    "    index=temp.index\n",
    ")\n",
    "# Labels where dataset is from \n",
    "pca_df.loc[pca_df.index.str.contains('mse_rank'), 'from']  = 'Brann'\n",
    "pca_df.loc[pca_df.index.str.contains('msViper|bkRNA'), 'from'] = 'Shayya'\n",
    "pca_df.loc[pca_df.index.str.contains('human_cov'), 'from']  = 'Zazhytska'"
   ]
  },
  {
   "cell_type": "code",
   "execution_count": 274,
   "id": "014c7ce8",
   "metadata": {},
   "outputs": [
    {
     "data": {
      "application/vnd.plotly.v1+json": {
       "config": {
        "plotlyServerURL": "https://plot.ly"
       },
       "data": [
        {
         "hovertemplate": "from=Shayya<br>PC0_(56.84%)=%{x}<br>PC1_(28.61%)=%{y}<extra></extra>",
         "legendgroup": "Shayya",
         "marker": {
          "color": "#636efa",
          "size": 15,
          "symbol": "circle"
         },
         "mode": "markers",
         "name": "Shayya",
         "orientation": "v",
         "showlegend": true,
         "type": "scatter",
         "x": [
          -27.71208155071577
         ],
         "xaxis": "x",
         "y": [
          -30.48841805986279
         ],
         "yaxis": "y"
        },
        {
         "hovertemplate": "from=Zazhytska<br>PC0_(56.84%)=%{x}<br>PC1_(28.61%)=%{y}<extra></extra>",
         "legendgroup": "Zazhytska",
         "marker": {
          "color": "#EF553B",
          "size": 15,
          "symbol": "circle"
         },
         "mode": "markers",
         "name": "Zazhytska",
         "orientation": "v",
         "showlegend": true,
         "type": "scatter",
         "x": [
          -37.81531983007042,
          -37.815319830070415
         ],
         "xaxis": "x",
         "y": [
          -7.356083048513307,
          -7.356083048513305
         ],
         "yaxis": "y"
        },
        {
         "hovertemplate": "from=Brann<br>PC0_(56.84%)=%{x}<br>PC1_(28.61%)=%{y}<extra></extra>",
         "legendgroup": "Brann",
         "marker": {
          "color": "#00cc96",
          "size": 15,
          "symbol": "circle"
         },
         "mode": "markers",
         "name": "Brann",
         "orientation": "v",
         "showlegend": true,
         "type": "scatter",
         "x": [
          55.58314426621978,
          -13.748515742453314,
          48.33333006535955,
          13.174762621730626
         ],
         "xaxis": "x",
         "y": [
          4.58494886329751,
          39.606008949030524,
          -31.99409133491028,
          33.003717679471634
         ],
         "yaxis": "y"
        }
       ],
       "layout": {
        "legend": {
         "title": {
          "text": "from"
         },
         "tracegroupgap": 0
        },
        "margin": {
         "t": 60
        },
        "template": {
         "data": {
          "bar": [
           {
            "error_x": {
             "color": "#2a3f5f"
            },
            "error_y": {
             "color": "#2a3f5f"
            },
            "marker": {
             "line": {
              "color": "#E5ECF6",
              "width": 0.5
             },
             "pattern": {
              "fillmode": "overlay",
              "size": 10,
              "solidity": 0.2
             }
            },
            "type": "bar"
           }
          ],
          "barpolar": [
           {
            "marker": {
             "line": {
              "color": "#E5ECF6",
              "width": 0.5
             },
             "pattern": {
              "fillmode": "overlay",
              "size": 10,
              "solidity": 0.2
             }
            },
            "type": "barpolar"
           }
          ],
          "carpet": [
           {
            "aaxis": {
             "endlinecolor": "#2a3f5f",
             "gridcolor": "white",
             "linecolor": "white",
             "minorgridcolor": "white",
             "startlinecolor": "#2a3f5f"
            },
            "baxis": {
             "endlinecolor": "#2a3f5f",
             "gridcolor": "white",
             "linecolor": "white",
             "minorgridcolor": "white",
             "startlinecolor": "#2a3f5f"
            },
            "type": "carpet"
           }
          ],
          "choropleth": [
           {
            "colorbar": {
             "outlinewidth": 0,
             "ticks": ""
            },
            "type": "choropleth"
           }
          ],
          "contour": [
           {
            "colorbar": {
             "outlinewidth": 0,
             "ticks": ""
            },
            "colorscale": [
             [
              0,
              "#0d0887"
             ],
             [
              0.1111111111111111,
              "#46039f"
             ],
             [
              0.2222222222222222,
              "#7201a8"
             ],
             [
              0.3333333333333333,
              "#9c179e"
             ],
             [
              0.4444444444444444,
              "#bd3786"
             ],
             [
              0.5555555555555556,
              "#d8576b"
             ],
             [
              0.6666666666666666,
              "#ed7953"
             ],
             [
              0.7777777777777778,
              "#fb9f3a"
             ],
             [
              0.8888888888888888,
              "#fdca26"
             ],
             [
              1,
              "#f0f921"
             ]
            ],
            "type": "contour"
           }
          ],
          "contourcarpet": [
           {
            "colorbar": {
             "outlinewidth": 0,
             "ticks": ""
            },
            "type": "contourcarpet"
           }
          ],
          "heatmap": [
           {
            "colorbar": {
             "outlinewidth": 0,
             "ticks": ""
            },
            "colorscale": [
             [
              0,
              "#0d0887"
             ],
             [
              0.1111111111111111,
              "#46039f"
             ],
             [
              0.2222222222222222,
              "#7201a8"
             ],
             [
              0.3333333333333333,
              "#9c179e"
             ],
             [
              0.4444444444444444,
              "#bd3786"
             ],
             [
              0.5555555555555556,
              "#d8576b"
             ],
             [
              0.6666666666666666,
              "#ed7953"
             ],
             [
              0.7777777777777778,
              "#fb9f3a"
             ],
             [
              0.8888888888888888,
              "#fdca26"
             ],
             [
              1,
              "#f0f921"
             ]
            ],
            "type": "heatmap"
           }
          ],
          "heatmapgl": [
           {
            "colorbar": {
             "outlinewidth": 0,
             "ticks": ""
            },
            "colorscale": [
             [
              0,
              "#0d0887"
             ],
             [
              0.1111111111111111,
              "#46039f"
             ],
             [
              0.2222222222222222,
              "#7201a8"
             ],
             [
              0.3333333333333333,
              "#9c179e"
             ],
             [
              0.4444444444444444,
              "#bd3786"
             ],
             [
              0.5555555555555556,
              "#d8576b"
             ],
             [
              0.6666666666666666,
              "#ed7953"
             ],
             [
              0.7777777777777778,
              "#fb9f3a"
             ],
             [
              0.8888888888888888,
              "#fdca26"
             ],
             [
              1,
              "#f0f921"
             ]
            ],
            "type": "heatmapgl"
           }
          ],
          "histogram": [
           {
            "marker": {
             "pattern": {
              "fillmode": "overlay",
              "size": 10,
              "solidity": 0.2
             }
            },
            "type": "histogram"
           }
          ],
          "histogram2d": [
           {
            "colorbar": {
             "outlinewidth": 0,
             "ticks": ""
            },
            "colorscale": [
             [
              0,
              "#0d0887"
             ],
             [
              0.1111111111111111,
              "#46039f"
             ],
             [
              0.2222222222222222,
              "#7201a8"
             ],
             [
              0.3333333333333333,
              "#9c179e"
             ],
             [
              0.4444444444444444,
              "#bd3786"
             ],
             [
              0.5555555555555556,
              "#d8576b"
             ],
             [
              0.6666666666666666,
              "#ed7953"
             ],
             [
              0.7777777777777778,
              "#fb9f3a"
             ],
             [
              0.8888888888888888,
              "#fdca26"
             ],
             [
              1,
              "#f0f921"
             ]
            ],
            "type": "histogram2d"
           }
          ],
          "histogram2dcontour": [
           {
            "colorbar": {
             "outlinewidth": 0,
             "ticks": ""
            },
            "colorscale": [
             [
              0,
              "#0d0887"
             ],
             [
              0.1111111111111111,
              "#46039f"
             ],
             [
              0.2222222222222222,
              "#7201a8"
             ],
             [
              0.3333333333333333,
              "#9c179e"
             ],
             [
              0.4444444444444444,
              "#bd3786"
             ],
             [
              0.5555555555555556,
              "#d8576b"
             ],
             [
              0.6666666666666666,
              "#ed7953"
             ],
             [
              0.7777777777777778,
              "#fb9f3a"
             ],
             [
              0.8888888888888888,
              "#fdca26"
             ],
             [
              1,
              "#f0f921"
             ]
            ],
            "type": "histogram2dcontour"
           }
          ],
          "mesh3d": [
           {
            "colorbar": {
             "outlinewidth": 0,
             "ticks": ""
            },
            "type": "mesh3d"
           }
          ],
          "parcoords": [
           {
            "line": {
             "colorbar": {
              "outlinewidth": 0,
              "ticks": ""
             }
            },
            "type": "parcoords"
           }
          ],
          "pie": [
           {
            "automargin": true,
            "type": "pie"
           }
          ],
          "scatter": [
           {
            "marker": {
             "colorbar": {
              "outlinewidth": 0,
              "ticks": ""
             }
            },
            "type": "scatter"
           }
          ],
          "scatter3d": [
           {
            "line": {
             "colorbar": {
              "outlinewidth": 0,
              "ticks": ""
             }
            },
            "marker": {
             "colorbar": {
              "outlinewidth": 0,
              "ticks": ""
             }
            },
            "type": "scatter3d"
           }
          ],
          "scattercarpet": [
           {
            "marker": {
             "colorbar": {
              "outlinewidth": 0,
              "ticks": ""
             }
            },
            "type": "scattercarpet"
           }
          ],
          "scattergeo": [
           {
            "marker": {
             "colorbar": {
              "outlinewidth": 0,
              "ticks": ""
             }
            },
            "type": "scattergeo"
           }
          ],
          "scattergl": [
           {
            "marker": {
             "colorbar": {
              "outlinewidth": 0,
              "ticks": ""
             }
            },
            "type": "scattergl"
           }
          ],
          "scattermapbox": [
           {
            "marker": {
             "colorbar": {
              "outlinewidth": 0,
              "ticks": ""
             }
            },
            "type": "scattermapbox"
           }
          ],
          "scatterpolar": [
           {
            "marker": {
             "colorbar": {
              "outlinewidth": 0,
              "ticks": ""
             }
            },
            "type": "scatterpolar"
           }
          ],
          "scatterpolargl": [
           {
            "marker": {
             "colorbar": {
              "outlinewidth": 0,
              "ticks": ""
             }
            },
            "type": "scatterpolargl"
           }
          ],
          "scatterternary": [
           {
            "marker": {
             "colorbar": {
              "outlinewidth": 0,
              "ticks": ""
             }
            },
            "type": "scatterternary"
           }
          ],
          "surface": [
           {
            "colorbar": {
             "outlinewidth": 0,
             "ticks": ""
            },
            "colorscale": [
             [
              0,
              "#0d0887"
             ],
             [
              0.1111111111111111,
              "#46039f"
             ],
             [
              0.2222222222222222,
              "#7201a8"
             ],
             [
              0.3333333333333333,
              "#9c179e"
             ],
             [
              0.4444444444444444,
              "#bd3786"
             ],
             [
              0.5555555555555556,
              "#d8576b"
             ],
             [
              0.6666666666666666,
              "#ed7953"
             ],
             [
              0.7777777777777778,
              "#fb9f3a"
             ],
             [
              0.8888888888888888,
              "#fdca26"
             ],
             [
              1,
              "#f0f921"
             ]
            ],
            "type": "surface"
           }
          ],
          "table": [
           {
            "cells": {
             "fill": {
              "color": "#EBF0F8"
             },
             "line": {
              "color": "white"
             }
            },
            "header": {
             "fill": {
              "color": "#C8D4E3"
             },
             "line": {
              "color": "white"
             }
            },
            "type": "table"
           }
          ]
         },
         "layout": {
          "annotationdefaults": {
           "arrowcolor": "#2a3f5f",
           "arrowhead": 0,
           "arrowwidth": 1
          },
          "autotypenumbers": "strict",
          "coloraxis": {
           "colorbar": {
            "outlinewidth": 0,
            "ticks": ""
           }
          },
          "colorscale": {
           "diverging": [
            [
             0,
             "#8e0152"
            ],
            [
             0.1,
             "#c51b7d"
            ],
            [
             0.2,
             "#de77ae"
            ],
            [
             0.3,
             "#f1b6da"
            ],
            [
             0.4,
             "#fde0ef"
            ],
            [
             0.5,
             "#f7f7f7"
            ],
            [
             0.6,
             "#e6f5d0"
            ],
            [
             0.7,
             "#b8e186"
            ],
            [
             0.8,
             "#7fbc41"
            ],
            [
             0.9,
             "#4d9221"
            ],
            [
             1,
             "#276419"
            ]
           ],
           "sequential": [
            [
             0,
             "#0d0887"
            ],
            [
             0.1111111111111111,
             "#46039f"
            ],
            [
             0.2222222222222222,
             "#7201a8"
            ],
            [
             0.3333333333333333,
             "#9c179e"
            ],
            [
             0.4444444444444444,
             "#bd3786"
            ],
            [
             0.5555555555555556,
             "#d8576b"
            ],
            [
             0.6666666666666666,
             "#ed7953"
            ],
            [
             0.7777777777777778,
             "#fb9f3a"
            ],
            [
             0.8888888888888888,
             "#fdca26"
            ],
            [
             1,
             "#f0f921"
            ]
           ],
           "sequentialminus": [
            [
             0,
             "#0d0887"
            ],
            [
             0.1111111111111111,
             "#46039f"
            ],
            [
             0.2222222222222222,
             "#7201a8"
            ],
            [
             0.3333333333333333,
             "#9c179e"
            ],
            [
             0.4444444444444444,
             "#bd3786"
            ],
            [
             0.5555555555555556,
             "#d8576b"
            ],
            [
             0.6666666666666666,
             "#ed7953"
            ],
            [
             0.7777777777777778,
             "#fb9f3a"
            ],
            [
             0.8888888888888888,
             "#fdca26"
            ],
            [
             1,
             "#f0f921"
            ]
           ]
          },
          "colorway": [
           "#636efa",
           "#EF553B",
           "#00cc96",
           "#ab63fa",
           "#FFA15A",
           "#19d3f3",
           "#FF6692",
           "#B6E880",
           "#FF97FF",
           "#FECB52"
          ],
          "font": {
           "color": "#2a3f5f"
          },
          "geo": {
           "bgcolor": "white",
           "lakecolor": "white",
           "landcolor": "#E5ECF6",
           "showlakes": true,
           "showland": true,
           "subunitcolor": "white"
          },
          "hoverlabel": {
           "align": "left"
          },
          "hovermode": "closest",
          "mapbox": {
           "style": "light"
          },
          "paper_bgcolor": "white",
          "plot_bgcolor": "#E5ECF6",
          "polar": {
           "angularaxis": {
            "gridcolor": "white",
            "linecolor": "white",
            "ticks": ""
           },
           "bgcolor": "#E5ECF6",
           "radialaxis": {
            "gridcolor": "white",
            "linecolor": "white",
            "ticks": ""
           }
          },
          "scene": {
           "xaxis": {
            "backgroundcolor": "#E5ECF6",
            "gridcolor": "white",
            "gridwidth": 2,
            "linecolor": "white",
            "showbackground": true,
            "ticks": "",
            "zerolinecolor": "white"
           },
           "yaxis": {
            "backgroundcolor": "#E5ECF6",
            "gridcolor": "white",
            "gridwidth": 2,
            "linecolor": "white",
            "showbackground": true,
            "ticks": "",
            "zerolinecolor": "white"
           },
           "zaxis": {
            "backgroundcolor": "#E5ECF6",
            "gridcolor": "white",
            "gridwidth": 2,
            "linecolor": "white",
            "showbackground": true,
            "ticks": "",
            "zerolinecolor": "white"
           }
          },
          "shapedefaults": {
           "line": {
            "color": "#2a3f5f"
           }
          },
          "ternary": {
           "aaxis": {
            "gridcolor": "white",
            "linecolor": "white",
            "ticks": ""
           },
           "baxis": {
            "gridcolor": "white",
            "linecolor": "white",
            "ticks": ""
           },
           "bgcolor": "#E5ECF6",
           "caxis": {
            "gridcolor": "white",
            "linecolor": "white",
            "ticks": ""
           }
          },
          "title": {
           "x": 0.05
          },
          "xaxis": {
           "automargin": true,
           "gridcolor": "white",
           "linecolor": "white",
           "ticks": "",
           "title": {
            "standoff": 15
           },
           "zerolinecolor": "white",
           "zerolinewidth": 2
          },
          "yaxis": {
           "automargin": true,
           "gridcolor": "white",
           "linecolor": "white",
           "ticks": "",
           "title": {
            "standoff": 15
           },
           "zerolinecolor": "white",
           "zerolinewidth": 2
          }
         }
        },
        "xaxis": {
         "anchor": "y",
         "domain": [
          0,
          1
         ],
         "title": {
          "text": "PC0_(56.84%)"
         }
        },
        "yaxis": {
         "anchor": "x",
         "domain": [
          0,
          1
         ],
         "title": {
          "text": "PC1_(28.61%)"
         }
        }
       }
      },
      "text/html": [
       "<div>                            <div id=\"d8827c49-9a67-47d8-a05f-76e219badf4c\" class=\"plotly-graph-div\" style=\"height:525px; width:100%;\"></div>            <script type=\"text/javascript\">                require([\"plotly\"], function(Plotly) {                    window.PLOTLYENV=window.PLOTLYENV || {};                                    if (document.getElementById(\"d8827c49-9a67-47d8-a05f-76e219badf4c\")) {                    Plotly.newPlot(                        \"d8827c49-9a67-47d8-a05f-76e219badf4c\",                        [{\"hovertemplate\":\"from=Shayya<br>PC0_(56.84%)=%{x}<br>PC1_(28.61%)=%{y}<extra></extra>\",\"legendgroup\":\"Shayya\",\"marker\":{\"color\":\"#636efa\",\"symbol\":\"circle\",\"size\":15},\"mode\":\"markers\",\"name\":\"Shayya\",\"orientation\":\"v\",\"showlegend\":true,\"x\":[-27.71208155071577],\"xaxis\":\"x\",\"y\":[-30.48841805986279],\"yaxis\":\"y\",\"type\":\"scatter\"},{\"hovertemplate\":\"from=Zazhytska<br>PC0_(56.84%)=%{x}<br>PC1_(28.61%)=%{y}<extra></extra>\",\"legendgroup\":\"Zazhytska\",\"marker\":{\"color\":\"#EF553B\",\"symbol\":\"circle\",\"size\":15},\"mode\":\"markers\",\"name\":\"Zazhytska\",\"orientation\":\"v\",\"showlegend\":true,\"x\":[-37.81531983007042,-37.815319830070415],\"xaxis\":\"x\",\"y\":[-7.356083048513307,-7.356083048513305],\"yaxis\":\"y\",\"type\":\"scatter\"},{\"hovertemplate\":\"from=Brann<br>PC0_(56.84%)=%{x}<br>PC1_(28.61%)=%{y}<extra></extra>\",\"legendgroup\":\"Brann\",\"marker\":{\"color\":\"#00cc96\",\"symbol\":\"circle\",\"size\":15},\"mode\":\"markers\",\"name\":\"Brann\",\"orientation\":\"v\",\"showlegend\":true,\"x\":[55.58314426621978,-13.748515742453314,48.33333006535955,13.174762621730626],\"xaxis\":\"x\",\"y\":[4.58494886329751,39.606008949030524,-31.99409133491028,33.003717679471634],\"yaxis\":\"y\",\"type\":\"scatter\"}],                        {\"template\":{\"data\":{\"bar\":[{\"error_x\":{\"color\":\"#2a3f5f\"},\"error_y\":{\"color\":\"#2a3f5f\"},\"marker\":{\"line\":{\"color\":\"#E5ECF6\",\"width\":0.5},\"pattern\":{\"fillmode\":\"overlay\",\"size\":10,\"solidity\":0.2}},\"type\":\"bar\"}],\"barpolar\":[{\"marker\":{\"line\":{\"color\":\"#E5ECF6\",\"width\":0.5},\"pattern\":{\"fillmode\":\"overlay\",\"size\":10,\"solidity\":0.2}},\"type\":\"barpolar\"}],\"carpet\":[{\"aaxis\":{\"endlinecolor\":\"#2a3f5f\",\"gridcolor\":\"white\",\"linecolor\":\"white\",\"minorgridcolor\":\"white\",\"startlinecolor\":\"#2a3f5f\"},\"baxis\":{\"endlinecolor\":\"#2a3f5f\",\"gridcolor\":\"white\",\"linecolor\":\"white\",\"minorgridcolor\":\"white\",\"startlinecolor\":\"#2a3f5f\"},\"type\":\"carpet\"}],\"choropleth\":[{\"colorbar\":{\"outlinewidth\":0,\"ticks\":\"\"},\"type\":\"choropleth\"}],\"contour\":[{\"colorbar\":{\"outlinewidth\":0,\"ticks\":\"\"},\"colorscale\":[[0.0,\"#0d0887\"],[0.1111111111111111,\"#46039f\"],[0.2222222222222222,\"#7201a8\"],[0.3333333333333333,\"#9c179e\"],[0.4444444444444444,\"#bd3786\"],[0.5555555555555556,\"#d8576b\"],[0.6666666666666666,\"#ed7953\"],[0.7777777777777778,\"#fb9f3a\"],[0.8888888888888888,\"#fdca26\"],[1.0,\"#f0f921\"]],\"type\":\"contour\"}],\"contourcarpet\":[{\"colorbar\":{\"outlinewidth\":0,\"ticks\":\"\"},\"type\":\"contourcarpet\"}],\"heatmap\":[{\"colorbar\":{\"outlinewidth\":0,\"ticks\":\"\"},\"colorscale\":[[0.0,\"#0d0887\"],[0.1111111111111111,\"#46039f\"],[0.2222222222222222,\"#7201a8\"],[0.3333333333333333,\"#9c179e\"],[0.4444444444444444,\"#bd3786\"],[0.5555555555555556,\"#d8576b\"],[0.6666666666666666,\"#ed7953\"],[0.7777777777777778,\"#fb9f3a\"],[0.8888888888888888,\"#fdca26\"],[1.0,\"#f0f921\"]],\"type\":\"heatmap\"}],\"heatmapgl\":[{\"colorbar\":{\"outlinewidth\":0,\"ticks\":\"\"},\"colorscale\":[[0.0,\"#0d0887\"],[0.1111111111111111,\"#46039f\"],[0.2222222222222222,\"#7201a8\"],[0.3333333333333333,\"#9c179e\"],[0.4444444444444444,\"#bd3786\"],[0.5555555555555556,\"#d8576b\"],[0.6666666666666666,\"#ed7953\"],[0.7777777777777778,\"#fb9f3a\"],[0.8888888888888888,\"#fdca26\"],[1.0,\"#f0f921\"]],\"type\":\"heatmapgl\"}],\"histogram\":[{\"marker\":{\"pattern\":{\"fillmode\":\"overlay\",\"size\":10,\"solidity\":0.2}},\"type\":\"histogram\"}],\"histogram2d\":[{\"colorbar\":{\"outlinewidth\":0,\"ticks\":\"\"},\"colorscale\":[[0.0,\"#0d0887\"],[0.1111111111111111,\"#46039f\"],[0.2222222222222222,\"#7201a8\"],[0.3333333333333333,\"#9c179e\"],[0.4444444444444444,\"#bd3786\"],[0.5555555555555556,\"#d8576b\"],[0.6666666666666666,\"#ed7953\"],[0.7777777777777778,\"#fb9f3a\"],[0.8888888888888888,\"#fdca26\"],[1.0,\"#f0f921\"]],\"type\":\"histogram2d\"}],\"histogram2dcontour\":[{\"colorbar\":{\"outlinewidth\":0,\"ticks\":\"\"},\"colorscale\":[[0.0,\"#0d0887\"],[0.1111111111111111,\"#46039f\"],[0.2222222222222222,\"#7201a8\"],[0.3333333333333333,\"#9c179e\"],[0.4444444444444444,\"#bd3786\"],[0.5555555555555556,\"#d8576b\"],[0.6666666666666666,\"#ed7953\"],[0.7777777777777778,\"#fb9f3a\"],[0.8888888888888888,\"#fdca26\"],[1.0,\"#f0f921\"]],\"type\":\"histogram2dcontour\"}],\"mesh3d\":[{\"colorbar\":{\"outlinewidth\":0,\"ticks\":\"\"},\"type\":\"mesh3d\"}],\"parcoords\":[{\"line\":{\"colorbar\":{\"outlinewidth\":0,\"ticks\":\"\"}},\"type\":\"parcoords\"}],\"pie\":[{\"automargin\":true,\"type\":\"pie\"}],\"scatter\":[{\"marker\":{\"colorbar\":{\"outlinewidth\":0,\"ticks\":\"\"}},\"type\":\"scatter\"}],\"scatter3d\":[{\"line\":{\"colorbar\":{\"outlinewidth\":0,\"ticks\":\"\"}},\"marker\":{\"colorbar\":{\"outlinewidth\":0,\"ticks\":\"\"}},\"type\":\"scatter3d\"}],\"scattercarpet\":[{\"marker\":{\"colorbar\":{\"outlinewidth\":0,\"ticks\":\"\"}},\"type\":\"scattercarpet\"}],\"scattergeo\":[{\"marker\":{\"colorbar\":{\"outlinewidth\":0,\"ticks\":\"\"}},\"type\":\"scattergeo\"}],\"scattergl\":[{\"marker\":{\"colorbar\":{\"outlinewidth\":0,\"ticks\":\"\"}},\"type\":\"scattergl\"}],\"scattermapbox\":[{\"marker\":{\"colorbar\":{\"outlinewidth\":0,\"ticks\":\"\"}},\"type\":\"scattermapbox\"}],\"scatterpolar\":[{\"marker\":{\"colorbar\":{\"outlinewidth\":0,\"ticks\":\"\"}},\"type\":\"scatterpolar\"}],\"scatterpolargl\":[{\"marker\":{\"colorbar\":{\"outlinewidth\":0,\"ticks\":\"\"}},\"type\":\"scatterpolargl\"}],\"scatterternary\":[{\"marker\":{\"colorbar\":{\"outlinewidth\":0,\"ticks\":\"\"}},\"type\":\"scatterternary\"}],\"surface\":[{\"colorbar\":{\"outlinewidth\":0,\"ticks\":\"\"},\"colorscale\":[[0.0,\"#0d0887\"],[0.1111111111111111,\"#46039f\"],[0.2222222222222222,\"#7201a8\"],[0.3333333333333333,\"#9c179e\"],[0.4444444444444444,\"#bd3786\"],[0.5555555555555556,\"#d8576b\"],[0.6666666666666666,\"#ed7953\"],[0.7777777777777778,\"#fb9f3a\"],[0.8888888888888888,\"#fdca26\"],[1.0,\"#f0f921\"]],\"type\":\"surface\"}],\"table\":[{\"cells\":{\"fill\":{\"color\":\"#EBF0F8\"},\"line\":{\"color\":\"white\"}},\"header\":{\"fill\":{\"color\":\"#C8D4E3\"},\"line\":{\"color\":\"white\"}},\"type\":\"table\"}]},\"layout\":{\"annotationdefaults\":{\"arrowcolor\":\"#2a3f5f\",\"arrowhead\":0,\"arrowwidth\":1},\"autotypenumbers\":\"strict\",\"coloraxis\":{\"colorbar\":{\"outlinewidth\":0,\"ticks\":\"\"}},\"colorscale\":{\"diverging\":[[0,\"#8e0152\"],[0.1,\"#c51b7d\"],[0.2,\"#de77ae\"],[0.3,\"#f1b6da\"],[0.4,\"#fde0ef\"],[0.5,\"#f7f7f7\"],[0.6,\"#e6f5d0\"],[0.7,\"#b8e186\"],[0.8,\"#7fbc41\"],[0.9,\"#4d9221\"],[1,\"#276419\"]],\"sequential\":[[0.0,\"#0d0887\"],[0.1111111111111111,\"#46039f\"],[0.2222222222222222,\"#7201a8\"],[0.3333333333333333,\"#9c179e\"],[0.4444444444444444,\"#bd3786\"],[0.5555555555555556,\"#d8576b\"],[0.6666666666666666,\"#ed7953\"],[0.7777777777777778,\"#fb9f3a\"],[0.8888888888888888,\"#fdca26\"],[1.0,\"#f0f921\"]],\"sequentialminus\":[[0.0,\"#0d0887\"],[0.1111111111111111,\"#46039f\"],[0.2222222222222222,\"#7201a8\"],[0.3333333333333333,\"#9c179e\"],[0.4444444444444444,\"#bd3786\"],[0.5555555555555556,\"#d8576b\"],[0.6666666666666666,\"#ed7953\"],[0.7777777777777778,\"#fb9f3a\"],[0.8888888888888888,\"#fdca26\"],[1.0,\"#f0f921\"]]},\"colorway\":[\"#636efa\",\"#EF553B\",\"#00cc96\",\"#ab63fa\",\"#FFA15A\",\"#19d3f3\",\"#FF6692\",\"#B6E880\",\"#FF97FF\",\"#FECB52\"],\"font\":{\"color\":\"#2a3f5f\"},\"geo\":{\"bgcolor\":\"white\",\"lakecolor\":\"white\",\"landcolor\":\"#E5ECF6\",\"showlakes\":true,\"showland\":true,\"subunitcolor\":\"white\"},\"hoverlabel\":{\"align\":\"left\"},\"hovermode\":\"closest\",\"mapbox\":{\"style\":\"light\"},\"paper_bgcolor\":\"white\",\"plot_bgcolor\":\"#E5ECF6\",\"polar\":{\"angularaxis\":{\"gridcolor\":\"white\",\"linecolor\":\"white\",\"ticks\":\"\"},\"bgcolor\":\"#E5ECF6\",\"radialaxis\":{\"gridcolor\":\"white\",\"linecolor\":\"white\",\"ticks\":\"\"}},\"scene\":{\"xaxis\":{\"backgroundcolor\":\"#E5ECF6\",\"gridcolor\":\"white\",\"gridwidth\":2,\"linecolor\":\"white\",\"showbackground\":true,\"ticks\":\"\",\"zerolinecolor\":\"white\"},\"yaxis\":{\"backgroundcolor\":\"#E5ECF6\",\"gridcolor\":\"white\",\"gridwidth\":2,\"linecolor\":\"white\",\"showbackground\":true,\"ticks\":\"\",\"zerolinecolor\":\"white\"},\"zaxis\":{\"backgroundcolor\":\"#E5ECF6\",\"gridcolor\":\"white\",\"gridwidth\":2,\"linecolor\":\"white\",\"showbackground\":true,\"ticks\":\"\",\"zerolinecolor\":\"white\"}},\"shapedefaults\":{\"line\":{\"color\":\"#2a3f5f\"}},\"ternary\":{\"aaxis\":{\"gridcolor\":\"white\",\"linecolor\":\"white\",\"ticks\":\"\"},\"baxis\":{\"gridcolor\":\"white\",\"linecolor\":\"white\",\"ticks\":\"\"},\"bgcolor\":\"#E5ECF6\",\"caxis\":{\"gridcolor\":\"white\",\"linecolor\":\"white\",\"ticks\":\"\"}},\"title\":{\"x\":0.05},\"xaxis\":{\"automargin\":true,\"gridcolor\":\"white\",\"linecolor\":\"white\",\"ticks\":\"\",\"title\":{\"standoff\":15},\"zerolinecolor\":\"white\",\"zerolinewidth\":2},\"yaxis\":{\"automargin\":true,\"gridcolor\":\"white\",\"linecolor\":\"white\",\"ticks\":\"\",\"title\":{\"standoff\":15},\"zerolinecolor\":\"white\",\"zerolinewidth\":2}}},\"xaxis\":{\"anchor\":\"y\",\"domain\":[0.0,1.0],\"title\":{\"text\":\"PC0_(56.84%)\"}},\"yaxis\":{\"anchor\":\"x\",\"domain\":[0.0,1.0],\"title\":{\"text\":\"PC1_(28.61%)\"}},\"legend\":{\"title\":{\"text\":\"from\"},\"tracegroupgap\":0},\"margin\":{\"t\":60}},                        {\"responsive\": true}                    ).then(function(){\n",
       "                            \n",
       "var gd = document.getElementById('d8827c49-9a67-47d8-a05f-76e219badf4c');\n",
       "var x = new MutationObserver(function (mutations, observer) {{\n",
       "        var display = window.getComputedStyle(gd).display;\n",
       "        if (!display || display === 'none') {{\n",
       "            console.log([gd, 'removed!']);\n",
       "            Plotly.purge(gd);\n",
       "            observer.disconnect();\n",
       "        }}\n",
       "}});\n",
       "\n",
       "// Listen for the removal of the full notebook cells\n",
       "var notebookContainer = gd.closest('#notebook-container');\n",
       "if (notebookContainer) {{\n",
       "    x.observe(notebookContainer, {childList: true});\n",
       "}}\n",
       "\n",
       "// Listen for the clearing of the current output cell\n",
       "var outputEl = gd.closest('.output');\n",
       "if (outputEl) {{\n",
       "    x.observe(outputEl, {childList: true});\n",
       "}}\n",
       "\n",
       "                        })                };                });            </script>        </div>"
      ]
     },
     "metadata": {},
     "output_type": "display_data"
    }
   ],
   "source": [
    "fig = px.scatter(pca_df, x=pca_df.columns[0], \n",
    "                         y=pca_df.columns[1], \n",
    "                 color='from', \n",
    "                title = \"\")\n",
    "fig.update_traces(marker=dict(size=15))\n",
    "fig.show()\n",
    "fig.write_html(\"../output/GO_analysis/PCA_GO_2.html\")"
   ]
  },
  {
   "cell_type": "code",
   "execution_count": null,
   "id": "8eb18430",
   "metadata": {},
   "outputs": [],
   "source": []
  },
  {
   "cell_type": "code",
   "execution_count": null,
   "id": "30f91cb0",
   "metadata": {},
   "outputs": [],
   "source": []
  },
  {
   "cell_type": "code",
   "execution_count": null,
   "id": "499e3ffa",
   "metadata": {},
   "outputs": [],
   "source": []
  },
  {
   "cell_type": "code",
   "execution_count": null,
   "id": "7a0a8517",
   "metadata": {},
   "outputs": [],
   "source": []
  }
 ],
 "metadata": {
  "kernelspec": {
   "display_name": "Python 3 (ipykernel)",
   "language": "python",
   "name": "python3"
  },
  "language_info": {
   "codemirror_mode": {
    "name": "ipython",
    "version": 3
   },
   "file_extension": ".py",
   "mimetype": "text/x-python",
   "name": "python",
   "nbconvert_exporter": "python",
   "pygments_lexer": "ipython3",
   "version": "3.8.8"
  }
 },
 "nbformat": 4,
 "nbformat_minor": 5
}
