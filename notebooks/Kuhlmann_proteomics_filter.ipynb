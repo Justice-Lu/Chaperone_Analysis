{
 "cells": [
  {
   "cell_type": "markdown",
   "id": "79cf4c1f",
   "metadata": {},
   "source": [
    "The goal of this notebook is to filter the proteomic data obtained in Kuhlmann et al.(https://www.ncbi.nlm.nih.gov/pmc/articles/PMC4083118/) by mOSN specific mRNAs. This way we will have an intuitive proteins specifically extracted from mOSNs. "
   ]
  },
  {
   "cell_type": "code",
   "execution_count": 2,
   "id": "98822f9b",
   "metadata": {},
   "outputs": [],
   "source": [
    "import pandas as pd \n",
    "import numpy as np \n",
    "import os "
   ]
  },
  {
   "cell_type": "code",
   "execution_count": 151,
   "id": "2636bfae",
   "metadata": {},
   "outputs": [],
   "source": [
    "# Open Kuhlmann proteome data \n",
    "data = pd.read_excel('../file/Kuhlmann olfactory cilia proteome supplementary data/supp_M113.035378_mcp.M113.035378-1.xlsx')\n",
    "data = data.iloc[:,0:18] #Selects the first 18 columns "
   ]
  },
  {
   "cell_type": "code",
   "execution_count": 44,
   "id": "d1a63c55",
   "metadata": {},
   "outputs": [],
   "source": [
    "# Take top 1000 cell markers for mOSN and iOSN \n",
    "OSN_mrna = pd.read_csv('../output/brann/CELL_top_markers.csv')[['mOSN', 'iOSN']]\n",
    "OSN_mrna = OSN_mrna[0:1000]"
   ]
  },
  {
   "cell_type": "markdown",
   "id": "6a9f4dbd",
   "metadata": {},
   "source": [
    "filter the genes furhter by top 1000 of iOSN and mOSN cell markers "
   ]
  },
  {
   "cell_type": "code",
   "execution_count": 153,
   "id": "7ad7945f",
   "metadata": {},
   "outputs": [],
   "source": [
    "OSN_list = []\n",
    "for i in OSN_mrna: \n",
    "    OSN_list += (list(OSN_mrna[i]))\n",
    "OSN_list = list(set(OSN_list))"
   ]
  },
  {
   "cell_type": "code",
   "execution_count": null,
   "id": "6208e782",
   "metadata": {
    "scrolled": true
   },
   "outputs": [],
   "source": [
    "OSN_mask = [False]*len(data)\n",
    "for i in OSN_list:\n",
    "    OSN_mask += data['Gene name'].str.contains(i, na=False)\n",
    "data_filterred = data[OSN_mask]\n",
    "\n",
    "# .isin not used as it doesn't matches partial contains \n",
    "# ex. 'Gm604;Rtp1'.isin('Rtp1') == False \n",
    "# OSN_mask = data['Gene name'].isin(OSN_list)\n",
    "# data_filterred = data[OSN_mask]"
   ]
  },
  {
   "cell_type": "code",
   "execution_count": 161,
   "id": "cf129212",
   "metadata": {},
   "outputs": [],
   "source": [
    "# Save file\n",
    "data_filterred.to_csv('../output/Kuhlmann/proteom_filtered_Top1000OSNmrna.csv')"
   ]
  },
  {
   "cell_type": "code",
   "execution_count": null,
   "id": "373465a3",
   "metadata": {},
   "outputs": [],
   "source": []
  }
 ],
 "metadata": {
  "kernelspec": {
   "display_name": "Python 3 (ipykernel)",
   "language": "python",
   "name": "python3"
  },
  "language_info": {
   "codemirror_mode": {
    "name": "ipython",
    "version": 3
   },
   "file_extension": ".py",
   "mimetype": "text/x-python",
   "name": "python",
   "nbconvert_exporter": "python",
   "pygments_lexer": "ipython3",
   "version": "3.8.8"
  }
 },
 "nbformat": 4,
 "nbformat_minor": 5
}
